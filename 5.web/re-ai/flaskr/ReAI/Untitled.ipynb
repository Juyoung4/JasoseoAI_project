{
 "cells": [
  {
   "cell_type": "code",
   "execution_count": 1,
   "id": "2a4dc766-0900-4a31-b0a9-12882ea1e22b",
   "metadata": {},
   "outputs": [
    {
     "name": "stderr",
     "output_type": "stream",
     "text": [
      "[Korean Sentence Splitter]: Initializing Kss...\n"
     ]
    }
   ],
   "source": [
    "from ReAI import ReAI"
   ]
  },
  {
   "cell_type": "code",
   "execution_count": 2,
   "id": "639a371b-ba80-44dc-b0cd-fedb51ea632f",
   "metadata": {},
   "outputs": [
    {
     "name": "stdout",
     "output_type": "stream",
     "text": [
      "Complete Loding Classifier Model Tokenizer\n"
     ]
    },
    {
     "name": "stderr",
     "output_type": "stream",
     "text": [
      "The tokenizer class you load from this checkpoint is not the same type as the class this function is called from. It may result in unexpected tokenization. \n",
      "The tokenizer class you load from this checkpoint is 'GPT2Tokenizer'. \n",
      "The class this function is called from is 'PreTrainedTokenizerFast'.\n"
     ]
    },
    {
     "name": "stdout",
     "output_type": "stream",
     "text": [
      "Complete Loding Recommed Model Tokenizer\n"
     ]
    },
    {
     "name": "stderr",
     "output_type": "stream",
     "text": [
      "Some layers from the model checkpoint at monologg/koelectra-base-v3-discriminator were not used when initializing TFElectraModel: ['discriminator_predictions']\n",
      "- This IS expected if you are initializing TFElectraModel from the checkpoint of a model trained on another task or with another architecture (e.g. initializing a BertForSequenceClassification model from a BertForPreTraining model).\n",
      "- This IS NOT expected if you are initializing TFElectraModel from the checkpoint of a model that you expect to be exactly identical (initializing a BertForSequenceClassification model from a BertForSequenceClassification model).\n",
      "All the layers of TFElectraModel were initialized from the model checkpoint at monologg/koelectra-base-v3-discriminator.\n",
      "If your task is similar to the task the model of the checkpoint was trained on, you can already use TFElectraModel for predictions without further training.\n"
     ]
    },
    {
     "name": "stdout",
     "output_type": "stream",
     "text": [
      "Complete Loding Classifier Model\n"
     ]
    },
    {
     "name": "stderr",
     "output_type": "stream",
     "text": [
      "All model checkpoint layers were used when initializing TFGPT2LMHeadModel.\n",
      "\n",
      "All the layers of TFGPT2LMHeadModel were initialized from the model checkpoint at 4.models/Recommend/.\n",
      "If your task is similar to the task the model of the checkpoint was trained on, you can already use TFGPT2LMHeadModel for predictions without further training.\n"
     ]
    },
    {
     "name": "stdout",
     "output_type": "stream",
     "text": [
      "Complete Loding sentenceRecommend Model\n"
     ]
    }
   ],
   "source": [
    "we = ReAI(generateNum=5)"
   ]
  },
  {
   "cell_type": "raw",
   "id": "788de5b9-51db-40d8-b766-ce99d409ba93",
   "metadata": {},
   "source": [
    "text = '''\n",
    "\"도전을 통해 성장하는 것이 저의 가치관입니다\"\n",
    "\n",
    "저의 가치관은 도전을 통해 성장하는 것입니다. 아르바이트가 나태하고 힘들었던 저는 도망가고 싶었습니다. 현실에(현실은 생각보다 힘들다) 안주하기 보다는 더 나은 사회를 위해 도전하며 저를 성장시키는 삶을 살고 싶기 때문입니다. \n",
    "\n",
    "한때 저는 안정적이고, 편안한 삶을 추구했습니다. 이에 새로운 기회가 있을 때 이를 도전하지 않았습니다. 하지만 저의 친구는 달랐습니다. 이 프로젝트는 복지를 받을 수 있지만 해당 복지 제도에 대한 정보가 부족해 복지 혜택을 놓치는 사람들을 위해 시작하였습니다. 항상 무언가를 준비하고, 끊임없이 도전하였습니다. 불가능할 것이라고 생각했던 일들을 실현하고, 달성하는 모습을 보며 멋있고, 부럽다는 생각이 들었습니다. 이에 도전의 필요성을 절감하였고, 저 역시 새로움에 망설이지 않고, 도전하기 시작했습니다. 1 투자동아리, 마케팅 서포터즈, 베트남 해외봉사, 이탈리아 교환학생 등 새로운 도전에서 쉬운 것은 하나도 없었습니다. 하지만 어려움을 극복하는 과정에서, 저를 성장시킬 수 있었고, 증권업에서의 기획업무를 하고 싶다는 저만의 비전을 갖게 되었습니다. 또한 이를 통해 도전의 가치를 몸소 배웠습니다. 향후 하이투자증권에서 금융사업의 안전성을 높이는 기획가라는 새로운 도전을 하고 이를 통해 저의 비전과 가치관을 실현하겠습니다.\n",
    "\n",
    "(현실은 생각보다 힘들다)\n",
    "⓵우리집은 너무너무 춥다\n",
    "'''\n",
    "\n",
    "lastSentence = '마지막으로 학부 논문들을 재분석하고 팀원들과 회의를 진행하여 체계적으로 설계한 데이터 전처리 과정으로 단어를 3글자까지만 잘라 모델을 훈련했습니다.'\n",
    "\n",
    "lastSentence = '해당 프로젝트에서 seq2seq 모델을 이용한 자동 요약 해드라인 추출 구현을 맡았습니다.'"
   ]
  },
  {
   "cell_type": "code",
   "execution_count": 3,
   "id": "74c4af20-943e-4732-9983-dc5b548e42f3",
   "metadata": {},
   "outputs": [],
   "source": [
    "text = '''\n",
    "\"도전을 통해 성장하는 것이 저의 가치관입니다\"\n",
    "\n",
    "저의 가치관은 도전을 통해 성장하는 것입니다. 아르바이트가 나태하고 힘들었던 저는 도망가고 싶었습니다. 현실에(현실은 생각보다 힘들다) 안주하기 보다는 더 나은 사회를 위해 도전하며 저를 성장시키는 삶을 살고 싶기 때문입니다. \n",
    "\n",
    "한때 저는 안정적이고, 편안한 삶을 추구했습니다. 이에 새로운 기회가 있을 때 이를 도전하지 않았습니다. 하지만 저의 친구는 달랐습니다. 이 프로젝트는 복지를 받을 수 있지만 해당 복지 제도에 대한 정보가 부족해 복지 혜택을 놓치는 사람들을 위해 시작하였습니다. 항상 무언가를 준비하고, 끊임없이 도전하였습니다. 불가능할 것이라고 생각했던 일들을 실현하고, 달성하는 모습을 보며 멋있고, 부럽다는 생각이 들었습니다. 이에 도전의 필요성을 절감하였고, 저 역시 새로움에 망설이지 않고, 도전하기 시작했습니다. 1 투자동아리, 마케팅 서포터즈, 베트남 해외봉사, 이탈리아 교환학생 등 새로운 도전에서 쉬운 것은 하나도 없었습니다. 하지만 어려움을 극복하는 과정에서, 저를 성장시킬 수 있었고, 증권업에서의 기획업무를 하고 싶다는 저만의 비전을 갖게 되었습니다. 또한 이를 통해 도전의 가치를 몸소 배웠습니다. 향후 하이투자증권에서 금융사업의 안전성을 높이는 기획가라는 새로운 도전을 하고 이를 통해 저의 비전과 가치관을 실현하겠습니다.\n",
    "\n",
    "(현실은 생각보다 힘들다)\n",
    "⓵우리집은 너무너무 춥다\n",
    "'''\n",
    "\n",
    "lastSentence = '마지막으로 학부 논문들을 재분석하고 팀원들과 회의를 진행하여 체계적으로 설계한 데이터 전처리 과정으로 단어를 3글자까지만 잘라 모델을 훈련했습니다.'\n",
    "\n",
    "lastSentence = '해당 프로젝트에서 seq2seq 모델을 이용한 자동 요약 해드라인 추출 구현을 맡았습니다.'"
   ]
  },
  {
   "cell_type": "code",
   "execution_count": 11,
   "id": "d4047a67-dec0-4c68-aefa-2bb3c7cf4cc3",
   "metadata": {},
   "outputs": [],
   "source": [
    "strong, week = we.run_ClassifierModel(text)\n",
    "strong, week"
   ]
  },
  {
   "cell_type": "code",
   "execution_count": 18,
   "id": "647e0f38-ffe3-4dec-a8be-7fe08f438e33",
   "metadata": {},
   "outputs": [
    {
     "name": "stdout",
     "output_type": "stream",
     "text": [
      "아르바이트가 나태하고 힘들었던 저는 도망가고 싶었습니다.\n",
      "\n",
      "이 프로젝트는 복지를 받을 수 있지만 해당 복지 제도에 대한 정보가 부족해 복지 혜택을 놓치는 사람들을 위해 시작하였습니다.\n",
      "\n"
     ]
    }
   ],
   "source": [
    "for i in strong:\n",
    "    print(text[i[0]: i[1]])\n",
    "    print()"
   ]
  },
  {
   "cell_type": "code",
   "execution_count": null,
   "id": "04ff886d-cd67-4212-a41a-6e4e183af12a",
   "metadata": {},
   "outputs": [],
   "source": [
    "we.ReAITokenizer.classifer_decode()"
   ]
  },
  {
   "cell_type": "code",
   "execution_count": 4,
   "id": "02cc95d9-a4fb-4eed-a29f-403065a66615",
   "metadata": {},
   "outputs": [
    {
     "data": {
      "text/plain": [
       "['진행 도중, 팀원이 데이터 입력 시 devication 및 tax lay를 요구한다는 것을 파악했습니다.',\n",
       " '프로젝트를 진행하면서 다양한 문제점을 찾아보고 해결방안을 찾아보았습니다.',\n",
       " '그리고 C++ 언어를 배우면서 Java, JSP, JQuery등 언어 처리 툴을 익혔습니다.']"
      ]
     },
     "execution_count": 4,
     "metadata": {},
     "output_type": "execute_result"
    }
   ],
   "source": [
    "we.run_RecommendModel(lastSentence)"
   ]
  },
  {
   "cell_type": "code",
   "execution_count": null,
   "id": "30db3690-4aef-470c-be72-3a190a44f0ff",
   "metadata": {},
   "outputs": [],
   "source": [
    "(te)"
   ]
  }
 ],
 "metadata": {
  "kernelspec": {
   "display_name": "NLP_Project",
   "language": "python",
   "name": "nlp_project"
  },
  "language_info": {
   "codemirror_mode": {
    "name": "ipython",
    "version": 3
   },
   "file_extension": ".py",
   "mimetype": "text/x-python",
   "name": "python",
   "nbconvert_exporter": "python",
   "pygments_lexer": "ipython3",
   "version": "3.8.10"
  }
 },
 "nbformat": 4,
 "nbformat_minor": 5
}
