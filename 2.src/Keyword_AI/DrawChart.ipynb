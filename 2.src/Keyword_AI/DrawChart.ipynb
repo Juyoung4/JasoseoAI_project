{
 "cells": [
  {
   "cell_type": "code",
   "execution_count": 1,
   "id": "da94c105-5309-4b53-ab5c-f0ce112e66cc",
   "metadata": {},
   "outputs": [],
   "source": [
    "import json"
   ]
  },
  {
   "cell_type": "code",
   "execution_count": 2,
   "id": "da54ca3e-c4c4-498a-bd23-ca46f238c04b",
   "metadata": {},
   "outputs": [],
   "source": [
    "with open('/home/ai-sjjy/workspace/juyoung/JasoseoAI_project/2.src/Keyword_AI/dataset/FianlCompanyInfo3.json', 'r') as f:\n",
    "    CompanyInfos = json.load(f)"
   ]
  },
  {
   "cell_type": "code",
   "execution_count": 12,
   "id": "6dfadc68-b9d8-4b3f-a684-0d1ac8d121c1",
   "metadata": {},
   "outputs": [],
   "source": [
    "from wordcloud import WordCloud\n",
    "from collections import Counter\n",
    "from wordcloud import ImageColorGenerator\n",
    "\n",
    "import numpy as np\n",
    "from PIL import Image\n",
    "\n",
    "import matplotlib.pyplot as plt\n",
    "\n",
    "import re"
   ]
  },
  {
   "cell_type": "code",
   "execution_count": 5,
   "id": "abe8743d-5f45-4397-99ac-64734c769032",
   "metadata": {},
   "outputs": [],
   "source": [
    "Company_words1 = dict()\n",
    "for key, value in CompanyInfos.items():\n",
    "    Company_words1[key] = []\n",
    "    for word in value['preprocess']:\n",
    "        Company_words1[key] += word.split(\" \")"
   ]
  },
  {
   "cell_type": "code",
   "execution_count": 6,
   "id": "c485424c-4765-4215-9a13-b36c21efb5c0",
   "metadata": {},
   "outputs": [],
   "source": [
    "from pykospacing import Spacing\n",
    "\n",
    "spacing = Spacing()\n",
    "\n",
    "from konlpy.tag import Mecab\n",
    "mecab = Mecab()"
   ]
  },
  {
   "cell_type": "code",
   "execution_count": 10,
   "id": "56805eb7-0077-4bba-b2d7-f0abc7991144",
   "metadata": {},
   "outputs": [],
   "source": [
    "stopwords = set()\n",
    "addWords = set()\n",
    "\n",
    "f = open('/home/ai-sjjy/workspace/juyoung/JasoseoAI_project/2.src/Keyword_AI/dataset/stopwords_final.txt')\n",
    "while True:\n",
    "    line = f.readline()\n",
    "    if not line:break\n",
    "    stopwords.add(line[:-1])\n",
    "f.close()\n",
    "\n",
    "f = open('/home/ai-sjjy/workspace/juyoung/JasoseoAI_project/2.src/Keyword_AI/dataset/addwords_final.txt')\n",
    "while True:\n",
    "    line = f.readline()\n",
    "    if not line:break\n",
    "    addWords.add(line[:-1])\n",
    "f.close()"
   ]
  },
  {
   "cell_type": "code",
   "execution_count": 22,
   "id": "1e96cc2c-63b9-4a61-b549-d48fa0d2d733",
   "metadata": {},
   "outputs": [],
   "source": [
    "def clean_content(sentences, stopwords):\n",
    "    sentences_words = []\n",
    "\n",
    "    for sentence in sentences:\n",
    "        # 정규 표현식 필터 1 - 기호 제거(한글, 숫자, 영어 => )\n",
    "        sentence = spacing(sentence) \n",
    "        sentence = re.sub('[^a-f가-힣 ]', \"\", sentence.lower())\n",
    "\n",
    "        new_words = []\n",
    "        for word, pos in mecab.pos(sentence):\n",
    "            if \"NNG\" in pos or \"NNP\" in pos or \"VA\" in pos:\n",
    "                if word not in stopwords:\n",
    "                    sentences_words.append(word.strip())\n",
    "\n",
    "    return sentences_words"
   ]
  },
  {
   "cell_type": "code",
   "execution_count": 20,
   "id": "e8c5ed96-34f9-44dc-9094-a68f707620a6",
   "metadata": {},
   "outputs": [],
   "source": [
    "text = [\n",
    "    \"저는 대학교 1학년 때, 아울렛에 있는 한 의류매장에서 알바를 하게 되었습니다. \",\n",
    "    \"평소 사람들을 대하는 데에 관심이 많기도 했고, 옷을 좋아하던 터라 여러 종류의 옷을 판매한다는 점에 흥미를 느껴 시작하게 되었습니다. \",\n",
    "    \"제가 일하는 매장은 스파 브랜드여서 남녀노소 다양한 연령층이 방문하셨습니다. \",\n",
    "    \"그중, 유행에 민감한 제 또래의 학생들은 부츠컷 바지 등 그해 트렌드를 반영한 스타일들을 선호하셨고, 직장인들은 출근할 때 무난하게 입을 수 있는 셔츠나 슬랙스 등을 자주 사 가셨으며, 중. 장년층들의 고객들은 몸에 붙지 않고 편하게 입을 수 있으며, 체형 커버도 되는 스타일의 옷을 선호하셨습니다. \",\n",
    "    \"또, 여성 고객들은 대체로 직접 옷을 입어보고 자신에게 어울리는 스타일들을 알아서 사 가시는 반면, 남성 고객들은 옷을 사러 왔을 때 어색해하며 자신에게 어울리는 옷을 추천해달라고 하는 분들이 많았습니다.\",\n",
    "    \"이를 통해 각 연령층에 따라, 성별에 따라 다르게 접근을 해야 고객의 니즈(Needs)를 파악하고, 구매로 이루어질 수 있게 한다는 것을 느꼈습니다.\",\n",
    "    \"대학교 3학년쯤, 교수님들은 입을 맞춘 것처럼 들어오는 수업마다 취업에 대한 얘기를 꺼내셨습니다. \",\n",
    "    \"하지만, 저는 이 시기에 하고 싶은 것도 모르겠고, 다른 사람들에 비해 뚜렷하게 잘하는 것도 없다고 느껴 막막한 생각만 들었습니다. \",\n",
    "    \"그러나, “의료관광 마케팅론” 수업을 듣고 난 후, 이는 저에게 큰 전환점으로 다가왔습니다.\",\n",
    "    \"이 수업에서는 의료 서비스와 관광 서비스를 합쳐 외국인 고객들을 유치하는 ‘의료관광 서비스’에 대해 배웠는데, 이에도 국가별 고객들에 따른 나름의 전략이 필요하였습니다. \",\n",
    "    \"가장 중점적으로 다룬 개념은 “SWOT” 기법으로, 이 마케팅전략은 Strength(강점), Weakness(약점), Opportunity(기회), Threat(위협)을 분석하는 것으로, 의료 서비스뿐만 아니라 다양한 분야에서 활용되고 있습니다.\",\n",
    "    \"이를 통해, 평소 당연하게만 느꼈던 동네 슈퍼에서 물건의 배치, 간판 등 작은 것에서도 마케팅이 이용되고 있다는 것을 알 수 있었습니다.\",\n",
    "    \"이에 흥미를 느껴 마케팅 관련 직종에서 일하겠다고 다짐하게 되었습니다.\"\n",
    "]"
   ]
  },
  {
   "cell_type": "code",
   "execution_count": 25,
   "id": "a2b9ae7b-f36c-4b72-849d-379b82260890",
   "metadata": {},
   "outputs": [],
   "source": [
    "from krwordrank.word import KRWordRank\n",
    "from krwordrank.sentence import summarize_with_sentences\n",
    "from krwordrank.word import summarize_with_keywords"
   ]
  },
  {
   "cell_type": "code",
   "execution_count": 26,
   "id": "e9b1cb50-e741-4312-9fea-80eff7cb06e1",
   "metadata": {},
   "outputs": [],
   "source": [
    "result = clean_content(text, stopwords)"
   ]
  },
  {
   "cell_type": "code",
   "execution_count": 33,
   "id": "e967f5a9-aedd-4f92-b966-ad9b0a7aced1",
   "metadata": {},
   "outputs": [
    {
     "data": {
      "text/plain": [
       "['의류',\n",
       " '매장',\n",
       " '사람',\n",
       " '판매',\n",
       " '흥미',\n",
       " '매장',\n",
       " '스파',\n",
       " '브랜드',\n",
       " '다양',\n",
       " '연령층',\n",
       " '방문',\n",
       " '유행',\n",
       " '또래',\n",
       " '부츠',\n",
       " '컷',\n",
       " '트렌드',\n",
       " '스타일',\n",
       " '선호',\n",
       " '직장인',\n",
       " '출근',\n",
       " '셔츠',\n",
       " '슬랙스',\n",
       " '장년층',\n",
       " '고객',\n",
       " '체형',\n",
       " '커버',\n",
       " '스타일',\n",
       " '선호',\n",
       " '고객',\n",
       " '스타일',\n",
       " '고객',\n",
       " '추천',\n",
       " '연령층',\n",
       " '고객',\n",
       " '니즈',\n",
       " '파악',\n",
       " '구매',\n",
       " '교수',\n",
       " '수업',\n",
       " '취업',\n",
       " '사람',\n",
       " '생각',\n",
       " '의료관광',\n",
       " '마케팅',\n",
       " '수업',\n",
       " '전환점',\n",
       " '수업',\n",
       " '의료',\n",
       " '서비스',\n",
       " '관광',\n",
       " '서비스',\n",
       " '외국인',\n",
       " '고객',\n",
       " '의료관광',\n",
       " '서비스',\n",
       " '국가',\n",
       " '고객',\n",
       " '전략',\n",
       " '중점',\n",
       " '기법',\n",
       " '마케팅',\n",
       " '전략',\n",
       " '강점',\n",
       " '약점',\n",
       " '기회',\n",
       " '위협',\n",
       " '분석',\n",
       " '의료',\n",
       " '서비스',\n",
       " '분야',\n",
       " '슈퍼',\n",
       " '물건',\n",
       " '배치',\n",
       " '간판',\n",
       " '마케팅',\n",
       " '흥미',\n",
       " '마케팅',\n",
       " '직종',\n",
       " '다짐']"
      ]
     },
     "execution_count": 33,
     "metadata": {},
     "output_type": "execute_result"
    }
   ],
   "source": [
    "result"
   ]
  },
  {
   "cell_type": "code",
   "execution_count": 28,
   "id": "ea079ab2-5950-4b94-bf05-2358770ded76",
   "metadata": {},
   "outputs": [],
   "source": [
    "wordrank_extractor = KRWordRank(\n",
    "    min_count = 1, \n",
    "    max_length = len(result), # 단어의 최대 길이\n",
    "    verbose = True\n",
    ")"
   ]
  },
  {
   "cell_type": "code",
   "execution_count": 31,
   "id": "f754b9ed-8e88-41dc-b24f-367a9cd538eb",
   "metadata": {},
   "outputs": [
    {
     "name": "stdout",
     "output_type": "stream",
     "text": [
      "scan vocabs ... \n",
      "num vocabs = 172\n",
      "done = 10\n"
     ]
    }
   ],
   "source": [
    "keywords1, rank, graph = wordrank_extractor.extract(result, 10)"
   ]
  },
  {
   "cell_type": "code",
   "execution_count": 32,
   "id": "bb4198a6-376f-4a14-b6c2-b9dbdfe98523",
   "metadata": {},
   "outputs": [
    {
     "data": {
      "text/plain": [
       "{'서비': 7272727279.000002,\n",
       " '전환': 6818181818.5,\n",
       " '연령': 6060606064.333332,\n",
       " '의료관': 6060606064.333332,\n",
       " '브랜': 4545454546.0,\n",
       " '트렌': 4545454546.0,\n",
       " '직장': 4545454546.0,\n",
       " '외국': 4545454546.0,\n",
       " '장년': 3030303027.666666,\n",
       " '슬랙': 1818181813.0000005,\n",
       " '스타': 1.0,\n",
       " '마케': 1.0}"
      ]
     },
     "execution_count": 32,
     "metadata": {},
     "output_type": "execute_result"
    }
   ],
   "source": [
    "keywords1"
   ]
  },
  {
   "cell_type": "code",
   "execution_count": 34,
   "id": "eee8a520-d189-44d1-b3bf-3ad19ba6ba67",
   "metadata": {},
   "outputs": [],
   "source": [
    "total_min = 100000000000\n",
    "\n",
    "for key, value in CompanyInfos.items():\n",
    "    total_min = min(total_min, len(value['keywords1']))"
   ]
  },
  {
   "cell_type": "code",
   "execution_count": 35,
   "id": "e9d37bb5-dbad-4817-ae96-6d7112a62d00",
   "metadata": {},
   "outputs": [
    {
     "data": {
      "text/plain": [
       "33"
      ]
     },
     "execution_count": 35,
     "metadata": {},
     "output_type": "execute_result"
    }
   ],
   "source": [
    "total_min"
   ]
  },
  {
   "cell_type": "code",
   "execution_count": 42,
   "id": "5ebdc35d-027d-41a4-9765-18aa7314b573",
   "metadata": {},
   "outputs": [],
   "source": [
    "from collections import Counter\n",
    "Company_words1 = dict()\n",
    "\n",
    "for key, value in CompanyInfos.items():\n",
    "    Company_words1[key] = []\n",
    "    for word in value['preprocess']:\n",
    "        Company_words1[key] += word.split(\" \")\n",
    "    Company_words1[key] = Counter(Company_words1[key])"
   ]
  },
  {
   "cell_type": "code",
   "execution_count": 44,
   "id": "929905bd-5265-413f-bdf1-722282799ff2",
   "metadata": {},
   "outputs": [],
   "source": [
    "Company_words2 = dict()\n",
    "for key, value in CompanyInfos.items():\n",
    "    temp = []\n",
    "    for word, r in sorted(value['keywords1'].items(), key=lambda x:x[1], reverse=True)[:10]:\n",
    "        temp.append([word, r])\n",
    "    \n",
    "    score = sum([temp[idx][1] for idx in range(len(temp))])\n",
    "    for idx in range(len(temp)):\n",
    "        a = (temp[idx][1]/score)*100\n",
    "        temp[idx][1] = (round(a,2))\n",
    "    Company_words2[key] = temp\n",
    "        "
   ]
  },
  {
   "cell_type": "code",
   "execution_count": 45,
   "id": "40aa1f1c-b4c3-42c7-9ab1-801317ecfb42",
   "metadata": {},
   "outputs": [],
   "source": [
    "import numpy as np\n",
    "import matplotlib.pyplot as plt\n",
    "import squarify\n"
   ]
  },
  {
   "cell_type": "code",
   "execution_count": 39,
   "id": "42fe7a4f-1091-45a4-9a34-3ff6b56f3f09",
   "metadata": {},
   "outputs": [
    {
     "data": {
      "image/png": "[encoded data removed]",
      "text/plain": [
       "<Figure size 432x288 with 1 Axes>"
      ]
     },
     "metadata": {
      "needs_background": "light"
     },
     "output_type": "display_data"
    }
   ],
   "source": [
    "for key, value in Company_words2.items():\n",
    "    keywords = value\n",
    "    frequency = Company_words1['']\n",
    "    \n",
    "    colors = sns.color_palette('PuBu',len(kword_30)) \n",
    "    plt.rcParams[\"font.family\"] = 'AppleGothic'\n",
    "    plt.rcParams['figure.figsize'] = (9, 9)\n",
    "    plt.rcParams['font.size'] = 10\n",
    "    b = round(df_1['점수'],2)\n",
    "    squarify.plot(sizes=df_1['점수'], label=df_1['기업'], value=b,color=colors)"
   ]
  },
  {
   "cell_type": "code",
   "execution_count": null,
   "id": "312be015-c48f-4053-98b7-ba342f93928a",
   "metadata": {},
   "outputs": [],
   "source": []
  }
 ],
 "metadata": {
  "kernelspec": {
   "display_name": "Python 3",
   "language": "python",
   "name": "python3"
  },
  "language_info": {
   "codemirror_mode": {
    "name": "ipython",
    "version": 3
   },
   "file_extension": ".py",
   "mimetype": "text/x-python",
   "name": "python",
   "nbconvert_exporter": "python",
   "pygments_lexer": "ipython3",
   "version": "3.8.10"
  }
 },
 "nbformat": 4,
 "nbformat_minor": 5
}
