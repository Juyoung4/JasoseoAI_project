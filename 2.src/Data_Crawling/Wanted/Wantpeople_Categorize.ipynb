{
 "cells": [
  {
   "cell_type": "markdown",
   "id": "a06bcc1c-4431-47be-b31a-5b13e3200a1b",
   "metadata": {
    "tags": []
   },
   "source": [
    "# 카테고리 분류 역할분담"
   ]
  },
  {
   "cell_type": "code",
   "execution_count": 3,
   "id": "42bcf2a0-e00d-4d95-ab32-9a057e5d0431",
   "metadata": {},
   "outputs": [],
   "source": [
    "import numpy as np\n",
    "import pandas as pd\n",
    "import pickle"
   ]
  },
  {
   "cell_type": "markdown",
   "id": "508d132a-1f83-457a-bdab-068d46791f4a",
   "metadata": {},
   "source": [
    "## 데이터 불러오기"
   ]
  },
  {
   "cell_type": "code",
   "execution_count": 4,
   "id": "fedf68e8-7ab1-46f3-b60f-27ce61fd8bff",
   "metadata": {},
   "outputs": [],
   "source": [
    "f = open(\"C:/Users/msi/GitHub/JasoseoAI_project/2.src/Data_Crawling/Wanted/wantPeopleList.pickle\", \"rb\")\n",
    "wantPeopleList = pickle.load(f)\n",
    "f.close()\n",
    "\n",
    "f = open(\"C:/Users/msi/GitHub/JasoseoAI_project/2.src/Data_Crawling/Wanted/wantPeople_dic.pickle\", \"rb\")\n",
    "wantPeople_dic = pickle.load(f)\n",
    "f.close()"
   ]
  },
  {
   "cell_type": "markdown",
   "id": "8cd73608-299b-455c-b61f-4b8a5e97c8de",
   "metadata": {},
   "source": [
    "**변수 설명**\n",
    "* **wantPeopleList**: 인재상이 적혀있는 리스트\\\n",
    "    형태: [(\"keyword\", \"설명\"), ... , (\"keyword\", \"설명\")]\n",
    "    \n",
    "* **wantPeople_dic**: 기업별 인재상 사전\\\n",
    "    형태: {key:기업이름, value: 인재상 정보}"
   ]
  },
  {
   "cell_type": "code",
   "execution_count": 5,
   "id": "7d7afe2c-bd81-4dad-9e28-e055bbda9013",
   "metadata": {
    "tags": []
   },
   "outputs": [
    {
     "name": "stdout",
     "output_type": "stream",
     "text": [
      "231\n"
     ]
    }
   ],
   "source": [
    "print((len(wantPeopleList) - 200) // 4)\n",
    "x = np.array([0, 100, 100, 231, 231, 231, 231])\n",
    "cumX = x.cumsum()\n",
    "allocList = [wantPeopleList[cumX[i]:cumX[i+1]] for i in range(len(cumX)-1)]"
   ]
  },
  {
   "cell_type": "markdown",
   "id": "35af55da-2980-42d4-9d5c-3af2905112a5",
   "metadata": {},
   "source": [
    "* 성민 : allocList[0]\n",
    "* 주영 : allocList[1]\n",
    "* 혁준 : allocList[2]\n",
    "* 민영 : allocList[3]\n",
    "* 가연 : allocList[4]\n",
    "* 세진 : allocList[5]"
   ]
  },
  {
   "cell_type": "markdown",
   "id": "3cab9ead-09ef-4467-ae54-8c5f4fa27f8b",
   "metadata": {},
   "source": [
    "## 수작업 진행"
   ]
  },
  {
   "cell_type": "markdown",
   "id": "85ee7d8a-51c7-4876-9f39-8719f685e19a",
   "metadata": {},
   "source": [
    "**진행 절차**\n",
    "1. 키워드와 설명에 맞는 최종 키워드를 입력한다.\n",
    "    * 오타 발생시 바로 아래 cell에 적어두기(마크다운이라 다른셀 실행 중이어도 수정 가능)\n",
    "2. 오타난 부분 수정하기\n",
    "3. 최종 저장"
   ]
  },
  {
   "cell_type": "code",
   "execution_count": 6,
   "id": "17294c21-c1d1-4125-817c-c3dde84c83eb",
   "metadata": {
    "scrolled": true,
    "tags": []
   },
   "outputs": [
    {
     "name": "stdout",
     "output_type": "stream",
     "text": [
      "0번째: ('학습형인재', '남다른 생각과 학습을 통해 새로운 기회를 만드는 학습형 인재')\n"
     ]
    },
    {
     "name": "stdin",
     "output_type": "stream",
     "text": [
      "키워드 입력 :  학습, 창의성\n"
     ]
    },
    {
     "name": "stdout",
     "output_type": "stream",
     "text": [
      "1번째: ('개방형인재', '다양하게 소통하고 협업하는 개방형 인재')\n"
     ]
    },
    {
     "name": "stdin",
     "output_type": "stream",
     "text": [
      "키워드 입력 :  개방, 소통, 팀워크\n"
     ]
    },
    {
     "name": "stdout",
     "output_type": "stream",
     "text": [
      "2번째: ('실행형인재', '명확한 목표를 향해 스스로 행동하고 성과를 만들어내는 실행형 인재')\n"
     ]
    },
    {
     "name": "stdin",
     "output_type": "stream",
     "text": [
      "키워드 입력 :  실행, 진취\n"
     ]
    },
    {
     "name": "stdout",
     "output_type": "stream",
     "text": [
      "3번째: ('최고', '치열한 글로벌 시장에서 승리할 수 있는 전문성을 갖추기 위해 끊임없이 학습하는 인재')\n"
     ]
    },
    {
     "name": "stdin",
     "output_type": "stream",
     "text": [
      "키워드 입력 :  전문성, 학습, 끈기\n"
     ]
    },
    {
     "name": "stdout",
     "output_type": "stream",
     "text": [
      "4번째: ('혁신', '항상 새로운 시각으로 업무를 바라보며 효율적인 해결을 위해 노력하며, 어려운 일도 긍정적인 마인드를 가지고 도전할 수 있는 인재')\n"
     ]
    },
    {
     "name": "stdin",
     "output_type": "stream",
     "text": [
      "키워드 입력 :  혁신, 문제해결, 긍정, 도전 \n"
     ]
    },
    {
     "name": "stdout",
     "output_type": "stream",
     "text": [
      "5번째: ('책임', '주어진 업무가 완수될 때까지 끝까지 책임감을 가지고 일하며, 고객에게 차별화된 VIU(Value-in-use)를 제공하기 위해 몇 번이든 도전하여 악착같이 달성하는 인재')\n"
     ]
    },
    {
     "name": "stdin",
     "output_type": "stream",
     "text": [
      "키워드 입력 :  책임감, 고객, 도전\n"
     ]
    },
    {
     "name": "stdout",
     "output_type": "stream",
     "text": [
      "6번째: ('신뢰', '사실과 원칙에 입각하여 공정하게 일하며, 고객을 존중하고 동료들과 협력하여 행복한 일터를 만들기 위해 노력하는 인재')\n"
     ]
    },
    {
     "name": "stdin",
     "output_type": "stream",
     "text": [
      "키워드 입력 :  신뢰, 정직, 고객, 팀워크\n"
     ]
    },
    {
     "name": "stdout",
     "output_type": "stream",
     "text": [
      "7번째: ('국민과소통', '높은 윤리성을 갖추고 고객과 소통')\n"
     ]
    },
    {
     "name": "stdin",
     "output_type": "stream",
     "text": [
      "키워드 입력 :  고객, 윤리성, 소통\n"
     ]
    },
    {
     "name": "stdout",
     "output_type": "stream",
     "text": [
      "8번째: ('미래에도전', '능동적인 자세로동료와 협력하여 성과를 창출')\n"
     ]
    },
    {
     "name": "stdin",
     "output_type": "stream",
     "text": [
      "키워드 입력 :  미래, 도전, 팀워크, 진취\n"
     ]
    },
    {
     "name": "stdout",
     "output_type": "stream",
     "text": [
      "9번째: ('글로벌에너지전문가', '에너지 분야에 대한풍부한 지식을 갖추고글로벌 관점에서에너지 가치 향상의 기회를 발굴')\n"
     ]
    },
    {
     "name": "stdin",
     "output_type": "stream",
     "text": [
      "키워드 입력 :  글로벌, 전문성\n"
     ]
    },
    {
     "name": "stdout",
     "output_type": "stream",
     "text": [
      "10번째: ('변화에 도전하는 창조', '세계 최고 수준의 전문성을향해 변화와 도전으로새로움을 창조하는 인재')\n"
     ]
    },
    {
     "name": "stdin",
     "output_type": "stream",
     "text": [
      "키워드 입력 :  변화, 창의성, 전문성, 도전\n"
     ]
    },
    {
     "name": "stdout",
     "output_type": "stream",
     "text": [
      "11번째: ('상생을 추구하는 화합', '상호 존중과 배려를 통해상생과 협력을 추구하여화합하는 인재')\n"
     ]
    },
    {
     "name": "stdin",
     "output_type": "stream",
     "text": [
      "키워드 입력 :  상생, 팀워크, 배려\n"
     ]
    },
    {
     "name": "stdout",
     "output_type": "stream",
     "text": [
      "12번째: ('고객을 지향하는 소통', '사회적 책임과 청렴윤리를바탕으로 고객에게 감동으로소통하는 인재')\n"
     ]
    },
    {
     "name": "stdin",
     "output_type": "stream",
     "text": [
      "키워드 입력 :  고객, 소통, 윤리성, 사회적 가치\n"
     ]
    },
    {
     "name": "stdout",
     "output_type": "stream",
     "text": [
      "13번째: ('고객지향', '고객에게 차별적 가치를 제공하기 위한 부단한 노력과 자세')\n"
     ]
    },
    {
     "name": "stdin",
     "output_type": "stream",
     "text": [
      "키워드 입력 :  고객\n"
     ]
    },
    {
     "name": "stdout",
     "output_type": "stream",
     "text": [
      "14번째: ('혁신', '회사의 지속적인 성장과 발전을 위한 변화')\n"
     ]
    },
    {
     "name": "stdin",
     "output_type": "stream",
     "text": [
      "키워드 입력 :  혁신, 변화\n"
     ]
    },
    {
     "name": "stdout",
     "output_type": "stream",
     "text": [
      "15번째: ('열정', '복표 달성을 위한 불굴의 의지')\n"
     ]
    },
    {
     "name": "stdin",
     "output_type": "stream",
     "text": [
      "키워드 입력 :  열정, 진취\n"
     ]
    },
    {
     "name": "stdout",
     "output_type": "stream",
     "text": [
      "16번째: ('전문성', '최고의 업무 성과를 창출하기 위해 임직원이 갖추어야 할 역량')\n"
     ]
    },
    {
     "name": "stdin",
     "output_type": "stream",
     "text": [
      "키워드 입력 :  전문성, 진취\n"
     ]
    },
    {
     "name": "stdout",
     "output_type": "stream",
     "text": [
      "17번째: ('신뢰성', '회사에 대한 고객 로열티 재고를 위한 고객자본')\n"
     ]
    },
    {
     "name": "stdin",
     "output_type": "stream",
     "text": [
      "키워드 입력 :  신뢰, 고객\n"
     ]
    },
    {
     "name": "stdout",
     "output_type": "stream",
     "text": [
      "18번째: ('열정적인 학습인', '열정적인 몰입을 통해 자기주도적으로 학습, 뜨거운 열정으로 부단한 학습을 통해 자기 분야에서 최고의 전문성을 축적합니다.')\n"
     ]
    },
    {
     "name": "stdin",
     "output_type": "stream",
     "text": [
      "키워드 입력 :  열정, 학습, 자기주도, 전문성\n"
     ]
    },
    {
     "name": "stdout",
     "output_type": "stream",
     "text": [
      "19번째: ('창조적인 혁신가', '창조적인 노력을 통해 지속적으로 자신과 조직을 혁신, 풍부한 상상력과 창의력으로 혁신적인 상품과 서비스를 창출합니다.')\n"
     ]
    },
    {
     "name": "stdin",
     "output_type": "stream",
     "text": [
      "키워드 입력 :  창의성, 혁신, 고객\n"
     ]
    },
    {
     "name": "stdout",
     "output_type": "stream",
     "text": [
      "20번째: ('신뢰받는 봉사인', '공동체의 번영과 행복을 위해 봉사, 남에 대한 깊은 관심과 배려로 지속가능한 사회를 만들어 나가는데 앞장섭니다.')\n"
     ]
    },
    {
     "name": "stdin",
     "output_type": "stream",
     "text": [
      "키워드 입력 :  신뢰, 봉사, 배려, 사회적 가치\n"
     ]
    },
    {
     "name": "stdout",
     "output_type": "stream",
     "text": [
      "21번째: ('정직', '비효율과 부정을 용납하지 않는다.')\n"
     ]
    },
    {
     "name": "stdin",
     "output_type": "stream",
     "text": [
      "키워드 입력 :  정직\n"
     ]
    },
    {
     "name": "stdout",
     "output_type": "stream",
     "text": [
      "22번째: ('열정', '최고, 완벽을 추구한다.')\n"
     ]
    },
    {
     "name": "stdin",
     "output_type": "stream",
     "text": [
      "키워드 입력 :  열정\n"
     ]
    },
    {
     "name": "stdout",
     "output_type": "stream",
     "text": [
      "23번째: ('창의', '끊임없이 변화하고 혁신한다.')\n"
     ]
    },
    {
     "name": "stdin",
     "output_type": "stream",
     "text": [
      "키워드 입력 :  창의성, 변화, 혁신\n"
     ]
    },
    {
     "name": "stdout",
     "output_type": "stream",
     "text": [
      "24번째: ('존중', '서로 이해하고 배려한다.')\n"
     ]
    },
    {
     "name": "stdin",
     "output_type": "stream",
     "text": [
      "키워드 입력 :  존중, 배려\n"
     ]
    },
    {
     "name": "stdout",
     "output_type": "stream",
     "text": [
      "25번째: ('글로벌 항만전문인', '항만물류시장을 주도하는 세계 최고 항만전문 인재')\n"
     ]
    },
    {
     "name": "stdin",
     "output_type": "stream",
     "text": [
      "키워드 입력 :  글로벌, 전문성\n"
     ]
    },
    {
     "name": "stdout",
     "output_type": "stream",
     "text": [
      "26번째: ('사회적 가치선도인', '사람과 사회를 우선하는 반듯한 인재')\n"
     ]
    },
    {
     "name": "stdin",
     "output_type": "stream",
     "text": [
      "키워드 입력 :  사회적 가치\n"
     ]
    },
    {
     "name": "stdout",
     "output_type": "stream",
     "text": [
      "27번째: ('미래 도전혁신인', '호기심을 가치화하는 창의혁신 인재')\n"
     ]
    },
    {
     "name": "stdin",
     "output_type": "stream",
     "text": [
      "키워드 입력 :  미래, 도전, 혁신, 창의성\n"
     ]
    },
    {
     "name": "stdout",
     "output_type": "stream",
     "text": [
      "28번째: ('Fair.올바른', '진실된 생각과 올바른 행동을 합니다.')\n"
     ]
    },
    {
     "name": "stdin",
     "output_type": "stream",
     "text": [
      "키워드 입력 :  정직\n"
     ]
    },
    {
     "name": "stdout",
     "output_type": "stream",
     "text": [
      "29번째: ('Fresh.신선한', '항상 새로움을 추구하며 최고를 지향합니다.')\n"
     ]
    },
    {
     "name": "stdin",
     "output_type": "stream",
     "text": [
      "키워드 입력 :  창의성, 진취\n"
     ]
    },
    {
     "name": "stdout",
     "output_type": "stream",
     "text": [
      "30번째: ('Friendly.친근한', '모두에게 진심어린 애정과 관심으로 배려합니다.')\n"
     ]
    },
    {
     "name": "stdin",
     "output_type": "stream",
     "text": [
      "키워드 입력 :  친절, 배려, 인간미\n"
     ]
    },
    {
     "name": "stdout",
     "output_type": "stream",
     "text": [
      "31번째: ('Fun.즐거운', '즐겁게 일하고 서로에게 기쁨을 줍니다.')\n"
     ]
    },
    {
     "name": "stdin",
     "output_type": "stream",
     "text": [
      "키워드 입력 :  \n"
     ]
    },
    {
     "name": "stdout",
     "output_type": "stream",
     "text": [
      "32번째: ('Service Mind', '확고한 서비스 정신으로 고객에게 최상의 서비스를 제공하는 사람')\n"
     ]
    },
    {
     "name": "stdin",
     "output_type": "stream",
     "text": [
      "키워드 입력 :  고객\n"
     ]
    },
    {
     "name": "stdout",
     "output_type": "stream",
     "text": [
      "33번째: ('Creativity', '즐겁게 일하면서 창의적인 사고를 하는 사람')\n"
     ]
    },
    {
     "name": "stdin",
     "output_type": "stream",
     "text": [
      "키워드 입력 :  창의성\n"
     ]
    },
    {
     "name": "stdout",
     "output_type": "stream",
     "text": [
      "34번째: ('Professionalism', '분야 최고의 전문가로 고객에게 신뢰를 주고 사랑을 받는 사람')\n"
     ]
    },
    {
     "name": "stdin",
     "output_type": "stream",
     "text": [
      "키워드 입력 :  전문성, 고객, 신뢰\n"
     ]
    },
    {
     "name": "stdout",
     "output_type": "stream",
     "text": [
      "35번째: ('신(信)', '가치를 우선하는 신뢰받는 사람')\n"
     ]
    },
    {
     "name": "stdin",
     "output_type": "stream",
     "text": [
      "키워드 입력 :  신뢰\n"
     ]
    },
    {
     "name": "stdout",
     "output_type": "stream",
     "text": [
      "36번째: ('통(通)', '열린 마음으로 소통하는 사람')\n"
     ]
    },
    {
     "name": "stdin",
     "output_type": "stream",
     "text": [
      "키워드 입력 :  개방, 소통\n"
     ]
    },
    {
     "name": "stdout",
     "output_type": "stream",
     "text": [
      "37번째: ('한(汗)', '전문성과 끈기로 성취하는 사람')\n"
     ]
    },
    {
     "name": "stdin",
     "output_type": "stream",
     "text": [
      "키워드 입력 :  전문성, 끈기\n"
     ]
    },
    {
     "name": "stdout",
     "output_type": "stream",
     "text": [
      "38번째: ('창의적 人材', '기존의 형식주의를 타파하고 발상과 인식을 전환할 수 있는 인재목표 의식과 위기 의식을 가진 인재')\n"
     ]
    },
    {
     "name": "stdin",
     "output_type": "stream",
     "text": [
      "키워드 입력 :  창의성\n"
     ]
    },
    {
     "name": "stdout",
     "output_type": "stream",
     "text": [
      "39번째: ('도전적 人材', '남들이 기피하는 분야에 도전하여 변화와 개혁 선도모험정신과 경쟁심, 진력이 강하여 실패를 두려워 하지 않는 인재')\n"
     ]
    },
    {
     "name": "stdin",
     "output_type": "stream",
     "text": [
      "키워드 입력 :  도전, 변화\n"
     ]
    },
    {
     "name": "stdout",
     "output_type": "stream",
     "text": [
      "40번째: ('Global 人材', 'Global기업의 직원으로 기본기와 리더심을 가진 인재외국어의 완벽한 구사, 다양한 문화를 이해하는 인재')\n"
     ]
    },
    {
     "name": "stdin",
     "output_type": "stream",
     "text": [
      "키워드 입력 :  글로벌, 기본기, 리더쉽, 다양성\n"
     ]
    },
    {
     "name": "stdout",
     "output_type": "stream",
     "text": [
      "41번째: ('전문 人材', '전문지식을 가지고 관련분야의 지식까지 조합과 창출이 가능한 인재고객의 니즈를 파악하는 시장중심의 인재')\n"
     ]
    },
    {
     "name": "stdin",
     "output_type": "stream",
     "text": [
      "키워드 입력 :  전문성, 고객\n"
     ]
    },
    {
     "name": "stdout",
     "output_type": "stream",
     "text": [
      "42번째: ('도전인', '창조적 지혜와 진취적 의지를 가지고 미래를 향해도전하는 도전인')\n"
     ]
    },
    {
     "name": "stdin",
     "output_type": "stream",
     "text": [
      "키워드 입력 :  도전, 창의성, 진취, 미래\n"
     ]
    },
    {
     "name": "stdout",
     "output_type": "stream",
     "text": [
      "43번째: ('조직인', '회사를 사랑하고 이해하며 회사를 위해 헌신,노력하는 조직인')\n"
     ]
    },
    {
     "name": "stdin",
     "output_type": "stream",
     "text": [
      "키워드 입력 :  헌신\n"
     ]
    },
    {
     "name": "stdout",
     "output_type": "stream",
     "text": [
      "44번째: ('전문인', '주어진 전문분야에서 스스로를 개발, 연구하여최고의 전문능력을 소유, 발휘하는 전문인')\n"
     ]
    },
    {
     "name": "stdin",
     "output_type": "stream",
     "text": [
      "키워드 입력 :  전문성, 자기주도\n"
     ]
    },
    {
     "name": "stdout",
     "output_type": "stream",
     "text": [
      "45번째: ('고객 최우선', '최고의 품질과 최상의 서비스를 제공함으로써 모든 가치의 중심에 고객을 최우선으로 두는 고객감동의 기업 문화를 조성한다.')\n"
     ]
    },
    {
     "name": "stdin",
     "output_type": "stream",
     "text": [
      "키워드 입력 :  고객\n"
     ]
    },
    {
     "name": "stdout",
     "output_type": "stream",
     "text": [
      "46번째: ('도전적 실행', '현실에 안주하지 않고 새로운 가능성에 도전하며 \"할 수 있다\"는 열정과 창의적 사고로 반드시 목표를 달성한다.')\n"
     ]
    },
    {
     "name": "stdin",
     "output_type": "stream",
     "text": [
      "키워드 입력 :  도전, 실행, 열정, 창의성\n"
     ]
    },
    {
     "name": "stdout",
     "output_type": "stream",
     "text": [
      "47번째: ('소통과 협력', '타부문 및 협력사에 대한 상호 소통과 협력을 통해 \"우리\"라는 공동체 의식을 나눔으로써 시너지 효과를 창출한다.')\n"
     ]
    },
    {
     "name": "stdin",
     "output_type": "stream",
     "text": [
      "키워드 입력 :  소통, 팀워크\n"
     ]
    },
    {
     "name": "stdout",
     "output_type": "stream",
     "text": [
      "48번째: ('인재 존중', '우리 조직의 미래가 각 구성원들의 마음가짐과 역량에 달려 있음을 믿고 자기계발에 힘쓰며, 인재존중의 기업문화를 만들어간다.')\n"
     ]
    },
    {
     "name": "stdin",
     "output_type": "stream",
     "text": [
      "키워드 입력 :  존중, 자기개발\n"
     ]
    },
    {
     "name": "stdout",
     "output_type": "stream",
     "text": [
      "49번째: ('글로벌 지향', '문화와 관행의 다양성을 존중하며 모든 분야에서 글로벌 최고를 지향하고 글로벌 기업시민으로서 존경받는 개인과 조직이 된다.')\n"
     ]
    },
    {
     "name": "stdin",
     "output_type": "stream",
     "text": [
      "키워드 입력 :  글로벌, 다양성\n"
     ]
    },
    {
     "name": "stdout",
     "output_type": "stream",
     "text": [
      "50번째: ('도전인', '현재에 만족하지 않고 미래의 도약을 위한 도전 의식을 갖춘 사원')\n"
     ]
    },
    {
     "name": "stdin",
     "output_type": "stream",
     "text": [
      "키워드 입력 :  미래, 도전\n"
     ]
    },
    {
     "name": "stdout",
     "output_type": "stream",
     "text": [
      "51번째: ('창조인', '적극적이고 창의적인 자세로 변화에 대처하는 사원')\n"
     ]
    },
    {
     "name": "stdin",
     "output_type": "stream",
     "text": [
      "키워드 입력 :  창의성, 열정, 변화\n"
     ]
    },
    {
     "name": "stdout",
     "output_type": "stream",
     "text": [
      "52번째: ('전문인', '전문 능력과 지식을 가지고 담당 분야의 최고가 되기 위해 노력하는 사원')\n"
     ]
    },
    {
     "name": "stdin",
     "output_type": "stream",
     "text": [
      "키워드 입력 :  전문성, 끈기\n"
     ]
    },
    {
     "name": "stdout",
     "output_type": "stream",
     "text": [
      "53번째: ('친화인', '사우들과 원만한 관계를 맺고 협력하는 사원')\n"
     ]
    },
    {
     "name": "stdin",
     "output_type": "stream",
     "text": [
      "키워드 입력 :  인간미, 팀워크\n"
     ]
    },
    {
     "name": "stdout",
     "output_type": "stream",
     "text": [
      "54번째: ('시너지 창출가', '항상 열린 마음으로 계통간, 구성원간에 상호존경과 협력을 다하여 조직전체의 성과가 극대화될 수 있도록 시너지 제고를 위해 노력하는 인재')\n"
     ]
    },
    {
     "name": "stdin",
     "output_type": "stream",
     "text": [
      "키워드 입력 :  개방, 팀워크\n"
     ]
    },
    {
     "name": "stdout",
     "output_type": "stream",
     "text": [
      "55번째: ('최고의 전문가', '꾸준한 자기계발을 통해 자아를 성장시키고, 유통. 금융 등 맡은 분야에서 최고의 전문가가 되기 위해 지속적으로 노력하는 인재')\n"
     ]
    },
    {
     "name": "stdin",
     "output_type": "stream",
     "text": [
      "키워드 입력 :  전문성, 자기개발, 끈기\n"
     ]
    },
    {
     "name": "stdout",
     "output_type": "stream",
     "text": [
      "56번째: ('정직과 도덕성을 갖춘 인재', '매사에 혁신적인 자세로 모든 업무를 투명하고 정직하게 처리하여 농업인과 고객, 임직원 등 모든 이해관계자로부터 믿음과 신뢰를 받는 인재')\n"
     ]
    },
    {
     "name": "stdin",
     "output_type": "stream",
     "text": [
      "키워드 입력 :  정직, 신뢰\n"
     ]
    },
    {
     "name": "stdout",
     "output_type": "stream",
     "text": [
      "57번째: ('진취적 도전가', '미래지향적 도전의식과 창의성을 바탕으로 새로운 사업과 성장동력을 찾기 위해 끊임없이 변화와 혁신을 추구하는 역동적이고 열정적인 인재')\n"
     ]
    },
    {
     "name": "stdin",
     "output_type": "stream",
     "text": [
      "키워드 입력 :  도전, 창의성, 끈기, 변화, 혁신, 열정\n"
     ]
    },
    {
     "name": "stdout",
     "output_type": "stream",
     "text": [
      "58번째: ('행복의 파트너', '프로다운 서비스 정신을 바탕으로 농업인과 고객을 가족처럼 여기고 최상의 행복 가치를 위해 최선을 다하는 인재')\n"
     ]
    },
    {
     "name": "stdin",
     "output_type": "stream",
     "text": [
      "키워드 입력 :  고객, 진취\n"
     ]
    },
    {
     "name": "stdout",
     "output_type": "stream",
     "text": [
      "59번째: ('Agility', '변화에 민첩하게 대응하고 유연한 사고를 가진다.')\n"
     ]
    },
    {
     "name": "stdin",
     "output_type": "stream",
     "text": [
      "키워드 입력 :  변화, 유연성\n"
     ]
    },
    {
     "name": "stdout",
     "output_type": "stream",
     "text": [
      "60번째: ('Grit', '투지와 열정으로 목표한 바를 이루어 낸다.')\n"
     ]
    },
    {
     "name": "stdin",
     "output_type": "stream",
     "text": [
      "키워드 입력 :  열정, 진취\n"
     ]
    },
    {
     "name": "stdout",
     "output_type": "stream",
     "text": [
      "61번째: ('Value Creation', '인간적 매력으로 고객의 니즈를 파악하고 상기를 포착한다.')\n"
     ]
    },
    {
     "name": "stdin",
     "output_type": "stream",
     "text": [
      "키워드 입력 :  인간미, 고객\n"
     ]
    },
    {
     "name": "stdout",
     "output_type": "stream",
     "text": [
      "62번째: ('Growth', '기업가 정신과 전문성으로 사업을 확대하고 발굴한다.')\n"
     ]
    },
    {
     "name": "stdin",
     "output_type": "stream",
     "text": [
      "키워드 입력 :  전문성\n"
     ]
    },
    {
     "name": "stdout",
     "output_type": "stream",
     "text": [
      "63번째: ('도전과 혁신', '항상 새로운 변화를 추구하고 변화를 통해 실질적인 결과를 만들어 내는 사람, 성공에 대한 확신과 열정을 가지고 적극적으로 자신을 투자하는 사람')\n"
     ]
    },
    {
     "name": "stdin",
     "output_type": "stream",
     "text": [
      "키워드 입력 :  도전, 혁신, 변화, 열정, 자기개발\n"
     ]
    },
    {
     "name": "stdout",
     "output_type": "stream",
     "text": [
      "64번째: ('감사와 소통', '상대방에 대한 배려와 공정함을 통해 다른 이들과 협력을 이끌어 가는 사람')\n"
     ]
    },
    {
     "name": "stdin",
     "output_type": "stream",
     "text": [
      "키워드 입력 :  소통, 배려, 정직, 팀워크\n"
     ]
    },
    {
     "name": "stdout",
     "output_type": "stream",
     "text": [
      "65번째: ('신뢰와 정도', '규정과 원칙을 준수하며 정직하게 일하는 사람, 자신의 일에 대해 책임을 다하기 위해 최선을 다하는 사람')\n"
     ]
    },
    {
     "name": "stdin",
     "output_type": "stream",
     "text": [
      "키워드 입력 :  신뢰, 정직, 책임감\n"
     ]
    },
    {
     "name": "stdout",
     "output_type": "stream",
     "text": [
      "66번째: ('해외 명품 브랜드의 한국 진출 1호점트렌드 세터들의 광장', '세계 명품 브랜드 및 갤러리아에서만 선보이는 단독 브랜드까지, 트렌드 세터를 위한 스타일 Destination을 지향합니다.')\n"
     ]
    },
    {
     "name": "stdin",
     "output_type": "stream",
     "text": [
      "키워드 입력 :  \n"
     ]
    },
    {
     "name": "stdout",
     "output_type": "stream",
     "text": [
      "67번째: (' 현장·사람 중심의 서비스VIP 서비스의 기준', '국내 최초 전 고객 발렛 서비스 및 PSR* 서비스 등 전문가에 의한 한층 더 세련된 최고 수준의 고객 서비스를 선보이고 있습니다.')\n"
     ]
    },
    {
     "name": "stdin",
     "output_type": "stream",
     "text": [
      "키워드 입력 :  전문성, 고객\n"
     ]
    },
    {
     "name": "stdout",
     "output_type": "stream",
     "text": [
      "68번째: ('지역을 대표하는 백화점지역 1번점 갤러리아', '국내 최초 그로서란트 백화점, 경기권 최상위 명품 라인업, 충청지역 1위 명품 백화점, 서부 경남 1번점 등 각 지점별 대표적인 특성을 가지고 지역의 랜드마크로 자리잡고 있습니다.')\n"
     ]
    },
    {
     "name": "stdin",
     "output_type": "stream",
     "text": [
      "키워드 입력 :  \n"
     ]
    },
    {
     "name": "stdout",
     "output_type": "stream",
     "text": [
      "69번째: ('전문성', '패션 리테일에 대한 전문성을 바탕으로 최고의 성과를 창출하는 사람')\n"
     ]
    },
    {
     "name": "stdin",
     "output_type": "stream",
     "text": [
      "키워드 입력 :  전문성, 진취\n"
     ]
    },
    {
     "name": "stdout",
     "output_type": "stream",
     "text": [
      "70번째: ('변화', '기존의 틀에서 벗어나 적극적인 자세로 변화를 리드하는 사람')\n"
     ]
    },
    {
     "name": "stdin",
     "output_type": "stream",
     "text": [
      "키워드 입력 :  변화\n"
     ]
    },
    {
     "name": "stdout",
     "output_type": "stream",
     "text": [
      "71번째: ('소통', '열린 마음과 협력적인 자세로 새로운 가치를 생성하는 사람')\n"
     ]
    },
    {
     "name": "stdin",
     "output_type": "stream",
     "text": [
      "키워드 입력 :  소통, 개방\n"
     ]
    },
    {
     "name": "stdout",
     "output_type": "stream",
     "text": [
      "72번째: ('TOP 브랜드', '시험인증교정TOP 브랜드 구축국내 TOP 기술분야 단위사업 육성특화산업기반 전국 기술서비스망 구축')\n"
     ]
    },
    {
     "name": "stdin",
     "output_type": "stream",
     "text": [
      "키워드 입력 :  \n"
     ]
    },
    {
     "name": "stdout",
     "output_type": "stream",
     "text": [
      "73번째: ('인프라 구축미래 사업 강화', '전사적 품질경영 추진고객만족도 최우수기관 도약')\n"
     ]
    },
    {
     "name": "stdin",
     "output_type": "stream",
     "text": [
      "키워드 입력 :  \n"
     ]
    },
    {
     "name": "stdout",
     "output_type": "stream",
     "text": [
      "74번째: ('시스템 고도화혁신·상생 조직 구현', '경영시스템 고도화 및 혁신·상생의 조직 구현업무프로세스 혁신 및 내재화재정자립 및 재무 건전성 제고')\n"
     ]
    },
    {
     "name": "stdin",
     "output_type": "stream",
     "text": [
      "키워드 입력 :  \n"
     ]
    },
    {
     "name": "stdout",
     "output_type": "stream",
     "text": [
      "75번째: ('안전 기반 구축미래 신성장', '국민안전 기반구축 및 미래신성장 사업 강화최고전문가 육성 프로그램 운영실력중심 체계적 인사제도 운영')\n"
     ]
    },
    {
     "name": "stdin",
     "output_type": "stream",
     "text": [
      "키워드 입력 :  \n"
     ]
    },
    {
     "name": "stdout",
     "output_type": "stream",
     "text": [
      "76번째: ('Customer', '고객 중심의 사고를 바탕으로 더 나은 고객 경험을 디자인하는 인재')\n"
     ]
    },
    {
     "name": "stdin",
     "output_type": "stream",
     "text": [
      "키워드 입력 :  고객\n"
     ]
    },
    {
     "name": "stdout",
     "output_type": "stream",
     "text": [
      "77번째: ('Centric', '상대방에 대한 배려와 존중을 바탕으로 진심을 담아 소통하고 협업하는 인재')\n"
     ]
    },
    {
     "name": "stdin",
     "output_type": "stream",
     "text": [
      "키워드 입력 :  배려, 존중, 소통\n"
     ]
    },
    {
     "name": "stdout",
     "output_type": "stream",
     "text": [
      "78번째: ('Talent', 'Data 기반 Insight를 바탕으로 열정을 가지고 혁신을 주도하는 Digital 인재')\n"
     ]
    },
    {
     "name": "stdin",
     "output_type": "stream",
     "text": [
      "키워드 입력 :  전문성, 열정\n"
     ]
    },
    {
     "name": "stdout",
     "output_type": "stream",
     "text": [
      "79번째: ('정직', '우리는 기본에 충실하며 올바르게 행동한다')\n"
     ]
    },
    {
     "name": "stdin",
     "output_type": "stream",
     "text": [
      "키워드 입력 :  정직\n"
     ]
    },
    {
     "name": "stdout",
     "output_type": "stream",
     "text": [
      "80번째: ('혁신', '우리는 변화를 추구하며 열정적으로 도전한다')\n"
     ]
    },
    {
     "name": "stdin",
     "output_type": "stream",
     "text": [
      "키워드 입력 :  혁신, 열정, 도전, 변화\n"
     ]
    },
    {
     "name": "stdout",
     "output_type": "stream",
     "text": [
      "81번째: ('협업', '우리는 다양성을 존중하며 유기적으로 협력한다')\n"
     ]
    },
    {
     "name": "stdin",
     "output_type": "stream",
     "text": [
      "키워드 입력 :  다양성, 팀워크\n"
     ]
    },
    {
     "name": "stdout",
     "output_type": "stream",
     "text": [
      "82번째: ('Talented', '뛰어난 재능과 자질의 소유자로서')\n"
     ]
    },
    {
     "name": "stdin",
     "output_type": "stream",
     "text": [
      "키워드 입력 :  전문성\n"
     ]
    },
    {
     "name": "stdout",
     "output_type": "stream",
     "text": [
      "83번째: ('Open-minded', '열린 사고와 열린 마음으로 의사 소통을 하며')\n"
     ]
    },
    {
     "name": "stdin",
     "output_type": "stream",
     "text": [
      "키워드 입력 :  개방, 소통\n"
     ]
    },
    {
     "name": "stdout",
     "output_type": "stream",
     "text": [
      "84번째: ('Passionate', '강한 책임감과 열정을 보유한')\n"
     ]
    },
    {
     "name": "stdin",
     "output_type": "stream",
     "text": [
      "키워드 입력 :  책임감, 열정\n"
     ]
    },
    {
     "name": "stdout",
     "output_type": "stream",
     "text": [
      "85번째: ('INnovator', '글로벌 식품업계를 선도하는 창의와 혁신의 Top 인재')\n"
     ]
    },
    {
     "name": "stdin",
     "output_type": "stream",
     "text": [
      "키워드 입력 :  글로벌, 창의성, 혁신\n"
     ]
    },
    {
     "name": "stdout",
     "output_type": "stream",
     "text": [
      "86번째: ('Speed', '경쟁자, 환경 변화보다더 빠른소곧의 변화,즉 상대적인 속도')\n"
     ]
    },
    {
     "name": "stdin",
     "output_type": "stream",
     "text": [
      "키워드 입력 :  변화\n"
     ]
    },
    {
     "name": "stdout",
     "output_type": "stream",
     "text": [
      "87번째: ('Flexibility', '고객 요구변화에 대응한창의적인 생각,유연한 접근')\n"
     ]
    },
    {
     "name": "stdin",
     "output_type": "stream",
     "text": [
      "키워드 입력 :  고객, 창의성, 유연성\n"
     ]
    },
    {
     "name": "stdout",
     "output_type": "stream",
     "text": [
      "88번째: ('Performance', '끝장정신을 바탕으로성과 창출에 집중')\n"
     ]
    },
    {
     "name": "stdin",
     "output_type": "stream",
     "text": [
      "키워드 입력 :  전문성, 진취, 끈기\n"
     ]
    },
    {
     "name": "stdout",
     "output_type": "stream",
     "text": [
      "89번째: ('SKMS에 대한 믿음', 'SKMS에 대한 믿음으로 핵심 가치를 실천하는 전문가')\n"
     ]
    },
    {
     "name": "stdin",
     "output_type": "stream",
     "text": [
      "키워드 입력 :  신뢰, 실행\n"
     ]
    },
    {
     "name": "stdout",
     "output_type": "stream",
     "text": [
      "90번째: ('Initiative', '진정한 Pro 정신에 Initiative를 갖고 미래를 주도적으로 개척하는 인재')\n"
     ]
    },
    {
     "name": "stdin",
     "output_type": "stream",
     "text": [
      "키워드 입력 :  전문성, 미래\n"
     ]
    },
    {
     "name": "stdout",
     "output_type": "stream",
     "text": [
      "91번째: ('Challenge', '유연한 사고와 Pro 정신으로 실패와 변화를 두려워하지 않는 최강의 인재')\n"
     ]
    },
    {
     "name": "stdin",
     "output_type": "stream",
     "text": [
      "키워드 입력 :  유연성, 변화, 도전\n"
     ]
    },
    {
     "name": "stdout",
     "output_type": "stream",
     "text": [
      "92번째: ('Truse', '고객을 존중하고 윤리적으로 신뢰 받을 수 있는 인재')\n"
     ]
    },
    {
     "name": "stdin",
     "output_type": "stream",
     "text": [
      "키워드 입력 :  고객, 신뢰, 윤리성\n"
     ]
    },
    {
     "name": "stdout",
     "output_type": "stream",
     "text": [
      "93번째: ('글로벌인재', '차별화된 글로벌 역량과 강한 리더십으로세계 최고의 종합에너지 기업으로 성장을 추구하는 인재')\n"
     ]
    },
    {
     "name": "stdin",
     "output_type": "stream",
     "text": [
      "키워드 입력 :  글로벌, 리더쉽, 진취\n"
     ]
    },
    {
     "name": "stdout",
     "output_type": "stream",
     "text": [
      "94번째: ('도전인재', '열정과 도전정신으로 변화를 주도하고혁신을 통해 미래를 개척하는 인재')\n"
     ]
    },
    {
     "name": "stdin",
     "output_type": "stream",
     "text": [
      "키워드 입력 :  도전, 열정, 혁신, 미래\n"
     ]
    },
    {
     "name": "stdout",
     "output_type": "stream",
     "text": [
      "95번째: ('전문인재', '전문성 확보를 통해 가치를 창조하고경쟁력 향상에 기여하는 인재')\n"
     ]
    },
    {
     "name": "stdin",
     "output_type": "stream",
     "text": [
      "키워드 입력 :  전문성\n"
     ]
    },
    {
     "name": "stdout",
     "output_type": "stream",
     "text": [
      "96번째: ('협력인재', '신뢰를 바탕으로 서로 협력하며상생의 조직문화를 구축하는 인재')\n"
     ]
    },
    {
     "name": "stdin",
     "output_type": "stream",
     "text": [
      "키워드 입력 :  팀워크, 신뢰, 상생\n"
     ]
    },
    {
     "name": "stdout",
     "output_type": "stream",
     "text": [
      "97번째: ('고객으로부터 가장 사랑받는 코오롱', '고객으로부터 출발하며 기대 이상의 가치를 제공하고 고객의 성공에 기여한다.')\n"
     ]
    },
    {
     "name": "stdin",
     "output_type": "stream",
     "text": [
      "키워드 입력 :  고객, 진취\n"
     ]
    },
    {
     "name": "stdout",
     "output_type": "stream",
     "text": [
      "98번째: ('독특하고 차별화된 우리', '한 발 앞서 시장을 읽고 움직이며 경계를 넘어 협력하고 새로운 것에 도전한다.')\n"
     ]
    },
    {
     "name": "stdin",
     "output_type": "stream",
     "text": [
      "키워드 입력 :  혁신, 도전, 팀워크\n"
     ]
    },
    {
     "name": "stdout",
     "output_type": "stream",
     "text": [
      "99번째: ('최고의 경쟁력을 갖춘 나', '높은 목표수준을 갖고 철저하게 준비하며 될 때까지 실행한다.')\n"
     ]
    },
    {
     "name": "stdin",
     "output_type": "stream",
     "text": [
      "키워드 입력 :  진취, 끈기, 실행\n"
     ]
    }
   ],
   "source": [
    "subList = allocList[1]\n",
    "keywords = []\n",
    "converted_dic = {}\n",
    "\n",
    "for i, v in enumerate(subList):\n",
    "    print(\"{}번째: {}\".format(i, v))\n",
    "    \n",
    "    k = input(\"키워드 입력 : \")\n",
    "    k = k.strip().split(',')\n",
    "    k = [i.strip() for i in k]\n",
    "    \n",
    "    converted_dic[v] = k"
   ]
  },
  {
   "cell_type": "markdown",
   "id": "633a8a97-cf6c-4c29-b3ce-cf9f15731a28",
   "metadata": {},
   "source": [
    "**현재 사용중인 키워드**\\\n",
    "\n",
    "키워드: 효율, 재치, 글로벌, 학습, 도전, 기본기, 서비스, 자연친화, 팀워크, 창의성, \n",
    "고객, 소통, 협업, 개방, 전문성, 실행, 열정, 변화, 책임감, 성실, 미래, 혁신, \n",
    "다양성, 유연성, 긍정, 배려, 봉사, 헌신, 예절, 성장, 신뢰, 정직, 리더쉽, 자기주도, \n",
    "신중, 성과, 안목, 자율성, 공감, 사회적 가치, 진취, 집중, 공정, 자부심, 도덕성, \n",
    "추진력, 상생, 친절, 인간미, 존중, 안전, 문제해결\\\n",
    "\\\n",
    "(예시 - 스피드, 고객, 열정)\n",
    "\n",
    "**오타를 적었을 경우 여기에 몇번째 인지 적어두세요**\\\n",
    "오타 번호 : []\\\n",
    "키워드 지정 x : [31]\\\n",
    "지울 번호 : [66-67-68, 72-73-74-75]\n",
    "\\\n",
    "(예시 - [1, 2, 3, 4, 5, 6])"
   ]
  },
  {
   "cell_type": "code",
   "execution_count": 7,
   "id": "4dfd2972-5270-44e8-babe-2e1510afcf28",
   "metadata": {},
   "outputs": [],
   "source": [
    "f = open(\"C:/Users/msi/GitHub/JasoseoAI_project/2.src/Data_Crawling/Wanted/converted_backup.pickle\", \"wb\")\n",
    "pickle.dump(converted_dic, f)\n",
    "f.close()"
   ]
  },
  {
   "cell_type": "markdown",
   "id": "f4b0405c-db16-4ca8-9e68-03685b080a36",
   "metadata": {},
   "source": [
    "## 오타 수정 작업"
   ]
  },
  {
   "cell_type": "code",
   "execution_count": 11,
   "id": "8dec289b-8392-4a5b-aebc-39bfc1eba4ff",
   "metadata": {},
   "outputs": [
    {
     "name": "stdout",
     "output_type": "stream",
     "text": [
      "('신뢰', '사실과 원칙에 입각하여 공정하게 일하며, 고객을 존중하고 동료들과 협력하여 행복한 일터를 만들기 위해 노력하는 인재') 정직, 고객, 협업\n"
     ]
    },
    {
     "name": "stdin",
     "output_type": "stream",
     "text": [
      "키워드 입력 :  정직, 고객, 협업\n"
     ]
    },
    {
     "name": "stdout",
     "output_type": "stream",
     "text": [
      "('국민과소통', '높은 윤리성을 갖추고 고객과 소통') 도덕성, 고객, 소통\n"
     ]
    },
    {
     "name": "stdin",
     "output_type": "stream",
     "text": [
      "키워드 입력 :  도덕성, 고객, 소통\n"
     ]
    },
    {
     "name": "stdout",
     "output_type": "stream",
     "text": [
      "('Friendly.친근한', '모두에게 진심어린 애정과 관심으로 배려합니다.') 인간미\n"
     ]
    },
    {
     "name": "stdin",
     "output_type": "stream",
     "text": [
      "키워드 입력 :  인간미\n"
     ]
    },
    {
     "name": "stdout",
     "output_type": "stream",
     "text": [
      "('인프라 구축미래 사업 강화', '전사적 품질경영 추진고객만족도 최우수기관 도약') \n"
     ]
    },
    {
     "name": "stdin",
     "output_type": "stream",
     "text": [
      "키워드 입력 :  X\n"
     ]
    },
    {
     "name": "stdout",
     "output_type": "stream",
     "text": [
      "('Talented', '뛰어난 재능과 자질의 소유자로서') 전문성\n"
     ]
    },
    {
     "name": "stdin",
     "output_type": "stream",
     "text": [
      "키워드 입력 :  전문성\n"
     ]
    }
   ],
   "source": [
    "# 위 마크다운에서 번호 복붙\n",
    "typos = [6, 7, 30, 73, 82]\n",
    "\n",
    "for typo_idx in typos:\n",
    "    key = subList[typo_idx]\n",
    "    print(key, converted_dic[key])\n",
    "    k = input(\"키워드 입력 : \").strip().split(',')\n",
    "    k = [i.strip() for i in k]\n",
    "    \n",
    "    converted_dic[key] = k"
   ]
  },
  {
   "cell_type": "code",
   "execution_count": 14,
   "id": "2ef8ca02-fe72-4de2-b875-6879a46fe811",
   "metadata": {},
   "outputs": [
    {
     "data": {
      "text/plain": [
       "['전문성']"
      ]
     },
     "execution_count": 14,
     "metadata": {},
     "output_type": "execute_result"
    }
   ],
   "source": [
    "converted_dic[('Talented', '뛰어난 재능과 자질의 소유자로서')]"
   ]
  },
  {
   "cell_type": "markdown",
   "id": "0c938fa5-a644-4d02-86a7-b01fd44913c1",
   "metadata": {},
   "source": [
    "## 최종 저장"
   ]
  },
  {
   "cell_type": "code",
   "execution_count": 12,
   "id": "4bcaee1b-20d0-4976-82fd-2a23a5ed2243",
   "metadata": {},
   "outputs": [],
   "source": [
    "import pickle\n",
    "\n",
    "f = open(\"C:/Users/msi/GitHub/JasoseoAI_project/2.src/Data_Crawling/Wanted/converted.pickle\", \"wb\")\n",
    "pickle.dump(converted_dic, f)\n",
    "f.close()"
   ]
  },
  {
   "cell_type": "code",
   "execution_count": null,
   "id": "454de46d-b902-4323-91f3-bfe64c2c3999",
   "metadata": {},
   "outputs": [],
   "source": []
  }
 ],
 "metadata": {
  "kernelspec": {
   "display_name": "Python 3",
   "language": "python",
   "name": "python3"
  },
  "language_info": {
   "codemirror_mode": {
    "name": "ipython",
    "version": 3
   },
   "file_extension": ".py",
   "mimetype": "text/x-python",
   "name": "python",
   "nbconvert_exporter": "python",
   "pygments_lexer": "ipython3",
   "version": "3.7.10"
  }
 },
 "nbformat": 4,
 "nbformat_minor": 5
}
