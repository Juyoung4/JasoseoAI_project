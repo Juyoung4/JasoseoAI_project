{
 "cells": [
  {
   "cell_type": "code",
   "execution_count": 1,
   "id": "b88ab101-39e2-4445-8cfc-4045fd1c5145",
   "metadata": {},
   "outputs": [],
   "source": [
    "import pickle\n",
    "import pandas as pd\n",
    "import numpy as np\n",
    "import re\n",
    "import itertools\n",
    "import json"
   ]
  },
  {
   "cell_type": "code",
   "execution_count": 2,
   "id": "12b85390-28e8-4c84-9498-2048285ac704",
   "metadata": {},
   "outputs": [],
   "source": [
    "data_path = \"/home/ai-sjjy/workspace/juyoung/JasoseoAI_project/3.data/Keyword/\"\n",
    "src_path = \"/home/ai-sjjy/workspace/juyoung/JasoseoAI_project/2.src/Keyword_AI/\""
   ]
  },
  {
   "cell_type": "markdown",
   "id": "ed18b5e8-ab15-445d-a027-1779d972db2b",
   "metadata": {},
   "source": [
    "* 이름이 달라서 분리된것 => diff_corpName_raw\n",
    "* 기업이 없는것 => noCorp_raw\n",
    "* 취업TIP메뉴가 없는것 => noCorpInfo_raw\n",
    "* 추출된 것 => wantNValue_raw"
   ]
  },
  {
   "cell_type": "code",
   "execution_count": 9,
   "id": "552e8b55-5d77-4e63-8db1-5d6148ab8a4f",
   "metadata": {},
   "outputs": [],
   "source": [
    "with open(data_path+'JobKorea_processed.pickle', 'rb') as f:\n",
    "    jobkorea = pickle.load(f)\n",
    "\n",
    "with open(data_path+'/Incruit/diff_corpName_raw.pickle', 'rb') as f:\n",
    "    diff_corpName_raw = pickle.load(f)\n",
    "    \n",
    "with open(data_path+'/Incruit/noCorp_raw.pickle', 'rb') as f:\n",
    "    noCorp_raw = pickle.load(f)\n",
    "    \n",
    "with open(data_path+'/Incruit/noCorpInfo_raw.pickle', 'rb') as f:\n",
    "    noCorpInfo_raw = pickle.load(f)\n",
    "    \n",
    "with open(data_path+'/Incruit/wantNValue_raw.pickle', 'rb') as f:\n",
    "    wantNValue_raw = pickle.load(f)"
   ]
  },
  {
   "cell_type": "code",
   "execution_count": 10,
   "id": "0f15fcaa-17e1-4f77-a542-295b19dbfb63",
   "metadata": {},
   "outputs": [
    {
     "name": "stdout",
     "output_type": "stream",
     "text": [
      "768\n",
      "94\n",
      "146\n",
      "506\n"
     ]
    }
   ],
   "source": [
    "print(len(diff_corpName_raw))\n",
    "print(len(noCorp_raw))\n",
    "print(len(noCorpInfo_raw))\n",
    "print(len(wantNValue_raw))"
   ]
  },
  {
   "cell_type": "code",
   "execution_count": 12,
   "id": "0696ac9b-4c33-4a97-b519-8da9354fa07a",
   "metadata": {},
   "outputs": [
    {
     "data": {
      "text/plain": [
       "Index(['company_name', 'company_url', 'apply_info', 'applicant_info', 'score',\n",
       "       'score_desc', 'url', 'Question', 'content', 'comment', 'split_content'],\n",
       "      dtype='object')"
      ]
     },
     "execution_count": 12,
     "metadata": {},
     "output_type": "execute_result"
    }
   ],
   "source": [
    "jobkorea.columns"
   ]
  },
  {
   "cell_type": "code",
   "execution_count": 13,
   "id": "08328db5-1ddc-4d1e-8e33-3e2d9602e491",
   "metadata": {},
   "outputs": [
    {
     "data": {
      "text/html": [
       "<div>\n",
       "<style scoped>\n",
       "    .dataframe tbody tr th:only-of-type {\n",
       "        vertical-align: middle;\n",
       "    }\n",
       "\n",
       "    .dataframe tbody tr th {\n",
       "        vertical-align: top;\n",
       "    }\n",
       "\n",
       "    .dataframe thead th {\n",
       "        text-align: right;\n",
       "    }\n",
       "</style>\n",
       "<table border=\"1\" class=\"dataframe\">\n",
       "  <thead>\n",
       "    <tr style=\"text-align: right;\">\n",
       "      <th></th>\n",
       "      <th>company_name</th>\n",
       "      <th>content</th>\n",
       "    </tr>\n",
       "  </thead>\n",
       "  <tbody>\n",
       "    <tr>\n",
       "      <th>0</th>\n",
       "      <td>(주)경동나비엔</td>\n",
       "      <td>[새로운 도전을 위해 대학 시절 OO 유학을 떠나게 되었습니다. 조금 늦은 나이의 ...</td>\n",
       "    </tr>\n",
       "    <tr>\n",
       "      <th>1</th>\n",
       "      <td>(주)포스코인터내셔널</td>\n",
       "      <td>[어떠한 일을 시작하기 전에 두려운 마음이 들 때마다 이러한 마음가짐을 갖추고 도전...</td>\n",
       "    </tr>\n",
       "    <tr>\n",
       "      <th>2</th>\n",
       "      <td>㈜하나은행</td>\n",
       "      <td>[벤처기업, 제조 공장 자동화, 금융 시스템 개발 경력저는 어려서 배운 컴퓨터 강의...</td>\n",
       "    </tr>\n",
       "    <tr>\n",
       "      <th>3</th>\n",
       "      <td>조선비즈</td>\n",
       "      <td>[저는 군대에서 행정 업무를 맡으면서 문제를 해결해 임무수행에 어려움을 덜어낸 경험...</td>\n",
       "    </tr>\n",
       "    <tr>\n",
       "      <th>4</th>\n",
       "      <td>㈜CJ ENM</td>\n",
       "      <td>[음악을 사랑합니다. 음악뿐만 아니라 문화산업 전반에 깊은 관심이 있습니다. CJ ...</td>\n",
       "    </tr>\n",
       "    <tr>\n",
       "      <th>...</th>\n",
       "      <td>...</td>\n",
       "      <td>...</td>\n",
       "    </tr>\n",
       "    <tr>\n",
       "      <th>6626</th>\n",
       "      <td>삼화페인트공업(주)</td>\n",
       "      <td>[남들을 배려하며 착하게 사는 것이 옳다고 배우며 살아왔기 때문에, 이타적인 성향이...</td>\n",
       "    </tr>\n",
       "    <tr>\n",
       "      <th>6627</th>\n",
       "      <td>LG디스플레이</td>\n",
       "      <td>[2013년 여름, 천호식품에서 아르바이트를 했었습니다. 제품 생산에서부터 포장, ...</td>\n",
       "    </tr>\n",
       "    <tr>\n",
       "      <th>6628</th>\n",
       "      <td>엘에스전선(주)</td>\n",
       "      <td>[ 선배들의 추천을 받아 13년도 동아리 회장을 맡았습니다. 당시 숫기가 없어 동기...</td>\n",
       "    </tr>\n",
       "    <tr>\n",
       "      <th>6629</th>\n",
       "      <td>S-OIL</td>\n",
       "      <td>[ 최초를 시도한 기업은 많습니다. 하지만 최초보다 더욱 중요한 것이 최고라고 생각...</td>\n",
       "    </tr>\n",
       "    <tr>\n",
       "      <th>6630</th>\n",
       "      <td>샘표(주)</td>\n",
       "      <td>[68년의 전통과 최고참 상표를 유지하고 있는 ‘샘표’는 간장 명가에서 종합식품회사...</td>\n",
       "    </tr>\n",
       "  </tbody>\n",
       "</table>\n",
       "<p>6631 rows × 2 columns</p>\n",
       "</div>"
      ],
      "text/plain": [
       "     company_name                                            content\n",
       "0        (주)경동나비엔  [새로운 도전을 위해 대학 시절 OO 유학을 떠나게 되었습니다. 조금 늦은 나이의 ...\n",
       "1     (주)포스코인터내셔널  [어떠한 일을 시작하기 전에 두려운 마음이 들 때마다 이러한 마음가짐을 갖추고 도전...\n",
       "2           ㈜하나은행  [벤처기업, 제조 공장 자동화, 금융 시스템 개발 경력저는 어려서 배운 컴퓨터 강의...\n",
       "3            조선비즈  [저는 군대에서 행정 업무를 맡으면서 문제를 해결해 임무수행에 어려움을 덜어낸 경험...\n",
       "4         ㈜CJ ENM  [음악을 사랑합니다. 음악뿐만 아니라 문화산업 전반에 깊은 관심이 있습니다. CJ ...\n",
       "...           ...                                                ...\n",
       "6626   삼화페인트공업(주)  [남들을 배려하며 착하게 사는 것이 옳다고 배우며 살아왔기 때문에, 이타적인 성향이...\n",
       "6627      LG디스플레이  [2013년 여름, 천호식품에서 아르바이트를 했었습니다. 제품 생산에서부터 포장, ...\n",
       "6628     엘에스전선(주)  [ 선배들의 추천을 받아 13년도 동아리 회장을 맡았습니다. 당시 숫기가 없어 동기...\n",
       "6629        S-OIL  [ 최초를 시도한 기업은 많습니다. 하지만 최초보다 더욱 중요한 것이 최고라고 생각...\n",
       "6630        샘표(주)  [68년의 전통과 최고참 상표를 유지하고 있는 ‘샘표’는 간장 명가에서 종합식품회사...\n",
       "\n",
       "[6631 rows x 2 columns]"
      ]
     },
     "execution_count": 13,
     "metadata": {},
     "output_type": "execute_result"
    }
   ],
   "source": [
    "jobkorea = jobkorea[['company_name', 'content']]\n",
    "jobkorea"
   ]
  },
  {
   "cell_type": "code",
   "execution_count": 14,
   "id": "7a6710ec-233d-4b59-916d-05ace36688a9",
   "metadata": {},
   "outputs": [
    {
     "name": "stderr",
     "output_type": "stream",
     "text": [
      "<ipython-input-14-3d12f3f8d7bd>:1: SettingWithCopyWarning: \n",
      "A value is trying to be set on a copy of a slice from a DataFrame.\n",
      "Try using .loc[row_indexer,col_indexer] = value instead\n",
      "\n",
      "See the caveats in the documentation: https://pandas.pydata.org/pandas-docs/stable/user_guide/indexing.html#returning-a-view-versus-a-copy\n",
      "  jobkorea['company_name'] = jobkorea['company_name'].apply(lambda x : re.sub(\" +\",\"\",x.lower().replace('㈜', \"\").replace(\"㈔\", \"\").replace(\"(주)\", \"\").replace(\"(사)\", \"\")))\n",
      "<ipython-input-14-3d12f3f8d7bd>:2: SettingWithCopyWarning: \n",
      "A value is trying to be set on a copy of a slice from a DataFrame.\n",
      "Try using .loc[row_indexer,col_indexer] = value instead\n",
      "\n",
      "See the caveats in the documentation: https://pandas.pydata.org/pandas-docs/stable/user_guide/indexing.html#returning-a-view-versus-a-copy\n",
      "  jobkorea['company_name'] = jobkorea['company_name'].apply(lambda x : re.sub(\"[^가-힣a-z0-9]\", \"\", x))\n"
     ]
    }
   ],
   "source": [
    "jobkorea['company_name'] = jobkorea['company_name'].apply(lambda x : re.sub(\" +\",\"\",x.lower().replace('㈜', \"\").replace(\"㈔\", \"\").replace(\"(주)\", \"\").replace(\"(사)\", \"\")))\n",
    "jobkorea['company_name'] = jobkorea['company_name'].apply(lambda x : re.sub(\"[^가-힣a-z0-9]\", \"\", x))"
   ]
  },
  {
   "cell_type": "code",
   "execution_count": 15,
   "id": "5641f616-b4a0-4350-8254-60c12bbd30cb",
   "metadata": {},
   "outputs": [
    {
     "data": {
      "text/html": [
       "<div>\n",
       "<style scoped>\n",
       "    .dataframe tbody tr th:only-of-type {\n",
       "        vertical-align: middle;\n",
       "    }\n",
       "\n",
       "    .dataframe tbody tr th {\n",
       "        vertical-align: top;\n",
       "    }\n",
       "\n",
       "    .dataframe thead th {\n",
       "        text-align: right;\n",
       "    }\n",
       "</style>\n",
       "<table border=\"1\" class=\"dataframe\">\n",
       "  <thead>\n",
       "    <tr style=\"text-align: right;\">\n",
       "      <th></th>\n",
       "      <th>company_name</th>\n",
       "      <th>content</th>\n",
       "    </tr>\n",
       "  </thead>\n",
       "  <tbody>\n",
       "    <tr>\n",
       "      <th>0</th>\n",
       "      <td>경동나비엔</td>\n",
       "      <td>[새로운 도전을 위해 대학 시절 OO 유학을 떠나게 되었습니다. 조금 늦은 나이의 ...</td>\n",
       "    </tr>\n",
       "    <tr>\n",
       "      <th>1</th>\n",
       "      <td>포스코인터내셔널</td>\n",
       "      <td>[어떠한 일을 시작하기 전에 두려운 마음이 들 때마다 이러한 마음가짐을 갖추고 도전...</td>\n",
       "    </tr>\n",
       "    <tr>\n",
       "      <th>2</th>\n",
       "      <td>하나은행</td>\n",
       "      <td>[벤처기업, 제조 공장 자동화, 금융 시스템 개발 경력저는 어려서 배운 컴퓨터 강의...</td>\n",
       "    </tr>\n",
       "  </tbody>\n",
       "</table>\n",
       "</div>"
      ],
      "text/plain": [
       "  company_name                                            content\n",
       "0        경동나비엔  [새로운 도전을 위해 대학 시절 OO 유학을 떠나게 되었습니다. 조금 늦은 나이의 ...\n",
       "1     포스코인터내셔널  [어떠한 일을 시작하기 전에 두려운 마음이 들 때마다 이러한 마음가짐을 갖추고 도전...\n",
       "2         하나은행  [벤처기업, 제조 공장 자동화, 금융 시스템 개발 경력저는 어려서 배운 컴퓨터 강의..."
      ]
     },
     "execution_count": 15,
     "metadata": {},
     "output_type": "execute_result"
    }
   ],
   "source": [
    "jobkorea.head(3)"
   ]
  },
  {
   "cell_type": "code",
   "execution_count": 16,
   "id": "8cd6b3fb-b49c-4787-8b8a-e765cbcc5cee",
   "metadata": {},
   "outputs": [],
   "source": [
    "group = jobkorea.groupby('company_name')\n",
    "\n",
    "jobkorea_group = dict()\n",
    "for idx, g in group:\n",
    "    sentences = []\n",
    "    for sentence in g.content.tolist():\n",
    "        for s in sentence:\n",
    "            sentences.append(s)\n",
    "    jobkorea_group[idx] = sentences"
   ]
  },
  {
   "cell_type": "code",
   "execution_count": 17,
   "id": "62a251a6-d67c-4370-b98f-f2d8384f4ac9",
   "metadata": {},
   "outputs": [
    {
     "data": {
      "text/plain": [
       "1513"
      ]
     },
     "execution_count": 17,
     "metadata": {},
     "output_type": "execute_result"
    }
   ],
   "source": [
    "len(jobkorea_group)"
   ]
  },
  {
   "cell_type": "code",
   "execution_count": 28,
   "id": "73091d33-8156-4495-9ba4-3b052097090c",
   "metadata": {},
   "outputs": [],
   "source": [
    "company_names= list(jobkorea_group.keys())"
   ]
  },
  {
   "cell_type": "code",
   "execution_count": 29,
   "id": "eacbf865-4349-458a-acfe-d244c915c03e",
   "metadata": {},
   "outputs": [
    {
     "data": {
      "text/plain": [
       "'11번가'"
      ]
     },
     "execution_count": 29,
     "metadata": {},
     "output_type": "execute_result"
    }
   ],
   "source": [
    "company_names[0]"
   ]
  },
  {
   "cell_type": "code",
   "execution_count": 25,
   "id": "5ed83c75-231c-483a-9c32-541a2ee49898",
   "metadata": {
    "tags": []
   },
   "outputs": [
    {
     "ename": "KeyError",
     "evalue": "'11번가'",
     "output_type": "error",
     "traceback": [
      "\u001b[0;31m---------------------------------------------------------------------------\u001b[0m",
      "\u001b[0;31mKeyError\u001b[0m                                  Traceback (most recent call last)",
      "\u001b[0;32m<ipython-input-25-516228a49636>\u001b[0m in \u001b[0;36m<module>\u001b[0;34m\u001b[0m\n\u001b[0;32m----> 1\u001b[0;31m \u001b[0mwantNValue_raw\u001b[0m\u001b[0;34m[\u001b[0m\u001b[0;34m'11번가'\u001b[0m\u001b[0;34m]\u001b[0m\u001b[0;34m\u001b[0m\u001b[0;34m\u001b[0m\u001b[0m\n\u001b[0m",
      "\u001b[0;31mKeyError\u001b[0m: '11번가'"
     ]
    }
   ],
   "source": [
    "wantNValue_raw['11']"
   ]
  },
  {
   "cell_type": "code",
   "execution_count": 32,
   "id": "3f9f54a0-d52c-466e-92b0-740cfd644193",
   "metadata": {},
   "outputs": [
    {
     "name": "stdout",
     "output_type": "stream",
     "text": [
      "aj네트웍스 (['따뜻하게', '재미있게', '단순하게', '정직하게'], ['설레임', '귀기울임', '어울림'])\n",
      "['따뜻하게', '재미있게', '단순하게', '정직하게'] ['설레임', '귀기울임', '어울림']\n"
     ]
    }
   ],
   "source": [
    "# 기업 - ([인재상], [핵심가치])\n",
    "for k, v in wantNValue_raw.items():\n",
    "    print(k, v)\n",
    "    print(v[0], v[1])\n",
    "    break"
   ]
  },
  {
   "cell_type": "code",
   "execution_count": 34,
   "id": "3fe962e9-f911-4418-a692-1f05abbb9a38",
   "metadata": {},
   "outputs": [],
   "source": [
    "new_company_infos = dict()\n",
    "for key, value in wantNValue_raw.items():\n",
    "    if key in company_names:\n",
    "        new_company_infos[key] = {\"contents\" : jobkorea_group[key], \"인재상\" : value[0], \"핵심가치\" : value[1]}"
   ]
  },
  {
   "cell_type": "code",
   "execution_count": 35,
   "id": "c47af1e3-6313-42d1-8d32-cd8c7675b9f9",
   "metadata": {},
   "outputs": [
    {
     "data": {
      "text/plain": [
       "505"
      ]
     },
     "execution_count": 35,
     "metadata": {},
     "output_type": "execute_result"
    }
   ],
   "source": [
    "len(new_company_infos)"
   ]
  },
  {
   "cell_type": "code",
   "execution_count": 36,
   "id": "95e0450f-5972-46f8-9760-441c5f1a1019",
   "metadata": {},
   "outputs": [],
   "source": [
    "with open(data_path+'CompanyKeywords.json', 'w', encoding='utf-8') as f: # 회사-[질문:답변] => dict 형식\n",
    "    json.dump(new_company_infos, f, indent=\"\\t\")"
   ]
  },
  {
   "cell_type": "code",
   "execution_count": 38,
   "id": "e08f9bec-9c0e-42f2-a2fc-869e3336a2cc",
   "metadata": {},
   "outputs": [],
   "source": [
    "total = 0\n",
    "for key, value in new_company_infos.items():\n",
    "    total += len(value['contents'])"
   ]
  },
  {
   "cell_type": "code",
   "execution_count": 39,
   "id": "ea5e0185-2d3b-4fc4-8d0a-cf61e10db189",
   "metadata": {},
   "outputs": [
    {
     "data": {
      "text/plain": [
       "11673"
      ]
     },
     "execution_count": 39,
     "metadata": {},
     "output_type": "execute_result"
    }
   ],
   "source": [
    "total"
   ]
  },
  {
   "cell_type": "markdown",
   "id": "54927015-2c22-4b39-9940-8414d0b15d65",
   "metadata": {},
   "source": [
    "## 더 크롤링"
   ]
  },
  {
   "cell_type": "code",
   "execution_count": 43,
   "id": "08bc965a-6a16-47e9-a6c2-cc511862403e",
   "metadata": {},
   "outputs": [],
   "source": [
    "import requests\n",
    "import re\n",
    "import os\n",
    "import time\n",
    "import pandas as pd\n",
    "import numpy as np\n",
    "from bs4 import BeautifulSoup\n",
    "\n",
    "import selenium\n",
    "from selenium import webdriver"
   ]
  },
  {
   "cell_type": "code",
   "execution_count": 49,
   "id": "85c55425-94d9-4137-8d59-341df20423cc",
   "metadata": {},
   "outputs": [],
   "source": [
    "with open(data_path+'JobKorea_processed.pickle', 'rb') as f:\n",
    "    jobkorea = pickle.load(f)"
   ]
  },
  {
   "cell_type": "code",
   "execution_count": 53,
   "id": "f562603c-629b-47df-87c8-84477fc50df3",
   "metadata": {},
   "outputs": [],
   "source": [
    "wanted = list(wantNValue_raw.keys())"
   ]
  },
  {
   "cell_type": "code",
   "execution_count": 54,
   "id": "f5328325-0279-4e86-9afa-8526d2317a6c",
   "metadata": {},
   "outputs": [
    {
     "data": {
      "text/plain": [
       "'aj네트웍스'"
      ]
     },
     "execution_count": 54,
     "metadata": {},
     "output_type": "execute_result"
    }
   ],
   "source": [
    "wanted[0]"
   ]
  },
  {
   "cell_type": "code",
   "execution_count": 44,
   "id": "b961330f-a660-4aad-a82a-eb690e0bcbff",
   "metadata": {},
   "outputs": [],
   "source": [
    "eng = [\"a\", \"b\", \"c\", \"d\", \"e\", \"f\", \"g\", \"h\", \"i\", \"j\", \"k\", \"l\", \"m\", \"n\", \"o\", \"p\", \"q\", \"r\", \"s\", \"t\", \"u\", \"v\", \"w\", \"x\", \"y\", \"z\"]\n",
    "kor = [\"에이\",\"비\",\"씨\",\"디\",\"이\",\"에프\",\"지\",\"에이치\",\"아이\",\"제이\",\"케이\",\"아이\",\"엠\",\"엔\",\"오\",\"피\",\"큐\",\"알\",\"에스\",\"티\",\"유\",\"브이\",\"더블유\",\"엑스\",\"와이\",\"제트\"]"
   ]
  },
  {
   "cell_type": "code",
   "execution_count": 63,
   "id": "47dbd99a-9857-42b9-b850-f41451f83b0d",
   "metadata": {},
   "outputs": [],
   "source": [
    "companys = []\n",
    "for name in set(jobkorea.company_name.tolist()):\n",
    "    new_name = re.sub(\" +\",\"\",name.lower().replace('㈜', \"\").replace(\"㈔\", \"\").replace(\"(주)\", \"\").replace(\"(사)\", \"\"))\n",
    "    new_name = re.sub(\"[^가-힣a-z0-9]\", \"\", new_name)\n",
    "    if new_name not in wanted:\n",
    "        # [1] 영어 -> 한국어\n",
    "        eng_str = \"\"\n",
    "        for n in name:\n",
    "            for idx, e in enumerate(eng): \n",
    "                if e == n: \n",
    "                    eng_str += kor[idx]\n",
    "                    break\n",
    "            else: eng_str += n\n",
    "        # [2] 한국어 -> 영어\n",
    "        kor_str = \"\"\n",
    "        for n in name:\n",
    "            for idx, k in enumerate(kor): \n",
    "                if k == n: \n",
    "                    kor_str += eng[idx]\n",
    "                    break\n",
    "            else: kor_str += n\n",
    "        \n",
    "        companys.append((name, eng_str, kor_str, new_name)) # 원래, 전처리 된 이름"
   ]
  },
  {
   "cell_type": "code",
   "execution_count": 64,
   "id": "4b8fee6a-568d-4b05-aa41-72193ed6c504",
   "metadata": {},
   "outputs": [
    {
     "data": {
      "text/plain": [
       "1009"
      ]
     },
     "execution_count": 64,
     "metadata": {},
     "output_type": "execute_result"
    }
   ],
   "source": [
    "len(companys)"
   ]
  },
  {
   "cell_type": "code",
   "execution_count": 65,
   "id": "f2f10781-3e80-4a2e-b066-1da10ce0b53f",
   "metadata": {},
   "outputs": [
    {
     "data": {
      "text/plain": [
       "('(주)이엔케이', '(주)이엔케이', '(주)en케e', '이엔케이')"
      ]
     },
     "execution_count": 65,
     "metadata": {},
     "output_type": "execute_result"
    }
   ],
   "source": [
    "companys[0]"
   ]
  },
  {
   "cell_type": "code",
   "execution_count": 66,
   "id": "3570ab07-f506-4b40-b2c0-fca1fe3c25b1",
   "metadata": {},
   "outputs": [
    {
     "ename": "WebDriverException",
     "evalue": "Message: 'chromedriver' executable needs to be in PATH. Please see https://sites.google.com/a/chromium.org/chromedriver/home\n",
     "output_type": "error",
     "traceback": [
      "\u001b[0;31m---------------------------------------------------------------------------\u001b[0m",
      "\u001b[0;31mFileNotFoundError\u001b[0m                         Traceback (most recent call last)",
      "\u001b[0;32m~/anaconda3/envs/juyoung2/lib/python3.8/site-packages/selenium/webdriver/common/service.py\u001b[0m in \u001b[0;36mstart\u001b[0;34m(self)\u001b[0m\n\u001b[1;32m     71\u001b[0m             \u001b[0mcmd\u001b[0m\u001b[0;34m.\u001b[0m\u001b[0mextend\u001b[0m\u001b[0;34m(\u001b[0m\u001b[0mself\u001b[0m\u001b[0;34m.\u001b[0m\u001b[0mcommand_line_args\u001b[0m\u001b[0;34m(\u001b[0m\u001b[0;34m)\u001b[0m\u001b[0;34m)\u001b[0m\u001b[0;34m\u001b[0m\u001b[0;34m\u001b[0m\u001b[0m\n\u001b[0;32m---> 72\u001b[0;31m             self.process = subprocess.Popen(cmd, env=self.env,\n\u001b[0m\u001b[1;32m     73\u001b[0m                                             \u001b[0mclose_fds\u001b[0m\u001b[0;34m=\u001b[0m\u001b[0mplatform\u001b[0m\u001b[0;34m.\u001b[0m\u001b[0msystem\u001b[0m\u001b[0;34m(\u001b[0m\u001b[0;34m)\u001b[0m \u001b[0;34m!=\u001b[0m \u001b[0;34m'Windows'\u001b[0m\u001b[0;34m,\u001b[0m\u001b[0;34m\u001b[0m\u001b[0;34m\u001b[0m\u001b[0m\n",
      "\u001b[0;32m~/anaconda3/envs/juyoung2/lib/python3.8/subprocess.py\u001b[0m in \u001b[0;36m__init__\u001b[0;34m(self, args, bufsize, executable, stdin, stdout, stderr, preexec_fn, close_fds, shell, cwd, env, universal_newlines, startupinfo, creationflags, restore_signals, start_new_session, pass_fds, encoding, errors, text)\u001b[0m\n\u001b[1;32m    857\u001b[0m \u001b[0;34m\u001b[0m\u001b[0m\n\u001b[0;32m--> 858\u001b[0;31m             self._execute_child(args, executable, preexec_fn, close_fds,\n\u001b[0m\u001b[1;32m    859\u001b[0m                                 \u001b[0mpass_fds\u001b[0m\u001b[0;34m,\u001b[0m \u001b[0mcwd\u001b[0m\u001b[0;34m,\u001b[0m \u001b[0menv\u001b[0m\u001b[0;34m,\u001b[0m\u001b[0;34m\u001b[0m\u001b[0;34m\u001b[0m\u001b[0m\n",
      "\u001b[0;32m~/anaconda3/envs/juyoung2/lib/python3.8/subprocess.py\u001b[0m in \u001b[0;36m_execute_child\u001b[0;34m(self, args, executable, preexec_fn, close_fds, pass_fds, cwd, env, startupinfo, creationflags, shell, p2cread, p2cwrite, c2pread, c2pwrite, errread, errwrite, restore_signals, start_new_session)\u001b[0m\n\u001b[1;32m   1703\u001b[0m                         \u001b[0merr_msg\u001b[0m \u001b[0;34m=\u001b[0m \u001b[0mos\u001b[0m\u001b[0;34m.\u001b[0m\u001b[0mstrerror\u001b[0m\u001b[0;34m(\u001b[0m\u001b[0merrno_num\u001b[0m\u001b[0;34m)\u001b[0m\u001b[0;34m\u001b[0m\u001b[0;34m\u001b[0m\u001b[0m\n\u001b[0;32m-> 1704\u001b[0;31m                     \u001b[0;32mraise\u001b[0m \u001b[0mchild_exception_type\u001b[0m\u001b[0;34m(\u001b[0m\u001b[0merrno_num\u001b[0m\u001b[0;34m,\u001b[0m \u001b[0merr_msg\u001b[0m\u001b[0;34m,\u001b[0m \u001b[0merr_filename\u001b[0m\u001b[0;34m)\u001b[0m\u001b[0;34m\u001b[0m\u001b[0;34m\u001b[0m\u001b[0m\n\u001b[0m\u001b[1;32m   1705\u001b[0m                 \u001b[0;32mraise\u001b[0m \u001b[0mchild_exception_type\u001b[0m\u001b[0;34m(\u001b[0m\u001b[0merr_msg\u001b[0m\u001b[0;34m)\u001b[0m\u001b[0;34m\u001b[0m\u001b[0;34m\u001b[0m\u001b[0m\n",
      "\u001b[0;31mFileNotFoundError\u001b[0m: [Errno 2] No such file or directory: 'chromedriver'",
      "\nDuring handling of the above exception, another exception occurred:\n",
      "\u001b[0;31mWebDriverException\u001b[0m                        Traceback (most recent call last)",
      "\u001b[0;32m<ipython-input-66-9b88c9fa9bc3>\u001b[0m in \u001b[0;36m<module>\u001b[0;34m\u001b[0m\n\u001b[1;32m      1\u001b[0m \u001b[0mURL\u001b[0m \u001b[0;34m=\u001b[0m \u001b[0;34m'https://www.incruit.com/company'\u001b[0m\u001b[0;34m\u001b[0m\u001b[0;34m\u001b[0m\u001b[0m\n\u001b[0;32m----> 2\u001b[0;31m \u001b[0mdriver\u001b[0m \u001b[0;34m=\u001b[0m \u001b[0mwebdriver\u001b[0m\u001b[0;34m.\u001b[0m\u001b[0mChrome\u001b[0m\u001b[0;34m(\u001b[0m\u001b[0mexecutable_path\u001b[0m\u001b[0;34m=\u001b[0m\u001b[0;34m'chromedriver'\u001b[0m\u001b[0;34m)\u001b[0m\u001b[0;34m\u001b[0m\u001b[0;34m\u001b[0m\u001b[0m\n\u001b[0m\u001b[1;32m      3\u001b[0m \u001b[0mdriver\u001b[0m\u001b[0;34m.\u001b[0m\u001b[0mimplicitly_wait\u001b[0m\u001b[0;34m(\u001b[0m\u001b[0;36m3\u001b[0m\u001b[0;34m)\u001b[0m\u001b[0;34m\u001b[0m\u001b[0;34m\u001b[0m\u001b[0m\n\u001b[1;32m      4\u001b[0m \u001b[0;34m\u001b[0m\u001b[0m\n\u001b[1;32m      5\u001b[0m \u001b[0mdriver\u001b[0m\u001b[0;34m.\u001b[0m\u001b[0mget\u001b[0m\u001b[0;34m(\u001b[0m\u001b[0murl\u001b[0m\u001b[0;34m=\u001b[0m\u001b[0mURL\u001b[0m\u001b[0;34m)\u001b[0m\u001b[0;34m\u001b[0m\u001b[0;34m\u001b[0m\u001b[0m\n",
      "\u001b[0;32m~/anaconda3/envs/juyoung2/lib/python3.8/site-packages/selenium/webdriver/chrome/webdriver.py\u001b[0m in \u001b[0;36m__init__\u001b[0;34m(self, executable_path, port, options, service_args, desired_capabilities, service_log_path, chrome_options, keep_alive)\u001b[0m\n\u001b[1;32m     71\u001b[0m             \u001b[0mservice_args\u001b[0m\u001b[0;34m=\u001b[0m\u001b[0mservice_args\u001b[0m\u001b[0;34m,\u001b[0m\u001b[0;34m\u001b[0m\u001b[0;34m\u001b[0m\u001b[0m\n\u001b[1;32m     72\u001b[0m             log_path=service_log_path)\n\u001b[0;32m---> 73\u001b[0;31m         \u001b[0mself\u001b[0m\u001b[0;34m.\u001b[0m\u001b[0mservice\u001b[0m\u001b[0;34m.\u001b[0m\u001b[0mstart\u001b[0m\u001b[0;34m(\u001b[0m\u001b[0;34m)\u001b[0m\u001b[0;34m\u001b[0m\u001b[0;34m\u001b[0m\u001b[0m\n\u001b[0m\u001b[1;32m     74\u001b[0m \u001b[0;34m\u001b[0m\u001b[0m\n\u001b[1;32m     75\u001b[0m         \u001b[0;32mtry\u001b[0m\u001b[0;34m:\u001b[0m\u001b[0;34m\u001b[0m\u001b[0;34m\u001b[0m\u001b[0m\n",
      "\u001b[0;32m~/anaconda3/envs/juyoung2/lib/python3.8/site-packages/selenium/webdriver/common/service.py\u001b[0m in \u001b[0;36mstart\u001b[0;34m(self)\u001b[0m\n\u001b[1;32m     79\u001b[0m         \u001b[0;32mexcept\u001b[0m \u001b[0mOSError\u001b[0m \u001b[0;32mas\u001b[0m \u001b[0merr\u001b[0m\u001b[0;34m:\u001b[0m\u001b[0;34m\u001b[0m\u001b[0;34m\u001b[0m\u001b[0m\n\u001b[1;32m     80\u001b[0m             \u001b[0;32mif\u001b[0m \u001b[0merr\u001b[0m\u001b[0;34m.\u001b[0m\u001b[0merrno\u001b[0m \u001b[0;34m==\u001b[0m \u001b[0merrno\u001b[0m\u001b[0;34m.\u001b[0m\u001b[0mENOENT\u001b[0m\u001b[0;34m:\u001b[0m\u001b[0;34m\u001b[0m\u001b[0;34m\u001b[0m\u001b[0m\n\u001b[0;32m---> 81\u001b[0;31m                 raise WebDriverException(\n\u001b[0m\u001b[1;32m     82\u001b[0m                     \"'%s' executable needs to be in PATH. %s\" % (\n\u001b[1;32m     83\u001b[0m                         os.path.basename(self.path), self.start_error_message)\n",
      "\u001b[0;31mWebDriverException\u001b[0m: Message: 'chromedriver' executable needs to be in PATH. Please see https://sites.google.com/a/chromium.org/chromedriver/home\n"
     ]
    }
   ],
   "source": [
    "URL = 'https://www.incruit.com/company'\n",
    "driver = webdriver.Chrome(executable_path='chromedriver')\n",
    "driver.implicitly_wait(3)\n",
    "\n",
    "driver.get(url=URL)"
   ]
  },
  {
   "cell_type": "code",
   "execution_count": null,
   "id": "1f328721-7532-4b57-85bb-ebdd85664468",
   "metadata": {},
   "outputs": [],
   "source": [
    "def get_data(corpName):\n",
    "    enterCount = 0\n",
    "    wantPeoples = []\n",
    "    coreValues = []\n",
    "    \n",
    "    # 회사 이름으로 찾기\n",
    "    start_page = driver.find_element_by_xpath('/html/body/div[2]/div[1]/div[2]/div[2]/div[1]/div[1]/p/input[1]')\n",
    "    start_page.send_keys(corpName+'\\n')\n",
    "    time.sleep(0.2)\n",
    "    enterCount += 1\n",
    "    \n",
    "    # 회사 페이지로 들어가기\n",
    "    corpLinkText = driver.find_elements_by_class_name('listInfo')\n",
    "    corpLinkTextList = [i.find_element_by_tag_name('a').get_attribute('textContent').strip() for i in corpLinkText]\n",
    "    \n",
    "    corp_idx = 0\n",
    "    for i, cltl in enumerate(corpLinkTextList):\n",
    "        if corpName in cltl:\n",
    "            corp_idx = i\n",
    "            break\n",
    "    corpLink = corpLinkText[corp_idx].find_element_by_tag_name('a')\n",
    "    \n",
    "    # 회사 이름이 있으면 조건 추가\n",
    "    a_corpName = corpLink.get_attribute('textContent').lower()\n",
    "    \n",
    "    if corpName not in a_corpName:\n",
    "        print(\"기업이름이 다름니다. 찾으려는 기업: {}, 인크루트의 기업이름: {}\".format(corpName, a_corpName))\n",
    "        for i in range(enterCount):\n",
    "            driver.back()\n",
    "        return -1, corpName, a_corpName\n",
    "    \n",
    "    corpLink.send_keys('\\n')\n",
    "    time.sleep(0.2)\n",
    "    enterCount += 1\n",
    "    \n",
    "    # 회사 페이지에서 메뉴텝에서 취업TIP이 있나 확인\n",
    "    menuTap = driver.find_element_by_class_name('tabmenu_temp')\n",
    "    menuList = menuTap.find_elements_by_tag_name('li')\n",
    "    menuTextList = [menu.get_attribute('textContent').strip() for menu in menuTap.find_elements_by_tag_name('span')]\n",
    "\n",
    "    if '취업TIP' in menuTextList:\n",
    "        idx = menuTextList.index('취업TIP')\n",
    "        menuList[idx].find_element_by_tag_name('a').send_keys('\\n')\n",
    "        time.sleep(0.2)\n",
    "        enterCount += 1\n",
    "    else:\n",
    "        print(corpName, \": 취업TIP not exist\")\n",
    "        for i in range(enterCount):\n",
    "            driver.back()\n",
    "        return -2, corpName, a_corpName\n",
    "    \n",
    "    # 취업TIP에서 인재상 찾기 또는 핵심가치 찾기\n",
    "    contents = driver.find_elements_by_class_name('contPre')\n",
    "    for i, c in enumerate(contents):\n",
    "        # 표로 되어 있는 경우\n",
    "        try:\n",
    "            rightpeopleClass = c.find_element_by_class_name('gongche_con_rightpeople')\n",
    "            rightpeopletdTags = rightpeopleClass.find_elements_by_tag_name('td')\n",
    "            for i in rightpeopletdTags:\n",
    "                wantPeoples.append(i.get_attribute('textContent'))\n",
    "        except:\n",
    "            pass\n",
    "        try:\n",
    "            corvalueClass = c.find_element_by_class_name('gongche_con_corevalue')\n",
    "            corvaluetdTags = corvalueClass.find_elements_by_tag_name('td')\n",
    "            for i in corvaluetdTags:\n",
    "                coreValues.append(i.get_attribute('textContent'))\n",
    "        except:\n",
    "            headName = c.find_elements_by_tag_name('h3')\n",
    "            headName = [name.get_attribute('textContent').strip() for name in headName]\n",
    "            if not(('인재상' in headName) or ('핵심가치' in headName)):\n",
    "                continue\n",
    "\n",
    "            headContent = c.find_elements_by_class_name('contPresent')\n",
    "            headContent = [name.get_attribute('textContent').strip() for name in headContent]\n",
    "\n",
    "            if '인재상' in headName:\n",
    "                idx = headName.index('인재상')\n",
    "                wantPeoples = headContent[idx].strip().split('/')\n",
    "                wantPeoples = [wantPeople.strip() for wantPeople in wantPeoples]\n",
    "            else:\n",
    "                print(corpName, '인재상 not exist')\n",
    "\n",
    "            if '핵심가치' in headName:\n",
    "                idx = headName.index('핵심가치')\n",
    "                coreValues = headContent[idx].strip().split('/')\n",
    "                coreValues = [coreValue.strip() for coreValue in coreValues]\n",
    "            else:\n",
    "                print(corpName, '핵심가치 not exist')\n",
    "    \n",
    "    for i in range(enterCount):\n",
    "        driver.back()\n",
    "    \n",
    "    return corpName, wantPeoples, coreValues"
   ]
  }
 ],
 "metadata": {
  "kernelspec": {
   "display_name": "Python 3",
   "language": "python",
   "name": "python3"
  },
  "language_info": {
   "codemirror_mode": {
    "name": "ipython",
    "version": 3
   },
   "file_extension": ".py",
   "mimetype": "text/x-python",
   "name": "python",
   "nbconvert_exporter": "python",
   "pygments_lexer": "ipython3",
   "version": "3.8.10"
  }
 },
 "nbformat": 4,
 "nbformat_minor": 5
}
