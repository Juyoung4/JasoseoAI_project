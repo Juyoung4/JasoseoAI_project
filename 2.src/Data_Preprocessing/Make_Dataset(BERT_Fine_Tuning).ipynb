{
 "cells": [
  {
   "cell_type": "code",
   "execution_count": 1,
   "id": "ac9f1ac5-3660-464d-9a50-a9d1989c4280",
   "metadata": {},
   "outputs": [],
   "source": [
    "import pickle\n",
    "import pandas as pd\n",
    "import numpy as np\n",
    "\n",
    "import random\n",
    "from IPython.display import clear_output"
   ]
  },
  {
   "cell_type": "code",
   "execution_count": 5,
   "id": "722d6eeb-c0c6-4e5c-a42a-d190845cef5a",
   "metadata": {},
   "outputs": [],
   "source": [
    "DATA_PATH = '../../3.data/BERT/'\n",
    "JOBKORRESUME_PATH = 'JobKorea_SplitedSentence.pickle'\n",
    "JOBKORFINAL_PATH = 'JobKor_SplitedSentence_final.pickle'"
   ]
  },
  {
   "cell_type": "markdown",
   "id": "11e63218-7d27-4b7f-a606-1b671092bad5",
   "metadata": {
    "tags": []
   },
   "source": [
    "# 옳은 문장 데이터 셋 구성"
   ]
  },
  {
   "cell_type": "markdown",
   "id": "5373bd12-7421-44b7-a5eb-0c5d90085457",
   "metadata": {},
   "source": [
    "## 자기소개서 데이터 Load"
   ]
  },
  {
   "cell_type": "code",
   "execution_count": null,
   "id": "bcfb535a-96c4-4bc0-b5e0-3eba513c8dee",
   "metadata": {},
   "outputs": [],
   "source": [
    "f = open(DATA_PATH + JOBKORRESUME_PATH, \"rb\")\n",
    "processed_contents = pickle.load(f)\n",
    "f.close()\n",
    "\n",
    "processed_contents.head(2)"
   ]
  },
  {
   "cell_type": "code",
   "execution_count": 9,
   "id": "877d8884-9ae5-48b2-9af2-2766cfeaf29b",
   "metadata": {},
   "outputs": [],
   "source": [
    "f = open(DATA_PATH + JOBKORFINAL_PATH, 'rb')\n",
    "splitData_final = pickle.load(f)\n",
    "f.close()"
   ]
  },
  {
   "cell_type": "markdown",
   "id": "ab1fb9a5-e440-4e13-91ea-fb6b6e273943",
   "metadata": {},
   "source": [
    "## Make Pair Data - 1 Label"
   ]
  },
  {
   "cell_type": "code",
   "execution_count": 13,
   "id": "9f580eb0-ecd6-47bb-9d51-d60c81d962b8",
   "metadata": {},
   "outputs": [
    {
     "name": "stdout",
     "output_type": "stream",
     "text": [
      "162831\n"
     ]
    },
    {
     "data": {
      "text/plain": [
       "[('새로운 도전을 위해 대학 시절 OO 유학을 떠나게 되었습니다.',\n",
       "  '조금 늦은 나이의 도전이라 부족한 영어 실력으로 많은 어려움에 부딪쳤습니다.',\n",
       "  1),\n",
       " ('조금 늦은 나이의 도전이라 부족한 영어 실력으로 많은 어려움에 부딪쳤습니다.',\n",
       "  '잠깐 좌절도 했지만 그보다 가장 힘들었던 것은 부모님이 주신 소중한 기회를 제대로 활용하고 있지 못하고 있는 저의 모습이었습니다.',\n",
       "  1),\n",
       " ('잠깐 좌절도 했지만 그보다 가장 힘들었던 것은 부모님이 주신 소중한 기회를 제대로 활용하고 있지 못하고 있는 저의 모습이었습니다.',\n",
       "  '저는 좌절보다는 노력을 택하였습니다.',\n",
       "  1)]"
      ]
     },
     "execution_count": 13,
     "metadata": {},
     "output_type": "execute_result"
    }
   ],
   "source": [
    "correctLabel = []\n",
    "\n",
    "for contents in splitData_final:\n",
    "    for content in contents:\n",
    "        for paragraph in content:\n",
    "            for i, sentence in enumerate(paragraph[:-1]):\n",
    "#                 try:\n",
    "                nextSentence = paragraph[i+1]\n",
    "                correctLabel.append((sentence, nextSentence, 1))\n",
    "#                 except IndexError as e:\n",
    "#                     correctLabel.append((sentence, \"\", 1))\n",
    "                    \n",
    "print(len(correctLabel))\n",
    "correctLabel[:3]"
   ]
  },
  {
   "cell_type": "code",
   "execution_count": 4,
   "id": "18174522-8745-4d4e-89ec-c2d126c1bc56",
   "metadata": {},
   "outputs": [],
   "source": [
    "## df로 할 경우\n",
    "# def correctLabeling(contentsList):\n",
    "#     correctDataset = []\n",
    "    \n",
    "#     for content in contentsList:\n",
    "#         for i in range(len(content[:-1])):\n",
    "#             # 문장, 다음문장, label\n",
    "#             correctDataset.append((content[i], content[i+1], 1))\n",
    "            \n",
    "#     return correctDataset\n",
    "\n",
    "# correctLabel = []\n",
    "\n",
    "# for contents in processed_contents['split_content']:\n",
    "#     correctLabel.extend(correctLabeling(contents))\n",
    "    \n",
    "# correctLabel = np.array(correctLabel)\n",
    "# print(correctLabel.shape)\n",
    "# correctLabel[:2]"
   ]
  },
  {
   "cell_type": "markdown",
   "id": "65802e22-7c9b-490a-9454-9c2dc5051f9b",
   "metadata": {},
   "source": [
    "### 데이터 저장"
   ]
  },
  {
   "cell_type": "code",
   "execution_count": 6,
   "id": "4ac3832f-1f80-46b0-a903-f29b13bf4fa4",
   "metadata": {},
   "outputs": [],
   "source": [
    "f=open(\"Correctdata.pickle\", 'wb')\n",
    "pickle.dump(correctLabel, f)\n",
    "f.close()"
   ]
  },
  {
   "cell_type": "markdown",
   "id": "4ddc5a5e-9ed1-4022-8439-64944ea70c9b",
   "metadata": {},
   "source": [
    "## Make Pair Data - 0 Label "
   ]
  },
  {
   "cell_type": "markdown",
   "id": "a19921e4-4e5c-4270-8fe1-b546a8e740c8",
   "metadata": {},
   "source": [
    "* 옳은 문장 데이터 총 개수 : 223521개\n",
    "* 틀리 문장 데이터 총 개수 : 223521개로 구성해야함 - 옳은 문장 데이터와 같이\n",
    "    * 다른 자소서의 랜덤 문장과 매치 : 74507\n",
    "    * 한국어 대화 문장에서 질문과 매치 : 74507\n",
    "    * 한국어 대화 문장에서 답변과 매치 : 74507"
   ]
  },
  {
   "cell_type": "markdown",
   "id": "42da1b9d-23b6-40a9-9f38-d6fd41161bcc",
   "metadata": {},
   "source": [
    "### Make Type1 (자소서 문장, 다른 랜덤 자소서 문장)"
   ]
  },
  {
   "cell_type": "code",
   "execution_count": 14,
   "id": "d5c1b678-7d70-4114-bf95-99cf37cfd39f",
   "metadata": {},
   "outputs": [
    {
     "data": {
      "text/plain": [
       "6760"
      ]
     },
     "execution_count": 14,
     "metadata": {},
     "output_type": "execute_result"
    }
   ],
   "source": [
    "sentenceOfDoc = []\n",
    "\n",
    "for contents in splitData_final:\n",
    "    contentTemp = []\n",
    "    for content in contents:\n",
    "        for paragraph in content:\n",
    "            contentTemp.extend(paragraph)\n",
    "        \n",
    "    sentenceOfDoc.append(contentTemp)\n",
    "    \n",
    "len(sentenceOfDoc)\n",
    "\n",
    "# for contents in processed_contents['split_content']:\n",
    "#     temp = []\n",
    "    \n",
    "#     for content in contents:\n",
    "#         temp.extend(content)\n",
    "        \n",
    "#     sentenceOfDoc.append(temp)"
   ]
  },
  {
   "cell_type": "code",
   "execution_count": 15,
   "id": "e4b54033-fc2b-4448-9104-9bb285d21a24",
   "metadata": {
    "tags": []
   },
   "outputs": [
    {
     "name": "stdout",
     "output_type": "stream",
     "text": [
      "이전:  6760\n",
      "end\n",
      "이후:  6712\n"
     ]
    }
   ],
   "source": [
    "print(\"이전: \", len(sentenceOfDoc))\n",
    "flage =True\n",
    "while flage:\n",
    "    try:\n",
    "        sentenceOfDoc.remove([])\n",
    "    except ValueError:\n",
    "        print('end')\n",
    "        flage = False\n",
    "print(\"이후: \", len(sentenceOfDoc))"
   ]
  },
  {
   "cell_type": "code",
   "execution_count": 16,
   "id": "0747aaab-085c-4bf7-b629-81ab00b18eb7",
   "metadata": {
    "tags": []
   },
   "outputs": [
    {
     "name": "stdout",
     "output_type": "stream",
     "text": [
      "최종 데이터 쌍 개수(Resume): 54278\n"
     ]
    },
    {
     "data": {
      "text/plain": [
       "[('철저한 기초조사와 환경 분석을 바탕으로 시각적이고 기능적인 측면에 치중하기 쉬운 디자인을 환경적. 생태적 측면에서도 종합적으로 고려해 건축물 및 여러 시설과 조화를 이루어 내는 환경을 만들겠습니다.',\n",
       "  '분명 Date나 Time을 받을 때는 문제가 없었지만 datetime-local를 사용할 때에는 오류가 발생하는 것이었습니다.',\n",
       "  0),\n",
       " ('공정개발 직무는 양산에 있어 최고의 수율을 내기 위해 공정개발과 공정조건의 표준화, 모니터링을 통한 품질관리를 하는 업무입니다.',\n",
       "  '적극적으로 고객의 니즈를 파악하고 이를 실현하기 위해 노력하며 그 과정에서 진정으로 고객들이 가진 꿈이 무엇인지 알아내는 빙그레의 영업인이 되겠습니다.',\n",
       "  0),\n",
       " ('저는 아버지 사업으로 인해 중국에서 고등학교를 1년 다니게 되면서 학년을 낮춰서 학교를 다니게 되었습니다.',\n",
       "  '2학년 학생들의 성적표를 분석해야 하다 보니 양이 많았고 혼자 힘으로는 역부족이라 생각해 3명이서 분담했습니다.',\n",
       "  0)]"
      ]
     },
     "execution_count": 16,
     "metadata": {},
     "output_type": "execute_result"
    }
   ],
   "source": [
    "inCorrectResumedata = []\n",
    "\n",
    "while len(inCorrectResumedata) < (len(correctLabel) // 3) + 1:\n",
    "    \n",
    "    doc1_idx = random.randrange(len(sentenceOfDoc))\n",
    "    doc2_idx = random.randrange(len(sentenceOfDoc))\n",
    "\n",
    "    if doc1_idx != doc2_idx:\n",
    "        sentencesOfDoc1 = sentenceOfDoc[doc1_idx]\n",
    "        sentencesOfDoc2 = sentenceOfDoc[doc2_idx]\n",
    "        sentence1_idx = random.randrange(len(sentencesOfDoc1))\n",
    "        sentence2_idx = random.randrange(len(sentencesOfDoc2))\n",
    "        \n",
    "        # '' 아무것도 없는 문장은 넣지 않기\n",
    "        if len(sentencesOfDoc1[sentence1_idx]) != 0 and len(sentencesOfDoc2[sentence2_idx]) != 0:\n",
    "            inCorrectResumedata.append((sentencesOfDoc1[sentence1_idx], sentencesOfDoc2[sentence2_idx], 0))\n",
    "        if len(inCorrectResumedata) % 100 == 0:\n",
    "            print(\"현재 데이터 쌍 개수(Resume): {}\".format(len(inCorrectResumedata)), end='\\r', flush=True)\n",
    "\n",
    "print(\"최종 데이터 쌍 개수(Resume): {}\".format(len(inCorrectResumedata)))\n",
    "inCorrectResumedata[:3]\n",
    "# 중복 제거 해보기"
   ]
  },
  {
   "cell_type": "markdown",
   "id": "27ff68f4-3821-4ba7-af6a-3520304a063f",
   "metadata": {},
   "source": [
    "### Make Type2, 3 (자소서 문장, 한국어 대화 중 질문 or 답변 문장)"
   ]
  },
  {
   "cell_type": "markdown",
   "id": "1aa1d530-a2d3-4ee9-b75c-34752cffb629",
   "metadata": {
    "tags": []
   },
   "source": [
    "#### 외부데이터에서 문장 가져오기"
   ]
  },
  {
   "cell_type": "code",
   "execution_count": 17,
   "id": "5ada9183-eb42-4c01-9d25-ca0627000213",
   "metadata": {},
   "outputs": [],
   "source": [
    "dialog_1 = pd.read_excel('data/Korean_dialog_data/academy(4,773).xlsx', engine='openpyxl')\n",
    "dialog_2 = pd.read_excel('data/Korean_dialog_data/accommodation(7,113).xlsx', engine='openpyxl')\n",
    "dialog_3 = pd.read_excel('data/Korean_dialog_data/cafe(7,859).xlsx', engine='openpyxl')\n",
    "dialog_4 = pd.read_excel('data/Korean_dialog_data/closet(15,826).xlsx', engine='openpyxl')\n",
    "dialog_5 = pd.read_excel('data/Korean_dialog_data/lifeService(11,087).xlsx', engine='openpyxl')\n",
    "dialog_6 = pd.read_excel('data/Korean_dialog_data/realEstate(8,131).xlsx', engine='openpyxl')\n",
    "dialog_7 = pd.read_excel('data/Korean_dialog_data/Restaurant(15,726).xlsx', engine='openpyxl')\n",
    "dialog_8 = pd.read_excel('data/Korean_dialog_data/retailStore(14,949).xlsx', engine='openpyxl')\n",
    "dialog_9 = pd.read_excel('data/Korean_dialog_data/tourLeisureEntertainment(4,949).xlsx', engine='openpyxl')\n",
    "\n",
    "dialogs = [dialog_1, dialog_2, dialog_3, dialog_4, dialog_5, dialog_6, dialog_7, dialog_8, dialog_9]"
   ]
  },
  {
   "cell_type": "code",
   "execution_count": 18,
   "id": "e5972f13-e453-4cc9-bfed-bdd3a965e92a",
   "metadata": {},
   "outputs": [
    {
     "data": {
      "text/html": [
       "<div>\n",
       "<style scoped>\n",
       "    .dataframe tbody tr th:only-of-type {\n",
       "        vertical-align: middle;\n",
       "    }\n",
       "\n",
       "    .dataframe tbody tr th {\n",
       "        vertical-align: top;\n",
       "    }\n",
       "\n",
       "    .dataframe thead th {\n",
       "        text-align: right;\n",
       "    }\n",
       "</style>\n",
       "<table border=\"1\" class=\"dataframe\">\n",
       "  <thead>\n",
       "    <tr style=\"text-align: right;\">\n",
       "      <th></th>\n",
       "      <th>SPEAKER</th>\n",
       "      <th>SENTENCE</th>\n",
       "      <th>DOMAINID</th>\n",
       "      <th>DOMAIN</th>\n",
       "      <th>CATEGORY</th>\n",
       "      <th>SPEAKERID</th>\n",
       "      <th>SENTENCEID</th>\n",
       "      <th>MAIN</th>\n",
       "      <th>SUB</th>\n",
       "      <th>QA</th>\n",
       "      <th>QACNCT</th>\n",
       "      <th>MQ</th>\n",
       "      <th>SQ</th>\n",
       "      <th>UA</th>\n",
       "      <th>SA</th>\n",
       "      <th>개체명</th>\n",
       "      <th>용어사전</th>\n",
       "      <th>지식베이스</th>\n",
       "    </tr>\n",
       "  </thead>\n",
       "  <tbody>\n",
       "    <tr>\n",
       "      <th>0</th>\n",
       "      <td>고객</td>\n",
       "      <td>1시간에 얼마인가요?</td>\n",
       "      <td>H</td>\n",
       "      <td>관광여가오락</td>\n",
       "      <td>pc방</td>\n",
       "      <td>1</td>\n",
       "      <td>1</td>\n",
       "      <td>이용 가격 문의</td>\n",
       "      <td>NaN</td>\n",
       "      <td>Q</td>\n",
       "      <td>NaN</td>\n",
       "      <td>1시간에 얼마인가요?</td>\n",
       "      <td>NaN</td>\n",
       "      <td>NaN</td>\n",
       "      <td>NaN</td>\n",
       "      <td>1시간</td>\n",
       "      <td>NaN</td>\n",
       "      <td>1 시간/이용시간</td>\n",
       "    </tr>\n",
       "    <tr>\n",
       "      <th>1</th>\n",
       "      <td>점원</td>\n",
       "      <td>처음 1시간은 1000원이고 이후 1시간은 500원씩 추가됩니다</td>\n",
       "      <td>H</td>\n",
       "      <td>관광여가오락</td>\n",
       "      <td>pc방</td>\n",
       "      <td>0</td>\n",
       "      <td>2</td>\n",
       "      <td>이용 가격 문의</td>\n",
       "      <td>NaN</td>\n",
       "      <td>A</td>\n",
       "      <td>NaN</td>\n",
       "      <td>NaN</td>\n",
       "      <td>NaN</td>\n",
       "      <td>NaN</td>\n",
       "      <td>처음 1시간은 1000원이고 이후 1시간은 500원씩 추가됩니다</td>\n",
       "      <td>처음, 1시간, 1000원, 이후, 1시간, 500원, 추가</td>\n",
       "      <td>NaN</td>\n",
       "      <td>1시간/이용시간, 1000원/이용가격, 1시간/이용시간, 500원/이용가격</td>\n",
       "    </tr>\n",
       "  </tbody>\n",
       "</table>\n",
       "</div>"
      ],
      "text/plain": [
       "  SPEAKER                             SENTENCE DOMAINID  DOMAIN CATEGORY  \\\n",
       "0      고객                          1시간에 얼마인가요?        H  관광여가오락      pc방   \n",
       "1      점원  처음 1시간은 1000원이고 이후 1시간은 500원씩 추가됩니다        H  관광여가오락      pc방   \n",
       "\n",
       "   SPEAKERID  SENTENCEID      MAIN  SUB QA  QACNCT           MQ   SQ   UA  \\\n",
       "0          1           1  이용 가격 문의  NaN  Q     NaN  1시간에 얼마인가요?  NaN  NaN   \n",
       "1          0           2  이용 가격 문의  NaN  A     NaN          NaN  NaN  NaN   \n",
       "\n",
       "                                    SA                                개체명  \\\n",
       "0                                  NaN                                1시간   \n",
       "1  처음 1시간은 1000원이고 이후 1시간은 500원씩 추가됩니다  처음, 1시간, 1000원, 이후, 1시간, 500원, 추가   \n",
       "\n",
       "  용어사전                                      지식베이스  \n",
       "0  NaN                                  1 시간/이용시간  \n",
       "1  NaN  1시간/이용시간, 1000원/이용가격, 1시간/이용시간, 500원/이용가격  "
      ]
     },
     "execution_count": 18,
     "metadata": {},
     "output_type": "execute_result"
    }
   ],
   "source": [
    "dialog_9.head(2)"
   ]
  },
  {
   "cell_type": "code",
   "execution_count": 19,
   "id": "013d9f4a-9091-4873-92e0-3f72d98d491b",
   "metadata": {},
   "outputs": [
    {
     "data": {
      "text/plain": [
       "(47148, 32832)"
      ]
     },
     "execution_count": 19,
     "metadata": {},
     "output_type": "execute_result"
    }
   ],
   "source": [
    "Qdata = []\n",
    "Adata = []\n",
    "\n",
    "# 질문, 답변 추출\n",
    "for i, dialog in enumerate(dialogs):\n",
    "    for sentence in dialog[dialog.QA == 'Q']['SENTENCE']:\n",
    "        Qdata.append(sentence)\n",
    "        \n",
    "    for sentence in dialog[dialog.QA == 'A']['SENTENCE']:\n",
    "        Adata.append(sentence)\n",
    "        \n",
    "# 중복제거\n",
    "Qdata = list(set(Qdata))\n",
    "Adata = list(set(Adata))\n",
    "len(Qdata), len(Adata)"
   ]
  },
  {
   "cell_type": "code",
   "execution_count": 20,
   "id": "d4e80bcc-f855-4da7-9aef-f91c29b69279",
   "metadata": {},
   "outputs": [
    {
     "data": {
      "text/plain": [
       "224660"
      ]
     },
     "execution_count": 20,
     "metadata": {},
     "output_type": "execute_result"
    }
   ],
   "source": [
    "# 자기소개서 문장 리스트\n",
    "sentencesOfResumes = []\n",
    "\n",
    "for contents in splitData_final:\n",
    "    contentTemp = []\n",
    "    for content in contents:\n",
    "        for paragraph in content:\n",
    "            contentTemp.extend(paragraph)\n",
    "        \n",
    "    sentencesOfResumes.extend(contentTemp)\n",
    "\n",
    "sentencesOfResumes = list(set(sentencesOfResumes))    \n",
    "len(sentencesOfResumes)"
   ]
  },
  {
   "cell_type": "markdown",
   "id": "cbc36e4b-b6a3-49c6-bc17-bc7946faf191",
   "metadata": {
    "tags": []
   },
   "source": [
    "#### 자소서 문서와 한국어 대화 질문or답변 문장 pair index 데이터 구축"
   ]
  },
  {
   "cell_type": "markdown",
   "id": "7855d366-5021-4945-904f-078a90d08e69",
   "metadata": {},
   "source": [
    "이전에 계속해서 랜덤 숫자를 입력하여 할 경우 중복되는 경우의 수가 자주 발생하여 **시간이 오래**걸린다\n",
    "\n",
    "**대안**\\\n",
    "**조합**을 이용하여 자기소개서와 한국어 대화 질문 or 답변 문장의 모든 경우의 수를 구한뒤 원하는 개수만큼 랜덤 추출을 한다.\\\n",
    "실행 중간 memory부족이 발생하여 데이터 나누어서 실행"
   ]
  },
  {
   "cell_type": "code",
   "execution_count": 21,
   "id": "249e1a7d-b9ef-4faa-ad95-d14216e8d401",
   "metadata": {
    "tags": []
   },
   "outputs": [
    {
     "name": "stdout",
     "output_type": "stream",
     "text": [
      "Complet 한국어 대화 질문 랜덤용 자소서 index : 54278개\n",
      "Complet 한국어 대화 답변 랜덤용 자소서 index : 54277개\n"
     ]
    }
   ],
   "source": [
    "sentenceIdx_Q = []\n",
    "\n",
    "# 자소서 문장 n개 랜덤 index 생성 (질문 문장이랑 Pair)\n",
    "while len(sentenceIdx_Q) < (len(correctLabel) // 3) + 1:\n",
    "    randIdx = random.randrange(len(sentencesOfResumes))\n",
    "    if randIdx not in sentenceIdx_Q:\n",
    "        sentenceIdx_Q.append(randIdx)\n",
    "        if len(sentenceIdx_Q) % 100 == 0:\n",
    "            print(len(sentenceIdx_Q), end='\\r', flush=True)\n",
    "            \n",
    "print(\"Complet 한국어 대화 질문 랜덤용 자소서 index : {}개\".format(len(sentenceIdx_Q)))\n",
    "            \n",
    "sentenceIdx_A = []\n",
    "\n",
    "# 자소서 문장 n개 랜덤 index 생성 (답변 문장이랑 Pair)\n",
    "while len(sentenceIdx_A) < len(correctLabel) // 3:\n",
    "    randIdx = random.randrange(len(sentencesOfResumes))\n",
    "    if randIdx not in sentenceIdx_A:\n",
    "        sentenceIdx_A.append(randIdx)\n",
    "        if len(sentenceIdx_A) % 100 == 0:\n",
    "            print(len(sentenceIdx_A), end='\\r', flush=True)\n",
    "            \n",
    "print(\"Complet 한국어 대화 답변 랜덤용 자소서 index : {}개\".format(len(sentenceIdx_A)))"
   ]
  },
  {
   "cell_type": "code",
   "execution_count": 22,
   "id": "9f555153-1f13-421f-977a-cc5cfb4cff6e",
   "metadata": {},
   "outputs": [
    {
     "name": "stdout",
     "output_type": "stream",
     "text": [
      "Complet 한국어 대화 질문 랜덤 index : 54278개\n",
      "Complet 한국어 대화 답변 랜덤 index : 54277개\n"
     ]
    }
   ],
   "source": [
    "# 한국어 대화 질문 문장 n개 랜덤 index 생성\n",
    "dupliQNum = (len(correctLabel) // 3) // len(Qdata)\n",
    "\n",
    "QIdxList = list(range(len(Qdata))) * dupliQNum\n",
    "QIdx = []\n",
    "wantQDataNum = (len(correctLabel) // 3 + 1) - (len(Qdata) * dupliQNum)\n",
    "\n",
    "while len(QIdx) < wantQDataNum:\n",
    "    randIdx = random.randrange(len(Qdata))\n",
    "    if randIdx not in QIdx:\n",
    "        QIdx.append(randIdx)\n",
    "        if len(QIdx) % 100 == 0:\n",
    "            print(len(QIdx), end='\\r', flush=True)\n",
    "            \n",
    "QIdxList.extend(QIdx)\n",
    "print(\"Complet 한국어 대화 질문 랜덤 index : {}개\".format(len(QIdxList)))\n",
    "\n",
    "# 한국어 대화 답변 문장 n개 랜덤 index 생성\n",
    "dupliANum = (len(correctLabel) // 3) // len(Adata)\n",
    "\n",
    "AIdxList = list(range(len(Adata))) * dupliANum\n",
    "AIdx = []\n",
    "wantADataNum = (len(correctLabel) // 3) - (len(Adata) * dupliANum)\n",
    "\n",
    "while len(AIdx) < wantADataNum:\n",
    "    randIdx = random.randrange(len(Adata))\n",
    "    if randIdx not in AIdx:\n",
    "        AIdx.append(randIdx)\n",
    "        if len(AIdx) % 100 == 0:\n",
    "            print(len(AIdx), end='\\r', flush=True)\n",
    "            \n",
    "AIdxList.extend(AIdx)\n",
    "print(\"Complet 한국어 대화 답변 랜덤 index : {}개\".format(len(AIdxList)))"
   ]
  },
  {
   "cell_type": "code",
   "execution_count": 23,
   "id": "74530656-105f-48bc-8b79-b9bd7aa9be14",
   "metadata": {},
   "outputs": [
    {
     "name": "stdout",
     "output_type": "stream",
     "text": [
      "Complet making incorrect pair data - (자소서 문장, 한국어 대화 답변)  : 54278개\n",
      "[('친구들과 용돈과 추억이란 두 마리 토끼를 잡기 위해서, 신촌 즉석 사진 찍기 아르바이트를 했습니다.', '4명 김치 전골 시킬건데 할인 쿠폰 사용가능하죠?', 0), ('다양한 측면에서 사고하는 힘을 발휘해 한미약품의 미래 성장 동력을 발굴하겠습니다.', '현금영수증도 할게요', 0), ('고3 수능시험을 본 후 지원했던 학교 모두 탈락했을 때가 제가 가장 좌절했던 순간이 아닐까 생각합니다.', '토지 100평 정도 사고 싶은데 있나요?', 0)]\n"
     ]
    }
   ],
   "source": [
    "random.shuffle(QIdxList)\n",
    "random.shuffle(sentenceIdx_Q)\n",
    "\n",
    "inCorrectQdata = []\n",
    "\n",
    "for i, j in zip(sentenceIdx_Q, QIdxList):\n",
    "    inCorrectQdata.append((sentencesOfResumes[i], Qdata[j], 0))\n",
    "    \n",
    "print(\"Complet making incorrect pair data - (자소서 문장, 한국어 대화 답변)  : {}개\".format(len(inCorrectQdata)))\n",
    "print(inCorrectQdata[:3])"
   ]
  },
  {
   "cell_type": "code",
   "execution_count": 24,
   "id": "4c6c5757-ad3f-4372-bd4d-75733c215f16",
   "metadata": {},
   "outputs": [
    {
     "name": "stdout",
     "output_type": "stream",
     "text": [
      "Complet making incorrect pair data - (자소서 문장, 한국어 대화 답변)  : 54277개\n",
      "[('이 과정에서 시장 수요예측부터 자재 소요계획, 조달 전략까지 공부하면서 기업 내외부의 자원 흐름과 재고 감축 방안에 관해 고민할 수 있었습니다.', '앞쪽에 핸드폰 번호 찍어주시면 포인트 확인해드릴게요', 0), ('이제는 가치 창조와 미래를 선도하는 행복한 경신을 만들어 나가는 도전에 과감히 행동으로 옮기는 인재가 될 것입니다.', '지금 이게 안되요', 0), ('그렇게 적극적인 자세와 뜨거운 열정을 지닌 채 맡은 직무뿐만 아니라 다방면에 능통한 전문가로 탈바꿈하여 게임으로 하나 되는 세상을 만들어가고 싶습니다.', '생크림 케이크는 18000원이에요', 0)]\n"
     ]
    }
   ],
   "source": [
    "# 순서 섞어주기\n",
    "random.shuffle(AIdxList)\n",
    "random.shuffle(sentenceIdx_A)\n",
    "\n",
    "inCorrectAdata = []\n",
    "\n",
    "for i, j in zip(sentenceIdx_A, AIdxList):\n",
    "    inCorrectAdata.append((sentencesOfResumes[i], Adata[j], 0))\n",
    "    \n",
    "print(\"Complet making incorrect pair data - (자소서 문장, 한국어 대화 답변)  : {}개\".format(len(inCorrectAdata)))\n",
    "print(inCorrectAdata[:3])"
   ]
  },
  {
   "cell_type": "code",
   "execution_count": 25,
   "id": "e817ba8c-cae7-4bcd-a374-e2a147d2384f",
   "metadata": {},
   "outputs": [
    {
     "name": "stdout",
     "output_type": "stream",
     "text": [
      "Complet making incorrect pair data: 162833개\n"
     ]
    },
    {
     "data": {
      "text/plain": [
       "[('사소한 것이라 생각하셔서 혹은 문제없을 것이란 이유로 본인 편의를 봐주시길 바라시는 분이 거절당하셨을 때 , 제 평판을 폄훼하시곤 하셨습니다.',\n",
       "  '처음 봤을 때 아이는 부정적 태도와 거친 성향을 보이며 대화와 학습을 거부했습니다.',\n",
       "  0),\n",
       " ('어렵고 힘든 일을 피하려고 생각하기보다는 해냈을 때의 성취감을 먼저 상상하는 사람입니다.', '아니요 똑같아요', 0),\n",
       " ('또한, 사물 인터넷을 항만 및 항만 배후단지와 연계한다면 정보 처리 속도를 높여 생산성 향상에도 이바지할 수 있을 것입니다.',\n",
       "  '디저트는 커피가 안 되고요 녹차랑 사이다 콜라만 나옵니다',\n",
       "  0)]"
      ]
     },
     "execution_count": 25,
     "metadata": {},
     "output_type": "execute_result"
    }
   ],
   "source": [
    "inCorrectData = []\n",
    "inCorrectData.extend(inCorrectResumedata)\n",
    "inCorrectData.extend(inCorrectQdata)\n",
    "inCorrectData.extend(inCorrectAdata)\n",
    "random.shuffle(inCorrectData)\n",
    "print(\"Complet making incorrect pair data: {}개\".format(len(inCorrectData)))\n",
    "inCorrectData[:3]"
   ]
  },
  {
   "cell_type": "markdown",
   "id": "9b235537-7c11-49ab-a6c9-e2fd4967a0b3",
   "metadata": {},
   "source": [
    "### 데이터 저장"
   ]
  },
  {
   "cell_type": "code",
   "execution_count": 80,
   "id": "4596ccfa-19b4-4960-84ea-1b23317db421",
   "metadata": {},
   "outputs": [],
   "source": [
    "f = open(\"inCorrectdata.pickle\", 'wb')\n",
    "pickle.dump(inCorrectData, f)\n",
    "f.close()"
   ]
  },
  {
   "cell_type": "markdown",
   "id": "30cf306b-6a76-4d23-8287-9ea4c37338bb",
   "metadata": {},
   "source": [
    "## 모든 데이터 병합"
   ]
  },
  {
   "cell_type": "code",
   "execution_count": 26,
   "id": "22b86c76-70b8-41c2-a7b3-a72344d5a557",
   "metadata": {},
   "outputs": [
    {
     "data": {
      "text/plain": [
       "(162831, 162833)"
      ]
     },
     "execution_count": 26,
     "metadata": {},
     "output_type": "execute_result"
    }
   ],
   "source": [
    "len(correctLabel), len(inCorrectData)"
   ]
  },
  {
   "cell_type": "code",
   "execution_count": 27,
   "id": "034bc646-91f4-47b1-8d0a-df3c74d8c14c",
   "metadata": {},
   "outputs": [
    {
     "name": "stdout",
     "output_type": "stream",
     "text": [
      "Complet making Pair data: 325662개\n"
     ]
    },
    {
     "data": {
      "text/plain": [
       "[('둘째, ICT 산학협력 SW 교에서는 오답 노트 시스템을 개발했습니다.', '네 좋아해요', 0),\n",
       " ('금융업계에서의 올해 최고 이슈는 ‘핀테크’입니다.',\n",
       "  '은행을 비롯해 모든 금융업계는 IT인프라를 늘리고, 관련 부서를 신설하는 등 핀테크에 큰 관심을 쏟고 있습니다.',\n",
       "  1),\n",
       " ('이러한 열정과 도전정신은 저의 인생 모토가 되었고 어떠한 위기와 역경에도 일단 부딪혀 보며 해결책을 찾고자 하였습니다.',\n",
       "  '학생회를 통해 리더십과 책임감을 발휘할 수 있었으며 혼자가 아닌 팀으로 하여 더 효율적이며 강한 팀워크를 발휘할 수 있었습니다.',\n",
       "  0)]"
      ]
     },
     "execution_count": 27,
     "metadata": {},
     "output_type": "execute_result"
    }
   ],
   "source": [
    "sentencePairData = []\n",
    "sentencePairData.extend(correctLabel)\n",
    "sentencePairData.extend(inCorrectData)\n",
    "random.shuffle(sentencePairData)\n",
    "print(\"Complet making Pair data: {}개\".format(len(sentencePairData)))\n",
    "sentencePairData[:3]"
   ]
  },
  {
   "cell_type": "code",
   "execution_count": null,
   "id": "7df45efe-7b8e-488c-bd09-a3551c52944a",
   "metadata": {},
   "outputs": [],
   "source": [
    "# DataFrame으로 만들기\n",
    "df = pd.DataFrame(sentencePairData, columns=['first_sentence', 'second_sentence', 'label'])\n",
    "df.head()"
   ]
  },
  {
   "cell_type": "code",
   "execution_count": 34,
   "id": "a0637e93-e6d1-4d61-a744-2fd9c3d1471b",
   "metadata": {},
   "outputs": [
    {
     "data": {
      "text/html": [
       "<div>\n",
       "<style scoped>\n",
       "    .dataframe tbody tr th:only-of-type {\n",
       "        vertical-align: middle;\n",
       "    }\n",
       "\n",
       "    .dataframe tbody tr th {\n",
       "        vertical-align: top;\n",
       "    }\n",
       "\n",
       "    .dataframe thead th {\n",
       "        text-align: right;\n",
       "    }\n",
       "</style>\n",
       "<table border=\"1\" class=\"dataframe\">\n",
       "  <thead>\n",
       "    <tr style=\"text-align: right;\">\n",
       "      <th></th>\n",
       "      <th>first_sentence</th>\n",
       "      <th>second_sentence</th>\n",
       "      <th>label</th>\n",
       "    </tr>\n",
       "  </thead>\n",
       "  <tbody>\n",
       "    <tr>\n",
       "      <th>46400</th>\n",
       "      <td>여행은 사람이 살아가는 데 있어서 출장, 신혼여행, 가족여행 등의 다양한 목적으로 ...</td>\n",
       "      <td>조경기사와 자연생태복원기사를 취득함으로써 환경 분야의 기술기초이론과 실무지식을 쌓았...</td>\n",
       "      <td>0</td>\n",
       "    </tr>\n",
       "    <tr>\n",
       "      <th>199092</th>\n",
       "      <td>3년간의 영업사원을 통해 거리에서 시작해 우수사원이 되기까지 많은 고객을 상대하며 ...</td>\n",
       "      <td>등이 있습니다.</td>\n",
       "      <td>0</td>\n",
       "    </tr>\n",
       "  </tbody>\n",
       "</table>\n",
       "</div>"
      ],
      "text/plain": [
       "                                           first_sentence  \\\n",
       "46400   여행은 사람이 살아가는 데 있어서 출장, 신혼여행, 가족여행 등의 다양한 목적으로 ...   \n",
       "199092  3년간의 영업사원을 통해 거리에서 시작해 우수사원이 되기까지 많은 고객을 상대하며 ...   \n",
       "\n",
       "                                          second_sentence  label  \n",
       "46400   조경기사와 자연생태복원기사를 취득함으로써 환경 분야의 기술기초이론과 실무지식을 쌓았...      0  \n",
       "199092                                           등이 있습니다.      0  "
      ]
     },
     "execution_count": 34,
     "metadata": {},
     "output_type": "execute_result"
    }
   ],
   "source": [
    "df[df.first_sentence.str.len() >  400]"
   ]
  },
  {
   "cell_type": "code",
   "execution_count": 35,
   "id": "9d679bad-0d3f-4aef-b35e-11791cdc6a7f",
   "metadata": {},
   "outputs": [
    {
     "data": {
      "text/html": [
       "<div>\n",
       "<style scoped>\n",
       "    .dataframe tbody tr th:only-of-type {\n",
       "        vertical-align: middle;\n",
       "    }\n",
       "\n",
       "    .dataframe tbody tr th {\n",
       "        vertical-align: top;\n",
       "    }\n",
       "\n",
       "    .dataframe thead th {\n",
       "        text-align: right;\n",
       "    }\n",
       "</style>\n",
       "<table border=\"1\" class=\"dataframe\">\n",
       "  <thead>\n",
       "    <tr style=\"text-align: right;\">\n",
       "      <th></th>\n",
       "      <th>first_sentence</th>\n",
       "      <th>second_sentence</th>\n",
       "      <th>label</th>\n",
       "    </tr>\n",
       "  </thead>\n",
       "  <tbody>\n",
       "    <tr>\n",
       "      <th>24831</th>\n",
       "      <td>＞</td>\n",
       "      <td>파운드리 업체의 공정 사고는 고객 신뢰를 떨어뜨릴 수 있으며, 작은 부주의가 큰 사...</td>\n",
       "      <td>0</td>\n",
       "    </tr>\n",
       "    <tr>\n",
       "      <th>25449</th>\n",
       "      <td>주</td>\n",
       "      <td>네 맞을 것 같아요</td>\n",
       "      <td>0</td>\n",
       "    </tr>\n",
       "    <tr>\n",
       "      <th>93207</th>\n",
       "      <td>원</td>\n",
       "      <td>테이크아웃 컵이 하나 더 필요한데 금액이 추가되나요?</td>\n",
       "      <td>0</td>\n",
       "    </tr>\n",
       "    <tr>\n",
       "      <th>133462</th>\n",
       "      <td>2</td>\n",
       "      <td>1호가 얼마에요?</td>\n",
       "      <td>0</td>\n",
       "    </tr>\n",
       "    <tr>\n",
       "      <th>157698</th>\n",
       "      <td>그</td>\n",
       "      <td>또한, 활발한 소통이 이루어지는 조직일 수록 성과가 높고 갈등 해결이 원활하다는 것...</td>\n",
       "      <td>0</td>\n",
       "    </tr>\n",
       "    <tr>\n",
       "      <th>159645</th>\n",
       "      <td>그</td>\n",
       "      <td>1개에 1000원인데 단골이시니까 5000원에 드릴게</td>\n",
       "      <td>0</td>\n",
       "    </tr>\n",
       "    <tr>\n",
       "      <th>173848</th>\n",
       "      <td>유</td>\n",
       "      <td>당시 저는 서장님의 운전병 직무를 맡아 비서실에서 근무하였고, 제 동기는 구조대에 ...</td>\n",
       "      <td>0</td>\n",
       "    </tr>\n",
       "    <tr>\n",
       "      <th>207370</th>\n",
       "      <td>.</td>\n",
       "      <td>휴학하기 전 마케팅 연수를 듣고 `컴퓨터공학도가 마케터처럼 아이디어가 많으면 얼마나...</td>\n",
       "      <td>0</td>\n",
       "    </tr>\n",
       "    <tr>\n",
       "      <th>211035</th>\n",
       "      <td>-</td>\n",
       "      <td>가게 언제 여나요?</td>\n",
       "      <td>0</td>\n",
       "    </tr>\n",
       "    <tr>\n",
       "      <th>271288</th>\n",
       "      <td>`</td>\n",
       "      <td>네, 수수료 부담하셔야 합니다</td>\n",
       "      <td>0</td>\n",
       "    </tr>\n",
       "  </tbody>\n",
       "</table>\n",
       "</div>"
      ],
      "text/plain": [
       "       first_sentence                                    second_sentence  \\\n",
       "24831               ＞  파운드리 업체의 공정 사고는 고객 신뢰를 떨어뜨릴 수 있으며, 작은 부주의가 큰 사...   \n",
       "25449               주                                         네 맞을 것 같아요   \n",
       "93207               원                      테이크아웃 컵이 하나 더 필요한데 금액이 추가되나요?   \n",
       "133462              2                                          1호가 얼마에요?   \n",
       "157698              그  또한, 활발한 소통이 이루어지는 조직일 수록 성과가 높고 갈등 해결이 원활하다는 것...   \n",
       "159645              그                      1개에 1000원인데 단골이시니까 5000원에 드릴게   \n",
       "173848              유  당시 저는 서장님의 운전병 직무를 맡아 비서실에서 근무하였고, 제 동기는 구조대에 ...   \n",
       "207370              .  휴학하기 전 마케팅 연수를 듣고 `컴퓨터공학도가 마케터처럼 아이디어가 많으면 얼마나...   \n",
       "211035              -                                         가게 언제 여나요?   \n",
       "271288              `                                   네, 수수료 부담하셔야 합니다   \n",
       "\n",
       "        label  \n",
       "24831       0  \n",
       "25449       0  \n",
       "93207       0  \n",
       "133462      0  \n",
       "157698      0  \n",
       "159645      0  \n",
       "173848      0  \n",
       "207370      0  \n",
       "211035      0  \n",
       "271288      0  "
      ]
     },
     "execution_count": 35,
     "metadata": {},
     "output_type": "execute_result"
    }
   ],
   "source": [
    "df[df.first_sentence.str.len() == 1]"
   ]
  },
  {
   "cell_type": "markdown",
   "id": "29e7c287-ee7d-4c66-b1e0-8756957e16b1",
   "metadata": {
    "tags": []
   },
   "source": [
    "### 데이터 저장"
   ]
  },
  {
   "cell_type": "code",
   "execution_count": 52,
   "id": "3fa2c3a2-7102-4997-8363-8cf7273dc05f",
   "metadata": {},
   "outputs": [],
   "source": [
    "df.to_csv(\"sentencePairData.csv\")"
   ]
  },
  {
   "cell_type": "markdown",
   "id": "dc58efcc-2f6f-4bd5-a69f-e23243982ebd",
   "metadata": {
    "tags": []
   },
   "source": [
    "## 기타"
   ]
  },
  {
   "cell_type": "markdown",
   "id": "3bfe41a5-421f-4488-9a98-c25f06414ea4",
   "metadata": {},
   "source": [
    "### 토크나이즈 후 최대길이 확인"
   ]
  },
  {
   "cell_type": "code",
   "execution_count": 2,
   "id": "79f9cb9b-b3af-4396-a3e3-1f3c3bcb8841",
   "metadata": {},
   "outputs": [
    {
     "data": {
      "text/html": [
       "<div>\n",
       "<style scoped>\n",
       "    .dataframe tbody tr th:only-of-type {\n",
       "        vertical-align: middle;\n",
       "    }\n",
       "\n",
       "    .dataframe tbody tr th {\n",
       "        vertical-align: top;\n",
       "    }\n",
       "\n",
       "    .dataframe thead th {\n",
       "        text-align: right;\n",
       "    }\n",
       "</style>\n",
       "<table border=\"1\" class=\"dataframe\">\n",
       "  <thead>\n",
       "    <tr style=\"text-align: right;\">\n",
       "      <th></th>\n",
       "      <th>first_sentence</th>\n",
       "      <th>second_sentence</th>\n",
       "      <th>label</th>\n",
       "    </tr>\n",
       "  </thead>\n",
       "  <tbody>\n",
       "    <tr>\n",
       "      <th>0</th>\n",
       "      <td>둘째, ICT 산학협력 SW 교에서는 오답 노트 시스템을 개발했습니다.</td>\n",
       "      <td>네 좋아해요</td>\n",
       "      <td>0</td>\n",
       "    </tr>\n",
       "    <tr>\n",
       "      <th>1</th>\n",
       "      <td>금융업계에서의 올해 최고 이슈는 ‘핀테크’입니다.</td>\n",
       "      <td>은행을 비롯해 모든 금융업계는 IT인프라를 늘리고, 관련 부서를 신설하는 등 핀테크...</td>\n",
       "      <td>1</td>\n",
       "    </tr>\n",
       "    <tr>\n",
       "      <th>2</th>\n",
       "      <td>이러한 열정과 도전정신은 저의 인생 모토가 되었고 어떠한 위기와 역경에도 일단 부딪...</td>\n",
       "      <td>학생회를 통해 리더십과 책임감을 발휘할 수 있었으며 혼자가 아닌 팀으로 하여 더 효...</td>\n",
       "      <td>0</td>\n",
       "    </tr>\n",
       "    <tr>\n",
       "      <th>3</th>\n",
       "      <td>업무일지 작성으로 사내 인력과 상황에의 대처능력과 조직적응력을 빠르게 나타내겠습니다.</td>\n",
       "      <td>선수들이 거세게 항의를 하면 판정을 번복하기도 하고, 스로인 반칙을 보고도 그냥 넘...</td>\n",
       "      <td>0</td>\n",
       "    </tr>\n",
       "    <tr>\n",
       "      <th>4</th>\n",
       "      <td>카드는 여행 구성에 상관없이 반드시 쓰는 혜택을 구성하고 O2O 서비스를 통해 고객...</td>\n",
       "      <td>신한 판클럽은 야 놀자 하고 제휴는 맺었지만 여행지나 렌터카 등 부가적인 서비스는 ...</td>\n",
       "      <td>1</td>\n",
       "    </tr>\n",
       "  </tbody>\n",
       "</table>\n",
       "</div>"
      ],
      "text/plain": [
       "                                      first_sentence  \\\n",
       "0            둘째, ICT 산학협력 SW 교에서는 오답 노트 시스템을 개발했습니다.   \n",
       "1                        금융업계에서의 올해 최고 이슈는 ‘핀테크’입니다.   \n",
       "2  이러한 열정과 도전정신은 저의 인생 모토가 되었고 어떠한 위기와 역경에도 일단 부딪...   \n",
       "3    업무일지 작성으로 사내 인력과 상황에의 대처능력과 조직적응력을 빠르게 나타내겠습니다.   \n",
       "4  카드는 여행 구성에 상관없이 반드시 쓰는 혜택을 구성하고 O2O 서비스를 통해 고객...   \n",
       "\n",
       "                                     second_sentence  label  \n",
       "0                                             네 좋아해요      0  \n",
       "1  은행을 비롯해 모든 금융업계는 IT인프라를 늘리고, 관련 부서를 신설하는 등 핀테크...      1  \n",
       "2  학생회를 통해 리더십과 책임감을 발휘할 수 있었으며 혼자가 아닌 팀으로 하여 더 효...      0  \n",
       "3  선수들이 거세게 항의를 하면 판정을 번복하기도 하고, 스로인 반칙을 보고도 그냥 넘...      0  \n",
       "4  신한 판클럽은 야 놀자 하고 제휴는 맺었지만 여행지나 렌터카 등 부가적인 서비스는 ...      1  "
      ]
     },
     "execution_count": 2,
     "metadata": {},
     "output_type": "execute_result"
    }
   ],
   "source": [
    "DATA_PATH = '../../3.data/BERT/'\n",
    "PAIRDATA_PATH = 'sentencePairData.csv'\n",
    "data_df = pd.read_csv(DATA_PATH + PAIRDATA_PATH, index_col=0)\n",
    "data_df.columns = ['first_sentence', 'second_sentence', 'label']\n",
    "# data_df = data_df.astype({'first_sentence':'str', 'second_sentence':'str'}) # 숫자로된 데이터를 문자열로 변경\n",
    "data_df.head()"
   ]
  },
  {
   "cell_type": "code",
   "execution_count": 6,
   "id": "522aa4bf-9a10-4a2f-a12a-20557939f41f",
   "metadata": {
    "scrolled": true,
    "tags": []
   },
   "outputs": [],
   "source": [
    "for i in range(len(data_df)):\n",
    "    if not isinstance(data_df.iloc[i]['first_sentence'], str):\n",
    "        \n",
    "        data_df.loc[i, 'first_sentence'] = str(data_df.iloc[i]['first_sentence'])\n",
    "        \n",
    "    if not isinstance(data_df.iloc[i]['second_sentence'], str):\n",
    "        print(\"s\",i)\n",
    "        print(df.iloc[i].second_sentence)\n",
    "        data_df.loc[i, 'second_sentence'] = str(data_df.iloc[i]['second_sentence'])"
   ]
  },
  {
   "cell_type": "code",
   "execution_count": 7,
   "id": "0e52461f-54e0-4faa-aed4-40013b10165d",
   "metadata": {},
   "outputs": [],
   "source": [
    "from transformers import ElectraTokenizer\n",
    "tokenizer = ElectraTokenizer.from_pretrained(\"monologg/koelectra-base-v3-discriminator\")"
   ]
  },
  {
   "cell_type": "code",
   "execution_count": 9,
   "id": "29637d37-afc8-447b-b97e-cd65ef408847",
   "metadata": {},
   "outputs": [
    {
     "data": {
      "text/plain": [
       "[['둘째, ICT 산학협력 SW 교에서는 오답 노트 시스템을 개발했습니다.', '네 좋아해요'],\n",
       " ['금융업계에서의 올해 최고 이슈는 ‘핀테크’입니다.',\n",
       "  '은행을 비롯해 모든 금융업계는 IT인프라를 늘리고, 관련 부서를 신설하는 등 핀테크에 큰 관심을 쏟고 있습니다.'],\n",
       " ['이러한 열정과 도전정신은 저의 인생 모토가 되었고 어떠한 위기와 역경에도 일단 부딪혀 보며 해결책을 찾고자 하였습니다.',\n",
       "  '학생회를 통해 리더십과 책임감을 발휘할 수 있었으며 혼자가 아닌 팀으로 하여 더 효율적이며 강한 팀워크를 발휘할 수 있었습니다.']]"
      ]
     },
     "execution_count": 9,
     "metadata": {},
     "output_type": "execute_result"
    }
   ],
   "source": [
    "sentencePair = []\n",
    "for i in range(len(data_df)):\n",
    "    temp_df = data_df.iloc[i]\n",
    "    sentencePair.append([temp_df['first_sentence'], temp_df['second_sentence']])\n",
    "sentencePair[:3]"
   ]
  },
  {
   "cell_type": "code",
   "execution_count": 10,
   "id": "8d18dbfa-adbe-4120-9544-38b8129fa062",
   "metadata": {},
   "outputs": [],
   "source": [
    "encoded_dict = tokenizer(sentencePair,\n",
    "                         padding=True,\n",
    "                         truncation=True,\n",
    "                         max_length=512,\n",
    "                         return_tensors='tf')"
   ]
  },
  {
   "cell_type": "code",
   "execution_count": 159,
   "id": "5aa60722-659e-4ba9-bcf1-4f7c37473265",
   "metadata": {},
   "outputs": [
    {
     "data": {
      "text/plain": [
       "True"
      ]
     },
     "execution_count": 159,
     "metadata": {},
     "output_type": "execute_result"
    }
   ],
   "source": [
    "rrr = tokenizer.decode(sss[0][-1])\n",
    "rrr == '[ P A D ]'"
   ]
  },
  {
   "cell_type": "code",
   "execution_count": 11,
   "id": "2f9e1ae9-d222-4b89-8595-1d1fb74c87ee",
   "metadata": {},
   "outputs": [
    {
     "name": "stdout",
     "output_type": "stream",
     "text": [
      "46400\n",
      "59117\n",
      "87750\n",
      "155137\n",
      "314652\n"
     ]
    }
   ],
   "source": [
    "sss = encoded_dict['input_ids']\n",
    "for i, s in enumerate(sss):\n",
    "    if not tokenizer.decode(s[-1]) == '[ P A D ]':\n",
    "        print(i)"
   ]
  }
 ],
 "metadata": {
  "kernelspec": {
   "display_name": "NLP_Project",
   "language": "python",
   "name": "nlp_project"
  },
  "language_info": {
   "codemirror_mode": {
    "name": "ipython",
    "version": 3
   },
   "file_extension": ".py",
   "mimetype": "text/x-python",
   "name": "python",
   "nbconvert_exporter": "python",
   "pygments_lexer": "ipython3",
   "version": "3.8.10"
  },
  "toc-autonumbering": false
 },
 "nbformat": 4,
 "nbformat_minor": 5
}
