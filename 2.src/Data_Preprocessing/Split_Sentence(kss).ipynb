{
 "cells": [
  {
   "cell_type": "markdown",
   "id": "cd9901bb-13be-4fa5-8ff5-c805710d172b",
   "metadata": {},
   "source": [
    "# 문장 분류"
   ]
  },
  {
   "cell_type": "code",
   "execution_count": 1,
   "id": "45c31b2a-b630-492b-b21a-33a4bbb59b58",
   "metadata": {},
   "outputs": [
    {
     "name": "stderr",
     "output_type": "stream",
     "text": [
      "[Korean Sentence Splitter]: Initializing Kss...\n"
     ]
    }
   ],
   "source": [
    "import pickle\n",
    "from kss import split_sentences"
   ]
  },
  {
   "cell_type": "code",
   "execution_count": 2,
   "id": "879093bf-1632-43af-8588-33be9b5b1395",
   "metadata": {},
   "outputs": [
    {
     "data": {
      "text/plain": [
       "[[['새로운 도전을 위해 대학 시절 OO 유학을 떠나게 되었습니다. 조금 늦은 나이의 도전이라 부족한 영어 실력으로 많은 어려움에 부딪쳤습니다. 잠깐 좌절도 했지만 그보다 가장 힘들었던 것은 부모님이 주신 소중한 기회를 제대로 활용하고 있지 못하고 있는 저의 모습이었습니다. 저는 좌절보다는 노력을 택하였습니다. 매주 영어 학원과 스터디그룹에 참석하였으며 다양한 이들과의 대화를 위해 혼자 펍에 가 친구를 사귀기도 하고 아르바이트를 통해 많은 이들과의 소통으로 영어 실력뿐만 아니라 소통력과 관계력까지도 키울 수 있었습니다. 이러한 경험을 바탕으로 경동나비엔의 일원이 되어서도 어떠한 어려움 속에서도 좌절하지 않고 백절불굴의 자세로 부족한 점을 계속해서 연구하고 개선하여 끊임없는 변화 속에서 끊임없는 노력으로 성공이라는 꽃을 피우도록 하겠습니다.'],\n",
       "  ['코카콜라의 뉴코크 실패는 소비자는 단순히 제품만을 소비하는 것이 아니라 그 브랜드 즉, 제품의 상징성을 구매하는 심리를 보여주고 있습니다. 해외시장에 존재하는 고객은 국내시장에 존재하는 고객들보다 기업에 대한 적은 정보를 가지고 있으며 시장진출에 있어 문화, 언어적인 부분을 넘어 다양한 것들을 고려하고 새롭게 시작하여야 합니다. 하지만 이 또한 기회가 될 수 있습니다 해외시장의 경쟁자들이 보여주지 않았던 부분을 통해 시장을 공략한다면 그 부분이 기업의 상징처럼 되어 하나의 문화, 브랜드가 되어 소비자가 소비하는 이유가 될 수 있습니다. 따라서 제품 구매 후에도 빠르고 다양한 서비스를 제공하는 확실한 사후서비스를 더 강화하고 강조한 전략을 통해 해외시장을 공략하고 애프터 서비스 하면 경동나비엔이 제일 먼저 해외시장의 사람들의 뇌리에 떠오를 수 있게 상징화시킬 수 있다면 해외시장 점유율을 꾸준히 높여갈 수 있을 것입니다.']]]"
      ]
     },
     "execution_count": 2,
     "metadata": {},
     "output_type": "execute_result"
    }
   ],
   "source": [
    "f = open(\"preprocessed_data.pickle\", 'rb')\n",
    "data = pickle.load(f)\n",
    "f.close()\n",
    "data[:1]"
   ]
  },
  {
   "cell_type": "code",
   "execution_count": 12,
   "id": "7b4c0059-9587-42a0-9b75-17f12dd91519",
   "metadata": {},
   "outputs": [],
   "source": [
    "range_ = len(data) // 6\n",
    "m = (range_*0, range_*1) #민영\n",
    "j = (range_*1, range_*2) #주영\n",
    "g = (range_*2, range_*3) #가연\n",
    "h = (range_*3, range_*4) #혁준\n",
    "s = (range_*4, range_*5) #성민\n",
    "sj = (range_*5, range_*6) #세진\n",
    "last = (range_*6, 6760)\n",
    "\n",
    "partRange = [m, j, g, h, s, sj, last]"
   ]
  },
  {
   "cell_type": "code",
   "execution_count": null,
   "id": "d3780143-c3ae-4abd-8113-390a9641e6d4",
   "metadata": {},
   "outputs": [
    {
     "name": "stdout",
     "output_type": "stream",
     "text": [
      "현재 진행도 : 36.06% (635 / 1126)\r"
     ]
    }
   ],
   "source": [
    "#####################################################\n",
    "#####################################################\n",
    "# 여기서 위에 자기 변수로 바꿔주세요 #################\n",
    "myParm = sj\n",
    "#####################################################\n",
    "#####################################################\n",
    "#####################################################\n",
    "\n",
    "start = myParm[0]\n",
    "end = myParm[1]\n",
    "\n",
    "splited_data = []\n",
    "dataRange = data[start:end]\n",
    "\n",
    "for i, contents in enumerate(dataRange):\n",
    "    print('현재 진행도 : {:.2f}% ({} / {})'.format(100*((i+1)/(i+1+end-start)), i+1, end-start), end='\\r', flush=True)\n",
    "    contentTemp = []\n",
    "    for content in contents:\n",
    "        paragraphTemp = []\n",
    "        for paragraph in content:\n",
    "            paragraphTemp.append(split_sentences(paragraph))\n",
    "        \n",
    "        contentTemp.append(paragraphTemp)\n",
    "        \n",
    "    splited_data.append(contentTemp)"
   ]
  },
  {
   "cell_type": "code",
   "execution_count": null,
   "id": "2a1bef6a-ae64-42f3-9a79-e930c57965f3",
   "metadata": {},
   "outputs": [],
   "source": [
    "f = open(\"end_kss_{}.pickle\".format(str(myParm)), 'wb')\n",
    "pickle.dump(splited_data, f)\n",
    "f.close()"
   ]
  },
  {
   "cell_type": "markdown",
   "id": "92829c85-b848-445e-be91-efcba30fd160",
   "metadata": {},
   "source": [
    "# 분할 데이터 병합"
   ]
  },
  {
   "cell_type": "code",
   "execution_count": 13,
   "id": "99165741-907d-4fd3-a859-d09ce6fd18bd",
   "metadata": {},
   "outputs": [
    {
     "data": {
      "text/plain": [
       "6760"
      ]
     },
     "execution_count": 13,
     "metadata": {},
     "output_type": "execute_result"
    }
   ],
   "source": [
    "partDataList = []\n",
    "\n",
    "for part in partRange:\n",
    "    f = open(\"end_kss_{}.pickle\".format(str(part)), 'rb')\n",
    "    partDataList.append(pickle.load(f))\n",
    "    f.close()\n",
    "\n",
    "mergeData = partDataList[0]\n",
    "for partData in partDataList[1:]:\n",
    "    mergeData.extend(partData)\n",
    "    \n",
    "len(mergeData)"
   ]
  },
  {
   "cell_type": "markdown",
   "id": "5f689291-905b-48b2-ab54-5eed9e5cd8f3",
   "metadata": {},
   "source": [
    "## 저장"
   ]
  },
  {
   "cell_type": "code",
   "execution_count": 22,
   "id": "5274e504-7fd9-4c80-85f9-8c5ef2abb7ea",
   "metadata": {},
   "outputs": [],
   "source": [
    "f = open(\"JobKor_SplitedSentence_final.pickle\", 'wb')\n",
    "pickle.dump(mergeData, f)\n",
    "f.close()"
   ]
  }
 ],
 "metadata": {
  "kernelspec": {
   "display_name": "NLP_Project",
   "language": "python",
   "name": "nlp_project"
  },
  "language_info": {
   "codemirror_mode": {
    "name": "ipython",
    "version": 3
   },
   "file_extension": ".py",
   "mimetype": "text/x-python",
   "name": "python",
   "nbconvert_exporter": "python",
   "pygments_lexer": "ipython3",
   "version": "3.8.10"
  }
 },
 "nbformat": 4,
 "nbformat_minor": 5
}
