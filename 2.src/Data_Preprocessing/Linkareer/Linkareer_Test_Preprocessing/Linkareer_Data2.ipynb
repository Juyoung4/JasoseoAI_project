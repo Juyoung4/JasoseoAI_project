{
 "cells": [
  {
   "cell_type": "code",
   "execution_count": 2,
   "id": "b3d09097-4c01-4ba4-83ed-5892344349fe",
   "metadata": {},
   "outputs": [],
   "source": [
    "import pandas as pd\n",
    "import numpy as np\n",
    "\n",
    "import re"
   ]
  },
  {
   "cell_type": "code",
   "execution_count": 2,
   "id": "5fa8bf64-c94f-41e9-975e-135936d287bc",
   "metadata": {},
   "outputs": [],
   "source": [
    "df = pd.read_csv('G:\\내 드라이브\\web_crawling\\linkareer_edit2.csv')"
   ]
  },
  {
   "cell_type": "code",
   "execution_count": 3,
   "id": "8ac872e9-f805-40a7-aeaa-728552993326",
   "metadata": {},
   "outputs": [
    {
     "data": {
      "text/html": [
       "<div>\n",
       "<style scoped>\n",
       "    .dataframe tbody tr th:only-of-type {\n",
       "        vertical-align: middle;\n",
       "    }\n",
       "\n",
       "    .dataframe tbody tr th {\n",
       "        vertical-align: top;\n",
       "    }\n",
       "\n",
       "    .dataframe thead th {\n",
       "        text-align: right;\n",
       "    }\n",
       "</style>\n",
       "<table border=\"1\" class=\"dataframe\">\n",
       "  <thead>\n",
       "    <tr style=\"text-align: right;\">\n",
       "      <th></th>\n",
       "      <th>UserInfos</th>\n",
       "      <th>Content</th>\n",
       "      <th>URL</th>\n",
       "      <th>CompanyName</th>\n",
       "      <th>CompanyCareer</th>\n",
       "      <th>CompanyDate</th>\n",
       "      <th>NumUpdate</th>\n",
       "      <th>NotUpdate</th>\n",
       "    </tr>\n",
       "  </thead>\n",
       "  <tbody>\n",
       "    <tr>\n",
       "      <th>0</th>\n",
       "      <td>한양대 ERICA / 기계공학과 / 학점 3.78/4.5 / 토익: 855, 토익스...</td>\n",
       "      <td>본인이 회사를 선택할때의 기준은 무엇이며, 왜 현대엔지니어링이 그 기준에 적합한지를...</td>\n",
       "      <td>https://linkareer.com/cover-letter/25204?page=...</td>\n",
       "      <td>현대엔지니어링</td>\n",
       "      <td>자산관리 자산설비</td>\n",
       "      <td>2021 상반기</td>\n",
       "      <td>본인이 회사를 선택할때의 기준은 무엇이며, 왜 현대엔지니어링이 그 기준에 적합한지를...</td>\n",
       "      <td>False</td>\n",
       "    </tr>\n",
       "    <tr>\n",
       "      <th>1</th>\n",
       "      <td>지방사립 / 경제학 / 학점 4.15/4.5 / 토익: 720, 토익스피킹: 140...</td>\n",
       "      <td>[금융 백종원] 백종원은 여러 매체를 통해 요리에 관한 각종 정보와 비결을 공유하며...</td>\n",
       "      <td>https://linkareer.com/cover-letter/25579?page=...</td>\n",
       "      <td>삼성생명</td>\n",
       "      <td>지점사무지원</td>\n",
       "      <td>2021 상반기</td>\n",
       "      <td>[금융 백종원] 백종원은 여러 매체를 통해 요리에 관한 각종 정보와 비결을 공유하며...</td>\n",
       "      <td>False</td>\n",
       "    </tr>\n",
       "    <tr>\n",
       "      <th>2</th>\n",
       "      <td>한서삼 / 컴퓨터공학과 / 학점 4.44 / 토익: 765, 토익스피킹: , 오픽:...</td>\n",
       "      <td>현대엠엔소프트에 지원한 이유가 무엇인가요? (회사 및 직무에 대한 흥미와 커리어 계...</td>\n",
       "      <td>https://linkareer.com/cover-letter/28660?page=...</td>\n",
       "      <td>현대엠엔소프트</td>\n",
       "      <td>영상처리 및 컴퓨터비전</td>\n",
       "      <td>2021 상반기</td>\n",
       "      <td>현대엠엔소프트에 지원한 이유가 무엇인가요? (회사 및 직무에 대한 흥미와 커리어 계...</td>\n",
       "      <td>False</td>\n",
       "    </tr>\n",
       "    <tr>\n",
       "      <th>3</th>\n",
       "      <td>인하대 / 컴퓨터공학과 / 학점 3.36 / 토익: , 토익스피킹: , 오픽: IM...</td>\n",
       "      <td>본인이 이수한 SW 관련 전공 중, 가장 즐겁게 배웠던 수업 혹은 가장 좋은 성적을...</td>\n",
       "      <td>https://linkareer.com/cover-letter/28662?page=...</td>\n",
       "      <td>네이버파이낸셜</td>\n",
       "      <td>[NAVER FINANCIAL] 하계 SW개발자 인턴십</td>\n",
       "      <td>2021 상반기</td>\n",
       "      <td>본인이 이수한 SW 관련 전공 중, 가장 즐겁게 배웠던 수업 혹은 가장 좋은 성적을...</td>\n",
       "      <td>False</td>\n",
       "    </tr>\n",
       "    <tr>\n",
       "      <th>4</th>\n",
       "      <td>경기대학교 / 응용통계학과 / 학점 3.8 / 토익: 705, 토익스피킹: , 오픽...</td>\n",
       "      <td>1. 해당 지원분야 지원 동기와 해당 사업 참가 후 계획을 기술해주십시오(500자 ...</td>\n",
       "      <td>https://linkareer.com/cover-letter/28755?page=...</td>\n",
       "      <td>한국지능정보사회지능원</td>\n",
       "      <td>데이터 분석 및 운영 청년인턴</td>\n",
       "      <td>2021 상반기</td>\n",
       "      <td>{'해당 지원분야 지원 동기와 해당 사업 참가 후 계획을 기술해주십시오(500자 내...</td>\n",
       "      <td>True</td>\n",
       "    </tr>\n",
       "    <tr>\n",
       "      <th>...</th>\n",
       "      <td>...</td>\n",
       "      <td>...</td>\n",
       "      <td>...</td>\n",
       "      <td>...</td>\n",
       "      <td>...</td>\n",
       "      <td>...</td>\n",
       "      <td>...</td>\n",
       "      <td>...</td>\n",
       "    </tr>\n",
       "    <tr>\n",
       "      <th>9874</th>\n",
       "      <td>부산경상대학교 / 광고마케팅과 / 학점 3.8 / 토익 850</td>\n",
       "      <td>1. 지원동기\\n\\n인재와 기업이 함께 성장할 수 있는 곳, 그곳이 바로 웅진코웨이...</td>\n",
       "      <td>https://linkareer.com/cover-letter/13306?page=...</td>\n",
       "      <td>웅진코웨이</td>\n",
       "      <td>마케팅</td>\n",
       "      <td>2013 하반기</td>\n",
       "      <td>{'지원동기': '인재와 기업이 함께 성장할 수 있는 곳, 그곳이 바로 웅진코웨이라...</td>\n",
       "      <td>True</td>\n",
       "    </tr>\n",
       "    <tr>\n",
       "      <th>9875</th>\n",
       "      <td>상명대학교 / 국제통상학 / 학점 4.3 / 토익 900, HSK 6급 / 해외인턴...</td>\n",
       "      <td>1. 현대자동차에 지원하게 된 동기 또는 해당 직무에 지원하게 된 동기는 무엇입니까...</td>\n",
       "      <td>https://linkareer.com/cover-letter/20654?page=...</td>\n",
       "      <td>현대자동차</td>\n",
       "      <td>영업관리</td>\n",
       "      <td>2013 상반기</td>\n",
       "      <td>{'현대자동차에 지원하게 된 동기 또는 해당 직무에 지원하게 된 동기는 무엇입니까?...</td>\n",
       "      <td>True</td>\n",
       "    </tr>\n",
       "    <tr>\n",
       "      <th>9876</th>\n",
       "      <td>지방전문대 / 공업화학 / 학점 3.06</td>\n",
       "      <td>성격소개\\n\\n대부분의 사람들이 평가하는 첫인상은 소심하고 내성적인 성격일것이라 생...</td>\n",
       "      <td>https://linkareer.com/cover-letter/22028?page=...</td>\n",
       "      <td>심팩</td>\n",
       "      <td>용접관리</td>\n",
       "      <td>2013 상반기</td>\n",
       "      <td>성격소개@@@대부분의 사람들이 평가하는 첫인상은 소심하고 내성적인 성격일것이라 생각...</td>\n",
       "      <td>False</td>\n",
       "    </tr>\n",
       "    <tr>\n",
       "      <th>9877</th>\n",
       "      <td>지거국 / 전자공학 / 학점 3.7 / 토익 900대 / 음악봉사활동, 멘토링 등</td>\n",
       "      <td>[질문 1] 취업이라는 목표 이외에 인생의 큰 목표를 세운 경험, 그 목표를 실현하...</td>\n",
       "      <td>https://linkareer.com/cover-letter/22089?page=...</td>\n",
       "      <td>한국전력</td>\n",
       "      <td>인턴[송,배전]</td>\n",
       "      <td>2013 상반기</td>\n",
       "      <td>[질문 1] 취업이라는 목표 이외에 인생의 큰 목표를 세운 경험, 그 목표를 실현하...</td>\n",
       "      <td>False</td>\n",
       "    </tr>\n",
       "    <tr>\n",
       "      <th>9878</th>\n",
       "      <td>지거국 / 전자공학 / 학점 3.7 / 토익 900 / 음악봉사활동, 멘토링등</td>\n",
       "      <td>한전 자가소개서 양식 500자 12줄 이내\\n\\n[질문 1] 취업이라는 목표 이외에...</td>\n",
       "      <td>https://linkareer.com/cover-letter/17456?page=...</td>\n",
       "      <td>한국전력</td>\n",
       "      <td>인턴[송,배전]</td>\n",
       "      <td>2013 상반기</td>\n",
       "      <td>한전 자가소개서 양식 500자 12줄 이내@@@[질문 1] 취업이라는 목표 이외에 ...</td>\n",
       "      <td>False</td>\n",
       "    </tr>\n",
       "  </tbody>\n",
       "</table>\n",
       "<p>9879 rows × 8 columns</p>\n",
       "</div>"
      ],
      "text/plain": [
       "                                              UserInfos  \\\n",
       "0     한양대 ERICA / 기계공학과 / 학점 3.78/4.5 / 토익: 855, 토익스...   \n",
       "1     지방사립 / 경제학 / 학점 4.15/4.5 / 토익: 720, 토익스피킹: 140...   \n",
       "2     한서삼 / 컴퓨터공학과 / 학점 4.44 / 토익: 765, 토익스피킹: , 오픽:...   \n",
       "3     인하대 / 컴퓨터공학과 / 학점 3.36 / 토익: , 토익스피킹: , 오픽: IM...   \n",
       "4     경기대학교 / 응용통계학과 / 학점 3.8 / 토익: 705, 토익스피킹: , 오픽...   \n",
       "...                                                 ...   \n",
       "9874                 부산경상대학교 / 광고마케팅과 / 학점 3.8 / 토익 850   \n",
       "9875  상명대학교 / 국제통상학 / 학점 4.3 / 토익 900, HSK 6급 / 해외인턴...   \n",
       "9876                             지방전문대 / 공업화학 / 학점 3.06   \n",
       "9877      지거국 / 전자공학 / 학점 3.7 / 토익 900대 / 음악봉사활동, 멘토링 등   \n",
       "9878        지거국 / 전자공학 / 학점 3.7 / 토익 900 / 음악봉사활동, 멘토링등   \n",
       "\n",
       "                                                Content  \\\n",
       "0     본인이 회사를 선택할때의 기준은 무엇이며, 왜 현대엔지니어링이 그 기준에 적합한지를...   \n",
       "1     [금융 백종원] 백종원은 여러 매체를 통해 요리에 관한 각종 정보와 비결을 공유하며...   \n",
       "2     현대엠엔소프트에 지원한 이유가 무엇인가요? (회사 및 직무에 대한 흥미와 커리어 계...   \n",
       "3     본인이 이수한 SW 관련 전공 중, 가장 즐겁게 배웠던 수업 혹은 가장 좋은 성적을...   \n",
       "4     1. 해당 지원분야 지원 동기와 해당 사업 참가 후 계획을 기술해주십시오(500자 ...   \n",
       "...                                                 ...   \n",
       "9874  1. 지원동기\\n\\n인재와 기업이 함께 성장할 수 있는 곳, 그곳이 바로 웅진코웨이...   \n",
       "9875  1. 현대자동차에 지원하게 된 동기 또는 해당 직무에 지원하게 된 동기는 무엇입니까...   \n",
       "9876  성격소개\\n\\n대부분의 사람들이 평가하는 첫인상은 소심하고 내성적인 성격일것이라 생...   \n",
       "9877  [질문 1] 취업이라는 목표 이외에 인생의 큰 목표를 세운 경험, 그 목표를 실현하...   \n",
       "9878  한전 자가소개서 양식 500자 12줄 이내\\n\\n[질문 1] 취업이라는 목표 이외에...   \n",
       "\n",
       "                                                    URL  CompanyName  \\\n",
       "0     https://linkareer.com/cover-letter/25204?page=...      현대엔지니어링   \n",
       "1     https://linkareer.com/cover-letter/25579?page=...         삼성생명   \n",
       "2     https://linkareer.com/cover-letter/28660?page=...      현대엠엔소프트   \n",
       "3     https://linkareer.com/cover-letter/28662?page=...      네이버파이낸셜   \n",
       "4     https://linkareer.com/cover-letter/28755?page=...  한국지능정보사회지능원   \n",
       "...                                                 ...          ...   \n",
       "9874  https://linkareer.com/cover-letter/13306?page=...        웅진코웨이   \n",
       "9875  https://linkareer.com/cover-letter/20654?page=...        현대자동차   \n",
       "9876  https://linkareer.com/cover-letter/22028?page=...           심팩   \n",
       "9877  https://linkareer.com/cover-letter/22089?page=...         한국전력   \n",
       "9878  https://linkareer.com/cover-letter/17456?page=...         한국전력   \n",
       "\n",
       "                       CompanyCareer CompanyDate  \\\n",
       "0                          자산관리 자산설비    2021 상반기   \n",
       "1                             지점사무지원    2021 상반기   \n",
       "2                       영상처리 및 컴퓨터비전    2021 상반기   \n",
       "3     [NAVER FINANCIAL] 하계 SW개발자 인턴십    2021 상반기   \n",
       "4                   데이터 분석 및 운영 청년인턴    2021 상반기   \n",
       "...                              ...         ...   \n",
       "9874                             마케팅    2013 하반기   \n",
       "9875                            영업관리    2013 상반기   \n",
       "9876                            용접관리    2013 상반기   \n",
       "9877                        인턴[송,배전]    2013 상반기   \n",
       "9878                        인턴[송,배전]    2013 상반기   \n",
       "\n",
       "                                              NumUpdate  NotUpdate  \n",
       "0     본인이 회사를 선택할때의 기준은 무엇이며, 왜 현대엔지니어링이 그 기준에 적합한지를...      False  \n",
       "1     [금융 백종원] 백종원은 여러 매체를 통해 요리에 관한 각종 정보와 비결을 공유하며...      False  \n",
       "2     현대엠엔소프트에 지원한 이유가 무엇인가요? (회사 및 직무에 대한 흥미와 커리어 계...      False  \n",
       "3     본인이 이수한 SW 관련 전공 중, 가장 즐겁게 배웠던 수업 혹은 가장 좋은 성적을...      False  \n",
       "4     {'해당 지원분야 지원 동기와 해당 사업 참가 후 계획을 기술해주십시오(500자 내...       True  \n",
       "...                                                 ...        ...  \n",
       "9874  {'지원동기': '인재와 기업이 함께 성장할 수 있는 곳, 그곳이 바로 웅진코웨이라...       True  \n",
       "9875  {'현대자동차에 지원하게 된 동기 또는 해당 직무에 지원하게 된 동기는 무엇입니까?...       True  \n",
       "9876  성격소개@@@대부분의 사람들이 평가하는 첫인상은 소심하고 내성적인 성격일것이라 생각...      False  \n",
       "9877  [질문 1] 취업이라는 목표 이외에 인생의 큰 목표를 세운 경험, 그 목표를 실현하...      False  \n",
       "9878  한전 자가소개서 양식 500자 12줄 이내@@@[질문 1] 취업이라는 목표 이외에 ...      False  \n",
       "\n",
       "[9879 rows x 8 columns]"
      ]
     },
     "execution_count": 3,
     "metadata": {},
     "output_type": "execute_result"
    }
   ],
   "source": [
    "df"
   ]
  },
  {
   "cell_type": "markdown",
   "id": "4612dbb9-9256-4ea9-b0d5-2ae5b0022168",
   "metadata": {},
   "source": [
    "### [4] 데이터 중복 확인"
   ]
  },
  {
   "cell_type": "markdown",
   "id": "5daf7483-27f9-4e93-9735-c0212a1d4437",
   "metadata": {},
   "source": [
    "### [4-1] 내용 살펴보니까 중복이 많았음\n",
    "* https://linkareer.com/cover-letter/11744?page=349&sort=PASSED_AT&tab=all 중 \"https://linkareer.com/cover-letter/11744?\"가 같은게 있는지 확인해야 함"
   ]
  },
  {
   "cell_type": "code",
   "execution_count": 4,
   "id": "74b9e3e7-6ad8-41aa-85b3-9b8605df4dc1",
   "metadata": {},
   "outputs": [],
   "source": [
    "urls = df.URL.tolist()"
   ]
  },
  {
   "cell_type": "code",
   "execution_count": 5,
   "id": "85ddffaf-62bd-45dd-b34b-ed2d527abe5c",
   "metadata": {},
   "outputs": [],
   "source": [
    "urls = [url.split(\"?page\")[0] for url in urls] "
   ]
  },
  {
   "cell_type": "code",
   "execution_count": 6,
   "id": "5d07e263-ae23-472e-8ec8-5d6e317ccb5c",
   "metadata": {},
   "outputs": [
    {
     "name": "stdout",
     "output_type": "stream",
     "text": [
      "9879\n",
      "8062\n"
     ]
    }
   ],
   "source": [
    "print(len(df))\n",
    "print(len(set(urls)))"
   ]
  },
  {
   "cell_type": "code",
   "execution_count": 7,
   "id": "51f7a57e-0193-458b-8437-722348c66fbd",
   "metadata": {},
   "outputs": [
    {
     "data": {
      "text/plain": [
       "['https://linkareer.com/cover-letter/25204',\n",
       " 'https://linkareer.com/cover-letter/25579',\n",
       " 'https://linkareer.com/cover-letter/28660',\n",
       " 'https://linkareer.com/cover-letter/28662',\n",
       " 'https://linkareer.com/cover-letter/28755',\n",
       " 'https://linkareer.com/cover-letter/28753',\n",
       " 'https://linkareer.com/cover-letter/28762',\n",
       " 'https://linkareer.com/cover-letter/28746',\n",
       " 'https://linkareer.com/cover-letter/28665',\n",
       " 'https://linkareer.com/cover-letter/28761']"
      ]
     },
     "execution_count": 7,
     "metadata": {},
     "output_type": "execute_result"
    }
   ],
   "source": [
    "urls[:10]"
   ]
  },
  {
   "cell_type": "markdown",
   "id": "faf45b53-7a60-4e5f-97b0-5b104b279886",
   "metadata": {},
   "source": [
    "* 중복 1817개 제거하기"
   ]
  },
  {
   "cell_type": "code",
   "execution_count": 8,
   "id": "5e64031f-a1f4-4907-9bd7-f6c5b9e60e9d",
   "metadata": {},
   "outputs": [],
   "source": [
    "df['Duplicate_URLS'] = urls"
   ]
  },
  {
   "cell_type": "code",
   "execution_count": 9,
   "id": "1cd5036d-801f-457f-a588-336a6057cc13",
   "metadata": {},
   "outputs": [
    {
     "data": {
      "text/html": [
       "<div>\n",
       "<style scoped>\n",
       "    .dataframe tbody tr th:only-of-type {\n",
       "        vertical-align: middle;\n",
       "    }\n",
       "\n",
       "    .dataframe tbody tr th {\n",
       "        vertical-align: top;\n",
       "    }\n",
       "\n",
       "    .dataframe thead th {\n",
       "        text-align: right;\n",
       "    }\n",
       "</style>\n",
       "<table border=\"1\" class=\"dataframe\">\n",
       "  <thead>\n",
       "    <tr style=\"text-align: right;\">\n",
       "      <th></th>\n",
       "      <th>UserInfos</th>\n",
       "      <th>Content</th>\n",
       "      <th>URL</th>\n",
       "      <th>CompanyName</th>\n",
       "      <th>CompanyCareer</th>\n",
       "      <th>CompanyDate</th>\n",
       "      <th>NumUpdate</th>\n",
       "      <th>NotUpdate</th>\n",
       "      <th>Duplicate_URLS</th>\n",
       "    </tr>\n",
       "  </thead>\n",
       "  <tbody>\n",
       "    <tr>\n",
       "      <th>0</th>\n",
       "      <td>한양대 ERICA / 기계공학과 / 학점 3.78/4.5 / 토익: 855, 토익스...</td>\n",
       "      <td>본인이 회사를 선택할때의 기준은 무엇이며, 왜 현대엔지니어링이 그 기준에 적합한지를...</td>\n",
       "      <td>https://linkareer.com/cover-letter/25204?page=...</td>\n",
       "      <td>현대엔지니어링</td>\n",
       "      <td>자산관리 자산설비</td>\n",
       "      <td>2021 상반기</td>\n",
       "      <td>본인이 회사를 선택할때의 기준은 무엇이며, 왜 현대엔지니어링이 그 기준에 적합한지를...</td>\n",
       "      <td>False</td>\n",
       "      <td>https://linkareer.com/cover-letter/25204</td>\n",
       "    </tr>\n",
       "    <tr>\n",
       "      <th>1</th>\n",
       "      <td>지방사립 / 경제학 / 학점 4.15/4.5 / 토익: 720, 토익스피킹: 140...</td>\n",
       "      <td>[금융 백종원] 백종원은 여러 매체를 통해 요리에 관한 각종 정보와 비결을 공유하며...</td>\n",
       "      <td>https://linkareer.com/cover-letter/25579?page=...</td>\n",
       "      <td>삼성생명</td>\n",
       "      <td>지점사무지원</td>\n",
       "      <td>2021 상반기</td>\n",
       "      <td>[금융 백종원] 백종원은 여러 매체를 통해 요리에 관한 각종 정보와 비결을 공유하며...</td>\n",
       "      <td>False</td>\n",
       "      <td>https://linkareer.com/cover-letter/25579</td>\n",
       "    </tr>\n",
       "    <tr>\n",
       "      <th>2</th>\n",
       "      <td>한서삼 / 컴퓨터공학과 / 학점 4.44 / 토익: 765, 토익스피킹: , 오픽:...</td>\n",
       "      <td>현대엠엔소프트에 지원한 이유가 무엇인가요? (회사 및 직무에 대한 흥미와 커리어 계...</td>\n",
       "      <td>https://linkareer.com/cover-letter/28660?page=...</td>\n",
       "      <td>현대엠엔소프트</td>\n",
       "      <td>영상처리 및 컴퓨터비전</td>\n",
       "      <td>2021 상반기</td>\n",
       "      <td>현대엠엔소프트에 지원한 이유가 무엇인가요? (회사 및 직무에 대한 흥미와 커리어 계...</td>\n",
       "      <td>False</td>\n",
       "      <td>https://linkareer.com/cover-letter/28660</td>\n",
       "    </tr>\n",
       "  </tbody>\n",
       "</table>\n",
       "</div>"
      ],
      "text/plain": [
       "                                           UserInfos  \\\n",
       "0  한양대 ERICA / 기계공학과 / 학점 3.78/4.5 / 토익: 855, 토익스...   \n",
       "1  지방사립 / 경제학 / 학점 4.15/4.5 / 토익: 720, 토익스피킹: 140...   \n",
       "2  한서삼 / 컴퓨터공학과 / 학점 4.44 / 토익: 765, 토익스피킹: , 오픽:...   \n",
       "\n",
       "                                             Content  \\\n",
       "0  본인이 회사를 선택할때의 기준은 무엇이며, 왜 현대엔지니어링이 그 기준에 적합한지를...   \n",
       "1  [금융 백종원] 백종원은 여러 매체를 통해 요리에 관한 각종 정보와 비결을 공유하며...   \n",
       "2  현대엠엔소프트에 지원한 이유가 무엇인가요? (회사 및 직무에 대한 흥미와 커리어 계...   \n",
       "\n",
       "                                                 URL CompanyName  \\\n",
       "0  https://linkareer.com/cover-letter/25204?page=...     현대엔지니어링   \n",
       "1  https://linkareer.com/cover-letter/25579?page=...        삼성생명   \n",
       "2  https://linkareer.com/cover-letter/28660?page=...     현대엠엔소프트   \n",
       "\n",
       "  CompanyCareer CompanyDate  \\\n",
       "0     자산관리 자산설비    2021 상반기   \n",
       "1        지점사무지원    2021 상반기   \n",
       "2  영상처리 및 컴퓨터비전    2021 상반기   \n",
       "\n",
       "                                           NumUpdate  NotUpdate  \\\n",
       "0  본인이 회사를 선택할때의 기준은 무엇이며, 왜 현대엔지니어링이 그 기준에 적합한지를...      False   \n",
       "1  [금융 백종원] 백종원은 여러 매체를 통해 요리에 관한 각종 정보와 비결을 공유하며...      False   \n",
       "2  현대엠엔소프트에 지원한 이유가 무엇인가요? (회사 및 직무에 대한 흥미와 커리어 계...      False   \n",
       "\n",
       "                             Duplicate_URLS  \n",
       "0  https://linkareer.com/cover-letter/25204  \n",
       "1  https://linkareer.com/cover-letter/25579  \n",
       "2  https://linkareer.com/cover-letter/28660  "
      ]
     },
     "execution_count": 9,
     "metadata": {},
     "output_type": "execute_result"
    }
   ],
   "source": [
    "df.head(3)"
   ]
  },
  {
   "cell_type": "code",
   "execution_count": 10,
   "id": "60ab1f50-28d0-4bd9-9a9f-c57484f17a21",
   "metadata": {},
   "outputs": [],
   "source": [
    "df = df.drop_duplicates(['Duplicate_URLS'])"
   ]
  },
  {
   "cell_type": "code",
   "execution_count": 11,
   "id": "e963756c-e896-4076-9c7b-f5cd6bc48250",
   "metadata": {},
   "outputs": [
    {
     "data": {
      "text/html": [
       "<div>\n",
       "<style scoped>\n",
       "    .dataframe tbody tr th:only-of-type {\n",
       "        vertical-align: middle;\n",
       "    }\n",
       "\n",
       "    .dataframe tbody tr th {\n",
       "        vertical-align: top;\n",
       "    }\n",
       "\n",
       "    .dataframe thead th {\n",
       "        text-align: right;\n",
       "    }\n",
       "</style>\n",
       "<table border=\"1\" class=\"dataframe\">\n",
       "  <thead>\n",
       "    <tr style=\"text-align: right;\">\n",
       "      <th></th>\n",
       "      <th>UserInfos</th>\n",
       "      <th>Content</th>\n",
       "      <th>URL</th>\n",
       "      <th>CompanyName</th>\n",
       "      <th>CompanyCareer</th>\n",
       "      <th>CompanyDate</th>\n",
       "      <th>NumUpdate</th>\n",
       "      <th>NotUpdate</th>\n",
       "      <th>Duplicate_URLS</th>\n",
       "    </tr>\n",
       "  </thead>\n",
       "  <tbody>\n",
       "    <tr>\n",
       "      <th>0</th>\n",
       "      <td>한양대 ERICA / 기계공학과 / 학점 3.78/4.5 / 토익: 855, 토익스...</td>\n",
       "      <td>본인이 회사를 선택할때의 기준은 무엇이며, 왜 현대엔지니어링이 그 기준에 적합한지를...</td>\n",
       "      <td>https://linkareer.com/cover-letter/25204?page=...</td>\n",
       "      <td>현대엔지니어링</td>\n",
       "      <td>자산관리 자산설비</td>\n",
       "      <td>2021 상반기</td>\n",
       "      <td>본인이 회사를 선택할때의 기준은 무엇이며, 왜 현대엔지니어링이 그 기준에 적합한지를...</td>\n",
       "      <td>False</td>\n",
       "      <td>https://linkareer.com/cover-letter/25204</td>\n",
       "    </tr>\n",
       "    <tr>\n",
       "      <th>1</th>\n",
       "      <td>지방사립 / 경제학 / 학점 4.15/4.5 / 토익: 720, 토익스피킹: 140...</td>\n",
       "      <td>[금융 백종원] 백종원은 여러 매체를 통해 요리에 관한 각종 정보와 비결을 공유하며...</td>\n",
       "      <td>https://linkareer.com/cover-letter/25579?page=...</td>\n",
       "      <td>삼성생명</td>\n",
       "      <td>지점사무지원</td>\n",
       "      <td>2021 상반기</td>\n",
       "      <td>[금융 백종원] 백종원은 여러 매체를 통해 요리에 관한 각종 정보와 비결을 공유하며...</td>\n",
       "      <td>False</td>\n",
       "      <td>https://linkareer.com/cover-letter/25579</td>\n",
       "    </tr>\n",
       "    <tr>\n",
       "      <th>2</th>\n",
       "      <td>한서삼 / 컴퓨터공학과 / 학점 4.44 / 토익: 765, 토익스피킹: , 오픽:...</td>\n",
       "      <td>현대엠엔소프트에 지원한 이유가 무엇인가요? (회사 및 직무에 대한 흥미와 커리어 계...</td>\n",
       "      <td>https://linkareer.com/cover-letter/28660?page=...</td>\n",
       "      <td>현대엠엔소프트</td>\n",
       "      <td>영상처리 및 컴퓨터비전</td>\n",
       "      <td>2021 상반기</td>\n",
       "      <td>현대엠엔소프트에 지원한 이유가 무엇인가요? (회사 및 직무에 대한 흥미와 커리어 계...</td>\n",
       "      <td>False</td>\n",
       "      <td>https://linkareer.com/cover-letter/28660</td>\n",
       "    </tr>\n",
       "    <tr>\n",
       "      <th>3</th>\n",
       "      <td>인하대 / 컴퓨터공학과 / 학점 3.36 / 토익: , 토익스피킹: , 오픽: IM...</td>\n",
       "      <td>본인이 이수한 SW 관련 전공 중, 가장 즐겁게 배웠던 수업 혹은 가장 좋은 성적을...</td>\n",
       "      <td>https://linkareer.com/cover-letter/28662?page=...</td>\n",
       "      <td>네이버파이낸셜</td>\n",
       "      <td>[NAVER FINANCIAL] 하계 SW개발자 인턴십</td>\n",
       "      <td>2021 상반기</td>\n",
       "      <td>본인이 이수한 SW 관련 전공 중, 가장 즐겁게 배웠던 수업 혹은 가장 좋은 성적을...</td>\n",
       "      <td>False</td>\n",
       "      <td>https://linkareer.com/cover-letter/28662</td>\n",
       "    </tr>\n",
       "    <tr>\n",
       "      <th>4</th>\n",
       "      <td>경기대학교 / 응용통계학과 / 학점 3.8 / 토익: 705, 토익스피킹: , 오픽...</td>\n",
       "      <td>1. 해당 지원분야 지원 동기와 해당 사업 참가 후 계획을 기술해주십시오(500자 ...</td>\n",
       "      <td>https://linkareer.com/cover-letter/28755?page=...</td>\n",
       "      <td>한국지능정보사회지능원</td>\n",
       "      <td>데이터 분석 및 운영 청년인턴</td>\n",
       "      <td>2021 상반기</td>\n",
       "      <td>{'해당 지원분야 지원 동기와 해당 사업 참가 후 계획을 기술해주십시오(500자 내...</td>\n",
       "      <td>True</td>\n",
       "      <td>https://linkareer.com/cover-letter/28755</td>\n",
       "    </tr>\n",
       "    <tr>\n",
       "      <th>...</th>\n",
       "      <td>...</td>\n",
       "      <td>...</td>\n",
       "      <td>...</td>\n",
       "      <td>...</td>\n",
       "      <td>...</td>\n",
       "      <td>...</td>\n",
       "      <td>...</td>\n",
       "      <td>...</td>\n",
       "      <td>...</td>\n",
       "    </tr>\n",
       "    <tr>\n",
       "      <th>9874</th>\n",
       "      <td>부산경상대학교 / 광고마케팅과 / 학점 3.8 / 토익 850</td>\n",
       "      <td>1. 지원동기\\n\\n인재와 기업이 함께 성장할 수 있는 곳, 그곳이 바로 웅진코웨이...</td>\n",
       "      <td>https://linkareer.com/cover-letter/13306?page=...</td>\n",
       "      <td>웅진코웨이</td>\n",
       "      <td>마케팅</td>\n",
       "      <td>2013 하반기</td>\n",
       "      <td>{'지원동기': '인재와 기업이 함께 성장할 수 있는 곳, 그곳이 바로 웅진코웨이라...</td>\n",
       "      <td>True</td>\n",
       "      <td>https://linkareer.com/cover-letter/13306</td>\n",
       "    </tr>\n",
       "    <tr>\n",
       "      <th>9875</th>\n",
       "      <td>상명대학교 / 국제통상학 / 학점 4.3 / 토익 900, HSK 6급 / 해외인턴...</td>\n",
       "      <td>1. 현대자동차에 지원하게 된 동기 또는 해당 직무에 지원하게 된 동기는 무엇입니까...</td>\n",
       "      <td>https://linkareer.com/cover-letter/20654?page=...</td>\n",
       "      <td>현대자동차</td>\n",
       "      <td>영업관리</td>\n",
       "      <td>2013 상반기</td>\n",
       "      <td>{'현대자동차에 지원하게 된 동기 또는 해당 직무에 지원하게 된 동기는 무엇입니까?...</td>\n",
       "      <td>True</td>\n",
       "      <td>https://linkareer.com/cover-letter/20654</td>\n",
       "    </tr>\n",
       "    <tr>\n",
       "      <th>9876</th>\n",
       "      <td>지방전문대 / 공업화학 / 학점 3.06</td>\n",
       "      <td>성격소개\\n\\n대부분의 사람들이 평가하는 첫인상은 소심하고 내성적인 성격일것이라 생...</td>\n",
       "      <td>https://linkareer.com/cover-letter/22028?page=...</td>\n",
       "      <td>심팩</td>\n",
       "      <td>용접관리</td>\n",
       "      <td>2013 상반기</td>\n",
       "      <td>성격소개@@@대부분의 사람들이 평가하는 첫인상은 소심하고 내성적인 성격일것이라 생각...</td>\n",
       "      <td>False</td>\n",
       "      <td>https://linkareer.com/cover-letter/22028</td>\n",
       "    </tr>\n",
       "    <tr>\n",
       "      <th>9877</th>\n",
       "      <td>지거국 / 전자공학 / 학점 3.7 / 토익 900대 / 음악봉사활동, 멘토링 등</td>\n",
       "      <td>[질문 1] 취업이라는 목표 이외에 인생의 큰 목표를 세운 경험, 그 목표를 실현하...</td>\n",
       "      <td>https://linkareer.com/cover-letter/22089?page=...</td>\n",
       "      <td>한국전력</td>\n",
       "      <td>인턴[송,배전]</td>\n",
       "      <td>2013 상반기</td>\n",
       "      <td>[질문 1] 취업이라는 목표 이외에 인생의 큰 목표를 세운 경험, 그 목표를 실현하...</td>\n",
       "      <td>False</td>\n",
       "      <td>https://linkareer.com/cover-letter/22089</td>\n",
       "    </tr>\n",
       "    <tr>\n",
       "      <th>9878</th>\n",
       "      <td>지거국 / 전자공학 / 학점 3.7 / 토익 900 / 음악봉사활동, 멘토링등</td>\n",
       "      <td>한전 자가소개서 양식 500자 12줄 이내\\n\\n[질문 1] 취업이라는 목표 이외에...</td>\n",
       "      <td>https://linkareer.com/cover-letter/17456?page=...</td>\n",
       "      <td>한국전력</td>\n",
       "      <td>인턴[송,배전]</td>\n",
       "      <td>2013 상반기</td>\n",
       "      <td>한전 자가소개서 양식 500자 12줄 이내@@@[질문 1] 취업이라는 목표 이외에 ...</td>\n",
       "      <td>False</td>\n",
       "      <td>https://linkareer.com/cover-letter/17456</td>\n",
       "    </tr>\n",
       "  </tbody>\n",
       "</table>\n",
       "<p>8062 rows × 9 columns</p>\n",
       "</div>"
      ],
      "text/plain": [
       "                                              UserInfos  \\\n",
       "0     한양대 ERICA / 기계공학과 / 학점 3.78/4.5 / 토익: 855, 토익스...   \n",
       "1     지방사립 / 경제학 / 학점 4.15/4.5 / 토익: 720, 토익스피킹: 140...   \n",
       "2     한서삼 / 컴퓨터공학과 / 학점 4.44 / 토익: 765, 토익스피킹: , 오픽:...   \n",
       "3     인하대 / 컴퓨터공학과 / 학점 3.36 / 토익: , 토익스피킹: , 오픽: IM...   \n",
       "4     경기대학교 / 응용통계학과 / 학점 3.8 / 토익: 705, 토익스피킹: , 오픽...   \n",
       "...                                                 ...   \n",
       "9874                 부산경상대학교 / 광고마케팅과 / 학점 3.8 / 토익 850   \n",
       "9875  상명대학교 / 국제통상학 / 학점 4.3 / 토익 900, HSK 6급 / 해외인턴...   \n",
       "9876                             지방전문대 / 공업화학 / 학점 3.06   \n",
       "9877      지거국 / 전자공학 / 학점 3.7 / 토익 900대 / 음악봉사활동, 멘토링 등   \n",
       "9878        지거국 / 전자공학 / 학점 3.7 / 토익 900 / 음악봉사활동, 멘토링등   \n",
       "\n",
       "                                                Content  \\\n",
       "0     본인이 회사를 선택할때의 기준은 무엇이며, 왜 현대엔지니어링이 그 기준에 적합한지를...   \n",
       "1     [금융 백종원] 백종원은 여러 매체를 통해 요리에 관한 각종 정보와 비결을 공유하며...   \n",
       "2     현대엠엔소프트에 지원한 이유가 무엇인가요? (회사 및 직무에 대한 흥미와 커리어 계...   \n",
       "3     본인이 이수한 SW 관련 전공 중, 가장 즐겁게 배웠던 수업 혹은 가장 좋은 성적을...   \n",
       "4     1. 해당 지원분야 지원 동기와 해당 사업 참가 후 계획을 기술해주십시오(500자 ...   \n",
       "...                                                 ...   \n",
       "9874  1. 지원동기\\n\\n인재와 기업이 함께 성장할 수 있는 곳, 그곳이 바로 웅진코웨이...   \n",
       "9875  1. 현대자동차에 지원하게 된 동기 또는 해당 직무에 지원하게 된 동기는 무엇입니까...   \n",
       "9876  성격소개\\n\\n대부분의 사람들이 평가하는 첫인상은 소심하고 내성적인 성격일것이라 생...   \n",
       "9877  [질문 1] 취업이라는 목표 이외에 인생의 큰 목표를 세운 경험, 그 목표를 실현하...   \n",
       "9878  한전 자가소개서 양식 500자 12줄 이내\\n\\n[질문 1] 취업이라는 목표 이외에...   \n",
       "\n",
       "                                                    URL  CompanyName  \\\n",
       "0     https://linkareer.com/cover-letter/25204?page=...      현대엔지니어링   \n",
       "1     https://linkareer.com/cover-letter/25579?page=...         삼성생명   \n",
       "2     https://linkareer.com/cover-letter/28660?page=...      현대엠엔소프트   \n",
       "3     https://linkareer.com/cover-letter/28662?page=...      네이버파이낸셜   \n",
       "4     https://linkareer.com/cover-letter/28755?page=...  한국지능정보사회지능원   \n",
       "...                                                 ...          ...   \n",
       "9874  https://linkareer.com/cover-letter/13306?page=...        웅진코웨이   \n",
       "9875  https://linkareer.com/cover-letter/20654?page=...        현대자동차   \n",
       "9876  https://linkareer.com/cover-letter/22028?page=...           심팩   \n",
       "9877  https://linkareer.com/cover-letter/22089?page=...         한국전력   \n",
       "9878  https://linkareer.com/cover-letter/17456?page=...         한국전력   \n",
       "\n",
       "                       CompanyCareer CompanyDate  \\\n",
       "0                          자산관리 자산설비    2021 상반기   \n",
       "1                             지점사무지원    2021 상반기   \n",
       "2                       영상처리 및 컴퓨터비전    2021 상반기   \n",
       "3     [NAVER FINANCIAL] 하계 SW개발자 인턴십    2021 상반기   \n",
       "4                   데이터 분석 및 운영 청년인턴    2021 상반기   \n",
       "...                              ...         ...   \n",
       "9874                             마케팅    2013 하반기   \n",
       "9875                            영업관리    2013 상반기   \n",
       "9876                            용접관리    2013 상반기   \n",
       "9877                        인턴[송,배전]    2013 상반기   \n",
       "9878                        인턴[송,배전]    2013 상반기   \n",
       "\n",
       "                                              NumUpdate  NotUpdate  \\\n",
       "0     본인이 회사를 선택할때의 기준은 무엇이며, 왜 현대엔지니어링이 그 기준에 적합한지를...      False   \n",
       "1     [금융 백종원] 백종원은 여러 매체를 통해 요리에 관한 각종 정보와 비결을 공유하며...      False   \n",
       "2     현대엠엔소프트에 지원한 이유가 무엇인가요? (회사 및 직무에 대한 흥미와 커리어 계...      False   \n",
       "3     본인이 이수한 SW 관련 전공 중, 가장 즐겁게 배웠던 수업 혹은 가장 좋은 성적을...      False   \n",
       "4     {'해당 지원분야 지원 동기와 해당 사업 참가 후 계획을 기술해주십시오(500자 내...       True   \n",
       "...                                                 ...        ...   \n",
       "9874  {'지원동기': '인재와 기업이 함께 성장할 수 있는 곳, 그곳이 바로 웅진코웨이라...       True   \n",
       "9875  {'현대자동차에 지원하게 된 동기 또는 해당 직무에 지원하게 된 동기는 무엇입니까?...       True   \n",
       "9876  성격소개@@@대부분의 사람들이 평가하는 첫인상은 소심하고 내성적인 성격일것이라 생각...      False   \n",
       "9877  [질문 1] 취업이라는 목표 이외에 인생의 큰 목표를 세운 경험, 그 목표를 실현하...      False   \n",
       "9878  한전 자가소개서 양식 500자 12줄 이내@@@[질문 1] 취업이라는 목표 이외에 ...      False   \n",
       "\n",
       "                                Duplicate_URLS  \n",
       "0     https://linkareer.com/cover-letter/25204  \n",
       "1     https://linkareer.com/cover-letter/25579  \n",
       "2     https://linkareer.com/cover-letter/28660  \n",
       "3     https://linkareer.com/cover-letter/28662  \n",
       "4     https://linkareer.com/cover-letter/28755  \n",
       "...                                        ...  \n",
       "9874  https://linkareer.com/cover-letter/13306  \n",
       "9875  https://linkareer.com/cover-letter/20654  \n",
       "9876  https://linkareer.com/cover-letter/22028  \n",
       "9877  https://linkareer.com/cover-letter/22089  \n",
       "9878  https://linkareer.com/cover-letter/17456  \n",
       "\n",
       "[8062 rows x 9 columns]"
      ]
     },
     "execution_count": 11,
     "metadata": {},
     "output_type": "execute_result"
    }
   ],
   "source": [
    "df"
   ]
  },
  {
   "cell_type": "code",
   "execution_count": 12,
   "id": "3894fe6e-ed41-4c4a-a688-b76cf6ef7660",
   "metadata": {},
   "outputs": [],
   "source": [
    "df.reset_index(inplace=True)\n",
    "df = df.drop('index', axis=1)"
   ]
  },
  {
   "cell_type": "code",
   "execution_count": 13,
   "id": "9136976a-0b8d-427e-bbf6-e1b94fb3ccf2",
   "metadata": {},
   "outputs": [
    {
     "data": {
      "text/html": [
       "<div>\n",
       "<style scoped>\n",
       "    .dataframe tbody tr th:only-of-type {\n",
       "        vertical-align: middle;\n",
       "    }\n",
       "\n",
       "    .dataframe tbody tr th {\n",
       "        vertical-align: top;\n",
       "    }\n",
       "\n",
       "    .dataframe thead th {\n",
       "        text-align: right;\n",
       "    }\n",
       "</style>\n",
       "<table border=\"1\" class=\"dataframe\">\n",
       "  <thead>\n",
       "    <tr style=\"text-align: right;\">\n",
       "      <th></th>\n",
       "      <th>UserInfos</th>\n",
       "      <th>Content</th>\n",
       "      <th>URL</th>\n",
       "      <th>CompanyName</th>\n",
       "      <th>CompanyCareer</th>\n",
       "      <th>CompanyDate</th>\n",
       "      <th>NumUpdate</th>\n",
       "      <th>NotUpdate</th>\n",
       "      <th>Duplicate_URLS</th>\n",
       "    </tr>\n",
       "  </thead>\n",
       "  <tbody>\n",
       "    <tr>\n",
       "      <th>0</th>\n",
       "      <td>한양대 ERICA / 기계공학과 / 학점 3.78/4.5 / 토익: 855, 토익스...</td>\n",
       "      <td>본인이 회사를 선택할때의 기준은 무엇이며, 왜 현대엔지니어링이 그 기준에 적합한지를...</td>\n",
       "      <td>https://linkareer.com/cover-letter/25204?page=...</td>\n",
       "      <td>현대엔지니어링</td>\n",
       "      <td>자산관리 자산설비</td>\n",
       "      <td>2021 상반기</td>\n",
       "      <td>본인이 회사를 선택할때의 기준은 무엇이며, 왜 현대엔지니어링이 그 기준에 적합한지를...</td>\n",
       "      <td>False</td>\n",
       "      <td>https://linkareer.com/cover-letter/25204</td>\n",
       "    </tr>\n",
       "    <tr>\n",
       "      <th>1</th>\n",
       "      <td>지방사립 / 경제학 / 학점 4.15/4.5 / 토익: 720, 토익스피킹: 140...</td>\n",
       "      <td>[금융 백종원] 백종원은 여러 매체를 통해 요리에 관한 각종 정보와 비결을 공유하며...</td>\n",
       "      <td>https://linkareer.com/cover-letter/25579?page=...</td>\n",
       "      <td>삼성생명</td>\n",
       "      <td>지점사무지원</td>\n",
       "      <td>2021 상반기</td>\n",
       "      <td>[금융 백종원] 백종원은 여러 매체를 통해 요리에 관한 각종 정보와 비결을 공유하며...</td>\n",
       "      <td>False</td>\n",
       "      <td>https://linkareer.com/cover-letter/25579</td>\n",
       "    </tr>\n",
       "    <tr>\n",
       "      <th>2</th>\n",
       "      <td>한서삼 / 컴퓨터공학과 / 학점 4.44 / 토익: 765, 토익스피킹: , 오픽:...</td>\n",
       "      <td>현대엠엔소프트에 지원한 이유가 무엇인가요? (회사 및 직무에 대한 흥미와 커리어 계...</td>\n",
       "      <td>https://linkareer.com/cover-letter/28660?page=...</td>\n",
       "      <td>현대엠엔소프트</td>\n",
       "      <td>영상처리 및 컴퓨터비전</td>\n",
       "      <td>2021 상반기</td>\n",
       "      <td>현대엠엔소프트에 지원한 이유가 무엇인가요? (회사 및 직무에 대한 흥미와 커리어 계...</td>\n",
       "      <td>False</td>\n",
       "      <td>https://linkareer.com/cover-letter/28660</td>\n",
       "    </tr>\n",
       "    <tr>\n",
       "      <th>3</th>\n",
       "      <td>인하대 / 컴퓨터공학과 / 학점 3.36 / 토익: , 토익스피킹: , 오픽: IM...</td>\n",
       "      <td>본인이 이수한 SW 관련 전공 중, 가장 즐겁게 배웠던 수업 혹은 가장 좋은 성적을...</td>\n",
       "      <td>https://linkareer.com/cover-letter/28662?page=...</td>\n",
       "      <td>네이버파이낸셜</td>\n",
       "      <td>[NAVER FINANCIAL] 하계 SW개발자 인턴십</td>\n",
       "      <td>2021 상반기</td>\n",
       "      <td>본인이 이수한 SW 관련 전공 중, 가장 즐겁게 배웠던 수업 혹은 가장 좋은 성적을...</td>\n",
       "      <td>False</td>\n",
       "      <td>https://linkareer.com/cover-letter/28662</td>\n",
       "    </tr>\n",
       "    <tr>\n",
       "      <th>4</th>\n",
       "      <td>경기대학교 / 응용통계학과 / 학점 3.8 / 토익: 705, 토익스피킹: , 오픽...</td>\n",
       "      <td>1. 해당 지원분야 지원 동기와 해당 사업 참가 후 계획을 기술해주십시오(500자 ...</td>\n",
       "      <td>https://linkareer.com/cover-letter/28755?page=...</td>\n",
       "      <td>한국지능정보사회지능원</td>\n",
       "      <td>데이터 분석 및 운영 청년인턴</td>\n",
       "      <td>2021 상반기</td>\n",
       "      <td>{'해당 지원분야 지원 동기와 해당 사업 참가 후 계획을 기술해주십시오(500자 내...</td>\n",
       "      <td>True</td>\n",
       "      <td>https://linkareer.com/cover-letter/28755</td>\n",
       "    </tr>\n",
       "    <tr>\n",
       "      <th>...</th>\n",
       "      <td>...</td>\n",
       "      <td>...</td>\n",
       "      <td>...</td>\n",
       "      <td>...</td>\n",
       "      <td>...</td>\n",
       "      <td>...</td>\n",
       "      <td>...</td>\n",
       "      <td>...</td>\n",
       "      <td>...</td>\n",
       "    </tr>\n",
       "    <tr>\n",
       "      <th>8057</th>\n",
       "      <td>부산경상대학교 / 광고마케팅과 / 학점 3.8 / 토익 850</td>\n",
       "      <td>1. 지원동기\\n\\n인재와 기업이 함께 성장할 수 있는 곳, 그곳이 바로 웅진코웨이...</td>\n",
       "      <td>https://linkareer.com/cover-letter/13306?page=...</td>\n",
       "      <td>웅진코웨이</td>\n",
       "      <td>마케팅</td>\n",
       "      <td>2013 하반기</td>\n",
       "      <td>{'지원동기': '인재와 기업이 함께 성장할 수 있는 곳, 그곳이 바로 웅진코웨이라...</td>\n",
       "      <td>True</td>\n",
       "      <td>https://linkareer.com/cover-letter/13306</td>\n",
       "    </tr>\n",
       "    <tr>\n",
       "      <th>8058</th>\n",
       "      <td>상명대학교 / 국제통상학 / 학점 4.3 / 토익 900, HSK 6급 / 해외인턴...</td>\n",
       "      <td>1. 현대자동차에 지원하게 된 동기 또는 해당 직무에 지원하게 된 동기는 무엇입니까...</td>\n",
       "      <td>https://linkareer.com/cover-letter/20654?page=...</td>\n",
       "      <td>현대자동차</td>\n",
       "      <td>영업관리</td>\n",
       "      <td>2013 상반기</td>\n",
       "      <td>{'현대자동차에 지원하게 된 동기 또는 해당 직무에 지원하게 된 동기는 무엇입니까?...</td>\n",
       "      <td>True</td>\n",
       "      <td>https://linkareer.com/cover-letter/20654</td>\n",
       "    </tr>\n",
       "    <tr>\n",
       "      <th>8059</th>\n",
       "      <td>지방전문대 / 공업화학 / 학점 3.06</td>\n",
       "      <td>성격소개\\n\\n대부분의 사람들이 평가하는 첫인상은 소심하고 내성적인 성격일것이라 생...</td>\n",
       "      <td>https://linkareer.com/cover-letter/22028?page=...</td>\n",
       "      <td>심팩</td>\n",
       "      <td>용접관리</td>\n",
       "      <td>2013 상반기</td>\n",
       "      <td>성격소개@@@대부분의 사람들이 평가하는 첫인상은 소심하고 내성적인 성격일것이라 생각...</td>\n",
       "      <td>False</td>\n",
       "      <td>https://linkareer.com/cover-letter/22028</td>\n",
       "    </tr>\n",
       "    <tr>\n",
       "      <th>8060</th>\n",
       "      <td>지거국 / 전자공학 / 학점 3.7 / 토익 900대 / 음악봉사활동, 멘토링 등</td>\n",
       "      <td>[질문 1] 취업이라는 목표 이외에 인생의 큰 목표를 세운 경험, 그 목표를 실현하...</td>\n",
       "      <td>https://linkareer.com/cover-letter/22089?page=...</td>\n",
       "      <td>한국전력</td>\n",
       "      <td>인턴[송,배전]</td>\n",
       "      <td>2013 상반기</td>\n",
       "      <td>[질문 1] 취업이라는 목표 이외에 인생의 큰 목표를 세운 경험, 그 목표를 실현하...</td>\n",
       "      <td>False</td>\n",
       "      <td>https://linkareer.com/cover-letter/22089</td>\n",
       "    </tr>\n",
       "    <tr>\n",
       "      <th>8061</th>\n",
       "      <td>지거국 / 전자공학 / 학점 3.7 / 토익 900 / 음악봉사활동, 멘토링등</td>\n",
       "      <td>한전 자가소개서 양식 500자 12줄 이내\\n\\n[질문 1] 취업이라는 목표 이외에...</td>\n",
       "      <td>https://linkareer.com/cover-letter/17456?page=...</td>\n",
       "      <td>한국전력</td>\n",
       "      <td>인턴[송,배전]</td>\n",
       "      <td>2013 상반기</td>\n",
       "      <td>한전 자가소개서 양식 500자 12줄 이내@@@[질문 1] 취업이라는 목표 이외에 ...</td>\n",
       "      <td>False</td>\n",
       "      <td>https://linkareer.com/cover-letter/17456</td>\n",
       "    </tr>\n",
       "  </tbody>\n",
       "</table>\n",
       "<p>8062 rows × 9 columns</p>\n",
       "</div>"
      ],
      "text/plain": [
       "                                              UserInfos  \\\n",
       "0     한양대 ERICA / 기계공학과 / 학점 3.78/4.5 / 토익: 855, 토익스...   \n",
       "1     지방사립 / 경제학 / 학점 4.15/4.5 / 토익: 720, 토익스피킹: 140...   \n",
       "2     한서삼 / 컴퓨터공학과 / 학점 4.44 / 토익: 765, 토익스피킹: , 오픽:...   \n",
       "3     인하대 / 컴퓨터공학과 / 학점 3.36 / 토익: , 토익스피킹: , 오픽: IM...   \n",
       "4     경기대학교 / 응용통계학과 / 학점 3.8 / 토익: 705, 토익스피킹: , 오픽...   \n",
       "...                                                 ...   \n",
       "8057                 부산경상대학교 / 광고마케팅과 / 학점 3.8 / 토익 850   \n",
       "8058  상명대학교 / 국제통상학 / 학점 4.3 / 토익 900, HSK 6급 / 해외인턴...   \n",
       "8059                             지방전문대 / 공업화학 / 학점 3.06   \n",
       "8060      지거국 / 전자공학 / 학점 3.7 / 토익 900대 / 음악봉사활동, 멘토링 등   \n",
       "8061        지거국 / 전자공학 / 학점 3.7 / 토익 900 / 음악봉사활동, 멘토링등   \n",
       "\n",
       "                                                Content  \\\n",
       "0     본인이 회사를 선택할때의 기준은 무엇이며, 왜 현대엔지니어링이 그 기준에 적합한지를...   \n",
       "1     [금융 백종원] 백종원은 여러 매체를 통해 요리에 관한 각종 정보와 비결을 공유하며...   \n",
       "2     현대엠엔소프트에 지원한 이유가 무엇인가요? (회사 및 직무에 대한 흥미와 커리어 계...   \n",
       "3     본인이 이수한 SW 관련 전공 중, 가장 즐겁게 배웠던 수업 혹은 가장 좋은 성적을...   \n",
       "4     1. 해당 지원분야 지원 동기와 해당 사업 참가 후 계획을 기술해주십시오(500자 ...   \n",
       "...                                                 ...   \n",
       "8057  1. 지원동기\\n\\n인재와 기업이 함께 성장할 수 있는 곳, 그곳이 바로 웅진코웨이...   \n",
       "8058  1. 현대자동차에 지원하게 된 동기 또는 해당 직무에 지원하게 된 동기는 무엇입니까...   \n",
       "8059  성격소개\\n\\n대부분의 사람들이 평가하는 첫인상은 소심하고 내성적인 성격일것이라 생...   \n",
       "8060  [질문 1] 취업이라는 목표 이외에 인생의 큰 목표를 세운 경험, 그 목표를 실현하...   \n",
       "8061  한전 자가소개서 양식 500자 12줄 이내\\n\\n[질문 1] 취업이라는 목표 이외에...   \n",
       "\n",
       "                                                    URL  CompanyName  \\\n",
       "0     https://linkareer.com/cover-letter/25204?page=...      현대엔지니어링   \n",
       "1     https://linkareer.com/cover-letter/25579?page=...         삼성생명   \n",
       "2     https://linkareer.com/cover-letter/28660?page=...      현대엠엔소프트   \n",
       "3     https://linkareer.com/cover-letter/28662?page=...      네이버파이낸셜   \n",
       "4     https://linkareer.com/cover-letter/28755?page=...  한국지능정보사회지능원   \n",
       "...                                                 ...          ...   \n",
       "8057  https://linkareer.com/cover-letter/13306?page=...        웅진코웨이   \n",
       "8058  https://linkareer.com/cover-letter/20654?page=...        현대자동차   \n",
       "8059  https://linkareer.com/cover-letter/22028?page=...           심팩   \n",
       "8060  https://linkareer.com/cover-letter/22089?page=...         한국전력   \n",
       "8061  https://linkareer.com/cover-letter/17456?page=...         한국전력   \n",
       "\n",
       "                       CompanyCareer CompanyDate  \\\n",
       "0                          자산관리 자산설비    2021 상반기   \n",
       "1                             지점사무지원    2021 상반기   \n",
       "2                       영상처리 및 컴퓨터비전    2021 상반기   \n",
       "3     [NAVER FINANCIAL] 하계 SW개발자 인턴십    2021 상반기   \n",
       "4                   데이터 분석 및 운영 청년인턴    2021 상반기   \n",
       "...                              ...         ...   \n",
       "8057                             마케팅    2013 하반기   \n",
       "8058                            영업관리    2013 상반기   \n",
       "8059                            용접관리    2013 상반기   \n",
       "8060                        인턴[송,배전]    2013 상반기   \n",
       "8061                        인턴[송,배전]    2013 상반기   \n",
       "\n",
       "                                              NumUpdate  NotUpdate  \\\n",
       "0     본인이 회사를 선택할때의 기준은 무엇이며, 왜 현대엔지니어링이 그 기준에 적합한지를...      False   \n",
       "1     [금융 백종원] 백종원은 여러 매체를 통해 요리에 관한 각종 정보와 비결을 공유하며...      False   \n",
       "2     현대엠엔소프트에 지원한 이유가 무엇인가요? (회사 및 직무에 대한 흥미와 커리어 계...      False   \n",
       "3     본인이 이수한 SW 관련 전공 중, 가장 즐겁게 배웠던 수업 혹은 가장 좋은 성적을...      False   \n",
       "4     {'해당 지원분야 지원 동기와 해당 사업 참가 후 계획을 기술해주십시오(500자 내...       True   \n",
       "...                                                 ...        ...   \n",
       "8057  {'지원동기': '인재와 기업이 함께 성장할 수 있는 곳, 그곳이 바로 웅진코웨이라...       True   \n",
       "8058  {'현대자동차에 지원하게 된 동기 또는 해당 직무에 지원하게 된 동기는 무엇입니까?...       True   \n",
       "8059  성격소개@@@대부분의 사람들이 평가하는 첫인상은 소심하고 내성적인 성격일것이라 생각...      False   \n",
       "8060  [질문 1] 취업이라는 목표 이외에 인생의 큰 목표를 세운 경험, 그 목표를 실현하...      False   \n",
       "8061  한전 자가소개서 양식 500자 12줄 이내@@@[질문 1] 취업이라는 목표 이외에 ...      False   \n",
       "\n",
       "                                Duplicate_URLS  \n",
       "0     https://linkareer.com/cover-letter/25204  \n",
       "1     https://linkareer.com/cover-letter/25579  \n",
       "2     https://linkareer.com/cover-letter/28660  \n",
       "3     https://linkareer.com/cover-letter/28662  \n",
       "4     https://linkareer.com/cover-letter/28755  \n",
       "...                                        ...  \n",
       "8057  https://linkareer.com/cover-letter/13306  \n",
       "8058  https://linkareer.com/cover-letter/20654  \n",
       "8059  https://linkareer.com/cover-letter/22028  \n",
       "8060  https://linkareer.com/cover-letter/22089  \n",
       "8061  https://linkareer.com/cover-letter/17456  \n",
       "\n",
       "[8062 rows x 9 columns]"
      ]
     },
     "execution_count": 13,
     "metadata": {},
     "output_type": "execute_result"
    }
   ],
   "source": [
    "df"
   ]
  },
  {
   "cell_type": "code",
   "execution_count": 14,
   "id": "83084784-ee8b-40bc-934d-4f6e19fed331",
   "metadata": {},
   "outputs": [],
   "source": [
    "df = df.drop('URL', axis=1)"
   ]
  },
  {
   "cell_type": "code",
   "execution_count": 15,
   "id": "1c8d3064-6ca9-4d93-9c3c-249d0a6981a4",
   "metadata": {},
   "outputs": [
    {
     "data": {
      "text/html": [
       "<div>\n",
       "<style scoped>\n",
       "    .dataframe tbody tr th:only-of-type {\n",
       "        vertical-align: middle;\n",
       "    }\n",
       "\n",
       "    .dataframe tbody tr th {\n",
       "        vertical-align: top;\n",
       "    }\n",
       "\n",
       "    .dataframe thead th {\n",
       "        text-align: right;\n",
       "    }\n",
       "</style>\n",
       "<table border=\"1\" class=\"dataframe\">\n",
       "  <thead>\n",
       "    <tr style=\"text-align: right;\">\n",
       "      <th></th>\n",
       "      <th>UserInfos</th>\n",
       "      <th>Content</th>\n",
       "      <th>CompanyName</th>\n",
       "      <th>CompanyCareer</th>\n",
       "      <th>CompanyDate</th>\n",
       "      <th>NumUpdate</th>\n",
       "      <th>NotUpdate</th>\n",
       "      <th>Duplicate_URLS</th>\n",
       "    </tr>\n",
       "  </thead>\n",
       "  <tbody>\n",
       "    <tr>\n",
       "      <th>0</th>\n",
       "      <td>한양대 ERICA / 기계공학과 / 학점 3.78/4.5 / 토익: 855, 토익스...</td>\n",
       "      <td>본인이 회사를 선택할때의 기준은 무엇이며, 왜 현대엔지니어링이 그 기준에 적합한지를...</td>\n",
       "      <td>현대엔지니어링</td>\n",
       "      <td>자산관리 자산설비</td>\n",
       "      <td>2021 상반기</td>\n",
       "      <td>본인이 회사를 선택할때의 기준은 무엇이며, 왜 현대엔지니어링이 그 기준에 적합한지를...</td>\n",
       "      <td>False</td>\n",
       "      <td>https://linkareer.com/cover-letter/25204</td>\n",
       "    </tr>\n",
       "    <tr>\n",
       "      <th>1</th>\n",
       "      <td>지방사립 / 경제학 / 학점 4.15/4.5 / 토익: 720, 토익스피킹: 140...</td>\n",
       "      <td>[금융 백종원] 백종원은 여러 매체를 통해 요리에 관한 각종 정보와 비결을 공유하며...</td>\n",
       "      <td>삼성생명</td>\n",
       "      <td>지점사무지원</td>\n",
       "      <td>2021 상반기</td>\n",
       "      <td>[금융 백종원] 백종원은 여러 매체를 통해 요리에 관한 각종 정보와 비결을 공유하며...</td>\n",
       "      <td>False</td>\n",
       "      <td>https://linkareer.com/cover-letter/25579</td>\n",
       "    </tr>\n",
       "    <tr>\n",
       "      <th>2</th>\n",
       "      <td>한서삼 / 컴퓨터공학과 / 학점 4.44 / 토익: 765, 토익스피킹: , 오픽:...</td>\n",
       "      <td>현대엠엔소프트에 지원한 이유가 무엇인가요? (회사 및 직무에 대한 흥미와 커리어 계...</td>\n",
       "      <td>현대엠엔소프트</td>\n",
       "      <td>영상처리 및 컴퓨터비전</td>\n",
       "      <td>2021 상반기</td>\n",
       "      <td>현대엠엔소프트에 지원한 이유가 무엇인가요? (회사 및 직무에 대한 흥미와 커리어 계...</td>\n",
       "      <td>False</td>\n",
       "      <td>https://linkareer.com/cover-letter/28660</td>\n",
       "    </tr>\n",
       "    <tr>\n",
       "      <th>3</th>\n",
       "      <td>인하대 / 컴퓨터공학과 / 학점 3.36 / 토익: , 토익스피킹: , 오픽: IM...</td>\n",
       "      <td>본인이 이수한 SW 관련 전공 중, 가장 즐겁게 배웠던 수업 혹은 가장 좋은 성적을...</td>\n",
       "      <td>네이버파이낸셜</td>\n",
       "      <td>[NAVER FINANCIAL] 하계 SW개발자 인턴십</td>\n",
       "      <td>2021 상반기</td>\n",
       "      <td>본인이 이수한 SW 관련 전공 중, 가장 즐겁게 배웠던 수업 혹은 가장 좋은 성적을...</td>\n",
       "      <td>False</td>\n",
       "      <td>https://linkareer.com/cover-letter/28662</td>\n",
       "    </tr>\n",
       "    <tr>\n",
       "      <th>4</th>\n",
       "      <td>경기대학교 / 응용통계학과 / 학점 3.8 / 토익: 705, 토익스피킹: , 오픽...</td>\n",
       "      <td>1. 해당 지원분야 지원 동기와 해당 사업 참가 후 계획을 기술해주십시오(500자 ...</td>\n",
       "      <td>한국지능정보사회지능원</td>\n",
       "      <td>데이터 분석 및 운영 청년인턴</td>\n",
       "      <td>2021 상반기</td>\n",
       "      <td>{'해당 지원분야 지원 동기와 해당 사업 참가 후 계획을 기술해주십시오(500자 내...</td>\n",
       "      <td>True</td>\n",
       "      <td>https://linkareer.com/cover-letter/28755</td>\n",
       "    </tr>\n",
       "    <tr>\n",
       "      <th>...</th>\n",
       "      <td>...</td>\n",
       "      <td>...</td>\n",
       "      <td>...</td>\n",
       "      <td>...</td>\n",
       "      <td>...</td>\n",
       "      <td>...</td>\n",
       "      <td>...</td>\n",
       "      <td>...</td>\n",
       "    </tr>\n",
       "    <tr>\n",
       "      <th>8057</th>\n",
       "      <td>부산경상대학교 / 광고마케팅과 / 학점 3.8 / 토익 850</td>\n",
       "      <td>1. 지원동기\\n\\n인재와 기업이 함께 성장할 수 있는 곳, 그곳이 바로 웅진코웨이...</td>\n",
       "      <td>웅진코웨이</td>\n",
       "      <td>마케팅</td>\n",
       "      <td>2013 하반기</td>\n",
       "      <td>{'지원동기': '인재와 기업이 함께 성장할 수 있는 곳, 그곳이 바로 웅진코웨이라...</td>\n",
       "      <td>True</td>\n",
       "      <td>https://linkareer.com/cover-letter/13306</td>\n",
       "    </tr>\n",
       "    <tr>\n",
       "      <th>8058</th>\n",
       "      <td>상명대학교 / 국제통상학 / 학점 4.3 / 토익 900, HSK 6급 / 해외인턴...</td>\n",
       "      <td>1. 현대자동차에 지원하게 된 동기 또는 해당 직무에 지원하게 된 동기는 무엇입니까...</td>\n",
       "      <td>현대자동차</td>\n",
       "      <td>영업관리</td>\n",
       "      <td>2013 상반기</td>\n",
       "      <td>{'현대자동차에 지원하게 된 동기 또는 해당 직무에 지원하게 된 동기는 무엇입니까?...</td>\n",
       "      <td>True</td>\n",
       "      <td>https://linkareer.com/cover-letter/20654</td>\n",
       "    </tr>\n",
       "    <tr>\n",
       "      <th>8059</th>\n",
       "      <td>지방전문대 / 공업화학 / 학점 3.06</td>\n",
       "      <td>성격소개\\n\\n대부분의 사람들이 평가하는 첫인상은 소심하고 내성적인 성격일것이라 생...</td>\n",
       "      <td>심팩</td>\n",
       "      <td>용접관리</td>\n",
       "      <td>2013 상반기</td>\n",
       "      <td>성격소개@@@대부분의 사람들이 평가하는 첫인상은 소심하고 내성적인 성격일것이라 생각...</td>\n",
       "      <td>False</td>\n",
       "      <td>https://linkareer.com/cover-letter/22028</td>\n",
       "    </tr>\n",
       "    <tr>\n",
       "      <th>8060</th>\n",
       "      <td>지거국 / 전자공학 / 학점 3.7 / 토익 900대 / 음악봉사활동, 멘토링 등</td>\n",
       "      <td>[질문 1] 취업이라는 목표 이외에 인생의 큰 목표를 세운 경험, 그 목표를 실현하...</td>\n",
       "      <td>한국전력</td>\n",
       "      <td>인턴[송,배전]</td>\n",
       "      <td>2013 상반기</td>\n",
       "      <td>[질문 1] 취업이라는 목표 이외에 인생의 큰 목표를 세운 경험, 그 목표를 실현하...</td>\n",
       "      <td>False</td>\n",
       "      <td>https://linkareer.com/cover-letter/22089</td>\n",
       "    </tr>\n",
       "    <tr>\n",
       "      <th>8061</th>\n",
       "      <td>지거국 / 전자공학 / 학점 3.7 / 토익 900 / 음악봉사활동, 멘토링등</td>\n",
       "      <td>한전 자가소개서 양식 500자 12줄 이내\\n\\n[질문 1] 취업이라는 목표 이외에...</td>\n",
       "      <td>한국전력</td>\n",
       "      <td>인턴[송,배전]</td>\n",
       "      <td>2013 상반기</td>\n",
       "      <td>한전 자가소개서 양식 500자 12줄 이내@@@[질문 1] 취업이라는 목표 이외에 ...</td>\n",
       "      <td>False</td>\n",
       "      <td>https://linkareer.com/cover-letter/17456</td>\n",
       "    </tr>\n",
       "  </tbody>\n",
       "</table>\n",
       "<p>8062 rows × 8 columns</p>\n",
       "</div>"
      ],
      "text/plain": [
       "                                              UserInfos  \\\n",
       "0     한양대 ERICA / 기계공학과 / 학점 3.78/4.5 / 토익: 855, 토익스...   \n",
       "1     지방사립 / 경제학 / 학점 4.15/4.5 / 토익: 720, 토익스피킹: 140...   \n",
       "2     한서삼 / 컴퓨터공학과 / 학점 4.44 / 토익: 765, 토익스피킹: , 오픽:...   \n",
       "3     인하대 / 컴퓨터공학과 / 학점 3.36 / 토익: , 토익스피킹: , 오픽: IM...   \n",
       "4     경기대학교 / 응용통계학과 / 학점 3.8 / 토익: 705, 토익스피킹: , 오픽...   \n",
       "...                                                 ...   \n",
       "8057                 부산경상대학교 / 광고마케팅과 / 학점 3.8 / 토익 850   \n",
       "8058  상명대학교 / 국제통상학 / 학점 4.3 / 토익 900, HSK 6급 / 해외인턴...   \n",
       "8059                             지방전문대 / 공업화학 / 학점 3.06   \n",
       "8060      지거국 / 전자공학 / 학점 3.7 / 토익 900대 / 음악봉사활동, 멘토링 등   \n",
       "8061        지거국 / 전자공학 / 학점 3.7 / 토익 900 / 음악봉사활동, 멘토링등   \n",
       "\n",
       "                                                Content  CompanyName  \\\n",
       "0     본인이 회사를 선택할때의 기준은 무엇이며, 왜 현대엔지니어링이 그 기준에 적합한지를...      현대엔지니어링   \n",
       "1     [금융 백종원] 백종원은 여러 매체를 통해 요리에 관한 각종 정보와 비결을 공유하며...         삼성생명   \n",
       "2     현대엠엔소프트에 지원한 이유가 무엇인가요? (회사 및 직무에 대한 흥미와 커리어 계...      현대엠엔소프트   \n",
       "3     본인이 이수한 SW 관련 전공 중, 가장 즐겁게 배웠던 수업 혹은 가장 좋은 성적을...      네이버파이낸셜   \n",
       "4     1. 해당 지원분야 지원 동기와 해당 사업 참가 후 계획을 기술해주십시오(500자 ...  한국지능정보사회지능원   \n",
       "...                                                 ...          ...   \n",
       "8057  1. 지원동기\\n\\n인재와 기업이 함께 성장할 수 있는 곳, 그곳이 바로 웅진코웨이...        웅진코웨이   \n",
       "8058  1. 현대자동차에 지원하게 된 동기 또는 해당 직무에 지원하게 된 동기는 무엇입니까...        현대자동차   \n",
       "8059  성격소개\\n\\n대부분의 사람들이 평가하는 첫인상은 소심하고 내성적인 성격일것이라 생...           심팩   \n",
       "8060  [질문 1] 취업이라는 목표 이외에 인생의 큰 목표를 세운 경험, 그 목표를 실현하...         한국전력   \n",
       "8061  한전 자가소개서 양식 500자 12줄 이내\\n\\n[질문 1] 취업이라는 목표 이외에...         한국전력   \n",
       "\n",
       "                       CompanyCareer CompanyDate  \\\n",
       "0                          자산관리 자산설비    2021 상반기   \n",
       "1                             지점사무지원    2021 상반기   \n",
       "2                       영상처리 및 컴퓨터비전    2021 상반기   \n",
       "3     [NAVER FINANCIAL] 하계 SW개발자 인턴십    2021 상반기   \n",
       "4                   데이터 분석 및 운영 청년인턴    2021 상반기   \n",
       "...                              ...         ...   \n",
       "8057                             마케팅    2013 하반기   \n",
       "8058                            영업관리    2013 상반기   \n",
       "8059                            용접관리    2013 상반기   \n",
       "8060                        인턴[송,배전]    2013 상반기   \n",
       "8061                        인턴[송,배전]    2013 상반기   \n",
       "\n",
       "                                              NumUpdate  NotUpdate  \\\n",
       "0     본인이 회사를 선택할때의 기준은 무엇이며, 왜 현대엔지니어링이 그 기준에 적합한지를...      False   \n",
       "1     [금융 백종원] 백종원은 여러 매체를 통해 요리에 관한 각종 정보와 비결을 공유하며...      False   \n",
       "2     현대엠엔소프트에 지원한 이유가 무엇인가요? (회사 및 직무에 대한 흥미와 커리어 계...      False   \n",
       "3     본인이 이수한 SW 관련 전공 중, 가장 즐겁게 배웠던 수업 혹은 가장 좋은 성적을...      False   \n",
       "4     {'해당 지원분야 지원 동기와 해당 사업 참가 후 계획을 기술해주십시오(500자 내...       True   \n",
       "...                                                 ...        ...   \n",
       "8057  {'지원동기': '인재와 기업이 함께 성장할 수 있는 곳, 그곳이 바로 웅진코웨이라...       True   \n",
       "8058  {'현대자동차에 지원하게 된 동기 또는 해당 직무에 지원하게 된 동기는 무엇입니까?...       True   \n",
       "8059  성격소개@@@대부분의 사람들이 평가하는 첫인상은 소심하고 내성적인 성격일것이라 생각...      False   \n",
       "8060  [질문 1] 취업이라는 목표 이외에 인생의 큰 목표를 세운 경험, 그 목표를 실현하...      False   \n",
       "8061  한전 자가소개서 양식 500자 12줄 이내@@@[질문 1] 취업이라는 목표 이외에 ...      False   \n",
       "\n",
       "                                Duplicate_URLS  \n",
       "0     https://linkareer.com/cover-letter/25204  \n",
       "1     https://linkareer.com/cover-letter/25579  \n",
       "2     https://linkareer.com/cover-letter/28660  \n",
       "3     https://linkareer.com/cover-letter/28662  \n",
       "4     https://linkareer.com/cover-letter/28755  \n",
       "...                                        ...  \n",
       "8057  https://linkareer.com/cover-letter/13306  \n",
       "8058  https://linkareer.com/cover-letter/20654  \n",
       "8059  https://linkareer.com/cover-letter/22028  \n",
       "8060  https://linkareer.com/cover-letter/22089  \n",
       "8061  https://linkareer.com/cover-letter/17456  \n",
       "\n",
       "[8062 rows x 8 columns]"
      ]
     },
     "execution_count": 15,
     "metadata": {},
     "output_type": "execute_result"
    }
   ],
   "source": [
    "df"
   ]
  },
  {
   "cell_type": "code",
   "execution_count": 16,
   "id": "419fed78-2f97-4858-8e5b-5cca3eb5abea",
   "metadata": {},
   "outputs": [],
   "source": [
    "df.to_csv('G:\\내 드라이브\\web_crawling\\linkareer_edit3.csv', mode=\"w\", index=False)"
   ]
  },
  {
   "cell_type": "markdown",
   "id": "bf8e785c-3074-4284-af43-c57dcf6cf5b0",
   "metadata": {},
   "source": [
    "### [5-1] Q로 시작하는 부분 update"
   ]
  },
  {
   "cell_type": "code",
   "execution_count": 4,
   "id": "fa8f2f53-592c-4af0-ba4a-1b2e28b5b042",
   "metadata": {},
   "outputs": [],
   "source": [
    "df = pd.read_csv('G:\\내 드라이브\\web_crawling\\linkareer_edit3.csv')"
   ]
  },
  {
   "cell_type": "code",
   "execution_count": 5,
   "id": "e5bb23b5-0bf6-4bda-a27a-918809c086e3",
   "metadata": {},
   "outputs": [],
   "source": [
    "not_content = df.NumUpdate.tolist()"
   ]
  },
  {
   "cell_type": "code",
   "execution_count": 6,
   "id": "52c90ce7-b3e6-468c-b35f-35b32aebca64",
   "metadata": {},
   "outputs": [],
   "source": [
    "not_update = [[idx, not_content[idx]] for idx in df[df['NotUpdate'] == False].NumUpdate.index.tolist()]"
   ]
  },
  {
   "cell_type": "code",
   "execution_count": 7,
   "id": "ac597999-1f72-4da3-bce4-711e36e2115e",
   "metadata": {},
   "outputs": [
    {
     "data": {
      "text/plain": [
       "3878"
      ]
     },
     "execution_count": 7,
     "metadata": {},
     "output_type": "execute_result"
    }
   ],
   "source": [
    "len(not_update)"
   ]
  },
  {
   "cell_type": "code",
   "execution_count": 28,
   "id": "ecb911cb-029b-4433-908c-7bbae6f333cd",
   "metadata": {
    "collapsed": true,
    "jupyter": {
     "outputs_hidden": true
    },
    "tags": []
   },
   "outputs": [
    {
     "data": {
      "text/plain": [
       "[[12,\n",
       "  '취미/특기 @@@취미: 농구, 볼링@@@특기: 레트로게임기 제작, 영화 분석@@@존경인물/이유@@@백종원/끊임없이 자신의 분야에 몰입하는 자세를 존경함@@@Essay 1@@@삼성전자를 지원한 이유와 입사 후 회사에서 이루고 싶은 꿈을 기술하십시오.@@@[AI 전문가를 향하여]@@@딥러닝과 컴퓨터비전을 이용한 AI 기술은 제품에 다양한 서비스를 제공할 수 있는 응용력이 뛰어난 분야입니다. 학부 시절 인간 시각의 인식률을 초월한 ResNet의 등장소식을 접하면서 AI에 관심을 가졌습니다. 현재보다 더 고도화된 미래 IT 시대가 도래했을 때 이러한 기술을 단순히 이용하는 사람이 아니라 주체적인 구현을 통하여 혁신적인 사회 가치를 이끄는 사람이 되고 싶습니다.@@@AI를 공부하기 위해 석사에 진학했고 주로 Object detection/recognition/tracking 등 컴퓨터비전 알고리즘을 활용한 산학 연구를 진행했습니다. 산학 연구가 없던 기간에도 쉬지 않고 꾸준한 자기개발을 위해 교수님의 소개를 받은 회사에서 프리랜서 개발자로 활동하며 실무지식을 배웠습니다. 다양한 개발 경험 덕분에 프로젝트 협업의 자세와 인공지능 이슈를 논리적으로 접근하고 기반기술을 통해 플랫폼을 구현하는 능력을 길렀습니다.@@@앞으로도 AI 기술을 연구하고 혁신적인 서비스 개발을 하며 성장하기 위해 국내 1위 기업인 삼성전자에 지원했습니다. 누구보다도 AI 기술의 발전을 중요하게 여기며 미래 IT 세상의 혁신으로 도전할 준비가 되어있습니다. 다가올 4차 산업 혁명을 이끌 삼성전자에서 AI 전문가로 향하는 첫발을 떼고 싶습니다.@@@Essay 2@@@본인의 성장과정을 간략히 기술하되 현재의 자신에게 가장 큰 영향을 끼친 사건, 인물 등을 포함하여 기술하시기 바랍니다. (※작품속 가상인물도 가능)@@@[도전을 망설이던 아이]@@@어려서부터 항상 실패에 대한 막연한 두려움이 있었기 때문에 새로운 일보다는 성공 가능해 보이는 일을 주로 계획하고 실천했습니다. 좋지 못한 태도였지만 이러한 계획성 덕분에 학부 시절 높은 학점을 가질 수 있었습니다.@@@그러던 어느 날 대학 구조개혁으로 인해 재학 중이던 학과가 폐지되고 신설 학과로 편입돼버리는 일이 발생했습니다. 소프트웨어 시스템 위주의 학문만 배웠던 기존 학과와 달리 편입된 곳은 기계나 전자분야가 융합된 신기술까지 함께 다루는 학과였습니다. @@@신설 학과 특성상 강좌 부족으로 인해 계획에 없던 임베디드 관련 강의를 듣게 됐습니다. 당시 선수 과목 지식이 없었고 새로움을 받아들이는 자세가 부족했기 때문에 강의가 어렵게 느껴졌고 실습 또한 전혀 이해하지 못했습니다. 높은 학점을 가졌던 제게 기대감이 컸던 학과 동기들이 찾아와 강의에 관한 여러 질문을 했지만 아무 대답을 해줄 수 없었습니다.@@@그렇게 무력감에 빠져서 강의를 거의 포기했을 때, 평소 도전적인 일을 좋아하던 동기가 찾아와 제가 해내지 못한 실습을 도와줬습니다. 실습을 해낸 비결을 물어보니 그 동기는 신기술에 항상 흥미가 있어서 해당 강의 실습을 즐기며 여러 차례 하드웨어 OS를 포맷하고 끈질기게 에러수정을 했더니 어느새 문제가 해결됐다고 했습니다. 그 동기는 항상 특이하고 새로운 강의를 잔뜩 배우느라 좋은 학점을 받지는 못하던 동기였습니다. 그러나 그 보상으로 새로움에 도전하는 정신을 배운 것이라는 생각이 들었고 그 동기를 여태껏 이해 못 했던 제 자신이 부끄러워졌습니다.@@@[새로움에 도전하는 열정]@@@해당 사건을 계기로 새로움에 도전하는 동기의 영향을 받았습니다. 새로움을 수용하는 자세의 필요성을 느꼈고 그것이 IT 개발자로서 옳은 정신이라는 생각이 들었습니다. 항상 새로움에 도전하는 사람이 되기 위해 학업을 진행하는 동안 총 세 가지의 꾸준한 노력을 했습니다.@@@첫 번째는 자투리 시간을 활용하여 항상 새로운 IT 정보를 수용했습니다. 매일 아침 통학 중 IT 기사를 읽고 텐서플로우 코리아 페이지의 신기술 소식과 추천 논문을 보며 하루를 시작했습니다. @@@두 번째는 기회가 될 때마다 다양한 세미나, 전시회에 적극적으로 참가하여 새로운 시야를 넓혔습니다. 오픈소스 컨퍼런스, 신기술 AI 세미나 등에 참가하여 정보를 얻었고 IT 전시회를 둘러보며 신기술에 관한 견문을 넓혔습니다.@@@마지막은 앞서 실천으로 새로 알게 된 기술들을 직접 구현해보기 위해 다양한 공모전에 도전했습니다. AI, 블록체인, 임베디드 등 다양한 주제로 프로젝트를 진행하며 경진대회, 해커톤 그리고 학술대회 등 공모전 형태를 가리지 않았습니다. 그동안 알게 된 다양한 지식 덕분에 창조적인 아이디어가 풍부해져 여러 공모전에서 수상을 누리며 노력을 확인할 수 있었습니다.@@@이러한 성장 과정을 거쳐온 제 자신은 어느새 새로움에 도전하는 것을 망설이지 않게 됐다는 것을 느꼈습니다. 앞으로도 끊임없는 열정으로 새로움을 탐구하며 미래에 도전하는 IT 개발자가 될 것입니다.@@@Essay 3@@@최근 사회이슈 중 중요하다고 생각되는 한가지를 선택하고 이에 관한 자신의 견해를 기술해 주시기 바랍니다.@@@[미국 뉴욕주립대학 연구진들의 딥페이크 식별 연구]@@@최근 미국 뉴욕주립대학 연구진들이 눈동자를 이용하여 딥페이크를 판별할 수 있다는 연구결과를 발표했습니다. 눈동자에 반사된 빛을 분석하여 가짜 영상을 가려내는 방식으로 개발된 툴은 94%의 정확도로 딥페이크 영상을 식별할수 있다고 밝혔습니다. 이러한 솔루션은 잘못된 정보에 대해 시민들을 보호하기 위한 일환으로 긍정적인 연구분야라고 생각합니다.@@@딥페이크는 영화, 게임, 쇼핑 등 다양한 분야에서 사용될 수 있는 산업적 활용가치가 높은 기술입니다. 딥페이크 기반 기술인 GAN을 처리할 수 있는 NPU 기술 역시 점점 고도화됨에 따라 다양한 종류의 애플리케이션과 서비스에 대한 개발 전망이 밝습니다.@@@하지만 현재 이런 활용 가치와는 반대로 디지털 성범죄, 정치적 선동을 넘어 기업이미지에 피해를 주는 경우에 딥페이크가 사용되고 있습니다. 딥페이크를 이용한 범죄는 고도화된 IT 기술에 비해서 올바른 사회적 가치관이 정립되지 못해 발생한 문화지체현상의 일종입니다. 일반적인 문화 지체현상은 정책적 대안이나 인식개선운동으로 해결할 수 있지만 딥페이크의 경우는 해당 피해에 대응할 기술적 준비가 병행되어야 한다고 생각합니다.@@@AI와 NPU 사업에 주력하고 있는 삼성전자는 이미 사진 한 장으로 딥페이크를 만드는 기술을 구현한적이 있습니다. 이러한 높은 기술 구현력과 인프라를 바탕으로 한다면 딥페이크에 대한 판별 솔루션을 구현하는 것 역시 가능할 것으로 보입니다. 삼성전자와 같은 1위 기업에서 먼저 딥페이크 기술을 적극 활용한 서비스를 제공하는 동시에 위협요인에 대한 솔루션 연구를 병행한다면 분명 현재보다 더 나은 방향으로 딥페이크가 활용됨은 물론 기업의 이윤추구에도 도움이 될 것으로 생각합니다.@@@Essay 4@@@지원한 직무 관련 본인이 갖고 있는 전문지식/경험(심화전공, 프로젝트, 논문, 공모전 등)을 작성하고, 이를 바탕으로 본인이 지원 직무에 적합한 사유를 구체적으로 서술해 주시기 바랍니다.@@@[전통적인 영상처리 및 컴퓨터비전 지식]@@@학부 시절 ICT 공모전에 참가하여 라즈베리 파이를 이용한 증강현실 RC카 프로젝트를 진행했습니다. 주로 OpenCV를 이용한 객체인식과 주행평가 로직 개발을 담당하며 입력 영상의 전처리 과정부터 객체인식의 전통적인 지식을 습득했습니다.@@@카메라 모듈을 포함한 하드웨어를 다루며 객체인식을 개발하는 것이 익숙하지 않았지만, 최대한 많은 시간을 들여 하드웨어를 이해하고 오픈소스를 분석하여 기술을 파악했습니다. Hough transform과 Contour를 이용한 차선, 신호등 및 표지판 객체인식을 구현하고 센서값을 매핑하여 주행평가 로직을 구현했습니다.@@@공모전에서 동상, 학술대회에서 은상을 받으며 프로젝트를 마쳤습니다. 영상인식 AI를 개발할때 전통적인 이론 이해를 바탕으로 더 체계적이고 유연하게 플랫폼을 개발할 자신이 있습니다.@@@[성능향상을 위한 AI 모델링 기술]@@@높은 성능의 AI모델을 만드는 역량이 AI SW개발직무에서 가장 중요하다고 생각합니다. 실시간 랭킹보드에서 모델 순위를 경쟁하는 대회에 참가하며 높은 성능을 위한 AI 모델링 능력을 키웠습니다.@@@불균형라벨과 노이즈가 섞인 쇼핑 리뷰 이미지와 카테고리 텍스트 데이터셋을 이용한 분류과제를 수행했습니다. 불완전한 데이터셋을 알고리즘적 접근으로만 해결하는 조건이 어려웠으므로 다양한 논문을 읽고 필요한 기술을 조합하며 단계적으로 문제를 해결하기로 계획했습니다.@@@Oversampling으로 데이터 불균형을 완화하고, Label smoothing loss 계산으로 노이즈 데이터 일반화를 억제했습니다. 이후 완전히 정제된 데이터셋 구축을 목적으로 Self-Training을 활용하고, Ensemble 기법으로 성능을 끌어올렸습니다.@@@베이스라인 F1-score를 0.46에서 0.87로 개선한 모델을 만들며 대회에서 2위를 차지했습니다. 습득한 AI 모델 성능향상 역량을 이용하여 생산기술연구원에서 높은 성능으로 최적화된 AI 플랫폼 개발에 힘쓰겠습니다.'],\n",
       " [13,\n",
       "  'Q1. IBK기업은행에 지원한 동기와 인턴생활을 통해 얻고자 하는 것이 무엇인지 설명하시오.@@@1. IBK기업은행 지원 동기@@@편의점, 음식점 등 다양한 아르바이트를 진행하며 소통의 중요성에 대해 배웠으며 이를 통해 기존 체계가 @@@완벽하게 갖춰져 있더라도 빠른 피드백이 중요함을 알게 되었습니다. IBK의 핵심가치는 세 가지 생활가치를 @@@기반으로 고객과 함께하는 소통을 최우선으로 하고 있습니다. 특히나 강조하는 다섯 가지 중점 부문 중 @@@\\'신뢰\\'와 \\'사람\\'을 기반으로 한 \\'사회\\'와 \\'시스템\\'이 저의 철학과 일치하여 이번 청년 체험 인턴으로 지원하였습니다.@@@2. 인턴생활을 통해 얻고자 하는 것@@@청년인턴은 실무능력 측면에서도 문제 발생 시 리스크 부담 측면에서도 실무자에 비해 현저하게 떨어진다고 생각합니다. 그렇기에 지금의@@@IBK기업은행까지 올 수 있었던 기존 체계와 실무 환경 및 업무 문화 등을 확인해보고 싶었습니다. IBK기업은행의 겨우 타 금융권에 비해 B2C보다는 B2B 모델이 많다고 분석하였고 전산상 타 금융권에 비해 더 많은 공부를 진행할 수 있다고 생각하였습니다. 최종적으로 청년 인턴 체험 후 신입행원 채용에 도전을 목표로 하고 있습니다@@@Q2. 단체활동이나 팀프로젝트를 통해 성과를 달성한 사례에 관해 본인의 역할, 타 구성원과의 협력 내용, 힘든 상황을 극복했던 경험 등을 구체적으로 기술하시오.@@@국가기관에서 진행한 대외활동 중 자율적으로 팀을 꾸려 약 4개월 동안 자유롭게 프로젝트를 진행하는 단계가 있었습니다. @@@운이 좋게 얻게된 기회를 흐지부지 넘어가는 것보다 성장을 위해 힘들더라도 직접 팀장이 되자고 생각하였고 PM의 역할을 수행하게 되었습니다. @@@ 공통적인 기초 공부부터 시작하자는 팀원들이 있는 반면, 논문을 작성하고 오픈소스를 제작하여 빠르게 성과를 내자는 팀원들의 의견이 충돌하였습니다. 이에 저는 중재만 하려고 하는 입장이었으며 최대한 불화를 일으키지 않도록 노력하였습니다. 하지만 PM의 위치는 @@@방향성을 만들고 이끄는 역할임을 다시 인지하였고 기존 고민사항이나 방향성 등을 팀원들과 얘기하는 자리를 지속적으로 만들었습니다. 소통의 기회를 넓힌 결과 팀원 모두의 이상적인 결과에 도달할 수 있었습니다. 대내적으로는 기술역량의 성장뿐 아니라 인격적인 성숙을 이룰 수 있었고 @@@대외적으로는 학회 발표, 취약점 제보 및 장관 인증서 수상까지 할 수 있는 기회를 얻었습니다.@@@Q3. 본인을 가장 잘 표현할 수 있는 수식어 또는 단어를 제시하고, 그 이유를 설명하시오.@@@1. 단어 제시@@@\\'노트북\\'이라고 생각합니다. 노트북은 하나의 전자기기만으로 어떤 작업이든 가능합니다.@@@IBK 기업은행의 경우 정부가 출자한 국책은행으로서 중소기업 자금을 지원하는 역할을 하는 동시에 상장 기업으로서 기업의 가치 또한 상승시켜야 하는 역할을 가지고 있습니다. 저는 이러한 역할과 유사하게 공적인 측면에서는 디지털 정보를 기반으로 작업하는 노트북이 되고 싶으며 사적인 측면에서는 협동의 정보를 기반으로 작업하는 노트북이 되고싶습니다.결론적으로 IBK 기업은행에 필요한 노트북이 되어 이것에 의무와 책임을 다하는 것을 목표로 인턴을 진행하고 싶습니다.@@@2. 관련 경험@@@사이버방호실 CERT팀에 맞는 \\'노트북\\'이 된 경험이 있습니다. 기존 군 간부들의 안전한 업무 환경과 보안 유지를 위해 부대 사정에 맞게 보안 인프라를 운영하며 교육하였으며 한편으로는 제도적 뒷받침을 통해 보다 나은 관리 방안을 연구하며 제안한 프로젝트가 군 사이버 역량 강화 참고 문서로 채택되었습니다. 이를 통해 기존 환경도 잘 유지하며 미래도 선도할 방향도 제시한 경험이 있습니다.@@@Q4. 10년안에 이루고싶은 버킷리스트@@@1. 이루고 싶은 버킷리스트@@@국가기관에서 IT와 연계된 대외활동을 하며 수혜를 정말 많이 받았는데, 저와 같은 환경에 있는 인원들을 돕고 싶은 것이 최종 목표입니다. 구체적으로는 국가기관 또는 봉사/교육 단체에서 무상으로 보안/IT 분야의 멘토링과 교육 활동을 진행하고 싶습니다. 기회가 된다면 \\'보안\\'을 키워드로 노년층 대상 보이스피싱 방지 등의 봉사활동을 직접 만들어보고 싶고 업무에 부담이 되지 않는 선에서 활동해보고 싶습니다. 자기계발 측면에서도 만족이 되지만 이는 재직 중인 기업의 이미지에도 선한 영향력을 줄 수 있다고 생각합니다. @@@2. 노력과 향후 준비 계획@@@실제 어떤 활동들이 있는지 주기적으로 확인해보며 해당 교육 체계나 시스템을 분석해보고 있습니다. 분석 과정에서 다양하게 참가해보며 장/단점 및 보완할 부분을 분석하여 저만의 로드맵을 그려보고 있습니다. 이후에는 금융권 기업에서 ICT분야 경험을 쌓으며 전반적인 IT인프라 및 보안 측면 전공/실무 지식을 획득한 뒤, 전공 계발을 진행할 예정이고 컨퍼런스 및 학회 등을 통해 해당 멘토링/교육 활동을 진행하는 인원들과 친분을 쌓아서 봉사/교육 활동의 기회를 얻을 예정입니다. 이를 위한 초석으로 현재 학회 학술대회 논문 제출을 통해 지속적으로 참가하고 있습니다.@@@Q5. 최근 경험해 본 가장 혁신적이거나 편리했던 디지털 금융서비스(타사 서비스 포함)에 @@@ 대해 설명하고, 보다 개선할 수 있는 점이 있다면 기술하시오.@@@1. 디지털 금융 서비스 설명@@@2021년 금융보안원에서 발표한 디지털금융 및 사이버 보안 10대 이슈 전망 중 하나인 \\'인증 서비스\\'에 관심을 가지게 되었습니다.@@@2020.12 전자서명법 개정 및 공인인증서 폐지 따라 금융 인증센터에서는 금융 인증서비스를 제공하고 있고 사설업체에서는 U+pass 등 다양한 인증 기법들을 제안하고 있습니다. 현재까지는 인증 분야에서의 혼란을 완화하기 위하여 공인인증서 또한 병행하여 사용하고 있는 실정이지만 점차 시간이 지난다면 또 다른 표준이 자리 잡을 것으로 생각이 됩니다. @@@2. 개선할 수 있는 점@@@현재는 PKI 기술에 OTP 기술을 추가하여 실시간으로 안전하게 인증할 수 있는 기능이 대부분인 것으로 알고 있습니다. 하지만 정보 보안 3대 요소 중 하나인 \"무결성\"에 대해서는 다소 애매할 수 있다는 생각을 하고 있습니다. 금융권은 Transaction이 많다는 점을 활용하여 해결책으로 블록체인 기술을 생각해 보았습니다. 이를 위한 개발 환경으로 마이크로소프트 애저(Azure) 등의 BaaS를 통해 클라우드 기술을 기반으로 기존 환경과 연동시킬 수 있다고 생각합니다. 물론 Public과 Private 환경 문제, 인프라 연결에 따른 해킹 위협 등 상세한 요소에 대해서는 각 기업의 환경에 맞게 유동적으로 수정할 필요성이 있다고 생각합니다.'],\n",
       " [14,\n",
       "  '롯데정보통신에 지원한 동기와, 입사 후 회사에서 이루고자 하는 포부를 기술해 주세요.@@@[Vision AI의 전문가를 향하여]@@@롯데정보통신은 4차 산업혁명시대에 맞춰 AI를 연구하고 다양한 도메인에 이를 적용하여 고객만족과 회사발전에 힘쓰고 있습니다. 뛰어난 자체 기술력을 토대로 DT의 선도 기업으로 나아가는 롯데정보통신의 무한한 성장 가능성을 보고 지원했습니다.@@@딥러닝과 컴퓨터비전을 이용한 Vision AI기술은 제품에 다양한 서비스를 제공할 수 있는 응용력이 뛰어난 분야입니다. 학부 시절 인간 시각의 인식률을 초월한 ResNet의 등장소식을 접하면서 Vision AI에 관심을 가졌습니다. 현재보다 더 고도화된 미래 IT 시대가 도래했을 때 이러한 기술을 단순히 이용하는 사람이 아니라 주체적인 구현을 통하여 혁신적인 사회 가치를 이끄는 사람이 되고 싶습니다.@@@학업동안 주로 Object detection/recognition/tracking 등 컴퓨터비전 알고리즘을 활용한 산학 연구와 공모전 프로젝트를 통해 실력을 쌓았습니다. 산학 연구가 없던 기간에도 쉬지 않고 꾸준한 자기개발을 위해 교수님의 소개를 받은 회사에서 프리랜서 개발자로 활동하며 실무지식을 배웠습니다. 다양한 경험 덕분에 프로젝트 협업의 자세와 영상처리 이슈를 논리적으로 접근하고 기반기술을 통해 플랫폼을 구현하는 능력을 길렀습니다.@@@쌓아온 역량을 바탕으로 항상 최신 Vision AI 기술에 주목하여 급변하는 환경에 대처하고 개선이 필요한 이슈를 찾아 성능 향상과 최적화에 이바지하고 싶습니다. 개발 흐름의 주체가 되어 Vision AI의 솔루션 설계와 구현을 선도하는 전문가로 거듭나겠습니다.@@@지원한 직무에 가장 필요하다고 생각하는 역량과, 그와 관련된 프로젝트 혹은 직무 경험을 기술해 주세요.@@@[AI모델링 역량]@@@높은 성능의 AI모델을 만드는 역량이 Vision AI 직무에서 가장 중요하다고 생각합니다. 실시간 랭킹보드에서 모델 순위를 경쟁하는 대회에 참가하며 AI 모델링 능력을 키웠습니다.@@@대회에서 3위 이내 수상을 목표로 세우고 Image classification 부문에 도전했습니다. 예선에서는 모델 설계 및 구현의 방향성을 잘못 잡는 실수로 인해 하위권 성적으로 본선에 겨우 진출하는 수준이었습니다. 하지만 포기하지 않고 지난 실수를 기회로 삼아 도전을 이어나갔습니다.@@@본선에서는 철저한 분석으로 주어진 데이터셋이 Imperfect하다는 이슈를 발견하고 이를 해결하는 방향으로 설계를 진행했습니다. 모델 학습에 Oversampling을 적용하여 데이터 불균형은 완화하고 Label smoothing loss를 적용하여 노이즈 데이터 일반화 현상을 억제했습니다. 이후 Self-Training을 활용하여 노이즈 데이터를 Pseudo labeling 하는 방식으로 완전히 정제된 데이터셋을 구축했습니다. 추가적인 성능향상 전략으로 데이터셋에 적합한 Augmentation 방식을 찾아 적용하고 다양한 하이퍼파라미터 튜닝을 거친 Ensemble 모델을 만들었습니다.@@@최초 베이스라인 F1-score를 0.46에서 0.87까지 개선시킨 모델을 만들며 대회에서 2위를 차지했습니다. AI 모델링 성능향상에 대한 여러 기술적 역량을 습득했고 개발에 대한 자신감을 얻었습니다. 직무를 수행할 때도 영상인식 개발 이슈를 빠르게 찾아내 해결하며 최적의 성능을 내는 솔루션 구현에 성과를 낼 자신이 있습니다.@@@지원한 직무를 수행하는 데 있어 본인의 약점과, 이를 보완하기 위해 어떤 노력을 하였는지 기술해 주세요.@@@[적극적인 사회성을 위한 노력]@@@내성적인 성격으로 인해 사회성이 부족하다는 것을 약점으로 가지고 있었습니다. 부족한 사회성은 함께 협업하고 정보를 공유를 통해 성장하는 개발자로서 가장 좋지 못한 자세라고 생각했기 때문에 변화의 필요성을 느꼈습니다. 총 세 가지의 활동을 진행하며 적극적인 사회성을 가진 사람이 되기 위해 노력했습니다.@@@첫 번째로 최대한 많은 실습조교 활동에 참여하며 코드에 대한 질의응답과 트러블슈팅을 진행했습니다. 많은 사람과 대화하며 인맥을 늘릴수 있었고 청자에게 효율적으로 지식을 전달하는 대화능력을 키웠습니다.@@@두 번째로 여러 공모전에 참여하며 팀원들과 협업하는 능력을 키웠습니다. 다른 업무파트에서 문제가 생기더라도 함께 소통하며 원인을 찾고 서로 도와가며 유기적으로 협력했습니다. 팀워크를 바탕으로 프로젝트를 성공시키며 협업에 대한 자신감을 얻을 수 있었습니다.@@@마지막으로 개발이 끝나면 항상 구현 내용을 토대로 논문을 작성하고 학술대회에서 발표했습니다. 발표내용에 대해 청중들과 의견을 주고받는 것으로 구현에 대한 다른 접근법이나 성능향상 방법을 고민해 보는 좋은 시간이 됐습니다. 여러 사람과 공유한 지식을 바탕으로 최신연구 동향을 파악하며 한 층 더 성장할 수 있었습니다.@@@세 가지 활동을 꾸준히 실천한 결과 어느새 적극적으로 사람들과 소통하며 개발자로서 성장하고 있다고 느꼈습니다. 앞으로도 신기술에 적극적으로 대응하며 팀과 함께 성장하는 AI 개발자가 될 수 있도록 적극적인 사회성을 유지해나갈 것입니다.@@@본인의 가장 힘들었던 경험과, 이를 극복하기 위해 어떤 노력을 하였는지 기술해 주세요.@@@[어려움을 이겨내는 도전정신]@@@학부 4학년 때 국내 최대의 전국규모 ICT 공모전 수상을 목표로 팀 프로젝트를 진행했습니다. 약 430개 팀이 참여하고 16개 팀만이 본상을 받는 공모전이므로 어려운 목표였지만 무엇이든 해내겠다는 의지로 도전했습니다.@@@공모전 출품에 앞서 교내 캡스톤디자인 프로젝트로 먼저 중간평가를 받았습니다. 기대와 달리 프로젝트는 뚜렷한 성과를 내지 못하고 교내에서 꼴등이라는 최악의 점수를 받았습니다. 준비해온 프로젝트가 실패했다는 생각에 좌절했고 공모전 연계는커녕 졸업조건도 채울 수 없게 될까 봐 상황이 심각했습니다. 특히나 팀장으로서 프로젝트를 적절하게 이끌지 못했다는 책임감이 들어 더 괴로웠습니다. @@@하지만 어차피 꼴등을 해본 시점에서 더는 실패를 두려워할 이유가 없다는 생각이 들었고 이번 실패를 전화위복의 기회로 삼아 프로젝트를 다시 시작하기로 했습니다. 모든 것을 걸고 하겠다는 일념으로 수면시간을 줄여가며 개발에 매진했습니다. 프로젝트 방향을 일부 변경하고 구현에 필요한 기술들을 수집하며 단계적으로 구현해나갔습니다. 더 전문적인 의견이 필요할 경우 여러 교수님과 실무자분들을 조언을 들으며 개선점을 찾았습니다.@@@노력은 배신하지 않는다는 말처럼 공모전에서 430팀 중 7위를 차지하며 목표로 삼았던 본상을 받았고 구현내용을 바탕으로 작성한 논문으로 학술대회에서 은상을 받았습니다. 실패로 인해 힘들더라도 포기하지 않고 끈질기게 도전하면 목표를 성취할 수 있다는 것을 알게 됐으며 어려움을 극복하는 자신감까지 얻게 해준 최고의 경험이었습니다.@@@본인이 보유한 직무 관련 Skill의 활용 정도를 기재한 후, 현재 관심있는 기술 분야는 무엇이며 그 이유에 대해 기술해 주세요. ※Skill기재 양식 : 1(기초) ~ 5(마스터) (ex. Java : 5, Linux : 1)@@@[보유스킬 및 활용 정도]@@@Python – 5, Java – 4, Android- 3, Tensorflow – 5, Pytorch –4, Caffe-3, Linux – 4@@@[최적의 성능과 처리속도를 위한 경량화]@@@현재 가장 관심 있는 기술 분야는 경량화입니다. 석사과정 때 진행했던 임베디드 소트프웨어 기반 프로젝트에서는 제한된 연산능력이나 메모리 및 전력이 항상 문제가 됐습니다. 이를 해결하기 위해 경량 딥러닝 알고리즘과 알고리즘 경량화를 비교연구하고 적절한 성능을 갖는 기술을 사용하여 적은 메모리로도 높은 성능과 빠른 추론을 해내는 시스템을 도모했습니다.@@@석사 졸업 기간이 가까워졌을 시기에 경량화 기술들을 접했기 때문에 더 많은 연구를 진행하지 못해 아쉬움이 남아있습니다. 또한, 높은 경량화 단계를 추구할수록 성능이 저하되는 Trade-off에 대해 최적화 방안을 연구하고 싶습니다.@@@IoT나 모바일 기기의 활용이 늘어나는 앞으로의 경향을 고려했을 때 딥러닝 기술을 활용한 서비스 제공이 소형 디바이스에서도 점차 확대될 것으로 예상합니다. 따라서 한정된 자원을 갖는 환경에서도 딥러닝 서비스를 제공하기 위해 경량화는 필수적으로 동반되어야 하는 기술이라고 생각합니다.@@@회사에 입사하게 된다면 서비스 제공을 위한 딥러닝 솔루션 개발뿐만 아니라 다양한 환경에서 최적화된 서비스를 제공할 수 있도록 경량화를 동반한 연구개발에 힘쓰고 싶습니다.'],\n",
       " [17,\n",
       "  '[필수] 본인 소개 및 지원동기를 적어주세요. 입사 후 이루고 싶은 목표는 무엇인가요?@@@[친화적인 글로벌 커뮤니케이터]@@@저는 학창시절에 외국인 친구들과 함께 8인 1실의 기숙사 생활을 하며 자연스럽게 다양한 문화를 경험했습니다. 중국인 친구들에게는 빨간 색상의 선물을, 미국 친구들에게는 정성스런 글이 가득한 카드를 선물하며 각 나라 문화에 맞추어 친구들을 대한 결과, 친구들 또한 한국 문화에 대해 호기심을 갖고 저에게 다가왔으며, 저는 그 누구보다 더 깊게 외국인 친구들과 친해질 수 있었습니다. @@@대학 재학시절에는 정확한 소통으로 총 2회의 출장통역을 성공적으로 해낸 경험이 있습니다. 중국과 한국을 오가며 살아온 저는 정확한 의사소통 능력으로 한국 고객의 니즈를 중국 공장측에 명확히 전달하였고, 또한 사전에 제품을 숙지하여 단순한 통역 뿐 아니라 시장조사를 전반적으로 도와 고객에게 최상의 서비스를 제공할 수 있었습니다.@@@한류 콘텐츠를 기반으로 중화권에서 큰 사랑을 받고 있는 네이버웹툰이 더욱 성장하기 위해서는 세계로 가는 것이 불가피합니다. 미국 증시 상장을 검토할 수 있는 단계에 이른 네이버웹툰은 우선적으로 기존 중화권 사업을 한 층 더 강화해야 합니다. 따라서 저는 문화에 대한 빠른 이해력과 정확한 커뮤니케이션을 바탕으로 중화권 콘텐츠 사업에 기여하고자 합니다.@@@[웹툰의 고유명사, 네이버웹툰]@@@대만에서 웹툰 하면 바로 ‘라인웹툰’이 떠오를 수 있게 만드는 것이 목표입니다. 위 목표를 달성하기 위해 저는 두 가지 노력을 하겠습니다. @@@첫 째, 트렌드세터가 되겠습니다. 꾸준한 커뮤니티 모니터링을 기반으로 시청자들의 니즈를 분석하여 다가올 트렌드를 생각하겠습니다. @@@둘 째, 학습하겠습니다. 모르는 것은 절대 두려워하지 않고, 항상 배움의 자세로 받아들이겠습니다. 끊임없는 학습으로 네이버웹툰과 함께 세계로 나아갈 것을 약속드립니다.@@@[필수] 스스로 생각하는 본인만의 장점은 무엇이며, 해당 업무에서 어떻게 발휘될 수 있을까요?@@@[책임감, 어학능력, 협력심]@@@학부시절, 과제 프로젝트를 하기 위해 제주도에서 사학연구를 진행한 경험이 있습니다. 당시 참고했던 자료의 대부분이 번체자로 이루어져 있었고, 저는 역사학을 전공하며 함양한 한자 능력을 이용하여 자료 분석을 빠른 시간 내 정확하게 해내어 연구 기간을 단축시켰습니다. 또한, 총 세 번의 검토를 통해 자료를 빠짐없이 정리하였으며 사전에 진행한 인터뷰의 녹음 파일을 한 글자도 빠짐없이 전부 타이핑하여 자료 정리를 완벽하게 해낼 수 있었습니다. 팀원들과 함께 레포트를 작성하며 수정을 반복한 결과, 저희는 약 10개의 조에서 3등이란 좋은 성적을 얻었습니다. @@@저는 팀 프로젝트를 통해 배운 책임감과 번체자에 대한 지식을 바탕으로 콘텐츠 번역 검수를 완벽하게 해내겠습니다. 또한, 팀 프로젝트를 통해 쌓은 협력심으로 좋은 팀워크를 발휘하여 파트너와의 업무 시너지를 극대화 하겠습니다.@@@[필수] 2021년 대만에서 가장 핫한 콘텐츠는 무엇인가요? 인기의 이유는 무엇일까요?@@@2021년 대만에서 가장 핫한 콘텐츠는 한류라고 생각합니다. 코로나19로 인해 집에 있는 시간이 많아지면서 OTT 사용자의 수는 급증하였습니다. 대만 또한 많은 시청자들이 승리호, 빈센조 등 한국 드라마나 영화 콘텐츠를 시청했고 한류 콘텐츠 영향으로 대만 포털사이트 Yahoo에서 한국 연예뉴스가 최대의 관심사로 떠오르기도 했습니다. 또한, 한국관광공사는 ‘2021 한류문화향연’행사를 개최할 정도로 한류 콘텐츠를 활용한 홍보에 힘쓰고 있습니다. @@@인기의 이유는 바로 K-POP의 매력이라고 생각합니다. 커뮤니티를 통해 검색해 본 결과, 대만의 많은 젊은이들은 한국의 음식, 배우들의 옷차림, 즉 트렌드를 쫓아가려는 경향을 엿 볼 수 있었습니다. 한국 배우들은 치열한 한국 연예계에서 살아남기 위해 끊임없이 노력을 하고, 동시에 글로벌한 한류스타가 많이 탄생함에 따라 세계에 눈을 맞추고 있습니다. 이에 반해 대만은 시장도 작지만, 같은 중화권인 중국의 배우들에 가려져 빛을 발하지 못하는 경우가 종종 있습니다. 결국, 자국의 이러한 한정적인 조건으로 출중한 배우들이 탄생하지 못하는 상황입니다. 따라서 전세계적으로 환영받는 한류가 대만을 K-POP의 매력에 매료되게 하는 일은 당연한 결과라고 생각합니다.@@@[필수] 본인이 최근에 가장 재미있게 본 콘텐츠(웹툰,만화, 드라마, 영화, 영상 등) 한가지를 소개해주세요. 푹 빠졌던 이유를 3가지로 설명해주세요.@@@대만 영화인 ‘그 시절 우리가 좋아했던 소녀’를 굉장히 재미있게 봤습니다. 우선, 대만 영화의 전형적인 장르중 하나인 학교 로맨스를 소재로 한 것은 ‘역시 학교 로맨스는 대만!’이라는 생각을 하게끔 하였고, 그래서 흥미가 생겼습니다.@@@첫 번째 관람 포인트는 바로 ‘소재’입니다. 학창시절 누구나 한 번쯤 겪어봤을 첫사랑을 소재로 한 것은 다소 따분할 수 있었으나, 첫사랑을 응원하며 생겨난 추억들이 ‘진짜’ 첫사랑이 되어버린 전개가 새롭게 다가왔습니다. @@@두 번째 관람 포인트는 바로 ‘연출’입니다. 당시 그 세대가 경험한 학교를 그대로 그려낸 연출은 가히 대단하다고 느꼈습니다. 그 시절 특유의 머리스타일, 교복 옷차림은 촌스럽고 못나 보이던 학창 시절의 우리 모습을 그대로 재현해냈고 이를 통해 기억 속 아름다운 추억으로 포장된 그 때 그 모습을 그리워하게 만드는 것이 매력으로 다가왔습니다.@@@마지막으로, 저는 이 영화를 보며 잠시나마 경쟁구도가 치열한 이 현실에서 벗어날 수 있었습니다. 물론, 이 영화의 배경이 제가 성장했던 배경과는 조금 상이하지만, 이 영화는 저의 그리운 학창시절을 떠올릴 수 있게 만들고 동시에 저는 그 때의 추억들을 회상하며 여유를 가질 수 있어 감명깊은 영화로 마음 깊이 남았습니다.']]"
      ]
     },
     "execution_count": 28,
     "metadata": {},
     "output_type": "execute_result"
    }
   ],
   "source": [
    "not_update[7:11]"
   ]
  },
  {
   "cell_type": "code",
   "execution_count": 8,
   "id": "33d85991-7d2e-4984-9618-21df57c0cf61",
   "metadata": {},
   "outputs": [],
   "source": [
    "Q = []"
   ]
  },
  {
   "cell_type": "code",
   "execution_count": 9,
   "id": "942c463c-3834-4406-9c80-317486a99d0b",
   "metadata": {},
   "outputs": [],
   "source": [
    "for con in not_update:\n",
    "    if con[1][0].strip() == 'Q':\n",
    "        Q.append([con[0], con[1].replace('①', '').replace('②', '').replace('③', '').replace('④', '').replace('⑤', '').replace('⑥', '')])"
   ]
  },
  {
   "cell_type": "code",
   "execution_count": 144,
   "id": "ea802467-9a62-4ac2-a7fe-f528a948f54e",
   "metadata": {
    "collapsed": true,
    "jupyter": {
     "outputs_hidden": true
    },
    "tags": []
   },
   "outputs": [
    {
     "data": {
      "text/plain": [
       "[1058,\n",
       " 'Q1.@@@자신이 도전해 본 경험 중 한 가지에 대해서, 그것을 달성하기 위해 세웠던 목표와 노력, 과정, 결과를 기술해주세요. (과정과 결과를 확인할 수 있는 구체적 근거를 제시 바랍니다.)@@@스타트업 재직 시, 목표를 주도적으로 세우고 없는 힘을 다해 노력해서 성과를 낸 경험이 있습니다. 당시 조직에서 설정한 목표는 `자사 제품의 효과성 검증`이었으나 저는 이번 프로젝트를 성공시키는 것을 넘어 전국으로 확장 가능한 프로젝트의 기반을 만들어야겠다고 다짐한 것입니다.@@@입사 후 1년간의 업무 역량과 열정을 대표님께 인정받아, 신입으로서 프로젝트의 메인 담당자가 될 수 있었습니다. 한편, 교육 분야 지식이 부족하고 교육 프로젝트 경험이 없는 제가 4개월간 교육 프로젝트를 총괄하는 일은 쉽지 않았습니다. 기존 교육 모델과는 다른 새로운 가치와 변화를 만드는 기획을 하고, 재단, 전문가, 학부모 등 여러 이해관계자 간 니즈를 조율하며 운영해야 했기 때문입니다. 하지만 조직의 성장이 제 성장이고, 도전할 때 가장 많이 배울 수 있다는 긍정적인 마인드와 의지를 가지고 아래와 같이 노력했습니다.@@@우선 학습 커리큘럼과 평가 체계를 기획하기 위해, 여러 자료와 매체로 교육을 공부했습니다. 빠른 학습력으로 보조 교과서를 1달 만에 습득하고 모든 논문과 기사를 탐독하였습니다. 모르는 부분은 전문가 선생님께 여쭤보며 이해를 더했습니다. 이를 통해 프로젝트의 성공을 위해서는 참가자들의 꾸준한 학습과 체계적인 관리 시스템이 중요하다는 것을 발견하여, 매주 학습지 점검과 전문가 멘토링을 기획할 수 있었습니다. 또한, 조직의 대학생 네트워크와 학부모로부터 받은 점자교육의 어려움에 대한 피드백을 고려하여, 대학생의 가정방문 교육이라는 차별화된 교육 모델을 제안했습니다.@@@이러한 기획을 실행하는 데 필요한, 교육 전문가들이 있는 전라도와 강원도에 직접 찾아가 자문 협조를 요청하여, 한정된 예산으로도 협업의 기회를 얻을 수 있었습니다. 조직의 미션과 그간 사업을 통해 얻은 구체적인 고객 피드백을 설명하여 조직의 사업에 대한 의지를 피력하고, 조직의 이익을 넘어 프로젝트가 교육에 가져올 긍정적인 변화를 설득력 있게 전달했습니다. 새로운 제품에 부정적인 편이어서 어려움이었지만, 소리만으로도 설득될 수 있도록 사전에 키워드를 써서 미팅에서 전달할 내용을 여러 번 연습한 덕분이었습니다.@@@이번 프로젝트를 추후 전국적으로 확대하기 위해서는 파트너였던 OOOO재단의 지속적인 지지를 확보하는 게 가장 중요했습니다. 대기업들과의 네트워크와 커뮤니케이션 역량을 가지고 있기 때문입니다. 따라서 시각장애아동의 교육 문제와 자사 제품의 필요성에 공감할 수 있도록, 가시적인 그래프와 실제 학습 영상 자료 등을 활용해 주기적으로 보고서와 구두를 통해 프로젝트 경과를 공유했습니다.@@@그 결과, 참여자 70%가 기초 언어를 익히는 기대 이상의 성과를 얻어 제품의 효과성을 확실히 입증할 수 있었습니다.@@@이러한 경험을 통해 도전적으로 높은 목표를 세운 후, 관련 지식을 빠르게 배워 기획하고, 실행과 목표 달성에 필요한 파트너를 파악하여 적극적으로 커뮤니케이션하면 성과를 달성할 수 있다는 것을 배웠습니다.@@@질문Q2.@@@지원하신 분야(직무)를 선택한 이유와 해당 분야(직무)에 필요한 역량을 갖추기 위해 어떠한 노력을 해왔는지 구체적으로 서술해주세요.@@@〃준비된 마케터〃@@@비즈니스 프로세스에 대한 이해와 멀티플레이어의 역량을 제가 갖추고 있어, 이 강점을 바탕으로 한샘에서 성과를 낼 수 있다고 생각하여 마케팅 직무를 선택했습니다.@@@〃비즈니스 프로세스〃@@@사업 부문과 추구하는 방향이 맞도록 업무를 조율하며 전략을 수행하는 것이 중요하다고 생각합니다. 마케팅은 연구개발부터 생산, 영업까지의 전반적인 프로세스에 연계되어 있기 때문입니다.@@@제조 기반의 스타트업에서 여러 부서와 긴밀히 연계하며, 상품 기획부터 판매전략 구상까지 경험하며 얻은 이해를 적극적으로 활용하여 한샘의 부서 간 협업을 증진하겠습니다. 부서 간의 견해차가 있으면, 저의 산업/경쟁사 동향과 타겟층의 니즈 분석 역량을 활용하여 합의점을 찾아낼 것입니다.@@@〃멀티플레이어〃@@@스타트업에서 마케팅뿐만 아니라 동시에 영업과 프로젝트 매니저 역할을 했습니다. 이 과정에서 다양한 이해관계자와의 커뮤니케이션 스킬, 데이터 분석, 그리고 콘텐츠 기획 능력을 고루 길렀습니다. 실무 경험을 바탕으로, 고객과 시장에 대한 이해 기반의 실질적인 마케팅 전략을 세우는 사원이 되겠습니다.@@@질문Q3.@@@10년 후 본인이 만들고 싶은 한샘의 모습에 대해서 서술해주세요.@@@10년 후, 디지털 시대에 글로벌 홈 인테리어 리더로 한샘이 우뚝 서도록 만들고 싶습니다.@@@〃Digital 한샘〃@@@한샘을 오프라인 강점인 촘촘한 유통망에 더해 O2O 기반의 디지털 역량을 자체적으로 갖춘 기업으로 만들고 싶습니다. IoT와 AI 등 ICT 기술의 성장 및 전염병으로 인한 재택근무 확산 등의 변수로 스마트홈 시대로 진화하고 있습니다. 밀레니얼 세대로서 다변화하는 고객 니즈와 리빙 트렌드를 빠르게 캐치하여 콘텐츠/채널별 전략을 구상하겠습니다.@@@〃Global 한샘〃@@@동북아와 북미 시장을 넘어, 유럽과 성장하는 인도 시장까지 한샘이 공격적인 사업 확장을 하는데 기여하고 싶습니다. 이를 위해 글로벌 시장별 타겟층의 니즈를 파악하여 맞춤형 전략을 세우겠습니다. 스타트업에서 북미권 대상으로 SNS 콘텐츠 제작 및 광고 운영 업무를 했습니다. 처음에는 업종 트렌드와 제품에 대한 이해 부족으로 차별화된 전략을 세우기 쉽지 않았습니다. 한편 SNS, 홈페이지, 리뷰 분석으로 매일 산업/경쟁사 동향을 파악함으로써 레퍼런스를 확보했고, 북미권 업체에 프로모션을 진행하여 몇 달간 KPI를 초과 달성했습니다. 이러한 역량을 발전시켜 나가겠습니다.']"
      ]
     },
     "execution_count": 144,
     "metadata": {},
     "output_type": "execute_result"
    }
   ],
   "source": [
    "Q[5]"
   ]
  },
  {
   "cell_type": "code",
   "execution_count": 145,
   "id": "0b98f22e-990c-498f-9b32-7521ad23f406",
   "metadata": {
    "tags": []
   },
   "outputs": [],
   "source": [
    "for i, q in enumerate(Q):\n",
    "    idx, con = q\n",
    "    con = \"@@@\"+con\n",
    "    qa_dict = dict()\n",
    "    questions = [q for q in re.findall('@@@Q\\d?\\s?\\.?\\,?\\)?\\:?\\s?@*(.*?)\\@@@', con)]\n",
    "    for q in questions:\n",
    "        if q == \"\":\n",
    "            print(idx, con)\n",
    "    answers = re.sub('@@@Q\\d?\\s?\\.?\\,?\\)?\\:?\\s?@*(.*?)\\@@@', '###############', con).split(\"###############\")[1:]\n",
    "    \n",
    "    for q, a in zip(questions, answers):\n",
    "        qa_dict[q] = re.sub(' +', ' ', a.replace('@@@',' ')).strip()\n",
    "    \n",
    "    if i==0:\n",
    "        del qa_dict['최근 경험해 본 가장 혁신적이거나 편리했던 디지털 금융서비스(타사 서비스 포함)에 ']\n",
    "        qa_dict['최근 경험해 본 가장 혁신적이거나 편리했던 디지털 금융서비스(타사 서비스 포함)에 대해 설명하고, 보다 개선할 수 있는 점이 있다면 기술하시오.'] = \"디지털 금융 서비스 설명 2021년 금융보안원에서 발표한 디지털금융 및 사이버 보안 10대 이슈 전망 중 하나인 '인증 서비스'에 관심을 가지게 되었습니다. 2020.12 전자서명법 개정 및 공인인증서 폐지 따라 금융 인증센터에서는 금융 인증서비스를 제공하고 있고 사설업체에서는 U+pass 등 다양한 인증 기법들을 제안하고 있습니다. 현재까지는 인증 분야에서의 혼란을 완화하기 위하여 공인인증서 또한 병행하여 사용하고 있는 실정이지만 점차 시간이 지난다면 또 다른 표준이 자리 잡을 것으로 생각이 됩니다. 2. 개선할 수 있는 점 현재는 PKI 기술에 OTP 기술을 추가하여 실시간으로 안전하게 인증할 수 있는 기능이 대부분인 것으로 알고 있습니다. 하지만 정보 보안 3대 요소 중 하나인 '무결성'에 대해서는 다소 애매할 수 있다는 생각을 하고 있습니다. 금융권은 Transaction이 많다는 점을 활용하여 해결책으로 블록체인 기술을 생각해 보았습니다. 이를 위한 개발 환경으로 마이크로소프트 애저(Azure) 등의 BaaS를 통해 클라우드 기술을 기반으로 기존 환경과 연동시킬 수 있다고 생각합니다. 물론 Public과 Private 환경 문제, 인프라 연결에 따른 해킹 위협 등 상세한 요소에 대해서는 각 기업의 환경에 맞게 유동적으로 수정할 필요성이 있다고 생각합니다.\"\n",
    "    Q[i] = [idx, qa_dict]"
   ]
  },
  {
   "cell_type": "code",
   "execution_count": 148,
   "id": "fef9b06e-3621-4115-9b46-2eac7d1e4568",
   "metadata": {
    "collapsed": true,
    "jupyter": {
     "outputs_hidden": true
    },
    "tags": []
   },
   "outputs": [
    {
     "name": "stdout",
     "output_type": "stream",
     "text": [
      "\n",
      "\n",
      "Q :  IBK기업은행에 지원한 동기와 인턴생활을 통해 얻고자 하는 것이 무엇인지 설명하시오.   =>   1. IBK기업은행 지원 동기 편의점, 음식점 등 다양한 아르바이트를 진행하며 소통의 중요성에 대해 배웠으며 이를 통해 기존 체계가 완벽하게 갖춰져 있더라도 빠른 피드백이 중요함을 알게 되었습니다. IBK의 핵심가치는 세 가지 생활가치를 기반으로 고객과 함께하는 소통을 최우선으로 하고 있습니다. 특히나 강조하는 다섯 가지 중점 부문 중 '신뢰'와 '사람'을 기반으로 한 '사회'와 '시스템'이 저의 철학과 일치하여 이번 청년 체험 인턴으로 지원하였습니다. 2. 인턴생활을 통해 얻고자 하는 것 청년인턴은 실무능력 측면에서도 문제 발생 시 리스크 부담 측면에서도 실무자에 비해 현저하게 떨어진다고 생각합니다. 그렇기에 지금의 IBK기업은행까지 올 수 있었던 기존 체계와 실무 환경 및 업무 문화 등을 확인해보고 싶었습니다. IBK기업은행의 겨우 타 금융권에 비해 B2C보다는 B2B 모델이 많다고 분석하였고 전산상 타 금융권에 비해 더 많은 공부를 진행할 수 있다고 생각하였습니다. 최종적으로 청년 인턴 체험 후 신입행원 채용에 도전을 목표로 하고 있습니다\n",
      "Q :  단체활동이나 팀프로젝트를 통해 성과를 달성한 사례에 관해 본인의 역할, 타 구성원과의 협력 내용, 힘든 상황을 극복했던 경험 등을 구체적으로 기술하시오.   =>   국가기관에서 진행한 대외활동 중 자율적으로 팀을 꾸려 약 4개월 동안 자유롭게 프로젝트를 진행하는 단계가 있었습니다. 운이 좋게 얻게된 기회를 흐지부지 넘어가는 것보다 성장을 위해 힘들더라도 직접 팀장이 되자고 생각하였고 PM의 역할을 수행하게 되었습니다. 공통적인 기초 공부부터 시작하자는 팀원들이 있는 반면, 논문을 작성하고 오픈소스를 제작하여 빠르게 성과를 내자는 팀원들의 의견이 충돌하였습니다. 이에 저는 중재만 하려고 하는 입장이었으며 최대한 불화를 일으키지 않도록 노력하였습니다. 하지만 PM의 위치는 방향성을 만들고 이끄는 역할임을 다시 인지하였고 기존 고민사항이나 방향성 등을 팀원들과 얘기하는 자리를 지속적으로 만들었습니다. 소통의 기회를 넓힌 결과 팀원 모두의 이상적인 결과에 도달할 수 있었습니다. 대내적으로는 기술역량의 성장뿐 아니라 인격적인 성숙을 이룰 수 있었고 대외적으로는 학회 발표, 취약점 제보 및 장관 인증서 수상까지 할 수 있는 기회를 얻었습니다.\n",
      "Q :  본인을 가장 잘 표현할 수 있는 수식어 또는 단어를 제시하고, 그 이유를 설명하시오.   =>   1. 단어 제시 '노트북'이라고 생각합니다. 노트북은 하나의 전자기기만으로 어떤 작업이든 가능합니다. IBK 기업은행의 경우 정부가 출자한 국책은행으로서 중소기업 자금을 지원하는 역할을 하는 동시에 상장 기업으로서 기업의 가치 또한 상승시켜야 하는 역할을 가지고 있습니다. 저는 이러한 역할과 유사하게 공적인 측면에서는 디지털 정보를 기반으로 작업하는 노트북이 되고 싶으며 사적인 측면에서는 협동의 정보를 기반으로 작업하는 노트북이 되고싶습니다.결론적으로 IBK 기업은행에 필요한 노트북이 되어 이것에 의무와 책임을 다하는 것을 목표로 인턴을 진행하고 싶습니다. 2. 관련 경험 사이버방호실 CERT팀에 맞는 '노트북'이 된 경험이 있습니다. 기존 군 간부들의 안전한 업무 환경과 보안 유지를 위해 부대 사정에 맞게 보안 인프라를 운영하며 교육하였으며 한편으로는 제도적 뒷받침을 통해 보다 나은 관리 방안을 연구하며 제안한 프로젝트가 군 사이버 역량 강화 참고 문서로 채택되었습니다. 이를 통해 기존 환경도 잘 유지하며 미래도 선도할 방향도 제시한 경험이 있습니다.\n",
      "Q :  10년안에 이루고싶은 버킷리스트   =>   1. 이루고 싶은 버킷리스트 국가기관에서 IT와 연계된 대외활동을 하며 수혜를 정말 많이 받았는데, 저와 같은 환경에 있는 인원들을 돕고 싶은 것이 최종 목표입니다. 구체적으로는 국가기관 또는 봉사/교육 단체에서 무상으로 보안/IT 분야의 멘토링과 교육 활동을 진행하고 싶습니다. 기회가 된다면 '보안'을 키워드로 노년층 대상 보이스피싱 방지 등의 봉사활동을 직접 만들어보고 싶고 업무에 부담이 되지 않는 선에서 활동해보고 싶습니다. 자기계발 측면에서도 만족이 되지만 이는 재직 중인 기업의 이미지에도 선한 영향력을 줄 수 있다고 생각합니다. 2. 노력과 향후 준비 계획 실제 어떤 활동들이 있는지 주기적으로 확인해보며 해당 교육 체계나 시스템을 분석해보고 있습니다. 분석 과정에서 다양하게 참가해보며 장/단점 및 보완할 부분을 분석하여 저만의 로드맵을 그려보고 있습니다. 이후에는 금융권 기업에서 ICT분야 경험을 쌓으며 전반적인 IT인프라 및 보안 측면 전공/실무 지식을 획득한 뒤, 전공 계발을 진행할 예정이고 컨퍼런스 및 학회 등을 통해 해당 멘토링/교육 활동을 진행하는 인원들과 친분을 쌓아서 봉사/교육 활동의 기회를 얻을 예정입니다. 이를 위한 초석으로 현재 학회 학술대회 논문 제출을 통해 지속적으로 참가하고 있습니다.\n",
      "Q :  최근 경험해 본 가장 혁신적이거나 편리했던 디지털 금융서비스(타사 서비스 포함)에 대해 설명하고, 보다 개선할 수 있는 점이 있다면 기술하시오.   =>   디지털 금융 서비스 설명 2021년 금융보안원에서 발표한 디지털금융 및 사이버 보안 10대 이슈 전망 중 하나인 '인증 서비스'에 관심을 가지게 되었습니다. 2020.12 전자서명법 개정 및 공인인증서 폐지 따라 금융 인증센터에서는 금융 인증서비스를 제공하고 있고 사설업체에서는 U+pass 등 다양한 인증 기법들을 제안하고 있습니다. 현재까지는 인증 분야에서의 혼란을 완화하기 위하여 공인인증서 또한 병행하여 사용하고 있는 실정이지만 점차 시간이 지난다면 또 다른 표준이 자리 잡을 것으로 생각이 됩니다. 2. 개선할 수 있는 점 현재는 PKI 기술에 OTP 기술을 추가하여 실시간으로 안전하게 인증할 수 있는 기능이 대부분인 것으로 알고 있습니다. 하지만 정보 보안 3대 요소 중 하나인 '무결성'에 대해서는 다소 애매할 수 있다는 생각을 하고 있습니다. 금융권은 Transaction이 많다는 점을 활용하여 해결책으로 블록체인 기술을 생각해 보았습니다. 이를 위한 개발 환경으로 마이크로소프트 애저(Azure) 등의 BaaS를 통해 클라우드 기술을 기반으로 기존 환경과 연동시킬 수 있다고 생각합니다. 물론 Public과 Private 환경 문제, 인프라 연결에 따른 해킹 위협 등 상세한 요소에 대해서는 각 기업의 환경에 맞게 유동적으로 수정할 필요성이 있다고 생각합니다.\n"
     ]
    },
    {
     "name": "stdin",
     "output_type": "stream",
     "text": [
      "Correct ?  y\n"
     ]
    },
    {
     "name": "stdout",
     "output_type": "stream",
     "text": [
      "\n",
      "\n",
      "Q :  지원동기 및 입사 후 목표, 경력사항을 중심으로 A4 한 장 분량으로 작성하여 주시기 바랍니다.   =>   A.〃꿈을 향한 발걸음〃 제가 삼정회계법인 인턴에 지원한 이유는 회계전문가를 꿈꾸며 공부하는 과정에서 얻은 지식을 실무에 적용하여 제 능력을 발휘하고, 배움을 얻기 위해서입니다. 저는 대학교에서 경영학 원론 수업을 들으며 진행된 사회 이슈 발표에서 회계사 출신 교수님과의 토론을 진행하던 와중에 회계에 대한 흥미를 얻었습니다. 저의 강점인 수리, 논리력, 언어능력과 직업 가치도 평가에 따른 직무를 고려해보고 회계사와 회계 직무에 대한 꿈을 키웠습니다. 제 꿈을 실천하기 위해 삼일회계법인에서 주관하는 회계 관리 2급 자격증을 시작으로 재경관리사, ERP 회계 1급을 취득하였고 더 전문적인 지식을 갖추기 위해 CPA 공인회계사 시험을 준비하고 있습니다. ERP 회계 1급을 준비하며 영림원 시스템과 더존 시스템에서 거래처원장을 작성하며 채권·채무잔액조회, 채권채무조회서를 발송하는 업무를 공부하였습니다. 또한 기업회계에 대한 분석을 진행하는 과정에서 전자 금융기관조회서를 발급받고 회계감사를 준비하는 과정에 관해 공부했습니다. 또한 경영 캡스톤디자인을 진행하는 과정에서 재무제표를 분석하고 이를 바탕으로 기업을 분석하여 퀀트 프로그램을 만드는 과정, 기업분석경진대회에서 재무제표로 매출액 비교, 수익성 비교, 성장성, 안정성 등을 분석하며 재무제표를 읽는 능력을 키웠습니다. 저는 〃성공의 실패는 도전하지 않는 것이다.〃라는 슬로건을 가지고 살아왔습니다. 새로운 것에 도전하고, 낯선 이를 만나는 것을 두려워하지 않았습니다. 이 과정에서 저는 사람들과 즐겁게 생활하는 법을 배웠다고 생각합니다. 이런 저의 밝은 태도로 사람들과 “소통”하며 의견을 “존중”하고 이를 통해 “협업”을 잘 진행할 수 있다고 생각합니다. 저는 업무에 있어서 책임감을 느낍니다. 이런 책임감은 저를 배움의 자세로 이끕니다. 이 배움의 자세에서 게을리하지 않고 작은 것 하나하나 꼼꼼하게 체크하며 학습합니다. 이런 태도를 저는 자신에 대한 “통찰”이라고 생각합니다. 팀프로젝트를 진행할 때 저는 주도적으로 참여합니다. 다른 팀원들의 말을 듣고, 생각을 정리하며 큰 틀을 만들고 논리적 일관성을 생각합니다. 그렇게 만든 프로젝트의 틀을 진행하며 부족한 점을 보완해주고, 내가 아는 것은 알려주고 서로 잘못 진행하는 부분은 고치도록 노력합니다. 이 과정속에서 팀원들을 챙기고 같이 좋은 방향으로 나아가도록 노력하는 모습을 리더십, “솔선수범”한다고 생각합니다. 이번 동계인턴십을 통해 삼정회계법인에서 인턴으로서 역량을 발휘하고, KPMG 7Value를 직접 실천하며 세상의 변화를 주도해 나갈 수 있도록 겸손한 자세로 하나하나 실무에 대해 배우고 꼼꼼하게 확인하며 회계전문가로서의 꿈을 한 발짝 나아가고 싶습니다.\n"
     ]
    },
    {
     "name": "stdin",
     "output_type": "stream",
     "text": [
      "Correct ?  y\n"
     ]
    },
    {
     "name": "stdout",
     "output_type": "stream",
     "text": [
      "\n",
      "\n",
      "Q :  자발적으로 최고 수준의 목표를 세우고 끈질기게 성취한 경험에 대해 서술해 주십시오.    =>   (본인이 설정한 목표/ 목표의 수립 과정/ 처음에 생각했던 목표 달성 가능성/ 수행 과정에서 부딪힌 장애물 및 그 때의 감정(생각)/ 목표 달성을 위한 구체적 노력/ 실제 결과/ 경험의 진실성을 증명할 수 있는 근거가 잘 드러나도록 기술) (700~1000 자 10 단락 이내) [기존 제품의 시장성을 증폭시키다.] 직접 겪은 사우나 신발장의 불편함에 착안하여 동선 겹침과 수납 불편함 개선을 목표로 ‘자동정리 신발장’을 제작했습니다. 이전에도 이에 대한 개선 시도가 많았지만, 기존 제품을 대체하기에 무리가 있었습니다. 저 또한 이미 정형화된 제품이 있는 상황에서 시장 경쟁력을 높인 제품을 설계하기가 쉽지 않으리라고 생각했습니다. 그래서 저는 기존 제품보다 높은 편리성을 지니는가에 집중했고 지정된 번호의 스위치를 누르면 모터가 발판을 구동시켜 신발을 입출입하는 자동정리 신발장 제작을 목표로 삼았습니다. 그러나 그 과정에서 두 가지 문제가 발생했습니다. 첫 번째는 부품 선정 문제입니다. 주어진 예산에서 가장 큰 비중을 차지하는 것은 모터였는데, 수많은 종류의 모터가 있어 선정에 어려움을 겪었습니다. 필요 이상 규격의 모터를 구매한다면 예산 부족을 초래할 수 있었고, 반대로 적정 규격에 미치지 못하는 모터를 사용할 경우 구동이 불가능했습니다. 그래서 신발, 발판, 가이드의 무게로 인해 발생하는 토크를 이론적으로 계산하여 구동에 필요한 이상적인 모터의 규격을 결정했습니다. 이 정보를 기반으로 직접 구로 공구상가의 모터 전문업체를 찾아 전문가의 조언을 얻어 적절한 모터를 구매했습니다. 두 번째는 메커니즘 비효율성이었습니다. 초기에는 사용자가 직접 번호를 기억해 해당 스위치를 찾아 누르는 불편함과 긴 대기시간이 발생했습니다. 이 문제를 해결하지 못한다면 목표한 ‘높은 편리성’을 달성할 수 없을 것 같아 낙담했습니다. 그러나 이미 프로젝트 기간의 절반이 지나있었고, 4학년을 마무리하는 프로젝트를 완벽하게 끝내고 싶어 다양한 제품군에서 아이디어를 얻기위해 노력했습니다. 그 중, 타워 주차장의 RFID 기술과 주차 시스템에 주목했습니다. 이를 적용해 신발을 입구에 벗어놓고 RFID 카드를 리더기에 인식하면 신발을 최단 경로로 입출입할 수 있도록 구현했습니다. 그 결과 기존 제품보다 증폭된 편리함으로 심사에서 높은 시장성 평가를 받았습니다.\n",
      "Q :  새로운 것을 접목하거나 남다른 아이디어를 통해 문제를 개선했던 경험에 대해 서술해 주십시오.    =>   (기존 방식과 본인이 시도한 방식의 차이/ 새로운 시도를 하게 된 계기/ 새로운 시도를 했을 때의 주변 반응/ 새로운 시도를 위해 감수해야 했던 점/ 구체적인 실행 과정 및 결과/ 경험의 진실성을 증명할 수 있는 근거가 잘 드러나도록 기술) (700~1000 자 10 단락 이내) [고정관념에서 벗어나다.] ‘000’ 수업에서 화성 탐사선을 모티브로 경연을 진행했습니다. 경사로와 턱으로 표현된 필드에서 모터 3개를 활용해 제한 시간 내에 장애물을 극복하고 정사각형 조각 샘플을 수집하는 미션을 수행하는 탐사선을 제작했습니다. 본체 구동에 쓰이는 2개의 모터 외에 하나의 모터를 어떻게 창의적으로 활용할 것인지가 가장 큰 관건이었습니다. 이 모터를 이용해 롤러 형식으로 샘플을 잡아당겨 본체 내부에 저장하는 컬렉터를 제작하는 것이 보편적입니다. 그래서 대부분 팀은 이처럼 모터를 활용하고, 대신 조종 연습이나 코딩에 차별성을 둡니다. 하지만 이렇게 활용할 경우, 장애물을 넘을 때 2개 모터만으로는 구동력이 부족하고, 컬렉터로 사용하는 1개의 모터가 장애물에 닿게 되어 마찰 문제도 발생합니다. 그래서 저는 고정관념에서 벗어나 독창적인 방식으로 모터를 사용해 차별성을 둘 것을 제안했습니다. 이를 위해서는 설계에 상대적으로 많은 시간을 투자해야 했는데, 팀원들도 모두 이 의견에 공감하였고 의기투합했습니다. 저희 팀은 하나의 모터로 샘플 수집과 장애물 극복을 동시에 해결하고 싶었습니다. 컬렉터가 바퀴 역할을 한다면 이를 모두 만족할 것으로 생각했습니다. 그래서 오랜 시행착오 끝에 구동 보조 장치로도 활용이 가능한 롤러형 컬렉터를 설계했습니다. 롤러형 컬렉터는 기존 컬렉터의 단점인 마찰을 오히려 장애물을 넘는 장점으로 사용할 수 있어 가장 이상적인 메커니즘으로 여겨졌습니다. 그러나 이를 직접 제작하는 과정에서 샘플 수집과 장애물 통과에 요구되는 모터의 높이가 다른 것을 발견했습니다. 따라서 모터가 본체에 고정되지 않고 물체의 높이에 맞춰 자유롭게 움직일 수 있게 설계했습니다. 이 설계를 통해 모터 3개의 구동력과 수집 기능을 갖춘 탐사선을 제작할 수 있었고 최종적으로 경연에서 모든 미션을 성공하며 8팀 중 1위를 했습니다. 저는 장비 이슈가 생겼을 때 고정관념에 사로잡히지 않고 창의적으로 해결하는 엔지니어가 될 것입니다.\n",
      "Q :  지원 분야와 관련하여 특정 영역의 전문성을 키우기 위해 꾸준히 노력한 경험에 대해 서술해 주십시오.    =>   (전문성의 구체적 영역(예. 통계 분석)/ 전문성을 높이기 위한 학습 과정/ 전문성 획득을 위해 투입한 시간 및 방법/ 습득한 지식 및 기술을 실전적으로 적용해 본 사례/ 전문성을 객관적으로 확인한 경험/ 전문성 향상을 위해 교류하고 있는 네트워크/ 경험의 진실성을 증명할 수 있는 근거가 잘 드러나도록 기술) (700~1000 자 10 단락 이내) [제품 신뢰성을 높인다] 양산기술 직무에서 장비 엔지니어로서 갖춰야 할 역량은 ‘데이터 분석’과 ‘공정 개선 능력’입니다. 저는 빅데이터 활용 능력을 갖추기 위해 노력했습니다. 반도체 산업 전반에 스마트 팩토리가 구축되고 있고 이를 기반으로 발생하는 대량의 데이터를 분석하고 처리하는 역량이 요구되고 있습니다. 저는 빅데이터 처리 및 머신러닝 적용을 통해 고장 데이터를 진단해본 경험이 있습니다. Python을 활용해 주어진 센서 기반 빅데이터에 FFT 신호처리 및 t-Test 기법의 P-value 기반 통계적 영향 인자를 추출하였습니다. 그리고 Tensor flow 플랫폼의 ANN 모델에 학습시켰고 검사 데이터를 통해 분석한 결과 시스템 결함을 90% 정확도로 진단하였습니다. 또한, 이 데이터 분석 능력을 발전시키기 위해 교내 대학원생과 교류하며 실험 데이터 신뢰도를 진단 및 분석하고 있습니다. 양산기술 직무에서는 많은 양의 공정 데이터를 분류하고 처리해야 합니다. 이러한 빅데이터 분석 능력은 장비 및 공정의 건전성 관리와 반도체 생산 수율을 더 효과적으로 관리할 수 있을 것입니다. 저는 공정 최적화를 위한 장비 개선 경험이 있습니다. 4학년 1학기 000 과목을 수강하며 ‘아이스크림 커팅 장비 개발’이라는 주제로 개인 프로젝트를 진행했습니다. 압출기에서 나오는 아이스크림 원료를 일정한 간격으로 잘라내기 위해 이상적인 Link 조합으로 이루어진 cutter를 고안해야 했습니다. 먼저, 아이스크림 두께를 결정하는 cutter의 회전주기와 대칭을 유지하기 위한 커팅 순간속도와 각도, 장비 내구성에 영향을 주는 토크를 고려하여 설계하였습니다. 이론적인 계산으로 끝내지 않고 MATLAB Simulink를 이용해 직접 시뮬레이션해보고 시간에 따른 커팅 지점의 위치를 그래프로 확인함으로써 cutter 장비를 최적화하였습니다. 이 경험을 토대로 양산기술 직무에서 공정의 모든 변수를 고려한 장비 개선을 통해 제품 신뢰성을 확보하는 장비 엔지니어 역할을 해낼 것입니다.\n",
      "Q :  혼자 하기 어려운 일에서 다양한 자원 활용, 타인의 협력을 최대한으로 이끌어 내며, Teamwork를 발휘하여 공동의 목표 달성에 기여한 경험에 대해 서술해 주십시오.    =>   (관련된 사람들의 관계(예. 친구, 직장 동료) 및 역할/ 혼자 하기 어렵다고 판단한 이유/ 목표 설정 과정/ 자원(예. 사람, 자료 등) 활용 계획 및 행동/ 구성원들의 참여도 및 의견 차이/ 그에 대한 대응 및 협조를 이끌어 내기 위한 구체적 행동/ 목표 달성 정도 및 본인의 기여도/ 경험의 진실성을 증명할 수 있는 근거가 잘 드러나도록 기술) (700~1000 자 10 단락 이내) [효율적인 팀워크 활용법 : 책임감] 3학년 여름방학, 두 달 동안 현장 실습에 참여하여 프로젝트를 진행했습니다. 이 과정에서 ANSYS 툴 활용이 필수적이었습니다. 이 프로그램을 다뤄본 경험이 전무했기 때문에 혼자서 진행하기는 어렵다고 판단했습니다. 다른 실습생 2명 또한 저와 같은 고민을 가지고 있었고 저희는 함께 툴을 학습한다면 더욱 효율적일 것으로 예상했습니다. 그러나 팀을 이루어 툴 학습을 시작하게 되니, 각자 학습할 때 지니고 있었던 열정과 책임감이 줄어들었습니다. 툴 사용에서 상대적으로 어려운 부분을 다른 사람이 공부하도록 미루거나 누군가가 알려주기 전까지 찾아보려 하지 않는 모습을 보이기도 했습니다. 이 문제를 해결하기 위해 역할 분담, 인터넷 강의 등 다양한 방법을 시도했지만, 기초적인 지식이 없어 간단한 조작도 힘들다는 의견들이 있었고 기초 지식을 쌓고 프로젝트를 완성하기에는 시간이 부족했습니다. 시간을 효율적으로 사용하기 위해서 세미나 형식으로 프로젝트를 진행했습니다. 그래서 이틀에 한 번씩 워크숍 자료에 있는 기초주제를 직접 해석 시연하고, 지금까지 진행한 내용과 계획을 간단하게 발표하는 시간을 가졌습니다. 자신이 직접 발표자가 되어야 하니, 모두가 책임감을 느끼고 프로그램 활용법을 분석하게 되었습니다. 게다가 시연 과정에서 오류가 생기게 되면 한 명씩 오류에 대한 피드백을 주고 같이 해결해나갔습니다. 이러한 과정을 통해 모든 팀원이 의지를 가지고 실습에 참여할 수 있었습니다. 또한, 시연자는 이를 통해 다시 한번 중요한 정보를 내재화할 기회가 되어 실습생 모두 높은 수준의 ANSYS 활용 능력을 갖출 수 있었습니다. 프로젝트 진행에 적절한 세미나 형식을 도입해 모든 인원이 책임감을 가질 수 있게 만들었습니다. 이를 통해 제한된 시간 내에서 팀워크 효율을 끌어올려 성공적으로 마무리할 수 있었습니다. 이렇게 새로운 방식으로 팀워크를 이끌어낸 경험은 SK 하이닉스 입사 후에도 발전적인 조직 문화를 형성하는 데 큰 역할을 할 것입니다.\n"
     ]
    },
    {
     "name": "stdin",
     "output_type": "stream",
     "text": [
      "Correct ?  n\n"
     ]
    },
    {
     "name": "stdout",
     "output_type": "stream",
     "text": [
      "\n"
     ]
    },
    {
     "name": "stdin",
     "output_type": "stream",
     "text": [
      "ENTER Question :  자발적으로 최고 수준의 목표를 세우고 끈질기게 성취한 경험에 대해 서술해 주십시오.\n",
      "ENTER Answer :  [기존 제품의 시장성을 증폭시키다.] 직접 겪은 사우나 신발장의 불편함에 착안하여 동선 겹침과 수납 불편함 개선을 목표로 ‘자동정리 신발장’을 제작했습니다. 이전에도 이에 대한 개선 시도가 많았지만, 기존 제품을 대체하기에 무리가 있었습니다. 저 또한 이미 정형화된 제품이 있는 상황에서 시장 경쟁력을 높인 제품을 설계하기가 쉽지 않으리라고 생각했습니다. 그래서 저는 기존 제품보다 높은 편리성을 지니는가에 집중했고 지정된 번호의 스위치를 누르면 모터가 발판을 구동시켜 신발을 입출입하는 자동정리 신발장 제작을 목표로 삼았습니다. 그러나 그 과정에서 두 가지 문제가 발생했습니다. 첫 번째는 부품 선정 문제입니다. 주어진 예산에서 가장 큰 비중을 차지하는 것은 모터였는데, 수많은 종류의 모터가 있어 선정에 어려움을 겪었습니다. 필요 이상 규격의 모터를 구매한다면 예산 부족을 초래할 수 있었고, 반대로 적정 규격에 미치지 못하는 모터를 사용할 경우 구동이 불가능했습니다. 그래서 신발, 발판, 가이드의 무게로 인해 발생하는 토크를 이론적으로 계산하여 구동에 필요한 이상적인 모터의 규격을 결정했습니다. 이 정보를 기반으로 직접 구로 공구상가의 모터 전문업체를 찾아 전문가의 조언을 얻어 적절한 모터를 구매했습니다. 두 번째는 메커니즘 비효율성이었습니다. 초기에는 사용자가 직접 번호를 기억해 해당 스위치를 찾아 누르는 불편함과 긴 대기시간이 발생했습니다. 이 문제를 해결하지 못한다면 목표한 ‘높은 편리성’을 달성할 수 없을 것 같아 낙담했습니다. 그러나 이미 프로젝트 기간의 절반이 지나있었고, 4학년을 마무리하는 프로젝트를 완벽하게 끝내고 싶어 다양한 제품군에서 아이디어를 얻기위해 노력했습니다. 그 중, 타워 주차장의 RFID 기술과 주차 시스템에 주목했습니다. 이를 적용해 신발을 입구에 벗어놓고 RFID 카드를 리더기에 인식하면 신발을 최단 경로로 입출입할 수 있도록 구현했습니다. 그 결과 기존 제품보다 증폭된 편리함으로 심사에서 높은 시장성 평가를 받았습니다.\n",
      "ENTER Question :  새로운 것을 접목하거나 남다른 아이디어를 통해 문제를 개선했던 경험에 대해 서술해 주십시오.\n",
      "ENTER Answer :  [고정관념에서 벗어나다.] ‘000’ 수업에서 화성 탐사선을 모티브로 경연을 진행했습니다. 경사로와 턱으로 표현된 필드에서 모터 3개를 활용해 제한 시간 내에 장애물을 극복하고 정사각형 조각 샘플을 수집하는 미션을 수행하는 탐사선을 제작했습니다. 본체 구동에 쓰이는 2개의 모터 외에 하나의 모터를 어떻게 창의적으로 활용할 것인지가 가장 큰 관건이었습니다. 이 모터를 이용해 롤러 형식으로 샘플을 잡아당겨 본체 내부에 저장하는 컬렉터를 제작하는 것이 보편적입니다. 그래서 대부분 팀은 이처럼 모터를 활용하고, 대신 조종 연습이나 코딩에 차별성을 둡니다. 하지만 이렇게 활용할 경우, 장애물을 넘을 때 2개 모터만으로는 구동력이 부족하고, 컬렉터로 사용하는 1개의 모터가 장애물에 닿게 되어 마찰 문제도 발생합니다. 그래서 저는 고정관념에서 벗어나 독창적인 방식으로 모터를 사용해 차별성을 둘 것을 제안했습니다. 이를 위해서는 설계에 상대적으로 많은 시간을 투자해야 했는데, 팀원들도 모두 이 의견에 공감하였고 의기투합했습니다. 저희 팀은 하나의 모터로 샘플 수집과 장애물 극복을 동시에 해결하고 싶었습니다. 컬렉터가 바퀴 역할을 한다면 이를 모두 만족할 것으로 생각했습니다. 그래서 오랜 시행착오 끝에 구동 보조 장치로도 활용이 가능한 롤러형 컬렉터를 설계했습니다. 롤러형 컬렉터는 기존 컬렉터의 단점인 마찰을 오히려 장애물을 넘는 장점으로 사용할 수 있어 가장 이상적인 메커니즘으로 여겨졌습니다. 그러나 이를 직접 제작하는 과정에서 샘플 수집과 장애물 통과에 요구되는 모터의 높이가 다른 것을 발견했습니다. 따라서 모터가 본체에 고정되지 않고 물체의 높이에 맞춰 자유롭게 움직일 수 있게 설계했습니다. 이 설계를 통해 모터 3개의 구동력과 수집 기능을 갖춘 탐사선을 제작할 수 있었고 최종적으로 경연에서 모든 미션을 성공하며 8팀 중 1위를 했습니다. 저는 장비 이슈가 생겼을 때 고정관념에 사로잡히지 않고 창의적으로 해결하는 엔지니어가 될 것입니다.\n",
      "ENTER Question :  지원 분야와 관련하여 특정 영역의 전문성을 키우기 위해 꾸준히 노력한 경험에 대해 서술해 주십시오.\n",
      "ENTER Answer :  [제품 신뢰성을 높인다] 양산기술 직무에서 장비 엔지니어로서 갖춰야 할 역량은 ‘데이터 분석’과 ‘공정 개선 능력’입니다. 저는 빅데이터 활용 능력을 갖추기 위해 노력했습니다. 반도체 산업 전반에 스마트 팩토리가 구축되고 있고 이를 기반으로 발생하는 대량의 데이터를 분석하고 처리하는 역량이 요구되고 있습니다. 저는 빅데이터 처리 및 머신러닝 적용을 통해 고장 데이터를 진단해본 경험이 있습니다. Python을 활용해 주어진 센서 기반 빅데이터에 FFT 신호처리 및 t-Test 기법의 P-value 기반 통계적 영향 인자를 추출하였습니다. 그리고 Tensor flow 플랫폼의 ANN 모델에 학습시켰고 검사 데이터를 통해 분석한 결과 시스템 결함을 90% 정확도로 진단하였습니다. 또한, 이 데이터 분석 능력을 발전시키기 위해 교내 대학원생과 교류하며 실험 데이터 신뢰도를 진단 및 분석하고 있습니다. 양산기술 직무에서는 많은 양의 공정 데이터를 분류하고 처리해야 합니다. 이러한 빅데이터 분석 능력은 장비 및 공정의 건전성 관리와 반도체 생산 수율을 더 효과적으로 관리할 수 있을 것입니다. 저는 공정 최적화를 위한 장비 개선 경험이 있습니다. 4학년 1학기 000 과목을 수강하며 ‘아이스크림 커팅 장비 개발’이라는 주제로 개인 프로젝트를 진행했습니다. 압출기에서 나오는 아이스크림 원료를 일정한 간격으로 잘라내기 위해 이상적인 Link 조합으로 이루어진 cutter를 고안해야 했습니다. 먼저, 아이스크림 두께를 결정하는 cutter의 회전주기와 대칭을 유지하기 위한 커팅 순간속도와 각도, 장비 내구성에 영향을 주는 토크를 고려하여 설계하였습니다. 이론적인 계산으로 끝내지 않고 MATLAB Simulink를 이용해 직접 시뮬레이션해보고 시간에 따른 커팅 지점의 위치를 그래프로 확인함으로써 cutter 장비를 최적화하였습니다. 이 경험을 토대로 양산기술 직무에서 공정의 모든 변수를 고려한 장비 개선을 통해 제품 신뢰성을 확보하는 장비 엔지니어 역할을 해낼 것입니다.\n",
      "ENTER Question :  혼자 하기 어려운 일에서 다양한 자원 활용, 타인의 협력을 최대한으로 이끌어 내며, Teamwork를 발휘하여 공동의 목표 달성에 기여한 경험에 대해 서술해 주십시오.\n",
      "ENTER Answer :  [효율적인 팀워크 활용법 : 책임감] 3학년 여름방학, 두 달 동안 현장 실습에 참여하여 프로젝트를 진행했습니다. 이 과정에서 ANSYS 툴 활용이 필수적이었습니다. 이 프로그램을 다뤄본 경험이 전무했기 때문에 혼자서 진행하기는 어렵다고 판단했습니다. 다른 실습생 2명 또한 저와 같은 고민을 가지고 있었고 저희는 함께 툴을 학습한다면 더욱 효율적일 것으로 예상했습니다. 그러나 팀을 이루어 툴 학습을 시작하게 되니, 각자 학습할 때 지니고 있었던 열정과 책임감이 줄어들었습니다. 툴 사용에서 상대적으로 어려운 부분을 다른 사람이 공부하도록 미루거나 누군가가 알려주기 전까지 찾아보려 하지 않는 모습을 보이기도 했습니다. 이 문제를 해결하기 위해 역할 분담, 인터넷 강의 등 다양한 방법을 시도했지만, 기초적인 지식이 없어 간단한 조작도 힘들다는 의견들이 있었고 기초 지식을 쌓고 프로젝트를 완성하기에는 시간이 부족했습니다. 시간을 효율적으로 사용하기 위해서 세미나 형식으로 프로젝트를 진행했습니다. 그래서 이틀에 한 번씩 워크숍 자료에 있는 기초주제를 직접 해석 시연하고, 지금까지 진행한 내용과 계획을 간단하게 발표하는 시간을 가졌습니다. 자신이 직접 발표자가 되어야 하니, 모두가 책임감을 느끼고 프로그램 활용법을 분석하게 되었습니다. 게다가 시연 과정에서 오류가 생기게 되면 한 명씩 오류에 대한 피드백을 주고 같이 해결해나갔습니다. 이러한 과정을 통해 모든 팀원이 의지를 가지고 실습에 참여할 수 있었습니다. 또한, 시연자는 이를 통해 다시 한번 중요한 정보를 내재화할 기회가 되어 실습생 모두 높은 수준의 ANSYS 활용 능력을 갖출 수 있었습니다. 프로젝트 진행에 적절한 세미나 형식을 도입해 모든 인원이 책임감을 가질 수 있게 만들었습니다. 이를 통해 제한된 시간 내에서 팀워크 효율을 끌어올려 성공적으로 마무리할 수 있었습니다. 이렇게 새로운 방식으로 팀워크를 이끌어낸 경험은 SK 하이닉스 입사 후에도 발전적인 조직 문화를 형성하는 데 큰 역할을 할 것입니다.\n",
      "ENTER Question :  n\n"
     ]
    },
    {
     "name": "stdout",
     "output_type": "stream",
     "text": [
      "\n",
      "\n",
      "Q :  본인을 나타낼 수 있는 2가지 키워드로 자기소개를 작성하여 주십시오.   =>   #빛 저는 밝고 외향적인 성격으로 사람들과 소통하는 것을 즐기고 다양한 사람과 빠르게 가까워집니다. 이러한 저의 성격은 분위기메이커 역할을 합니다. 뿐만 아니라 조직에서는 적극적으로 제 일을 하고 협력할 수 있는 방법을 모색하여 조직원들간의 화합과 동기부여에도 큰 도움이 됩니다. #인생은_도전 성장을 위해서는 지속적인 도전이 필요하다고 생각합니다. 저는 부족함을 채워나가는 데에서 성취감을 느끼는 사람입니다. 대학교 동안 국내외 10번의 대외활동과 5번의 봉사활동을 하면서 매번 저를 성장시키기 위한 새로운 목표를 도전적으로 세우고 달성하기 위해 노력했습니다. 고성과를 추구하는 개인 성취자에서 시너지를 발휘하는 팀플레이어로, 효율성 추구자에서 효과성 추구자로, 그리고 단기적 관점에서 장기적 관점의 렌즈를 갖춘 사람으로 성장하는 중입니다.\n",
      "Q :  지원한 분야의 전문성과 역량을 갖추기 위한 본인의 노력과 경험에 대하여 기술하여 주십시오.   =>   영업마케팅팀 근무 OOOO 디지털마케팅 실무 (2달, OOO OOO재단 주최) ▶ 업무 1. OOOO 온라인 쇼핑몰(파일럿)에서 OOOO 제품 판매 활성화 전략 수립 2. 페이스북 광고, 구글 애드워즈 광고, 카페, 블로그 등 채널 믹스 ▶ 성과 및 배운점 1. 우수 활동자 선정 (총 44명 중 8명, OOOO 프로젝트매니저 선정) 2. 마케팅 채널별 특징 파악 및 효과성 검증, 온라인 광고 효과 등 인사이트 도출 자격증: Google 애널리틱스 (GAIQ) ▶ 배운 점: Google 웹 로그 분석 방법 (웹 사이트 트래픽 추적 및 보고서를 통한 온라인 user행동 패턴 파악) 외국어 역량 ▶ 참여 활동 - OOOOOO (4개월): University of OOOO교환학생으로 International Studies 전공 및 독일어 학습 강좌 수강 - 미국 (11일): 글로벌 사회혁신 탐방 기획 및 영어 인터뷰 진행 (OOOOO주 5개 기관)\n",
      "Q :  본인의 입사 후 포부 및 향후 목표를 기술하여 주십시오.   =>   〃기업의 차별화된 가치를 알아볼 수 있는 사람〃 제 비전은 기업마다 가지고 있는 고유의 가치를 알아보는 것입니다. 이는 각 기업에게 적절한 금융적 지원을 제공하는 데 필요할 것입니다. ▶계기 1년 넘게 일을 하면서 기술 중심 기업에게 금융 지원이 중요하다는 사실을 몸소 느꼈습니다. 기술을 구현하기 위해서는, 작은 기업이 자체 이윤으로는 감당할 수 없는 자금이 한번에 필요하기 때문입니다. 이러한 자금 조달이 있어야 기술사업화란 가치를 창출할 수 있습니다. ▶ 목표 저의 글로벌 + 온라인 마케팅 경험을 지속적으로 배양하여, NICE D&B에서 글로벌정보사업 업무를 수행 하겠습니다. 앞으로 [금융에 대한 지식]과 [해외 시장에 대한 이해도]를 높여 더 많은 기업에게 도움이 될 수 있도록 만들겠습니다. 정치외교학을 전공하면서 정치와 외교라는 전략이 여러 나라간의 관계와 그 흥망성쇠에 미치는 영향을 공부했습니다. 이처럼 기업의 흥망성쇠에 미치는 가장 중요한 요인은 ‘금융’이라고 생각합니다. 글로벌 기업정보 마케팅과 사업기획을 통해 기업의 가치를 높이겠습니다.\n"
     ]
    },
    {
     "name": "stdin",
     "output_type": "stream",
     "text": [
      "Correct ?  y\n"
     ]
    },
    {
     "name": "stdout",
     "output_type": "stream",
     "text": [
      "\n",
      "\n",
      "Q :  한국전력기술 체험형 청년인턴에 지원한 동기가 무엇이며, 체험형 청년인턴을 통하여 어떠한 경험을 하고 어떠한 역량을 개발하고 싶으십니까? (280 ~ 700자 이내)   =>   물과 같이 없어서는 안 되고, 어디에나 도움이 되는, 그런 사람이 되고 싶습니다. 저는 대학생활을 하면서 대학 동기, 선배, 후배들과 다양한 공모전에 도전하였고, 수상하였습니다. 원자력 발전소의 종합설계와 원자로 개통설계의 핵심을 함께 설계하는 회사라는 점과 전기기사를 취득하면서 배운 지식을 바탕으로 생긴 전기에 대한 높아진 관심이 한국전력기술 체험형 청년인턴에 지원한 가장 큰 동기입니다. 한국전력기술 체험형 청년인턴을 통해 전기 분야뿐만 아니라 기계, 환경, 건축 등의 다양한 분야를 경험하며, 도전하고 싶습니다. 그리고 한국전력기술에서 강조하는 핵심가치 중 하나인 안전은 어떠한 시스템으로 운영되는지도 경험하여 더욱 나은 안전의식과 기본지식을 쌓고자 합니다. 한국전력기술이 지향하는 수질오염방지설비와 발전소 폐기물 처리 설비 시스템 등의 친환경 사업에 대한 이해도도 쌓고 싶습니다. 마지막으로 한국전력기술 체험형 청년인턴을 통해 도전, 소통, 전문성, 신뢰, 안전이라는 한국전력기술의 핵심가치에 맞게 프로그램 진행 동안 제가 가진 역량을 발휘하여 한국전력기술에 어울리는 인재가 되고자 합니다.\n"
     ]
    },
    {
     "name": "stdin",
     "output_type": "stream",
     "text": [
      "Correct ?  y\n"
     ]
    },
    {
     "name": "stdout",
     "output_type": "stream",
     "text": [
      "\n",
      "\n",
      "Q :  자신이 도전해 본 경험 중 한 가지에 대해서, 그것을 달성하기 위해 세웠던 목표와 노력, 과정, 결과를 기술해주세요. (과정과 결과를 확인할 수 있는 구체적 근거를 제시 바랍니다.)   =>   스타트업 재직 시, 목표를 주도적으로 세우고 없는 힘을 다해 노력해서 성과를 낸 경험이 있습니다. 당시 조직에서 설정한 목표는 `자사 제품의 효과성 검증`이었으나 저는 이번 프로젝트를 성공시키는 것을 넘어 전국으로 확장 가능한 프로젝트의 기반을 만들어야겠다고 다짐한 것입니다. 입사 후 1년간의 업무 역량과 열정을 대표님께 인정받아, 신입으로서 프로젝트의 메인 담당자가 될 수 있었습니다. 한편, 교육 분야 지식이 부족하고 교육 프로젝트 경험이 없는 제가 4개월간 교육 프로젝트를 총괄하는 일은 쉽지 않았습니다. 기존 교육 모델과는 다른 새로운 가치와 변화를 만드는 기획을 하고, 재단, 전문가, 학부모 등 여러 이해관계자 간 니즈를 조율하며 운영해야 했기 때문입니다. 하지만 조직의 성장이 제 성장이고, 도전할 때 가장 많이 배울 수 있다는 긍정적인 마인드와 의지를 가지고 아래와 같이 노력했습니다. 우선 학습 커리큘럼과 평가 체계를 기획하기 위해, 여러 자료와 매체로 교육을 공부했습니다. 빠른 학습력으로 보조 교과서를 1달 만에 습득하고 모든 논문과 기사를 탐독하였습니다. 모르는 부분은 전문가 선생님께 여쭤보며 이해를 더했습니다. 이를 통해 프로젝트의 성공을 위해서는 참가자들의 꾸준한 학습과 체계적인 관리 시스템이 중요하다는 것을 발견하여, 매주 학습지 점검과 전문가 멘토링을 기획할 수 있었습니다. 또한, 조직의 대학생 네트워크와 학부모로부터 받은 점자교육의 어려움에 대한 피드백을 고려하여, 대학생의 가정방문 교육이라는 차별화된 교육 모델을 제안했습니다. 이러한 기획을 실행하는 데 필요한, 교육 전문가들이 있는 전라도와 강원도에 직접 찾아가 자문 협조를 요청하여, 한정된 예산으로도 협업의 기회를 얻을 수 있었습니다. 조직의 미션과 그간 사업을 통해 얻은 구체적인 고객 피드백을 설명하여 조직의 사업에 대한 의지를 피력하고, 조직의 이익을 넘어 프로젝트가 교육에 가져올 긍정적인 변화를 설득력 있게 전달했습니다. 새로운 제품에 부정적인 편이어서 어려움이었지만, 소리만으로도 설득될 수 있도록 사전에 키워드를 써서 미팅에서 전달할 내용을 여러 번 연습한 덕분이었습니다. 이번 프로젝트를 추후 전국적으로 확대하기 위해서는 파트너였던 OOOO재단의 지속적인 지지를 확보하는 게 가장 중요했습니다. 대기업들과의 네트워크와 커뮤니케이션 역량을 가지고 있기 때문입니다. 따라서 시각장애아동의 교육 문제와 자사 제품의 필요성에 공감할 수 있도록, 가시적인 그래프와 실제 학습 영상 자료 등을 활용해 주기적으로 보고서와 구두를 통해 프로젝트 경과를 공유했습니다. 그 결과, 참여자 70%가 기초 언어를 익히는 기대 이상의 성과를 얻어 제품의 효과성을 확실히 입증할 수 있었습니다. 이러한 경험을 통해 도전적으로 높은 목표를 세운 후, 관련 지식을 빠르게 배워 기획하고, 실행과 목표 달성에 필요한 파트너를 파악하여 적극적으로 커뮤니케이션하면 성과를 달성할 수 있다는 것을 배웠습니다. 질문Q2. 지원하신 분야(직무)를 선택한 이유와 해당 분야(직무)에 필요한 역량을 갖추기 위해 어떠한 노력을 해왔는지 구체적으로 서술해주세요. 〃준비된 마케터〃 비즈니스 프로세스에 대한 이해와 멀티플레이어의 역량을 제가 갖추고 있어, 이 강점을 바탕으로 한샘에서 성과를 낼 수 있다고 생각하여 마케팅 직무를 선택했습니다. 〃비즈니스 프로세스〃 사업 부문과 추구하는 방향이 맞도록 업무를 조율하며 전략을 수행하는 것이 중요하다고 생각합니다. 마케팅은 연구개발부터 생산, 영업까지의 전반적인 프로세스에 연계되어 있기 때문입니다. 제조 기반의 스타트업에서 여러 부서와 긴밀히 연계하며, 상품 기획부터 판매전략 구상까지 경험하며 얻은 이해를 적극적으로 활용하여 한샘의 부서 간 협업을 증진하겠습니다. 부서 간의 견해차가 있으면, 저의 산업/경쟁사 동향과 타겟층의 니즈 분석 역량을 활용하여 합의점을 찾아낼 것입니다. 〃멀티플레이어〃 스타트업에서 마케팅뿐만 아니라 동시에 영업과 프로젝트 매니저 역할을 했습니다. 이 과정에서 다양한 이해관계자와의 커뮤니케이션 스킬, 데이터 분석, 그리고 콘텐츠 기획 능력을 고루 길렀습니다. 실무 경험을 바탕으로, 고객과 시장에 대한 이해 기반의 실질적인 마케팅 전략을 세우는 사원이 되겠습니다. 질문Q3. 10년 후 본인이 만들고 싶은 한샘의 모습에 대해서 서술해주세요. 10년 후, 디지털 시대에 글로벌 홈 인테리어 리더로 한샘이 우뚝 서도록 만들고 싶습니다. 〃Digital 한샘〃 한샘을 오프라인 강점인 촘촘한 유통망에 더해 O2O 기반의 디지털 역량을 자체적으로 갖춘 기업으로 만들고 싶습니다. IoT와 AI 등 ICT 기술의 성장 및 전염병으로 인한 재택근무 확산 등의 변수로 스마트홈 시대로 진화하고 있습니다. 밀레니얼 세대로서 다변화하는 고객 니즈와 리빙 트렌드를 빠르게 캐치하여 콘텐츠/채널별 전략을 구상하겠습니다. 〃Global 한샘〃 동북아와 북미 시장을 넘어, 유럽과 성장하는 인도 시장까지 한샘이 공격적인 사업 확장을 하는데 기여하고 싶습니다. 이를 위해 글로벌 시장별 타겟층의 니즈를 파악하여 맞춤형 전략을 세우겠습니다. 스타트업에서 북미권 대상으로 SNS 콘텐츠 제작 및 광고 운영 업무를 했습니다. 처음에는 업종 트렌드와 제품에 대한 이해 부족으로 차별화된 전략을 세우기 쉽지 않았습니다. 한편 SNS, 홈페이지, 리뷰 분석으로 매일 산업/경쟁사 동향을 파악함으로써 레퍼런스를 확보했고, 북미권 업체에 프로모션을 진행하여 몇 달간 KPI를 초과 달성했습니다. 이러한 역량을 발전시켜 나가겠습니다.\n"
     ]
    },
    {
     "name": "stdin",
     "output_type": "stream",
     "text": [
      "Correct ?  n\n"
     ]
    },
    {
     "name": "stdout",
     "output_type": "stream",
     "text": [
      "\n"
     ]
    },
    {
     "name": "stdin",
     "output_type": "stream",
     "text": [
      "ENTER Question :  자신이 도전해 본 경험 중 한 가지에 대해서, 그것을 달성하기 위해 세웠던 목표와 노력, 과정, 결과를 기술해주세요. (과정과 결과를 확인할 수 있는 구체적 근거를 제시 바랍니다.)\n",
      "ENTER Answer :  스타트업 재직 시, 목표를 주도적으로 세우고 없는 힘을 다해 노력해서 성과를 낸 경험이 있습니다. 당시 조직에서 설정한 목표는 `자사 제품의 효과성 검증`이었으나 저는 이번 프로젝트를 성공시키는 것을 넘어 전국으로 확장 가능한 프로젝트의 기반을 만들어야겠다고 다짐한 것입니다. 입사 후 1년간의 업무 역량과 열정을 대표님께 인정받아, 신입으로서 프로젝트의 메인 담당자가 될 수 있었습니다. 한편, 교육 분야 지식이 부족하고 교육 프로젝트 경험이 없는 제가 4개월간 교육 프로젝트를 총괄하는 일은 쉽지 않았습니다. 기존 교육 모델과는 다른 새로운 가치와 변화를 만드는 기획을 하고, 재단, 전문가, 학부모 등 여러 이해관계자 간 니즈를 조율하며 운영해야 했기 때문입니다. 하지만 조직의 성장이 제 성장이고, 도전할 때 가장 많이 배울 수 있다는 긍정적인 마인드와 의지를 가지고 아래와 같이 노력했습니다. 우선 학습 커리큘럼과 평가 체계를 기획하기 위해, 여러 자료와 매체로 교육을 공부했습니다. 빠른 학습력으로 보조 교과서를 1달 만에 습득하고 모든 논문과 기사를 탐독하였습니다. 모르는 부분은 전문가 선생님께 여쭤보며 이해를 더했습니다. 이를 통해 프로젝트의 성공을 위해서는 참가자들의 꾸준한 학습과 체계적인 관리 시스템이 중요하다는 것을 발견하여, 매주 학습지 점검과 전문가 멘토링을 기획할 수 있었습니다. 또한, 조직의 대학생 네트워크와 학부모로부터 받은 점자교육의 어려움에 대한 피드백을 고려하여, 대학생의 가정방문 교육이라는 차별화된 교육 모델을 제안했습니다. 이러한 기획을 실행하는 데 필요한, 교육 전문가들이 있는 전라도와 강원도에 직접 찾아가 자문 협조를 요청하여, 한정된 예산으로도 협업의 기회를 얻을 수 있었습니다. 조직의 미션과 그간 사업을 통해 얻은 구체적인 고객 피드백을 설명하여 조직의 사업에 대한 의지를 피력하고, 조직의 이익을 넘어 프로젝트가 교육에 가져올 긍정적인 변화를 설득력 있게 전달했습니다. 새로운 제품에 부정적인 편이어서 어려움이었지만, 소리만으로도 설득될 수 있도록 사전에 키워드를 써서 미팅에서 전달할 내용을 여러 번 연습한 덕분이었습니다. 이번 프로젝트를 추후 전국적으로 확대하기 위해서는 파트너였던 OOOO재단의 지속적인 지지를 확보하는 게 가장 중요했습니다. 대기업들과의 네트워크와 커뮤니케이션 역량을 가지고 있기 때문입니다. 따라서 시각장애아동의 교육 문제와 자사 제품의 필요성에 공감할 수 있도록, 가시적인 그래프와 실제 학습 영상 자료 등을 활용해 주기적으로 보고서와 구두를 통해 프로젝트 경과를 공유했습니다. 그 결과, 참여자 70%가 기초 언어를 익히는 기대 이상의 성과를 얻어 제품의 효과성을 확실히 입증할 수 있었습니다. 이러한 경험을 통해 도전적으로 높은 목표를 세운 후, 관련 지식을 빠르게 배워 기획하고, 실행과 목표 달성에 필요한 파트너를 파악하여 적극적으로 커뮤니케이션하면 성과를 달성할 수 있다는 것을 배웠습니다.\n",
      "ENTER Question :  지원하신 분야(직무)를 선택한 이유와 해당 분야(직무)에 필요한 역량을 갖추기 위해 어떠한 노력을 해왔는지 구체적으로 서술해주세요.\n",
      "ENTER Answer :  준비된 마케터〃 비즈니스 프로세스에 대한 이해와 멀티플레이어의 역량을 제가 갖추고 있어, 이 강점을 바탕으로 한샘에서 성과를 낼 수 있다고 생각하여 마케팅 직무를 선택했습니다. 〃비즈니스 프로세스〃 사업 부문과 추구하는 방향이 맞도록 업무를 조율하며 전략을 수행하는 것이 중요하다고 생각합니다. 마케팅은 연구개발부터 생산, 영업까지의 전반적인 프로세스에 연계되어 있기 때문입니다. 제조 기반의 스타트업에서 여러 부서와 긴밀히 연계하며, 상품 기획부터 판매전략 구상까지 경험하며 얻은 이해를 적극적으로 활용하여 한샘의 부서 간 협업을 증진하겠습니다. 부서 간의 견해차가 있으면, 저의 산업/경쟁사 동향과 타겟층의 니즈 분석 역량을 활용하여 합의점을 찾아낼 것입니다. 〃멀티플레이어〃 스타트업에서 마케팅뿐만 아니라 동시에 영업과 프로젝트 매니저 역할을 했습니다. 이 과정에서 다양한 이해관계자와의 커뮤니케이션 스킬, 데이터 분석, 그리고 콘텐츠 기획 능력을 고루 길렀습니다. 실무 경험을 바탕으로, 고객과 시장에 대한 이해 기반의 실질적인 마케팅 전략을 세우는 사원이 되겠습니다. \n",
      "ENTER Question :  10년 후 본인이 만들고 싶은 한샘의 모습에 대해서 서술해주세요.\n",
      "ENTER Answer :  10년 후, 디지털 시대에 글로벌 홈 인테리어 리더로 한샘이 우뚝 서도록 만들고 싶습니다. 〃Digital 한샘〃 한샘을 오프라인 강점인 촘촘한 유통망에 더해 O2O 기반의 디지털 역량을 자체적으로 갖춘 기업으로 만들고 싶습니다. IoT와 AI 등 ICT 기술의 성장 및 전염병으로 인한 재택근무 확산 등의 변수로 스마트홈 시대로 진화하고 있습니다. 밀레니얼 세대로서 다변화하는 고객 니즈와 리빙 트렌드를 빠르게 캐치하여 콘텐츠/채널별 전략을 구상하겠습니다. 〃Global 한샘〃 동북아와 북미 시장을 넘어, 유럽과 성장하는 인도 시장까지 한샘이 공격적인 사업 확장을 하는데 기여하고 싶습니다. 이를 위해 글로벌 시장별 타겟층의 니즈를 파악하여 맞춤형 전략을 세우겠습니다. 스타트업에서 북미권 대상으로 SNS 콘텐츠 제작 및 광고 운영 업무를 했습니다. 처음에는 업종 트렌드와 제품에 대한 이해 부족으로 차별화된 전략을 세우기 쉽지 않았습니다. 한편 SNS, 홈페이지, 리뷰 분석으로 매일 산업/경쟁사 동향을 파악함으로써 레퍼런스를 확보했고, 북미권 업체에 프로모션을 진행하여 몇 달간 KPI를 초과 달성했습니다. 이러한 역량을 발전시켜 나가겠습니다.\n",
      "ENTER Question :  n\n"
     ]
    },
    {
     "name": "stdout",
     "output_type": "stream",
     "text": [
      "\n",
      "\n",
      "Q :  지원분야와 관련된 본인의 업무 역량을 중심으로 기술하시오.   =>   문예체 협력교사 코디네이터는 제가 하고자 하는 일이며, 더불어 잘할 자신이 있는 일이기에 지원하게 되었습니다. 과거 문화예술에 관한 관심은 전공 선택으로 이어졌고, 전공 공부를 하면서 이는 문화예술 분야에서 일하고 싶다는 꿈이 되었습니다. 이후에 꿈이 확고해지면서 관련 분야의 이론을 공부하고 현장에서 실무경험을 쌓으려고 노력하였습니다. 이제 구로문화재단에서 코디네이터로 근무하며 문화예술 역량을 키워 꿈에 한 발짝 더 다가가고 싶습니다. 특히, 구로문화재단은 수준 높은 문화사업을 추진하며 지역의 문화발전에 크게 기여하고 있는 기관인 만큼, 이곳에서 근무하는 것은 최고의 경험이자 배움이라고 생각합니다. 그리고 저는 크게 2가지 직무 역량을 제시하여 문예체 협력교사 코디네이터로서 적합한 지원자임을 보여드리고 싶습니다. 첫째, 문화예술에 대한 이해 세계문화예술경영학을 이중전공으로 선택하여 공연, 영화, 전시, 음악 등 다양한 분야의 문화예술을 공부하였고 그에 따라 관련 분야에 대한 이해가 높습니다. 또한, 세계문화예술경영학은 이론과 실무경험을 두루 갖춘 문화예술 분야의 전문 경영인을 양성하는 전공인 만큼, 국내외 문화예술 기관과 연계한 실습 또는 체험학습을 통해 이론뿐만 아니라 다양한 실무경험을 쌓기도 하였습니다. 전공 이외에도 개인적으로 교내 라틴음악동아리 ‘노비오스’와 중앙 국악동아리 ‘얼소리’에서 활동하면서 무대를 기획, 진행, 공연하며 문화 예술을 경험하였습니다. 더불어 세종문화회관 서울시소년소녀합창단에서 홍보·마케팅 인턴으로, 구립망원청소년문화센터에서 코디네이터로 근무하며 청소년 합창 뮤지컬 ＜오늘 하루 맑음＞과 청소년 뮤지컬 ＜나의 작은 꿈＞이라는 하나의 공연을 완성한 경험이 있습니다. 이러한 문화예술에 대한 다방면의 지식, 경험과 전반적인 이해는 문예체 협력교사 코디네이터의 중요한 자질이자 장점이라고 생각합니다. 둘째, 업무지원 경험 업무지원의 기본은 컴퓨터 능력이라고 생각합니다. 그렇기에 저는 어렸을 때부터 기본적인 파워포인트, 한글, 엑셀 자격증을 취득하고 관련 공부를 했습니다. 또한, 대내외 동아리에서 발표 ppt를 다수 제작하였고 홍보·마케팅 인턴으로 근무하면서 카드뉴스와 홍보영상을 제작하였으며, 코디네이터로 근무하면서 엑셀을 활용해 의상 사이즈표와 브레이크다운시트를 작성하는 등의 업무지원을 할 만큼 컴퓨터 작업을 수행하는 데에 있어서 전혀 문제가 없습니다. 그리고 현재도 컴퓨터활용능력시험과 워드프로세서를 준비하면서 꾸준히 컴퓨터를 배우고 있습니다. 지금까지 문화예술과 관련된 다양한 경험을 하려고 하였습니다. 하지만 여전히 부족한 부분이 많을지 모릅니다. 그렇기 때문에 코디네이터로 선정이 된 이후에 자만하지 않고 부족한 점을 인정하며 끊임없이 배우려는 태도로 업무에 임할 것을 약속드립니다. 그리고 개인적으로 해당 직무와 산업에 관련된 공부를 꾸준히 하며 다방면으로 노력하겠습니다. 또한, 저는 일을 좋아하고 즐길 줄 아는 사람이 최고의 결과를 만든다고 생각합니다. 이러한 점에서 저는 문화예술을 진정으로 즐길 줄 알며 확고한 꿈과 목표가 있기에 누구보다도 열정적으로 일을 배우고 그에 따른 성과를 낼 자신이 있습니다. 코디네이터로 근무하며 업무를 효과적으로 지원하여 구로문화재단과 함께 성장하고 싶습니다.\n",
      "Q :  직무활동, 동아리/동호회, 팀 프로젝트, 연구회, 재능기부 등, 주요 직무경험과 또는 지원직무 관련 경력사항을 서술하여 주십시오.   =>   세종문화회관 서울시소년소녀합창단에서 홍보·마케팅 인턴으로 근무하였습니다. 당시, 청소년 합창 뮤지컬 ＜오늘 하루 맑음＞의 홍보·마케팅을 담당하여 보도자료 작성, 제작진 인터뷰, 프로그램북 제작, SNS(페이스북, 블로그) 관리 그리고 공연현장 지원 등의 업무를 맡았습니다. 특히, ‘아이들 합창단’이라는 특징을 살리고자 기존의 딱딱한 인터뷰 형식에서 벗어나 아이들의 끼와 재능을 보여줄 수 있는 영상을 제작하여 블로그에 게재하였습니다. 실제로 해당 영상들은 블로그 조회 수 1~5위를 차지할 정도로 인기가 높았고, 이는 작년 대비 유료석의 비율이 10%가량 증가하는 결과로까지 이어졌습니다. 구립망원청소년문화센터에서 ‘우리동네 프로젝트’의 코디네이터로 근무한 경험이 있습니다. ‘우리동네 프로젝트’는 세종문화회관에서 각 지역구와 연계하여 뮤지컬단과 오케스트라단을 운영하며 아이들에게 문화예술의 기회를 제공하고자 만들어졌습니다. 저는 여러 지역구 가운데 마포구 동부에서 코디네이터로 근무하며 강사, 단원, 학부모 관리, 연습계획 수립, 청소년 뮤지컬 ＜나의 작은 꿈＞ 공연현장 지원을 담당하였습니다. 더불어, 의상 사이즈 표와 브레이크다운시트를 작성하는 등 각종 업무를 지원하였습니다. 약 6개월간 3명의 강사와 20명의 단원을 관리하며 연습과 공연이 원활히 이루어질 수 있도록 지원을 하였고, 결과적으로 해당 공연을 무사히 마무리할 수 있었습니다. 교내 라틴음악동아리 ‘노비오스’에서 부회장을 맡아 활동하였습니다. 부회장으로 다양한 업무를 담당하였는데, 부원이 10명도 채 되지 않았기 때문에 특히 동아리 홍보에 집중하였습니다. 이전에는 페이스북 계정밖에 없었지만, 그 수요가 감소함에 따라 인스타그램 계정을 새로 만들어 매주 동아리 소식을 전하였습니다. 또한, 보다 나은 홍보물을 제작하기 위해 개인적으로 영상촬영 및 편집을 배웠고, 이를 바탕으로 홍보영상을 제작하여 게재하기도 하였습니다. 이러한 노력을 통해 현재는 20명 이상의 부원이 활발히 활동하고 있으며, 2017년에는 예술제에서 1등을 차지하며 최우수 동아리로 선정되기도 하였습니다. 더불어, 노비오스 활동을 하면서 문화예술에 흥미가 생겨 이후에 중앙 국악동아리 ‘얼소리’에서 활동하는 등 문화예술과 관련된 활동을 꾸준히 하고 있습니다.\n"
     ]
    },
    {
     "name": "stdin",
     "output_type": "stream",
     "text": [
      "Correct ?  y\n"
     ]
    },
    {
     "name": "stdout",
     "output_type": "stream",
     "text": [
      "\n",
      "\n",
      "Q :  자기소개   =>   저는 문화예술 마케터라는 목표를 가지고 꾸준히 관련 공부를 하고 경험을 쌓았습니다. 우선, 문화예술은 세계문화예술경영학을 이중 전공으로 선택함으로써 공연뿐만 아니라 영화, 전시, 음악 등 다양한 분야의 문화예술에 대한 이해를 높이고자 하였습니다. 또한, 라틴음악동아리와 국악동아리에서 활동하면서 무대를 기획하고 실연자로서 공연하기도 하였으며, 자막 오퍼레이터, 코디네이터 등 스태프로서 무대를 만들기도 하였습니다. 이러한 문화예술과 관련된 다방면의 지식과 경험은 문화예술 매개자의 기본적인 자질이자 장점이라고 생각합니다. 이외에도 동아리와 인턴을 통해 문화예술뿐만 아니라 마케팅 공부를 꾸준히 해왔으며, 최근에는 구글 애널리틱스 자격증(GAIQ)을 취득하며 지금도 관련 공부를 하고 있습니다. 다만, 제가 대학교를 이제 막 마쳤기 때문에 다른 지원자와 비교해 사회 경험과 실무 능력이 부족할 수 있습니다. 하지만 워낙 사람 만나는 것을 좋아하고 친화력이 뛰어나기 때문에 사회 경험이 부족한 점은 충분히 보완할 수 있습니다. 그리고 나이가 어리기 때문에 일을 빠르게 습득하며, 남들보다 열정적으로 업무를 수행할 자신이 있습니다. 문화예술 매개자로 세종문화회관과 함께 하게 된다면, 단점은 보완하고 장점은 최대로 활용해서 모두가 만족할 수 있는 공연을 만드는 것에 기여하겠습니다. Q. 경력소개 세종문화회관 소년소녀합창단에서 인턴으로 근무하며 청소년 뮤지컬 ＜오늘 하루 맑음＞의 홍보와 마케팅을 담당하였고, 보도자료 작성, 제작진 인터뷰, 프로그램 북 제작 등의 업무를 맡았습니다. 특히 저는 '아이들 합창단'이라는 특성을 잘 보여주는 홍보를 하고자 하였습니다. 그래서 기존의 딱딱한 홍보 방식에서 벗어나 피아노 연주, 성대모사, 모델 워킹 등 아이들의 끼와 재능을 보여줄 수 있는 영상을 블로그에 게재하였고, 실제로 블로그의 조회 수 1~5위가 해당 영상들이었을 만큼 인기가 있었습니다. 또한, 세종 우리동네프로젝트 마포 동부 지역 코디네이터로 근무하며 뮤지컬 ＜나의 작은 꿈＞ 연습과 공연에 관한 전반적인 업무를 담당하였습니다. 강사 및 단원 관리를 기본으로 하며 연습 일정을 계획하고 여름 캠프와 통합 공연을 지원하였습니다. 또한, 대학교 라틴음악동아리와 국악동아리에서 각각 부회장과 피리장을 맡아 활동하였고, 공연을 기획하고 실연자로 무대에 오르면서 공연을 폭넓게 경험하고자 하였습니다. Q. 지원동기 세종문화회관 문화예술 매개자는 앞으로 제가 하고자 하는 일이기도 하며, 더불어 잘할 자신이 있는 일이기 때문에 지원하였습니다. 과거 문화예술에 대한 관심은 대학 전공 선택으로 이어졌고, 전공 공부를 하면서 이는 문화예술 마케터라는 꿈이 되었습니다. 이후에 꿈이 확고해지면서 관련 이론을 공부하고 현장에서 경험을 쌓으려고 노력했습니다. 특히 세종문화회관 소년소녀합창단에서 홍보·마케팅 인턴으로, 세종 우리동네 프로젝트에서 코디네이터로 근무하며 하나의 공연을 완성했던 일은 저에게 최고의 경험이자 배움이었습니다. 하나의 작품이 기획·제작·홍보를 거쳐 무대에 오르기까지의 과정을 현직자 분들과 함께 할 수 있었으며, 또한 일 에 대한 성취감도 얻을 수 있었기 때문입니다. 그리고 이러한 경험을 바탕으로 문화예술 매개자로서 다시 한번 멋진 공연을 만들어 보고 싶습니다. Q. 전망 및 포부 일을 좋아하고 즐길 줄 아는 사람이 최고의 결과를 만든다고 생각합니다. 저는 문화예술을 좋아하는 사람으로 시작해서 이 분야의 일을 잘 수행하기 위해 이론과 실무 경험을 꾸준히 쌓아왔습니다. 하지만 여전히 남들보다 사회 경험 혹은 업무 능력이 부족할지 모릅니다. 그렇지만 누구보다 이 일을 좋아하고 즐길 줄 아는 사람으로서 누구보다도 열정적으로 업무를 수행하고 만족할 만한 결과물을 만들 자신이 있습니다. 또한, 매개자로 선정된 이후에도 개인적으로 문화와 마케팅에 대해 공부하고 경험하며 다방면으로 노력하도록 하겠습니다. 이번 기회를 통해 문화예술 매개자로서 문화예술의 중심 기관인 세종문화회관과 함께 성장하고 싶습니다.\n"
     ]
    },
    {
     "name": "stdin",
     "output_type": "stream",
     "text": [
      "Correct ?  n\n"
     ]
    },
    {
     "name": "stdout",
     "output_type": "stream",
     "text": [
      "\n"
     ]
    },
    {
     "name": "stdin",
     "output_type": "stream",
     "text": [
      "ENTER Question :  자기소개\n",
      "ENTER Answer :  저는 문화예술 마케터라는 목표를 가지고 꾸준히 관련 공부를 하고 경험을 쌓았습니다. 우선, 문화예술은 세계문화예술경영학을 이중 전공으로 선택함으로써 공연뿐만 아니라 영화, 전시, 음악 등 다양한 분야의 문화예술에 대한 이해를 높이고자 하였습니다. 또한, 라틴음악동아리와 국악동아리에서 활동하면서 무대를 기획하고 실연자로서 공연하기도 하였으며, 자막 오퍼레이터, 코디네이터 등 스태프로서 무대를 만들기도 하였습니다. 이러한 문화예술과 관련된 다방면의 지식과 경험은 문화예술 매개자의 기본적인 자질이자 장점이라고 생각합니다. 이외에도 동아리와 인턴을 통해 문화예술뿐만 아니라 마케팅 공부를 꾸준히 해왔으며, 최근에는 구글 애널리틱스 자격증(GAIQ)을 취득하며 지금도 관련 공부를 하고 있습니다. 다만, 제가 대학교를 이제 막 마쳤기 때문에 다른 지원자와 비교해 사회 경험과 실무 능력이 부족할 수 있습니다. 하지만 워낙 사람 만나는 것을 좋아하고 친화력이 뛰어나기 때문에 사회 경험이 부족한 점은 충분히 보완할 수 있습니다. 그리고 나이가 어리기 때문에 일을 빠르게 습득하며, 남들보다 열정적으로 업무를 수행할 자신이 있습니다. 문화예술 매개자로 세종문화회관과 함께 하게 된다면, 단점은 보완하고 장점은 최대로 활용해서 모두가 만족할 수 있는 공연을 만드는 것에 기여하겠습니다.\n",
      "ENTER Question :  경력사항\n",
      "ENTER Answer :  세종문화회관 소년소녀합창단에서 인턴으로 근무하며 청소년 뮤지컬 ＜오늘 하루 맑음＞의 홍보와 마케팅을 담당하였고, 보도자료 작성, 제작진 인터뷰, 프로그램 북 제작 등의 업무를 맡았습니다. 특히 저는 '아이들 합창단'이라는 특성을 잘 보여주는 홍보를 하고자 하였습니다. 그래서 기존의 딱딱한 홍보 방식에서 벗어나 피아노 연주, 성대모사, 모델 워킹 등 아이들의 끼와 재능을 보여줄 수 있는 영상을 블로그에 게재하였고, 실제로 블로그의 조회 수 1~5위가 해당 영상들이었을 만큼 인기가 있었습니다. 또한, 세종 우리동네프로젝트 마포 동부 지역 코디네이터로 근무하며 뮤지컬 ＜나의 작은 꿈＞ 연습과 공연에 관한 전반적인 업무를 담당하였습니다. 강사 및 단원 관리를 기본으로 하며 연습 일정을 계획하고 여름 캠프와 통합 공연을 지원하였습니다. 또한, 대학교 라틴음악동아리와 국악동아리에서 각각 부회장과 피리장을 맡아 활동하였고, 공연을 기획하고 실연자로 무대에 오르면서 공연을 폭넓게 경험하고자 하였습니다.\n",
      "ENTER Question :  지원동기에 대해 기술해주세요\n",
      "ENTER Answer :  세종문화회관 문화예술 매개자는 앞으로 제가 하고자 하는 일이기도 하며, 더불어 잘할 자신이 있는 일이기 때문에 지원하였습니다. 과거 문화예술에 대한 관심은 대학 전공 선택으로 이어졌고, 전공 공부를 하면서 이는 문화예술 마케터라는 꿈이 되었습니다. 이후에 꿈이 확고해지면서 관련 이론을 공부하고 현장에서 경험을 쌓으려고 노력했습니다. 특히 세종문화회관 소년소녀합창단에서 홍보·마케팅 인턴으로, 세종 우리동네 프로젝트에서 코디네이터로 근무하며 하나의 공연을 완성했던 일은 저에게 최고의 경험이자 배움이었습니다. 하나의 작품이 기획·제작·홍보를 거쳐 무대에 오르기까지의 과정을 현직자 분들과 함께 할 수 있었으며, 또한 일 에 대한 성취감도 얻을 수 있었기 때문입니다. 그리고 이러한 경험을 바탕으로 문화예술 매개자로서 다시 한번 멋진 공연을 만들어 보고 싶습니다.\n",
      "ENTER Question :  입사 후 포부에 대해 기술해주세요.\n",
      "ENTER Answer :  일을 좋아하고 즐길 줄 아는 사람이 최고의 결과를 만든다고 생각합니다. 저는 문화예술을 좋아하는 사람으로 시작해서 이 분야의 일을 잘 수행하기 위해 이론과 실무 경험을 꾸준히 쌓아왔습니다. 하지만 여전히 남들보다 사회 경험 혹은 업무 능력이 부족할지 모릅니다. 그렇지만 누구보다 이 일을 좋아하고 즐길 줄 아는 사람으로서 누구보다도 열정적으로 업무를 수행하고 만족할 만한 결과물을 만들 자신이 있습니다. 또한, 매개자로 선정된 이후에도 개인적으로 문화와 마케팅에 대해 공부하고 경험하며 다방면으로 노력하도록 하겠습니다. 이번 기회를 통해 문화예술 매개자로서 문화예술의 중심 기관인 세종문화회관과 함께 성장하고 싶습니다.\n",
      "ENTER Question :  n\n"
     ]
    },
    {
     "name": "stdout",
     "output_type": "stream",
     "text": [
      "\n",
      "\n",
      "Q :  성장과정을 서술하시오.   =>   1. 협업능력 영업과 마케팅을 담당하면서 온오프라인으로 고객과 접점을 가장 많이 가졌기에, 현재 제품이 시장에 적합한지, 앞으로 어떤 개선 사항이 필요한지 소통하여 조직의 협업을 이끌었습니다. 고객이 제품에 보인 반응과 실제 활용 사례를 작성하여 메일 혹은 구두로 생생히 전달하였고, 가장 많이 사용하는 기능과 그 가치를 전달하여 생산팀, 품질팀, 개발팀이 협업하여 그 기능에 대한 안정화 작업에 우선순위를 둘 수 있도록 이끌었습니다. 2. 기획능력 주요 고객이 교육기관이기에 학기 시작 전이 제품 홍보에 적기라고 판단하였고, 연초에 공식 시연회를 기획하였습니다. 회사와 제품 모두 알려지지 않은 상황이어서, 관련 분야 제품의 시연회가 통상적으로 열리는 장소에서 제품의 기능을 골고루 고객들이 경험할 수 있도록 부스를 구성하였습니다. 그 결과 수용 인원을 초과하는 50명이 참여하였고, 잠재 B2G/B2C 고객의 니즈를 상세하게 파악하였습니다. 이를 바탕으로 영업 기회를 창출하고 고객별 소구되는 마케팅 포인트를 빠르게 파악할 수 있었습니다.\n",
      "Q :  대학생활을 기술하시오.   =>   대학 시절, 우리 사회와 그 안에 살아가는 사람들의 행동 및 의사결정 프로세스에 관심이 많아 심리, 금융, 법, 경영적 측면에서 어떠한 상호작용이 일어나는지를 각각 현대사회와심리학, 인적자원관리 과목을 통해 배웠습니다. 이는 마케팅 업무에 있어 여러 고객의 니즈를 다양한 측면에서 고려하여 파악하는데 도움이 될 것입니다. 최근에는 마케팅 이론, 실무에 적용 가능한 디지털 마케팅 및 데이터 분석 관련 학습을 하였고 1년간 IT 제품 기반 마케팅 실무를 통해 역량을 꾸준히 발전시키고 있습니다. 그 외 디자인씽킹, 사회혁신 사례를 학습하여 다양한 산업과 비즈니스에 대해 빠르게 학습해나가고 있습니다. 더불어 해외 연수를 통해 글로벌 커뮤니케이션 및 협업 능력을 길렀습니다.\n",
      "Q :  성격의 장점   =>   제 성격의 장점은 친화력입니다. 처음 본 사람들에게 쉽게 다가가서 대화를 나누며, 관계를 잘 맺어서 여러 기회를 얻곤 했습니다. 여러 프로젝트를 하면서 핵심 고객인 이주민, 중학생, 장애인, 노숙자 등에게 밝게 웃으며 다가가 가벼운 질문부터 깊은 대화를 통해 대상을 공감하고 그들의 니즈를 파악하였습니다. 더불어 OOO 대학교 교환학생 시절 OOOOO 활동을 할 때, 여러 팀 친구들과 관계를 잘 맺은 덕분에 우리나라를 오스트리아 청소년들에게 소개할 수 있는 기회를 얻었습니다. 이러한 성격은 고객의 특징을 잘 파악하고 다양한 사업 기회를 연결시키는 데 역할을 할 것입니다.\n"
     ]
    },
    {
     "name": "stdin",
     "output_type": "stream",
     "text": [
      "Correct ?  y\n"
     ]
    },
    {
     "name": "stdout",
     "output_type": "stream",
     "text": [
      "\n",
      "\n",
      "Q :  해당 직무에 지원한 이유는 무엇입니까?   =>   〃호랑이 굴에 들어가도 ‘아이디어’만 있으면 산다〃 2개월간 영업사원으로서 전국 전시회 중심의 영업을 했을 때, 매출 4,200만 원을 올렸습니다. 사전 정보와 영업 경험이 부족했던 저는 ‘혁신성’을 무기로 아래의 3가지 전략을 짜고 실행에 옮겼습니다. 우선, 지역별 전시회마다 집중도를 안배하였습니다. 협력사에 전년도 전시회 별 참여자 수와 특징을 물어보고, 현장에서 타사 영업 사원에게 다가가 정보를 틈틈이 물어봤습니다. 그 결과 전시 장소별 중요도와 근방의 추가 영업장소를 전략적으로 계획했고, 여러 비공식 전시회가 열린다는 새로운 정보도 획득했습니다. 둘째, 부스 방문자 수를 증대할 방법을 고안했습니다. 일찍 전시회장에 도착하여 운영 측에게 요청해서 인지도가 높은 업체 옆자리로 부스를 재배치했습니다. 신생 업체임에도 많은 사람의 부스 참여를 자연스럽게 유도할 수 있었습니다. 셋째, 고객 맞춤형 제품 설명 방식을 현장에서 개발했습니다. 방문자를 관찰하여 그 니즈를 생각한 후, 고객마다 설명방식을 차별화하고 반응을 살피며 끊임없이 또 바꿔봤습니다. 그 결과 인천 전시회에서 대리, 팀장, 관장님이 연달아 부스에 찾아왔고 그 자리에서 구매 성사를 시킬 수 있었습니다. 이를 통해 정보를 수집하고 전략을 다변화하면 성과를 낼 수 있다고 배웠습니다. 후지제록스 입사 후에도 이렇게 혁신적인 전략을 시도해나가는 영업 사원이 되겠습니다.\n",
      "Q :  본인의 가장 큰 장점과 단점은 무엇입니까?   =>   저의 장점은 도전정 입니다. 전국연합OO동아리의 학술부 리더를 할 때, 비인기 부서로 존폐 위기에 놓인 학술부를 이러한 도전정신을 발휘하여 역대 최대 인원이 참여한 세미나를 이끌었을 뿐 아니라 거뜬히 살아남도록 한 성과를 만들었습니다. 학술부의 활동인 논문 작성과 세미나 개최가 다른 외부 활동을 하는 부서에 비해 확연히 인기가 없어, 다음 시즌부터 학술부 폐지를 검토하고 있다고 들었습니다. 평소 안 되는 상황을 적극적으로 타개하는데 희열을 느끼는 저는 리더를 자원했고 학술부의 만족도를 높여서 이미지를 개선하기 위해 고민했습니다. 세미나를 들었을 때 네트워킹을 했던 OO부처 전문가분과의 멘토링 자리를 마련했습니다. 멘토링은 학술부뿐만 아니라 환경 분야 진로에 관심이 있는 동아리원 여럿에게도 인기가 좋아 학술부의 존재를 톡톡히 알리는 계기가 되었습니다. 기본 활동 외에 추가 활동과 홍보를 하는 과업이 추가되었지만, 도전정신으로 임했더니 50명이 참여하는 세미나를 높은 만족도로 이끌 수 있었습니다. 반면, 저의 단점은 성급함입니다. 특히 의사결정을 내릴 때 도전하고 싶은 의욕이 생기면 빠르게 결정을 할 때가 있습니다. 이를 보완하기 위해 결정을 내리기 전에 결정이 가져올 긍정적, 부정적 결과를 최소한 2개씩이라도 생각하거나 적는 습관을 들이고 있습니다. 이는 긍정적인 생각으로만 치우치지 않고, 부정적 결과도 같이 고려해서 위험을 미리 대비하는 데도 큰 도움이 되고 있습니다.\n",
      "Q :  다른 입장이나 의견을 가진 사람들 사이에서 발생한 갈등을 극복하고 성과를 창출한 경험에 대하여 상세하게 작성 부탁 드립니다.   =>   〃win-win 할 수 있는 전략 세우기〃 외부 교육에서 OOOOO 프로젝트를 했을 때, 갈등을 해결하는 데 상대방 의견에 공감해주되 win-win 할 수 있는 전략을 제시하는 것이 중요함을 배웠습니다. ‘청소년의 스마트폰 중독 해결’을 주제로 합의 후, 여러 해결방안을 가볍게 실험해보는 단계였는데 발표까지 2주 남은 시점에서 주제 변경에 대한 갈등이 생겼습니다. 절반의 팀원이 주제에 몰입이 되지 않으니 이제라도 청년 관련 주제로 변경하자고 주장했습니다. 우선 반대 의견을 낸 팀원들끼리 주장을 정리해서 전체에게 이야기할 수 있도록 시간을 주고 듣는 시간을 가졌습니다. 또한 저는 그간의 회의록을 바탕으로 지금 주제를 합의한 프로세스를 복기해주었습니다. 무엇보다 이번 프로젝트의 목적인 ‘디자인씽킹 프로세스 전체 적용해보기’와 발표까지 남은 준비 시간을 강조했습니다. 이렇게 공동의 목표 달성을 위해 각자에게 맞는 일에 에너지를 집중한 결과, 대학 사회혁신센터에서 협력을 제안할 정도로 의미 있는 솔루션을 도출하는 팀의 성과를 낼 수 있었습니다\n"
     ]
    },
    {
     "name": "stdin",
     "output_type": "stream",
     "text": [
      "Correct ?  y\n"
     ]
    },
    {
     "name": "stdout",
     "output_type": "stream",
     "text": [
      "\n",
      "\n",
      "Q :  혼자 하기 어려운 일에서 다양한 자원 활용, 타인의 협력을 최대한으로 이끌어 내며, Teamwork를 발휘하여 공동의 목표 달성에 기여한 경험에 대해 서술해 주십시오. (관련된 사람들의 관계(예. 친구, 직장 동료) 및 역할/ 혼자 하기 어렵다고 판단한 이유/ 목표 설정 과정/ 자원(예. 사람, 자료 등) 활용 계획 및 행동/ 구성원들의 참여도 및 의견 차이/ 그에 대한 대응 및 협조를 이끌어 내기 위한 구체적 행동/ 목표 달성 정도 및 본인의 기여도/ 경험의 진실성을 증명할 수 있는 근거가 잘 드러나도록    =>   [시간의 한계를 선배와의 협력으로 극복하다] 저는 그래핀 합성과 더불어 태양광과 전기화학적 에너지를 이용한 수전해용 촉매 물질 합성과 그 물질을 이용한 전극 제조 및 성능 분석을 하는 연구를 했습니다. 이러한 연구를 기반으로 프로젝트에 참여했습니다. 비스무스 바나데이트 (BiVO4)라는 새로운 물질을 이용하는 프로젝트였기 때문에 물성에 대한 조사부터 목표 달성까지 모든 부분을 기초부터 진행하여야 했습니다. 저희 연구실에서 선배 A, B 두 명과 저를 포함 세명이 팀을 이루어 프로젝트를 진행했는데 선행 연구에 대해 거의 조사 되어있지 않아 먼저 선배 A와 제가 나누어서 찾았습니다. 조사된 자료를 바탕으로 팀이 모여 일을 나누어 제안서 작성은 선배 B, 추가 자료 조사는 선배 A, 제가 실험/측정/분석을 맡아 일을 나누어 진행했습니다.\n"
     ]
    },
    {
     "name": "stdin",
     "output_type": "stream",
     "text": [
      "Correct ?  y\n"
     ]
    },
    {
     "name": "stdout",
     "output_type": "stream",
     "text": [
      "\n",
      "\n",
      "Q :  학교나 조직 등에서 한정된 자원(인적, 물적, 시간)으로 어려웠던 과제를 처리했던 경험 및 결과를 구체적으로 기술하여 주십시오.   =>   \"예측력을 통한 돌발상황 대비\" 부산국제영화제 총무팀에서 단 3명으로 약1000명의 자원봉사자와 스태프들의 식사를 담당했던 경험이 있습니다. 점심시간이 부서별로 비슷했기에 단시간 많은 업무량이 예상되었고, 이에 인원충원을 건의했지만 다른 봉사자들 역시 각자의 역할이 있어 충원이 힘들었습니다. 업무는 부서별로 도시락을 수령하러오면 단순히 분배해주는 역할이었지만 체계적인 분배시스템이 없는 상황이었습니다. 이런 식으로는 많은 인원을 가진 부서가 온다면 동시간대에 온 다른 부서로의 분배지연, 음식의 온도 하락의 문제를 예상할 수 있었습니다. 효율적인 분배업무를 위해 다른 2명의 팀원에게 분업을 제안하였고 그 내용은 다음과 같았습니다. 첫째, 타 부서에 연락하여 수령하러 올 시간대를 지정하였습니다. 둘째, 부서별 인원에 맞게 도시락을 분류하고 수령하러 온 부서에 도시락을 전달하였습니다. 그 결과 시간적 지연이나 재고적 오차없이 효율적으로 업무를 수행할 수 있었습니다.\n",
      "Q :  개인의 신념 및 중요하다고 생각되는 덕목으로 인해 조직에서 구성원들과의 갈등이 발생했을 때 이를 극복한 경험이 있다면 기술하여 주십시오.   =>   [신뢰, 서비스업의 가장 큰 무기] 스크린골프 아르바이트 당시 고객의 예약접수가 있음에도 무리하게 다른 예약을 받도록 지시를 내렸던 사장님과의 갈등 발생 경험이 있습니다. 예약이 모두 잡혀있는 상태에서 사장님으로부터 지금 한팀이 방문할 것이라는 연락을 받았습니다. 매장예약접수를 담당하고 있던 저에겐 날벼락이었습니다. 지금 손님이 들어가면 예약된 손님이 최소30분은 기다려야 할 것을 알았기 때문입니다. 이에 상황을 말씀드렸지만 예약된 손님은 단골이라 이해해 줄 것이라는 말씀을 들었고, 불만이 있었지만 지시대로 수행하였습니다. 하지만 결국 단골은 기다리지 않고 예약을 취소하며 일처리 방식에 불만을 표했습니다. 그 날 있었던 일들을 사장님께 말씀드리며 기존 고객들을 유지하는 것 또한 신규손님을 받는 것 만큼 중요한 것 같다는 저의 솔직한 생각을 말씀드렸고 사장님은 이에 동의하시며 단골손님에게 사과를 하셨고 그 후 무리한 예약접수를 삼가하며 고객과의 신뢰를 더욱 중요시하게 되었습니다.\n",
      "Q :  지원 분야와 관련하여 가장 필요한 역량이 무엇인지 제시하고, 그 역량을 키우기 위해 지원자 스스로 노력한 경험과 그 결과를 기술하여 주십시오.   =>   [고객을 향해 먼저내민 손] 소상공인 육성 및 전통시장 활성화 지원사업을 수행할 때 중요한 역량은 소통능력입니다. 직접적인 이해관계자의 어려움을 잘 이해하고 적절하게 대응하는 것이 중요한 역할이기 때문입니다. 저는 이런 소통능력을 한국철도공사 인턴을 수행하며 배양하였습니다. KT아현지사 화재사건으로 결제수단을 상실한 고객에게 도움을 드렸던 경험이 있습니다. 그분은 경로에 해당하시어 인터넷 전자상거래에 취약하셨고 현금과 대체카드가 없어 난처함을 느끼고 계셨습니다. 저는 먼저 다가가 고객의 불편사항을 먼저 듣고 난 후, 현재 KT아현지사 화재사건으로 특정 카드의 사용이 힘들다는 점을 강조드리며 죄송하다는 말씀을 먼저 드렸습니다. 그리고 고객님의 카드사로 대신 전화를 하고 가족과 통화를 하며 문제해결을 위해 노력하였습니다. 결국 승차권발권에 성공했고 크게 고마워하시는 고객님을 보며 긴급상황에서 고객의 어려움을 빠르게 파악하고 적절하게 대처하는 소통능력의 중요성을 깨달을 수 있었습니다.\n",
      "Q :  우리 공단에서 수행하는 업무를 사회적가치 활동으로 연계하여 발전시킬 수 있는 방안을 기술하여 주십시오.   =>   [직접와서 사용해주세요, 전통시장도 맛집 많습니다] 최근 온누리 상품권에 효용가치를 못 느껴 다른 이에게 팔거나 같은 금액만큼 맞교환하는 사례를 보았습니다. 이 때 든 생각은 전통시장도 맛집이 많다는 인식이 부족하다는 점이었습니다. 현재 수행하는 공동 마케팅 지원사업은 전통시장을 하나의 문화공간으로 인식시키는 장점은 있지만 전통시장도 맛집이 많다 라는 인식을 주기에는 역부족이라 생각했습니다. 이에 저는 현재의 소비를 이끌고 미래소비의 주역이 될 20~30대 직장인을 대상으로 경쟁력 있는 가게들을 공동으로 홍보하는 방안이 필요하다고 생각합니다. 먼저 5년이하의 연혁을 가진 전통시장들의 참여를 받고 소비자 평가단을 꾸려 일정 기준에 충족한 가게들을 모아 언론과 SNS 등에 홍보하여 젊은 세대들의 전통시장으로의 발걸음을 띄우는 것이 무엇보다 중요합니다. 백년가게, 소상공인 컨설팅 사업과의 중복을 피하며 적절한 지원을 이끌어 낼 수 있다면 전통시장 활성화에 더욱 기여할 수 있을 것입니다. 경험 및 경력 기술서(1) 소속조직 : 한국철도공사 담당직무 : 고객안내 주요역할 : 안내센터에서 고객을 응대 주요 수행 업무 및 성과 : 고객안내가 주요 업무였고 세부적으로 안내센터 고객응대, 자동발매기기에서 승차권 발권 안내, 승강장 안내 등의 역할을 수행하였고 그 과정에서 고객들이 시간에 맞춰 열차를 탑승할 수 있도록 도움을 드렸습니다. 업무성과를 높이기 위한 노력 : 고객들이 주로 많이 가는 호텔, 상가 등의 위치를 메모하여 더욱 빠르고 구체적으로 도움을 드리려고 노력하였습니다. 조직기여 내용 : 메모를 사용하여 효과적으로 고객을 응대하자 다른 인턴 동기들 역시 함께 쓸 업무용 메모를 필요로 해서 단체카톡방에 내용을 정리하여 올리는 등 업무 효율에 힘썼습니다. 공단 지원분야 업무 수행 시 기여할 수 있는 측면 : 소상공인 진흥공단에서 여러 상황에 놓인 업체 즉 고객을 만날텐데 고객들을 세분화 혹은 공통점을 찾아 통합적으로 관리하며 효과적인 서비스를 제공하기 위해 노력하겠습니다. 경험 및 경력 기술서(2) 소속조직 : OO국제영화제 담당직무 : 총무팀 행사장 운영 및 설치 주요역할 : 행사장 설치, 식음료 및 자재 관리, 주차관리 등 행사장 총괄적 운영 주요 수행 업무 및 성과 : 전체적인 총무팀 업무를 공동으로 수행했고 그 중 식음료를 타 부서에 전달하는 역할을 맡았습니다. 업무성과를 높이기 위한 노력 : 부서별 인원에 맞게 도시락 및 음료의 수량을 분류하여 식사시간에 조달하는 업무였는데 구체적인 분배시스템이 잡혀있지 않아 한꺼번에 여러 부서가 도시락을 수령하러 올 경우 지연, 음식온도 하락 등의 문제를 예상할 수 있었습니다. 이에 다른 2명의 팀원에게 업무배분을 제안하였습니다. 조직기여 내용 : 효과적으로 업무를 배분한 결과 맡았던 역할을 문제없이 수행할 수 있었고 영화제의 성공적인 개막, 폐막에 기여할 수 있었습니다. 공단 지원분야 업무 수행 시 기여할 수 있는 측면 : 입사 후 소상공인들을 위한 지원사업, 행사 등 기획한 업무를 실행할 때 자원봉사에서 했었던 총무팀의 경험이 도움이 될 수 있을 것입니다.\n"
     ]
    },
    {
     "name": "stdin",
     "output_type": "stream",
     "text": [
      "Correct ?  n\n"
     ]
    },
    {
     "name": "stdout",
     "output_type": "stream",
     "text": [
      "\n"
     ]
    },
    {
     "name": "stdin",
     "output_type": "stream",
     "text": [
      "ENTER Question :  학교나 조직 등에서 한정된 자원(인적, 물적, 시간)으로 어려웠던 과제를 처리했던 경험 및 결과를 구체적으로 기술하여 주십시오.\n",
      "ENTER Answer :  \"예측력을 통한 돌발상황 대비\" 부산국제영화제 총무팀에서 단 3명으로 약1000명의 자원봉사자와 스태프들의 식사를 담당했던 경험이 있습니다. 점심시간이 부서별로 비슷했기에 단시간 많은 업무량이 예상되었고, 이에 인원충원을 건의했지만 다른 봉사자들 역시 각자의 역할이 있어 충원이 힘들었습니다. 업무는 부서별로 도시락을 수령하러오면 단순히 분배해주는 역할이었지만 체계적인 분배시스템이 없는 상황이었습니다. 이런 식으로는 많은 인원을 가진 부서가 온다면 동시간대에 온 다른 부서로의 분배지연, 음식의 온도 하락의 문제를 예상할 수 있었습니다. 효율적인 분배업무를 위해 다른 2명의 팀원에게 분업을 제안하였고 그 내용은 다음과 같았습니다. 첫째, 타 부서에 연락하여 수령하러 올 시간대를 지정하였습니다. 둘째, 부서별 인원에 맞게 도시락을 분류하고 수령하러 온 부서에 도시락을 전달하였습니다. 그 결과 시간적 지연이나 재고적 오차없이 효율적으로 업무를 수행할 수 있었습니다.\n",
      "ENTER Question :  개인의 신념 및 중요하다고 생각되는 덕목으로 인해 조직에서 구성원들과의 갈등이 발생했을 때 이를 극복한 경험이 있다면 기술하여 주십시오.\n",
      "ENTER Answer :  신뢰, 서비스업의 가장 큰 무기] 스크린골프 아르바이트 당시 고객의 예약접수가 있음에도 무리하게 다른 예약을 받도록 지시를 내렸던 사장님과의 갈등 발생 경험이 있습니다. 예약이 모두 잡혀있는 상태에서 사장님으로부터 지금 한팀이 방문할 것이라는 연락을 받았습니다. 매장예약접수를 담당하고 있던 저에겐 날벼락이었습니다. 지금 손님이 들어가면 예약된 손님이 최소30분은 기다려야 할 것을 알았기 때문입니다. 이에 상황을 말씀드렸지만 예약된 손님은 단골이라 이해해 줄 것이라는 말씀을 들었고, 불만이 있었지만 지시대로 수행하였습니다. 하지만 결국 단골은 기다리지 않고 예약을 취소하며 일처리 방식에 불만을 표했습니다. 그 날 있었던 일들을 사장님께 말씀드리며 기존 고객들을 유지하는 것 또한 신규손님을 받는 것 만큼 중요한 것 같다는 저의 솔직한 생각을 말씀드렸고 사장님은 이에 동의하시며 단골손님에게 사과를 하셨고 그 후 무리한 예약접수를 삼가하며 고객과의 신뢰를 더욱 중요시하게 되었습니다.\n",
      "ENTER Question :  지원 분야와 관련하여 가장 필요한 역량이 무엇인지 제시하고, 그 역량을 키우기 위해 지원자 스스로 노력한 경험과 그 결과를 기술하여 주십시오.\n",
      "ENTER Answer :  [고객을 향해 먼저내민 손] 소상공인 육성 및 전통시장 활성화 지원사업을 수행할 때 중요한 역량은 소통능력입니다. 직접적인 이해관계자의 어려움을 잘 이해하고 적절하게 대응하는 것이 중요한 역할이기 때문입니다. 저는 이런 소통능력을 한국철도공사 인턴을 수행하며 배양하였습니다. KT아현지사 화재사건으로 결제수단을 상실한 고객에게 도움을 드렸던 경험이 있습니다. 그분은 경로에 해당하시어 인터넷 전자상거래에 취약하셨고 현금과 대체카드가 없어 난처함을 느끼고 계셨습니다. 저는 먼저 다가가 고객의 불편사항을 먼저 듣고 난 후, 현재 KT아현지사 화재사건으로 특정 카드의 사용이 힘들다는 점을 강조드리며 죄송하다는 말씀을 먼저 드렸습니다. 그리고 고객님의 카드사로 대신 전화를 하고 가족과 통화를 하며 문제해결을 위해 노력하였습니다. 결국 승차권발권에 성공했고 크게 고마워하시는 고객님을 보며 긴급상황에서 고객의 어려움을 빠르게 파악하고 적절하게 대처하는 소통능력의 중요성을 깨달을 수 있었습니다.\n",
      "ENTER Question :  우리 공단에서 수행하는 업무를 사회적가치 활동으로 연계하여 발전시킬 수 있는 방안을 기술하여 주십시오.\n",
      "ENTER Answer :  [직접와서 사용해주세요, 전통시장도 맛집 많습니다] 최근 온누리 상품권에 효용가치를 못 느껴 다른 이에게 팔거나 같은 금액만큼 맞교환하는 사례를 보았습니다. 이 때 든 생각은 전통시장도 맛집이 많다는 인식이 부족하다는 점이었습니다. 현재 수행하는 공동 마케팅 지원사업은 전통시장을 하나의 문화공간으로 인식시키는 장점은 있지만 전통시장도 맛집이 많다 라는 인식을 주기에는 역부족이라 생각했습니다. 이에 저는 현재의 소비를 이끌고 미래소비의 주역이 될 20~30대 직장인을 대상으로 경쟁력 있는 가게들을 공동으로 홍보하는 방안이 필요하다고 생각합니다. 먼저 5년이하의 연혁을 가진 전통시장들의 참여를 받고 소비자 평가단을 꾸려 일정 기준에 충족한 가게들을 모아 언론과 SNS 등에 홍보하여 젊은 세대들의 전통시장으로의 발걸음을 띄우는 것이 무엇보다 중요합니다. 백년가게, 소상공인 컨설팅 사업과의 중복을 피하며 적절한 지원을 이끌어 낼 수 있다면 전통시장 활성화에 더욱 기여할 수 있을 것입니다.\n",
      "ENTER Question :  직무와 관련된 활동에 대해서 기술해주세요.\n",
      "ENTER Answer :  (1) 소속조직 : 한국철도공사 담당직무 : 고객안내 주요역할 : 안내센터에서 고객을 응대 주요 수행 업무 및 성과 : 고객안내가 주요 업무였고 세부적으로 안내센터 고객응대, 자동발매기기에서 승차권 발권 안내, 승강장 안내 등의 역할을 수행하였고 그 과정에서 고객들이 시간에 맞춰 열차를 탑승할 수 있도록 도움을 드렸습니다. 업무성과를 높이기 위한 노력 : 고객들이 주로 많이 가는 호텔, 상가 등의 위치를 메모하여 더욱 빠르고 구체적으로 도움을 드리려고 노력하였습니다. 조직기여 내용 : 메모를 사용하여 효과적으로 고객을 응대하자 다른 인턴 동기들 역시 함께 쓸 업무용 메모를 필요로 해서 단체카톡방에 내용을 정리하여 올리는 등 업무 효율에 힘썼습니다. 공단 지원분야 업무 수행 시 기여할 수 있는 측면 : 소상공인 진흥공단에서 여러 상황에 놓인 업체 즉 고객을 만날텐데 고객들을 세분화 혹은 공통점을 찾아 통합적으로 관리하며 효과적인 서비스를 제공하기 위해 노력하겠습니다. (2) 소속조직 : OO국제영화제 담당직무 : 총무팀 행사장 운영 및 설치 주요역할 : 행사장 설치, 식음료 및 자재 관리, 주차관리 등 행사장 총괄적 운영 주요 수행 업무 및 성과 : 전체적인 총무팀 업무를 공동으로 수행했고 그 중 식음료를 타 부서에 전달하는 역할을 맡았습니다. 업무성과를 높이기 위한 노력 : 부서별 인원에 맞게 도시락 및 음료의 수량을 분류하여 식사시간에 조달하는 업무였는데 구체적인 분배시스템이 잡혀있지 않아 한꺼번에 여러 부서가 도시락을 수령하러 올 경우 지연, 음식온도 하락 등의 문제를 예상할 수 있었습니다. 이에 다른 2명의 팀원에게 업무배분을 제안하였습니다. 조직기여 내용 : 효과적으로 업무를 배분한 결과 맡았던 역할을 문제없이 수행할 수 있었고 영화제의 성공적인 개막, 폐막에 기여할 수 있었습니다. 공단 지원분야 업무 수행 시 기여할 수 있는 측면 : 입사 후 소상공인들을 위한 지원사업, 행사 등 기획한 업무를 실행할 때 자원봉사에서 했었던 총무팀의 경험이 도움이 될 수 있을 것입니다.\n",
      "ENTER Question :  ㅜ\n",
      "ENTER Answer :  n\n",
      "ENTER Question :  n\n"
     ]
    },
    {
     "name": "stdout",
     "output_type": "stream",
     "text": [
      "\n",
      "\n",
      "Q :  공동체의 일원으로서 가장 중요하게 생각하는 가치를 제시하고, 그 가치를 실천했던 경험을 기술하여 주십시오.   =>   공동체라 함은 개인보다는 전체를 더 중요시하는 마음이 필요합니다. 물론 개개인도 중요하지만, 공동체의 일원으로서 전체의 이익을 위해 개인의 희생은 어느 정도 필요하다고 생각합니다. 저는 어느 조직에 소속되면 그 소속감을 바탕으로 내가 이 조직의 주인이라는 의식을 가지곤 합니다. 과거에 감리원으로 재직할 때 근무했던 곳은 야근이 전혀 없고 칼출근, 칼퇴근하는 곳이었는데, 일을 하다 보면 한 번씩 약간 부족함을 느낄 때가 있었습니다. 그래서 다음 날이나 업무 시간에 하기에는 시간이 많이 소요되는 업무들은 퇴근 후에나 주말에 약간의 시간을 할애하여 개인적으로 하곤 했었습니다. 사실 학생 시절에는 야근을 부정적으로만 생각했었는데, 이러한 직장생활을 통해 꼭 필요한 야근은 업무능률을 증진시킬 수 있다는 것을 알았고 또 그로 인해 공동체 의식을 더욱 갖게 될 수 있었습니다. Q2. 처음 만났거나 잘 알지 못하는 상대를 위해 본인이 먼저 배려했던 경험 한 가지를 언급하고, 상대방을 위해 그런 행동을 하게 된 이유를 함께 기술하여 주십시오. 얼마 전 길에서 어떤 할머니께서 안과에 가는 길을 물어보셨습니다. 저도 길을 잘 몰라서 핸드폰으로 찾아서 알려드렸는데, 걸어서 20분 정도 가야 했습니다. 안과에 가시는 걸 보니 눈도 안 좋으신 것 같고, 날씨도 더운데 20분 이상 걸어가시기에는 힘드실 것 같아서 제가 차로 모셔다드릴지 여쭙고 모셔다드리게 되었습니다. 처음에는 길만 알려드리고 가려고 했지만, 제가 떠나고 난 후 홀로 땡볕에서 걸어가실 거라는 생각을 하니 도저히 발걸음이 떨어지지 않았고 안과에 들어가시는 것을 보고 나서야 제 갈 길을 갈 수 있었습니다. 사실 요즘 세상이 워낙 험하고 흉흉해서 작은 호의가 범죄로 이루어지는 것을 많이 들었고, 저도 길에서는 보통 타인이 다가오거나 말을 걸어오면 경계심을 가지고 대하게 됩니다. 하지만 이러한 문제들로 인해 아무 죄 없는 선량한 사람들이 영향을 받거나 피해를 봐서는 안된다고 생각합니다. Q3. 팀원으로서 동료들과 협력하여 좋은 성과를 낸 경험을 소개해 주십시오. 구체적으로 본인의 역할과 협력을 위해 노력했던 점을 함께 기술하여 주십시오. 대학시절, BIM 동아리에서 팀을 이루어 BIM 공모전에 도전했던 경험이 있습니다. 그 당시 BIM 관련 프로그램을 배우고 난 후 바로 공모전에 도전했기 때문에, 팀원 간에 ‘배운 것을 시험해보기 위해 공모전에 도전한 것이니, 도전에 의의를 두자’는 목표와 ‘이왕 도전하는 것이니 입상을 목표로 하자’는 목표의 불일치로 인해 갈등 상황이 발생했습니다. 사실 저는 후자의 목표를 가지고 있었지만 팀원 간 목표가 일치되어야 더욱 좋은 성과를 얻을 수 있다고 생각했습니다. 그래서 이러한 이견 차이를 존중하여, 욕심을 버리고 주어진 상황에 최선을 다하자는, 현실적으로 조정 가능한 대안을 제시하여 조율하였습니다. 갈등 상황 이후 오히려 서로 간에 끈끈한 관계가 생겼고 그로 인해 더욱 시너지 효과를 얻음으로써 공모전에서 입상하는 성과를 얻을 수 있었습니다. Q4. 한국철도공사의 미래 사업 또는 지원분야와 연관된 본인의 전문성을 언급하고, 그러한 전문성을 개발하기 위해 어떤 노력을 해왔는지 기술하여 주십시오. 코레일은 여객과 물류, 남북철도 연결 등의 사업을 하고 있습니다. 이러한 사업들은 무엇보다 안전이 기본 돼야 한다고 생각합니다. 저는 감리일을 하면서 안전에 관한 법률이나 인명피해가 없도록 교육을 받았고, 안전에 가장 최우선인 기업 코레일에서 저의 안전과 관련된 역량을 펼쳐보고 싶습니다. 또한 대학교 수업에서 건설관리(CM)라는 분야를 접한 후 더 깊이 배우고 싶어서 대학원에 진학하게 되었고, 2년간 건설관리에 대해 더 폭넓고 깊게 배울 수 있었습니다. 대학원 생활이 거의 끝나갈 때쯤 이 분야에서 직접 일을 해보고 싶었고, 건축기사를 취득하여 '시공단계에서의 CM', 즉 감리 분야로 취직하게 되었습니다. 현장에서 몇 십 년씩 일하신 분들과 같이 일하는 것이 처음에는 약간 버거웠지만 그분들을 이해하려고 애쓰며 한 발짝 물러나면서 원만하게 어울리며 잘 적응할 수 있게 되었고, 그럼으로써 업무에도 더 집중할 수 있게 되었습니다.\n"
     ]
    },
    {
     "name": "stdin",
     "output_type": "stream",
     "text": [
      "Correct ?  n\n"
     ]
    },
    {
     "name": "stdout",
     "output_type": "stream",
     "text": [
      "\n"
     ]
    },
    {
     "name": "stdin",
     "output_type": "stream",
     "text": [
      "ENTER Question :  공동체의 일원으로서 가장 중요하게 생각하는 가치를 제시하고, 그 가치를 실천했던 경험을 기술하여 주십시오.\n",
      "ENTER Answer :  공동체라 함은 개인보다는 전체를 더 중요시하는 마음이 필요합니다. 물론 개개인도 중요하지만, 공동체의 일원으로서 전체의 이익을 위해 개인의 희생은 어느 정도 필요하다고 생각합니다. 저는 어느 조직에 소속되면 그 소속감을 바탕으로 내가 이 조직의 주인이라는 의식을 가지곤 합니다. 과거에 감리원으로 재직할 때 근무했던 곳은 야근이 전혀 없고 칼출근, 칼퇴근하는 곳이었는데, 일을 하다 보면 한 번씩 약간 부족함을 느낄 때가 있었습니다. 그래서 다음 날이나 업무 시간에 하기에는 시간이 많이 소요되는 업무들은 퇴근 후에나 주말에 약간의 시간을 할애하여 개인적으로 하곤 했었습니다. 사실 학생 시절에는 야근을 부정적으로만 생각했었는데, 이러한 직장생활을 통해 꼭 필요한 야근은 업무능률을 증진시킬 수 있다는 것을 알았고 또 그로 인해 공동체 의식을 더욱 갖게 될 수 있었습니다.\n",
      "ENTER Question :  처음 만났거나 잘 알지 못하는 상대를 위해 본인이 먼저 배려했던 경험 한 가지를 언급하고, 상대방을 위해 그런 행동을 하게 된 이유를 함께 기술하여 주십시오.\n",
      "ENTER Answer :  얼마 전 길에서 어떤 할머니께서 안과에 가는 길을 물어보셨습니다. 저도 길을 잘 몰라서 핸드폰으로 찾아서 알려드렸는데, 걸어서 20분 정도 가야 했습니다. 안과에 가시는 걸 보니 눈도 안 좋으신 것 같고, 날씨도 더운데 20분 이상 걸어가시기에는 힘드실 것 같아서 제가 차로 모셔다드릴지 여쭙고 모셔다드리게 되었습니다. 처음에는 길만 알려드리고 가려고 했지만, 제가 떠나고 난 후 홀로 땡볕에서 걸어가실 거라는 생각을 하니 도저히 발걸음이 떨어지지 않았고 안과에 들어가시는 것을 보고 나서야 제 갈 길을 갈 수 있었습니다. 사실 요즘 세상이 워낙 험하고 흉흉해서 작은 호의가 범죄로 이루어지는 것을 많이 들었고, 저도 길에서는 보통 타인이 다가오거나 말을 걸어오면 경계심을 가지고 대하게 됩니다. 하지만 이러한 문제들로 인해 아무 죄 없는 선량한 사람들이 영향을 받거나 피해를 봐서는 안된다고 생각합니다.\n",
      "ENTER Question :  팀원으로서 동료들과 협력하여 좋은 성과를 낸 경험을 소개해 주십시오.\n",
      "ENTER Answer :  구체적으로 본인의 역할과 협력을 위해 노력했던 점을 함께 기술하여 주십시오. 대학시절, BIM 동아리에서 팀을 이루어 BIM 공모전에 도전했던 경험이 있습니다. 그 당시 BIM 관련 프로그램을 배우고 난 후 바로 공모전에 도전했기 때문에, 팀원 간에 ‘배운 것을 시험해보기 위해 공모전에 도전한 것이니, 도전에 의의를 두자’는 목표와 ‘이왕 도전하는 것이니 입상을 목표로 하자’는 목표의 불일치로 인해 갈등 상황이 발생했습니다. 사실 저는 후자의 목표를 가지고 있었지만 팀원 간 목표가 일치되어야 더욱 좋은 성과를 얻을 수 있다고 생각했습니다. 그래서 이러한 이견 차이를 존중하여, 욕심을 버리고 주어진 상황에 최선을 다하자는, 현실적으로 조정 가능한 대안을 제시하여 조율하였습니다. 갈등 상황 이후 오히려 서로 간에 끈끈한 관계가 생겼고 그로 인해 더욱 시너지 효과를 얻음으로써 공모전에서 입상하는 성과를 얻을 수 있었습니다.\n",
      "ENTER Question :  한국철도공사의 미래 사업 또는 지원분야와 연관된 본인의 전문성을 언급하고, 그러한 전문성을 개발하기 위해 어떤 노력을 해왔는지 기술하여 주십시오.\n",
      "ENTER Answer :  코레일은 여객과 물류, 남북철도 연결 등의 사업을 하고 있습니다. 이러한 사업들은 무엇보다 안전이 기본 돼야 한다고 생각합니다. 저는 감리일을 하면서 안전에 관한 법률이나 인명피해가 없도록 교육을 받았고, 안전에 가장 최우선인 기업 코레일에서 저의 안전과 관련된 역량을 펼쳐보고 싶습니다. 또한 대학교 수업에서 건설관리(CM)라는 분야를 접한 후 더 깊이 배우고 싶어서 대학원에 진학하게 되었고, 2년간 건설관리에 대해 더 폭넓고 깊게 배울 수 있었습니다. 대학원 생활이 거의 끝나갈 때쯤 이 분야에서 직접 일을 해보고 싶었고, 건축기사를 취득하여 '시공단계에서의 CM', 즉 감리 분야로 취직하게 되었습니다. 현장에서 몇 십 년씩 일하신 분들과 같이 일하는 것이 처음에는 약간 버거웠지만 그분들을 이해하려고 애쓰며 한 발짝 물러나면서 원만하게 어울리며 잘 적응할 수 있게 되었고, 그럼으로써 업무에도 더 집중할 수 있게 되었습니다.\n",
      "ENTER Question :  n\n"
     ]
    },
    {
     "name": "stdout",
     "output_type": "stream",
     "text": [
      "\n",
      "\n",
      "Q :  1. 지원자가 한국노인인력개발 및 지원분야 관심을 가지게 된 계기는 무엇이며, 자신의 지원분야에 대한 전문성을 향상시키기 위해 그 동안 어떤 노력을 했는지 기술해 주시기 바랍니다.   =>   A1) 한국노인인력개발원에서의 서포터즈 활동은 노인복지에 대한 관심을 열정으로 성장하게끔 했던 사례입니다. 고령화 시대에 접어든 시기에 노인의 사회참여는 역동의 기회로서 최고의 노인복지로 인식되고 있습니다. 평소에 노인복지와 노인일자리 분야에 관심이 많았던 저는 고령사회 서포터즈 1기로서 '연령주의' 라는 편견에 맞서 어려움을 겪고 있는 시니어의 사회적 가치를 제고하기 위한 활동을 진행했습니다. 먼저 노인일자리 활성화에 힘쓰고 있는 기관에 방문하여 실무자와 이용자들을 대상으로 시니어 구직 프로세스와 취업성공사례를 취재하였습니다. 취재한 사례는 긍정적인 시니어 취업인식을 확산시키고자 on-offline 채널을 활용하여 지속적으로 홍보하는데 주력했으며 이러한 모습은 우수활동으로 채택되어 활동우수상이라는 영광을 얻을 수 있었습니다. 이 경험을 기반으로 한 사람의 노인이 쉽지 않은 구직활동을 거쳐 취업에 성공하기까지 햇빛과 물이 되어주는 든든한 인재로 거듭나도록 노력하겠습니다. Q2)이전에 없던 혹은 이전과는 다른 방식으로 문제를 해결하고자 했던 경험에 대해 구체적으로 기술해 주십시오. 당시 발생한 문제상황과 그에 대한 본인의 문제 해결방안은 무엇이었으며, 그러한 방안을 실행에 옮기기 위해 어떠한 노력을 기울였는지 구체적으로 기술해 주십시오. (500자) A2) 사회복지현장실습 팀장으로서 기업 및 사업체를 대상으로 진행한 후원개발은 책임감과 끈기를 통해 이룬 좋은 경험입니다. 후원금은 사회복지 사업 예산의 상당부분을 차지하고 있을 만큼 꼭 필요한 요소로 지역사회 내 여러 사업장을 방문하여 후원개발을 시도하였으나 “나도 힘든데, 누굴 도와요” 하는 반응으로 많은 어려움을 겪었습니다. 따라서, 효과적인 후원개발을 위해 여러 사업장을 방문하여 보다 많은 후원개발에 목표를 두는 것이 아닌 한 곳 또는 두 곳의 사업장에 지속적으로 방문하고 대화를 시도하여 후원개발을 시도하는 아이디어를 생각해냈습니다. 일주일에 세 번 간격으로 매장을 집중적으로 방문하여 후원을 통해 사회문제 해결을 위해 사회적 책임을 다하고 있는 매장의 긍정적 이미지를 제고할 수 있다는 점을 적극적으로 전달하였습니다. 사업주께서는 학생들의 열정과 끈기를 봐서라도 이 후원에 참여하겠다는 의사를 밝혀주시었고 끝내 사업장 두 곳을 대상으로 후원을 개발하는 결실을 맺을 수 있었습니다. 이 경험을 통해 성공이라는 못을 박기 위해서 끈질김이라는 망치가 필요하다는 것을 배울 수 있었습니다. Q3) 어떤 일을 수행하며 한정된 자원을 효과적으로 잘 활용했었던 경험에 대해 기술해주십시오. 당시 상황은 어떠했으며, 어떤 요소들을 고려하여 효과적으로 자원을 활용했는지, 본인이 취했던 방식을 중심으로 기술해 주십시오. A3) 취업동아리에서 준비했던 '취업특강' 행사는 팀원들과 협업을 통해 한정된 시간과 자원을 효율적으로 활용하며 어려움을 슬기롭게 해결했던 좋은 경험입니다. 당시 동아리를 운영하던 중, 학과로부터 갑작스럽게 취업 강연 프로그램을 진행해달라는 부탁을 받았습니다. 제한된 시간과 한정된 자원으로 인해 많은 어려움이 따랐지만 다음과 같은 방법을 활용하며 취업특강을 차질없이 준비할 수 있었습니다. 먼저, 팀원들과의 회의를 통해 전체 일정을 한눈에 파악할 수 있는 계획표를 만들어 예상 소요시간과 우선순위를 파악하였습니다. 다음으로 행사에 투입되는 예산을 미리 책정하고 시간이 오래 걸리는 일은 업무분담과 협업을 통해 시간을 단축했으며 일주일에 한번 진행 상황을 확인했고 필요한 경우 일정을 재조율하고 계획에 맞추어 단계별로 업무를 해결해나갔습니다. 그 결과, '취업특강' 강연 프로그램을 차질없이 준비할 수 있었고 동아리는 상하반기 결산에서 우수활동 동아리로 선정될 수 있었습니다. 이 경험을 통해서 어려움 속에서도 동료들과의 협업을 통해 돌파구를 찾아내는 능력을 기를 수 있었습니다.\n"
     ]
    },
    {
     "name": "stdin",
     "output_type": "stream",
     "text": [
      "Correct ?  지원자가 한국노인인력개발 및 지원분야 관심을 가지게 된 계기는 무엇이며, 자신의 지원분야에 대한 전문성을 향상시키기 위해 그 동안 어떤 노력을 했는지 기술해 주시기 바랍니다.\n"
     ]
    },
    {
     "name": "stdout",
     "output_type": "stream",
     "text": [
      "\n"
     ]
    },
    {
     "name": "stdin",
     "output_type": "stream",
     "text": [
      "ENTER Question :  지원자가 한국노인인력개발 및 지원분야 관심을 가지게 된 계기는 무엇이며, 자신의 지원분야에 대한 전문성을 향상시키기 위해 그 동안 어떤 노력을 했는지 기술해 주시기 바랍니다.\n",
      "ENTER Answer :  한국노인인력개발원에서의 서포터즈 활동은 노인복지에 대한 관심을 열정으로 성장하게끔 했던 사례입니다. 고령화 시대에 접어든 시기에 노인의 사회참여는 역동의 기회로서 최고의 노인복지로 인식되고 있습니다. 평소에 노인복지와 노인일자리 분야에 관심이 많았던 저는 고령사회 서포터즈 1기로서 '연령주의' 라는 편견에 맞서 어려움을 겪고 있는 시니어의 사회적 가치를 제고하기 위한 활동을 진행했습니다. 먼저 노인일자리 활성화에 힘쓰고 있는 기관에 방문하여 실무자와 이용자들을 대상으로 시니어 구직 프로세스와 취업성공사례를 취재하였습니다. 취재한 사례는 긍정적인 시니어 취업인식을 확산시키고자 on-offline 채널을 활용하여 지속적으로 홍보하는데 주력했으며 이러한 모습은 우수활동으로 채택되어 활동우수상이라는 영광을 얻을 수 있었습니다. 이 경험을 기반으로 한 사람의 노인이 쉽지 않은 구직활동을 거쳐 취업에 성공하기까지 햇빛과 물이 되어주는 든든한 인재로 거듭나도록 노력하겠습니다.\n",
      "ENTER Question :  이전에 없던 혹은 이전과는 다른 방식으로 문제를 해결하고자 했던 경험에 대해 구체적으로 기술해 주십시오.\n",
      "ENTER Answer :  당시 발생한 문제상황과 그에 대한 본인의 문제 해결방안은 무엇이었으며, 그러한 방안을 실행에 옮기기 위해 어떠한 노력을 기울였는지 구체적으로 기술해 주십시오. (500자) A2) 사회복지현장실습 팀장으로서 기업 및 사업체를 대상으로 진행한 후원개발은 책임감과 끈기를 통해 이룬 좋은 경험입니다. 후원금은 사회복지 사업 예산의 상당부분을 차지하고 있을 만큼 꼭 필요한 요소로 지역사회 내 여러 사업장을 방문하여 후원개발을 시도하였으나 “나도 힘든데, 누굴 도와요” 하는 반응으로 많은 어려움을 겪었습니다. 따라서, 효과적인 후원개발을 위해 여러 사업장을 방문하여 보다 많은 후원개발에 목표를 두는 것이 아닌 한 곳 또는 두 곳의 사업장에 지속적으로 방문하고 대화를 시도하여 후원개발을 시도하는 아이디어를 생각해냈습니다. 일주일에 세 번 간격으로 매장을 집중적으로 방문하여 후원을 통해 사회문제 해결을 위해 사회적 책임을 다하고 있는 매장의 긍정적 이미지를 제고할 수 있다는 점을 적극적으로 전달하였습니다. 사업주께서는 학생들의 열정과 끈기를 봐서라도 이 후원에 참여하겠다는 의사를 밝혀주시었고 끝내 사업장 두 곳을 대상으로 후원을 개발하는 결실을 맺을 수 있었습니다. 이 경험을 통해 성공이라는 못을 박기 위해서 끈질김이라는 망치가 필요하다는 것을 배울 수 있었습니다.\n",
      "ENTER Question :  어떤 일을 수행하며 한정된 자원을 효과적으로 잘 활용했었던 경험에 대해 기술해주십시오.\n",
      "ENTER Answer :  취업동아리에서 준비했던 '취업특강' 행사는 팀원들과 협업을 통해 한정된 시간과 자원을 효율적으로 활용하며 어려움을 슬기롭게 해결했던 좋은 경험입니다. 당시 동아리를 운영하던 중, 학과로부터 갑작스럽게 취업 강연 프로그램을 진행해달라는 부탁을 받았습니다. 제한된 시간과 한정된 자원으로 인해 많은 어려움이 따랐지만 다음과 같은 방법을 활용하며 취업특강을 차질없이 준비할 수 있었습니다. 먼저, 팀원들과의 회의를 통해 전체 일정을 한눈에 파악할 수 있는 계획표를 만들어 예상 소요시간과 우선순위를 파악하였습니다. 다음으로 행사에 투입되는 예산을 미리 책정하고 시간이 오래 걸리는 일은 업무분담과 협업을 통해 시간을 단축했으며 일주일에 한번 진행 상황을 확인했고 필요한 경우 일정을 재조율하고 계획에 맞추어 단계별로 업무를 해결해나갔습니다. 그 결과, '취업특강' 강연 프로그램을 차질없이 준비할 수 있었고 동아리는 상하반기 결산에서 우수활동 동아리로 선정될 수 있었습니다. 이 경험을 통해서 어려움 속에서도 동료들과의 협업을 통해 돌파구를 찾아내는 능력을 기를 수 있었습니다.\n",
      "ENTER Question :  n\n"
     ]
    },
    {
     "name": "stdout",
     "output_type": "stream",
     "text": [
      "\n",
      "\n",
      "Q :  인생의 목표(포부)는 무엇이며, 지금까지 목표를 이루기 위한 본인의 노력과 앞으로의 계획에 대해 기술해 주시기 바랍니다.   =>   한화생명의 전문적인 보험 심사자가 되기 위해 보험 심사 관리사 자격과정을 이수, 자격증을 취득하였고, 앞으로는 보험 심사자로서 과거·현재의 보험 상품은 물론, 변화하는 보험 상품과 심사 기준에 대해 끊임없이 공부하여 정확하고 신속한 심사를 할 것입니다. 또한 고객의 소리에 귀 기울여 잘못된 점을 빠르게 파악하고 문제가 반복되지 않도록 할 것입니다. 결과적으로 보험 심사 부서가 한화생명 내에서 최고의 부서가 되도록, 나아가 업계 보험 심사 영역에서 한화생명이 선두를 지킬수 있도록 하겠습니다.\n"
     ]
    },
    {
     "name": "stdin",
     "output_type": "stream",
     "text": [
      "Correct ?  y\n"
     ]
    },
    {
     "name": "stdout",
     "output_type": "stream",
     "text": [
      "\n",
      "\n",
      "Q :  가장 기억에 남는 성공 또는 실패한 경험에 대해서 말씀해주세요.    =>   (해당 경험에 있어 지원자가 한 일을 중심으로 말씀해주세요) A. [ 목표를 달성하려면 확실히 파악하라. ] 신체적 능력이 뛰어나지 않았지만, 농구 동아리 대표선수가 되고자 하였습니다. 팀에 부족한 부분을 파악하여 그 능력을 키워 결국 주전선수가 되었던 경험이 있습니다. 1. 주전선수들의 부족한 부분은 무엇인가? 약 15경기 넘게 주전선수들을 보고 분석한 결과 주전선수들이 공을 돌리는 능력이 부족한 것을 알게 되었습니다. 농구에서 공을 돌리며 패스하는 것은 필수적인 요소였지만 주전선수들에게는 부족한 능력이었습니다. 주전 선수가 되려면 공을 돌리는 능력을 갖춰야겠다고 생각했습니다. 2. 내가 개선해야 할 것은 무엇인가? 가장 먼저 주전선수들을 관찰하며 경기를 뛸 때마다 어떤 위치에서 패스를 받는 것을 선호하는지 파악하였습니다. 파악한 것을 토대로 연습경기 때마다 주전 선수들의 위치를 조정하고 패스하는 연습을 했습니다. 파악한 것이 잘못된 것인지 주전선수들과 계속해서 대화하며 수정하는 일련의 과정을 반복했습니다. 이런 노력 끝에 주전 선수들을 가장 잘 통제할 수 있게 되었고 볼을 잘 돌릴 수 있는 능력을 얻었습니다. 결국, 저는 경기에 없어서는 안 되는 주전 선수가 되었습니다. 항상 회사에 부족한 부분이 무엇인지 회사의 입장에 서서 생각해보고 부지런히 데이터를 분석하겠습니다. 나아가 계속해서 확인하고 수정하며 더욱 완벽한 결과를 만들겠습니다. 이를 통해, 분석한 것을 토대로 노력하는 것이 어렵기도 하지만 성취했을 때의 즐거움을 배웠습니다.\n"
     ]
    },
    {
     "name": "stdin",
     "output_type": "stream",
     "text": [
      "Correct ?  y\n"
     ]
    },
    {
     "name": "stdout",
     "output_type": "stream",
     "text": [
      "\n",
      "\n",
      "Q :  본인의 진로를 물류업(또는 지원 직무분야)으로 선택한 이유와 그 중 특히 CJ대한통운에 지원한 동기에 대해 구체적으로 기술해 주시기 바랍니다.(1,000자 이내)   =>   고등학교 시절 진로를 고민하다 저를 잘 이해해주시는 국어 선생님을 찾아갔습니다. 그 선생님은 아주 다양한 직업을 경험하셨는데 저는 그중에서도 블랙타이거 이야기에 관심이 갔습니다. 선생님은 말레이시아에서 블랙타이거 새우를 직접 수입해 국내 업체에 판매하시는 무역업을 하셨습니다. 그게 어떤 일이냐고 묻자 선생님은 제게 말씀하셨습니다. “말레이시아에서 블랙타이거는 아주 싼 서민음식인데 한국에 들여오면 가치가 열 배는 뛰어올라. 똑같은 새우인데 말이야.” 같은 물건이 장소에 따라 가격이 전혀 달라질 수 있다는 것은 저의 흥미를 끌었습니다. 그리고 무역업을 탐구하면서 자연스럽게 공간적 격차를 극복해주는 산업인 물류를 알게 되었습니다. 저의 물류산업에 관한 관심은 끊임없이 성장했고, 물류를 전공하며 구체화했습니다.\n",
      "Q :  지원한 직무 수행 시 필요한 역량은 무엇이라고 생각하며,   =>   그와 관련된 노력 또는 경험을 바탕으로 최고의 성과를 이룬 사례를 구체적으로 기술해주세요. (1,000자 이내) CL 직무를 위한 저의 역량은 분석능력과 소통능력입니다. [분석능력] 대학교 졸업 프로젝트를 통해 분석능력을 키웠습니다. 제 주제는 ‘울산항 시설확충규모 산정’이었습니다. 통계분석 프로그램을 통해 회귀분석을 시행했고, 향후 20년 뒤 물동량을 예측해 확충규모를 제시했습니다. 심사위원은 통계분석을 통해 유의미한 값을 도출했다고 칭찬했고, 2위로 입상할 수 있었습니다. 입상결과 해외 견학기회를 얻었으며, 분석능력을 기를 수 있었습니다. [소통능력] 신병의 자살 이후 같은 일의 반복을 막기 위해 중대원의 고충을 파악했습니다. 한 달간 면담을 진행했지만 고충을 파악하기 어려웠습니다. 내담자의 직무, 상황에 대한 이해가 없고, 유대가 형성되지 않아 고민을 말하지 않았기 때문입니다. 문제 해결을 위해 직무기술서와 인적사항을 공부했습니다. 또한, 관심사를 이야기하며 유대를 형성했습니다. 이 과정을 통해 소통은 결국 상대방에 대한 이해로부터 시작된다는 것을 배웠습니다. 이후 시행한 면담은 1년에 400회에 달했고 이 경험은 저의 소통능력을 크게 성장시켰으며, 지금도 제 가장 큰 자산으로 남아있습니다. 저의 소통능력으로 회사의 서비스를 이용하도록 고객을 설득할 수 있습니다.\n"
     ]
    },
    {
     "name": "stdin",
     "output_type": "stream",
     "text": [
      "Correct ?  y\n"
     ]
    },
    {
     "name": "stdout",
     "output_type": "stream",
     "text": [
      "\n",
      "\n",
      "Q :  지원 분야와 관련하여 특정 영역의 전문성을 키우기 위해 꾸준히 노력한 경험에 대해 서술해 주십시오.   =>   [듣는 능력과 말하는 능력] B2B 영업 사원으로서 가져야 할 필수 역량은 소통 능력이라고 생각합니다. 새로운 사람을 만나 친분을 쌓고 대화를 통해 전달하려는 메시지를 정확히 전달하며 상대방의 의도를 정확히 파악하는 능력은 영업을 하는 데 있어 중요합니다. 과거 과묵하고 소심한 성격을 가지고 있었던 저는 이 성격을 극복하기 위해 1학년 때 학생회를 하였고, 이후 다양한 동아리 활동을 통해 사교적인 성격을 만들었습니다. 공연을 위주로 하는 동아리에 가입하였고 여러 무대 경험을 통해 다른 사람 앞에서 무언가를 하는데 두려움이 없어졌습니다. 사람들과 어울리는 것을 좋아하고 주도적으로 이끄는 것을 좋아했기 때문에 대부분의 조별과제에서 팀장과 발표를 맡아서 했습니다. 컴퓨터 공학 특성상 조별과제당 3번의 발표를 하는데 어떤 프로젝트를 진행할 것인지 교수님에게 설명하고 설득하는 초안 발표가 있고, 조별과제 진행사항에 있어 교수님의 피드백을 받는 중간발표, 피드백을 고려하여 완성한 결과물을 발표하는 최종 발표로 구성되어 있습니다. 여러 번의 발표를 통해 상대방에게 전달하고자 하는 내용을 이해하기 쉽게 전달하는 방법을 터득할 수 있었고 교수님의 피드백을 수용하는 과정에서 상대방이 원하는 것이 무엇인지 빠르게 파악하는 방법을 터득할 수 있었습니다. 이렇게 대학생활 동안 배운 소통능력은 인턴 기간 동안 경험했던 여러 미팅 자리에서 활용할 수 있었습니다. 구매담당자와 처음 만나 일상적인 이야기를 시작으로, 상대방에게 전달해야 할 내용을 쉽고 정확하게 전달할 수 있었고 대화를 통해 거래처가 겪고 있는 문제나 현재 상황을 파악할 수 있었습니다. 여러 미팅 자리를 통해 느낀 것은 내가 말을 잘하는 것도 중요하지만, 상대방의 말에서 정보를 파악하는 능력 또한 중요하다는 것을 알 수 있었습니다. 이런 경험들을 토대로 하이닉스의 영업사원이 된다면 소통을 통해 거래처와 원만한 관계를 유지할 수 있는 영업사원이 되도록 노력하겠습니다.\n"
     ]
    },
    {
     "name": "stdin",
     "output_type": "stream",
     "text": [
      "Correct ?  y\n"
     ]
    },
    {
     "name": "stdout",
     "output_type": "stream",
     "text": [
      "\n",
      "\n",
      "Q :  도전적인 목표를 가지고 실행하여 성공 혹은 실패한 경험과 그 경험을 통해 무엇을 얻었는지 기술해 주십시오. (최대 700자 입력가능)   =>   A: '뉴욕에서의 새해맞이 BALL DROP 행사 참가'는 제 버킷리스트 중 한 가지입니다. 미국여행은 시간과 비용적으로 부담되기 때문에 무의식중에 미루고 있었다가 4학년 2학기를 시작할 무렵, 그해 겨울에 꼭 가겠다고 결심했었습니다. 저는 9월부터 약 4개월간 여러 가지 아르바이트를 병행하고, 용돈을 아껴가며 400만 원을 모았습니다. 항공권부터 세세한 여행일정까지 스스로 계획하였습니다. 부모님과 친구들은 짧은 시간 안에 준비하는 것이 불가능할 것이라고 예상했지만 저는 제 목표를 위해 4개월간 큰 노력을 했고 마침내 여행을 떠날 수 있었습니다. 약 10일간의 뉴욕여행은 80% 이상 계획대로 진행되었지만, 저의 가장 큰 목표였던 BALL DROP 행사 참가에는 실패하였습니다. 참가하려는 사람이 워낙 많아 아침부터 기다려야 하는 행사인데, 생각보다 힘든 여행 일정에 몸살감기에 걸려 도저히 밖에서 12시간 이상을 기다릴 수 없었기 때문입니다. 비록 BALL DROP 행사 참가는 여전히 저의 버킷리스트로 남아 있지만, 저는 4개월이라는 준비시간과 여행을 통해 얻은 것이 많습니다. 20만 원으로 한 달 생활하기, 더 나은 항공권을 구매하기 위해 밤새 인터넷 서핑하기 등 평생 살면서 어쩌면 해보지 않을 경험들을 스스로 해보았고, 이를 통해 어떤 도전을 할 때는 남들의 판단이 아니라 본인의 의지가 가장 중요다는 것을 깨달았습니다.\n"
     ]
    },
    {
     "name": "stdin",
     "output_type": "stream",
     "text": [
      "Correct ?  y\n"
     ]
    },
    {
     "name": "stdout",
     "output_type": "stream",
     "text": [
      "\n",
      "\n",
      "Q :  공동의 목표 달성을 위한 협업 경험을 본인이 수행한 역할 중심으로 제시하고, 해당 경험을 통해 무엇을 얻었는지 기술해 주십시오.    =>   [전달 능력 : 협업의 필수요소] 성공적인 업무 수행에는 이해하기 쉽게 전달하는 능력이 필수적이라고 생각합니다. 'Galaxy와 함께 하는 새로운 모바일 라이프 스타일 IDEA'공모전을 진행한 적이 있습니다. 통신 공부를 하면서 흥미를 느꼈던 주제인 NB-IoT를 활용하는 방안으로 주제를 정했습니다. 기술적인 지식만으로는 공모전 진행이 힘들었기에 타 전공자들과 함께 협업했습니다. 저는 주로 기술적 지식 수집과 그 지식에 대한 전달을 담당했습니다. 동료들은 IT에 관한 배경지식이 없었기에 지식 전달이 필수적이었습니다. NB-IoT를 이해시키기 위하여 IoT가 어떤 방식으로 통신하는지와 IoT와 NB-IoT의 차이를 주위에서 찾아볼 수 있는 예시를 통해 설명했습니다. 이를 바탕으로 NB-IoT의 장점을 부각한 원격 검침 애플리케이션에 관한 PPT를 제작했고 UI에 관한 내용을 보완하여 공모전을 성공적으로 수행할 수 있었습니다. 이 경험을 통해 지식을 아는 것과 그것을 전달하는 것은 다르다는 것을 느꼈습니다. 본인이 전문적인 지식을 잘 알고 있다고 하여도 협업하는 동료가 이해하지 못하면 업무 수행에 차질이 생깁니다. IT컨설팅/수행 직무는 IT에 관한 지식을 비전문가에게 효과적으로 전달할 수 있어야 합니다. 저는 이러한 역량을 토대로 kt 내 여러 분야의 전문가와 소통하며 성공적으로 업무를 수행할 것입니다.\n",
      "Q :  도전적인 목표를 가지고 실행하여 성공 혹은 실패한 경험과 그 경험을 통해 무엇을 얻었는지 기술해 주십시오.   =>   [새로운 분야로의 도전] 3학년 동계방학 때부터 교내 음성인식 연구실에서 학부연구생으로 각종 프로젝트에 참가하였습니다. 특히 DNN 구조에 관한 공부를 하며 'Keyword Spotting'이라는 개인 과제를 시도해본 적이 있습니다. 배경 지식이 없는 상태에서 오직 논문 하나만 바라보고 프로그램을 구현하는 것은 굉장히 힘든 일이었습니다. 일주일 동안 아무런 진척이 없어 연구실 선배들에게 도움을 청했습니다. 그리하여 주요 키워드의 의미를 알게 되었고 참조할만한 논문과 사이트에 대한 정보를 얻을 수 있었습니다. 또한, 온라인 공개수업을 활용하여 딥러닝에 관한 공부를 진행하면서 음성 feature 특성과 DNN 구조에 대하여 제대로 이해를 할 수 있었습니다. 이를 바탕으로 알맞은 feature 선정과 신경망 모델링을 할 수 있었고 한 달 동안 과제에 매달린 결과 6가지 키워드를 약 83%의 확률로 분류해 낼 수 있는 분류기를 만들 수 있었습니다. 기초가 거의 없었지만, 자발적인 의지를 갖추고 여러 방면으로 과제에 도전한 결과 스스로 간단한 형태의 인공지능을 만들 수 있었습니다. 새로운 분야에 대해 도전한 경험을 통해 이후 데이터 분석에 관한 분야를 접했을 때 효과적으로 익힐 수 있었습니다. 이처럼 새로운 분야에 대한 도전정신을 바탕으로 kt에서도 신기술에 관해 끊임없이 도전하는 인재가 될 것입니다.\n"
     ]
    },
    {
     "name": "stdin",
     "output_type": "stream",
     "text": [
      "Correct ?  y\n"
     ]
    },
    {
     "name": "stdout",
     "output_type": "stream",
     "text": [
      "\n",
      "\n",
      "Q :  우리은행의 과거 / 현재 / 미래에 대하여 키워드를 각각 한가지씩 선정하고, 그 이유에 대해 기술해 주세요.   =>   A. [전통-창조-혁신의 우리] 제가 선정한 우리은행의 과거/현재/미래 키워드는 전통,창조,혁신입니다. 그 이유는 다음과 같습니다. 과거: 민족 전통 금융- 1899년 대한천일은행으로 시작하여 국민들을 위해 금융 서비스를 제공한 전통 깊은 민족 금융 기관입니다. 12만여 명의 국민이 직접 공모를 통해 '한빛'이라는 이름을 주고, 이제는 이들을 포함한 전국민의 '우리'은행이 되었습니다. 현재: 창조 금융- 국내 최초 인터넷 외환거래시스템, 인터넷뱅킹 보안 인증, 그래픽 인증서비스, 패턴인식 활용 뱅킹 출시. 모두 우리 은행이 창조해 낸 '위비뱅크' 핀테크 산업의 밑거름입니다. 선구자적 혜안으로 신기술을 금융권에 접목한 ICT 플러스 금융을 통해 국민 생활에서도 편리한 생활금융과 행복을 창조해나가고 있습니다. 미래: 혁신 금융- 이처럼 우리은행은 119년간 시대의 흐름, 고객의 수요에 한발짝 앞선 혁신적 발전단계를 거쳐왔습니다. 오직 고객제일 일념 하나로 고민하고 발전해 온 우리은행의 노력을 통해, 우리는 곧 핀테크에 이은 상상도 하지 못했던 새로운 금융 혁신을 맞이할 수 있을 것입니다. 우리은행과 함께 미래의 키워드를 완성해 나가고 싶습니다.\n"
     ]
    },
    {
     "name": "stdin",
     "output_type": "stream",
     "text": [
      "Correct ?  y\n"
     ]
    },
    {
     "name": "stdout",
     "output_type": "stream",
     "text": [
      "\n",
      "\n",
      "Q :  지원 분야/직무에 대한 지원 동기와, 해당 분야/직무를 위해 어떤 준비를 해왔는지 소개해주세요. 지원분야/직무를 위해 노력한 내용과 이를 통해 본인이 어떠한 역량을 길렀는지   =>   [LG화학 안전보건환경 경쟁력 및 실행력 강화에 기여하겠습니다] 현재 LG화학은 사업 활동과 안전보건환경과의 조화를 비전으로 삼고 그에 따른 핵심 과제로 절대 안전 확보, 선행적 보건 관리, 지속적 환경개선을 제시하고 있습니다. 대학 시절 배웠던 ‘안전과 법’에서는 법규에 대한 정확한 이해를, ‘공정안전관리’에서는 위험성 평가 기법을 통한 공정 위험성 평가서 작성 방법에 대한 이해를 키울 수 있었습니다. 이는 입사 이후 국내외 규제/이슈 사전 대응과 LG화학 공정설비 안전성 확보에 도움이 될 것입니다.\n"
     ]
    },
    {
     "name": "stdin",
     "output_type": "stream",
     "text": [
      "Correct ?  y\n"
     ]
    },
    {
     "name": "stdout",
     "output_type": "stream",
     "text": [
      "\n",
      "\n",
      "Q :  지원한 직무를 수행하기 위해 필요한 핵심역량은 무엇이라고 생각하며, 그 이유에 대해 설명해 주십시오. 또한 해당 역량을 갖추기 위해 본인이 어떤 노력을 하였는지 기술해 주십시오. (최대 800자 입력가능)   =>   [ 데이터를 분하는 트렌드 세터 ] 서비스 기획자는 기본적으로 정확히 고객의 니즈를 충족시켜야 합니다. 더불어 트렌디한 감각으로 경쟁력 있는 서비스를 기획해야 합니다. 따라서 저는 고객 니즈 파악을 위해 데이터 분석역량을 기르고 있으며, IT 산업의 최신 동향 뉴스를 구독하고 있습니다. 데이터 분석 역량은 앞선 문항에서 언급한 것과 같이 파이썬을 공부하고 있습니다. 고객의 니즈를 정확하게 파악하고, 개발자와의 원활한 소통으로 제작 의도에 적합한 서비스를 기획할 수 있다고 판단했기 때문입니다. 또한, 현재 IT의 소비트렌드 파악을 위해 최신 동향 뉴스를 구독하고 있습니다. 업계의 새로운 서비스 론칭과 개발은 트렌디한 기획의 인사이트가 되기 때문입니다. 저는 카쉐어링 회사에서 인턴으로 근무하며 이 역량을 쌓아왔습니다. 관련 산업과 업계 동향을 매일 확인하여 변화가 회사에 미치는 영향력을 예상해보고, 새로운 서비스에 대한 아이디어를 제공하는 뉴스레터를 작성했습니다. 경험을 바탕으로 현재는 관심 있는 ICT와 AI 서비스에 대한 뉴스를 스크랩하고 향후 발전될 서비스에 대해 저 스스로 정리하고 있습니다. 또한, 글로벌 IT 개발자들의 강연을 들어 최신 업계 동향에 대한 전문성과 이해도를 높이고 있습니다. 국내 IT 서비스와 관련해서는 직접 강연을 찾아다니며 기술개발단계를 파악하고 있습니다. 단순히 새로운 기술과 서비스에 대해서만 이해하는 것이 아닌 개발과정을 파악하여 제가 상상하는 서비스의 상용화 가능 여부에 대해 고민하고 있습니다.\n"
     ]
    },
    {
     "name": "stdin",
     "output_type": "stream",
     "text": [
      "Correct ?  y\n"
     ]
    },
    {
     "name": "stdout",
     "output_type": "stream",
     "text": [
      "\n",
      "\n",
      "Q :  혼자 하기 어려운 일에서 다양한 자원 활용, 타인의 협력을 최대한으로 이끌어내며, Teamwork를 발휘하여 공동의 목표 달성에 기여한 경험에 대해 서술해 주십시오.   =>   A. 소프트웨어 공동 개발을 위해서는 프로젝트 팀원들과 소통하며 협업을 하는 것이 가장 중요한 점이라고 생각합니다. 학기 프로젝트를 진행하면서 혼자 원하는 방향으로 개발하는 것이 아니라 팀원들과 함께 개발 목표 달성을 위해 노력했습니다. 2018년 1학기에 소프트웨어학과의 오픈소스 전문 프로젝트를 수강했었습니다. 과 동기와 같이 수강했었지만 이 학과의 분위기를 파악하려면 동기끼리만 뭉쳐선 어렵다고 판단하여 타 학과 학생들과 팀을 이뤄 프로젝트를 진행했습니다. 프로젝트 주제는 “개방형 강의 사이트”로, 자유 주제의 강의를 누구나 올릴 수 있고 수강자들이 평가한 강의의 가치를 계산하여 가격을 책정하는 방식의 웹사이트입니다. 하지만 학과도 다르고 학과 강의실의 거리도 멀기 때문에 대부분 채팅으로 소통해야 했고, 미팅도 짧게 해야 하는 어려움이 있었습니다. 개발 중 아마존AWS MySQL서버를 사용한 테스트용 데이터 관리를 제안했던 일화가 있습니다. AWS 경험이 없는 팀원들을 이해시키기 위해 AWS 서버 인스턴스 생성과 사용법을 문서로 정리하여 나눠주고 설득을 통해 프로젝트에 적용했습니다. 이처럼 사전 준비를 통해 짧은 미팅시간을 효율적으로 활용하는 노력을 했습니다. 제가 개발을 맡은 부분은 사용자 정보, 강의 정보 관련 DAO/DTO 클래스 설계 및 DB 연동과 강의 관련 페이지 개발을 맡았고, 나머지 두 팀원들은 전체 웹페이지 템플릿 구성과 사용자 정보 관리 페이지 등 기타 페이지 디자인과 검색 시스템 구현을 담당했습니다. 1인 개발 프로젝트가 아니기 때문에 각자 맡은 부분의 의견이 다를 수 있기 때문에 목표를 달성하기 위해서는 팀원 간 피드백이 활발했으면 좋겠다고 생각했습니다. 따라서 진행상황을 공유할 때 제가 맡은 부분에 대한 팀원들의 의견을 먼저 물었고, 지적받은 점을 적극적으로 수용했습니다. 이런 노력은 자연스럽게 팀원 모두의 적극적인 피드백으로 이어졌고, 결국 모두가 만족하는 결과물을 낼 수 있었습니다.\n"
     ]
    },
    {
     "name": "stdin",
     "output_type": "stream",
     "text": [
      "Correct ?  y\n"
     ]
    },
    {
     "name": "stdout",
     "output_type": "stream",
     "text": [
      "\n",
      "\n",
      "Q :  삼성전자를 지원한 이유와 입사 후 회사에서 이루고 싶은 꿈을 기술하십시오.   =>   고객과의 소통을 통해 매출을 증가시키며 고객지향 마인드를 함양했습니다. 이를 강점으로 발휘해 삼성전자의 매출 증대에 기여하기 위해 지원했습니다. 백색가전부터 반도체를 필두로 한 첨단산업까지 삼성전자는 새로운 시장을 개척하며 최고가 되었습니다. 그리고 5G시대 삼성전자는 소비자를 배려한 홈 IoT제품으로 시장을 선도합니다. 최고의 바탕에는 소비자의 생활양식과 NEEDS를 바탕으로 미래를 예측하는 삼성전자의 선구안이 있었습니다. 이처럼 고객을 생가하는 삼성전자는 저의 강점을 가장 잘 발휘할 수 있는 기업입니다. 영업관리자로서 소비자와 가까운 곳에서 소통하며 고객 맞춤형 제품과 서비스를 제공해 삼성전자 최고의 아성을 이어가겠습니다. 제가 담당한 리테일 채널들을 상권 내 매출 1위로 만들겠습니다. 이를 위해 IT업계 이슈와 당사, 경쟁사 상품에 대한 반응을 통해 트렌드를 파악하겠습니다. 그리고 매장을 방문해 동향을 살핀 후 고객 NEEDS에 초점을 맞춘 판매 전략으로 모든 대리점에서 매출 1위를 달성하겠습니다. 더불어 오프라인에서 스마트 가전을 체험하는 프로모션 등 온라인과 차별화된 방법을 기획하겠습니다. 장기적으로 영업관리 노하우를 바탕으로 신규 대리점을 구축해 고객 수를 증가시키며 매출 극대화를 하겠습니다.\n"
     ]
    },
    {
     "name": "stdin",
     "output_type": "stream",
     "text": [
      "Correct ?  y\n"
     ]
    },
    {
     "name": "stdout",
     "output_type": "stream",
     "text": [
      "\n",
      "\n",
      "Q :  최근 5년 동안에 귀하가 성취한 일 중에서 가장 자랑할 만한 것은 무엇입니까? 그것을 성취하기 위해 귀하는 어떤 일을 했습니까? (실행력)   =>   A1) 한국노인인력개발원에서의 서포터즈 활동은 사회복지학도로서 노인복지에 대한 관심을 열정으로 성장하게끔 했던 사례입니다. 고령화 시대에 접어든 대한민국, 이 시기를 역동의 기회로 삼아 노인의 사회참여는 최고의 노인복지로 인식되고 있습니다. 평소에 노인복지와 노인일자리에 관심이 많았고 2017년도 한국노인인력개발원 서포터즈 1기로서 연령주의라는 편견에 맞서 어려움을 겪고 있는 시니어의 취업 인식개선을 위해 지속가능한 노인일자리 활성화를 위해 힘쓰고 있는 노인복지관과 시니어클럽, 고령친화기업에 방문하여 기관 실무자와 이용자들을 대상으로 진행한 인터뷰를 토대로 시니어 구직 프로세스 등을 홍보하고 긍정적인 인식을 확산시키는 다양한 On-Offline 활동을 진행하면서 노인인력개발에 대한 관심은 곧 열정으로 성장하게 되었습니다. 결국, 이러한 모습은 서포터즈 활동의 성공적인 모델로 채택되어 활동우수상 수상이라는 결실을 맺음으로 노력은 결코 배신하지 않는다는 것을 가슴 속에 다시금 되새길 수 있었습니다. Q2) 예상하지 못했던 문제로 인해 계획대로 일이 진행되지 않았을 때, 책임감을 가지고 적극적으로 끝까지 업무를 수행해내어 성공적으로 마무리했던 경험이 있으면 서술해 주세요. (책임감) A2)사회복지현장실습 팀장으로서 기업 및 사업체를 대상으로 진행한 후원개발은 책임감과 끈기를 통해 이룬 좋은 경험입니다. 후원금은 사회복지 사업 예산의 상당부분을 차지하고 있을 만큼 꼭 필요한 요소로 지역사회 내 여러 사업장을 방문하여 후원개발을 시도하였으나 “나도 힘든데, 누굴 도와요” 하는 반응으로 많은 어려움을 겪었습니다. 따라서, 효과적인 후원개발을 위해 여러 사업장을 방문하여 보다 많은 후원개발에 목표를 두는 것이 아닌 한 곳 또는 두 곳의 사업장에 지속적으로 방문하고 대화를 시도하여 후원개발을 시도하는 아이디어를 고안했습니다. 일주일에 세 번 간격으로 매장을 집중적으로 방문하여 후원을 통해 사회 문제를 해결과 사회적 책임을 다하고 있는 매장의 긍정적 이미지를 제고할 수 있다는 매력을 적극적으로 전달하였습니다. 사업주께서는 학생들의 열정과 끈기를 봐서라도 이 후원에 참여하겠다는 의사를 밝혀주시었고 끝내 사업장 두 곳을 대상으로 후원을개발하는 결실을 맺을 수 있었습니다. Q3) 자신이 지원한 분야에 대하여 직무 수행능력을 갖추기 위한 노력과 이를 통해 갖추게 된 능력을 기술해 주세요. (전문성) A3)취업동아리에서 준비했던 “취업특강” 행사는 팀원들과 협업을 통해 시간과 자원을 효율적으로 활용할 수 있는 방법을 알려주었습니다. 동아리를 운영하던 중 학과로부터 갑작스럽게 취업 강연 프로그램을 진행해달라는 부탁을 받았습니다. 제한된 시간과 자원을 효율적으로 사용하기 위해 다음과 같은 방법을 활용하였습니다. 우선, 팀원들과 회의를 통해 전체 일정을 한눈에 볼 수 있는 계획표를 만들어 예상 소요시간과 우선순위를 파악하였습니다. 다음으로, 행사에 투입되는 예산을 미리 책정하고 시간이 오래 걸리는 일은 업무분담과 협업을 통해 시간을 단축했으며 일주일에 한번 진행 상황을 확인하며 필요한 경우 일정을 조율하고 계획에 맞추어 단계별로 업무를 해결해 나갔습니다. 그 결과, “취업특강” 강연프로그램을 차질 없이 진행할 수 있었고 동아리는 상하반기 결산에서 우수활동 동아리로 선정될 수 있었고 이 경험을 통해 어려움 속에서도 동료들과 협업을 통해 돌파구를 찾을 수 있는 능력을 기를 수 있었습니다. Q4) 가장 어려웠던 경험이나 일(과업)을 성공적으로 해결했던 상황에 대해 절차, 방법, 최종결과를 기술해 주세요. (문제해결능력) A4) 극심한 소외와 빈곤 문제를 앓고 있는 지역사회를 접근단위로 ‘숨 쉬는 공동체’를 만들기 위해 주민들의 자발적 참여를 유도해내기란 쉽지 않았습니다. 이에 대해 팀원들과 회의를 통해 지속가능한 해결책을 발굴하기 위해서 주민이 주체가 되어 빈곤과 소외를 극복하는 방안을 모색했으나 주민의 자발적인 참여를 유도하기란 생각보다 쉽지 않았습니다. 하지만, 팀원들과 끊임없이 브레인스토밍을 실행한 끝에 주민들이 한자리에 모임과 동시에 수익을 창출해낼 수 있는 마을장터를 기획했습니다. 이를 실행하기 위해, 주민들의 관심과 참여를 촉진하기 위해 홍보물을 제작하여 주민들을 직접 찾아나섰고 프로젝트의 목적과 기대효과를 전달하는 과정에서 파악된 욕구를 반영하여 단계별로 프로젝트를 수정해나갔습니다. 그 결과, 마을장터는 성공적으로 진행되었고 주민 간의 교류는 물론 지역상인의 수익창출을 통한 지역경제 활성화에 기여할 수 있었습니다.\n"
     ]
    },
    {
     "name": "stdin",
     "output_type": "stream",
     "text": [
      "Correct ?  n\n"
     ]
    },
    {
     "name": "stdout",
     "output_type": "stream",
     "text": [
      "\n"
     ]
    },
    {
     "name": "stdin",
     "output_type": "stream",
     "text": [
      "ENTER Question :  최근 5년 동안에 귀하가 성취한 일 중에서 가장 자랑할 만한 것은 무엇입니까? 그것을 성취하기 위해 귀하는 어떤 일을 했습니까?\n",
      "ENTER Answer :  한국노인인력개발원에서의 서포터즈 활동은 사회복지학도로서 노인복지에 대한 관심을 열정으로 성장하게끔 했던 사례입니다. 고령화 시대에 접어든 대한민국, 이 시기를 역동의 기회로 삼아 노인의 사회참여는 최고의 노인복지로 인식되고 있습니다. 평소에 노인복지와 노인일자리에 관심이 많았고 2017년도 한국노인인력개발원 서포터즈 1기로서 연령주의라는 편견에 맞서 어려움을 겪고 있는 시니어의 취업 인식개선을 위해 지속가능한 노인일자리 활성화를 위해 힘쓰고 있는 노인복지관과 시니어클럽, 고령친화기업에 방문하여 기관 실무자와 이용자들을 대상으로 진행한 인터뷰를 토대로 시니어 구직 프로세스 등을 홍보하고 긍정적인 인식을 확산시키는 다양한 On-Offline 활동을 진행하면서 노인인력개발에 대한 관심은 곧 열정으로 성장하게 되었습니다. 결국, 이러한 모습은 서포터즈 활동의 성공적인 모델로 채택되어 활동우수상 수상이라는 결실을 맺음으로 노력은 결코 배신하지 않는다는 것을 가슴 속에 다시금 되새길 수 있었습니다.\n",
      "ENTER Question :  예상하지 못했던 문제로 인해 계획대로 일이 진행되지 않았을 때, 책임감을 가지고 적극적으로 끝까지 업무를 수행해내어 성공적으로 마무리했던 경험이 있으면 서술해 주세요.\n",
      "ENTER Answer :  사회복지현장실습 팀장으로서 기업 및 사업체를 대상으로 진행한 후원개발은 책임감과 끈기를 통해 이룬 좋은 경험입니다. 후원금은 사회복지 사업 예산의 상당부분을 차지하고 있을 만큼 꼭 필요한 요소로 지역사회 내 여러 사업장을 방문하여 후원개발을 시도하였으나 “나도 힘든데, 누굴 도와요” 하는 반응으로 많은 어려움을 겪었습니다. 따라서, 효과적인 후원개발을 위해 여러 사업장을 방문하여 보다 많은 후원개발에 목표를 두는 것이 아닌 한 곳 또는 두 곳의 사업장에 지속적으로 방문하고 대화를 시도하여 후원개발을 시도하는 아이디어를 고안했습니다. 일주일에 세 번 간격으로 매장을 집중적으로 방문하여 후원을 통해 사회 문제를 해결과 사회적 책임을 다하고 있는 매장의 긍정적 이미지를 제고할 수 있다는 매력을 적극적으로 전달하였습니다. 사업주께서는 학생들의 열정과 끈기를 봐서라도 이 후원에 참여하겠다는 의사를 밝혀주시었고 끝내 사업장 두 곳을 대상으로 후원을개발하는 결실을 맺을 수 있었습니다.\n",
      "ENTER Question :  자신이 지원한 분야에 대하여 직무 수행능력을 갖추기 위한 노력과 이를 통해 갖추게 된 능력을 기술해 주세요.\n",
      "ENTER Answer :  취업동아리에서 준비했던 “취업특강” 행사는 팀원들과 협업을 통해 시간과 자원을 효율적으로 활용할 수 있는 방법을 알려주었습니다. 동아리를 운영하던 중 학과로부터 갑작스럽게 취업 강연 프로그램을 진행해달라는 부탁을 받았습니다. 제한된 시간과 자원을 효율적으로 사용하기 위해 다음과 같은 방법을 활용하였습니다. 우선, 팀원들과 회의를 통해 전체 일정을 한눈에 볼 수 있는 계획표를 만들어 예상 소요시간과 우선순위를 파악하였습니다. 다음으로, 행사에 투입되는 예산을 미리 책정하고 시간이 오래 걸리는 일은 업무분담과 협업을 통해 시간을 단축했으며 일주일에 한번 진행 상황을 확인하며 필요한 경우 일정을 조율하고 계획에 맞추어 단계별로 업무를 해결해 나갔습니다. 그 결과, “취업특강” 강연프로그램을 차질 없이 진행할 수 있었고 동아리는 상하반기 결산에서 우수활동 동아리로 선정될 수 있었고 이 경험을 통해 어려움 속에서도 동료들과 협업을 통해 돌파구를 찾을 수 있는 능력을 기를 수 있었습니다.\n",
      "ENTER Question :  가장 어려웠던 경험이나 일(과업)을 성공적으로 해결했던 상황에 대해 절차, 방법, 최종결과를 기술해 주세요.\n",
      "ENTER Answer :  극심한 소외와 빈곤 문제를 앓고 있는 지역사회를 접근단위로 ‘숨 쉬는 공동체’를 만들기 위해 주민들의 자발적 참여를 유도해내기란 쉽지 않았습니다. 이에 대해 팀원들과 회의를 통해 지속가능한 해결책을 발굴하기 위해서 주민이 주체가 되어 빈곤과 소외를 극복하는 방안을 모색했으나 주민의 자발적인 참여를 유도하기란 생각보다 쉽지 않았습니다. 하지만, 팀원들과 끊임없이 브레인스토밍을 실행한 끝에 주민들이 한자리에 모임과 동시에 수익을 창출해낼 수 있는 마을장터를 기획했습니다. 이를 실행하기 위해, 주민들의 관심과 참여를 촉진하기 위해 홍보물을 제작하여 주민들을 직접 찾아나섰고 프로젝트의 목적과 기대효과를 전달하는 과정에서 파악된 욕구를 반영하여 단계별로 프로젝트를 수정해나갔습니다. 그 결과, 마을장터는 성공적으로 진행되었고 주민 간의 교류는 물론 지역상인의 수익창출을 통한 지역경제 활성화에 기여할 수 있었습니다.\n",
      "ENTER Question :  n\n"
     ]
    },
    {
     "name": "stdout",
     "output_type": "stream",
     "text": [
      "\n",
      "\n",
      "Q :  본인이 회사를 선택할 때의 기준은 무엇이며, 왜 현대 자동차가 그 기준에 적합한지를 기술해 주십시오.   =>   안녕하십니까? 울산에서 자라고 울산에서 배우고 울산이 키워낸 대한민국의 인재 XXX 입니다. 저는 어릴적부터 스스로 고난과 역경을 이겨낸 인재라고 생각합니다. 어려운 집안 형편과 열악한 가정환경으로 인해 또래 친구들보다 상대적으로 긴 대학생활을 보내면서 수 많은 시행착오를 겪었지만 거기에 머무르지 않고, 그것을 통해서 새로운 경험과 개선점을 찾으려는 노력을 결코 게을리 하지 않았습니다. ‘배고파도 꿈을 먹고 사는 적극적인 열정’과 ‘끊임없이 노력하는 태도와 성실함’은 저의 최대 장점입니다. 금번 ‘현대자동차 18년도 상반기 모집에 대해 익히 들어 알고 있었기에 ‘이번기회가 찬스다!’ 생각하여 과감하게 지원합니다. 이번 기회가 저에게 있는 무한한 잠재력과 제 역량을 확인 받고자 하며 저의 무궁무진한 아이디어와 의견들을 꼭 현대자동차 그룹과 앞으로 대한민국을 넘어서 세계 1등의 기업체가 되기위한 현대자동차의 큰 도움이 되는 날개 역할을 하고 싶습니다. 한 획을 그을 수 있는 멋진 인재 XXX입니다 저에게도 기회를 주십시오!\n"
     ]
    },
    {
     "name": "stdin",
     "output_type": "stream",
     "text": [
      "Correct ?  y\n"
     ]
    },
    {
     "name": "stdout",
     "output_type": "stream",
     "text": [
      "\n",
      "\n",
      "Q :  희망직무를 지원한 이유와 직무를 수행하기 위해 어떠한 노력이나 경험을 하였는지 구체적으로 작성해주시기 바랍니다.   =>   A: 대학교를 입학한 이후 꿈을 이루기 위해 전공에 대해 알아보며 저 자신을 발전시키기 위해 공부하고 관련 경험을 쌓으려 노력해왔습니다. 학교에 진학한 이후 여러 분야를 경험해 보는 것이 좋다는 생각이 들어서 최대한 학부에서 c, c ++, Java, JSP, 웹페이지 구축 등의 여러 수업을 들었습니다. 그러나 학년이 올라가면서 수업만 들어서는 역량을 쌓는 것으로 생각하기에는 좀 부족하다고 생각이 들었습니다. 그래서 아르바이트와 봉사 등을 최대한 직무와 관련된 것들을 구해서 들었습니다. 특히 직무와 관련 있는 회사에서 퍼블리싱 아르바이트 또는 QA 및 웹 개발 업무 등 직무를 체험했고, 한국 산업기술 R&D대전에서 세코닉스의 자율주행 기술 소프트웨어를 체험하는 등 운영 서포터즈로 활동하였습니다.\n"
     ]
    },
    {
     "name": "stdin",
     "output_type": "stream",
     "text": [
      "Correct ?  y\n"
     ]
    },
    {
     "name": "stdout",
     "output_type": "stream",
     "text": [
      "\n",
      "\n",
      "Q :  \"what makes you move?\" 무엇이 당신을 움직이게 하는지 기술해 주세요.   =>   [현재에 최선을 다하는 책임감과 미래에 대한 기대감] 저는 제 자신의 밝은 미래에 대한 기대감과 그 미래를향해 나아가는 현실에 대한 책임감이 저를 움직인다고 생각합니다. 이러한 생각을 가지게 된 것은 학창시절의작은 변화에서 시작됐습니다. 중학생 시절 저는 여러 가지로 많이 부족한 아이였습니다. 정말 평범했던 아이였지만, 저는 다른 아이들보다 발달도 더딜 뿐만아니라 학습능력, 운동능력 등 모든 부분에서 부족하다고 생각했습니다.그런 부정적 생각이 저를 더 작게 만들고 어두운 미래만을 보여줬었습니다. 더 나아지려는노력조차 하지 않았습니다. 하지만 고등학교로 진학 후 선생님의 진심 어린 조언을 듣고 밝을 미래를 생각하기시작했습니다. 나는 해낼 수 있다고 생각하며 자신감을 불어넣고 밝은 미래를 기대하며 현재 내가 해야할 일들을 해나가기 시작했습니다. 그러면서 제 삶의 태도가 정반대로 바뀌었습니다. 현실에서의 책임감 있는 한걸음 한걸음과 밝은 미래에 대한 기대감만 있다면 그 미래는 현실로 다가온다는 것을알게 되었습니다. 삶의 태도의 변화로 제 성적은 중학생일 때와 비교할 수 없을 정도로 좋아졌고, 자신감을 얻은 저는 꿈꾸던 유학의 길에 올라 원하던 대학을 졸업하는 결과까지 얻어낼 수 있었습니다. 이제 저는 더 크고 밝은 미래를 꿈꾸려 합니다. 사람들을 보다 안전하게 목적지까지 바래다 줄 수 있는 다리가 되고자 합니다.그리고 그 미래를 현대자동차와 함께 꾸고 싶습니다. [사람이 할 수 없는 일은 없다] 저는 사람이 할 수 없는 일은 존재하지 않는다고생각합니다. 어렵거나, 현재 할 수 없을 수는 있지만, 목표를 가지고 한걸음 한걸음 걸어간다면 사람은 결국 그곳에 도달한다고 생각합니다. 현대자동차에 입사하여 일을 하다 난관에 봉착하더라도, 이 마음 되새기며목표를 잊지 않고 한걸음 한걸음 책임을 다하며 걸어나가겠습니다.\n",
      "Q :  본인이 회사를 선택할 때의 기준은 무엇이며, 왜 현대 자동차가 그 기준에 적합한지를 기술해 주십시오.   =>   [운동에너지는 같은 방향으로 작용할 때 더 커진다] 회사를 선택할 때 가장 중요하게 생각하는 것은 그회사가 걸어가는 방향과 걸어가는 과정이라고 생각합니다. 걸어가는 방향에는 회사의 미래가 있고, 걸어가는 과정에는 성장하는 현재가 있기 때문입니다. 또한 그 나아가는방향이 제가 나아가고자 하는 방향과 같아야 옳은 길로 갈 수 있고, 더 큰 시너지를 낼 수 있을 뿐만아니라, 그 과정에서 저 또한 성장할 수 있기 때문입니다. [What makes you move?] 자동차산업은 현재 자가주행, Hybrid, 전기 차 등 전례 없던 변화를 맞이하고 있습니다. 이런급변하는 산업에서 시장을 선점하기 위해서는 미래형 자동차에 대한 끊임없는 생각과 세계 시장이 원하는 것이 무엇인지 알고 그 방향으로 나아가는데있다고 생각합니다. 현재 현대자동차는 아이오닉과 같은 세계적 경쟁력을 가진 hybrid 자동차를 개발했을 뿐 아니라 일렉트릭 모델까지 개발해 전기 차 개발에 중심이 되고 있습니다. 당장의 이익보다 미래지향적 개발에 앞서는 현대자동차를 보면 많이 만들어 많이 파는 회사가 아닌 제대로 된 하나를만들어 더욱 사랑 받고자 하는 현대의 마음을 볼 수 있습니다. 그리고 이 모든 것이 현대자동차란 기업이바라보는 방향과, 그 안에 소속되어있는 사람들이 나아가려는 방향이 같기 때문에 가능한 것이라고 생각합니다. 현대자동차의 동력원인 인재 하나하나가 자신의 위치에서 맡은 바 최선을 다하고 열정적으로 임하고 있기 때문에현대자동차는 앞으로 더 밝은 미래로 나아갈 것임을 저는 확신합니다. 저는 밝은 미래를 상상하며 현실에책임을 다하는 사람입니다. 현대자동차의 밝은 미래에 제가 가고자 하는 길이 보이고 제 밝은 미래가 보입니다. 현대자동차의 인재, 동력원이 되어 현대자동차와 함께 세상의 다리가되어 더 나은 미래로 나아가고 싶습니다.\n",
      "Q :  현대자동차 해당 직무에 지원하게 된 이유와 선택 직무에 본인이 적합하다고 판단할 수 있는 이유 및 근거를 제시해 주십시오.   =>   [One in Management of Technology] 급변하는 자동차 시장으로인해 현시대엔 많은 기술들이 쏟아져 나오고 있습니다. 하지만 이 많은 진보적인 기술들도 제대로 활용, 보호되지 못한다면 무용지물이나 다름이 없습니다. 이들을 하나로 융화하여더 발전적인 하나의 자동차를 만들고, 그 하나의 자동차에서 또 다른 문제점은 없나 검토함으로써 새로운발전 가능성을 찾아내고 보완할 수 있다고 생각합니다. 이것이 세분화된 기술 개발 또한 중요하지만 거시적플랜을 통하여 진보된 하나를 만드는 것이 더 중요하다고 생각하는 이유입니다. 저는 대학교 재학중 낡은 컨테이너를 이용해 모듈형식의 집을 짓는 프로젝트에 참여한 적이 있습니다. 1년동안 진행되는큰 프로젝트였는데, 그 안에서 가장 크게 느꼈던 부분은 프로젝트 매니저의 능력에 따라 프로젝트의 성패에큰 영향을 준다는 것이었습니다. 매니저가 갈피를 잡지 못하면 아무리 좋은 정보가 있더라도 제대로 사용될수 없고 구성원들은 협력을 하지 못하며, 매니저가 확실한 가이드라인을 제공하면 적은 정보라도 제대로활용되고 구성원들 또한 제 일을 한다는 것을 느꼈습니다. 이러한 경험을 통해 기술경영 중 하나인 PM의 중요성을 알 수 있었습니다. 또한 평소에 지적재산권에 대한 관심이 많아 변리사 수험생활을 2년정도 경험해 보았습니다. 지적 재산권에 대한 공부를 통해서 IP(intellectualproperty)의 보호가 얼마나 중요하고 어려운 부분인지 인지하고 있습니다. 아직 기술경영 업무를접해본 적이 없어서 제가 이 직무를 잘할 수 있다고 '아직은' 말씀드릴수 없습니다. 하지만 기술경영에 대한 많은 관심을 가지고 있고, 이직무가 저에게 꼭 맞는 옷 일거라 생각하고 있습니다. 제게 기회를 주신다면 항상 배우는 자세로 임할것이며, 다른 분야의 사람들과 협력하여 프로젝트를 성공적으로 이끄는 현대자동차의 하나의 인재, 한 명의 프로젝트 매니저가 되겠습니다.\n"
     ]
    },
    {
     "name": "stdin",
     "output_type": "stream",
     "text": [
      "Correct ?  y\n"
     ]
    },
    {
     "name": "stdout",
     "output_type": "stream",
     "text": [
      "\n",
      "\n",
      "Q :  귀하가 지원한 직무는 무엇이며, 해당 직무에 관심을 갖게 된 계기와 이를 잘 수행할 수 있다고 생각하는 이유를 본인의 역량, 준비과정 및 관련 경험을 근거로 서술해 주십시오.   =>   제가 지원한 직무는 건축시공 분야입니다. 건축 관련 여러 분야의 수업을 들었지만 그 중에서 건축시공 수업이 가장 크게 와닿았습니다. 시공 이론 자체도 재밌을뿐더러 현장으로 견학을 간 적이 있는데, 배웠던 내용을 직접 눈으로 확인하니 흥미로웠고 관심이 가게 되었습니다. 저는 컴퓨터 소프트웨어인 CAD, 3D MAX, 프리미어를 다룰 줄 압니다. 전문적으로 배운 것은 아니지만, 과 소모임에서 교육받고 기본적인 도면설계, 모델링, 영상편집은 할 수 있습니다. 3명씩 1조를 이루어 작품 기획부터 결과물까지 만드는데 이 과정에서 컴퓨터 소프트웨어 프로그램이 많이 활용됩니다. 이를 바탕으로 과 내 건축작품전시회에서 2등의 성과를 낸 적이 있습니다. 저는 영상편집을 맡았고 팀원은 각각 도면설계와 모델링을 맡았습니다. 하지만 팀원은 처음 해보는 작업이었고 제가 프로그램 교육을 해주어 작품을 완성할 수 있었습니다. 이것은 분명 시공 현장에서 근무할때에도 큰 도움이 될 것이라고 생각합니다.\n",
      "Q :  귀하가 금호아시아나그룹(1지망회사)을 지원하게 된 동기에 대해 서술해 주십시오.   =>   금호아시아나그룹에 따뜻하고 훈훈한 느낌을 받았습니다. 작년 2월, 친구의 도움으로 티켓이 생겨 광화문 금호아트홀에 피아노 독주회 공연을 보러 간 적이 있습니다. 노경아 씨 피아노 독주회였는데, 친구가 그분과 친분이 있었습니다. 친구와 지인분이 대화를 나누는 와중에 친구는 그분과 저에게 인사를 시켜주었습니다. 평소 클래식에 관심이 없던 저에게 많은 이야기를 해주었습니다. 가장 기억에 남는 건 금호아트홀에 대해서 말씀하시며 금호아시아나그룹에 관한 이야기였습니다. 그것은 예전부터 클래식 분야에 많은 후원을 했었고, 문화와 예술적으로 인재 육성에도 힘썼다는 내용이었습니다. 저는 건축을 전공하였기에 딱딱하고 차가운 느낌의 건설회사라고 알고 있었지만 그 이후에 금호건설에 따뜻하고 훈훈한 느낌을 받았습니다. 금호아시아나그룹의 목표처럼 아름다운 기업이라는 말이 크게 와 닿았습니다. 이러한 진정성과 제가 지원하게 된 동기입니다. 꼭 금호건설에 입사해서 목표에 맞는 아름다운 사람이 되고 싶습니다.\n",
      "Q :  입사 후 10년 내 회사에서 이루고 싶은 목표는 무엇이며, 그것을 추구하는 이유와 이를 달성하기 위한 계획을 서술해 주십시오 .   =>   저는 금호건설이 글로벌 건설기업으로 도약하는 데에 이바지할 것입니다. 그 이유는 금호건설은 베트남에서 금호아시아나플라자 준공 후 활발한 사회공헌을 하고 있으며 국내 인천공항 및 관제탑 시공 참여와 아부다비 국제공항 관제탑 시공 등 많은 랜드마크를 건설하였습니다. 이를 달성하기 위해 2가지 계획이 있습니다. 첫째, 전공지식 및 다른 분야의 지식을 바탕으로 제가 맡은 바 역할을 책임 있게 해내겠습니다. 건설분야 특성상 여러 분야의 사람들과 협업을 하게 되는 일이 많습니다. 플랜트교육을 수료하면서 건축뿐만 아니라 기계, 전기, 토목, 화공 등 여러 분야의 기본적인 지식도 배울 수 있었습니다. 둘째, 외국어 역량을 키우는 데에 꾸준히 노력하겠습니다. 글로벌 기업으로 나아가는데 기반이 되는 것은 글로벌 인재라고 생각합니다. 그 인재가 되기 위해 업무 외 틈틈이 공부하여 외국어회화 능력을 기르겠습니다.\n",
      "Q :  자신의 윤리∙도덕적 신념을 지키기 위해 손해나 희생을 감수하고 일을 수행한 경험이 있다면 서술해 주십시오.   =>   건축공학 전공 수업 중 하나인 건설관리 수업 당시 있었던 경험입니다. 한 조당 4명 씩 컨테이너와 그 기능을 활용하여 자유롭게 만드는 것을 목표로 프로젝트가 있었습니다. 그 중 저는 모델링 부분을 맡기로 하였습니다. 모델링의 경우 CAD작업과 3D MAX작업이 병행되어야 하고 평소 간단한 작업들만 해왔기 때문에 실제 컨테이너를 이용한 건물을 수행하는 것은 쉽지 않았습니다. 직접 모델링 하기에는 대학생으로 실력의 한계가 있다는 여론이 생겼고, 대학원 선배로부터 자료를 받아 유사한 형태로 진행해 보자라는 말이 나왔습니다. 당시 윤리적으로 고민이 많았습니다. 결국 고민 끝에 제가 직접 도전해 보는 것이 의미 있다고 판단했습니다. 모델링의 전반적인 것에 대해서 제 나름대로는 굉장히 많은 공부를 할 수 있었습니다. 결과적으로 우리 팀은 컨테이너 활용을 창의적으로 기능적으로 설계했다는 교수님의 칭찬을 받았습니다. 원칙을 지키는 것이 효율적인 방법임을 깨달았습니다.\n",
      "Q :  도전적인 목표를 정하고 열정적으로 일을 추진했던 경험과 관련 추진과정에서 겪은 어려움, 이를 극복한 방법, 그리고 그 일의 결과를 중심으로 서술해 주십시오.   =>   저는 'FC REMIT'라는 축구팀에 속해있습니다. 20살 때부터 지금까지 오랫동안 팀에서 스트라이커 포지션에서 뛰고 있습니다. 올해 1월 축구를 하다가 무릎 전방 십자인대 파열이 되었습니다. 병원에서는 전처럼 다시 축구를 하려면 수술 후 최소한 3개월 정도는 매일 꾸준히 재활훈련을 해야 한다고 했습니다. 어릴 적부터 축구를 즐겼었고 제 삶의 활력을 주는 운동이었기에 동기부여가 강하게 들었습니다. 따라서 저는 수술 후 2개월 안에 축구를 하겠다고 목표를 세웠습니다. 수술 후 2주 뒤 병원에서 퇴원하였고 곧바로 재활센터를 다녔습니다. 매일 2시간씩 재활훈련을 하였습니다. 수술 후 움직이지 않은 탓에 근육량도 빠졌기 때문에 더욱 힘들었습니다. 특히 무릎을 굽히는 것은 정말 고통이었습니다. 그냥 포기하고 싶은 생각도 많이 들었습니다. 그때마다 재활훈련 선생님도 많이 도와주셨습니다. 결국, 수술 후 2개월 뒤 경기를 뛸 수 있을 정도로 컨디션을 끌어올렸고 그 성취감은 정말 대단했습니다.\n"
     ]
    },
    {
     "name": "stdin",
     "output_type": "stream",
     "text": [
      "Correct ?  y\n"
     ]
    },
    {
     "name": "stdout",
     "output_type": "stream",
     "text": [
      "\n",
      "\n",
      "Q :  자발적으로 최고 수준의 목표를 세우고 끈질기게 성취한 경험에 대해 서술해 주십시오. (본인이 설정한 목표/ 목표의 수립과정/ 처음에 생각했던 목표 달성 가능성/ 수행과정에서 부딪힌 장애물 및그 때의 감정(생각)/ 목표 달성을 위한 구체적 노력/ 실제 결과/ 경험의 진실성을 증명할 수 있는 근거가 잘 드러나도록기술)   =>   17년 5월, \"SKtelecom\"과 4세대 NUGU Device 컨셉을도출하는 프로젝트에서 Project Manager로서 참여하게 되었습니다. 해당 프로젝트 경험을 통해 배운 `시간 관리`와 `소통` 능력을 바탕으로 \"SK telecom\"에서 구성원들과의 협력을 통해 업무를 효율적으로 관리할 수 있도록 기여하고싶습니다. [목표 설정 ; 중간미팅까지Concept 도출] 킥오프 미팅결과, 소비자 조사를 통한 19년 이후 출시될 인공지능 가정용소셜로봇（4세대 NUGU）의 컨셉을 도출하는 것으로 프로젝트의내용이 정해졌습니다. 컨셉을 도출하더라도 이에 대한 소비자들의 반응이 없으면 Back-up이 되지 않으므로 컨셉을 도출하는 것뿐만 아니라 추가적인 설문조사가 불가피하다고 판단했습니다. 따라서 `중간미팅 때까지 컨셉을 도출`하고 `이후 최종발표까지 설문조사를 통해 가설을 검증`하는 것을 목표로 설정했습니다. 중간미팅까지 10일의 시간밖에 없었으며, 팀원들이 모두 학기 중이었기 때문에 목표를달성하는 것이 쉽지 않아 보였습니다. [목표달성 과정에서의 배움 ; 시간 관리와 소통] 문제는 10일이라는 제한된 시간이라는 점, 그중에 5일이 공휴일이어서 클라이언트와 연락하기 힘들다는 점이었습니다. 이러한문제를 해결하기 위해 PM으로서 팀원들에게 공휴일 5일 중에 3일만 모여서 일하되 3일동안은 하루종일 일하는 것에 대해 양해를구하였습니다. 팀원들은 이러한 사정을 이해해주었습니다. 또한 10일동안 매일 새벽 늦은 시간에 팀원들에게 업무를 분배해주었고, 그들은아침에 일어나서 바로 업무를 하였으므로 시간을 효율적으로 관리할 수 있었습니다. 그리고 팀원들과 논의된결과와 400여 명을 대상으로 진행한 설문내용을 클라이언트께 보고하였으며, 공휴일까지도 프로젝트의 진행 상황을 공유（소통）하였습니다. 이러한노력을 통해 중간미팅까지 4세대 NUGU의 두가지 컨셉을전달할 수 있었으며, 이후에 설문조사를 통해 최종발표까지 잘 마무리할 수 있었습니다. 위에기술한 경험 외 추가적으로 설명하거나 더 보여주고 싶으신 경험이 있다면 서술해 주십시오 (선택사항) 15년 가을, `OR확정론` 수업에서 1달동안 반도체 공정 생산계획에 대한 기말 조 과제를 수행하게 되었습니다. 조과제경험을 바탕으로 목표를 설정하고, 성취하는 과정에서 지속적으로 배우려는 열정을 통해 \"SK telecom\"이 4차산업 혁명의 급격한변화 속에서 선도적인 역할을 할 수 있도록 기여하고 싶습니다. [목표 설정 ; 조원들에게 피해 가지 않도록] 군대에서 산업공학과를 복수전공하기로 결심하여, 복학과 동시에 `OR확정론` 전공수업을 수강하게 되었습니다. 1달 동안 기말 조 과제를 수행해야 하는데, 비전공자로서 전공지식이다른 조원들에 비해 부족하다는 것이 문제였습니다. 따라서 저는 무슨 일이 있어도 조모임에 성실히 참여하고, 모르는 것이 있으면 찾아보고 물어봄으로써 조원들에게 피해가 가지 않도록 하는 것을 목표로 설정하였습니다. 처음에 WIP（재공）라는 기본적인 용어부터 반도체 공정이 어떤 식으로작동하는지도 잘 모르는 상태였기 때문에 주말도 없이 스스로 학습하고 따라가려고 노력하였습니 다. [목표 달성 및 결과 ; 우수 조로 선정되다] 조 과제 제출 전날까지, `목표생산량을 달성하는 과정을엑셀로 나타내는 문제`를 해결하지 못해서 조원들 모두 실습실에 모여서 밤을 새우게 되었습니다. 4명이 업무를 분담하였고, 저를 포함한 2명이 이 문제를 맡게 되었습니다. 새벽 3시까지 계속 고민한 결과, 애초에 이 공정에서는 목표생산량 500개를 달성할 수 없다는 사실을 발견하게 되었습니다. 즉 316번 공정에서 지속적으로 재공이 쌓이는 병목현상을 확인하였습니다. 프로젝트마지막날 새벽 늦은 시간까지 연구실에 계시는 조교님을 찾아가서 병목현상 문제를 얘기하였고, 조교님도문제 출제과정에서 이 부분을 생각 못 했던 실수를 인정하셨습니다. 결과적으로 기말 프로젝트에서 59.5점/60점을 받아 우수 조로 선정되었고, `OR확정론` 수업에서 높은 성적을 받을 수 있었습니다. 따라서 설정했던 목표를 달성하기 위해 열정적으로 임함으로써 추가적인 성과를 달성할 수 있었습니다.\n",
      "Q :  새로운 것을 접목하거나 남다른 아이디어를 통해 문제를 개선했던 경험에 대해 서술해 주십시오.   =>   (기존 방식과 본인이 시도한 방식의 차이/ 새로운 시도를 통해하게 된 계기/ 새로운 시도를 했을 때의 주변 반응/ 새로운시도를 위해 감수해야 했던 점/ 구체적인 실행과정 및 결과/ 경험의진실성을 증명할 수 있는 근거가 잘 드러나도록 기술) `논리적인 사고`와 `창의적인 아이디어`를 통해 엔젤리너스 매장의 매출을 개선하는 데기여했던 경험이 있습니다. 이러한 능력을 통해 누구나 필요로하는NUGU의 서비스를 기획함으로써 \"SK telecom\"이 2020년에 100＆100을달성할 수 있도록 기여하고 싶습니다. [문제에 대한 인식] 15년 전역 후 복학하기 전 여름방학 때, 선릉역주변의 엔젤리너스에서 아르바이트를 했습니다. 1달 정도 일을 하면서 해당 매장의 두가지 문제점을 인식하게되었습니다. 첫째는 회사 주변에 위치해 있으므로 평일 점심 및 저녁 시간 이후에는 고객이 많아 자리가없다는 점이며, 둘째는 주말에 회사원들이 오지 않아 빈자리가 많다는 점이었습니다. 커피가 비싼 이유는 자릿값 때문이지만, 평일에 사람들이 많이 오는시간에는 자리가 너무 부족하여 Take Out할 수밖에 없었습니다. 즉주말에는 사람이 적으며 평일에는 사람이 너무 많다는 것이 문제라고 인식하게 되었습니다. [개선 아이디어 제시 및 결과] 그러던 어느 토요일, 점장님과함께 마감 작업을 한 뒤에 얘기할 기회가 있었습니다. 조심스럽게 `제`가 인지한 문제를 얘기하였습니다. 이와 더불어 매장 옆의 공터에 테이블을설치하면 좋겠다고 말씀을 드렸습니다. 왜냐하면, 평일에는사람들이 자리가 없어서 문제이므로 자리를 늘리는 효과를 가져올 수 있기 때문입니다. 또한 주말의 경우직장인 고객은 거의 없고 지나가다가 들어오는 고객이 많은데, 사람들이 매장 밖에서 디저트를 먹거나 커피를마시고 있으면 인지도를 높여 모객효과를 거둘 수 있을 것이기 때문입니다. 이를 받아들이기 위해서는 기존에없던 테이블을 새로 구매해서 설치해야 한다는 점에서 제안을 수용하기 힘들 것이라 생각했습니다. 그러나점장님께서는 오히려 아르바이트 직원의 사소한 의견도 흘려듣지 않고 실제로 테이블을 매장 옆 공터에 설치하셨습니다.그 이후 많은 고객들이 외부의 테이블을 이용하였으며, 고객만족도를 높임과 동시에 매장의매출도 증가하게 되었습니다. 위에기술한 경험 외 추가적으로 설명하거나 더 보여주고 싶으신 경험이 있다면 서술해 주십시오 (선택사항) `창의적인 신사업 아이템 제시`를 통해서 오리지날 스푼（프렌차이즈 요식업 회사）의 대표님으로부터창업제안을 받았던 경험이 있습니다. NUGU의 서비스에 대한 지속적인 고민을 통해 새로운 아이디어를제시함으로써 \"SK telecom\"이 AI음성인식 Device의 선도주자로서 굳건히 유지할 수 있도록 기여하고 싶습니다. [세션의 진행 과정] 17년 6월, 2주 동안 새로운 요식업 관련 사업 아이템을제안해달라는 내용의 세션을 진행하였고, 최종발표에 오리지날 스푼 대표님께서 직접 와서 듣고 싶다고 말씀하셨습니다. 3팀이 Competition 형태로 진행하였으며, 저희 팀은 시장의 트랜드에 부합하고, 새로운 기술을 도입함으로써시장을 선도할 수 있는 아이템을 선정하는 것을 목표로 하였습니다. 대부분의 아이템이 현실성이 없거나, 이미 배달의 민족이나 식권 대장 등 기존 시장에 진출해있는 기업이 이미 있었습니다. 그럼에도 불구하고 모든 팀원들이 지속적으로 찾고 고민한 결과, 1주차 주말에 음식점에서 남은 식자재를 자취하는 1인가구에 배달해주는 사업모델을 찾아내었습니다. 그러나 오리지날 스푼이 배달에 대한 인프라가 없다는 점이 문제가 되었고 다시 고민을 하게 되었습니다. `저`는 배달을 할 수 없다면 1인가구를 타게팅하기 힘들 것이며, 식자재만 한정해서 연결해주기에는 시장이 너무 작으므로 타게팅 고객을늘리고 완제품에 대해서도 연결해주는 방안을 생각하였습니다. 결국 뷔페,빵, 스시 등에서는 음식이 남을 수밖에 없다는 점에 착안하여, 뷔페의 남는 음식을 소비자들과 연결시켜 주는 플렛폼 사업 아이템을 떠올려서 팀원들에게 전달하였습니다. [신사업 아이템 제시 및 결과] 최근 1년 사이에 잉여 음식을 소비자들과 연결해주는 어플이미국과 영국을 중심으로 급격히 증가하고 있는 사실을 확인할 수 있었으며, 이러한 내용과 더불어 뷔페의남는 음식을 소비자들과 연결해주는 플랫폼 사업 아이템을 최종발표에서 대표님께 전달하였습니다. 발표를들은 대표님께서는 국내에는 없으나 해외에서 급격히 성장하고 있다는 사실을 보고 특히 관심을 가지셨으며, 1달뒤에 앤젤투자자로서 투자할 테니, 창업할 생각이 없냐고 PM을통해서 연락이 오셨습니다. 학업과 병행하기 힘들며 다른 팀원들의 학회활동과 겹친다는 점에서 거절은 하였으나, 제 아이디어가 누군가에게 인정을 받았던 좋은 경험이었습니다.\n",
      "Q :  지원 분야와 관련하여 특정 영역의 전문성을 키우기 위해 꾸준히 노력한 경험에 대해 서술해 주십시오.   =>   (전문성의 구체적인 영역(예.통계분석)/ 전문성을 높이기 위한 학습 과정/ 전문성 획득을위해 투입한 시간 및 방법/ 습득한 지식 및 기술을 실전적으로 적용해 본 사례/ 전문성을 객관적으로 확인한 경험/ 전문성 향상을 위해 교류하고 있는네트워크/ 경험의 진실성을 증명할 수 있는 근거가 잘 드러나도록 기술) `서비스 기획`업무에 대한 전문성은 소비자의 목소리를 듣고 기술의동향을 파악하며, 끊임없이 고민하는 것으로부터 나옵니다.\"SK telecom\"과 2번의 AI사업관련 프로젝트를 진행했으며, 세미나에 참석했습니다. 미래의 AI 음성인식 Device는 모든가정에서 `편의`를 높일 수 있는 Home IoT와 연계될 것이며, 소비자들의 생활 속에 자연스럽게녹아있도록 `감성`적인 방향으로 나아갈 것입니다. [NUGU 서비스 기획 관련 꾸준한 노력 ; 프로젝트 및 세미나 참여] `Amazon의 Alexa 조사를 통한NUGU의 BM 개발 프로젝트（16년 10월）`, `소비자 조사를 통한4세대 NUGU의 Concept 도출 프로젝트（17년 5월）` 2번의 프로젝트를참여하는 동안 최근 1년 내의 AI사업의 현황과 소비자들의반응에 대한 모든 조사를 했습니다. 이를 통해 4차산업혁명으로인한 급격한 변화를 확인할 수 있었으며, 음성 기반의 VUI로변화하는 흐름을 눈으로 확인할 수 있었습니다. 또한\"SK`s Picture of AI World\" 세미나（17년 4월）에 참석하여 SK가 추구하는AI 방향성이 `모든 Device를 연결해 플랫폼생태계를 만드는 것`이라는 사실을 들었습니다. 경품추첨을통해 받은 NUGU를 이용하면서, 클라우드 기반의 NUGU제품이 케즘을 지나 대중을 잡기 위한 서비스의 다음과 같은 방향성에 대해 생각해보았습니다. [미래 NUGU 서비스 기획의 방향성 ; 편의 및 감성] 가정용 인공지능음성인식 Device는 결국 가정용품들과 연결되어 가정에서 일어나는 모든 귀찮은 일들을 음성을 통해처리할 수 있도록 `편의`를 도모해야 합니다. 뿐만 아니라 고객들이 이용함에 있어서 기계와 대화하고 있다는 딱딱한 느낌이 들지 않도록 `감성`적으로 접근해야 되며, 장기적으로는 Big Data 기반으로 고객에게 맞춤형 서비스를 제공해야 합니다. 4차산업혁명의 핵심인 AI의 방향성을 고민하는 일에 지속적인 `열정`을 갖고 임하겠습니다. 위에기술한 경험 외 추가적으로 설명하거나 더 보여주고 싶으신 경험이 있다면 서술해 주십시오 (선택사항) 지원분야와 직접적으로 관련된 전문성을 위한 노력은 아니지만, 두가지 부족한 부분을 채우고자 꾸준히 노력한 경험이 있습니다. 이러한 약점을 극복했던 경험을 토대로 부족한점은 꾸준히 채워나가고 발전시키면서 \"SK telecom\"과 더불어 발전해나가고 싶습니다. [꾸준한 노력을 통해 약점을 극복하다 ; 경제지식과 발표능력] 2학년 전공수업 시간에 대학시절 약점극복을 통해 기회를 잡을 수 있었던 교수님의 말씀을 듣고 4년대학생활의 목표를 `약점극복`으로 설정했습니다. 이공계 학생으로서 사회과학에 대한 지식이 없어서 다양한 전공자들과 깊은 대화가 힘들다는 어려움이 있었습니다. 이러한 약점을 극복하고자 자발적으로 미시, 거시 경제학 수업을 수강했습니다. 모든 수업내용을 받아썼고, 꾸준히 복습했습니다. 수업에서 배운 지식을 토대로 경제독서토론학회（P.R.E.B）에 들어가경제 관련 도서를 읽고, 사회적 이슈에 관해 토론을 하면서 경제뿐만 아니라 사회, 정치와 관련 현안도 알게 되었습니다. 또한 25년 동안 한 번도 앞에서 발표해본 적이 없었기때문에 수업시간에 처음 프레젠테이션을 했을 때, 했던 말을 반복하고 천장을 보는 등 실수를 했습니다. 발표의 어려움을 극복하기 위해 발표스터디를 진행했고, 실전경영학회（C.STAGE）에 들어가서 활동을 하면서 프레젠테이션 피드백을 받았습니다. 활동을하면서 4번의 발표 기회가 있었으며, 피드백을 반영하여 매번나아지는 모습을 확인할 수 있었습니다.\n",
      "Q :  서비스 기획 직무에는 Mobile Application UI/UX 기획, NUI 기반 서비스 기획 등의 분야가 있습니다. 본인의 역량과 가장적합한 분야에 대해서 해당 분야와 관련된 프로젝트 / 공모전 / 대회 / 논문 / 연구 / 학습및 기타 활동에 참여했던 경험과 역량향상을 위한 본인의 노력에 대해 서술해 주십시오.   =>   - 서비스 기획 직무의 전문성 획득을 위해 어떠한 경험 및 노력을 했는지 구체적으로 작성 - 경험 및 노력 결과와 그 과정에서 느낀 점에 대해 구체적으로 작성 - 필요 서비스 기획에 관련된 과제 / 프로젝트 관련 자료를 upload(선택적, 최대 5개) [참고] NUI : Natural User Interface SK telecom과 함께 진행했던 프로젝트에서 NUGU 서비스 이용자들의 이야기를 듣고, 차세대 NUGU 제품의 잠재시장에 대한 소비자들의 Needs를 파악하기 위한노력을 하였습니다. 이러한 경험으로부터 배운 소비자의 목소리에 귀 기울이는 `소통`능력을 통해 \"SKtelecom\"에서 `NUI기반의 서비스를 기획하는 일`을 함께하고 싶습니다. [소비자의 불편한 점（PainPoint）을 듣다] 16년 10월, 17년 5월 SK telecom과의 2번의NUGU 프로젝트 동안 SNS, 커뮤니티,Youtube, 소비자조사를 통해 인공지능 음성인식 Device인 NUGU에 대한 이용자들의 반응을 확인할 수 있었습니다. Wi-Fi문제와같은 기술적인 부분과 더불어 목소리와 내용의 다양화와 같은 기능에 대한 시장의 요구를 확인하였습니다. 이러한사항을 반영하여 \"SK telecom\"에서 SM과협약을 통한 목소리 다양화, Alexa와 같이 오픈 플랫폼화하려는 방향성을 통해 해결해 나가고 있는것을 확인하였습니다. 서비스에 대한 이용자의 목소리를 지속적으로 `경청`하고 받아들일 수 있는 능력이 필요하며, 프로젝트 과정에서 다양한 채널을 통해 이러한 역량을 향상시킬 수 있었습니다. [잠재 소비자의 필요한 점（Needs）을묻다] 소비자 조사 당시에 잠재 시장에 대한 이해가 부족한 인터뷰 대상자들이 기술력과 상관없는 이상적인대답이나 상품의 방향성과 무관한 대답을 하는 경우가 많았습니다. 이를 해결하기 위해 비교적 미래 상품이나기술에 관심이 많은 사람들인 Early Adaptor를 대상으로 인터뷰를 진행해 보았습니다. 그러나 그들도 평소에 소셜로봇이나 AI에 대해 생각을 많이 해봤지만정작 소비자의 Needs를 대표하지는 못하였습니다. 따라서가구 형태에 따라 4개 분류로 나누어, 각각 가정 내에서활동들을 가설적으로 펼쳐보았습니다. 이를 바탕으로 인터뷰를 다시 진행했으며, 배경과 기술력을 사전에 설명해줌으로써 유의미한 대답을 들을 수 있었습니다.\n",
      "Q :  서비스 기획 직무 역량을 쌓는 과정에서 자신에게 주어졌던 일 또는 경험 중, 가장 힘들었던 위기상황은 무엇이었으며, 그 위기를 본인의 노력으로극복한 경험에 대해 서술해 주십시오.   =>   - 그 일 또는 경험을 하게 된 이유와 진행하면서 가장 어려왔던 점, 극복하기위해 했던 행동과 생각, 결과에 대해 최대한 구체적으로 작성 - 당시 상황과 그 결과가 본인에게 어떤 영향을 미쳤는지 언급할 것 - 극복을 위한 노력의 결과와 그 과정에서 느낀 점에 대해 구체적으로 작성 - 경험의 진실성을 증명할 수 있는 근거가 잘 드러나도록 기술할 것 17년 8월에 온누리약국체인의 약국경영진단 컨설팅 서비스를 기획하는프로젝트를 진행하는 과정에서 데이터확보가 불가능하여 문제를 겪은 적이 있습니다. 이때 `행동, 실천`을 바탕으로극복하였으며, 이러한 `행동력`을 바탕으로 \"SK telecom\"에서 서비스기획과정에서 발생하는 문제를 해결해나갈 수 있습니다. [위기 상황 ; 처방전 점유율 데이터 확보의 어려움] 프로젝트 초반에 1800개의 온누리 약국 체인점들의 POS데이터를 종합하고 가공하는 Data Analysis 업무를 하였습니다. 그런데 POS 데이터상에서 찾을 수 없는 `처방전 점유율` 데이터를 확인할 방법이 없다는 문제가 발생하였습니다. 처방전 점유율을구하기 위해서는 약국의 처방전이 어느 병원에서 몇 개가 들어왔는지 알아야 하지만, 해당 데이터는 POS데이터에 없을 뿐만 아니라 민감하기 때문에 구하기 힘들 것이라는 얘기를 들었습니다. 우선 일반의약품의 매출 비중이 높은 약국을 상대로 전화를 걸었습니다. 그러나영업 중에 전화를 할 수 없다며 모두 거절을 당했습니다. [극복 경험 ; 직접 찾아가서 인터뷰하는 행동력] 그럼에도 불구하고해당 자료가 꼭 필요했기 때문에 운영전략팀장님께 인터뷰 요청을 드렸고, 직접 지하철을 2시간 동안 타고 동두천까지 갔습니다. 해당 약사님께서도 이러한 노력을높이 사 결국 인터뷰에 응해주셨습니다. 그 이후에도 서울, 인천, 경기도 지역을 돌면서 인터뷰와 주변 병원, 약국을 조사하고 인터뷰하러다녔습니다. 이처럼 직접 약국을 돌아다니는 등의 두 발로 뛰는 행동력을 바탕으로 `처방전 점유율` 개념을 구체화하여 컨설팅 서비스에 반영할 수 있었습니다. 프로젝트의 최종발표에서 온누리 약국 체인의 대표님께서 \"우리가 27년 동안 `암묵지`로가지고 있던 노하우가 대학생들의 손에서 `형식지`로 만들어졌다.\"는 얘기를 하셨을 때, 노력의 보람을 느낄 수 있었습니다.\n"
     ]
    },
    {
     "name": "stdin",
     "output_type": "stream",
     "text": [
      "Correct ?  n\n"
     ]
    },
    {
     "name": "stdout",
     "output_type": "stream",
     "text": [
      "\n"
     ]
    },
    {
     "name": "stdin",
     "output_type": "stream",
     "text": [
      "ENTER Question :  자발적으로 최고 수준의 목표를 세우고 끈질기게 성취한 경험에 대해 서술해 주십시오. (본인이 설정한 목표/ 목표의 수립과정/ 처음에 생각했던 목표 달성 가능성/ 수행과정에서 부딪힌 장애물 및그 때의 감정(생각)/ 목표 달성을 위한 구체적 노력/ 실제 결과/ 경험의 진실성을 증명할 수 있는 근거가 잘 드러나도록기술)\n",
      "ENTER Answer :  17년 5월, \"SKtelecom\"과 4세대 NUGU Device 컨셉을도출하는 프로젝트에서 Project Manager로서 참여하게 되었습니다. 해당 프로젝트 경험을 통해 배운 `시간 관리`와 `소통` 능력을 바탕으로 \"SK telecom\"에서 구성원들과의 협력을 통해 업무를 효율적으로 관리할 수 있도록 기여하고싶습니다. [목표 설정 ; 중간미팅까지Concept 도출] 킥오프 미팅결과, 소비자 조사를 통한 19년 이후 출시될 인공지능 가정용소셜로봇（4세대 NUGU）의 컨셉을 도출하는 것으로 프로젝트의내용이 정해졌습니다. 컨셉을 도출하더라도 이에 대한 소비자들의 반응이 없으면 Back-up이 되지 않으므로 컨셉을 도출하는 것뿐만 아니라 추가적인 설문조사가 불가피하다고 판단했습니다. 따라서 `중간미팅 때까지 컨셉을 도출`하고 `이후 최종발표까지 설문조사를 통해 가설을 검증`하는 것을 목표로 설정했습니다. 중간미팅까지 10일의 시간밖에 없었으며, 팀원들이 모두 학기 중이었기 때문에 목표를달성하는 것이 쉽지 않아 보였습니다. [목표달성 과정에서의 배움 ; 시간 관리와 소통] 문제는 10일이라는 제한된 시간이라는 점, 그중에 5일이 공휴일이어서 클라이언트와 연락하기 힘들다는 점이었습니다. 이러한문제를 해결하기 위해 PM으로서 팀원들에게 공휴일 5일 중에 3일만 모여서 일하되 3일동안은 하루종일 일하는 것에 대해 양해를구하였습니다. 팀원들은 이러한 사정을 이해해주었습니다. 또한 10일동안 매일 새벽 늦은 시간에 팀원들에게 업무를 분배해주었고, 그들은아침에 일어나서 바로 업무를 하였으므로 시간을 효율적으로 관리할 수 있었습니다. 그리고 팀원들과 논의된결과와 400여 명을 대상으로 진행한 설문내용을 클라이언트께 보고하였으며, 공휴일까지도 프로젝트의 진행 상황을 공유（소통）하였습니다. 이러한노력을 통해 중간미팅까지 4세대 NUGU의 두가지 컨셉을전달할 수 있었으며, 이후에 설문조사를 통해 최종발표까지 잘 마무리할 수 있었습니다.\n",
      "ENTER Question :  자발적으로 최고 수준의 목표를 세우고 끈질기게 성취한 경험에 대해 서술해 주십시오. (추가)\n",
      "ENTER Answer :  17년 5월, \"SKtelecom\"과 4세대 NUGU Device 컨셉을도출하는 프로젝트에서 Project Manager로서 참여하게 되었습니다. 해당 프로젝트 경험을 통해 배운 `시간 관리`와 `소통` 능력을 바탕으로 \"SK telecom\"에서 구성원들과의 협력을 통해 업무를 효율적으로 관리할 수 있도록 기여하고싶습니다. [목표 설정 ; 중간미팅까지Concept 도출] 킥오프 미팅결과, 소비자 조사를 통한 19년 이후 출시될 인공지능 가정용소셜로봇（4세대 NUGU）의 컨셉을 도출하는 것으로 프로젝트의내용이 정해졌습니다. 컨셉을 도출하더라도 이에 대한 소비자들의 반응이 없으면 Back-up이 되지 않으므로 컨셉을 도출하는 것뿐만 아니라 추가적인 설문조사가 불가피하다고 판단했습니다. 따라서 `중간미팅 때까지 컨셉을 도출`하고 `이후 최종발표까지 설문조사를 통해 가설을 검증`하는 것을 목표로 설정했습니다. 중간미팅까지 10일의 시간밖에 없었으며, 팀원들이 모두 학기 중이었기 때문에 목표를달성하는 것이 쉽지 않아 보였습니다. [목표달성 과정에서의 배움 ; 시간 관리와 소통] 문제는 10일이라는 제한된 시간이라는 점, 그중에 5일이 공휴일이어서 클라이언트와 연락하기 힘들다는 점이었습니다. 이러한문제를 해결하기 위해 PM으로서 팀원들에게 공휴일 5일 중에 3일만 모여서 일하되 3일동안은 하루종일 일하는 것에 대해 양해를구하였습니다. 팀원들은 이러한 사정을 이해해주었습니다. 또한 10일동안 매일 새벽 늦은 시간에 팀원들에게 업무를 분배해주었고, 그들은아침에 일어나서 바로 업무를 하였으므로 시간을 효율적으로 관리할 수 있었습니다. 그리고 팀원들과 논의된결과와 400여 명을 대상으로 진행한 설문내용을 클라이언트께 보고하였으며, 공휴일까지도 프로젝트의 진행 상황을 공유（소통）하였습니다. 이러한노력을 통해 중간미팅까지 4세대 NUGU의 두가지 컨셉을전달할 수 있었으며, 이후에 설문조사를 통해 최종발표까지 잘 마무리할 수 있었습니다.  15년 가을, `OR확정론` 수업에서 1달동안 반도체 공정 생산계획에 대한 기말 조 과제를 수행하게 되었습니다. 조과제경험을 바탕으로 목표를 설정하고, 성취하는 과정에서 지속적으로 배우려는 열정을 통해 \"SK telecom\"이 4차산업 혁명의 급격한변화 속에서 선도적인 역할을 할 수 있도록 기여하고 싶습니다. [목표 설정 ; 조원들에게 피해 가지 않도록] 군대에서 산업공학과를 복수전공하기로 결심하여, 복학과 동시에 `OR확정론` 전공수업을 수강하게 되었습니다. 1달 동안 기말 조 과제를 수행해야 하는데, 비전공자로서 전공지식이다른 조원들에 비해 부족하다는 것이 문제였습니다. 따라서 저는 무슨 일이 있어도 조모임에 성실히 참여하고, 모르는 것이 있으면 찾아보고 물어봄으로써 조원들에게 피해가 가지 않도록 하는 것을 목표로 설정하였습니다. 처음에 WIP（재공）라는 기본적인 용어부터 반도체 공정이 어떤 식으로작동하는지도 잘 모르는 상태였기 때문에 주말도 없이 스스로 학습하고 따라가려고 노력하였습니 다. [목표 달성 및 결과 ; 우수 조로 선정되다] 조 과제 제출 전날까지, `목표생산량을 달성하는 과정을엑셀로 나타내는 문제`를 해결하지 못해서 조원들 모두 실습실에 모여서 밤을 새우게 되었습니다. 4명이 업무를 분담하였고, 저를 포함한 2명이 이 문제를 맡게 되었습니다. 새벽 3시까지 계속 고민한 결과, 애초에 이 공정에서는 목표생산량 500개를 달성할 수 없다는 사실을 발견하게 되었습니다. 즉 316번 공정에서 지속적으로 재공이 쌓이는 병목현상을 확인하였습니다. 프로젝트마지막날 새벽 늦은 시간까지 연구실에 계시는 조교님을 찾아가서 병목현상 문제를 얘기하였고, 조교님도문제 출제과정에서 이 부분을 생각 못 했던 실수를 인정하셨습니다. 결과적으로 기말 프로젝트에서 59.5점/60점을 받아 우수 조로 선정되었고, `OR확정론` 수업에서 높은 성적을 받을 수 있었습니다. 따라서 설정했던 목표를 달성하기 위해 열정적으로 임함으로써 추가적인 성과를 달성할 수 있었습니다.\n",
      "ENTER Question :  새로운 것을 접목하거나 남다른 아이디어를 통해 문제를 개선했던 경험에 대해 서술해 주십시오. (기존 방식과 본인이 시도한 방식의 차이/ 새로운 시도를 통해하게 된 계기/ 새로운 시도를 했을 때의 주변 반응/ 새로운시도를 위해 감수해야 했던 점/ 구체적인 실행과정 및 결과/ 경험의진실성을 증명할 수 있는 근거가 잘 드러나도록 기술)\n",
      "ENTER Answer :  `논리적인 사고`와 `창의적인 아이디어`를 통해 엔젤리너스 매장의 매출을 개선하는 데기여했던 경험이 있습니다. 이러한 능력을 통해 누구나 필요로하는NUGU의 서비스를 기획함으로써 \"SK telecom\"이 2020년에 100＆100을달성할 수 있도록 기여하고 싶습니다. [문제에 대한 인식] 15년 전역 후 복학하기 전 여름방학 때, 선릉역주변의 엔젤리너스에서 아르바이트를 했습니다. 1달 정도 일을 하면서 해당 매장의 두가지 문제점을 인식하게되었습니다. 첫째는 회사 주변에 위치해 있으므로 평일 점심 및 저녁 시간 이후에는 고객이 많아 자리가없다는 점이며, 둘째는 주말에 회사원들이 오지 않아 빈자리가 많다는 점이었습니다. 커피가 비싼 이유는 자릿값 때문이지만, 평일에 사람들이 많이 오는시간에는 자리가 너무 부족하여 Take Out할 수밖에 없었습니다. 즉주말에는 사람이 적으며 평일에는 사람이 너무 많다는 것이 문제라고 인식하게 되었습니다. [개선 아이디어 제시 및 결과] 그러던 어느 토요일, 점장님과함께 마감 작업을 한 뒤에 얘기할 기회가 있었습니다. 조심스럽게 `제`가 인지한 문제를 얘기하였습니다. 이와 더불어 매장 옆의 공터에 테이블을설치하면 좋겠다고 말씀을 드렸습니다. 왜냐하면, 평일에는사람들이 자리가 없어서 문제이므로 자리를 늘리는 효과를 가져올 수 있기 때문입니다. 또한 주말의 경우직장인 고객은 거의 없고 지나가다가 들어오는 고객이 많은데, 사람들이 매장 밖에서 디저트를 먹거나 커피를마시고 있으면 인지도를 높여 모객효과를 거둘 수 있을 것이기 때문입니다. 이를 받아들이기 위해서는 기존에없던 테이블을 새로 구매해서 설치해야 한다는 점에서 제안을 수용하기 힘들 것이라 생각했습니다. 그러나점장님께서는 오히려 아르바이트 직원의 사소한 의견도 흘려듣지 않고 실제로 테이블을 매장 옆 공터에 설치하셨습니다.그 이후 많은 고객들이 외부의 테이블을 이용하였으며, 고객만족도를 높임과 동시에 매장의매출도 증가하게 되었습니다. \n",
      "ENTER Question :  새로운 것을 접목하거나 남다른 아이디어를 통해 문제를 개선했던 경험에 대해 서술해 주십시오. (추가)\n",
      "ENTER Answer :  `창의적인 신사업 아이템 제시`를 통해서 오리지날 스푼（프렌차이즈 요식업 회사）의 대표님으로부터창업제안을 받았던 경험이 있습니다. NUGU의 서비스에 대한 지속적인 고민을 통해 새로운 아이디어를제시함으로써 \"SK telecom\"이 AI음성인식 Device의 선도주자로서 굳건히 유지할 수 있도록 기여하고 싶습니다. [세션의 진행 과정] 17년 6월, 2주 동안 새로운 요식업 관련 사업 아이템을제안해달라는 내용의 세션을 진행하였고, 최종발표에 오리지날 스푼 대표님께서 직접 와서 듣고 싶다고 말씀하셨습니다. 3팀이 Competition 형태로 진행하였으며, 저희 팀은 시장의 트랜드에 부합하고, 새로운 기술을 도입함으로써시장을 선도할 수 있는 아이템을 선정하는 것을 목표로 하였습니다. 대부분의 아이템이 현실성이 없거나, 이미 배달의 민족이나 식권 대장 등 기존 시장에 진출해있는 기업이 이미 있었습니다. 그럼에도 불구하고 모든 팀원들이 지속적으로 찾고 고민한 결과, 1주차 주말에 음식점에서 남은 식자재를 자취하는 1인가구에 배달해주는 사업모델을 찾아내었습니다. 그러나 오리지날 스푼이 배달에 대한 인프라가 없다는 점이 문제가 되었고 다시 고민을 하게 되었습니다. `저`는 배달을 할 수 없다면 1인가구를 타게팅하기 힘들 것이며, 식자재만 한정해서 연결해주기에는 시장이 너무 작으므로 타게팅 고객을늘리고 완제품에 대해서도 연결해주는 방안을 생각하였습니다. 결국 뷔페,빵, 스시 등에서는 음식이 남을 수밖에 없다는 점에 착안하여, 뷔페의 남는 음식을 소비자들과 연결시켜 주는 플렛폼 사업 아이템을 떠올려서 팀원들에게 전달하였습니다. [신사업 아이템 제시 및 결과] 최근 1년 사이에 잉여 음식을 소비자들과 연결해주는 어플이미국과 영국을 중심으로 급격히 증가하고 있는 사실을 확인할 수 있었으며, 이러한 내용과 더불어 뷔페의남는 음식을 소비자들과 연결해주는 플랫폼 사업 아이템을 최종발표에서 대표님께 전달하였습니다. 발표를들은 대표님께서는 국내에는 없으나 해외에서 급격히 성장하고 있다는 사실을 보고 특히 관심을 가지셨으며, 1달뒤에 앤젤투자자로서 투자할 테니, 창업할 생각이 없냐고 PM을통해서 연락이 오셨습니다. 학업과 병행하기 힘들며 다른 팀원들의 학회활동과 겹친다는 점에서 거절은 하였으나, 제 아이디어가 누군가에게 인정을 받았던 좋은 경험이었습니다.\n",
      "ENTER Question :  지원 분야와 관련하여 특정 영역의 전문성을 키우기 위해 꾸준히 노력한 경험에 대해 서술해 주십시오. (전문성의 구체적인 영역(예.통계분석)/ 전문성을 높이기 위한 학습 과정/ 전문성 획득을위해 투입한 시간 및 방법/ 습득한 지식 및 기술을 실전적으로 적용해 본 사례/ 전문성을 객관적으로 확인한 경험/ 전문성 향상을 위해 교류하고 있는네트워크/ 경험의 진실성을 증명할 수 있는 근거가 잘 드러나도록 기술)\n",
      "ENTER Answer :  `서비스 기획`업무에 대한 전문성은 소비자의 목소리를 듣고 기술의동향을 파악하며, 끊임없이 고민하는 것으로부터 나옵니다.\"SK telecom\"과 2번의 AI사업관련 프로젝트를 진행했으며, 세미나에 참석했습니다. 미래의 AI 음성인식 Device는 모든가정에서 `편의`를 높일 수 있는 Home IoT와 연계될 것이며, 소비자들의 생활 속에 자연스럽게녹아있도록 `감성`적인 방향으로 나아갈 것입니다. [NUGU 서비스 기획 관련 꾸준한 노력 ; 프로젝트 및 세미나 참여] `Amazon의 Alexa 조사를 통한NUGU의 BM 개발 프로젝트（16년 10월）`, `소비자 조사를 통한4세대 NUGU의 Concept 도출 프로젝트（17년 5월）` 2번의 프로젝트를참여하는 동안 최근 1년 내의 AI사업의 현황과 소비자들의반응에 대한 모든 조사를 했습니다. 이를 통해 4차산업혁명으로인한 급격한 변화를 확인할 수 있었으며, 음성 기반의 VUI로변화하는 흐름을 눈으로 확인할 수 있었습니다. 또한\"SK`s Picture of AI World\" 세미나（17년 4월）에 참석하여 SK가 추구하는AI 방향성이 `모든 Device를 연결해 플랫폼생태계를 만드는 것`이라는 사실을 들었습니다. 경품추첨을통해 받은 NUGU를 이용하면서, 클라우드 기반의 NUGU제품이 케즘을 지나 대중을 잡기 위한 서비스의 다음과 같은 방향성에 대해 생각해보았습니다. [미래 NUGU 서비스 기획의 방향성 ; 편의 및 감성] 가정용 인공지능음성인식 Device는 결국 가정용품들과 연결되어 가정에서 일어나는 모든 귀찮은 일들을 음성을 통해처리할 수 있도록 `편의`를 도모해야 합니다. 뿐만 아니라 고객들이 이용함에 있어서 기계와 대화하고 있다는 딱딱한 느낌이 들지 않도록 `감성`적으로 접근해야 되며, 장기적으로는 Big Data 기반으로 고객에게 맞춤형 서비스를 제공해야 합니다. 4차산업혁명의 핵심인 AI의 방향성을 고민하는 일에 지속적인 `열정`을 갖고 임하겠습니다.\n",
      "ENTER Question :  지원 분야와 관련하여 특정 영역의 전문성을 키우기 위해 꾸준히 노력한 경험에 대해 서술해 주십시오. (추가)\n",
      "ENTER Answer :  지원분야와 직접적으로 관련된 전문성을 위한 노력은 아니지만, 두가지 부족한 부분을 채우고자 꾸준히 노력한 경험이 있습니다. 이러한 약점을 극복했던 경험을 토대로 부족한점은 꾸준히 채워나가고 발전시키면서 \"SK telecom\"과 더불어 발전해나가고 싶습니다. [꾸준한 노력을 통해 약점을 극복하다 ; 경제지식과 발표능력] 2학년 전공수업 시간에 대학시절 약점극복을 통해 기회를 잡을 수 있었던 교수님의 말씀을 듣고 4년대학생활의 목표를 `약점극복`으로 설정했습니다. 이공계 학생으로서 사회과학에 대한 지식이 없어서 다양한 전공자들과 깊은 대화가 힘들다는 어려움이 있었습니다. 이러한 약점을 극복하고자 자발적으로 미시, 거시 경제학 수업을 수강했습니다. 모든 수업내용을 받아썼고, 꾸준히 복습했습니다. 수업에서 배운 지식을 토대로 경제독서토론학회（P.R.E.B）에 들어가경제 관련 도서를 읽고, 사회적 이슈에 관해 토론을 하면서 경제뿐만 아니라 사회, 정치와 관련 현안도 알게 되었습니다. 또한 25년 동안 한 번도 앞에서 발표해본 적이 없었기때문에 수업시간에 처음 프레젠테이션을 했을 때, 했던 말을 반복하고 천장을 보는 등 실수를 했습니다. 발표의 어려움을 극복하기 위해 발표스터디를 진행했고, 실전경영학회（C.STAGE）에 들어가서 활동을 하면서 프레젠테이션 피드백을 받았습니다. 활동을하면서 4번의 발표 기회가 있었으며, 피드백을 반영하여 매번나아지는 모습을 확인할 수 있었습니다.\n",
      "ENTER Question :  서비스 기획 직무에는 Mobile Application UI/UX 기획, NUI 기반 서비스 기획 등의 분야가 있습니다. 본인의 역량과 가장적합한 분야에 대해서 해당 분야와 관련된 프로젝트 / 공모전 / 대회 / 논문 / 연구 / 학습및 기타 활동에 참여했던 경험과 역량향상을 위한 본인의 노력에 대해 서술해 주십시오. \n",
      "ENTER Answer :  NUI : Natural User Interface SK telecom과 함께 진행했던 프로젝트에서 NUGU 서비스 이용자들의 이야기를 듣고, 차세대 NUGU 제품의 잠재시장에 대한 소비자들의 Needs를 파악하기 위한노력을 하였습니다. 이러한 경험으로부터 배운 소비자의 목소리에 귀 기울이는 `소통`능력을 통해 \"SKtelecom\"에서 `NUI기반의 서비스를 기획하는 일`을 함께하고 싶습니다. [소비자의 불편한 점（PainPoint）을 듣다] 16년 10월, 17년 5월 SK telecom과의 2번의NUGU 프로젝트 동안 SNS, 커뮤니티,Youtube, 소비자조사를 통해 인공지능 음성인식 Device인 NUGU에 대한 이용자들의 반응을 확인할 수 있었습니다. Wi-Fi문제와같은 기술적인 부분과 더불어 목소리와 내용의 다양화와 같은 기능에 대한 시장의 요구를 확인하였습니다. 이러한사항을 반영하여 \"SK telecom\"에서 SM과협약을 통한 목소리 다양화, Alexa와 같이 오픈 플랫폼화하려는 방향성을 통해 해결해 나가고 있는것을 확인하였습니다. 서비스에 대한 이용자의 목소리를 지속적으로 `경청`하고 받아들일 수 있는 능력이 필요하며, 프로젝트 과정에서 다양한 채널을 통해 이러한 역량을 향상시킬 수 있었습니다. [잠재 소비자의 필요한 점（Needs）을묻다] 소비자 조사 당시에 잠재 시장에 대한 이해가 부족한 인터뷰 대상자들이 기술력과 상관없는 이상적인대답이나 상품의 방향성과 무관한 대답을 하는 경우가 많았습니다. 이를 해결하기 위해 비교적 미래 상품이나기술에 관심이 많은 사람들인 Early Adaptor를 대상으로 인터뷰를 진행해 보았습니다. 그러나 그들도 평소에 소셜로봇이나 AI에 대해 생각을 많이 해봤지만정작 소비자의 Needs를 대표하지는 못하였습니다. 따라서가구 형태에 따라 4개 분류로 나누어, 각각 가정 내에서활동들을 가설적으로 펼쳐보았습니다. 이를 바탕으로 인터뷰를 다시 진행했으며, 배경과 기술력을 사전에 설명해줌으로써 유의미한 대답을 들을 수 있었습니다.\n",
      "ENTER Question :  서비스 기획 직무 역량을 쌓는 과정에서 자신에게 주어졌던 일 또는 경험 중, 가장 힘들었던 위기상황은 무엇이었으며, 그 위기를 본인의 노력으로극복한 경험에 대해 서술해 주십시오.(그 일 또는 경험을 하게 된 이유와 진행하면서 가장 어려왔던 점, 극복하기위해 했던 행동과 생각, 결과에 대해 최대한 구체적으로 작성 - 당시 상황과 그 결과가 본인에게 어떤 영향을 미쳤는지 언급할 것 - 극복을 위한 노력의 결과와 그 과정에서 느낀 점에 대해 구체적으로 작성 - 경험의 진실성을 증명할 수 있는 근거가 잘 드러나도록 기술할 것)\n",
      "ENTER Answer :  17년 8월에 온누리약국체인의 약국경영진단 컨설팅 서비스를 기획하는프로젝트를 진행하는 과정에서 데이터확보가 불가능하여 문제를 겪은 적이 있습니다. 이때 `행동, 실천`을 바탕으로극복하였으며, 이러한 `행동력`을 바탕으로 \"SK telecom\"에서 서비스기획과정에서 발생하는 문제를 해결해나갈 수 있습니다. [위기 상황 ; 처방전 점유율 데이터 확보의 어려움] 프로젝트 초반에 1800개의 온누리 약국 체인점들의 POS데이터를 종합하고 가공하는 Data Analysis 업무를 하였습니다. 그런데 POS 데이터상에서 찾을 수 없는 `처방전 점유율` 데이터를 확인할 방법이 없다는 문제가 발생하였습니다. 처방전 점유율을구하기 위해서는 약국의 처방전이 어느 병원에서 몇 개가 들어왔는지 알아야 하지만, 해당 데이터는 POS데이터에 없을 뿐만 아니라 민감하기 때문에 구하기 힘들 것이라는 얘기를 들었습니다. 우선 일반의약품의 매출 비중이 높은 약국을 상대로 전화를 걸었습니다. 그러나영업 중에 전화를 할 수 없다며 모두 거절을 당했습니다. [극복 경험 ; 직접 찾아가서 인터뷰하는 행동력] 그럼에도 불구하고해당 자료가 꼭 필요했기 때문에 운영전략팀장님께 인터뷰 요청을 드렸고, 직접 지하철을 2시간 동안 타고 동두천까지 갔습니다. 해당 약사님께서도 이러한 노력을높이 사 결국 인터뷰에 응해주셨습니다. 그 이후에도 서울, 인천, 경기도 지역을 돌면서 인터뷰와 주변 병원, 약국을 조사하고 인터뷰하러다녔습니다. 이처럼 직접 약국을 돌아다니는 등의 두 발로 뛰는 행동력을 바탕으로 `처방전 점유율` 개념을 구체화하여 컨설팅 서비스에 반영할 수 있었습니다. 프로젝트의 최종발표에서 온누리 약국 체인의 대표님께서 \"우리가 27년 동안 `암묵지`로가지고 있던 노하우가 대학생들의 손에서 `형식지`로 만들어졌다.\"는 얘기를 하셨을 때, 노력의 보람을 느낄 수 있었습니다.\n",
      "ENTER Question :  n\n"
     ]
    },
    {
     "name": "stdout",
     "output_type": "stream",
     "text": [
      "\n",
      "\n",
      "Q :  직장으로 항공사, 특히 대한항공에 지원하게 된 동기와 입사 후 포부를 간단하게 작성하여 주십시오(600자 이내)   =>   [천 명의 눈 속에는 천 개의 세상이 있다.] 휴학기간에 미술사와 철학과 같은 학문들에 도전해오며, 새로운 가치는 항상 지내는 익숙한 공간이 아닌, 다른 세상을 겪으며 탄생한다고 믿어왔습니다. 남들이 하지 않는 경험을 통해 새로운 시선을 얻는 제 자신을 보며, 저와 겪은 색다른 경험의 힘을 사람들에게 제공하는 것이 저의 꿈이 됐습니다. 어떤 회사보다 수많은 경험을 이어주는 항공사 중에서도 항공운수를 선도하는 최고의 항공연합체인 스카이팀에 속한 대한항공은, 항상 최고를 향해온 저에게 미래를 향한 끊임없는 자극이 되리라 느꼈습니다. ‘나의 스페인행 티켓’ 광고를 통해 사람들이 새로운 세상을 꿈꾸게 하듯, 대한항공과 함께하며 사람들이 낯선 곳으로 떠나는 여정을 더욱 빛나게 만들고 싶습니다. 입사 후에는 현장근무를 우선적으로 수행하여, 탑승수속부터 출입국심사로 이어지는 프로세스를 온 몸으로 경험하며 알아나가고 싶습니다. 이후 수학과 통계학을 해오며 얻은 분석력을 이용해, 회사의 다양한 부서와 협력하여 계획을 수립하고, 체계적으로 관리해나가고 싶습니다. 미래계획을 쌓아나가며 대한항공이 전 세계인에게 편안하고 기억에 남는 항공서비스를 제공하는데 일조하고 싶습니다.\n",
      "Q :  자신이 경험한 혁신적인 서비스 한가지를 들고, 그 사유를 기술하여 주십시오(600자 이내)   =>   [기본기를 혁신하다.] 자동출입국심사를 비롯한 많은 기술들이 여행전의 피로를 가중시키는 대기 시간을 줄여주고 있습니다. 첨단기술들이 더 편안한 여행을 보장한다는 건 의심의 여지가 없습니다. 하지만 편안한 여행과 가장 기억에 남는 여행이 항상 일치하지는 않습니다. 저에게는 승무원에게서 받았던 작은 배려가, 모든 사람들이 같은 배려를 누리면 좋겠다고 느낀 가장 혁신적인 서비스였습니다. 저는 작년 겨울여행에서 귀국하는 항공편 중 환승지인 런던까지의 비행이 늦춰지며 인천행 비행기까지의 시간이 촉박했으나, 당시 승무원들의 배려덕분에 편안하게 환승을 한 경험이 있습니다. 저희 가족이 가장 먼저 내릴 수 있도록 가장 앞의 빈 좌석으로 이동시켜줬고, 환승편 까지 걸어가는 길을 알려줘 시간을 단축할 수 있도록 도와줬습니다. 촉박한 시간이지만 세심한 배려를 받은 저희들은 무사히 다음 비행기를 타고 귀국할 수 있었습니다. 끊임없이 적용되어 가는 기술들의 본질은 ‘이용객에게 더 편한 여행을 제공한다.’는 것입니다. 첨단기술들 보다 마음에서 우러나온 작은 배려들은 어떤 경험들보다 오래 기억에 남는 혁신이 되리라 확신합니다.\n",
      "Q :  항공사 직원이 갖추어야 할 글로벌 역량을 한가지 제시하고, 본인이 이를 위해 어떻게 노력해 왔는지 기술하여 주십시오(600자 이내)   =>   [마음을 움직이는 소통] 항공사의 직원이라면, 모국어뿐만 아니라 외국어로도 사람들과 불편함없이 대화할 수 있어야 합니다. 저는 모두가 사용하는 모국어지만, 다른 사람에게 상처를 주지 않는 화법을 고민했습니다. 수많은 사람들 앞에서 제 생각을 정확히 말 할 수 있다면 대인간의 소통역시 향상될 것이란 생각에 스피치 학원을 다니며, ‘말을 잘 한다.’는 것은 ‘많은 단어를 정확하고 빠르게 구사한다.’와 같지 않다는 것을 배웠습니다. 편안하게 대화를 이끄는 방법과 좋은 대답을 유도하는 질문방법을 배울 수 있었습니다. 모국어에 그치지 않고, 새벽 5시반에 일어나 아침 8시에 수업을 시작하는 영어학원에서 수업을 들었습니다. 수업 이후 영어 스터디에 참여하며 암기해왔던 단어들을 상황에 맞게 직접 이용하는 연습을 했습니다. 공부한 내용을 정리해 SNS에 꾸준히 공유하며 스스로를 자극해나갔습니다. 모든 사람이 사용하는 국어에도 역량의 차이가 존재한다는 것을 느끼고, 이를 향상시켜 나갔습니다. 탐구를 통해 얻은 따뜻한 모국어를 영어에 적용시켰고, 외국어의 세밀한 느낌들을 배워나갔습니다. 성적이 아닌 소통을 향해 달려온 언어능력은 지표 이상의 힘을 발휘하리라 확신합니다.\n",
      "Q :  본인이 살아오면서 속한 집단 중 소속감을 가장 강하게 느낀 조직과 그 이유를 기술하여 주십시오(600자 이내)   =>   [동아리의 르네상스를 이끌다.] 대학생활을 하며 노래동아리 활동을 했습니다. 첫 학기를 보낸 후 선배들간의 다툼이 생겨 선배들이 동아리에 나오지 않게 되고 8명의 동기만 남았습니다. 동아리가 존폐의 기로에 섰지만, 저와 동기들은 포기하지 않고 내년을 준비했습니다. 저는 동아리에서 부회장 역을 자처하며 신입동아리원 모집 계획을 짜고, 다음해에 있을 공연에 올릴 곡을 선정했습니다. 선배들에게 동아리를 운영하는 방법을 물어보며 모자란 부분을 채웠습니다. 그 다음해에 20명 정도의 신입부원을 받을 수 있었고, 연말에는 성공적으로 공연을 하며 마무리했습니다. 수학과 지망생 위주로 받는 작은 동아리였으나, 지금은 40명의 신입부원이 들어오는 학교 중앙동아리만큼의 크기로 성장했습니다. 제 노력으로 동아리를 부흥시켰다는 자부심이 있기에 애착이 가는 동아리가 됐습니다. 선배들의 조언을 받고 정확한 부분에 노력을 쏟아보며, 필요한 일을 스스로 탐구하고 노력하는 습관을 얻었습니다. 몇 달간 연례공연을 준비하며, 단체를 이끌며 필요한 동기부여 방법을 배우고, 사람들의 스케쥴을 조정하는 기술을 획득했습니다. 큰 행사의 작은 부분들까지 신경쓰는 세심함을 배우는 계기가 됐습니다.\n"
     ]
    },
    {
     "name": "stdin",
     "output_type": "stream",
     "text": [
      "Correct ?  y\n"
     ]
    },
    {
     "name": "stdout",
     "output_type": "stream",
     "text": [
      "\n",
      "\n",
      "Q :  회사 및 직무에 지원하는 동기   =>   -팀워크를 위해, 통하라- 저는 소통은 팀과 개인 모두에게 중요하다고 생각합니다. 통신소대장 당시, 소대원 및 간부들의 좋은 근무환경을 조성하는 것이 제일 큰 목표였습니다. 저는 바쁜 일정 속에서도 소대원들의 매 진급과 생일 뿐만 아니라 상업적 기념일까지 작은 선물 또는 회식으로 축하했습니다. 저의 노력은 소대원과의 거리를 좁히는 계기가 됐으며, 점차 소대원들이 서로 챙기는 작은 문화가 됐습니다. 이로 인해 소대의 소통과 단단한 팀워크를 갖게 됐습니다. 소대의 업무 성과는 높아졌고, 부대 내 마음의 편지 결과 부조리 없는 소대로 선발되었습니다. LG 디스플레이는 ‘Love Plus Love Fund’. 해외 봉사활동 등 사회와 소통합니다. 또한, 안으로는 열린 소통, 능동적 협업을 핵심 가치로 삼고 있습니다. 저 또한 LG 디스플레이 일원으로서 능동적인 협업으로 회사를 도약시키는 데 함께 하고 싶습니다. -기술 실현을 위한 효율&최적화- 저는 기술 실현과 경쟁력에는 제품 생산력이 중요하다고 생각합니다. LG 디스플레이는 2009년부터 30분기 연속 대형 디스플레이 시장 1위를 달성했으며, 프리미엄 TV도 올해 시장 점유율 1위를 차지했습니다. 이는 기술력과 함께 OLED 생산라인 투자에 따른 압도적 우위의 생산 능력이 뒷받침하고 있었습니다. 저는 군 복무 당시 새로 전력화되는 장비 체계인 TICN을 도입 받았습니다. 하지만 첫 도입이기에 정비 및 관리 지침이 미흡했고, 이는 관리 소홀의 문제로 이어질 수 있었습니다. 저는 이를 방지하고 장비 효율적 운용에 목표를 뒀습니다. 저는 일일 및 주간 ~ 분기 단위 장비 관리 및 정비 계획을 수립했습니다. 이로써 장비 청결 상태를 항시 유지했고, 장비 오류 발생 시 즉각 발견하여, 큰 고장을 예방했습니다. 저의 이런 노력은 공정 기술 최적화와 효율에 중점을 두는 공정/장비 직무에 도움이 될것 입니다. 제 경험을 바탕으로, 공정 조건 최적화를 통해 생산 원가 절감을 이뤄 효율을 상승에 보탬이 되고 싶습니다.\n",
      "Q :  도전적인 목표를 정하고 열정적으로 일을 추진했던 경험   =>   -팀워크가 가져다 준 금상- 학부 생활 중 교내 창의설계경진대회 금상을 수상한 것은 대학교 재학 기간 중 가장 기억에 남는 추억입니다. 저는 공학인증 과정을 위해 5개의 설계 과목을 수강했습니다. 그중 마지막 학기에 전자공학종합설계를 수강했고, 4인 1팀으로 캡스톤 디자인을 진행했습니다. 설계 초반 저희는 광범위함 속에 주제 선정에 어려움을 겪었습니다. 팀장으로서 저는 먼저 효율적인 주제선정을 위해 각자 분야를 나누어 조사를 진행하자고 건의했습니다. 회의를 통해 전공 기술을 적용할 분야를 각자 나누어 조사를 진행했습니다. 그 결과 많은 후보들을 놓고 함께 토의하고 검토함으로써 적절한 주제 선정을 할 수 있었습니다. 이 과정을 통해 저는 분업과 협업의 조화가 팀에게 큰 능률을 가져온다는 것을 느꼈습니다. 또한, 저희는 학부생으로서 작품 설계에 필요한 기술 및 이론 지식이 다소 부족했습니다. 부족함을 채우기 위해 저희는 모임마다 설계 작품과 비슷한 기술이 적용된 예를 찾기 시작했습니다. 그와 동시에 해당 기술의 논문을 찾아, 모임마다 스터디를 했으며, 학과 교수님들에게 자문해 작품 디자인에 방향성을 얻었습니다. 이러한 노력 끝에 완성된 결과물로 교내 대회에 참가 기회를 얻었으며, 더 보완하여 결국 금상이라는 큰 성과를 얻었습니다. 이렇게 팀원들과 프로젝트를 진행하며, 한 팀이 한 방향성을 가지고 나가는 것의 중요성을 실감하였으며, 서로 미루지 않고 능동적으로 협력했던 것이 개인의 능력보다 큰 결과를 얻은 것이라 느꼈습니다. LG 디스플레이는 올해 도쿄에서 열린 제24회 유기EL 토론회에서 대형 OLED 패널 개발과 TV 시장 개척으로 공로를 인정받았습니다. 이 업적은 OLED 분야 개발을 위해 회사가 꾸준히 한 방향으로 나아가 도전했기에 가능했다고 생각합니다. 저는 LG 디스플레이와 함께 소비자들이 꿈꾸는 미래를 바라보고, 펼쳐나가고 싶습니다.\n"
     ]
    },
    {
     "name": "stdin",
     "output_type": "stream",
     "text": [
      "Correct ?  y\n"
     ]
    },
    {
     "name": "stdout",
     "output_type": "stream",
     "text": [
      "\n",
      "\n",
      "Q :  성격(장/단점)   =>   [인간미 넘치고 따뜻한 인재 ] 성실을 바탕으로 다른 사람을 배려하고자 하는 마음과 일에 대한 순수한 열정으로 젊고 힘 있는 역동적인 조직문화에 부흥하는 인재입니다. \"사람다운 사람답다\" \"인간미가 넘친다.\" \"따뜻하다\" 제가 가장 많이 들었던 말들입니다. 이렇듯 배려심이 깊고, 이해력이풍부하며 따뜻한 성격을 가졌습니다. 이러한 마음가짐으로 살아왔기에 주변에 친구들이 굉장히 많고 친구들이 저를 많이 따랐습니다. 그 속에서 저는 또한 리더십을 배웠고, 착한 리더십은 더 밝은 빛을 주위에 밝혀줄 수 있다는 사실을 깨달았습니다. 하지만 이러한 마음으로 살다보니 상대방이 저에게 부탁한 것은 거절하지 못하는 단점이 있습니다. 이는 제 삶에 악영향을 미칠 수 있다는 생각에, 거절하는 방법을 배우고 있습니다. 현명하게 잘 판단하여 옳고 그름을 현명하게 실천할 수 있는 신입사원이 될 것입니다.\n",
      "Q :  직무연관성   =>   [고객의 '행복', 나의 '즐거움'] 싱가포르에서 매년마다 한번 열리는 'IT Show'에서 외국인 상대로 영업 스태프와 고객응대 및 상담으로 활동하며 영업적 노력을 기울여 전년대비 283%의 높은 기증율을 달성할 수 있었습니다. 제가 했던 일들은 대부분 목표를 세우고, 사람들을 설득하여 참여시키고, 물건을 판매하여 성과를 내는 일이었습니다. 초반에는 매우 힘들었으나, 내안에 진심으로 커뮤니케이션 하는 설득력을 발견하고, 물건만 판매하는 장사꾼이 아닌, 신뢰를 보여주는 상인정신으로 접근하여 시장도 개척해보았습니다. 해외영업 분야의 조그마한 경험으로써의 나 자신의 신뢰를 판매하는 분야임을 절실하게 깨닫게 되었습니다. 여러 고객을 상대하고, 마케팅 전략을 세우는등 동료들과 판매 실적을 두고 경쟁하면서 제가 가장 크게 느낀점은 바로 고객을 상대하는 ‘즐거움’과 저의 경험에서 쌓아온 고객성향파악을 통해 고객의 요구를 미리 예측하여 미리 다가갈 수 있는 장점이 있다는 것 입니다. 영업 포지션에서는 특히나 이러한 실무 마케팅 능력을 반드시 필요로 하기 때문에 고객지향적인 사고를 쥐는게 필수라고 생각합니다. 직무 역시 해외영업팀 분야 신입사원으로 지원하게 되었습니다. 입사 후, 귀사 \"I-SENS\" 를 해외시장으로 적극적으로 개척하여 글로벌 진단 바이오 전문기업으로서 세계 대표의 업계로 더욱 거듭 날 수 있도록 선도해 나가겠습니다.\n"
     ]
    },
    {
     "name": "stdin",
     "output_type": "stream",
     "text": [
      "Correct ?  y\n"
     ]
    },
    {
     "name": "stdout",
     "output_type": "stream",
     "text": [
      "\n",
      "\n",
      "Q :  본인의 성장과정을 간략히 기술하되 현재의 자신에게 가장 큰 영향을 끼친 사건, 인물 등을 포함하여 기술하시기 바랍니다.   =>   [사람을 통한 삶] 사람을 얻어가고, 누군가에게 좋은 사람이 되는 것이 삶의 큰 즐거움이라 여기며 살아왔습니다. 항상 신뢰가 가는 사람, 모든 걸 터놓고 이야기 할 수 있는 사람, 믿고 맡길 수 있는 사람이 되고자 하였습니다. 처음부터 이런 마음가짐은 아니었습니다. 사춘기를 겪던 시절 외향적이지 않은 성격이었고, 주변 사람들과 소통이 조금은 어렵다고 생각하였습니다. 활발하고 유머러스한 친구+들이 부러웠습니다. 저는 단지 묵묵히 이야기를 들어줄 뿐이었습니다. 그러다 한 친구에게 매번 이야기를 잘 들어주어 고맙다는 말을 듣게 되었습니다. 적극적이고, 활발한 성격만이 사람에게 다가가는 방법이 아님을 깨닫게 되었습니다. 진솔하게 이야기를 들어주고, 공감해주는 것 또한 좋은 소통의 방법임을 깨우쳤습니다. 이를 계기로 학창시절 친구들과의 교류를 통해 항상 웃으며 경청하는 자세를 가지게 되었고, 지금은 저의 가장 큰 장점이 되었습니다. 더불어 서로를 위해주며 힘들 땐 서로 위로해주고, 기쁜 일이 있으면 함께 나눌 수 있는 지금 제 곁에 있는 ‘사람’들을 얻게 되었습니다. 이처럼 상대방을 진심으로 대하고, 경청하는 자세를 통해 동료와의 소통과 부서 간의 협력을 이루는데 기여하겠습니다. 조직의 목표를 달성하기 위해서는 개개인의 능력도 중요하지만 조직원들 간의 팀워크 역시 중요하다고 생각합니다. 동료들의 소리에 귀 기울이며, 서로 필요한 부분을 채워나가기 위한 교두보 같은 역할을 하겠습니다. 어떤 일이 닥치더라도 서로서로 도와가며 해결해 나갈 수 있는 소통의 창구가 되도록 하겠습니다. [The Onething 도전, 그리고 사람] The Onething 라는 책을 읽었습니다. 이 책의 제목을 보고 내가 원하는 한가지는 무엇일까? 라는 생각을 하였습니다. 곰곰이 생각해보니 그동안 나는 가장 중요한 하나를 바란 것이 아니라 여러 가지를 얻고 싶어서인지 어느 하나에 집중을 잘 하지 못했던 자신을 발견하였습니다. 항상 누군가에게 좋은 사람이길 바랬고, 항상 무엇이든 잘 할 수 있는 사람이 되길 바랐습니다. 그래서인지, 특별하게 뭘 잘 할 수 있는지 묻는 질문에 종종 당황하곤 했던 기억이 있습니다. 이 책을 통해 저는 가장 부족했던 ‘하나에 집중하는 것’을 개선하기로 맘먹었습니다. The Onething을 이뤄나가는 삶을 살기로 결심하였습니다. 먼저 스스로에게 질문을 하여 답을 찾았습니다. 내게 가장 중요한 것은 무엇일까 생각하였습니다. 바로 ‘사람’ 이었습니다. 그리고 이것을 위해 계속 도전해야한다고 생각했습니다. 저의 The Onething은 ‘도전, 그리고 사람’입니다. 사람을 통해 도전하고 도전을 통해 사람을 얻어갈 것입니다. 항상 목적의식을 가지고 도전할 것을 새기게 되었습니다. 삶을 통해 새겨 온 `사람과 도전`이라는 가치관으로 삼성전자의 일원이 되어 혁신을 이루는 데 기여하겠습니다.\n"
     ]
    },
    {
     "name": "stdin",
     "output_type": "stream",
     "text": [
      "Correct ?  y\n"
     ]
    },
    {
     "name": "stdout",
     "output_type": "stream",
     "text": [
      "\n",
      "\n",
      "Q :  CJ제일제당과 해당 직무에 지원한 동기는 무엇인가요?  CJ제일제당이어야만 하는 이유,  지원 직무에 관심을 갖게 된 계기,  입사 후 성장 목표를 반드시 포함하여 구체적으로 작성해 주세요. (1,000자 이내)   =>   A. [고객과 소통하는 최전선] 영업은 고객과의 관계에서 시작합니다. 저는 수제버거 매장에서 일하며 고객만족을 위한 개선방향을 제시한 경험이 있습니다. 고객이 수제버거의 구체적 정보를 알지 못해 메뉴선택에 어려움을 겪는 것을 보며 메뉴판에 내용물과 선택의 Tip을 제시하고, 고객의 피드백을 통한 메뉴개선을 제안하여 긍정적인 반응을 얻었습니다. 고객과 소통하는 최전선에서 활동하며 가치를 창출하는 영업에 매력을 느끼기에 Food Sales 직무에 지원하게 되었습니다. [Sales Specialist] 저는 영업관련 자기계발서나 기업의 직무 인터뷰를 보며 '영업인으로서 나의 하루, 한 달, 그리고 일 년은 어떻게 진행될까?'라는 질문을 스스로 던져보고 고민하는 시간을 가져왔습니다. 저는 CJ제일제당에서 새로운 가치를 창출해내는 영업전문가로 성장할 것입니다. 먼저 CJ제일제당에 대한 전반적인 지식을 일선에서 경험하고 고객, 거래처와의 문제해결능력을 기르는 데 초점을 맞출 것입니다. 이후 부단한 자기계발과 해외문화체험을 통해 최종적으로 시장을 이해하고 고객과 회사에 가치를 창출해내는 영업전문가가 되는 것이 제 목표입니다.\n"
     ]
    },
    {
     "name": "stdin",
     "output_type": "stream",
     "text": [
      "Correct ?  y\n"
     ]
    },
    {
     "name": "stdout",
     "output_type": "stream",
     "text": [
      "\n",
      "\n",
      "Q :  본인이 회사를 선택할 때의 기준은 무엇이며, 왜 현대 자동차가 그 기준에 적합한지를 기술해 주십시오.   =>   해외생산량이 국내 생산량을 지르며 해외영업에대한 중요성은 더욱 강해졌습니다. 대부분의 매출의 해외판매가 차지하는 만큼 해외영업에대한 정확한이해와 현지 사업자들과의 커뮤니케이션으로 현지사업에 좋은 밑거름이 되어야된다고 생각합니다. 전세계 자동차를 가장 많이 보유하며(전세계 27.1%) 천명당 자동차 보유대수가 2위(78.2%)인 미국에는 현대자동차가 성장할수 있는 가능성이 무한한 시장으로 보이며 대한민국을 대표하는 현대자동차가 미국도로에서 더 많이 달리는데 기여하고 싶어 현대자동차를 선택하였습니다. 처음에 제가 맡은 일은 단기 프로모션 전략 기획을 하는 일이었습니다. 세일즈팀이 고객에 대한 정확한 정보를 없이 똑같이 접근하고 있었다는 사실에 저는 매니져에게 고객분석을 제안하였습니다. 고객 세그멘테이션은 서베이를 통한 DB확보 후 프로그램 가능성으로 분류하여 각각 다른 전략으로 고객에게 필요성을 찾고 단기 프로모션의 목표인 $80,000불을 달성하였습니다.\n"
     ]
    },
    {
     "name": "stdin",
     "output_type": "stream",
     "text": [
      "Correct ?  y\n"
     ]
    },
    {
     "name": "stdout",
     "output_type": "stream",
     "text": [
      "\n",
      "\n",
      "Q :  본인이 회사를 선택할 때의 기준은 무엇이며, 왜 현대자동차가 그 기준에 적합한지를 기술해 주십시오. (1000자 이내)   =>   [같은가치관을 가진 현대자동차를 선택하겠습니다.] 제가회사를 선택할 때의 가장 중요한 기준은 ’같은 가치관을 공유하는가’ 입니다. 여러 조직 중 회사라는 다양한 이해관계가 얽힌 조직에서는 더욱이 같은 가치관을 공유하는지가 중요하다고 생각합니다. 여태까지 저는 여러 크고 작은 단체에 소속되어 생활했지만, 책임에대해 저와는 다른 가치관을 가진 사람과 일하며 곤란을 겪은 적이 있습니다. 작년봉사동아리의 회장으로 활동 할 당시 함께 일하는 집행부원이 단순히 친목활동을 위해 동아리에 가입하여 동아리의 주된 목적인 봉사를 등한시하고, 회의를 매번 사적인 이유로 불참하여 동아리 운영에 큰 차질이 있었습니다. 이처럼나와 다른 목표와 가치관을 가진 조직에서 일을 하게 된다면 조직이 와해되고, 불행해질 것이라고 생각합니다. 작년, 11월 현대자동차의 ‘아이오닉롱기스트 런’ 이라는 행사에 대학생 봉사단으로 참여하면서 현대자동차가 저와 같이 나눔을 소중히 여긴다는것을 느꼈습니다. 행사 준비 간 운영진으로부터 행사의 개요와 취지에 대한 교육을 받았습니다. 롱기스트 런은 어플을 통해 달린 거리만큼 사회 취약계층에 기부를 할 수 있는 사회공헌 활동의 일환이었습니다. 제품 마케팅을 고객의 취미와 연동하여 ‘달리기를 통한 기부’라는 창의적인 기획을 통해 고객과 사회 취약계층에 대한 책임의식을 갖고 있다는 생각을 했습니다. 저와 같은 가치관을 공유하는 현대자동차와 함께하면서 행복하게 일할 수 있었습니다. 회사는 인생의 상당 부분을 함께하는 곳입니다. 회사의 생각과 저의 생각이 같아야 삶의 동반자가 될 수 있다고 생각합니다. 행복하게일하기 위해 저와 같은 가치관을 공유하는 현대자동차의 더 나은 미래를 위한 동행에 함께하겠습니다.\n"
     ]
    },
    {
     "name": "stdin",
     "output_type": "stream",
     "text": [
      "Correct ?  y\n"
     ]
    },
    {
     "name": "stdout",
     "output_type": "stream",
     "text": [
      "\n",
      "\n",
      "Q :  삼성취업을 선택한 이유와 입사 후 회사에서 이루고 싶은 꿈을기술하십시오. (700자 이내)   =>   [고객은영업 사원으로 회사를 기억한다] 글로벌 시장에서 중국 업체들이 빠르게 성장하면서 삼성전자의 브랜드 가치가 더욱 중요해졌습니다. 김난도 교수에 따르면 생산 기술이 고도화 될수록 브랜드 가치를 높이기 위해 대면 서비스의 질이 중요해질 것이라합니다. 즉, 어느 때보다도 삼성전자에게 유능한 영업 사원이필요해진 시점입니다. 이상의 도전적 상황에서 삼성전자에 유효한 결과를 만드는 영업 사원이 되고 싶습니다. 사교성은 이를 가능하게 만드는 저의 핵심 경쟁력입니다. 과거 한국푸드트럭협동조합이사로서 푸드트럭 행사 출장 중개 서비스를 운영했습니다. 행사 주최 기관과 입점 계약을 체결하고, 출장 가능한 푸드트럭을 모집하는 것이 저의 역할이었습니다. 다양한연령대의 행사 담당자 및 푸드트럭 사업자들을 만나며 영업 활동을 수행했고, 그 결과 1년 간 30건 이상의 행사 출장 파견 실적을 달성했습니다. 아울러 2016 대한민국인재상 수상자 대표, 소셜 벤처 동아리 회장 등 다양한 조직의 리더 역할을 자처하며, 다양한사람들의 의견을 수렴하고 합의를 도출할 수 있는 역량을 배양했습니다. 궁극적으로 삼성전자의 브랜드 가치를 세계 최고로 만드는 데 기여하고 싶습니다.기획 부서 및 생산 부서와의 적극적인 협업을 통해 고객이 미처 생각치 못한 새로운 제품과 고객 경험을 창조하는 것이 삼성전자에서 이루고싶은 저의 꿈입니다.\n",
      "Q :  본인의 성장과정을 간략히 기술하되 현재의 자신에게 가장 큰영향을 끼친 사건, 인물 등을 포함하여 기술하시기 바랍니다. (※작품속가상인물도 가능)(1500자 이내)   =>   제 좌우명은 ‘생각이 아닌 행동으로 증명하라’ 입니다. 남들보다 빠르고, 부지런히행동하여 변화를 만든 경험은 이러한 신념을 확고하게 만들었습니다. [행동으로 시각 장애인 안마사들의 신뢰를 얻다] 과거 시각 장애인 안마사들과 함께 안마 매장 설립하는 프로젝트를 수행했습니다.팀에서 저는 안마 서비스의 내용과 가격을 구성하는 상품 기획 업무를 담당하였습니다. 상권분석, 경쟁업체 방문 조사, 소비자 인터뷰, 가격대별 수익성 분석을 통해, 경쟁사 대비 40% 저렴한 저가 상품 기획안을 구성했습니다. 하지만 업계의 관행과다른 상품 구성에 대해 시각 장애인 안마사들은 의구심을 보였습니다. 그들의 신뢰를 얻고자 더욱 부지런히 행동하였습니다. 매주 3회 이상 식사를 함께하며 회의 시간에 미처 나누지 못했던 이야기들을 나눴습니다. 또한, 거리 행사 지원, 매장가구 집기 운반 등 그들이 차마 요구하지 못했던 궂은일도 자처하며 행동했습니다. 이에 감동한 시각장애인안마사들은 저의 상품 기획안에 대해서도 신뢰를 보내주었고, 결국 초기 기획했던 저가 상품을 매장 내에구현할 수 있었습니다. [행동으로 세상에 없던 서비스를 창조하다] 과거 SW 개발자 2명과함께 웹서비스 개발 프로젝트를 수행하였습니다. 팀에서 저는 기획자로서 핵심 기능 기획 및 UI 디자인 업무를 수행하였습니다. 프로젝트 초기 기획한 서비스는뷰티숍 CRM 프로그램이었습니다. 하지만 벤처경영학과 이영민교수님께서 현장에서의 고민이 부족한 것 같다며, 직접 현장에 방문해보라며 조언해주셨습니다. 이에 서비스 기획안을 들고 무작정 뷰티숍에 방문하였습니다. 50곳이넘는 매장을 돌아다니며, 대부분 매장에서 수기 기재를 통한 고객 DB구축에 불편함을 느끼지 않는다는 점을 알게 되었습니다. 아울러 주로 블로그/SNS를 통해 매장을 홍보하는 그들의 행동을 관찰하며, 해당 채널에온라인 예약 기능을 삽입하고자 하는 숨겨진 니즈를 발견하였습니다. 이를 반영하여 온라인 예약 플러그인으로서비스 기획을 전환하였습니다. 그 후 ‘모약’이란 이름으로 서비스를 오픈했고, 3주 만에 14개 매장에서 이를 사용하는 실적을 올렸습니다. [행동으로 조직의 갈등을 해결하다] 소셜 벤처 동아리 회장 시절, 전국 동아리 성과 공유 대회를 준비했습니다. 1년간의 성과를 소개하는 발표를 구성하는 것이 주된 활동이었습니다. 당시발표 시간의 한계로 동아리 내 5개 프로젝트 중 3개 프로젝트만이발표될 수 있었습니다. 때문에 이를 선발하는 과정에서 조직 내 갈등이 발생할 수 있었습니다. 이를 해결하고자 3회에 걸친 공개 선발 대회를 실행하였습니다. 전국 대회 심사위원 경력이 있는 선배를 초빙하여 선발의 공정성과 타당성을 확보하고자 하였습니다. 아울러 선발되지 못한 프로젝트 팀원들을 모두 개별적으로 만났습니다. 그들의생각과 아쉬운 감정에 공감하며, 추후 대회에서 좋은 성과로 보답하겠다며 약속하였습니다. 그 결과 매년 다툼이 발생하는 대회준비 과정을 어떠한 불화 없이 마무리했고,전국 대회 우승이란 성과를 이뤘습니다..\n",
      "Q :  최근 사회이슈 중 중요하다고 생각되는 한가지를 선택하고 이에관한 자신의 견해를 기술해 주시기 바랍니다.(1000자 이내)   =>   [변화하는 교육과정, 변하지않는 학교] 산업구조 변화에 따라 국가교육과정 역시 빠르게 변화하고 있습니다. 2015 교육과정 개정을 통해 SW 교육이 정규교육과정에 반영되었습니다. 중학생은 2018년부터 34시간, 초등학생은 2019년부터 17시간 의무적으로SW교육을 이수하여야 합니다. 하지만학교 인프라는 이에 맞춰 변화하지 못하고 있습니다. 초중학교 내 학생1인당 PC 수는 0.24대에 그치며, 이 마저도 오래된 컴퓨터가 대다수입니다. 신규 SW의 호환성 문제가 발생하기 쉬운 것입니다. 교사가 수업에 활용할수 있는 디지털 기기나 SW 역시 부족합니다. 그 어느 세대보다도디지털 기기 활용에 익숙한 현 초중학교 학생들에게 비효율적인 강의식 수업을 지속할 수 밖에 없는 또 하나의 이유입니다. 이러한문제는 공교육의 질 저하와 사교육 시장의 팽창으로 이어져 교육 격차를 확대할 것입니다. 이미 강남을중심으로 월 200만원짜리 코딩 유치원, 800만원짜리 코딩캠프가등장했습니다. 4차 산업 혁명의 도래에 따른 미래 인재 육성이란 명분에도 SW 교육에 대한 갑론을박이 끊이지 않는 이유입니다. [위기를 기회로] 기업가정신의 실천을 통해 이러한 문제를 해결해야 합니다. 삼성전자의역량을 발휘한다면 이상의 문제 상황을 새로운 기회로 활용할 수 있습니다. 1) 단기적으로 학교는 삼성전자 제품의 주된 판매처가 될 수 있습니다. 교육부는 올해 SW수업 시범 학교를 전국 1200개로 늘리겠다고 밝혔습니다. 이는 곧 1200개 학교에서 SW 수업을 위한 인프라 구축에 나설 것임을 의미합니다. 적극적인 영업력을 통해 이를 효과적으로 공략하여야 합니다. 2) 장기적으로 학교내 ICT 설비 구축을 선도해야 합니다. 특히 스마트 칠판사업은 많은 성장 잠재력을 가지고 있다고 생각합니다. 모든 교실의 필수품이자 학교에서 가장 많이 활용되는품목이기 때문입니다. 타이젠 OS를 탑재하여 학교에서 활용할수 있는 교육용 SW 플랫폼으로 발돋움할 수 있을 것입니다.\n"
     ]
    },
    {
     "name": "stdin",
     "output_type": "stream",
     "text": [
      "Correct ?  y\n"
     ]
    },
    {
     "name": "stdout",
     "output_type": "stream",
     "text": [
      "\n",
      "\n",
      "Q :  \"what makes you move?\" 무엇이 당신을 움직이게 하는지 기술해 주세요.   =>   저를 움직이게 하는 하나의 큰 힘은 즐거움입니다. 여러 경험을 통해 일차원적인 것을 넘은 즐거움을 얻을 수 있는 여러 방법에 대해 알게 되었고 이를 항상 실천하기 위해 노력하고 있습니다. 많은 즐거움들이 저를 이루고 있지만 그중 제 자신을 움직이게 하는 즐거움은 세 가지가 있습니다. [ 이해함을 통해 얻는 즐거움 ] 실험을 해 얻은 데이터가 왜 이런 결과를 보여주었는지, 친구가 약속시간에 왜 늦었는지, 사소한 일에도 원인이 있고 이유가 있다고 생각합니다. 이런 부분에 대해 알고, 이해하는 것 자체는 저는 즐거움이라고 느낍니다. 이해하는 과정을 통해 더 넓은 시야를 가질 수 있게 되고 좀 더 창의적인 생각을 할 수 있는 거름이 되기 때문입니다. 이해함을 통해 얻는 즐거움은 저를 움직이게 하는 첫 번째 즐거움입니다. [ 관계를 통해 얻는 즐거움 ] 유격 조교로 지냈던 군 생활에 대한 기억과 대학생활 중 학생회에 대한 기억은 힘들면서도 즐거웠던 시간으로 남아있습니다. 눈이 오는 좋지 않은 날씨에 유격 교육을 할 때, 바쁜 행사를 준비하며 밤을 새울 때 버틸 수 있는 원동력은 서로서로 보내는 격려와 응원이었습니다. 힘든 상황에서 주변 동료와 공유하는 유대감을 통해 어려움을 극복하며 성취감을 나누는 것은 저를 움직이는 두 번째 즐거움입니다. [ 성취를 통해 얻는 즐거움 ] 밤을 새워서 준비한 프로젝트 발표, 몇 개월 동안 준비하던 자격증 시험, 부지런히 공부한 전공 시험이 좋은 결과를 얻었을 때 준비를 위해 노력한 것의 몇 배로 즐거움을 얻었던 기억들이 있습니다. 무엇인가 이루었다는 성취감은 나 자신을 더 노력하게 만드는 기폭제가 되고 지속적인 성장을 하도록 도와주는 저를 움직이는 세 번째 즐거움입니다. 즐거움 속에는 긍정적인 에너지가 담겨있다고 생각합니다. 즐거움을 통해 퍼져 나가는 긍정적인 에너지는 주변 사람들뿐만 아니라 저에게도 좋은 작용을 했습니다. 즐거움을 찾아 언제나 활동적으로 움직이도록 하겠습니다.\n",
      "Q :  본인이 회사를 선택할 때의 기준은 무엇이며, 왜 현대 자동차가 그 기준에 적합한지를 기술해 주십시오.   =>   [ 전공의 날개와 지속적 발전 ] 저의 전공의 가장 큰 강점은 전기와 기계, 컴퓨터를 균형 있게 배운 것이라고 생각합니다. 이러한 강점을 효율적으로 발휘할 수 있는 환경의 여부는 제가 회사를 선택하는 하나의 기준입니다. 자동차의 기술은 이제 기계적 측면뿐 아니라 전기적, IT 쪽으로 중요성이 균형을 이루고 있습니다. 저는 이러한 흐름은 저의 전공적인 측면을 잘 살릴 수 있다고 생각했습니다. 또한 최근의 융합/복합적 추세의 기술의 흐름에서 폭넓은 이해를 할 수 있느냐 없느냐는 제품의 품질을 좌우할 수 있는 부분이라고 생각했습니다. 제가 가지고 있는 강점을 통해 전문성을 강화하여 품질 전문가로서 좋은 품질을 유지하는데 기여하고 싶습니다. [ 성취감 ] 회사를 선택함에 있어 성취감은 저에게 중요한 기준 중 하나입니다. 학교생활을 하면서 힘든 공부를 놓지 않고 끝까지 하여 좋은 성적을 얻었을 때, 팀원들과 과제를 밤낮없이 하여 좋은 결과물을 얻었을 때 성취감을 얻을 수 있었습니다. 그때 얻을 수 있는 즐거움은 저에게 새로운 도전을 할 수 있는 원동력이 되었고 자기발전의 기회가 될 수 있었습니다. 회사 생활도 비슷한 과정을 거친다고 생각합니다. 성취감은 끊임없는 도전, 자기발전으로 이어지고 더 큰 성취감을 얻게 되는 좋은 순환을 만들어 낼 것입니다. 현대자동차에서 다양한 형태로 성취감을 얻을 수 있다고 생각했습니다. 좋은 품질로 생산된 제품이 도로에서 주행되는 것을 보았을 때, 여러 국적의 많은 사람들과 협업하여 좋은 결과물을 얻을 때 생기는 성취감은 어느 기업보다 클 것이라고 생각했습니다. 좋은 품질의 제품을 유지해 가는 과정을 통해 제가 가지게 될 성취감을 현대자동차와 공유하고 싶습니다.\n",
      "Q :  현대자동차 해당 직무에 지원하게 된 이유와 선택 직무에 본인이 적합하다고 판단할 수 있는 이유 및 근거를 제시해 주십시오.   =>   [ 이유 있는 꼼꼼함 ] 유격대에서 보낸 19개월의 시간들은 저에게 이유 있는 꼼꼼함을 기를 수 있는 시간이 되었습니다. 절벽을 오르거나 줄 하나를 의지해 뛰어내리는 교육을 진행했기 때문에 사소한 실수에도 큰 위험으로 이어질 수 있는 환경이었습니다. 안전한 교육을 위해 교육 도구나 설치물들이 안전한 상태를 유지하는지 확인하는 것은 선택이 아닌 필수였습니다. 저는 이러한 경험을 통해 어떤 일이든 맡은 일 안에서 세심하게 확인하는 능력을 기를 수 있었습니다. 또한 큰 사고 없이 군 생활을 마무리할 수 있었습니다. 교육을 할 때 안전함을 다른 가치와 타협하지 않는 것처럼 제품의 품질 또한 다른 가치들과 타협하지 않아야 한다고 생각합니다. 저의 이유 있는 꼼꼼함을 통해 차량 생산의 단계마다 꼼꼼한 확인을 통해 더 좋은 품질의 제품이 생산될 수 있도록 하겠습니다. [ 업무를 위한 적극성 ] 두 번의 인턴 경험을 통해 문제의 해결을 위해 적극적인 자세가 중요하다는 것을 배울 수 있었습니다. 인턴기간 동안 해결해야 하는 과제(cooling tower, 냉각용 fan 점검 system)는 제가 잘 모르는 것들이 많아 어려움이 많았습니다. 그래서 과제에 관련된 대화를 선임과 나누어도 그 내용을 이해하기가 어려웠습니다. 저는 과제 해결에 필요한 자료들을 선임에게 부탁하여 읽어보고, 직접 시설물로 가서 그 구조와 시스템을 보며 적극적으로 이해하기 위한 노력을 하였습니다. 결국 과제에 대한 전반적인 부분을 이해할 수 있었고 잘 마무리할 수 있었습니다. 저는 이러한 경험을 통해 한 분야의 전문가가 되기 위해서는 끊임없는 물음에 답변을 얻기 위해 노력과 바탕이 되는 지식을 적극적인 태도로 습득하는 것이 중요하다는 것을 배웠습니다. 노력을 통해 큰 관성력을 만들어 거침없이 나아가는 사원이 되도록 하겠습니다.\n"
     ]
    },
    {
     "name": "stdin",
     "output_type": "stream",
     "text": [
      "Correct ?  y\n"
     ]
    },
    {
     "name": "stdout",
     "output_type": "stream",
     "text": [
      "\n",
      "\n",
      "Q :  자발적으로 최고 수준의 목표를 세우고 끈질기게 성취한 경험에 대해 서술해 주십시오. 1) 먼저, 관련 대표 경험 2가지를 간략하게 작성해 주십시오. (각 50자 이내) - 언제, 어디서, 어떤 일을 수행했던 경험인지 간략하게 기술할 것   =>   [혼자 기획하고, 혼자 개발하다] 대학교 4학년 때 안드로이드 프로그래밍 수업에서 개인 파이널 프로젝트를 진행하였습니다. 자기 자신이 만들고 싶은 앱을 기획하고, 기획을 바탕으로 어플리케이션을 개발하는 프로젝트였습니다. 처음 무엇을 만들까 고민을 참 많이 했습니다. 그러던 중 뉴스에서 중국 아오란그룹 단체관광객 6000명이 인천으로 관광을 왔다는 뉴스를 접했습니다. 뉴스를 보고 ‘점점 늘어나는 중국인 관광객을 위한 자전거 대여 안내 어플리케이션을 만들면 어떨까?‘ 라는 생각을 하게 되었습니다. 어플리케이션을 혼자의 힘으로 만들어 본 경험이 없어서 걱정 되었지만, 해낼 수 있다는 자신감을 가지고 개발을 시작하였습니다. 먼저, ’어떻게 정보를 제공해주어야 중국인관광객들이 쉽게 이용할 수 있을까?‘ 라는 고민을 하였고 중국어로 어플리케이션을 제작해야겠다는 결론을 지었습니다. 친여동생이 중어중문과를 전공하고 있어서 도움을 받아 중국어로 어플리케이션을 제작하기 시작했습니다. 또한 시각적으로 정보를 쉽게 줄 수 있는 방법은 구글맵을 이용하여 위치를 표시해주면 좋겠다는 생각을 하게 되었습니다. 구글맵을 이용하여 개발한 적이 없었기 때문에 구글맵 기능에 대한 공부를 하였고, 서울 열린 데이터 광장 홈페이지에서 서울의 자전거대여소의 위치를 위도, 경도로 제공해 주어 오픈데이터를 파싱하여 위도, 경도로 구글맵에 표시해 주었습니다. 자전거 대여소 정보와 함께 자전거 추천 코스도 소개해주는 기능도 추가하려고 했습니다. 하지만 R을 사용한 추천 알고리즘을 이해하여 개발하기에는 제 지식이 부족하였습니다. 학부에서 소프트웨어 강의들을 수없이 들어왔지만 프로젝트 개발에 부족한 제 자신을 보고 좀 더 분발하여 지식을 쌓아야 하겠다는 생각을 하였습니다. 다른 친구들은 테트리스 게임, 지뢰 찾기 게임, 채팅 등 진부한 프로젝트를 진행하였습니다. 고민하여 좋은 아이디어를 기획한 덕분에 좋은 결과를 얻을 수 있었습니다.\n"
     ]
    },
    {
     "name": "stdin",
     "output_type": "stream",
     "text": [
      "Correct ?  y\n"
     ]
    },
    {
     "name": "stdout",
     "output_type": "stream",
     "text": [
      "\n",
      "\n",
      "Q :  \"what makes you move?\" 무엇이 당신을 움직이게 하는지 기술해 주세요.   =>   [도전이 낳는 실패] 대학교 2학년 때 SNS상의 페이지를 개설한 경험이 제 인생에서 처음으로 ‘도전’이라고 말할 수 있는 시도였습니다. 대학생으로서 대학 생활과 관련된 정보를 얻을 곳이 부족하다고 느꼈고 그 일을 내가 해보자는 마음으로 만들게 되었습니다. 하지만 예상과 달리 페이지는 큰 호응을 얻지 못했고 한 달 만에 삭제되었습니다. 오기가 생겼고 제 목표 달성을 위한 의지는 더 강해졌습니다. 그 후로 유사 인기 페이지들을 찾아 비교, 분석해보았고 실패 원인이 가장 기본을 간과한 점에 있었다는 것을 알게 되었습니다. 일반적인 사람들의 SNS ‘사용 목적’은 다른 사람과의 소통, 또는 그 안에서 재미 요소를 찾기 위함에 있으므로 아무리 유익한 정보라고 할지라도 단순히 그것을 전달하는 용도의 페이지는 사람들의 이목을 끌기 힘들었습니다. 그로부터 2주 뒤 게시물의 방향을 넓혀 여러 대학 축제, 이벤트 등을 홍보해주는 기능까지 더한 페이지를 재개설하였고, 처음 목표했던 5,000명을 훌쩍 넘는 대학생 수를 보유한 페이지로 발전하게 되었습니다. 모든 일에는 타이밍이 있고 그를 놓쳤을 때 미련으로 남게 됩니다. 저는 모든 일에 미련을 남기지 않기 위해 늘 도전을 하고 그 도전을 두려워하지 않습니다. 이러한 태도 덕분에 대학 생활 동안 다양한 분야의 경험을 할 수 있었고 그에 따른 실패도 여러 번 겪었습니다. 매번 도전에 따라오는 실패는 제게 좌절감보다 더 큰 동기부여를 주었습니다. 실패를 딛고 일어나서 원하는 바를 이루었을 때 더 성장한 자신을 만날 수 있었고 그 과정에서 온 깨우침은 제게 매우 소중하게 남아있습니다. 실패 없는 도전은 없습니다. 도전에 따른 실패는 저를 움직입니다.\n",
      "Q :  본인이 회사를 선택할 때의 기준은 무엇이며, 왜 현대 자동차가 그 기준에 적합한지를 기술해 주십시오.   =>   [시너지를 내는 회사] 회사는 개인이 인생에서 가장 오랫동안 몸담게 되는 단체이며 인생의 동반자라고도 할 수 있습니다. 그러므로 회사와 ‘나’는 서로를 필요로 하고 같이 발전해 나갈 수 있는 관계가 되어야 한다고 생각합니다. 현대자동차와 같은 세계적 기업에서 많은 경험을 하고 일을 배우면서 성장하고 싶습니다. 그리고 저는 그 안에서 현대자동차를 세계 지도자로 도약시킬 준비가 되어있습니다. [똑똑한 회사] 현재의 최고가 앞으로도 최고라는 보장은 없습니다. 세상은 빠르게 변화하고 있고, 그에 한발 앞서 대응할 줄 아는 회사가 진정한 지도자가 될 것으로 생각합니다. 제가 원하는 회사는 현재보다 앞으로 최고가 되는 방법을 알고 있는 회사입니다. ‘자동차는 더는 기술이 아닌 문화다’라는 기사를 본 적이 있습니다. 어느 정도 평준화를 이룬 자동차 시장에선 더는 품질, 가격, 새로운 기술이 경쟁력이 될 수 없으므로 차별화된 브랜드 경험은 더욱 중요할 수밖에 없다는 것입니다. 이에 현대자동차는 품질, 기술, 가격에 이은 네 번째 경쟁력으로 ‘창의’를 꼽고 2016년 ‘크리에이티브팀’을 새롭게 조직하며 빠르게 대응하고 있습니다. 콘셉트, 로고, 색채, 이미지 스타일을 재정비하고 현대자동차의 정체성을 담은 음향 시스템까지 개발했으며 ‘360도 관점의 브랜드 경험 디자인’에 중점을 두고 다양한 영역의 세세한 부분에도 브랜드 가치를 담으려 노력하고 있습니다. 이처럼 현대자동차는 한 분야에만 치중하지 않고 ‘똑똑한’ 방법으로 경쟁력을 구축해 나가고 있습니다. 이러한 면이 제가 ‘현대자동차는 앞으로 최고가 될 회사’라는 생각을 하게 된 계기가 되었고 그 이유로 저는 현대자동차를 선택했습니다.\n",
      "Q :  현대자동차 해당 직무에 지원하게 된 이유와 선택 직무에 본인이 적합하다고 판단할 수 있는 이유 및 근거를 제시해 주십시오.   =>   [추세를 알다] 다양한 분야에서 기업 트렌드를 파악하고 있습니다. 국내 또는 해외 기업의 새로운 경영전략, 사업 진출, 기술에 관한 투자 기사를 보며 그 기업들이 나아가는 추세를 파악하고 있고, 새로운 홍보 방법, 마케팅 전략으로 인한 성공 사례와 그 요인 등을 다룬 기사를 보며 ‘브랜디드 디자인’, ‘브랜드 경험’과 같은 개념의 중요성을 알게 되었습니다. 현대자동차는 이제 자동차 시장뿐만 아니라 모든 시장에서 경쟁해야 합니다. 이에 여러 분야의 추세 파악은 필수적입니다. 잡지와 인터넷 뉴스 기사를 스크랩하며 갖게 된 넓은 시각으로 해당 직무에서 현대자동차가 도약하는 데 이바지하겠습니다. [나무보다 숲을 보다] 전국 대학생을 대상으로 ‘몸만와’라는 엠티 축제를 기획한 경험이 있습니다. 대학생들에게 싼 가격에 엠티를 갈 기회를 마련해주기 위해, 단순 재미를 위해 시작했지만 일이 구체화하면서 일손이 필요해졌습니다. 행사에 관심을 두던 친구와 그 지인들까지 총 네 명의 ‘공대생’을 섭외해 각자 장소 섭외, 의류와 주류 협찬, 홍보, 회계로 역할을 분담했습니다. 저는 기획자로서 큰 책임감을 느꼈고 각 역할 간 관계를 조율해가는 데에 힘썼습니다. 한정된 예산으로 물품 구매, 홍보, 장소 대여 비용에 대한 비중을 어떻게 나눌 것인지, 오프라인 홍보는 효과적일지, 한다면 위치는 어디가 좋을지, 새로운 콘텐츠를 만들었을 때 그것이 득이 될지 독이 될지 등 고려해야 할 사항이 생각했던 것보다 많았습니다. 모두가 처음 해보는 일이었기에 매일 같은 시간 커피숍에서 만나 서로 보완하고 효율적인 방법을 찾으려 노력했습니다. 그렇게 한 달가량 고생한 끝에 300명 규모의 행사를 무사히 개최할 수 있었습니다. 전문 지식 없이 제멋대로 기획해본 행사였지만, 처음부터 끝까지 제 손으로 이루었다는 사실이 신기하고 뿌듯했습니다. 이는 나무 한 그루를 키우는 능력보다 숲 전체를 관리할 줄 아는 제 능력을 확인할 기회가 되었고, 해당 직무에서 이러한 능력을 발휘할 수 있을 것입니다.\n"
     ]
    },
    {
     "name": "stdin",
     "output_type": "stream",
     "text": [
      "Correct ?  y\n"
     ]
    },
    {
     "name": "stdout",
     "output_type": "stream",
     "text": [
      "\n",
      "\n",
      "Q :  자신의 성장과정 및 개인 특성, 장점을 중심으로 기술하여 주시기 바랍니다.   =>   [끈질긴 노력을 배워 태어난 환경을 이겨내다] 중학생 때 읽었던 '가난하다고 꿈조차 가난할 수 없다' 의 주인공은 가난한 형편에서도 끈질긴 노력으로 유학의 꿈을 이뤘습니다. 그의 성장기를 읽고, 목표를 위해 끈질기게 노력하면 태어난 환경도 이겨낼 수 있음을 배웠습니다. 이러한 배움으로 목표했던 화학공학과에 입학했습니다. 고등학교시절, 탐탐치 않은 환경으로 학교수업에만 전념하여 대학을 준비해야했습니다. 하지만 높은 성적을 위해서는 수업이 부족함을 느꼈습니다. 더 배우려고, 매 쉬는 시간 선생님들에게 찾아갔습니다. 짧은 시간이지만 3년간 찾아간 결과, 좋은 성적을 거둬 대학에 진학했습니다. 이를 바탕으로 향후 공정 확립과정의 난관에 굴하지 않고, 끊임없이 시도하는 연구원이 될 것입니다.\n"
     ]
    },
    {
     "name": "stdin",
     "output_type": "stream",
     "text": [
      "Correct ?  y\n"
     ]
    },
    {
     "name": "stdout",
     "output_type": "stream",
     "text": [
      "\n",
      "\n",
      "Q :  \"what makes you move?\" 무엇이 당신을 움직이게 하는지 기술해 주세요.   =>   [넘어지면서 한발 내딛기] 저를 움직이게 하는 것은 끝없는 도전에서 오는 열정과 성취감입니다. 저는 전공심화 과정에 들며 마음에 맞는 선배들을 모아 창업동아리를 만들게 되었습니다. 실습이 많은 공과대학에서 공학적 기술들을 그저 쌓아 올리기만 하는 것이 못내 아쉬웠습니다. 이 기술들로 생활에 불편을 느끼는 이들을 위해 유용한 아이템을 만들 수 없을까 고민하였습니다. 그러던 중 스마트폰 사용은 점차 증가하는데 시각장애인은 스마트폰을 습득하고 익숙해지는 더 많은 시간을 요한다는 뉴스를 보았습니다. 그러나 기존의 점자기나 스마트폰 보조 장치는 가격이 터무니없도록 비싸 실질적인 도움이 되지 못하고 있었습니다. 저는 간단한 공학적 기술들로 단가를 낮추고 시각장애인의 스마트폰 사용을 돕는 아이템을 개발하였습니다. 구성원들을 모아 1차 시제품을 생산하고 교내 창업대회에 참가하였으나 결국 고배를 마시게 되었습니다. 결과가 실망스러웠지만, 오히려 더욱 불타올랐습니다. 실제로 이 제품이 정말 시각장애인들에게 도움이 될 수 있는지 보완점은 무엇인지 3달 동안 잠을 줄여가며 개선해나갔습니다. 천안시 대학 중에 복지학과에 재학 중인 지인들을 통하여 고객층이 되는 시각장애인들과 많은 컨택의 기회를 가질 수 있었습니다. 그 후 사출성형으로 제품을 생산하고 수십번의 유한요소 해석 후 안정화된 완성 제품을 만들 수 있었습니다. 그 결과, 시각장애인 분들의 긍정적인 피드백을 받을 수 있었고 다양한 전국 창업경진대회에서 대상 수상 등의 좋은 성과 또한 얻을 수 있었습니다. 만일 첫 도전 후 그 결과에 실망하고 포기했더라면 그 후 제품 생산 과정과 고객 니즈 파악의 필요성, 팀워크에 무엇이 중요한지 등에 대해서는 배울 기회가 없었을 것입니다. 이러한 도전 후 어떠한 도전이든 거침없이 시도하고 재도전하는 것에 즐거움을 느낄 수 있었습니다. 현대자동차에서도 프로젝트를 수행하며 새로운 기술을 적용하거나 기존과는 다른 방식의 도전에 맞닥뜨려야 하는 순간에 역경을 즐길 수 있는 인재가 되고 싶습니다.\n",
      "Q :  본인이 회사를 선택할 때의 기준은 무엇이며, 왜 현대 자동차가 그 기준에 적합한지를 기술해 주십시오.   =>   23일 관련업계에 따르면 현대차그룹은 지난해 2월 ‘미래를 향한 진정한 파트너’라는 중장기 비전을 선포하고 그룹 통합 사회공헌 체계 구축과 함께 새로운 사회공헌사업을 시작한다고 밝혔다. 이에 그룹은 △세이프 무브(교통안전문화 정착) △이지 무브(장애인 이동편의 증진) △그린 무브(환경보전) △해피 무브(임직원 자원봉사 활성화) 등 기존 4대 사회공헌 사업에 ‘자립지원형 일자리 창출(드림무브)’ ‘그룹 특성 활용(넥스트무브)’ 등 사회공헌 분야 2가지를 새로 추가했다. 새로운 사회공헌 중심 분야인 드림무브는 청년 및 저소득층 등 사회 취약계층의 창업과 자립을 돕는 사업이다. 현대차그룹은 기존의 청년 사회적 기업가 발굴과 육성을 돕는 현대자동차의 ‘H-온드림 오디션’ 과 예비 사회적 기업가를 대상으로 멘토링과 교육을 제공하는 ‘서초 창의 허브’ 등을 지속하는 한편 신규 진행되는 사업도 확대할 계획이다. 넥스트무브는 현대차그룹 계열사의 기술·서비스·인프라를 더욱 폭넓게 활용하는 사업이다. 현대차그룹은 고철 유통구조 혁신을 통해 더 많은 이익을 영세 종사자에게 환원하는 현대제철의 ‘H-리사이클 센터’, 공작기계 설비를 활용해 사회적 혁신제품 시제품의 제작을 지원하는 현대위아의 ‘프로토타입 개발 센터’ 등을 진행하고 있다.\n",
      "Q :  현대자동차 해당 직무에 지원하게 된 이유와 선택 직무에 본인이 적합하다고 판단할 수 있는 이유 및 근거를 제시해 주십시오.   =>   [밑바닥에서 비파괴 검사장비를 만들기까지] 저는 졸업작품 프로젝트로 적외선을 이용한 비파괴 검사장치를 개발했습니다. 기존에 배웠던 유한요소 해석과 랩뷰 프로그램을 기반으로 하여 내부 프로그램을 설계하였습니다. 기존 비파괴 검사 장치 같은 경우 기기 단가가 지나치게 높게 형성되어 있지만 저와 팀원들이 설계한 제품은 적외선 장비를 이용하여 다양한 주파수 분석으로 크랙을 보다 쉽고 빠르게 찾아낼 수 있었습니다. 물론 처음에는 프로그램을 설계하는 것이 학부 수준을 넘어가는 것이어서 기초 랩뷰 지식만을 가지고 있던 저는 프로그램 설계에 한계를 느꼈습니다. 하지만 졸업한 선배 중 비파괴 업무를 담당하는 선배들을 직접 찾아가며 조언을 구하였습니다. 또한, 인터넷 랩뷰 동호회에 가입하여 적극적인 활동으로 랩뷰 전문가들에게 막히는 부분들을 하나씩 배워가며 차근차근 프로그램을 완성해 나갔습니다. 그 결과 처음에는 크랙이 선명하게 보이지 않았지만, 할로겐 등의 점멸 주파수를 조절해가며 결국 선명한 화질의 크랙 탐지사진을 확보할 수 있었습니다. 결과적으로 이를 이용하여 이동식 소형 로봇 제품의 외형 설계까지 완성한 후 프로젝트는 마무리 지었지만 이를 토대로 서울에서 열리는 국내 세미나 및 태국에서 열린 국제 학회 등에 대표로 참여하여 프레젠테이션을 펼치고 국내외 대학 교수님들의 좋은 평가를 받을 수 있었습니다. 제품을 설계하면서 유한요소(FEM), 회로도 설계 등의 밤샘 연구 작업을 하며 정말 많은 공학적 기술을 배울 수 있었고 긍정적인 결과로 마무리할 수 있었습니다. 현대자동차 차량 평가 직무는 차량의 대량생산에 앞서 다양한 장비를 활용하여 세밀한 부분까지 다시 한번 확인해야 하는 치밀함이 필요하다 생각합니다. 이러한 연구 경험들이 해당 직무를 수행하는 데 있어서 좋은 발디딤이 될 수 있으리라 생각합니다.\n"
     ]
    },
    {
     "name": "stdin",
     "output_type": "stream",
     "text": [
      "Correct ?  y\n"
     ]
    },
    {
     "name": "stdout",
     "output_type": "stream",
     "text": [
      "\n",
      "\n",
      "Q :  혼자 하기 어려운 일에서 다양한 자원 활용, 타인의 협력을 최대한으로 이끌어 내며, Teamwork을 발휘하여 공동의 목표 달성에 기여한 경험에 대해 서술해 주십시오.   =>   [나눌수록 커지는 지식과 경험] 팀워크를 통해 지식과 경험을 공유하면 최고의 성과를 달성할 수 있습니다. 작년 OOOOO에 참여했습니다. OOOOO를 상징하는 기념품을 만드는 팀 과제가 있었습니다. 활발한 성격으로 자진해서 팀장을 맡았고, Design thinking을 했습니다. 서로 친해지긴 했지만, 아이디어가 선뜻 나오지 않았습니다. 개인의 지식과 경험은 한정적이기 때문에, 아이디어를 합쳐야겠다고 생각했습니다. 3학년 OOOOO 수업에서 배운 ‘Brain writing’ 기법이 떠올랐습니다. 포스트잇에 각자 키워드에 맞는 자유로운 아이디어 3개를 적게 했습니다. 이를 옆으로 전달하고, 이전 아이디어에 대해 자유롭게 의견을 적어 전달하는 방법이었습니다. 제일 좋은 아이디어를 골라 OOOOO을 더한 ‘OOOOO’라는 아이디어를 선정했습니다. 모두의 아이디어를 더한 제품을 선정했기 때문에 설계가 수월했습니다. 설계 중 제품 외관을 은색으로 할지 푸른색으로 할지 의견 차이가 있었지만, 정답은 따로 없다고 생각했기 때문에 즐거운 분위기를 유도하며 거수투표로 합의를 통해 해결할 수 있었습니다. 최종제품을 발표했습니다. 전날 팀원들이 다과를 준비해 제 방에 모여 즐겁게 발표를 준비했습니다. 저는 대본을 모두 외우려고 했지만, 한 팀원이 스토리텔링을 이용해 발표하는 법을 소개해 주었습니다. 말하려는 키워드만을 기억하며 자연스럽게 발표를 진행하는 방법이었습니다. 덕분에 다음날 모두의 아이디어가 담긴 최고의 결과로 만족스러운 발표를 했습니다. 발표 1위와 함께 최우수 팀이 되었습니다. `Brain writing` 이라는 제 경험과, 발표역량이라는 팀원들의 경험과 지식을 자원으로 활용해 팀워크를 발휘했습니다. 혼자만의 지식과 경험은 작지만, 팀워크를 통해 지식과 경험이 모여 더 큰 역량을 만들고 함께 성장할 수 있음을 배웠습니다. 이 경험을 통해, 모두의 지식과 경험을 모은 팀워크로 최고의 성과를 달성하는 엔지니어가 되겠습니다.\n"
     ]
    },
    {
     "name": "stdin",
     "output_type": "stream",
     "text": [
      "Correct ?  y\n"
     ]
    },
    {
     "name": "stdout",
     "output_type": "stream",
     "text": [
      "\n",
      "\n",
      "Q :  \"what makes you move?\" 무엇이 당신을 움직이게 하는지 기술해 주세요.   =>   <내가 사랑하는 사람, 나를 사랑해주는 사람> 저는 저를 움직이게 하는 가장 큰 원동력이 제가 사랑하고 저를 믿어주는 사람들의 기대심이라고 생각합니다. 제가 군대 전역 후 복학을 앞두고 아르바이트를 하고 있을 때, 얼굴도 모르는 동아리 후배로부터 겨울방학에 동아리활동을 하는데 혹시 참가할 수 있는지 묻는 전화를 받게 되었습니다. 복학을 앞둔 많은 학생들이 그렇듯 저 역시 학교로 돌아갈 때의 설레는 마음 반, 막연한 두려움 반으로 복잡하였습니다. 그 때 그 전화를 받고나서 안도감과 고마움을 느끼게 되었습니다. 그 이후 동아리 활동을 통해 여러 대회를 출전하고 동아리 회장을 맡기까지 하였습니다. 복학 후 저의 대학생활 3년의 첫 단추는 그 때 후배의 전화였고 그 당시 제가 느낀 고마움을 제가 아끼는 선후배들과 나누기 위해 노력한 것이 저의 대학생활 3년의 결과물이라고 생각합니다. <가능성이 보인다면 앞으로 나가는데 주저하지 마라> 그랬던 대학교 동아리활동이었기에 저를 가장 기쁘게도 해주었지만 가장 힘들게도 했습니다. 태어나서 처음으로 조직의 장을 맡게 되면서 전체를 통솔하고 일정을 계획하며 내부의 갈등을 조정을 하는 등 많은 일을 해보았습니다. 저는 1학년 때부터 자작자동차 동아리 활동을 하였는데 복학을 앞두고 준비했던 전기자동차대회가 있었습니다. 하지만 여름에 Mini Baja 대회에서 수상을 하고 많은 동아리 원들이 Formula 대회에 관심을 갖으면서 예산과 작업공간의 문제, 기술적 한계 등의 이유로 전기자동차대회를 그만하자고 저를 설득하였습니다. 하지만 저는 제가 작업을 하면서 느낀 문제점을 개선하면 충분히 더 나은 차를 만들 수 있을 거라고 생각했습니다. 그 때 저희 학교 전기과에서 전기자동차를 준비하는 팀이 있어 협업을 통해 제기된 문제를 해결하였습니다. 또한 협업 2년차에 팀장을 맡아서 대회에 출전하여 종합 5위의 성적을 거두어 몇 년간 이 대회를 위해 고생한 많은 선후배들과 수상의 영광을 나누게 되었습니다.\n",
      "Q :  본인이 회사를 선택할 때의 기준은 무엇이며, 왜 현대 자동차가 그 기준에 적합한지를 기술해 주십시오.   =>   <도전과 가능성을 지향한다.> 현대자동차는 1976년 포니를 시작으로 2016년 아이오닉에 이르기까지 40년간 수많은 도전과 성과를 이루어냈습니다. 저는 이러한 성장의 원동력이 도전과 가능성을 모토로 하고 있었기 때문이라고 생각합니다. 말로만 해봤냐고 묻는 것이 아니라 직접 해보면서 가능성을 가늠하고 가능성을 현실화하기 위한 많은 노력이 있었기에 단순한 매출의 양뿐만 아니라 브랜드의 가치 역시 인정받고 있다고 생각합니다. 그러한 노력의 상징으로 현대자동차 남양연구소가 있고 R&D 분야에 대한 투자가 있다고 생각합니다. <개인이 맡은 책임, 창의성의 발휘, 성취감> 이번 H-채용설명회를 페이스북으로 보았는데 가장 인상 깊었던 것이 자신이 설계한 차체 앞에서 찍은 사진을 소개하는 장면이었습니다. 어떤 점을 개선할까, 어떤 방식으로 개선할까 다양하게 고민하는 것, 그리고 고민 끝에 탄생한 결과물이 도로를 달릴 때의 성취감은 돈으로 바꿀 수 없다는 것을 저 역시 자작차대회를 나가면서 많이 느꼈습니다. 회사가 나를 믿고 책임을 맡기고 능력을 발휘할 수 있도록 보장하여 일을 통해 성취감을 느낄 수 있다면 즐거운 마음으로 회사를 다닐 수 있을 것이라고 생각합니다. <매일 아침저녁으로 타는 버스, 공간의 가치> 저는 최근 취업준비를 위해 학원을 다니면서 매일 버스를 탔습니다. 그 안에서 자기소개서에 무슨 내용을 적을까, 나는 자동차회사에 들어가고 싶어 하는가에 대해 고민도 하였습니다. 그러다가 든 생각이 인터넷의 발달로 사람들 간의 공간이 많이 사라진 현대사회에서 공간으로써의 가치를 유지하고 있는 몇 안 되는 것 중의 하나가 차량으로, 그 가치는 식탁에 비교할 수 있다고 생각합니다. 의식주의 성격을 일부분씩 띠고 있으면서, 사람과의 소통을 할 수 있는 공간으로써의 가치와 개인 또는 가족의 안전을 책임지는 수단이라고 생각하였습니다. 또한 이러한 자동차를 보다 안전하게, 보다 오래 탈 수 있도록 만드는 것을 하고 싶다고 결론지었습니다.\n",
      "Q :  현대자동차 해당 직무에 지원하게 된 이유와 선택 직무에 본인이 적합하다고 판단할 수 있는 이유 및 근거를 제시해 주십시오.   =>   <가능성 탐구, 분석적 마인드> 저는 차량의 성능을 평가하고 문제점을 파악하여 개선하는 직무가 저에게 가장 적합하다고 생각합니다. 자동차를 만들어서 테스트하거나 실험에서 데이터를 얻었을 때 중요하게 생각하여야 할 것이 결과물의 의미라고 생각합니다. 실제로 차를 만들고 문제를 분석하는데 가장 어려웠던 것이 테스트 결과에서 문제의 원인을 파악하는 것과 해결방안을 찾는 것이었습니다. 예를 들면 차가 편제동하면 조향계통과 휠 얼라이먼트, 무게 배분, 제동과 현가장치 세팅, 인적 요인 등 다양한 원인을 생각할 수 있습니다. 하지만 문제를 해결하기 위해 손을 보면 다른 부분에서 간섭이 나거나 또다른 문제가 발생하기도 합니다. 따라서 중요한 것이 문제를 해결하기 위해 세팅을 조정하는 방향성과 요구 조건을 충족할 수 있는 수준을 유지하는 것입니다. 자작차라는 활동이 정량적으로 해결하지 않는다고 볼 수 있지만 요구조건을 향하여 개선방향을 잡듯 상용차에서 승차감 및 NVH 성능의 향상을 이루기 위하여 소재의 변경, 서스펜션 세팅의 변경 등의 방향성을 잡아 해결할 수 있다고 생각합니다. <정비요원, 드라이버, 팀장> 위의 세 가지 키워드는 제가 세 번의 자작차대회를 참가하면서 맡았던 직책입니다. 정비요원으로 차를 만들 때는 엔진, 브레이크와 같이 맡은 부분에 대해 보다 나은 방법을 모색하였고, 드라이버를 맡았을 때는 직접 차를 타보면서 문제점을 파악하는데 집중하였습니다. 앞에서 이러한 과정이 있었기에 팀장을 맡았을 때 막연한 느낌이 아닌 경험을 통해 배운 것들을 이용하여 일정을 계획하고 차를 제작할 수 있었습니다. 또한 차마다 특색이 있고 안정성과 조종성처럼 양립할 수 없는 성능이 있습니다. 그렇기에 차의 색깔을 파악하고 어느 부분에 초점을 맞출지 결정을 내리는 것이 매우 중요하다고 생각합니다. 저는 차를 생산하는 입장과 사용하는 입장 양쪽의 생각을 모두 고려할 수 있고 스스로 하나의 센서가 되어 차의 성능을 향상시킬 수 있는 차량평가 직무를 매력적이라고 생각합니다.\n"
     ]
    },
    {
     "name": "stdin",
     "output_type": "stream",
     "text": [
      "Correct ?  y\n"
     ]
    },
    {
     "name": "stdout",
     "output_type": "stream",
     "text": [
      "\n",
      "\n",
      "Q :  본인이 삶을 살아가는데 가장 중요하게 생각하는 가치를 네글자로 표현하고 그 이유와 해당가치를 추구한 경험 설명   =>   의사소통 세상은 혼자 살고 혼자 움직이는 것이 아닙니다. 수많은 사람들이 함께 하기에 현재의 삶이 있고, 더 나은 미래를 만들 수 있습니다. 이처럼 더 나은 사회, 세상을 만들기 위해 필요한 가치 중 하나는 바로 의사소통이라고 생각합니다. 소재의 활용방안을 주제로 PT 발표를 한 적이 있습니다. 8명이 한 팀이 되어 과제를 수행하였습니다. 하지만 다들 가까운 사이여서 무탈하게 과제를 수행할 것이라 여겼습니다. 하지만 시간조율, 과제에 관한 의견 등 사소한 잡음이 들렸습니다. 가까운 사이라 오히려 자신의 주장만 강했기 때문입니다. 잡음은 큰소리로 이어졌고, 이대론 사람들과의 관계도, 과제도 모두 잃을 것 같았습니다. 먼저 한명한명 따로 팀원들을 만나 일상이야기와 더불어 자연스레 과제에 관한 문제점에 대해 나누었습니다. 모두 만나고 보니 정말 작은 입장차이가 뭉쳐 큰 문제가 된 것이었습니다. 다음 모임에 이에 대해 다시 이야기를 나누었고, 다시 한가지의 목표를 가지고 나아가게되었습니다. 이런 경험을 통해 의사소통의 중요성을 느꼈습니다. 그중에서도 경청, 공감이 무엇보다 중요함을 머릿속에 새겼습니다. 조직의 목표 달성을 위해선 개개인의 능력도 중요하지만 조직원과의 소통 역시 마찬가지로 중요합니다. 동료들의 소리에 귀 기울이고, 서로 필요한 부분을 채우며 목표달성에 보다 한걸음 더 다가가는 모습을 보여드리겠습니다.\n"
     ]
    },
    {
     "name": "stdin",
     "output_type": "stream",
     "text": [
      "Correct ?  y\n"
     ]
    },
    {
     "name": "stdout",
     "output_type": "stream",
     "text": [
      "\n",
      "\n",
      "Q :  본인이 회사를 선택할 때의 기준은 무엇이며, 왜 현대 자동차가 그 기준에 적합한지를 기술해 주십시오.   =>   [역량을 발휘할 수 있는 회사] 제 역량을 필요로 하며, 역량을 발전시킬 수 있는 회사에 입사하고 싶습니다. 제 역량은 전략, 기획, 그리고 자동차에 특화되어 있습니다. 경영전략학회 활동을 당시 실제 기업과 프로젝트를 진행하며 기업의 시각으로 전략을 수립하는 훈련을 하였습니다. 또한 각종 정량적 정성적인 자료에 대한 정확한 분석을 통해 분석력을 기를 수 있었습니다. 그리고 저는 자동차에 대한 다양한 지식을 쌓기 위해 꾸준히 기술에 대한 공부를 진행하였습니다. 상품 전략을 담당하는 직원으로서 가장 필요한 역량은 다양한 자료, 소비자 니즈에 대한 정확한 분석력과 전략적 사고를 기반으로 적합한 전략을 도출하는 것이라고 생각합니다. 그리고 이러한 과정에서 다각적인 지식이 존재할 때 보다 적합한 전략이 도출된다고 생각합니다. 따라서 상품 전략 업무가 필요로 하는 역량이 제가 학회 활동을 통해 공부하고 연습했던 역량이며, 제가 가진 자동차 지식을 바탕으로 저의 역량을 현대자동차에서 발전시켜 ‘이동’의 즐거움을 많은 소비자들과 공유하고 싶습니다. [고정관념을 깨는 회사] 고정관념을 깨고 새로운 시장을 개척하는 것은 기업의 성장과 발전에 필수적입니다. 그리고 그러한 회사는 회사와 임직원이 동시에 발전할 수 있습니다. 저는 그러한 기업에 입사하여 회사의 성장에 기여하고 스스로의 역량을 키우고 싶습니다. 현대자동차는 자동차회사임에도 불구하고 로봇사업을 신 시장으로 개척하고 있습니다. 바퀴라는 고정관념을 깨고, 인간의 이동 한계를 뛰어넘는 수단으로 로봇에 투자하여 ‘자유로운 이동 생활’을 실현시키기 위해 노력하고 있습니다. 그리고 로봇기술을 통해 완성차의 자율주행 기술을 완성시키고 신시장 개척을 통해 양질의 발전을 추구하고 있습니다. 고정관념을 깨기 위해서는 다양한 지식의 융합이 필수적이라고 생각합니다. 세상에 있는 모든 이동수단을 타기 위한 저의 꿈과 경험은 로봇을 넘어 또 다른 고정관념을 깨기 위한 소중한 자산이 될 수 있을 것입니다.\n"
     ]
    },
    {
     "name": "stdin",
     "output_type": "stream",
     "text": [
      "Correct ?  y\n"
     ]
    },
    {
     "name": "stdout",
     "output_type": "stream",
     "text": [
      "\n",
      "\n",
      "Q :  자신에게 주여졌던 일 중 가장 어려웠던 경험은 무엇이었습니까? 그 일을 하게 된 이유와 그 때 느꼈던 감정, 진행하면서 가장 어려웠던 점과 그것을 극복하기 위해 했던 행동과 생각, 결과에 대해 최대한 구체적으로 작성해주십시오.(1000자 10단락 이내)   =>   A. [두려웠던 개발자와의 미팅, 커뮤니케이션, 협업] 저의 노력하는 모습을 팀원들이 보고 한 개발자 친구가 저에게 자주 이야기를 나누자 하였고 그 친구를 매일같이 만나 개발에 관한 얘기와 함께 커뮤니케이션 능력, 디자인 가이드의 원리, 용어 등을 물어보고 외부 스터디를 다니며 제 역할에 책임을 다하는 디자이너가 되기 위해 노력했습니다. 이러한 노력 끝에 원활한 커뮤니케이션과 가이드 능력으로 성공적인 개발을 마쳤고 이듬해 교내 창업경진대회에서 우수상을 받았습니다. 이처럼 어려움이 닥치면 항상 한 발짝 물러나 무엇이 본질적인 문제점인지 전체적으로 생각해보고 그에 맞는 해결법을 찾아가는 차분함과 끈기를 갖추게 되었으며 이는 이후 진행한 프로젝트에서 발전된 능력과 동시에 협업자와의 좋은 대인관계유지 등 큰 영향을 끼쳤습니다. 이러한 경험을 토대로 생긴 차분함과 끈기는 SK플래닛의 실무에서 저 자신과 SK플래닛에 큰 도움이 될 것으로 생각합니다.\n",
      "Q :  이제까지 가장 강하게 소속감을 느꼈던 조직은 무엇이었으며, 그 조직의 발전을 위해 헌신적으로 노력했던 것 중 가장 기억에 남는 경험은 무엇입니까? 개인적으로 더 많은 노력을 기울였던 일과 그 때 했던 행동과 생각, 결과에 대해 최대한 구체적으로 작성해 주십시오.(1000자 10단락 이내)   =>   A. [조용하지만 강한 끈기를 배우다] 저희 과에는 학술 목적으로 이루어진 학회가 있습니다. 모션그래픽, 3D, 컨셉아트, 인터렉션디자인, UI/UX의 분야를 팀별로 공부하고 연말에 전시를 목표로 작품을 만들게 되며 저는 2년 동안 UXUI팀의 팀장을 맡았습니다. 제가 대외에서 경험하고 배운 지식을 나누고 함께 공부하며 발전할 뿐만 아니라 다른 분야의 팀들과 선의의 경쟁을 할 수 있었던 좋은 경험이었습니다. 학회 활동 기간에 저는 팀장으로서 저의 개인적인 시간을 쪼개어 팀의 운영을 위해 매주 스터디할 내용을 정리하고 준비하였고 게으른 팀원들에게는 타이르고 열심히 임하는 팀원들에게는 응원하며 팀을 이끌고 있었습니다. 그러던 중 어느샌가 어려워지는 학과 수업과 많은 과제에 치여 왜 나의 시간에 학회 팀 운영까지 해야 하는지에 대한 회의감이 들어 팀 운영에 소홀해지기 시작하였습니다. 그러던 어느 날 적성을 찾는 것에 헤매던 한 친구가 저에게 찾아와 “어떤 분야를 공부해야 할지 막막했는데 선배 덕분에 UXUI 공부가 즐겁고 제가 하고 싶은 것이 무엇인지 알게 되었어요”라고 하였고 그 말을 들은 저는 소홀해졌던 팀 운영에 창피함과 동시에 학회에 시간을 할애하고 고생했던 것에 대한 보람을 느끼게 되었습니다. 회의감으로 소홀하게 활동을 했던 저는 이러한 일을 전환점으로 마음을 다잡고 힘들지만, 묵묵히 팀 운영을 다시 시작하였고 팀원들과 함께 열심히 진행하여 전시회에서 좋은 작품으로 평가받아 성공적인 전시회를 마칠 수 있었습니다. 이 후로 크고 작은 일, 보이는 곳과 안 보이는 곳에서의 꾸준한 노력으로 저 자신을 발전시키게 되었고 학업적인 부분과 많은 협업 프로젝트뿐만 아니라 대인관계에서도 성공할 수 있었습니다. 이러한 경험을 바탕으로 제가 SK플래닛에 입사하게 된다면 저의 진정성을 무기로 동료와는 최고의 팀워크를 발휘하고 SK플래닛의 어느 장소에서든, 어떤 과업이든 제 특유의 조용하지만 강한 끈기로 임하여 SK플래닛에 긍정적이고 큰 발전을 빚어나가고 싶습니다.\n",
      "Q :  자신에게 요구된 것보다 더 높은 목표를 스스로 세워 시도했던 경험 중 가장 기억에 남는 것은 무엇입니까? 목표 달성 과정에서 아쉬웠던 점이나 그 때 느꼈던 자신의 한계는 무엇이고, 이를 극복하기 위해 했던 행동과 생각, 결과에 대해 최대한 구체적으로 작성해 주십시오. (1000자 10단락 이내)   =>   A. [새로운 분야에 대한 도전] 새로운 분야에서의 도전과 저의 노력으로 일구어낸 본선 진출은 저에게는 뜻깊은 경험이 되었으며 한계를 느꼈다면 그것은 단지 시간의 문제라고 생각합니다. 이처럼 새로운 것에 대한 끊임없는 노력과 도전정신을 가지고 SK플래닛에 입사한다면 새로운 환경, 사람, 일에 자신감을 가지고 최선을 다할 것이며 성실하고 꾸준히 노력하면 좋은 결과도 뒤따를 것으로 생각합니다.\n"
     ]
    },
    {
     "name": "stdin",
     "output_type": "stream",
     "text": [
      "Correct ?  y\n"
     ]
    },
    {
     "name": "stdout",
     "output_type": "stream",
     "text": [
      "\n",
      "\n",
      "Q :  삼성전자를 지원한 이유와 입사 후 회사에서 이루고 싶은 꿈을 기술하십시오.(700자 이내)   =>   뉴욕에 위치한 UN의 파트너 중 하나인 국제기구, Soliya에 인턴으로써두 달간의 프로젝트에 들어가게 되었습니다. 사기업 및 교육기구들과의커넥션을 중심으로 운영되는 국제기구의 특성상, 파트너를 맺고 있는업체들의 정보를 분석하고 리포트를 제작하여 보고하는 업무를 맡았습니다. 프로그래밍 부서와 오퍼레이션 부서 내에서 소프트웨어 프로그램 Zoho와 Google Analytics, Facebook Ads를 이용하여 펀드레이징과 함께 CRM에 관련된 정보분석을담당하면서, 전반적인 시장 및 경쟁사의 동향을 파악하고, 실제로 11%의 프로그램 이용자 숫자 증가를 만들어낼 수 있었습니다. 뿐만 아니라 시장분석의 경우 프랑스에 위치한 파리지사와 Skype 미팅으로 끊임없이 정보를 주고 받으며 새로운 잠재적 시장과 파트너 연구를 진행하기도 하였습니다. 본래부터 파트너쉽을 맺고 있던 보스턴의MIT 연구소와는 합동 분석연구에 돌입하여, Soliya가 제공하는 온라인 정보 공유 프로그램인 “Virtual Connect Program”에 대한 성과 평가 및 분석을 하였습니다. 주된분석 결과는 프로그램을 통한 정보공유의 양과 변화에 관한 것이었습니다. 이 연구를 통해 실제 정보분석 케이스에 대해 배울 수 있었고, 더불어 프로그램 자체의 홍보 및 마케팅에도 기여할 수 있었습니다. 뉴욕에서의 프로젝트 이후 뉴저지의 디지털 마케팅 에이전시 회사인 Gomes Group에서 일할 수 있는 기회가 찾아왔습니다. 디지털 마케팅, 브랜딩, 광고, 디자인, 전략기획 등을 다루는 Gomes Group에서는더 큰 시장에서의 온라인 마케팅을 배우고 있습니다. Fanduel,McKinsey&Company, ESPN, LinkShare 등의 규모가 큰 기업들과 일하면서 보다많은 양의 데이터를 다루는 경험을 하고 있습니다. 데이터를 통한분석능력은 보다 전문적인 마케팅 전략 기획으로 이어지고 있습니다.\n",
      "Q :  본인의 성장과정을 간략히 기술하되 현재의 자신에게 가장 큰 영향을 끼친 사건, 인물 등을 포함하여 기술하시기 바랍니다. (※작품속 가상인물도 가능) (1500자 이내)   =>   동호회와 봉사활동, 그리고 프로젝트에서의 경험들은 책임감 있는 문제해결능력으로 전체 조직에 기여할 수 있는 안목을 길러주었습니다. 고등학교 1학년, 지금 생각해보면 그저 어린 학생이었던 저는수원삼성 축구단의 공식 써포터즈 ‘그랑블루’의 운영진에 들어가게 됩니다. 의심할 바 없이 운영진 멤버 중에서도 가장 어린 존재였기에 주어진 일이 그리 대단치도,중요하지도 않았습니다. 작은문서작업이나 당시 인터넷카페의 관리를 도와가며 제가 배운 건, 성공적인 조직은 아주 작은 일이라도 책임감 있는 일 처리에서 비롯된 다는 것이었습니다. 그 때 배운 수적천적의 마음으로 10년이라는 시간이 흘러, 저는 UN앞에서 다시 아주 작은 존재가 됩니다.반기문 사무총장님의 주도로 만들어진 “UN GlobalCompact Leaders Summit”을 준비하는 프로젝트에 참가하게 된 것입니다. 한국에서도 개최된 바 있는 이 행사는 나스닥의 최고운영책임자 아데나 프리드먼, GE의 대표 데브 프로들, KT의 황창규 회장 등의 경제계 인사들을 초청하여 함께 토론하는 자리였습니다. 성공적인 개최를 위해 저는 팀원들과 행사 당일 아침까지 모여 회의하고 확인하는 과정을 반복하였습니다. 주요업무로는, 가장 먼저 소셜미디어 체널과 웹사이트, 어플리케이션을이용한 디지털 마케팅 및 커뮤니케이션 업무였습니다. 또 하나는 UN의 정보시스템을 이용하여, 행사 참여에 등록된 인원의 리스트를 정부기관, 기업인, 교수, 학생 등으로 카테고리화하여 정리하고, 당일에 활용하는업무였습니다. 이를 바탕으로 당시 UN과 계약되어 있던 메리어트 호텔과 협력하여 뉴욕 내에서 적극적인 마케팅과 행사 기획을할 수 있었습니다. 결과적으로, 행사는 성공적으로 개최될 수 있었고, UNGC의사무총장인 리즈킹고로부터 성공적 기획이라는 호평을 받았습니다. 보다 큰 조직에서 보다 큰 안목을 기르고 싶은 저로써는 작은 디딤돌들이 향후 동량지재가 되기 위한 소중한 발판이라고 생각합니다. 비즈니스 전략가 세스 고딘의 말처럼, 이제는 이 작은 경험들이 큰 것으로 전환될 때 입니다.\n"
     ]
    },
    {
     "name": "stdin",
     "output_type": "stream",
     "text": [
      "Correct ?  y\n"
     ]
    },
    {
     "name": "stdout",
     "output_type": "stream",
     "text": [
      "\n",
      "\n",
      "Q :  농협은 금융, 경제, 유통 등 여러 분야에 걸쳐 사업을 하고 있으며, 분야간 시너지 창출에 큰 관심을 가지고 있습니다. 본인이 생각하는“농협손해보험이 창출할 수 있는 시너지”가 어떠한 것인지와 그 이유에 대하여 작성하여 주십시오.   =>   A.농협을 위해서 농협손해보험이 시너지를 창출하는 방법은 손해보험업의 본질적인 업무를 잘하는 것입니다. 농협중앙회에서 분리된 농협손해보험이 전문성을 가지고 국내 손해보험업계에서 우뚝 서게 되면, 분명 다양한 사업을 영위하는 농협에 큰 힘이 될 것입니다. 특히, 조합원의 최대 행복을 목표로 하는 농협손해보험은 풍수해보험과 같은 고객 중심의 상품을 내세워서 친 고객 이미지를 형성하는 것이 중요하다고 생각합니다. 이는 농협손해보험뿐만 아니라 농협 전체의 이미지를 제고하는 효과가 있습니다. 이익을 추구하는 상품과 고객 중심의 상품으로 적절히 포트폴리오를 구성한다면 회사의 이익과 대외 이미지 구축이라는 두 마리 토끼를 잡을 수 있지 않을까 생각합니다. 이는 이익만을 좇는 회사와는 다르게 장기이익을 기대할 수 있을 것이라고 생각합니다.\n"
     ]
    },
    {
     "name": "stdin",
     "output_type": "stream",
     "text": [
      "Correct ?  y\n"
     ]
    },
    {
     "name": "stdout",
     "output_type": "stream",
     "text": [
      "\n",
      "\n",
      "Q :  여러분이 CJ올리브네트웍스 IT사업 부문과 해당 직무를 지원한 동기는 무엇인가요?  CJ올리브네트웍스 IT사업 부문이 아니면 안되는 이유,  직무에 관심갖게 된 계기,  본인이 직무를 잘 수행할 수 있는 이유(본인의 강점, 노력, 경험 등에 근거)를 반드시 포함하여 구체적으로 작성해 주세요.(1,000자 이내)   =>   [생활의 중심! 그 중심의 핵심!] CJ 그룹은 다양한 사업을 통해 문화를 만들며 혁신하고 있습니다. 그 중심에 있는 CJ올리브네트웍스는 모든 계열사의 시스템과 인프라를 책임지는 핵심 업무를 수행합니다. 우리 생활 전반에 가장 가까이 위치한 기업에서 핵심 업무를 수행하는 CJ올리브네트웍스를 통해 안정적으로 DB를 관리하여 세상에 가치를 더하는 그룹의 발걸음에 동행하고자 지원합니다. 880시간 동안 오라클과 파이썬을 활용한 데이터 전문가 양성과정을 이수했습니다. 많은 과목 중 같은 결과를 출력하면서 성능을 향상시키는 SQL 튜닝과 여러 대의 서버에서 DB를 운영하는 RAC 과목이 너무 재미있었습니다. 흥미 있는 일을 수행하고, 실시간 시각화 구축 등 차별화된 장점을 발휘할 수 있다는 점에 DBA의 꿈을 키웠고, 다음의 노력을 통해 역량을 길렀습니다. 첫째, 설치 및 운영입니다. 오라클 11g 버전을 설치하고 운영하며 3가지 백업 방법과 17가지 복구 방법을 실습하고 데이터 이행 및 데이터 가드 구축에 성공했습니다. raw device 환경에서 RAC를 설치하고 redo log file, undo tablespace, parameter file, 클러스터 등을 관리했으며 RAC 고가용성을 테스트했습니다. 둘째, 튜닝입니다. 인덱스와 조인, 옵티마이저의 원리를 공부하고 실행계획을 살펴보며 튜닝 전후 버퍼 수를 비교했습니다. RAC를 운영하며 대기이벤트를 조성한 후 AWR 레포트, ADDM 레포트, AWR 비교 레포트를 통해 원인을 파악하고 해결했습니다. 매주 토요일 OWI 스터디를 통해 RAC 튜닝 공부를 꾸준히 하며 DBA에 대한 기본기를 탄탄하게 준비했습니다. 기본기를 쌓고 오라클과 RAC를 능숙하게 운영 및 튜닝하며 DBA의 핵심 역량을 길렀습니다. 나아가 DB 관리에 도움이 되는 쉘 스크립트를 작성하고 시각화했습니다. 역량을 바탕으로 CJ올리브네트웍스의 체계적인 교육을 통해 더욱 성장하고 오랫동안 CJ의 일원으로 안정적인 DB 운영에 이바지하겠습니다.\n"
     ]
    },
    {
     "name": "stdin",
     "output_type": "stream",
     "text": [
      "Correct ?  y\n"
     ]
    },
    {
     "name": "stdout",
     "output_type": "stream",
     "text": [
      "\n",
      "\n",
      "Q :  CJ제일제당과 해당 직무에 지원한 동기는 무엇인가요?  CJ제일제당이 아니면 안 되는 이유  직무에 관심 갖게 된 계기 반드시 포함하여 구체적으로 작성해주세요. (1,000자 이내)   =>   A1. <div>[영업업무의 바른길은 거래선과의 의사소통] 경영수업에서 csv에 관한 과제를 하던 중에 CJ그룹의 '즐거운 동행'을 알게되어 단순 식품업체와 달리 문화창조의 차별성을 가진 CJ제일제당에서 저의 고객소통 역량을 통해 고객과 장기적으로 상생하고 싶어 지원하게 되었습니다. CJ제일제당은 문화창조의 가치관을 실천합니다. CJ그룹은 여러 계열 부문에서 자체의 문화를 창조하며 선도하였고 특히, 식품 부문에서는 한식 브랜드 '비비고'를 통해 한식 세계화를 주도하며 한식 문화를 전파하였습니다. 10년 전만 해도 세계에 한국 음식은 비빔밥과 불고기 그리고 김치 정도만 알려졌었습니다. 하지만 비비고는 이외에도 왕교자, 떡갈비, 김치찌개 그리고 김스낵 등 여러 한식을 알리고 있었습니다. 또한 고객과 다른 기업들과의 문화를 창조했습니다. 저 또한 CJ제일제당처럼 내부 구성원, 바이어, 소비자 등 많은 사람을 만날 수 있고 역동적인 업무를 수행하기 때문에 제가 잘 할 수 있는 일이며, 고객 만족을 피부로 느끼고 해당 분야를 가장 빨리 배우고 이해할 수 있는 직무이기에 매력을 느꼈습니다.</div>\n",
      "Q :  지원직무를 잘 수행할수 있는 이유는 무엇인가요?  지원 직무 수행시 필요하다고 생각하는 역량  지원 직무를 잘 수행하기 위한 그동안의 노력과 도전 (본인만의 강점, 준비, 관련경험)  영업사원으로서 예상되는 하루업무 일과 등을 포함하여 구체적으로 작성해 주세요. (1,000자 이내)   =>   A2. [사전분석능력과 고객소통능력] 첫째로 조사경험을 통한 사전분석능력이 있으며 둘째로 잠재고객에게 직접 접근면서 키운 고객소통능력이라는 강점을 갖고 있습니다. 대학교 3학년 때 상상유니브 서포터즈활동에 참가하여 대학생들에게 상상유니브를 홍보하며 많은 대학생을 회원으로 만드는 기획을 하였습니다. 경영학과를 복수전공하여 마케팅조사와 통계분석 과목 그리고 프로젝트수업을 통해 쌓아온 사전분석능력을 활용하여, 학교별 회원 수 파악과 위치, 전공 그리고 분위기 등에 대해서 사전조사했습니다. 그 결과, 회원 수가 가장 적고 다른 학교들과 멀리 떨어져 다른 학교 대학생들과 교류가 적은 천안의 공주대학교를 선정하였습니다. 저는 주어진 3시간 동안 부스에 오는 모든 학생을 회원으로 만들자고 다짐했습니다. 먼저, 방문하는 학생들에게 친근하게 다트게임을 통해 자연스럽게 다가갔고, 다음에 학생들과 친근해졌을 때 상상유니브에 대한 내용과 목적 그리고 진행 중인 프로그램에 대해 설명하였습니다. 프로그램으로는 그 당시 새롭게 기획한 클라이밍클래스의 수업 동영상을 보여주며 클래스장소와 월 4회 동안의 커리큘럼을 설명해주었습니다. 설명 후에는 관심을 갖는 학생들에게 모바일과 컴퓨터로 회원가입을 도와주고 가입 후에는 상품을 제공하거나 추첨게임을 진행했습니다. 그 결과, 약 150명의 공주대학생 회원 수를 확보했고, 이번 기획을 계기로 공주대학교에서 자기계발, 봉사, 취미 등의 프로그램까지 계속해서 알릴 수 있었습니다. 이렇게 현장경험에서 배운 능력을 활용하여 본사와 거래선간의 메신저 역할을 하겠습니다. 일과 중에 거래선의 판매 진척상황을 점검하다가 판매부진 제품 발견시에 주단위, 월단위, 상권단위 그리고 고객단위별로 매출자료를 분석합니다. 이 자료를 갖고 거래선에 방문하여 대표자 및 판매사원들과 공유하면서 판매전략에 대해 함께 회의하고 판매사원에게 새로운 판매전략에 맞는 코칭을 하겠습니다. 또한, 고객정보 입수에 대해 직접 소통하며 Food Sales사원으로서의 하루를 보내겠습니다.\n",
      "Q :  Food Sales 직무를 수행함에 있어 예상되는 어려움은 무엇이며, 이를 극복해 나갈 수 있는 본인만의 강점을 구체적으로 작성해주세요. (1,000자 이내)   =>   A3. [가판대 로열층을 점령한 PB상품의 위협] 현재 PB제품이 인기를 끌자, 눈에 제일 잘 띄는 ‘로열층’으로 자리를 이동하게 되어 매출의 약 20%를 차지할 만큼 위협요인이 되고 있습니다. 특히 롯데마트는 약10,000여개 품목에 이르는 PB상품라인을 구축하여 매출규모는 한해 1조원을 넘고 매출비중은 꾸준히 20%를 넘겼습니다. 최근 중소규모의 유통업체에서도 PB상품을 만들고 있어 유통구조상 가격 경쟁력을 갖는 PB상품의 강세가 예상됩니다. 결국 PB상품의 매출 비중이 커지고 여러 업체에서 PB상품에 대응하는 경쟁이 심화될 것으로 우려됩니다. 그래서 Food Sales 직무를 수행하면서 PB상품의 강세에 대한 대비책이 필요하다고 생각합니다. [지배력 강화에 기반한 제품 신뢰와 고객소통 스킬] 저만의 제품분석력을 통해 이 문제를 해결하겠습니다. 저성장과 경쟁 심화를 겪고 있는 국내 식품 산업 전반과 달리, 핵심 브랜드인 다시다, 해찬들, 햇반, 프레시안,비비고 등이 2013년 이후 꾸준히 고성장과 높은 시장 지배력을 보였습니다. 그래서 고객들에게 PB상품보다 높은 제품 신뢰성을 강조할 수 있습니다. 두번째로 고객과 거래처와의 소통으로 위기를 극복하겠습니다. 다양한 업체들마다의 상황과 어려움을 이해하는 공감 능력과 올바른 서비스를 제공하는 문제해결력 그리고 고객의 니즈에 알맞는 중개업체와의 협상∙조정력으로 매장 내 제품 진열을 늘리고 판촉 행사, 시식행사 등을 효과적으로 관리하겠습니다. 마지막으로 고객과 직접 만나는 현장판매사원들에게 판매스킬 코칭 및 고객정보 입수에 대한 의사소통을 하겠습니다. 또한 거래선 직원의 근무 만족도 증대를 위하여 경쟁력 있는 인사규정 유도, 성과급 등 급여시스템 제안으로 동기부여하는 리더십과 함께 장기적 우호관계를 만들겠습니다. CJ제일제당이 단순히 식품업체가 아니라 여러 업체들과 함께 동반성장하는 사업파트너로서의 역할을 수행할 수 있도록 앞장서는 Food Sales사원이 되겠습니다.\n"
     ]
    },
    {
     "name": "stdin",
     "output_type": "stream",
     "text": [
      "Correct ?  y\n"
     ]
    },
    {
     "name": "stdout",
     "output_type": "stream",
     "text": [
      "\n",
      "\n",
      "Q :  전공학습이나 소위 스펙쌓기와 무관한 일 중, 가장 흥미있게 한 활동은 무엇이었는지와, 그 이유를 구체적으로 서술하시오.   =>   『호주에 홀로 서다.』 '더 많이 부딪혀보고 더 깨닫자'는 제 좌우명입니다. 식품 공학도로써 더 많은 견문을 보고 느끼기 위해 호주 브리즈번, 멜버른, 시드니로 약 한 달간 배낭여행을 혼자 다녀왔습니다. 좀 더 색다른 여행 도전을 꿈꾸면서 준비했기에 마트 아르바이트로 경비를 벌어, 관광지보다는 현지인들과 어울릴 수 있는 작은 마을들을 누비고 다녔습니다. 경비를 아끼기 위해 대중교통 대신 걷는 것을 택하고 간편식을 먹으며 체력적으로나 정신적으로 힘들었지만 점차 적응하기 시작했습니다. 그리고 외국인에게 호의적인 현지인들의 따뜻한 배려 속에 숙박료를 아낄 수 있었고, 여행 도중 만나는 외국인들과 어울려 다니면서 교통비나 식비 또한 절약할 수 있었습니다. 이런 저의 다양한 경험과 활동은 동원그룹에 입사하여 구성원들과의 화합적인 면에서 부각될 것이라고 자신합니다.\n"
     ]
    },
    {
     "name": "stdin",
     "output_type": "stream",
     "text": [
      "Correct ?  y\n"
     ]
    },
    {
     "name": "stdout",
     "output_type": "stream",
     "text": [
      "\n",
      "\n",
      "Q :  삼성 취업을 선택한 이유와 입사 후 회사에서 이루고 싶은 꿈을 기술하시오   =>   삼성에서 근무하고 계시는 아버지로 인해 어릴 때부터 삼성의 다양한 복지혜택을 누리며 일류 기업에 일하시는 아버지를존경하며 성장해왔습니다. 자신의 일에 자부심과 확신이 있으신 아버지의 영향을 많이 받아 삼성에 지원하게되었습니다. 반도체 중에서도 S.LSI에 지원한 이유는 성장가능성이 있는 분야이기 때문입니다. 메모리 반도체 분야 부동의 세계1위 삼성전자는 아직 시스템 반도체에서는 시장점유율이 5%이지만 이는 반대로 지금처럼 지속적인투자를 통해 앞으로 계속 성장할 수 있다는 것을 의미합니다. 저는 5년안에 시스템 반도체 분야 전문가가 되겠습니다. 저는 입사 역시 끝없는 배움의 과정이라 여기고 그 분야의 최고가 되도록 노력할 것입니다.\n",
      "Q :  본인의 성장과정을 간략히 기술하되 현재의 자신에게 가장 큰 영향을끼친 사건, 인물 등을 포함하여 기술하여라   =>   중고등학교 시절 부모님께 부담을 드리지 않기 위해 독학하여 대학교에 진학하였습니다. 대학교에 입학해서는 경제적으로 독립하고자 기숙사비와 용돈을 스스로 벌었습니다.이러한 저의 성장 배경은 자립심을 길러주었습니다 반도체 캠프를 통해, 중국 IoT의현주소를 통해 중국의 IoT 산업이 얼마나 발전했는지 배울 수 있었습니다. 저는 이러한 경험을 통해 중국과 우리나라의 반도체 산업 발전에 관심이 생겨서 다양한 자료조사를 하였습니다. 저의 중화권 반도체 업계에 대한 관심 및 지식을 이용하여 현재 아이폰 AP공급업체로써경쟁구도에 있는 tsmc와의 경쟁에서 한 줄기의 도움이 되고 싶습니다. 또한 대외활동을 통한 다양한 인터뷰를 통해 영어실력이 향상되어 한국에 돌아와서 한 달 후에 본 토익에서 900점을 얻을 수 있었습니다. 저는 이러한 경험을 통해 해외 전문가들과커뮤니케이션을 해야한다는 막연한 두려움을 없앨 수 있었습니다. 이를 통해 해외전문가들과 유창하게 대화할수 있을 정도는 아니지만 최소한 커뮤니케이션 자체를 두려워하지 않게 되었습니다.\n",
      "Q :  최신 사회 이슈 중 중요하다고 생각되는 한가지를 선택하고 자신의 견해를 기술하여라   =>   며칠 전 삼성전자가 미국에서 열리는 SXSW 2016에 C랩 우수 과제를 선보였다는 기사를 읽었습니다. 삼성전자 C랩은 창의 개발 프로그램으로 삼성전자 임직원의 아이디어를 평가하여 개발하는 프로그램입니다. 임직원들의 아이디어를 적극적으로 수용하는 프로그램이 실현되면 물론 좋지만, 실현되지못해 다시 업무에 돌아가더라도, 창의성이 고양되어 더 효율적으로 일할 수 있을 것이라 생각하여 아주훌륭한 프로그램이라고 생각합니다. 저도 아이디어와 창의성을 자유롭게, 수평적인 분위기에서 표출할수 있는 삼성전자에 입사하여 창의적인 발상을 통해 삼성 전자에 기여하고 싶습니다.\n"
     ]
    },
    {
     "name": "stdin",
     "output_type": "stream",
     "text": [
      "Correct ?  y\n"
     ]
    },
    {
     "name": "stdout",
     "output_type": "stream",
     "text": [
      "\n",
      "\n",
      "Q :  직무에 관련된경험 및 역량 등 자신을 어필할 수 있는 내용을 기반으로 자유롭게 기술하시기 바랍니다.   =>   [풍부한 직무지식과 경험] 저의 역량은 교육공학과 경영학을 복수전공하며 쌓은 풍부한 직무지식입니다. 저는 교육공학을 전공하면서분석력을 키우고, HRD에 대해 배우고 경험할 수 있었습니다. 나아가 HRM, 그리고 글로벌 업무환경 및 경영 전반을 이해하기 위해 경영학을 복수전공 했습니다. 다양한 경영학 수업 중에서도 '인사관리, '조직행동', '인적자원개발론' 등의수업을 수강하여 HRM의 이론적 지식을 쌓았습니다.\n"
     ]
    },
    {
     "name": "stdin",
     "output_type": "stream",
     "text": [
      "Correct ?  y\n"
     ]
    },
    {
     "name": "stdout",
     "output_type": "stream",
     "text": [
      "\n",
      "\n",
      "Q :  본인에 대하여 소개해 주시기 바랍니다. (성장과정, 경험, 성격, 강/약점, 가치관, 지원동기 등) 500~1200자   =>   [경영학과로서 가진 습관] 어렸을 때부터 어떤 현상이 생기면 그 현상의 원인을 밝혀내는 것을 좋아했습니다. 그러다가 대학교에 경영학과로 진학을 하고 OOO동아리에서 많은 연구활동을 했습니다. 그래서 산업을 분석하고 산업의 미래를 예측하거나, 기업을 분석하는 등의 활동에 관심을 가지게 되었고 그로인한 많은 경험 또한 쌓을 수 있었습니다. [전기의 소중함을 느낀 경험] 중국 OOO에 있는 OOOO 사막에 환경봉사를 하러 간 적이 있었습니다. 그곳은 전력이 많지 않아서 밤에는 달빛에 의존하거나 후레쉬에 의존해야만 했습니다. 불빛이 없는 것 때문에 불편함을 느꼈습니다. 그래서 불빛의 소중함을 알게되었고, 전력의 소중함을 알게 되어 한국에 돌아와서는 인터넷을 빠르게 할 수 있다는 것과 불빛이 잘 들어와 어두움을 느끼지 못하는 것에 감사함을 느낄 수 있었습니다. [성실한 욕심쟁이] 저는 성실하면서도 모든 일을 최선을 다해 끝내야 직성이 풀리는 성격입니다. 그렇기 때문에, 어떤 일도 마다하지 않고 무엇이든 새로운 것을 경험해보는 것을 좋아합니다. 남들이 쉽게 경험하지 못할 일들을 도전해 경험해보는 것을 좋아하는 욕심쟁이 같은 성격을 가지고 있습니다. 하지만 모든 일에 최선을 다해 가끔은 이것 때문에 다른 동료들이 부담감을 느낄 때가 많습니다. 주변을 잘 돌아보는 편이긴 하지만, 제 일을 열심히 하는것만큼은 포기하지 않는 편이라 다른 동료로 하여금 저때문에 조직 내에서 부담을 느끼게 하는 단점이 있습니다. [모든 일에 최선을 다하자] 단순하게 생각하면 모든 일에 최선을 다하는 것은 간단한 일이지만, 가장 어려운 일이기도 합니다. 하지만, 저는 어떠한 일도 가치가 없는 일은 없고, 모든 일은 배울 것이 많다는 생각을 갖고 있습니다. 또한 묵묵히 최선을 다해야 실패를 해도 배울 것이 있다고 생각합니다. 그렇기 때문에 제 가치관은 모든 일에 최선을 다하자 입니다. [지원동기] LS전선은 해저케이블, 송전케이블 등 다양한 고부가 가치의 케이블 제품을 동남아 뿐만 아니라 전세계에 공급해 나가는 회사입니다. 세계 지도에 밤에 전력을 사용하는 국가의 밝기를 표시한 것을 봤는데 아직도 부족한 곳이 많았습니다. 이 지도에 불빛을 좀 더 밝게 해주는 회사에 일을 하면 보람이 있을 것 같고, 지속적인 성장을 하는 회사에서 일을 하고 싶어 지원하게 되었습니다.\n",
      "Q :  본인이 속했던 조직(ex. 친구,동아리,가족,기타모임 등)의 화합과 융화를 이끌어내기 위해 노력했던 사례와 그 결과에 대하여 기재해 주시기 바랍니다. 500~1200자   =>   대학교 2학년 때, 대학연합봉사동아리의 부회장을 맡게 되었습니다. 활동회원이 50여명에 달하고 임원도 9명이었기 때문에, 동아리 내에서 갈등이 많았습니다. 특히, 동아리가 위기를 겪고 있던 시점이라 시각장애인 학생들에게 하는 수업이 중요한지, 동아리 내 회원들과의 친목이 중요한지를 두고 회장과 부회장인 제가 자주 다투게 되었습니다. 그리고 열정적으로 임원을 했던 9명의 임원단간의 갈등도 있었지만, 동아리 회원들과 시각장애인 학생들과의 갈등 또한 많았습니다. 그래서 OO OO OOO의 선생님들까지도 우려의 시선과 말씀을 주셔 여러가지로 많은 문제가 있었습니다. 가장 먼저 저는 동아리의 핵심 사업인 수업적인 문제를 해결해야 동아리 회원들과 시각장애인 학생들의 갈등을 줄일 수 있고 동아리 회원들이 보람을 느껴 자연스럽게 모임 불참횟수도 줄어들고, 친목을 다질 기반을 마련할 수 있다고 생각했습니다. 그래서 가장 먼저 임원들과 함께 맹학생들에게 전화를 걸어 수업에서 문제가 없었는지, 불쾌한 일이 없었는지 등에 대한 질문을 했고 동아리 회원들에게도 전화를 걸어 맹학생이 무단으로 수업에 빠지지 않았는지, 수업을 하면서 어떤 문제가 있는지 등에 대해서 질문을 했습니다. 모인 질문을 토대로 무단으로 약속을 어기거나, 수업을 할때 불성실하게 임하는 맹학생에게는 경고조치를 해 경고가 쌓이면 수업을 신청할 수 없게 했습니다. 그리고 동아리 회원중에서 맹학생들에게 모욕적인 언행을 했던 사람은 바로 퇴출시켜 맹학생에게 사과했고, 수업에 무단으로 빠지거나 불성실한 사람은 경고, 그리고 할당된 수업시간을 채우지 못한 회원에게는 봉사시간을 미발급하는 조치를 취했습니다. 이렇게 문제가 될만한 요소들을 해결하니, 수업분위기가 좋아져 오히려 전보다 더 많은 학생들이 수업을 신청하게 되었고, 학생들이 열심히 하는 만큼 동아리 회원들도 모두 보람을 느껴 모임에 참여하고 뒤풀이까지도 모두 참여해 친목을 다질 수 있었습니다. 또한 이렇게 수업적인 문제를 해결한 후에 친목도 같이 해결된 것 덕분에 회장과 부회장인 저의 갈등, 임원단간의 갈등도 모두 해결할 수 있었습니다. 이를 통해 제가 느낀 것은 어떠한 문제도 본질과 핵심을 파악하고 이를 해결하면 부차적인 문제는 그 이후에 해결할 수 있다는 것이었고, 화합은 그저 아무것도 하지 않은채로 해결되는 것이 아니라 많은 노력이 필요하다는 것을 배웠습니다.\n",
      "Q :  본인 스스로 최고가 되기 위해 노력했던 경험에 대해서 작성해 주시고, 당사 지원 직무와 어떠한 연관성이 있는지 기술해 주시기 바랍니다. 500~1200자   =>   OO에서 신규사업발굴 프로젝트를 했던 경험이 있습니다. 신규 사업을 만들기 위해 프로젝트 인턴으로서 참가한 것이었는데, 새로운 사업을 만들기 위해 시장분석과 트렌드분석, 소비자 분석 등 다양한 환경적 분석을 하게 되었습니다. 학교에서처럼 두루뭉술하게 하는 것이 아니라, 각각 환경적 분석에 근거를 제시하고, 동시에 도표를 해석하는 것도 근거를 제시하고, 그리고 그 모든 흐름을 논리적으로 연결할 수 있어야 했습니다. 왜냐하면 발표를 듣는 대상이 OO의 임원분들이었기 때문입니다. 신규사업TF팀으로 꾸려져 대학생인턴인 OOO팀 O팀, OOO팀 O팀, 총 O명이 매주 OO의 임원 다섯 분 앞에서 그 주의 목표치만큼의 발표를 하는 시스템이었습니다. OOO팀에도 지고 싶지 않아 OO팀이었던 저와 제 친구는 아이디어를 찾기 위해 식료품산업에 대한 전반적인 조사와 더불어 실제로 발로 뛰어 대형마트와 시장을 돌아다니며 조사를 시작했습니다. 그리고 트렌드, 시장, 산업 등의 분석과 아이디어를 결합해 발표를 했더니 저희팀은 아이디어 2개가 승인이 나서 OOO팀을 앞서나갈 수 있었습니다. 아이디어가 2개라서 저와 제 친구는 각각 1개의 아이디어를 맡아 서로 또 경쟁을 하게 되었습니다. 경쟁에서 이기기보다는 제 아이디어가 실제로 상품으로 출시되기를 원했기 때문에, 제 아이디어의 현실적인 문제를 해결하기 위해 연구소를 찾아 현실적인 문제를 해결하고 완전한 제품 컨셉을 잡을 수 있었습니다. 또한, 단가를 계산하여 수익성을 따져보기도 하고, 원료와 설비 등을 고려해 실제로 생산하게 될 경우 어느정도의 비용이 들어가는지도 계산해 설득력을 높였습니다. 그리고 실제로 외국에서 출시된 제품 사례를 찾아 외국 산업의 성장률, 성장 과정 데이터를 모아 분석해 제가 생각한 제품의 성장가능성을 예측하는 활동 또한 했습니다. 그리고 이 제품이 소비자들을 유인할 수 있게 제품명, 가격, 프로모션 등 마케팅 전략을 세우는 활동 또한 해서 결국 OO 임원분들이 원하는 기간안에 프로젝트를 마무리 할 수 있었습니다. 이 경험을 통해 마케팅에는 환경적 분석과 데이터가 중요하다고 생각하게 되었고, 이를 LS전선 마케팅직무에 적용할 수 있다고 생각합니다. 마케팅은 소비자에게 제품을 구매하게끔 만드는 활동입니다. 그렇기에 많은 데이터를 분석하고, 산업을 분석하는 것이 중요하다고 생각하고, 이를 저는 경험할 수 있었습니다.\n",
      "Q :  누군가를 감동시키기 위해 노력했던 경험과, 그러한 노력이 상대방에게 어떻게 받아들여졌으며, 어떠한 변화로 이어졌는지 기술해 주시기 바랍니다. 500~1200자   =>   OOOOO OO에서 인턴을 했을 때, 가장 먼저 일이 없음에도 오전 7시 30분까지 출근을 해 업무를 파악했습니다. 다른 직원분들이 모두 바빴기때문에 가르쳐줄때까지 기다리고 있는 것은 옳지 않다고 생각했기 때문입니다. 또한, 업무 지시를 받으면 어떤 목적에서 이 업무를 해야하는지, 어떤 방향을 원하시는지 등의 내용을 자세하게 묻고 일을 처리했더니 한 번에 합격점을 받을 수 있었습니다. 하지만, 이정도는 능력있는 사람이라면 누구나 할 수 있고 시간이 흐르면 당연히 해야할 일이었기 때문에 직원분들이 많은 신뢰를 주기에는 모자람이 있었습니다. 그리고나서 OOOOO 프로젝트에 보조로 참여하게 되었습니다. 프로젝트를 수행하기 위해 OOO을 수집했어야했는데, OOO은 보안사안이라 저한테 바로 파일이 오는 것이 아니라 OOO에 파일이 가서 제가 그 파일을 받아오는 프로세스였습니다. 그렇기 때문에 자주 OOO에 찾아가 파일을 가져와야했습니다. OOO에서 파일을 제대로 주지 않거나, 매번 보낸다고 해놓고 보내지 않아서 저는 1주일에 3~4일은 OOO에 직접 찾아가 파일을 받아야만 했습니다. 또 받은 파일을 데이터화해서 OO과 OO을 구분하는 등 여러 작업이 필요했는데 그 작업과 그날그날 주어지는 다른 일들을 위해 매일 아침 7시 30분부터 저녁 11시까지 일을 해야만 했습니다. 그리고 평일에 작업이 다 끝나지 않으면 누가 시키지도 않아도 주말에 나와서 일을 처리했습니다. 이 프로젝트 뿐만 아니라 직원분들이 주는 다른 모든 일들도 제 일처럼 책임감을 갖고 처리하는 모습때문에 직원분들이 칭찬과 더불어 많은 술과 밥도 사주시며 격려해주셨습니다. 또한 이런 모습때문에 나중에는 제안서와 보고서를 쓸 수 있는 기회 또한 주어졌고, 제안서와 보고서 모두 무사히 마무리되어 인정받고 신뢰를 받을 수 있었습니다. 결국, 인턴이 끝난 지금에도 연락을 주고 받고 있으며, 이번에 인턴을 뽑을 때 저에게 추천권을 주셔서 제 추천으로 한 명의 친구가 인턴이 될 수 있었습니다. 회사 내에서 하는 일을 내 일처럼 책임감을 갖고 한다면, 사람들에게 인정도 받을 수 있으며 신뢰 또한 받고 스스로 보람도 느낄 수 있다는 것을 배울 수 있었습니다.\n"
     ]
    },
    {
     "name": "stdin",
     "output_type": "stream",
     "text": [
      "Correct ?  y\n"
     ]
    },
    {
     "name": "stdout",
     "output_type": "stream",
     "text": [
      "\n",
      "\n",
      "Q :  현대오트론에 지원하게 된 동기와 해당 직무(1지망 기준)에 지원하게 된 동기를 기재하여 주십시오. (300자)   =>   <스마트카 시대> 스마트폰이 전화 이상의 역할을 하듯이 이제 고객들은 제품 본연의 기능을 넘어선 스마트함을 요구합니다. 이러한 요구에 발맞춰 자동차 산업도 스마트카를 향해 가고 있습니다. 현대오트론은 전자제어 분야 R&D에 역량을 집중하면서 스마트카 시대를 대비하고 있습니다. 이런 현대오트론의 모습은 기업의 성장은 R&D에 있다는 저의 가치관과 부합하였습니다. 또한 제어 분야 석사 진학을 하면서 R&D 직무를 목표로 준비해왔기 때문에 목표를 이루기 위해 현대오트론 바디/샤시 제어 직무에 지원하게 되었습니다.\n",
      "Q :  가장 열정적이고 도전적으로 임했던 일과 그 일을 통해서 이룬 것에 대해 기재하여 주십시오. (300자)   =>   <자원 입대> 체중으로 인해 4급 판정을 받았음에도 자원입대에 도전했습니다. 저는 신체 건강한데 몸무게가 적게 나간다는 이유로 공익근무를 한다는 것이 마음에 걸렸습니다. 저도 할 수 있다는 것을 보여주고 싶었고 입대에 도전하기로 했습니다. 그 후 현역 판정을 받기 위해 식단 조절과 운동을 통해 살을 찌워 재 신체검사를 신청했고, 결국 현역 판정을 받아 최전방 1사단에서 군 생활을 마치고 전역할 수 있었습니다. 저는 군 생활을 통해 의지만 있으면 어려운 일도 해낼 수 있다는 것을 배웠고 배려와 이해하는 습관을 들일 수 있었습니다.\n",
      "Q :  타인과 함께 일을 할 때 귀하가 지닌 장점과 단점에 대해 상세히 기재하여 주십시오. (300자)   =>   <책임감> 제가 여러 사람들과 협동해서 일을 할 때 가지는 가장 큰 장점은 책임감입니다. 저는 주어진 업무에 대해서 성실함을 가지고 최선을 다하기 때문에 맡은 업무는 책임지고 끝마치는 성격을 가지고 있습니다. <욕심> 저는 협업으로 일할 때 무엇이든지 제가 확인을 해야 한다는 욕심을 가지고 있습니다. 그렇다 보니 업무 분담을 했음에도 다른 조원의 업무에 관여하는 경향이 있습니다. 이러한 점을 보완하기 위해 업무를 분담하면 조원의 업무에 관여하기보다는 맡은 임무에 완성도를 높이는데 시간을 쓰는 습관을 들이고 있습니다.\n",
      "Q :  다양한 경험 중 중요하게 생각하는 경험을 한 가지 선택하여 서술하고 그를 통해 이룬 일에 대해 기재하여 주십시오. (300자)   =>   <모두 즐기는 대회> 제가 탁구대회를 주최했을 때 여자 후배들이 선수가 적어 단체전을 못한다는 불만을 제기했습니다. 이야기를 듣고 보니 매번 있던 문제였는데 그동안 개선하지 않았던 것이었습니다. 저는 해결 방법을 생각했고 신입생들도 같은 문제가 있단 걸 알고 여자부와 신입생부를 합쳐 새로운 단체전을 만들었습니다. 그렇게 대회를 개최했고 끝난 후 다른 학교로부터 기존과 다르게 모두 즐길 수 있는 대회였다는 피드백을 받을 수 있었습니다. 이를 통해 작은 불만도 귀 기울여 들여 개선한다면 좋은 결과를 얻을 수 있다는 것을 배웠습니다.\n"
     ]
    },
    {
     "name": "stdin",
     "output_type": "stream",
     "text": [
      "Correct ?  y\n"
     ]
    },
    {
     "name": "stdout",
     "output_type": "stream",
     "text": [
      "\n",
      "\n",
      "Q :  자신의 경험 중 가장 도전적이었던 일은 무엇이며, 극복하기 위해 했던 행동, 노력, 생각을 구체적으로 기술하시오.   =>   [도전의 바탕, 목표와 주인의식] 저는 설계자에게 가장 필요한 덕목은 주인의식이라 생각합니다. 제가 군대에서 배차계원으로 복무할 당시 '무사고 수송대'를 만들겠다는 목표를 세웠습니다. 이러한 목표를 달성하기 위해 항상 주인의식을 갖고 업무에 임하였습니다. 당시 배차는 상급부대로의 4단계로 구성된 보고 체계와 거꾸로 내려오는 승인 체계로 구성되어 있었고 단계마다 다른 병사들이 각자만의 문서양식으로 업무를 진행하였습니다. 이러한 비효율적인 체계로 정보 전달이 정확히 이루어지지 않았으며, 이로 인해 차량점검이 제때 이루어지지 않았습니다. 저는 이 문제를 해결하기 위해 통합 문서양식을 만들고, 정기 점검이 예정된 차량에 대해서는 대체 차량을 배차하는 대안을 세워 사단에 보고하였고, 승인을 받았습니다. 이러한 노력의 결과로 행정 업무가 수월해졌으며, 정비 업무가 제때 이루어져 차량과 운전병의 안전을 확보하였습니다. 또한 행정실적 평가에서 6군단 1등이라는 결과로 나타났습니다. 이처럼 주인의식은 문제점을 발견하고 개선하려는 도전의 바탕이 됩니다. 저는 주인의식을 바탕으로 무결점 제품을 향해 도전하겠습니다.\n",
      "Q :  타인과 함께 협동하여 문제를 해결한 경험과 그 과정에서 본인의 역할, 갈등, 극복을 위한 노력 등을 기술하시오.   =>   [문제해결의 핵심, 소통과 협력] 저는 '창의적 공학 설계'과목을 수강하며 '비전공적 요소를 가미한 설계' 프로젝트를 진행한 경험이 있습니다. 저는 커뮤니티 사이트를 통해 '건축물 만들기' 과제를 진행하던 시각디자인과 학생들과 협력하여 진행하기로 하였습니다. 전공이 다르고 요구사항도 달라 방향을 잡는 것부터 어려움에 부딛혔습니다. 저는 각자 서로의 기본적 전공지식과 요구사항을 제 3자가 보아도 이해할수 있는 용어로 A4용지 한장분량씩 적어와서 회의를 진행하자는 아이디어을 냈고, 이 종이 한장을 바탕으로 끊임없이 이야기하며 서로의 의견을 존중하며 회의를 진행하였습니다. 소통과 협력을 통해 방화대교의 중앙부에 위치한 아치트러스교를 설계하여 제 전공적 요소와 다리의 야경을 떠올리며 크리스마스 트리 전구를 달아 디자인적 요소를 가미하여 서로의 의견을 충족시키며 최고점수를 받을 수 있었습니다. 제가 지원한 R&D 부서는 디자인, 생산 등 모든 부서와의 소통이 필수적입니다. 저는 이러한 경험을 바탕으로 목표 달성을 위해 동료들과 소통하고 협력하는 구성원이 되겠습니다.\n",
      "Q :  타인과 차별화 할 수 있는 경쟁력을 자신의 경험을 바탕으로 기술하시오.   =>   [백문이 불여일견] 저는 2014년, 휴학을 하고 현장 경험을 쌓기 위해 마취 기계를 생산하는 회사의 공장에서 설계부서의 일원으로 근무한 경험이 있습니다. 저의 업무는 '기화기 신제품 개발 프로젝트'에서 도면전달 및 부품과 도면을 비교하는 것이었습니다. 그 과정에서 외주부품과의 오차를 발견하였습니다. 근본적인 오차는 외주부품에 있었으나 외주업체에서는 수량이 적다는 이유로 개선요구를 거절하였습니다. 하지만 저는 포기하지 않고 설계부서에 이를 보고하고 CAD 도면을 확인하여 부품의 구멍 위치를 수정해도 제품에 문제가 생기지 않는다는 결과를 얻을 수 있었습니다. 새로운 도면으로 생산하여 오차를 줄이고, 이로 인해 불량 테스트에서 불량률을 7%에서 5%로 감소하는 성과를 얻었습니다. 또한, 저는 설계 프로그램의 필요성을 느껴 3D 모델링 프로그램인 SOLID WORKS를 배우고 익혀 신제품 부품의 일부를 설계하는 것에 참여하였습니다. 저의 이러한 꼼꼼한 성격과 끊임없이 자기계발을 하는 자세는 제 강점이며 이러한 강점과 경험은 실무에서도 큰 성과를 거두는 원동력이 될 것입니다.\n",
      "Q :  입사지원을 하게 된 동기와, 자신이 직무에 적합하다고 생각하는 구체적인 이유를 기술하시오.   =>   저는 ‘자동차 엔진 공학’, ‘자동차 새시 및 디자인’을 공부하며 설계자가 되겠다는 꿈을 키웠습니다. 자동차 엔진의 크기와 외형에 따라 자동차의 디자인과 성능이 개선된다는 점을 알게 된 후 구체적으로 자동차 속 부품 설계자가 되고 싶다는 구체적인 꿈을 꾸게 되어 현대위아 R&D 부서에 지원하였습니다. 부품 설계자가 되기 위해서는 어떠한 노력이 필요할지 고민하게 되었고, 그 결과 3D 모델링에 대한 이해도와 부품 생산과 설계의 관계, 생산설비에 대한 전체적인 이해도가 필요하다고 생각하였습니다. 이에 따라 저는 기계 생산 공장 및 회사에서 실무 경험을 쌓았으며, 3D 모델링에 대한 이해도를 높이기 위하여 마취 기계 생산 공장에서 설계부서에 근무하며 3D 모델링 프로그램인 SOLID WORKS를 익혔습니다. 이를 더욱 발전시키기 위하여 PACE 센터에서 주관하는 UG NX 모델링 & Nastran 과정을 이수하면서 CAD와 CAE 실력을 향상했습니다. 저는 저의 부족한 부분을 스스로 찾아서 노력하는 성격입니다. 이러한 성격과 제가 얻은 지식, 그리고 실무 경험을 바탕으로 양산품의 품질 개선에 이바지할 것입니다.\n"
     ]
    },
    {
     "name": "stdin",
     "output_type": "stream",
     "text": [
      "Correct ?  y\n"
     ]
    },
    {
     "name": "stdout",
     "output_type": "stream",
     "text": [
      "\n",
      "\n",
      "Q :  살아오면서 힘든 일을 겪게 될 때, 힘이 되는 말(言)이나 경험 등을 이유와 함께 기술하시오.   =>   “正道가 아니면 걷지 않습니다.” 대학교 3학년 겨울 방학 때, 집안 형편이 어려워져 등록금을 마련하기 위해 일용직 아르바이트를 했습니다. 일용직 아르바이트만으로는 등록금 전액을 충당하기 어려웠고, 등록금 납부기간을 며칠 앞두고, 단과대 학생회장을 하고 있는 친구로부터 연락이 왔습니다. 단과대 학생회 간부에게 장학금 30퍼센트가 지급되는데 그걸 저에게 주겠다는 것이었습니다. 간부 명단에 이름만 올리고 따로 직무수행은 하지 않아도 된다는 이야기였습니다. 100만원 가까운 큰돈이었고, 마음이 급했던 나머지 잠시 흔들렸지만 이내 거절했습니다. 만약 그 장학금을 받게 된다면 원래 장학금을 받아야 할 사람 한명이 장학금을 받지 못하게 될뿐더러 직무를 수행하지도 않고 장학금을 받는다는 것에 대한 양심의 가책을 느꼈기 때문입니다. 결국 등록금을 마련하기 위해 한 학기 휴학할 수 밖에 없었지만 그 당시 끝까지 양심을 지킨 저의 선택을 후회해본적은 결코 없습니다. 오히려 그 때의 선택을 떠올리면 세상 앞에서 더욱 당당해질 수 있고, 왠지 모를 자신감이 생겨납니다.\n"
     ]
    },
    {
     "name": "stdin",
     "output_type": "stream",
     "text": [
      "Correct ?  y\n"
     ]
    },
    {
     "name": "stdout",
     "output_type": "stream",
     "text": [
      "\n",
      "\n",
      "Q :  본인이 가진 열정과 역량에대하여(1000)   =>   지원 직무 관련 경험 및 역량, 관심 사항 등 자신이 어필할수 있는 내용 기반 자유롭게 기술 직무 관련 경험 - [소통의 다리] 저의 USP는 제작과 기획에 대한 공부, 마케팅실 인턴 경험과 제일기획에서의 근무를 바탕으로 양 측의 상황을 빠르게 이해함으로써 소통의 ‘가교’ 역할을 할 수 있다는 점입니다. 저는 외부와의 성공적인 소통 이전에 캠페인을 이끄는 내부 구성원간의 원활한 소통부터 이끌 수 있는 인재가 되고자 항상 노력해왔습니다. 고등학생 때까지 저는 꿈도, 특색도 없는 가난한 장학생이었습니다. 대학에 와서야 뒤늦게 마케팅에 꿈을 품게 된 저는 학교에서 관련 전공 수업 수강 및 산학협력 프로젝트 참여로 기획의 기본기를 다졌습니다. 동시에, 마케팅에서 굉장히 큰 부분을 차지하고 있는 광고 실행에 대해서도 자세히 알고자 했습니다. 그럴수록 기획과 실행의 괴리가 줄어들 것이라고 생각했기 때문입니다. 이를 위해 디자인과 복수전공을 바랐지만, 역시 가계사정이 여의치 못했습니다. 고민 끝에, 독학으로 툴을 공부하고, 비전공자임을 만회할 수 있는 다양한 경험을 쌓아보자고 결정했습니다. 몸으로 부딪히는 것만큼 가장 성실하게 배우는 방법은 없다는 각오였습니다. 결국, 저는 2년만에 20편이 넘는 영상을 제작해보았고, 8개의 업체에서의 외주 경험을 쌓음으로써 캠페인 실행에 있어 구체적인 디렉션을 내릴 수 있는 마케팅 인재로서의 기반을 닦을 수 있었습니다. 실무경험 역시 큰 자양분이 되었습니다. 하이트진로 마케팅 인턴 활동과 제일기획 제작팀에서의 근무는 기획과 실행 사이의 연계 과정에 대해 깊이 고민할 수 있는 계기가 되었습니다. 목표 이외의 것들을 무화시키는 힘, 저는 이것이 열정이라고 생각합니다. 저는 제 목표를 따라 어떤 장애물에도 상관없이 나아가기를 갈망하며 살아왔고, 앞으로도 제 삶을 열정과 도전으로 가득 메워 뜨겁게 살고 싶다는 꿈을 꾸고 있습니다. LG전자는 세계적인 기업으로서, 끊임없이 구성원에게 도전의 기회를 주어줄 수 있는 혁신적인 무대임은 명백합니다. 그렇기에 LG전자가 직면하는 과제에 함께 도전하며, 이를 기반으로 성장하는 LG의 마케팅 인재가 되고 싶습니다.\n",
      "Q :  본인이 이룬가장 큰 성취 경험과 실패 경험에 대하여(500)   =>   본인의 인생에서 가장 큰 성취의 경험과 실패의 경험, 그 경험을통해 본인이 느끼고 배운 점 [개척의 용기] 작년 초, 보디빌더 홍보영상외주를 받았습니다. 잘 알지 못하는 분야였기에 쉽진 않았습니다. 촬영해야하는 운동에 대해 강좌를 찾아보며 미리 앵글을 구상하는 등 철저한 사전준비를 했습니다. 낯선 분야임을역이용해 새로운 시각으로 영화적인 촬영을 시도했고, 이는 다른 영상들과의 차별점이 될 수 있었습니다. 결국, 그 영상은 조회수 9576이라는큰 호응을 얻었고, 준비와 용기가 동반된 도전은 성공할 수 있다는 큰 가르침을 얻었습니다. [긍정의 눈을갖다] 입시 때, 원하는 대학에서떨어졌습니다. 누구보다 치열하게 공부했다고 자부해왔기 때문에 그 결과를 받아들이는 시간이 더욱 힘들었습니다. 매일을 괴로워하고 고민하던 와중, 오히려 그 시간 덕분에 가족과의대화가 이전보다 훨씬 늘었다는 사실을 발견했습니다. 그때를 계기로 저는 힘든 상황 내에서도 긍정 포인트를찾는 눈을 갖게 되었고, 이러한 성장을 통해 저는 어떤 상황에서도 주저앉지 않고 앞으로 나아가는 사람이되었습니다.\n",
      "Q :  본인의 10년 후 계획에 대하여(500)   =>   지원한 직무와 관련된 본인의 계획, 꿈, 비전. [함께 하고 싶은 도전] LG전자는 한국을 대표하는 자동차 기업이자, 고도의 기술 성장을 이루고 있는 기업입니다. 이는 특히 지난 IFA에서 선보인 OLED TV 전시를 통해 많은 이들이 확인할 수 있는 사실이었습니다. 넓은 계조를 어필하기 위해 밤하늘을 연출했다는 기사를 보고 감탄을 금치 못했습니다. 하지만 전 여기서 LG전자의 마케팅이 해결해야 하는 도전과제를 발견했습니다. 기술은 날로 앞서 나가고, 사람은 이에 경이로움과 거리감을 동시에 느낍니다. LG전자는 기술 발전과 동시에 이는 결국 사람을 향한 것임을 설득함으로써 기술과 사람의 심리적 간격을 좁혀야 하는 과제를 함께 떠안게 되는 것입니다. 다양한 커뮤니케이션 활동으로 각 제품마다 각각 걸맞는 페르소나를 입힌다면, 소비자는 그들의 가전제품과 브랜드에 더 큰 친밀감을 느끼게 되리라 생각합니다. 차가운 기술에 온기를 입히는 일, LG전자와 함께 도전하고 싶은 과제이자 앞으로 10년간의 저의 목표가 될 것입니다.\n"
     ]
    },
    {
     "name": "stdin",
     "output_type": "stream",
     "text": [
      "Correct ?  y\n"
     ]
    },
    {
     "name": "stdout",
     "output_type": "stream",
     "text": [
      "\n",
      "\n",
      "Q :  지원동기(800)   =>   [삶과 사람에 대한 애정] 저는항상 삶의 온기가 느껴지는 사람, 사람과 삶에 대한 애정을 아는 사람이 되고자 노력해왔습니다. 사람들의 마음을 움직이는 콘텐츠들은 삶을 따스하게 바라보는 제작자의 시선을 담고 있기 때문입니다. 저는 단순히 콘텐츠나 문화를 만드는 제작자로서 뿐만이 아니라 제 삶 전반에서 이러한 가치를 끊임없이 지향하고싶었습니다. 이는 제가 몸 담고 함께 나아갈 회사를 선택할 때 매우 중요한 기준이었습니다. 그런저였기에 GS SHOP의 live 카카오톡 서비스가 더욱눈에 띄었습니다. 친구가 GS SHOP에서 관련 아르바이트를한다기에 호기심에 접해본 서비스였습니다. 친구에게서 고객이 보내는 카카오톡을 하나하나 확인하고 처리하는과정을 여과없이 들을 수 있었습니다. 이를 통해 저는 소비자에 대한 애정으로 보다 풍요롭고 즐거운 쇼핑을할 수 있기를 바라며 누구보다 발 빠르게 소비자와 다가가고자 하는 GS SHOP의 노력을 발견할 수있었습니다. 뿐만 아니라 단순히 홈쇼핑 채널로서의 일방적인 메시지 전달이 아닌, 소비자의 ‘동반자’로서 프로그램을 함께 만들어가고자 하는 GS SHOP의의지가 느껴졌습니다. 쇼핑은그저 필요한 물건을 사는 행위가 아닙니다. 더 나은 삶을 만들어 가기 위한 선택의 순간이자, 가족을 생각하는 마음으로 하는 고민의 순간이며, 꿀꿀한 일상 속기분 전환을 위한 쉼표 같은 순간으로서 작용하는 것이 소비자의 ‘쇼핑’을 하는 시간이라고 생각합니다. 그순간을 애정 어린 시각으로 바라보고 함께 하고자 하는 브랜드임을 알아 보았기 때문에, 저는 꼭 GS SHOP에서 일하고 싶습니다.\n",
      "Q :  가장 기억에 남는 성과 또는실패(800)   =>   [긍정의 눈을 갖다] 입시때, 원하는 대학에서 떨어졌습니다. 사실 고등학생 때의 저는꿈도, 특색도 없는 장학생에 불과했습니다. 가세가 급격히기울어 학비를 위해 제 정체성을 고민할 겨를 없이 학업에만 매진해야 했기 때문입니다. 누구보다 치열하게공부했다고 자부해왔기 때문에 그 결과를 받아들이는 시간이 더욱 힘들었습니다. 사립대에 들어갈 경우 내야할 학비가 생각날 때면 가난에 대해, 스스로에 대해 탓을 할 수밖에 없었습니다. 매일을괴로워하고 고민하던 와중, 오히려 그 시간 덕분에 가족과의 대화가 이전보다 훨씬 늘었다는 사실을 발견했습니다. 많은 대화를 통해, 제 옆을 지키던 부모님께선 항상 의지를 가지고살아오던 저에 대한 믿음을 잃지 않고 응원하고 계신다는 것을 알 수 있었습니다. 공부를 핑계로 부모님과제대로 웃으며 대화를 나눠본 적이 없었다는 것이 떠오르며, 힘든 순간이 되려 소중한 추억이 될 수 있음을깨달았습니다. 힘듦과 불행은 동일한 것이 아니었습니다. 가난에대해서도, 남들보다 먼저 삶에 대해 몇 가지 더 배우고 시작할 기회라고 생각하게 되었습니다. 그 겨울을 계기로 저는 어떤 상황 내에서도 긍정 포인트를 찾는 눈을 갖게 되었습니다. 또한 위기 앞에서도 당황하지 않고 해결책을 찾아 앞으로 나아가는 사람이 될 수 있었습니다. 방송을하다보면 언제고 돌발상황을 마주할 수 있습니다. 제가 GS SHOP의 PD가 된다면, 앞선 경험에서 얻은 교훈을 바탕으로 그 속에서 상황을유연하게 대처할 수 있는 사람, 즉 바로 당황하지 않고 돌파구를 찾아낼 수 있는 인재로 성장할 자신이있습니다.\n",
      "Q :  나만의 특이한 경험(800)   =>   [도전으로 또 다른 벽을 깨다] 9576. 지난 해 제가 작업한 홍보영상이달성한 최고 조회수이자, 저의 가슴을 뛰게 만든 최고의 숫자입니다. 저는대학에 와서야 비로소 저 자신에 대해 알아보기 시작했습니다. 그러던 중, 연세영상제작센터에 들어가게 되면서 저는 적성, 흥미 모두를 찾았습니다. 콘텐츠 제작 안에는 음악, 그림,글 등 제가 좋아하는 모든 것이 녹아있었기에 더없이 매력적이었습니다. 좋은콘텐츠 제작자가 되기 위해 학교에서 기획 관련 수업 수강 및 산학협력 프로젝트 참여로 기획의 기본기를 다짐과 동시에 홀로 툴을 독학하고 외주를맡아 하는 등 몸으로 부딪혀 가며 제작 연습도 게을리 하지 않았습니다. 그러던 와중 맡게 된 첫 외주가보디빌더 홍보 영상 제작이었습니다. 생소했지만 기획, 제작전반을 도맡아 할 수 있는 흥미로운 도전이었습니다. 저는 낯선 분야임을 역이용해 새로운 시각으로 영화적인촬영을 시도했고, 이는 다른 영상들과의 차별점이 될 수 있었습니다. 결국, 이 영상은 9576이라는 엄청난 조회수를 기록했습니다. 이 일은 제게 스스로 찾은 꿈에 열정을 다해 인정 받은 첫 경험이자, 새로운분야로의 도전에 대한 장벽을 무너뜨리는 계기가 되었습니다. 목표이외의 것들을 무화시키는 힘, 저는 이것이 열정이라고 생각합니다. 이열정을 무기로, 장벽 없이 꿈꾸고 그를 위해 노력하는 것이 제가 정의하는 도전입니다. 이 일은 저에게 열정과 도전이 무엇인지 알게 해주었습니다. 뿐만아니라 제작과 기획에 대한 폭넓은 이해를 통해 둘 간의 괴리를 좁힐 수 있는 PD가 되기 위한 소중한자양분이 되었습니다.\n",
      "Q :  입사 후 포부(800)   =>   [함께 하고 싶은 GS SHOP의도전] 귀사는한국에서 최초의 TV 홈쇼핑 브랜드이면서 계속해서 고도의 성장을 이루고 있는 브랜드입니다. 하지만 이는 GS SHOP만이 이룬 성과는 아닙니다. 1995년 두 채널에 불과했던 채널 수가 현재 8배 이상 증가했고, 2007년에 비해 케이블, 위성,IPTV에 홈쇼핑 업체가 지불하는 수수료 역시 지난해 3배가 넘었습니다. 즉, 다른 홈쇼핑들 역시 꾸준한 성장을 이룩했다는 것입니다. 이에 따라 주요 TV 채널을 홈쇼핑들이 점령하기 시작하면서 이는일종의 공해로서 인식되기 시작했고, 결국 홈쇼핑 채널의 구조조정이 필요한 것이 아닌가 하는 목소리들이높아졌습니다. 여기서 저는 GS SHOP이 해결해야 하는도전과제가 있다고 바라봤습니다. 저는 지금 이 시점이 홈쇼핑의 콘텐츠 변화를 시도해야 하는 시기라고 판단했습니다. 그리고 이는 선구적인 홈쇼핑 브랜드로서 GS SHOP이 먼저 시작해야하는 부분이라고 생각합니다. 재미있는 콘텐츠일 경우 사람들이 공해로 생각하지 않습니다. SNS에서 오히려 사람들이 공유하며 찾아보는 바이럴 영상들이 그 사례라고 볼 수 있습니다. 홈쇼핑이 제공하는 현장감 넘치는 제품 소개의 장, 그 공간 내에소비자들의 참여가 더 극대화된 미니 코너 영상을 삽입하는 프로젝트를 진행하고 싶습니다. 이는 리얼리티가득한 소비자 반응을 보여줌으로써 소비자들의 몰입도, 상품에 대한 신뢰도를 높일 수 있을 것이며, 보다 차별화된 쇼핑 경험을 제공할 수 있을 것입니다. 이렇듯 저는항상 창의적이고 고객 친화적인 쇼핑 모멘트를 창조하기 위해 노력하는 PD가 되겠습니다.가이드를 받은 후 작성한 자소서 내용을 삭제한 경우, 영구활동정지 조치가 가해집니다.\n"
     ]
    },
    {
     "name": "stdin",
     "output_type": "stream",
     "text": [
      "Correct ?  y\n"
     ]
    },
    {
     "name": "stdout",
     "output_type": "stream",
     "text": [
      "\n",
      "\n",
      "Q :  예상치 못한 문제의 발생으로 계획대로 일이 진행되지 않았을 때, 책임감을 가지고 적극적으로문제를 해결한 경험과, 그 경험을 통해 얻은 것은 무엇인지 구체적으로 기술해 주십시오.   =>   < 두 시간, 맡은 업무에 대한 책임의 시간 > 고객과 소통하여 변경한 규칙이 좋은 결과를 만든 경험이 있습니다. 아파트에서 진행하는 무료서비스를 신청받는 아르바이트를 했습니다. 아파트마다 정해진 날짜와 시간대가 주어지고 고객이 접수하는시스템이었습니다. 접수는 현장에서 선착순으로 아홉 시부터 진행되었습니다. 접수가 시작되었고 마감 시간 때쯤 퇴근한 직장 여성들이 찾아왔습니다. 좋은시간대는 벌써 마감되었고 남은 시간대에는 직장 때문에 서비스 진행이 불가능했습니다. 대부분 신청을 못하고 돌아갔습니다. 선착순으로 진행되었으나 불공평하다는 생각이 들었습니다. 담당자분께 다음부터는 제가 두 시간 일찍 나와서 신청을 받겠다고 말씀드렸습니다. 허락을 받고 다음 아파트부터 일곱 시에 신청받기 시작해서 공평한 선착순 접수가 진행되었습니다. 첫 아파트에서보다 서비스를 못 받는 고객들이 줄었습니다. 공평한 선착순이 진행되었기 때문에불만도 줄었습니다. 처음에 지시가 내려온 아홉 시부터 선착순 접수는 분명히 합리적인 지시였습니다. 하지만 실제 현장에서 업무를 진행하다 보니 본래 선착순의 의도와는 다르게 진행되었습니다. 단기 아르바이트생에 불과했지만 제가 맡은 업무가 개선될 여지가 있는데 방관하는 것은 아니라 생각했습니다. 실행에 옮긴 두 시간은 짧지만 제 업무에 대한 책임의 시간이 되었다고 생각합니다.\n",
      "Q :  회사 및 해당직무에 지원하게 된 동기와 입사 후 회사에서 이루고 싶은 중장기적 목표에 대해 구체적으로 기술해 주십시오.   =>   < 경영마인드, 개발 경험을 통해 성장한 PL > 브이피를 위해두 가지 역량을 준비했습니다. 첫 번째 경영마인드, 두 번째개발 지식입니다. 경영학을 배운 저는 프로젝트의 주제가 잡히면 타겟 고객과 해당 시장을 분석해서 수익성창출 방안을 생각했습니다. 프로젝트 외부의 고객에 초점을 맞추는 것이 핵심이라고 생각했습니다. 하지만 프로젝트를 실제로 경험해보니 전공 별로 프로젝트를 진행할 때 바라보는 목표에 차이가 있었습니다. JAVA라는 언어를 익히면서 프로젝트의 내부를 보는 시각을 가지게 되었습니다.프로그램에서 실제로 어떤 코드를 사용해야 할지 고민하게 되었습니다. 브이피의 결제서비스는 눈에 보이지 않는 온라인의 영역에서 이루어집니다. 특히, 결제서비스라는 금융 IT의 특성상 프로그램의 보안성과 고객의 편리함을 동시에 고려해야 합니다. 프로그램 자체를 보는 개발자의 관점과 고객을 바라보는 경영자의 시각을 가진 것을 저만의 강점이라고 생각합니다. 이런 강점을 살려 고객과 프로그램의 양방향으로 신뢰를 주는 개발자로 브이피에 기여하고 싶습니다. 입사 후 3~5년 차에는 웹 개발과 관련된 부분의 신지식들을 꾸준히 습득하여 웹 전문가로성장하고 싶습니다. 입사 후 5~10년 차에는 개발을 하며알게 된 보안의 중요성과 개발자의 입장을 바탕으로 프로젝트 리더(PL)로 성장하고 싶습니다.\n"
     ]
    },
    {
     "name": "stdin",
     "output_type": "stream",
     "text": [
      "Correct ?  y\n"
     ]
    },
    {
     "name": "stdout",
     "output_type": "stream",
     "text": [
      "\n",
      "\n",
      "Q :  삼성 취업을 선택한 이유와 입사 후 회사에서 이루고 싶은 꿈을 기술하십시오.   =>   <함께하고 싶은 기업> 삼면이 바다를 둘러있는 한반도에서 최고의 산업인 조선업, 그리고 LNG 선박 수주율 세계 1위를 굳건히 지키고 있는 삼성중공업은 공학도인 저에게 있어서 꿈의 직장입니다. ‘나는 지금 생활이 너무나 만족스럽다.’ 삼성중공업에서 근무하고 있는 사촌 누나의 말이었습니다. 안전하고 쾌적한 근무환경, 세심하게 배려되어 있는 복지시설과 식사, 모든 것이 유기적으로 맞물려 잘 돌아간다는 느낌을 받았습니다. 또한, 군 전역 후 LNG 선박에서 보온테이핑 작업을 하며 삼성중공업의 웅장함과 세계 초일류 기업인 이유를 다시 한 번 느꼈습니다. 삼성중공업은 품질, 환경, 안전보건 등 3대 국제규격을 공인받고 에너지경영 국제표준인 ISO50001을 취득한 첫 번째 조선소입니다. 이렇게 환경과 사회를 위해 책임을 다하는 노력을 보며 삼성중공업의 일원이 되고 싶다는 꿈을 키웠습니다. <현장과 소통하는 인재> 생산관리는 현장에서 땀 흘리는 분들과 가장 먼저 소통하며 공학도로서의 뜨거운 열정을 가장 먼저 느낄 수 있는 직무입니다. 입사 후 1년은 기업문화에 빠르게 적응함과 동시에 현장을 경험하여 원활한 업무수행을 위해 생산관리자로서의 능력을 키우겠습니다. 5년까지는 세계화 시대에 맞춰 중국어 회화능력을 빠르게 습득하여 시대에 맞는 인재가 되겠습니다. 10년 후에는 현장 경험을 완벽하게 숙달하여 동료들과 소통하며 협력하는 인재가 되겠습니다.\n",
      "Q :  본인의 성장과정을 간략히 기술하되 현재의 자신에게 가장 큰 영향을 끼친 사건, 인물 등을 포함하여 기술하시기 바랍니다. (※작품속 가상인물도 가능)   =>   <아버지와의 약속> 출근하시기 전에는 매일 아침 아버지와 함께 뒷산에 올랐습니다. 아버지께서는 맑은 공기를 마시면 정신이 맑아지며 남들보다 부지런하고 성실할 수 있다고 하셨습니다. 또한, 목표를 잡았으면 그 목표를 위하여 반드시 이루겠다는 자신과 약속을 하라고 강조하시곤 했습니다. 이러한 부모님 덕분에 어릴 때부터 책임감, 적극성, 도전성을 배울 수 있었습니다. <가장의 어깨> 군 조교 복무 중 휴가를 나갔을 때 어머님께서는 아버지의 사업이 부도가 났다고 알려줬습니다. 아버지가 걱정되어 회사위치로 갔더니 모든 공장과 사무실에는 문이 닫혔고 이미 경매로 넘어간 상태였습니다. 30분 뒤 아버지께서 도착하시고 저를 보며 웃으시는데 정말 많은 생각이 들었습니다. 그토록 원하셨던 사업인데 어려워진 후 끝까지 자식에게는 짐이 되지 않으려고 하시는 모습에 눈물이 왈칵 흘렀습니다. <위기를 기회로 바꾸다> 사업의 부도로 가족은 빚더미에 앉게 되고, 남은 등록금을 마련해야 했습니다. 하지만 어려운 상황에 좌절하지 않고 소호무역에 도전하였습니다. 어릴 적부터 축구를 좋아하여 장비를 사려고 할 때 마음에 드는 상품은 국내에 수입되지 않아 많은 불편함이 있었습니다. 인터넷을 통해 국내 시장에는 없지만 사람들이 많이 찾고 선호하는 상품을 찾다 보니 특정 맥주와 안구 세정제를 발견하게 되었습니다. 젊은 날의 실패는 훗날 디딤돌이 될 것이라 생각하며 배짱 있게 도전해보았습니다. 시작 전에는 모든 일정을 계획하고 교통비, 식비, 상품의 비용을 파악하였습니다. 상품 구매, 고객과의 상담의 업무는 저의 몫이었고, 상품 포장 및 배송은 어머님께서 담당하셨습니다. 고객 상담 후 특별사항을 어머님께 말씀드리며 모자지간의 완벽한 호흡으로 70%의 순이익을 달성할 수 있었습니다. 제품추천을 요구하시는 고객의 경우에는 욕구와 관심을 파악하였고, 품질에 대해 불만을 가지는 고객과 소통을 통해 타당한 대안을 만들었습니다. 또한, 어릴 적부터 취미인 축구를 정기적으로 하고 싶은 생각에 직접 축구팀을 창단하였습니다. 학교 게시판과 길거리에 전단을 통해 회원을 모집하였으며, SNS를 통해 경기를 잡았습니다. 축구팀 입단에 질문사항이 있는 경우는 친절하고 궁금증이 풀릴 때까지 설명했습니다. 회장을 맡으면서 팀원들에게는 시간 준수를 항상 강조하였고, 지출된 회비내역은 상세하게 알렸습니다. 그 결과 현재 30명의 회원을 보유하고 있으며, 타 팀과의 우호적 관계로 섭외 1순위를 유지하고 있습니다. 생산관리의 직무는 현장과의 호흡과 소통을 가장 중요시하는 직무입니다. 소호무역을 통해 사람 간의 소통과 계획수립에 대해 배울 수 있었으며, 축구팀을 운영하면서 인적, 물적, 시간자원의 소중함을 알게 되었습니다. 이러한 저의 능력은 프로젝트 시작 전 생산계획에 대한 확고한 일정과 저비용 고효율의 가치 창출에 이바지 할 수 있으며, 항상 열린 마음으로 동료를 이해하고 소통하며 생산계획에 있어서 물적, 시간자원을 누구보다 중요시 여기는 우수한 삼성인이 되겠습니다.\n",
      "Q :  최근 사회이슈 중 중요하다고 생각되는 한가지를 선택하고 이에 관한 자신의 견해를 기술해 주시기 바랍니다.   =>   대학교 3학년 때 ‘국내 기업의 세계화 방안’이라는 발표에서 ‘협력과 공유’를 키워드로 발표했었고, 국내 기업 간의 협력과 공유로 해외시장에서 국가의 위상을 높일 수 있다고 주장했습니다. 이러한 저의 주장과 공통점을 가진 이슈를 얼마 전 발견했습니다. 지난 9월 1일 삼성중공업과 한국수출입은행이 맺은 ‘성동조선 경영정상화 지원을 위한 경영협력 협약’이 사회적으로 큰 이슈가 되었습니다. 이번 경영협력 협약에서 세계적인 기업은 쉽게 얻어지는 이름이 아니라는 것을 깨달았습니다. 첫째, 성동조선은 2010년 글로벌 금융위기에 따른 발주중단 등으로 경영난을 겪어 왔으며 최근 생존이 불투명한 상황이었습니다. 하지만 삼성중공업은 성동조선해양의 경영정상화를 위해 4년간의 협약 기간과 3년의 연장 기간을 통해 영업, 구매, 생산, 기술 부문을 지원하고 한국수출입은행은 인사, 노무, 재무 등 전반적인 경영관리를 계속 맡는다는 것입니다. 둘째, 현재 국내 산업의 동향은 국제화 시대에 접어들었으며, 국내 기업에서 경쟁 상대는 국내시장이 아닌 해외시장입니다. 국내에 있는 기업 간의 경쟁으로 인하여 큰 기업은 작은 기업을 상대로 경영 안정화, 기술력 향상이라는 큰 이익을 가져올 수 있습니다. 반면 작은 기업은 더 이상 발전하는 데 한계를 가지고 주저앉을 수도 있습니다. 셋째, 삼성중공업은 상반기 영업 손실에 있어 1조 5,218억을 기록했습니다. 이번 협약을 일부 뉴스와 기사에서 ‘밑 빠진 독’이라고 했지만 힘든 상황에 서로 의지하고 누군가를 도와준다면 향후 더 큰 보답이 돌아올 것입니다. 이번 협약에 따라 삼성중공업의 구매 선진화 기법 전수 등에 따른 구매단가 인하와 효율적인 생산관리 노하우 전수 등을 통해 성동조선이 안정적 물량 확보와 원가경쟁력 제고, 기술력 향상을 통해 독자적인 생존력이 높아질 것으로 보여 집니다. 제가 생산관리자로서 직무를 수행하게 된다면 열린 머리로 현장과 협력업체의 동반성장에 큰 힘이 될 수 있는 인재가 되겠습니다.\n"
     ]
    },
    {
     "name": "stdin",
     "output_type": "stream",
     "text": [
      "Correct ?  y\n"
     ]
    },
    {
     "name": "stdout",
     "output_type": "stream",
     "text": [
      "\n",
      "\n",
      "Q :  삼성전자를 선택한 이유와 회사에서 이루고 싶은 꿈   =>   [구현해낼 수 있는 능력] 인문학도도 IT기술의 변화에 깨어있는 눈을 가지고 있어야 합니다. IoT, 핀테크, O2O 등과 같은 기술의 발달로 산업간 경계가허물어지고 있습니다. 이런 시대 흐름에 IT관련 역량은 필수적요소입니다. 상상이라는 그림을 구현시킬 수 있는 능력이 인문학도들에게 가미된다면 걸출한 IT기술이 판을 치는 시대에 충분한 경쟁력을 가질 수 있다고 생각합니다. 삼성전자의 SCSA를 통해 머릿속으로만 상상했던 저의 생각을 직접 구현시킬 수 있는 기술을 배우고 싶습니다. 2.본인의 성장과정을 간략히 기술하되 현재의 자신에게 가장 큰 영향을 끼친 사건, 인물 등을 포함하여 기술하시기 바랍니다. (※작품속 가상인물도 가능) [개발 이전에 해야하는 것] 소비자들이 놀랄 만한 S/W를 개발하기 위해서는 소비자들이 원하는것을 먼저 파악하는 것이 중요합니다. 이를 위해서는 소비자들이 추구하는 것을 찾고자하는 적극적 의지가필요합니다. - 몸으로 부딪히는게 기본 컨설팅 봉사활동 중 소비자의 수요를 파악하기 위해 무작정 거리로 나갔습니다. 저희 팀 개개인이 생각하는 파전가게가 소비자에게 꼭 맞는 가게의 모습은 아니기 때문입니다. 고객들과 직접 현장에서 이야기를 나누며 고객들이 생각하는 파전가게의 모습과 수요를 파악했습니다. 고객들이 원하는 파전가게로 내부를 탈바꿈 시켰고 커플 데이트가 많은 발렌타인,화이트 데이에는 상대적으로 막걸리를 꺼려하는 여성들이 편하게 먹을 수 있는 유자 막걸리 프로모션을 진행하였습니다. 사장님께서 정확한 매출 공개는 하지 않으셨지만 아르바이트를 고용할 수 있을 정도로 매출이 올랐다고 말씀해주셨습니다. 고객의 마음을 움직일 수 있는 포인트는 고객에게서 직접 찾는 것이 기본이라는 것을 깨달은 경험입니다. 고객이 좋아할 만한, 세계 시장에서 통할 만한 포인트를 찾는데 힘쓰겠습니다. [보다 안전한, 믿을 만한] IoT, 핀테크 등과같은 기술은 모두 네트워크를 이용한 기술입니다. 모든 것이 네트워크를 통해 이루어지는 시대에 들어설수록 보안 문제에 대한 소비자들의 관심이 증대될 것입니다. 소비자들이 믿을 수 있는 안전한 S/W라는 이미지를 선도하는 삼성을 만들고 싶습니다.\n"
     ]
    },
    {
     "name": "stdin",
     "output_type": "stream",
     "text": [
      "Correct ?  n\n"
     ]
    },
    {
     "name": "stdout",
     "output_type": "stream",
     "text": [
      "\n"
     ]
    },
    {
     "name": "stdin",
     "output_type": "stream",
     "text": [
      "ENTER Question :  삼성전자를 선택한 이유와 회사에서 이루고 싶은 꿈\n",
      "ENTER Answer :  [구현해낼 수 있는 능력] 인문학도도 IT기술의 변화에 깨어있는 눈을 가지고 있어야 합니다. IoT, 핀테크, O2O 등과 같은 기술의 발달로 산업간 경계가허물어지고 있습니다. 이런 시대 흐름에 IT관련 역량은 필수적요소입니다. 상상이라는 그림을 구현시킬 수 있는 능력이 인문학도들에게 가미된다면 걸출한 IT기술이 판을 치는 시대에 충분한 경쟁력을 가질 수 있다고 생각합니다. 삼성전자의 SCSA를 통해 머릿속으로만 상상했던 저의 생각을 직접 구현시킬 수 있는 기술을 배우고 싶습니다.\n",
      "ENTER Question :  본인의 성장과정을 간략히 기술하되 현재의 자신에게 가장 큰 영향을 끼친 사건, 인물 등을 포함하여 기술하시기 바랍니다.\n",
      "ENTER Answer :  [개발 이전에 해야하는 것] 소비자들이 놀랄 만한 S/W를 개발하기 위해서는 소비자들이 원하는것을 먼저 파악하는 것이 중요합니다. 이를 위해서는 소비자들이 추구하는 것을 찾고자하는 적극적 의지가필요합니다. - 몸으로 부딪히는게 기본 컨설팅 봉사활동 중 소비자의 수요를 파악하기 위해 무작정 거리로 나갔습니다. 저희 팀 개개인이 생각하는 파전가게가 소비자에게 꼭 맞는 가게의 모습은 아니기 때문입니다. 고객들과 직접 현장에서 이야기를 나누며 고객들이 생각하는 파전가게의 모습과 수요를 파악했습니다. 고객들이 원하는 파전가게로 내부를 탈바꿈 시켰고 커플 데이트가 많은 발렌타인,화이트 데이에는 상대적으로 막걸리를 꺼려하는 여성들이 편하게 먹을 수 있는 유자 막걸리 프로모션을 진행하였습니다. 사장님께서 정확한 매출 공개는 하지 않으셨지만 아르바이트를 고용할 수 있을 정도로 매출이 올랐다고 말씀해주셨습니다. 고객의 마음을 움직일 수 있는 포인트는 고객에게서 직접 찾는 것이 기본이라는 것을 깨달은 경험입니다. 고객이 좋아할 만한, 세계 시장에서 통할 만한 포인트를 찾는데 힘쓰겠습니다. [보다 안전한, 믿을 만한] IoT, 핀테크 등과같은 기술은 모두 네트워크를 이용한 기술입니다. 모든 것이 네트워크를 통해 이루어지는 시대에 들어설수록 보안 문제에 대한 소비자들의 관심이 증대될 것입니다. 소비자들이 믿을 수 있는 안전한 S/W라는 이미지를 선도하는 삼성을 만들고 싶습니다.\n",
      "ENTER Question :  n\n"
     ]
    }
   ],
   "source": [
    "# 확인 작업\n",
    "for i, q in enumerate(Q):\n",
    "    print()\n",
    "    \n",
    "    idx, con = q\n",
    "    for key, value in con.items():\n",
    "        print(\"Q : \",key, \"  =>  \", value)\n",
    "    \n",
    "    if input(\"Correct ? \") == 'y': continue\n",
    "    else:\n",
    "        print()\n",
    "        qa_dict = {}\n",
    "        while True:\n",
    "            question = input(\"ENTER Question : \")\n",
    "            if question == \"n\": break\n",
    "            answer = input(\"ENTER Answer : \")\n",
    "            qa_dict[question] = answer\n",
    "        Q[i] = [idx, qa_dict]\n",
    "    \n",
    "    "
   ]
  },
  {
   "cell_type": "code",
   "execution_count": 151,
   "id": "ae8e0bc7-6920-435e-ac7b-5372bf7032ec",
   "metadata": {},
   "outputs": [],
   "source": [
    "for idx, q in Q:\n",
    "    not_content[idx] = q"
   ]
  },
  {
   "cell_type": "code",
   "execution_count": 152,
   "id": "8f3b72c9-20bb-461a-8701-a4cead7436b3",
   "metadata": {},
   "outputs": [],
   "source": [
    "df.NumUpdate = not_content"
   ]
  },
  {
   "cell_type": "code",
   "execution_count": 153,
   "id": "7fd56660-daf0-403e-9c0b-90db58d2f7ef",
   "metadata": {},
   "outputs": [],
   "source": [
    "df.to_csv('G:\\내 드라이브\\web_crawling\\linkareer_edit4.csv', mode=\"w\", index=False)"
   ]
  },
  {
   "cell_type": "code",
   "execution_count": 14,
   "id": "37f2f051-43bc-4594-a533-f0fca2f59e54",
   "metadata": {},
   "outputs": [],
   "source": [
    "Q = [q[0] for q in Q]"
   ]
  },
  {
   "cell_type": "code",
   "execution_count": 16,
   "id": "fe5c3a5c-3ce2-41c3-abae-715310ac7a9a",
   "metadata": {},
   "outputs": [],
   "source": [
    "df = pd.read_csv('G:\\내 드라이브\\web_crawling\\linkareer_edit4.csv')"
   ]
  },
  {
   "cell_type": "code",
   "execution_count": 19,
   "id": "ef024df1-42eb-4150-ad38-7ea3263eff26",
   "metadata": {},
   "outputs": [],
   "source": [
    "not_content = df.NotUpdate.tolist()"
   ]
  },
  {
   "cell_type": "code",
   "execution_count": 22,
   "id": "bb6e649a-ef93-4259-858e-2873a892f8ef",
   "metadata": {},
   "outputs": [],
   "source": [
    "for idx, n in enumerate(not_content):\n",
    "    if idx in Q:\n",
    "        not_content[idx] = True\n",
    "df.NotUpdate = not_content"
   ]
  },
  {
   "cell_type": "code",
   "execution_count": 24,
   "id": "206fac57-af9c-482f-9d7d-c7ac11938454",
   "metadata": {},
   "outputs": [
    {
     "data": {
      "text/plain": [
       "UserInfos         연세대 / 정치외교 / 학점 3.99/4.5 / 오픽: IH / 사회생활 경험: S...\n",
       "Content           Q1.\\n\\n자신이 도전해 본 경험 중 한 가지에 대해서, 그것을 달성하기 위해 세...\n",
       "CompanyName                                                      한샘\n",
       "CompanyCareer                                                   마케팅\n",
       "CompanyDate                                                2020 상반기\n",
       "NumUpdate         {'자신이 도전해 본 경험 중 한 가지에 대해서, 그것을 달성하기 위해 세웠던 목표...\n",
       "NotUpdate                                                      True\n",
       "Duplicate_URLS             https://linkareer.com/cover-letter/24677\n",
       "Name: 1058, dtype: object"
      ]
     },
     "execution_count": 24,
     "metadata": {},
     "output_type": "execute_result"
    }
   ],
   "source": [
    "df.loc[1058]"
   ]
  },
  {
   "cell_type": "code",
   "execution_count": 25,
   "id": "c2dd152c-174b-4eb9-85d9-df978e34f053",
   "metadata": {},
   "outputs": [],
   "source": [
    "df.to_csv('G:\\내 드라이브\\web_crawling\\linkareer_edit4.csv', mode=\"w\", index=False)"
   ]
  }
 ],
 "metadata": {
  "kernelspec": {
   "display_name": "Python 3",
   "language": "python",
   "name": "python3"
  },
  "language_info": {
   "codemirror_mode": {
    "name": "ipython",
    "version": 3
   },
   "file_extension": ".py",
   "mimetype": "text/x-python",
   "name": "python",
   "nbconvert_exporter": "python",
   "pygments_lexer": "ipython3",
   "version": "3.8.8"
  }
 },
 "nbformat": 4,
 "nbformat_minor": 5
}
