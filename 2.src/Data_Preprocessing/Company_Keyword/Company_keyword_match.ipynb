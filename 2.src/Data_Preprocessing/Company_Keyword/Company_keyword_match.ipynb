{
 "cells": [
  {
   "cell_type": "code",
   "execution_count": 1,
   "id": "437cc486-f448-4eaf-87cb-74351ac5c6c8",
   "metadata": {},
   "outputs": [],
   "source": [
    "import pickle\n",
    "import pandas as pd\n",
    "import numpy as np\n",
    "import re\n",
    "import itertools\n",
    "import json"
   ]
  },
  {
   "cell_type": "code",
   "execution_count": 2,
   "id": "89ea80ec-39c8-485b-8456-925f5e1fd6b8",
   "metadata": {},
   "outputs": [],
   "source": [
    "data_path = \"C:/Users/msi/GitHub/JasoseoAI_project/3.data/\""
   ]
  },
  {
   "cell_type": "markdown",
   "id": "acef8fee-6bef-43d4-974b-a72375e02069",
   "metadata": {},
   "source": [
    "1. 기업 인재상 키워드 dic : converted_dic <기업 인재상 - 인재상에 대한 키워드>\n",
    "2. 키워드 카테고리 별 기업 인재상 dic : category_dic <키워드 - 인재상>\n",
    "3. 기업별 인재상에 대한 키워드 dic : corpWantKeyword_dic <기업 - 키워드>"
   ]
  },
  {
   "cell_type": "code",
   "execution_count": 82,
   "id": "68fa6125-587f-419c-bd8b-9f1d6b055b64",
   "metadata": {},
   "outputs": [],
   "source": [
    "with open(data_path+'Keyword/finalcorpWantKeyword_dic.pickle', 'rb') as f:\n",
    "    keywords = pickle.load(f)\n",
    "\n",
    "with open(data_path+'JobKorea/CompanyContents.json', 'r', encoding='utf-8') as f: # 회사-[질문:답변] => dict 형식\n",
    "    jobkorea = json.load(f)"
   ]
  },
  {
   "cell_type": "code",
   "execution_count": 83,
   "id": "d221eb80-0fdf-4f21-a2a3-1746b5298697",
   "metadata": {},
   "outputs": [
    {
     "name": "stdout",
     "output_type": "stream",
     "text": [
      "1513\n"
     ]
    }
   ],
   "source": [
    "jobkorea_company = list(jobkorea.keys())\n",
    "jobkorea_company.sort()\n",
    "print(len(jobkorea_company))"
   ]
  },
  {
   "cell_type": "code",
   "execution_count": 5,
   "id": "ce0f46a8-eb16-4d29-8873-f43b029ca664",
   "metadata": {},
   "outputs": [
    {
     "name": "stdout",
     "output_type": "stream",
     "text": [
      "377\n"
     ]
    }
   ],
   "source": [
    "companys = [re.sub(\" +\",\"\", k.lower().replace('㈜', \"\").replace(\"㈔\", \"\").replace(\"(주)\", \"\").replace(\"(사)\", \"\")) for k in list(keywords.keys())]\n",
    "companys = [re.sub(\"[^가-힣a-z0-9]\", \"\", k) for k in companys]\n",
    "companys.sort()\n",
    "print(len(set(companys)))\n"
   ]
  },
  {
   "cell_type": "code",
   "execution_count": 7,
   "id": "ff09b12f-c2a0-4089-82e1-5f5802384fe7",
   "metadata": {
    "tags": []
   },
   "outputs": [],
   "source": [
    "keywords_edit = dict()\n",
    "for k, v in keywords.items():\n",
    "    if not v: continue\n",
    "    temp = re.sub(\" +\",\"\", k.lower().replace('㈜', \"\").replace(\"㈔\", \"\").replace(\"(주)\", \"\").replace(\"(사)\", \"\"))\n",
    "    temp = re.sub(\"[^가-힣a-z0-9]\", \"\", temp)\n",
    "    keywords_edit[temp] = v"
   ]
  },
  {
   "cell_type": "code",
   "execution_count": 8,
   "id": "728d2003-37d4-4f6a-9221-f8c107397673",
   "metadata": {},
   "outputs": [
    {
     "data": {
      "text/plain": [
       "['신뢰', '전문성', '도전', '사회적 가치', '혁신', '고객', '다양성']"
      ]
     },
     "execution_count": 8,
     "metadata": {},
     "output_type": "execute_result"
    }
   ],
   "source": [
    "keywords_edit['cj올리브네트웍스']"
   ]
  },
  {
   "cell_type": "code",
   "execution_count": 9,
   "id": "c5bd77e6-9414-4505-9043-304dde05a495",
   "metadata": {},
   "outputs": [],
   "source": [
    "f = open(data_path+\"JobKorea/text1.txt\", \"w\")\n",
    "for c in jobkorea_company:\n",
    "    f.write(c+\"\\n\")\n",
    "f.close()"
   ]
  },
  {
   "cell_type": "code",
   "execution_count": 10,
   "id": "b47ea43c-25b4-49df-8cf1-6e5b7844117e",
   "metadata": {},
   "outputs": [],
   "source": [
    "f = open(data_path+\"JobKorea/text2.txt\", \"w\")\n",
    "for c in companys:\n",
    "    f.write(c+\"\\n\")\n",
    "f.close()"
   ]
  },
  {
   "cell_type": "code",
   "execution_count": 12,
   "id": "f53a759e-50c2-4ec0-a0c7-52be6652ecd0",
   "metadata": {
    "scrolled": true,
    "tags": []
   },
   "outputs": [
    {
     "name": "stdout",
     "output_type": "stream",
     "text": [
      "동부건설 ['진취', '학습', '성장', '존중', '열정', '신뢰', '창의성', '안전', '실행', '책임감', '상생', '정직', '기본기', '도전', '문제해결', '다양성']\n"
     ]
    },
    {
     "name": "stdin",
     "output_type": "stream",
     "text": [
      " Change :  열정, 창의성, 다양성, 안전, 정직\n"
     ]
    },
    {
     "name": "stdout",
     "output_type": "stream",
     "text": [
      "sk에코플랜트 ['배려', '팀워크', '자부심', '인간미', '신중', '개방', '전문성']\n"
     ]
    },
    {
     "name": "stdin",
     "output_type": "stream",
     "text": [
      " Change :  진취, 팀워크, 개방, 친절, 자부심\n"
     ]
    },
    {
     "name": "stdout",
     "output_type": "stream",
     "text": [
      "넥센타이어 ['진취', '신뢰', '팀워크', '열정', '자율성', '긍정', '창의성', '집중', '전문성', '글로벌', '도전', '고객']\n"
     ]
    },
    {
     "name": "stdin",
     "output_type": "stream",
     "text": [
      " Change :  도전, 혁신, 팀워크\n"
     ]
    },
    {
     "name": "stdout",
     "output_type": "stream",
     "text": [
      "gs칼텍스 ['진취', '신뢰', '팀워크', '존중', '끈기', '변화', '열정', '창의성', '유연성', '책임감', '정직', '도전', '다양성']\n"
     ]
    },
    {
     "name": "stdin",
     "output_type": "stream",
     "text": [
      " Change :  책임감, 창의성, 도전, 열정, 다양성\n"
     ]
    },
    {
     "name": "stdout",
     "output_type": "stream",
     "text": [
      "포스코ict ['배려', '존중', '리더쉽', '창의성', '집중', '상생', '실행', '책임감', '봉사', '혁신']\n"
     ]
    },
    {
     "name": "stdin",
     "output_type": "stream",
     "text": [
      " Change :  책임감, 실행, 배려, 상생, 창의성\n"
     ]
    },
    {
     "name": "stdout",
     "output_type": "stream",
     "text": [
      "코스콤 ['진취', '열정', '유연성', '창의성', '글로벌', '전문성', '도전', '공감', '혁신', '고객']\n"
     ]
    },
    {
     "name": "stdin",
     "output_type": "stream",
     "text": [
      " Change :  창의성, 열정, 고객, 전문성, 글로벌\n"
     ]
    },
    {
     "name": "stdout",
     "output_type": "stream",
     "text": [
      "아시아나항공 ['진취', '끈기', '성장', '열정', '변화', '신중', '성실', '책임감', '정직', '자기개발']\n"
     ]
    },
    {
     "name": "stdin",
     "output_type": "stream",
     "text": [
      " Change :  고객, 책임감, 전문성, 윤리성\n"
     ]
    },
    {
     "name": "stdout",
     "output_type": "stream",
     "text": [
      "sk플래닛 ['소통', '개방', '윤리성', '책임감', '기본기', '문제해결', '고객']\n"
     ]
    },
    {
     "name": "stdin",
     "output_type": "stream",
     "text": [
      " Change :  열정, 도전, 혁신\n"
     ]
    },
    {
     "name": "stdout",
     "output_type": "stream",
     "text": [
      "롯데캐피탈 ['끈기', '팀워크', '전문성', '도전', '자기개발', '자기주도']\n"
     ]
    },
    {
     "name": "stdin",
     "output_type": "stream",
     "text": [
      " Change :  끈기, 도전, 자기개발, 전문성\n"
     ]
    },
    {
     "name": "stdout",
     "output_type": "stream",
     "text": [
      "대웅제약 ['진취', '학습', '팀워크', '소통', '자율성', '개방', '책임감', '정직', '도전']\n"
     ]
    },
    {
     "name": "stdin",
     "output_type": "stream",
     "text": [
      " Change :  학습, 소통, 팀워크, 실행\n"
     ]
    },
    {
     "name": "stdout",
     "output_type": "stream",
     "text": [
      "건강보험심사평가원 ['진취', '소통', '팀워크', '학습', '변화', '창의성', '개방', '실행', '안전', '윤리성', '공정', '전문성', '정직', '사회적 가치', '혁신']\n"
     ]
    },
    {
     "name": "stdin",
     "output_type": "stream",
     "text": [
      " Change :  사회적 가치, 정직, 소통, 팀워크, 창의성\n"
     ]
    },
    {
     "name": "stdout",
     "output_type": "stream",
     "text": [
      "코카콜라음료 ['진취', '신뢰', '팀워크', '변화', '인간미', '개방', '상생', '도전', '공감', '혁신', '고객']\n"
     ]
    },
    {
     "name": "stdin",
     "output_type": "stream",
     "text": [
      " Change :  전문성, 정직, 윤리성, 글로벌\n"
     ]
    },
    {
     "name": "stdout",
     "output_type": "stream",
     "text": [
      "유한킴벌리 ['배려', '신뢰', '성장', '열정', '창의성', '헌신', '개방', '안전', '책임감', '신중', '도전', '사회적 가치', '고객', '다양성']\n"
     ]
    },
    {
     "name": "stdin",
     "output_type": "stream",
     "text": [
      " Change :  도전, 창의성, 신뢰, 배려, 책임감\n"
     ]
    },
    {
     "name": "stdout",
     "output_type": "stream",
     "text": [
      "교원 ['팀워크', '변화', '신중', '책임감', '성장', '열정', '자신감', '인간미', '개방', '도전', '자기개발', '공감', '혁신', '진취', '소통', '고객', '긍정', '집중', '문제해결']\n"
     ]
    },
    {
     "name": "stdin",
     "output_type": "stream",
     "text": [
      " Change :  열정, 진취, 도전, 인간미, 윤리성\n"
     ]
    },
    {
     "name": "stdout",
     "output_type": "stream",
     "text": [
      "코리안리재보험 ['진취', '끈기', '긍정', '창의성', '개방', '실행', '글로벌', '문제해결', '도전', '자기개발', '다양성']\n"
     ]
    },
    {
     "name": "stdin",
     "output_type": "stream",
     "text": [
      " Change :  창의성, 글로벌, 도전, 자기주도, 개방\n"
     ]
    },
    {
     "name": "stdout",
     "output_type": "stream",
     "text": [
      "공무원연금공단 ['진취', '신뢰', '열정', '변화', '리더쉽', '창의성', '신중', '개방', '인간미', '고객']\n"
     ]
    },
    {
     "name": "stdin",
     "output_type": "stream",
     "text": [
      " Change :  고객, 개방, 창의성, 변화, 신뢰\n"
     ]
    },
    {
     "name": "stdout",
     "output_type": "stream",
     "text": [
      "우아한형제들 ['진취', '끈기', '팀워크', '학습', '열정', '배려', '자율성', '긍정', '신중', '성실', '정직', '혁신', '고객']\n"
     ]
    },
    {
     "name": "stdin",
     "output_type": "stream",
     "text": [
      " Change :  성실, 학습, 고객, 배려, 팀워크\n"
     ]
    },
    {
     "name": "stdout",
     "output_type": "stream",
     "text": [
      "삼천리 ['진취', '존중', '열정', '인간미', '상생', '도전']\n"
     ]
    },
    {
     "name": "stdin",
     "output_type": "stream",
     "text": [
      " Change :  인간미, 열정, 상생, 도전, 존중\n"
     ]
    },
    {
     "name": "stdout",
     "output_type": "stream",
     "text": [
      "skes ['변화', '창의성', '신중', '실행', '책임감', '글로벌', '정직', '문제해결', '도전', '혁신']\n"
     ]
    },
    {
     "name": "stdin",
     "output_type": "stream",
     "text": [
      " Change :  혁신, 글로벌, 정직, 책임감, 창의성\n"
     ]
    },
    {
     "name": "stdout",
     "output_type": "stream",
     "text": [
      "만도 ['진취', '끈기', '팀워크', '소통', '열정', '배려', '존중', '긍정', '학습', '창의성', '개방', '실행', '글로벌', '정직', '기본기', '전문성', '자기개발', '혁신']\n"
     ]
    },
    {
     "name": "stdin",
     "output_type": "stream",
     "text": [
      " Change :  정직, 도전, 창의성, 팀워크, 전문성\n"
     ]
    },
    {
     "name": "stdout",
     "output_type": "stream",
     "text": [
      "한국예탁결제원 ['진취', '소통', '학습', '열정', '자부심', '개방', '실행', '글로벌', '전문성', '도전', '공감', '고객']\n"
     ]
    },
    {
     "name": "stdin",
     "output_type": "stream",
     "text": [
      " Change :  도전, 고객, 글로벌, 전문성, 혁신\n"
     ]
    },
    {
     "name": "stdout",
     "output_type": "stream",
     "text": [
      "신세계건설 ['진취', '열정', '변화', '리더쉽', '창의성', '윤리성', '전문성', '정직', '도전', '혁신', '고객']\n"
     ]
    },
    {
     "name": "stdin",
     "output_type": "stream",
     "text": [
      " Change :  고객, 창의성, 도전, 열정, 자부심\n"
     ]
    },
    {
     "name": "stdout",
     "output_type": "stream",
     "text": [
      "한국남동발전 ['진취', '학습', '팀워크', '소통', '창의성', '개방', '실행']\n"
     ]
    },
    {
     "name": "stdin",
     "output_type": "stream",
     "text": [
      " Change :  학습, 다양성, 실행, 전문성, 창의성\n"
     ]
    },
    {
     "name": "stdout",
     "output_type": "stream",
     "text": [
      "효성첨단소재 ['학습', '끈기', '신뢰', '팀워크', '긍정', '책임감', '전문성', '정직', '문제해결', '도전', '혁신', '고객']\n"
     ]
    },
    {
     "name": "stdin",
     "output_type": "stream",
     "text": [
      " Change :  글로벌, 전문성, 혁신, 책임감, 정직\n"
     ]
    },
    {
     "name": "stdout",
     "output_type": "stream",
     "text": [
      "한국에너지공단 ['진취', '소통', '팀워크', '윤리성', '미래', '글로벌', '도전', '전문성', '고객']\n"
     ]
    },
    {
     "name": "stdin",
     "output_type": "stream",
     "text": [
      " Change :  전문성, 윤리성, 팀워크, 글로벌, 도전\n"
     ]
    },
    {
     "name": "stdout",
     "output_type": "stream",
     "text": [
      "한국국토정보공사 ['배려', '팀워크', '소통', '변화', '창의성', '상생', '윤리성', '전문성', '도전', '사회적 가치', '고객']\n"
     ]
    },
    {
     "name": "stdin",
     "output_type": "stream",
     "text": [
      " Change :  상생, 팀워크, 창의성, 도전, 윤리성\n"
     ]
    },
    {
     "name": "stdout",
     "output_type": "stream",
     "text": [
      "한국증권금융 ['진취', '신뢰', '학습', '배려', '열정', '변화', '창의성', '전문성', '봉사', '사회적 가치', '자기주도', '혁신', '고객']\n"
     ]
    },
    {
     "name": "stdin",
     "output_type": "stream",
     "text": [
      " Change :  고객, 혁신, 열정, 전문성, 신뢰\n"
     ]
    },
    {
     "name": "stdout",
     "output_type": "stream",
     "text": [
      "lg헬로비전 ['배려', '존중', '열정', '변화', '창의성', '정직', '혁신']\n"
     ]
    },
    {
     "name": "stdin",
     "output_type": "stream",
     "text": [
      " Change :  정직, 열정, 글로벌, 전문성, 창의성\n"
     ]
    },
    {
     "name": "stdout",
     "output_type": "stream",
     "text": [
      "부산항만공사 ['창의성', '글로벌', '미래', '도전', '전문성', '사회적 가치', '혁신']\n"
     ]
    },
    {
     "name": "stdin",
     "output_type": "stream",
     "text": [
      " Change :  고객, 개방, 전문성, 정직\n"
     ]
    },
    {
     "name": "stdout",
     "output_type": "stream",
     "text": [
      "gs리테일 ['진취', '배려', '신뢰', '긍정', '창의성', '인간미', '전문성', '정직', '친절', '고객']\n"
     ]
    },
    {
     "name": "stdin",
     "output_type": "stream",
     "text": [
      " Change :  고객, 창의성, 전문성\n"
     ]
    },
    {
     "name": "stdout",
     "output_type": "stream",
     "text": [
      "삼성전자로지텍 ['변화', '리더쉽', '창의성', '글로벌', '전문성', '도전', '기본기', '고객', '다양성']\n"
     ]
    },
    {
     "name": "stdin",
     "output_type": "stream",
     "text": [
      " Change :  창의성, 도전, 글로벌, 전문성\n"
     ]
    },
    {
     "name": "stdout",
     "output_type": "stream",
     "text": [
      "한국후지필름비즈니스이노베이션 ['진취', '창의성', '헌신', '미래', '전문성', '도전', '자기주도']\n"
     ]
    },
    {
     "name": "stdin",
     "output_type": "stream",
     "text": [
      " Change :  도전, 책임감, 전문성, 자기주도, 창의성\n"
     ]
    },
    {
     "name": "stdout",
     "output_type": "stream",
     "text": [
      "현대제철 ['소통', '팀워크', '존중', '열정', '변화', '끈기', '창의성', '인간미', '실행', '글로벌', '미래', '도전', '전문성', '자기개발', '고객', '다양성']\n"
     ]
    },
    {
     "name": "stdin",
     "output_type": "stream",
     "text": [
      " Change :  도전, 창의성, 전문성, 인간미, 고객\n"
     ]
    },
    {
     "name": "stdout",
     "output_type": "stream",
     "text": [
      "농협사료 ['진취', '끈기', '팀워크', '신뢰', '열정', '변화', '창의성', '개방', '전문성', '정직', '도전', '자기개발', '혁신', '고객']\n"
     ]
    },
    {
     "name": "stdin",
     "output_type": "stream",
     "text": [
      " Change :  상생, 팀워크, 사회적 가치, 창의성, 혁신\n"
     ]
    },
    {
     "name": "stdout",
     "output_type": "stream",
     "text": [
      "삼성물산 ['진취', '열정', '변화', '유연성', '인간미', '전문성', '고객']\n"
     ]
    },
    {
     "name": "stdin",
     "output_type": "stream",
     "text": [
      " Change :  정직, 전문성, 글로벌, 창의성, 팀워크\n"
     ]
    },
    {
     "name": "stdout",
     "output_type": "stream",
     "text": [
      "애경산업 ['소통', '배려', '팀워크', '열정', '변화', '신뢰', '책임감', '정직', '도전', '자기개발', '혁신']\n"
     ]
    },
    {
     "name": "stdin",
     "output_type": "stream",
     "text": [
      " Change :  혁신, 신뢰, 윤리성, 정직\n"
     ]
    },
    {
     "name": "stdout",
     "output_type": "stream",
     "text": [
      "한화갤러리아 ['진취', '소통', '변화', '개방', '전문성', '고객']\n"
     ]
    },
    {
     "name": "stdin",
     "output_type": "stream",
     "text": [
      " Change :  전문성, 미래, 개방, 소통, 팀워크\n"
     ]
    },
    {
     "name": "stdout",
     "output_type": "stream",
     "text": [
      "한국산업기술시험원 ['상생', '안전', '미래', '전문성', '사회적 가치', '혁신', '고객']\n"
     ]
    },
    {
     "name": "stdin",
     "output_type": "stream",
     "text": [
      " Change :  신뢰, 인간미, 전문성, 고객, 혁신\n"
     ]
    },
    {
     "name": "stdout",
     "output_type": "stream",
     "text": [
      "gs홈쇼핑 ['배려', '존중', '소통', '열정', '전문성', '고객']\n"
     ]
    },
    {
     "name": "stdin",
     "output_type": "stream",
     "text": [
      " Change :  고객, 소통, 배려, 팀워크, 혁신\n"
     ]
    },
    {
     "name": "stdout",
     "output_type": "stream",
     "text": [
      "파리크라상 ['팀워크', '열정', '변화', '정직', '기본기', '도전', '혁신', '다양성']\n"
     ]
    },
    {
     "name": "stdin",
     "output_type": "stream",
     "text": [
      " Change :  고객, 존중, 창의성, 도전, 팀워크\n"
     ]
    },
    {
     "name": "stdout",
     "output_type": "stream",
     "text": [
      "대상 ['소통', '열정', '창의성', '개방', '책임감', '전문성', '글로벌', '혁신']\n"
     ]
    },
    {
     "name": "stdin",
     "output_type": "stream",
     "text": [
      " Change :  개방, 소통, 책임감, 창의성\n"
     ]
    },
    {
     "name": "stdout",
     "output_type": "stream",
     "text": [
      "skc ['진취', '끈기', '신뢰', '변화', '유연성', '창의성', '실행', '전문성', '고객']\n"
     ]
    },
    {
     "name": "stdin",
     "output_type": "stream",
     "text": [
      " Change :  신뢰, 전문성, 도전, 혁신, 글로벌\n"
     ]
    },
    {
     "name": "stdout",
     "output_type": "stream",
     "text": [
      "키움증권 ['신뢰', '변화', '유연성', '윤리성', '전문성', '미래', '도전', '고객']\n"
     ]
    },
    {
     "name": "stdin",
     "output_type": "stream",
     "text": [
      " Change :  고객, 책임감, 팀워크, 자기개발, 열정\n"
     ]
    },
    {
     "name": "stdout",
     "output_type": "stream",
     "text": [
      "한국서부발전 ['진취', '신뢰', '팀워크', '열정', '리더쉽', '상생', '글로벌', '미래', '도전', '전문성', '혁신']\n"
     ]
    },
    {
     "name": "stdin",
     "output_type": "stream",
     "text": [
      " Change :  글로벌, 도전, 전문성, 팀워크, 열정\n"
     ]
    },
    {
     "name": "stdout",
     "output_type": "stream",
     "text": [
      "코오롱인더스트리 ['진취', '끈기', '팀워크', '실행', '도전', '혁신', '고객']\n"
     ]
    },
    {
     "name": "stdin",
     "output_type": "stream",
     "text": [
      " Change :  창의성, 도전, 긍정, 미래\n"
     ]
    },
    {
     "name": "stdout",
     "output_type": "stream",
     "text": [
      "대신증권 ['소통', '존중', '열정', '긍정', '창의성', '책임감', '전문성', '자기개발']\n"
     ]
    },
    {
     "name": "stdin",
     "output_type": "stream",
     "text": [
      " Change :  열정, 책임감, 전문성, 창의성, 팀워크\n"
     ]
    },
    {
     "name": "stdout",
     "output_type": "stream",
     "text": [
      "한국산업안전보건공단 ['배려', '창의성', '성실', '윤리성', '전문성', '도전', '고객']\n"
     ]
    },
    {
     "name": "stdin",
     "output_type": "stream",
     "text": [
      " Change :  고객, 창의, 팀워크, 사회적 가치, 전문성\n"
     ]
    },
    {
     "name": "stdout",
     "output_type": "stream",
     "text": [
      "cj푸드빌 ['창의성', '상생', '전문성', '정직', '도전', '고객']\n"
     ]
    },
    {
     "name": "stdin",
     "output_type": "stream",
     "text": [
      " Change :  정직, 열정, 창의성, 글로벌, 전문성\n"
     ]
    },
    {
     "name": "stdout",
     "output_type": "stream",
     "text": [
      "세아베스틸 ['진취', '끈기', '소통', '창의성', '윤리성', '공정', '전문성']\n"
     ]
    },
    {
     "name": "stdin",
     "output_type": "stream",
     "text": [
      " Change :  정직, 창의성, 진취, 유연성, 인간미\n"
     ]
    },
    {
     "name": "stdout",
     "output_type": "stream",
     "text": [
      "해양환경공단 ['소통', '끈기', '열정', '변화', '창의성', '개방', '책임감', '성실', '윤리성', '전문성', '정직', '도전', '공정', '자기개발']\n"
     ]
    },
    {
     "name": "stdin",
     "output_type": "stream",
     "text": [
      " Change :  전문성, 정직, 창의성, 윤리성\n"
     ]
    },
    {
     "name": "stdout",
     "output_type": "stream",
     "text": [
      "e1 ['배려', '팀워크', '자신감', '헌신', '책임감', '전문성', '도전', '사회적 가치', '자기주도']\n"
     ]
    },
    {
     "name": "stdin",
     "output_type": "stream",
     "text": [
      " Change :  도전, 자기주도, 실행, 전문성, 팀워크\n"
     ]
    },
    {
     "name": "stdout",
     "output_type": "stream",
     "text": [
      "한화종합화학 ['변화', '자신감', '창의성', '상생', '공정', '정직', '도전', '자기개발', '고객']\n"
     ]
    },
    {
     "name": "stdin",
     "output_type": "stream",
     "text": [
      " Change :  도전, 헌신, 정직, 고객\n"
     ]
    },
    {
     "name": "stdout",
     "output_type": "stream",
     "text": [
      "풀무원 ['진취', '신뢰', '열정', '개방', '정직', '혁신']\n"
     ]
    },
    {
     "name": "stdin",
     "output_type": "stream",
     "text": [
      " Change :  열정, 신뢰, 정직, 개방, 진취\n"
     ]
    },
    {
     "name": "stdout",
     "output_type": "stream",
     "text": [
      "효성중공업 ['신뢰', '열정', '긍정', '실행', '책임감', '전문성', '공정', '혁신']\n"
     ]
    },
    {
     "name": "stdin",
     "output_type": "stream",
     "text": [
      " Change :  글로벌, 전문성, 혁신, 책임감, 정직\n"
     ]
    },
    {
     "name": "stdout",
     "output_type": "stream",
     "text": [
      "풍산 ['소통', '변화', '개방', '윤리성', '미래', '도전', '기본기']\n"
     ]
    },
    {
     "name": "stdin",
     "output_type": "stream",
     "text": [
      " Change :  전문성, 미래, 신뢰, 글로벌, 진취\n"
     ]
    },
    {
     "name": "stdout",
     "output_type": "stream",
     "text": [
      "아성다이소 ['끈기', '열정', '긍정', '정직', '친절', '고객']\n"
     ]
    },
    {
     "name": "stdin",
     "output_type": "stream",
     "text": [
      " Change :  기본기, 도전, 책임감, 팀워크, 고객\n"
     ]
    },
    {
     "name": "stdout",
     "output_type": "stream",
     "text": [
      "한국타이어앤테크놀로지 ['소통', '열정', '창의성', '글로벌', '전문성', '도전', '혁신']\n"
     ]
    },
    {
     "name": "stdin",
     "output_type": "stream",
     "text": [
      " Change :  열정, 혁신, 팀워크, 글로벌\n"
     ]
    },
    {
     "name": "stdout",
     "output_type": "stream",
     "text": [
      "동아제약 ['신뢰', '성장', '변화', '유연성', '상생', '사회적 가치', '혁신']\n"
     ]
    },
    {
     "name": "stdin",
     "output_type": "stream",
     "text": [
      " Change :  혁신, 신뢰, 변화, 팀워크\n"
     ]
    },
    {
     "name": "stdout",
     "output_type": "stream",
     "text": [
      "포스코 ['열정', '창의성', '개방', '실행', '글로벌', '전문성', '도전', '다양성']\n"
     ]
    },
    {
     "name": "stdin",
     "output_type": "stream",
     "text": [
      " Change :  글로벌, 창의성, 실행, 전문성, 윤리성\n"
     ]
    },
    {
     "name": "stdout",
     "output_type": "stream",
     "text": [
      "한국교육과정평가원 ['소통', '팀워크', '신뢰', '변화', '리더쉽', '창의성', '개방', '윤리성', '책임감', '전문성', '글로벌', '문제해결', '도전']\n"
     ]
    },
    {
     "name": "stdin",
     "output_type": "stream",
     "text": [
      " Change :  창의성, 전문성, 도전, 글로벌, 책임감, 신뢰\n"
     ]
    },
    {
     "name": "stdout",
     "output_type": "stream",
     "text": [
      "공영홈쇼핑 ['존중', '열정', '창의성', '글로벌', '도전', '사회적 가치', '고객']\n"
     ]
    },
    {
     "name": "stdin",
     "output_type": "stream",
     "text": [
      " Change :  정직, 열정, 창의성, 상생\n"
     ]
    },
    {
     "name": "stdout",
     "output_type": "stream",
     "text": [
      "신도리코 ['배려', '변화', '창의성', '전문성', '기본기', '자기개발']\n"
     ]
    },
    {
     "name": "stdin",
     "output_type": "stream",
     "text": [
      " Change :  신뢰, 창의성, 헌신\n"
     ]
    },
    {
     "name": "stdout",
     "output_type": "stream",
     "text": [
      "경남은행 ['성장', '열정', '긍정', '창의성', '상생', '실행', '책임감', '미래', '전문성', '고객']\n"
     ]
    },
    {
     "name": "stdin",
     "output_type": "stream",
     "text": [
      " Change :  열정, 윤리성, 창의성, 실행, 고객\n"
     ]
    },
    {
     "name": "stdout",
     "output_type": "stream",
     "text": [
      "한국교통안전공단 ['헌신', '개방', '책임감', '미래', '전문성', '도전', '글로벌', '사회적 가치', '자기개발', '혁신']\n"
     ]
    },
    {
     "name": "stdin",
     "output_type": "stream",
     "text": [
      " Change :  전문성, 창의성, 효율\n"
     ]
    },
    {
     "name": "stdout",
     "output_type": "stream",
     "text": [
      "멀티캠퍼스 ['팀워크', '창의성', '인간미', '개방', '윤리성', '미래', '글로벌']\n"
     ]
    },
    {
     "name": "stdin",
     "output_type": "stream",
     "text": [
      " Change :  인간미, 전문성, 창의성, 도전, 실행\n"
     ]
    },
    {
     "name": "stdout",
     "output_type": "stream",
     "text": [
      "깨끗한나라 ['배려', '팀워크', '존중', '열정', '변화', '상생', '전문성']\n"
     ]
    },
    {
     "name": "stdin",
     "output_type": "stream",
     "text": [
      " Change :  기본기, 열정, 창의성, 혁신, 고객\n"
     ]
    },
    {
     "name": "stdout",
     "output_type": "stream",
     "text": [
      "여수광양항만공사 ['자신감', '자부심', '창의성', '전문성', '글로벌', '도전']\n"
     ]
    },
    {
     "name": "stdin",
     "output_type": "stream",
     "text": [
      " Change :  전문성, 도전, 팀워크, 창의성, 사회적 가치\n"
     ]
    },
    {
     "name": "stdout",
     "output_type": "stream",
     "text": [
      "서진산업 ['열정', '유연성', '전문성', '글로벌', '도전', '혁신']\n"
     ]
    },
    {
     "name": "stdin",
     "output_type": "stream",
     "text": [
      " Change :  창의성, 책임감, 진취, 인간미, 고객\n"
     ]
    },
    {
     "name": "stdout",
     "output_type": "stream",
     "text": [
      "롯데건설 ['진취', '소통', '존중', '자율성', '창의성', '헌신', '글로벌', '전문성', '도전', '기본기', '공정', '자기개발', '고객']\n"
     ]
    },
    {
     "name": "stdin",
     "output_type": "stream",
     "text": [
      " Change :  도전, 고객, 열정, 책임감, 팀워크\n"
     ]
    },
    {
     "name": "stdout",
     "output_type": "stream",
     "text": [
      "삼성바이오로직스 ['진취', '팀워크', '열정', '책임감', '전문성', '글로벌']\n"
     ]
    },
    {
     "name": "stdin",
     "output_type": "stream",
     "text": [
      " Change :  혁신, 고객, 신뢰, 전문성\n"
     ]
    },
    {
     "name": "stdout",
     "output_type": "stream",
     "text": [
      "lx판토스 ['팀워크', '열정', '자율성', '창의성', '글로벌', '공정', '도전', '자기개발', '혁신', '고객']\n"
     ]
    },
    {
     "name": "stdin",
     "output_type": "stream",
     "text": [
      " Change :  글로벌, 실행, 혁신, 열정, 창의성\n"
     ]
    },
    {
     "name": "stdout",
     "output_type": "stream",
     "text": [
      "한섬 ['학습', '소통', '팀워크', '열정', '변화', '성장', '자부심', '도전', '혁신']\n"
     ]
    },
    {
     "name": "stdin",
     "output_type": "stream",
     "text": [
      " Change :  전문성, 창의성, 도전, 책임감, 윤리성, 실행\n"
     ]
    },
    {
     "name": "stdout",
     "output_type": "stream",
     "text": [
      "한국수력원자력 ['소통', '존중', '자연친화', '배려', '열정', '안전', '윤리성', '책임감', '공정', '전문성', '글로벌', '기본기', '미래', '사회적 가치', '자기개발']\n"
     ]
    },
    {
     "name": "stdin",
     "output_type": "stream",
     "text": [
      " Change :  기본기, 배려, 상생, 글로벌, 전문성\n"
     ]
    },
    {
     "name": "stdout",
     "output_type": "stream",
     "text": [
      "셀트리온 ['열정', '변화', '창의성', '글로벌', '정직', '문제해결', '도전']\n"
     ]
    },
    {
     "name": "stdin",
     "output_type": "stream",
     "text": [
      " Change :  창의성, 도전, 정직, 글로벌\n"
     ]
    },
    {
     "name": "stdout",
     "output_type": "stream",
     "text": [
      "스타벅스커피코리아 ['진취', '소통', '존중', '열정', '상생', '전문성', '미래', '고객']\n"
     ]
    },
    {
     "name": "stdin",
     "output_type": "stream",
     "text": [
      " Change :  고객, 전문성, 다양성, 존중\n"
     ]
    },
    {
     "name": "stdout",
     "output_type": "stream",
     "text": [
      "sk텔레콤 ['팀워크', '열정', '전문성', '도전', '자기개발', '자기주도']\n"
     ]
    },
    {
     "name": "stdin",
     "output_type": "stream",
     "text": [
      " Change :  전문성, 리더쉽, 자기개발, 열정, 팀워크\n"
     ]
    },
    {
     "name": "stdout",
     "output_type": "stream",
     "text": [
      "한국토지주택공사 ['소통', '팀워크', '자율성', '창의성', '상생', '안전', '미래', '혁신']\n"
     ]
    },
    {
     "name": "stdin",
     "output_type": "stream",
     "text": [
      " Change :  상생, 팀워크, 창의성, 미래, 고객\n"
     ]
    },
    {
     "name": "stdout",
     "output_type": "stream",
     "text": [
      "현대해상화재보험 ['자율성', '창의성', '책임감', '미래', '전문성', '글로벌', '고객']\n"
     ]
    },
    {
     "name": "stdin",
     "output_type": "stream",
     "text": [
      " Change :  글로벌, 창의성, 고객, 전문성, 책임감\n"
     ]
    },
    {
     "name": "stdout",
     "output_type": "stream",
     "text": [
      "크라운제과 ['소통', '팀워크', '열정', '변화', '창의성', '헌신', '책임감', '도전', '자기개발', '혁신']\n"
     ]
    },
    {
     "name": "stdin",
     "output_type": "stream",
     "text": [
      " Change :  안전, 책임감, 고객, 창의성, 도전\n"
     ]
    },
    {
     "name": "stdout",
     "output_type": "stream",
     "text": [
      "인천항만공사 ['팀워크', '열정', '변화', '상생', '전문성', '공정', '도전', '사회적 가치', '자기개발', '다양성']\n"
     ]
    },
    {
     "name": "stdin",
     "output_type": "stream",
     "text": [
      " Change :  전문성, 열정, 팀워크, 정직, 신뢰\n"
     ]
    },
    {
     "name": "stdout",
     "output_type": "stream",
     "text": [
      "현대홈쇼핑 ['끈기', '열정', '자율성', '창의성', '상생', '윤리성', '책임감', '전문성', '도전', '사회적 가치', '자기개발', '혁신', '고객']\n"
     ]
    },
    {
     "name": "stdin",
     "output_type": "stream",
     "text": [
      " Change :  창의성, 열정, 전문성, 고객, 소통\n"
     ]
    },
    {
     "name": "stdout",
     "output_type": "stream",
     "text": [
      "유한양행 ['진취', '끈기', '팀워크', '열정', '성실', '윤리성', '미래', '정직', '도전', '자기개발']\n"
     ]
    },
    {
     "name": "stdin",
     "output_type": "stream",
     "text": [
      " Change :  정직, 긍정, 미래, 고객, 끈기\n"
     ]
    },
    {
     "name": "stdout",
     "output_type": "stream",
     "text": [
      "제이티비씨 ['신뢰', '팀워크', '끈기', '창의성', '공정', '정직', '도전']\n"
     ]
    },
    {
     "name": "stdin",
     "output_type": "stream",
     "text": [
      " Change :  신뢰, 창의성, 정직, 유연성\n"
     ]
    },
    {
     "name": "stdout",
     "output_type": "stream",
     "text": [
      "도레이첨단소재 ['소통', '존중', '끈기', '열정', '변화', '창의성', '개방', '글로벌', '전문성', '도전', '자기개발', '다양성']\n"
     ]
    },
    {
     "name": "stdin",
     "output_type": "stream",
     "text": [
      " Change :  글로벌, 창의성, 전문성, 도전\n"
     ]
    },
    {
     "name": "stdout",
     "output_type": "stream",
     "text": [
      "한국농어촌공사 ['배려', '존중', '팀워크', '소통', '자연친화', '상생', '전문성', '글로벌', '사회적 가치', '고객']\n"
     ]
    },
    {
     "name": "stdin",
     "output_type": "stream",
     "text": [
      " Change :  전문성, 존중, 팀워크, 신뢰, 책임감\n"
     ]
    },
    {
     "name": "stdout",
     "output_type": "stream",
     "text": [
      "두산 ['끈기', '존중', '팀워크', '열정', '자부심', '집중', '안전', '글로벌', '정직', '사회적 가치', '혁신', '고객']\n"
     ]
    },
    {
     "name": "stdin",
     "output_type": "stream",
     "text": [
      " Change :  전문성, 혁신, 사회적 가치, 정직, 고객\n"
     ]
    },
    {
     "name": "stdout",
     "output_type": "stream",
     "text": [
      "삼성웰스토리 ['학습', '소통', '존중', '변화', '창의성', '개방', '전문성', '글로벌', '혁신', '고객']\n"
     ]
    },
    {
     "name": "stdin",
     "output_type": "stream",
     "text": [
      " Change :  창의성, 소통, 전문성, 고객\n"
     ]
    },
    {
     "name": "stdout",
     "output_type": "stream",
     "text": [
      "한국마사회 ['소통', '팀워크', '배려', '책임감', '전문성', '공정', '도전', '혁신']\n"
     ]
    },
    {
     "name": "stdin",
     "output_type": "stream",
     "text": [
      " Change :  도전, 전문성, 소통, 팀워크, 책임감\n"
     ]
    },
    {
     "name": "stdout",
     "output_type": "stream",
     "text": [
      "수협은행 ['진취', '신뢰', '소통', '개방', '책임감', '미래', '전문성', '정직', '고객']\n"
     ]
    },
    {
     "name": "stdin",
     "output_type": "stream",
     "text": [
      " Change :  봉사, 전문성, 도전\n"
     ]
    },
    {
     "name": "stdout",
     "output_type": "stream",
     "text": [
      "세아상역 ['진취', '배려', '끈기', '열정', '변화', '창의성', '유연성', '안전', '책임감', '실행', '인간미', '전문성', '미래', '자기개발', '자기주도']\n"
     ]
    },
    {
     "name": "stdin",
     "output_type": "stream",
     "text": [
      " Change :  열정, 미래, 창의성, 정직\n"
     ]
    },
    {
     "name": "stdout",
     "output_type": "stream",
     "text": [
      "롯데렌탈 ['진취', '신뢰', '소통', '변화', '긍정', '창의성', '글로벌', '고객']\n"
     ]
    },
    {
     "name": "stdin",
     "output_type": "stream",
     "text": [
      " Change :  변화, 도전, 공감, 팀워크\n"
     ]
    },
    {
     "name": "stdout",
     "output_type": "stream",
     "text": [
      "삼성증권 ['끈기', '성장', '소통', '배려', '변화', '개방', '정직', '문제해결', '자기개발']\n"
     ]
    },
    {
     "name": "stdin",
     "output_type": "stream",
     "text": [
      " Change :  열정, 창의성, 혁신, 인간미, 윤리성\n"
     ]
    },
    {
     "name": "stdout",
     "output_type": "stream",
     "text": [
      "신한라이프생명보험 ['소통', '팀워크', '열정', '자부심', '창의성', '책임감', '윤리성', '실행', '전문성']\n"
     ]
    },
    {
     "name": "stdin",
     "output_type": "stream",
     "text": [
      " Change :  창의성, 전문성, 책임감, 윤리성, 팀워크, 열정\n"
     ]
    },
    {
     "name": "stdout",
     "output_type": "stream",
     "text": [
      "신용보증기금 ['소통', '열정', '책임감', '기본기', '문제해결', '혁신']\n"
     ]
    },
    {
     "name": "stdin",
     "output_type": "stream",
     "text": [
      " Change :  변화, 고객, 기본기, 문제해결\n"
     ]
    },
    {
     "name": "stdout",
     "output_type": "stream",
     "text": [
      "골프존 ['배려', '존중', '소통', '신뢰', '열정', '유연성', '신중', '책임감', '윤리성', '정직']\n"
     ]
    },
    {
     "name": "stdin",
     "output_type": "stream",
     "text": [
      " Change :  정직, 신중, 창의성, 긍정, 상생\n"
     ]
    },
    {
     "name": "stdout",
     "output_type": "stream",
     "text": [
      "한국소비자원 ['열정', '변화', '성실', '책임감', '전문성', '봉사', '사회적 가치', '공감', '혁신', '고객']\n"
     ]
    },
    {
     "name": "stdin",
     "output_type": "stream",
     "text": [
      " Change :  봉사, 전문성, 열정, 책임감\n"
     ]
    },
    {
     "name": "stdout",
     "output_type": "stream",
     "text": [
      "샘표식품 ['끈기', '존중', '열정', '집중', '헌신', '책임감', '정직']\n"
     ]
    },
    {
     "name": "stdin",
     "output_type": "stream",
     "text": [
      " Change :  열정, 정직, 학습, 헌신\n"
     ]
    },
    {
     "name": "stdout",
     "output_type": "stream",
     "text": [
      "현대그린푸드 ['신뢰', '성장', '열정', '창의성', '안전', '윤리성', '상생', '책임감', '전문성', '정직', '도전', '혁신', '고객']\n"
     ]
    },
    {
     "name": "stdin",
     "output_type": "stream",
     "text": [
      " Change :  창의성, 팀워크, 열정, 전문성, 고객\n"
     ]
    },
    {
     "name": "stdout",
     "output_type": "stream",
     "text": [
      "비씨카드 ['끈기', '존중', '소통', '정직', '도전', '고객']\n"
     ]
    },
    {
     "name": "stdin",
     "output_type": "stream",
     "text": [
      " Change :  소통, 팀워크, 고객, 실행, 효율\n"
     ]
    },
    {
     "name": "stdout",
     "output_type": "stream",
     "text": [
      "한국무역보험공사 ['진취', '개방', '책임감', '윤리성', '전문성', '문제해결', '사회적 가치', '혁신']\n"
     ]
    },
    {
     "name": "stdin",
     "output_type": "stream",
     "text": [
      " Change :  전문성, 혁신, 윤리성, 글로벌\n"
     ]
    },
    {
     "name": "stdout",
     "output_type": "stream",
     "text": [
      "한국산업인력공단 ['소통', '팀워크', '열정', '창의성', '인간미', '책임감', '전문성', '다양성']\n"
     ]
    },
    {
     "name": "stdin",
     "output_type": "stream",
     "text": [
      " Change :  실행, 창의성, 학습\n"
     ]
    },
    {
     "name": "stdout",
     "output_type": "stream",
     "text": [
      "광동제약 ['진취', '신뢰', '성장', '소통', '창의성', '상생', '윤리성', '정직', '도전', '혁신', '고객']\n"
     ]
    },
    {
     "name": "stdin",
     "output_type": "stream",
     "text": [
      " Change :  창의성, 도전, 책임감, 소통, 팀워크\n"
     ]
    },
    {
     "name": "stdout",
     "output_type": "stream",
     "text": [
      "si ['끈기', '팀워크', '열정', '창의성', '개방', '정직', '도전', '혁신', '고객']\n"
     ]
    },
    {
     "name": "stdin",
     "output_type": "stream",
     "text": [
      " Change :  고객, 혁신, 정직, 열정, 팀워크\n"
     ]
    },
    {
     "name": "stdout",
     "output_type": "stream",
     "text": [
      "이수페타시스 ['소통', '팀워크', '성장', '자기개발', '자기주도', '다양성']\n"
     ]
    },
    {
     "name": "stdin",
     "output_type": "stream",
     "text": [
      " Change :  창의성, 도전, 고객\n"
     ]
    },
    {
     "name": "stdout",
     "output_type": "stream",
     "text": [
      "매일홀딩스 ['진취', '끈기', '존중', '소통', '개방', '실행', '상생', '혁신']\n"
     ]
    },
    {
     "name": "stdin",
     "output_type": "stream",
     "text": [
      " Change :  창의성, 소통, 상생, 열정\n"
     ]
    },
    {
     "name": "stdout",
     "output_type": "stream",
     "text": [
      "한국투자공사 ['끈기', '성장', '배려', '팀워크', '인간미', '성실', '윤리성', '책임감', '전문성', '정직']\n"
     ]
    },
    {
     "name": "stdin",
     "output_type": "stream",
     "text": [
      " Change :  전문성, 창의성, 정직, 책임감, 성장\n"
     ]
    },
    {
     "name": "stdout",
     "output_type": "stream",
     "text": [
      "롯데쇼핑 ['끈기', '열정', '변화', '긍정', '개방', '전문성', '글로벌', '도전', '고객']\n"
     ]
    },
    {
     "name": "stdin",
     "output_type": "stream",
     "text": [
      " Change :  도전, 끈기, 열정, 팀워크, 상생\n"
     ]
    },
    {
     "name": "stdout",
     "output_type": "stream",
     "text": [
      "쌍용건설 ['진취', '신뢰', '존중', '팀워크', '변화', '혁신']\n"
     ]
    },
    {
     "name": "stdin",
     "output_type": "stream",
     "text": [
      " Change :  팀워크, 배려, 신뢰, 변화, 혁신\n"
     ]
    },
    {
     "name": "stdout",
     "output_type": "stream",
     "text": [
      "서울교통공사 ['배려', '열정', '안전', '미래', '정직', '도전']\n"
     ]
    },
    {
     "name": "stdin",
     "output_type": "stream",
     "text": [
      " Change :  열정, 도전, 정직, 고객, 안전\n"
     ]
    },
    {
     "name": "stdout",
     "output_type": "stream",
     "text": [
      "한국석유공사 ['끈기', '성장', '팀워크', '열정', '안전', '도전', '사회적 가치', '혁신']\n"
     ]
    },
    {
     "name": "stdin",
     "output_type": "stream",
     "text": [
      " Change :  도전, 배려, 전문성, 사회적 가치\n"
     ]
    },
    {
     "name": "stdout",
     "output_type": "stream",
     "text": [
      "코리아세븐 ['열정', '긍정', '창의성', '상생', '전문성', '정직', '도전', '사회적 가치', '혁신']\n"
     ]
    },
    {
     "name": "stdin",
     "output_type": "stream",
     "text": [
      " Change :  긍정, 도전 실행, 인간미\n"
     ]
    },
    {
     "name": "stdout",
     "output_type": "stream",
     "text": [
      "흥국화재해상보험 ['진취', '신뢰', '소통', '팀워크', '변화', '책임감', '전문성']\n"
     ]
    },
    {
     "name": "stdin",
     "output_type": "stream",
     "text": [
      " Change :  신뢰, 변화, 실행, 고객\n"
     ]
    },
    {
     "name": "stdout",
     "output_type": "stream",
     "text": [
      "노랑풍선 ['진취', '존중', '열정', '자신감', '창의성', '책임감', '전문성', '정직', '도전', '자기개발', '고객']\n"
     ]
    },
    {
     "name": "stdin",
     "output_type": "stream",
     "text": [
      " Change :  기본기, 창의성, 전문성, 긍정\n"
     ]
    },
    {
     "name": "stdout",
     "output_type": "stream",
     "text": [
      "한국산업기술평가관리원 ['신뢰', '변화', '전문성', '정직', '사회적 가치', '혁신', '고객']\n"
     ]
    },
    {
     "name": "stdin",
     "output_type": "stream",
     "text": [
      " Change :  전문성, 정직, 열정, 신뢰, 팀워크\n"
     ]
    },
    {
     "name": "stdout",
     "output_type": "stream",
     "text": [
      "한국인삼공사 ['진취', '끈기', '성장', '소통', '열정', '변화', '팀워크', '문제해결']\n"
     ]
    },
    {
     "name": "stdin",
     "output_type": "stream",
     "text": [
      " Change :  도전, 문제해결, 팀워크, 신뢰, 고객\n"
     ]
    },
    {
     "name": "stdout",
     "output_type": "stream",
     "text": [
      "신세계푸드 ['소통', '끈기', '배려', '열정', '자부심', '유연성', '창의성', '상생', '책임감', '윤리성', '정직', '도전', '혁신', '고객', '다양성']\n"
     ]
    },
    {
     "name": "stdin",
     "output_type": "stream",
     "text": [
      " Change :  자부심, 도전, 윤리성, 팀워크, 고객\n"
     ]
    },
    {
     "name": "stdout",
     "output_type": "stream",
     "text": [
      "세스코 ['배려', '끈기', '팀워크', '열정', '변화', '책임감', '미래', '도전']\n"
     ]
    },
    {
     "name": "stdin",
     "output_type": "stream",
     "text": [
      " Change :  성실, 끈기, 창의성, 도전, 배려\n"
     ]
    },
    {
     "name": "stdout",
     "output_type": "stream",
     "text": [
      "한국보훈복지의료공단 ['신뢰', '팀워크', '헌신', '인간미', '전문성', '사회적 가치']\n"
     ]
    },
    {
     "name": "stdin",
     "output_type": "stream",
     "text": [
      " Change :  봉사, 전문성, 신뢰, 팀워크, 사회적 가치\n"
     ]
    },
    {
     "name": "stdout",
     "output_type": "stream",
     "text": [
      "한국생산기술연구원 ['소통', '팀워크', '열정', '자부심', '창의성', '전문성', '문제해결']\n"
     ]
    },
    {
     "name": "stdin",
     "output_type": "stream",
     "text": [
      " Change :  책임감, 창의성, 열정, 소통, 신뢰\n"
     ]
    },
    {
     "name": "stdout",
     "output_type": "stream",
     "text": [
      "한화호텔앤드리조트 ['진취', '신뢰', '팀워크', '열정', '자율성', '긍정', '창의성', '인간미', '정직', '도전', '문제해결', '혁신', '고객']\n"
     ]
    },
    {
     "name": "stdin",
     "output_type": "stream",
     "text": [
      " Change :  열정, 신뢰, 긍정, 고객, 혁신\n"
     ]
    },
    {
     "name": "stdout",
     "output_type": "stream",
     "text": [
      "한국농수산식품유통공사 ['소통', '배려', '열정', '변화', '창의성', '책임감', '전문성', '고객']\n"
     ]
    },
    {
     "name": "stdin",
     "output_type": "stream",
     "text": [
      " Change :  전문성, 도전, 소통, 긍정, 고객\n"
     ]
    },
    {
     "name": "stdout",
     "output_type": "stream",
     "text": [
      "한국남부발전 ['팀워크', '열정', '창의성', '개방', '윤리성', '책임감', '전문성', '도전', '다양성']\n"
     ]
    },
    {
     "name": "stdin",
     "output_type": "stream",
     "text": [
      " Change :  글로벌, 전문성, 창의성, 윤리성, 책임감\n"
     ]
    },
    {
     "name": "stdout",
     "output_type": "stream",
     "text": [
      "삼성전자 ['끈기', '열정', '변화', '창의성', '책임감', '미래', '정직', '도전', '혁신']\n"
     ]
    },
    {
     "name": "stdin",
     "output_type": "stream",
     "text": [
      " Change :  열정, 창의성, 상생, 변화, 진취\n"
     ]
    },
    {
     "name": "stdout",
     "output_type": "stream",
     "text": [
      "메트라이프생명보험 ['진취', '끈기', '팀워크', '성장', '변화', '실행', '혁신', '다양성']\n"
     ]
    },
    {
     "name": "stdin",
     "output_type": "stream",
     "text": [
      " Change :  변화, 팀워크, 전문성, 고객, 진취\n"
     ]
    },
    {
     "name": "stdout",
     "output_type": "stream",
     "text": [
      "비알코리아 ['소통', '팀워크', '열정', '변화', '개방', '상생', '정직', '기본기', '도전', '다양성']\n"
     ]
    },
    {
     "name": "stdin",
     "output_type": "stream",
     "text": [
      " Change :  고객, 창의성, 도전, 팀워크, 상생\n"
     ]
    },
    {
     "name": "stdout",
     "output_type": "stream",
     "text": [
      "고려아연 ['자연친화', '성장', '끈기', '창의성', '개방', '글로벌', '정직', '전문성', '사회적 가치', '자기개발', '자기주도', '고객', '다양성']\n"
     ]
    },
    {
     "name": "stdin",
     "output_type": "stream",
     "text": [
      " Change :  창의성, 개방, 자기주도, 글로벌\n"
     ]
    },
    {
     "name": "stdout",
     "output_type": "stream",
     "text": [
      "아모레퍼시픽 ['성장', '긍정', '집중', '창의성', '전문성', '공감', '고객']\n"
     ]
    },
    {
     "name": "stdin",
     "output_type": "stream",
     "text": [
      " Change :  글로벌, 혁신, 팀워크, 인간미, 고객\n"
     ]
    },
    {
     "name": "stdout",
     "output_type": "stream",
     "text": [
      "삼성디스플레이 ['진취', '끈기', '팀워크', '창의성', '상생', '개방', '전문성', '글로벌', '미래', '도전', '혁신', '고객']\n"
     ]
    },
    {
     "name": "stdin",
     "output_type": "stream",
     "text": [
      " Change :  창의성, 글로벌, 도전, 전문성, 팀워크\n"
     ]
    },
    {
     "name": "stdout",
     "output_type": "stream",
     "text": [
      "db손해보험 ['진취', '신뢰', '팀워크', '열정', '창의성', '개방', '미래', '전문성', '도전', '글로벌', '다양성']\n"
     ]
    },
    {
     "name": "stdin",
     "output_type": "stream",
     "text": [
      " Change :  창의성, 도전, 전문성, 글로벌, 신뢰성, 팀워크\n"
     ]
    },
    {
     "name": "stdout",
     "output_type": "stream",
     "text": [
      "효성tns ['학습', '끈기', '존중', '열정', '팀워크', '긍정', '글로벌', '정직', '도전', '자기주도', '혁신']\n"
     ]
    },
    {
     "ename": "KeyboardInterrupt",
     "evalue": "Interrupted by user",
     "output_type": "error",
     "traceback": [
      "\u001b[1;31m---------------------------------------------------------------------------\u001b[0m",
      "\u001b[1;31mKeyboardInterrupt\u001b[0m                         Traceback (most recent call last)",
      "\u001b[1;32m<ipython-input-12-1b96c8782acf>\u001b[0m in \u001b[0;36m<module>\u001b[1;34m\u001b[0m\n\u001b[0;32m      2\u001b[0m     \u001b[1;32mif\u001b[0m \u001b[0mlen\u001b[0m\u001b[1;33m(\u001b[0m\u001b[0mvalue\u001b[0m\u001b[1;33m)\u001b[0m \u001b[1;33m>\u001b[0m \u001b[1;36m5\u001b[0m\u001b[1;33m:\u001b[0m\u001b[1;33m\u001b[0m\u001b[1;33m\u001b[0m\u001b[0m\n\u001b[0;32m      3\u001b[0m         \u001b[0mprint\u001b[0m\u001b[1;33m(\u001b[0m\u001b[0mkey\u001b[0m\u001b[1;33m,\u001b[0m \u001b[0mvalue\u001b[0m\u001b[1;33m)\u001b[0m\u001b[1;33m\u001b[0m\u001b[1;33m\u001b[0m\u001b[0m\n\u001b[1;32m----> 4\u001b[1;33m         \u001b[0mresult\u001b[0m \u001b[1;33m=\u001b[0m \u001b[0minput\u001b[0m\u001b[1;33m(\u001b[0m\u001b[1;34m\" Change : \"\u001b[0m\u001b[1;33m)\u001b[0m\u001b[1;33m\u001b[0m\u001b[1;33m\u001b[0m\u001b[0m\n\u001b[0m\u001b[0;32m      5\u001b[0m         \u001b[0mkeywords_edit\u001b[0m\u001b[1;33m[\u001b[0m\u001b[0mkey\u001b[0m\u001b[1;33m]\u001b[0m \u001b[1;33m=\u001b[0m \u001b[0mresult\u001b[0m\u001b[1;33m.\u001b[0m\u001b[0msplit\u001b[0m\u001b[1;33m(\u001b[0m\u001b[1;34m\",\"\u001b[0m\u001b[1;33m)\u001b[0m\u001b[1;33m\u001b[0m\u001b[1;33m\u001b[0m\u001b[0m\n",
      "\u001b[1;32m~\\anaconda3\\envs\\study\\lib\\site-packages\\ipykernel\\kernelbase.py\u001b[0m in \u001b[0;36mraw_input\u001b[1;34m(self, prompt)\u001b[0m\n\u001b[0;32m    861\u001b[0m             \u001b[0mself\u001b[0m\u001b[1;33m.\u001b[0m\u001b[0m_parent_ident\u001b[0m\u001b[1;33m,\u001b[0m\u001b[1;33m\u001b[0m\u001b[1;33m\u001b[0m\u001b[0m\n\u001b[0;32m    862\u001b[0m             \u001b[0mself\u001b[0m\u001b[1;33m.\u001b[0m\u001b[0m_parent_header\u001b[0m\u001b[1;33m,\u001b[0m\u001b[1;33m\u001b[0m\u001b[1;33m\u001b[0m\u001b[0m\n\u001b[1;32m--> 863\u001b[1;33m             \u001b[0mpassword\u001b[0m\u001b[1;33m=\u001b[0m\u001b[1;32mFalse\u001b[0m\u001b[1;33m,\u001b[0m\u001b[1;33m\u001b[0m\u001b[1;33m\u001b[0m\u001b[0m\n\u001b[0m\u001b[0;32m    864\u001b[0m         )\n\u001b[0;32m    865\u001b[0m \u001b[1;33m\u001b[0m\u001b[0m\n",
      "\u001b[1;32m~\\anaconda3\\envs\\study\\lib\\site-packages\\ipykernel\\kernelbase.py\u001b[0m in \u001b[0;36m_input_request\u001b[1;34m(self, prompt, ident, parent, password)\u001b[0m\n\u001b[0;32m    902\u001b[0m             \u001b[1;32mexcept\u001b[0m \u001b[0mKeyboardInterrupt\u001b[0m\u001b[1;33m:\u001b[0m\u001b[1;33m\u001b[0m\u001b[1;33m\u001b[0m\u001b[0m\n\u001b[0;32m    903\u001b[0m                 \u001b[1;31m# re-raise KeyboardInterrupt, to truncate traceback\u001b[0m\u001b[1;33m\u001b[0m\u001b[1;33m\u001b[0m\u001b[1;33m\u001b[0m\u001b[0m\n\u001b[1;32m--> 904\u001b[1;33m                 \u001b[1;32mraise\u001b[0m \u001b[0mKeyboardInterrupt\u001b[0m\u001b[1;33m(\u001b[0m\u001b[1;34m\"Interrupted by user\"\u001b[0m\u001b[1;33m)\u001b[0m \u001b[1;32mfrom\u001b[0m \u001b[1;32mNone\u001b[0m\u001b[1;33m\u001b[0m\u001b[1;33m\u001b[0m\u001b[0m\n\u001b[0m\u001b[0;32m    905\u001b[0m             \u001b[1;32mexcept\u001b[0m \u001b[0mException\u001b[0m \u001b[1;32mas\u001b[0m \u001b[0me\u001b[0m\u001b[1;33m:\u001b[0m\u001b[1;33m\u001b[0m\u001b[1;33m\u001b[0m\u001b[0m\n\u001b[0;32m    906\u001b[0m                 \u001b[0mself\u001b[0m\u001b[1;33m.\u001b[0m\u001b[0mlog\u001b[0m\u001b[1;33m.\u001b[0m\u001b[0mwarning\u001b[0m\u001b[1;33m(\u001b[0m\u001b[1;34m\"Invalid Message:\"\u001b[0m\u001b[1;33m,\u001b[0m \u001b[0mexc_info\u001b[0m\u001b[1;33m=\u001b[0m\u001b[1;32mTrue\u001b[0m\u001b[1;33m)\u001b[0m\u001b[1;33m\u001b[0m\u001b[1;33m\u001b[0m\u001b[0m\n",
      "\u001b[1;31mKeyboardInterrupt\u001b[0m: Interrupted by user"
     ]
    }
   ],
   "source": [
    "for key, value in keywords_edit.items():\n",
    "    if len(value) > 5:\n",
    "        print(key, value)\n",
    "        result = input(\" Change : \")\n",
    "        keywords_edit[key] = result.split(\",\")\n"
   ]
  },
  {
   "cell_type": "code",
   "execution_count": 15,
   "id": "93ceb413-999f-437f-8b93-49fbbcf9cbf1",
   "metadata": {},
   "outputs": [],
   "source": [
    "new_key_dict = dict()\n",
    "for key, value in keywords_edit.items():\n",
    "    if len(value) <= 6:\n",
    "        new_key_dict[key] = value"
   ]
  },
  {
   "cell_type": "code",
   "execution_count": 16,
   "id": "fb3f5fe6-fe59-4b54-a219-89b5e6d705fa",
   "metadata": {},
   "outputs": [
    {
     "data": {
      "text/plain": [
       "['창의성', ' 글로벌', ' 도전', ' 전문성', ' 팀워크']"
      ]
     },
     "execution_count": 16,
     "metadata": {},
     "output_type": "execute_result"
    }
   ],
   "source": [
    "new_key_dict['삼성디스플레이']"
   ]
  },
  {
   "cell_type": "code",
   "execution_count": 17,
   "id": "682cda67-59d6-4f99-9e1f-78d8d793fcfe",
   "metadata": {},
   "outputs": [],
   "source": [
    "with open(data_path+'JobKorea/CompanyEdit2.json', 'w', encoding='utf-8') as f: # 회사-[질문:답변] => dict 형식\n",
    "    json.dump(new_key_dict, f, indent=\"\\t\")"
   ]
  },
  {
   "cell_type": "code",
   "execution_count": 20,
   "id": "07b1574d-25ad-4a37-a5ce-87a8088ff438",
   "metadata": {},
   "outputs": [
    {
     "name": "stdout",
     "output_type": "stream",
     "text": [
      "212\n"
     ]
    }
   ],
   "source": [
    "companys = list(new_key_dict.keys())\n",
    "print(len(companys))"
   ]
  },
  {
   "cell_type": "code",
   "execution_count": 56,
   "id": "5a6e9440-a9ad-443a-ad75-d033127e2883",
   "metadata": {},
   "outputs": [
    {
     "name": "stdout",
     "output_type": "stream",
     "text": [
      "도전 실행\n"
     ]
    },
    {
     "name": "stdin",
     "output_type": "stream",
     "text": [
      "change 도전,실행\n"
     ]
    }
   ],
   "source": [
    "news = dict()\n",
    "for key, value in new_key_dict.items():\n",
    "    temp = []\n",
    "    for v in value:\n",
    "        v = v.strip()\n",
    "        if v != \"사회적 가치\" and len(v.split()) >= 2 : \n",
    "            print(v)\n",
    "            result = input(\"change\").split(\",\")\n",
    "            for r in result:\n",
    "                temp.append(r.strip())\n",
    "        else:\n",
    "            temp.append(v)\n",
    "    news[key] = temp"
   ]
  },
  {
   "cell_type": "code",
   "execution_count": 63,
   "id": "fa370f09-f5e1-41e7-b23d-93ea8307dcb6",
   "metadata": {},
   "outputs": [],
   "source": [
    "with open(data_path+'JobKorea/CompanyEdit3.json', 'w', encoding='utf-8') as f: # 회사-[질문:답변] => dict 형식\n",
    "    json.dump(news, f, indent=\"\\t\")"
   ]
  },
  {
   "cell_type": "code",
   "execution_count": 57,
   "id": "c3c4ae01-e9a0-4b28-8053-b38edb264446",
   "metadata": {},
   "outputs": [
    {
     "name": "stdout",
     "output_type": "stream",
     "text": [
      "212\n"
     ]
    }
   ],
   "source": [
    "companys = list(news.keys())\n",
    "print(len(companys))"
   ]
  },
  {
   "cell_type": "code",
   "execution_count": 71,
   "id": "a016e816-616c-4341-80cc-6b0461f1346f",
   "metadata": {},
   "outputs": [
    {
     "data": {
      "text/plain": [
       "['동부건설', 'sk에코플랜트', '넥센타이어']"
      ]
     },
     "execution_count": 71,
     "metadata": {},
     "output_type": "execute_result"
    }
   ],
   "source": [
    "companys[:3]"
   ]
  },
  {
   "cell_type": "code",
   "execution_count": 62,
   "id": "3f320fc0-c182-47f7-8832-5caa925e5419",
   "metadata": {},
   "outputs": [
    {
     "data": {
      "text/plain": [
       "['창의성', '글로벌', '도전', '전문성', '팀워크']"
      ]
     },
     "execution_count": 62,
     "metadata": {},
     "output_type": "execute_result"
    }
   ],
   "source": [
    "news['삼성디스플레이']"
   ]
  },
  {
   "cell_type": "markdown",
   "id": "52c8b3ed-c3f6-40c4-9c77-ad1a908e5a7f",
   "metadata": {},
   "source": [
    "### [1] 일단 회사 == 회사"
   ]
  },
  {
   "cell_type": "code",
   "execution_count": 84,
   "id": "9a5eb36b-7465-44fe-8ac0-1df5a47ecaff",
   "metadata": {},
   "outputs": [],
   "source": [
    "companys_keyword = dict()\n",
    "not_list = []"
   ]
  },
  {
   "cell_type": "code",
   "execution_count": 85,
   "id": "2badfaae-1e70-4e1f-861e-9d834c04cb0e",
   "metadata": {},
   "outputs": [],
   "source": [
    "for company in companys:\n",
    "    if company in jobkorea_company:\n",
    "        companys_keyword[company] = {'answer':jobkorea[company]['answer'], 'keywords' : news[company]}\n",
    "    else: not_list.append(company)"
   ]
  },
  {
   "cell_type": "code",
   "execution_count": 86,
   "id": "2b3ec3f2-317e-4e57-b59c-99dd322ec064",
   "metadata": {},
   "outputs": [
    {
     "name": "stdout",
     "output_type": "stream",
     "text": [
      "40\n"
     ]
    }
   ],
   "source": [
    "print(len(not_list))"
   ]
  },
  {
   "cell_type": "code",
   "execution_count": 87,
   "id": "3477c09a-0395-4507-8220-6c32242dc09d",
   "metadata": {},
   "outputs": [
    {
     "data": {
      "text/plain": [
       "172"
      ]
     },
     "execution_count": 87,
     "metadata": {},
     "output_type": "execute_result"
    }
   ],
   "source": [
    "len(companys_keyword)"
   ]
  },
  {
   "cell_type": "code",
   "execution_count": 88,
   "id": "c38c5eed-1b6c-4191-9596-1faa2392f43e",
   "metadata": {},
   "outputs": [],
   "source": [
    "jobkorea_company = set(jobkorea_company) - set(list(companys_keyword.keys()))"
   ]
  },
  {
   "cell_type": "code",
   "execution_count": 89,
   "id": "6ba03beb-a7b1-498a-84cd-d236c02087c4",
   "metadata": {},
   "outputs": [
    {
     "data": {
      "text/plain": [
       "1341"
      ]
     },
     "execution_count": 89,
     "metadata": {},
     "output_type": "execute_result"
    }
   ],
   "source": [
    "len(jobkorea_company)"
   ]
  },
  {
   "cell_type": "code",
   "execution_count": 115,
   "id": "1fe1f076-0c66-4041-aed0-fad09272f117",
   "metadata": {},
   "outputs": [],
   "source": [
    "with open(data_path+'JobKorea/CompanyKeywordData.json', 'w', encoding='utf-8') as f: # 회사-[질문:답변] => dict 형식\n",
    "    json.dump(companys_keyword, f, indent=\"\\t\")"
   ]
  },
  {
   "cell_type": "code",
   "execution_count": 109,
   "id": "8db8dc0b-a26d-496e-a298-0c04dd75ebbb",
   "metadata": {
    "tags": []
   },
   "outputs": [],
   "source": [
    "keywords_set = set()\n",
    "for key, value in companys_keyword.items():\n",
    "\n",
    "    keywords_set |= set(list(value['keywords']))"
   ]
  },
  {
   "cell_type": "code",
   "execution_count": 110,
   "id": "8958b625-d8d6-4909-b753-a73f4186c3aa",
   "metadata": {},
   "outputs": [
    {
     "data": {
      "text/plain": [
       "46"
      ]
     },
     "execution_count": 110,
     "metadata": {},
     "output_type": "execute_result"
    }
   ],
   "source": [
    "len(keywords_set)"
   ]
  },
  {
   "cell_type": "code",
   "execution_count": 117,
   "id": "c039864b-427a-45a0-8518-6b954260d4b2",
   "metadata": {},
   "outputs": [],
   "source": [
    "with open(data_path+'Keyword/KeywordCategory.pickle', 'wb') as f:\n",
    "    pickle.dump(list(keywords_set), f, pickle.HIGHEST_PROTOCOL)"
   ]
  },
  {
   "cell_type": "code",
   "execution_count": 111,
   "id": "ce379af3-f76c-437d-818b-b0105037f3d3",
   "metadata": {},
   "outputs": [],
   "source": [
    "with open(data_path+'Keyword/finalCategory_dic.pickle', 'rb') as f:\n",
    "    category = pickle.load(f)"
   ]
  },
  {
   "cell_type": "code",
   "execution_count": 112,
   "id": "c66ac74a-9ad2-4a6b-8461-b37fe84612aa",
   "metadata": {},
   "outputs": [
    {
     "data": {
      "text/plain": [
       "dict_keys(['기본기', '창의성', '소통', '전문성', '책임감', '성실', '유연성', '긍정', '성장', '리더쉽', '자율성', '공감', '집중', '공정', '친절', '인간미', '안전', '문제해결', '자연친화', '학습', '효율', '사회적 가치', '상생', '신중', '신뢰', '자기주도', '자기개발', '팀워크', '혁신', '도전', '변화', '미래', '고객', '윤리성', '정직', '존중', '배려', '봉사', '헌신', '다양성', '개방', '글로벌', '자부심', '자신감', '열정', '끈기', '실행', '진취'])"
      ]
     },
     "execution_count": 112,
     "metadata": {},
     "output_type": "execute_result"
    }
   ],
   "source": [
    "category.keys()"
   ]
  },
  {
   "cell_type": "code",
   "execution_count": 113,
   "id": "1fb46f00-2eb5-454f-bd78-ff162acba962",
   "metadata": {},
   "outputs": [
    {
     "data": {
      "text/plain": [
       "set()"
      ]
     },
     "execution_count": 113,
     "metadata": {},
     "output_type": "execute_result"
    }
   ],
   "source": [
    "keywords_set - set(category.keys())"
   ]
  },
  {
   "cell_type": "code",
   "execution_count": 114,
   "id": "b352c770-49d5-40f7-ba1e-fd7a88e5bb51",
   "metadata": {},
   "outputs": [
    {
     "data": {
      "text/plain": [
       "{'신중', '집중'}"
      ]
     },
     "execution_count": 114,
     "metadata": {},
     "output_type": "execute_result"
    }
   ],
   "source": [
    "set(category.keys()) - keywords_set"
   ]
  },
  {
   "cell_type": "markdown",
   "id": "83b8dde4-6856-4f87-9a28-61462f624d7b",
   "metadata": {},
   "source": [
    "### [2] 회사-키워드 연결"
   ]
  }
 ],
 "metadata": {
  "kernelspec": {
   "display_name": "Python 3",
   "language": "python",
   "name": "python3"
  },
  "language_info": {
   "codemirror_mode": {
    "name": "ipython",
    "version": 3
   },
   "file_extension": ".py",
   "mimetype": "text/x-python",
   "name": "python",
   "nbconvert_exporter": "python",
   "pygments_lexer": "ipython3",
   "version": "3.7.10"
  }
 },
 "nbformat": 4,
 "nbformat_minor": 5
}
