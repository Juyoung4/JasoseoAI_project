{
 "cells": [
  {
   "cell_type": "code",
   "execution_count": 1,
   "id": "b7ee3496-99bd-4d5e-a067-65170de4a3e7",
   "metadata": {},
   "outputs": [],
   "source": [
    "import pickle\n",
    "import pandas as pd\n",
    "import numpy as np\n",
    "import re\n",
    "import itertools\n",
    "import json"
   ]
  },
  {
   "cell_type": "code",
   "execution_count": 2,
   "id": "88b955a0-8d27-4a29-9639-04f9a5a137f7",
   "metadata": {},
   "outputs": [],
   "source": [
    "from eunjeon import Mecab\n",
    "mecab = Mecab()"
   ]
  },
  {
   "cell_type": "code",
   "execution_count": 3,
   "id": "0d7c468c-bc55-420f-8862-0f190e1130ca",
   "metadata": {},
   "outputs": [],
   "source": [
    "data_path = \"C:/Users/msi/GitHub/JasoseoAI_project/3.data/\""
   ]
  },
  {
   "cell_type": "code",
   "execution_count": 12,
   "id": "ea0badaf-2e34-4cf0-a51c-8a33c588c625",
   "metadata": {},
   "outputs": [],
   "source": [
    "with open(data_path+'JobKorea/JobKorea_processed.pickle', 'rb') as f:\n",
    "    jobkorea = pickle.load(f)"
   ]
  },
  {
   "cell_type": "code",
   "execution_count": 13,
   "id": "7cec8e59-c2b8-492c-b14d-70d68b35e087",
   "metadata": {},
   "outputs": [
    {
     "data": {
      "text/plain": [
       "Index(['company_name', 'company_url', 'apply_info', 'applicant_info', 'score',\n",
       "       'score_desc', 'url', 'Question', 'content', 'comment'],\n",
       "      dtype='object')"
      ]
     },
     "execution_count": 13,
     "metadata": {},
     "output_type": "execute_result"
    }
   ],
   "source": [
    "jobkorea.columns"
   ]
  },
  {
   "cell_type": "code",
   "execution_count": 14,
   "id": "557af457-e424-45a5-9394-226ef77e9ad4",
   "metadata": {},
   "outputs": [],
   "source": [
    "jobkorea = jobkorea[['company_name', 'content', 'Question']]"
   ]
  },
  {
   "cell_type": "code",
   "execution_count": 16,
   "id": "9a237a1b-797d-4a44-b9f1-7aa3af209426",
   "metadata": {},
   "outputs": [],
   "source": [
    "jobkorea['company_name'] = jobkorea['company_name'].apply(lambda x : re.sub(\" +\",\"\",x.lower().replace('㈜', \"\").replace(\"㈔\", \"\").replace(\"(주)\", \"\").replace(\"(사)\", \"\")))\n",
    "jobkorea['company_name'] = jobkorea['company_name'].apply(lambda x : re.sub(\"[^가-힣a-z0-9]\", \"\", x))"
   ]
  },
  {
   "cell_type": "code",
   "execution_count": 17,
   "id": "d998a551-eab1-4c59-a5a3-00fe586ccf32",
   "metadata": {},
   "outputs": [
    {
     "data": {
      "text/html": [
       "<div>\n",
       "<style scoped>\n",
       "    .dataframe tbody tr th:only-of-type {\n",
       "        vertical-align: middle;\n",
       "    }\n",
       "\n",
       "    .dataframe tbody tr th {\n",
       "        vertical-align: top;\n",
       "    }\n",
       "\n",
       "    .dataframe thead th {\n",
       "        text-align: right;\n",
       "    }\n",
       "</style>\n",
       "<table border=\"1\" class=\"dataframe\">\n",
       "  <thead>\n",
       "    <tr style=\"text-align: right;\">\n",
       "      <th></th>\n",
       "      <th>company_name</th>\n",
       "      <th>content</th>\n",
       "      <th>Question</th>\n",
       "    </tr>\n",
       "  </thead>\n",
       "  <tbody>\n",
       "    <tr>\n",
       "      <th>0</th>\n",
       "      <td>경동나비엔</td>\n",
       "      <td>[새로운 도전을 위해 대학 시절 OO 유학을 떠나게 되었습니다. 조금 늦은 나이의 ...</td>\n",
       "      <td>[자신의 가장 자랑스러운 성취 경험 또는 자신을 가장 힘들게 했던 실패 경험은 무엇...</td>\n",
       "    </tr>\n",
       "    <tr>\n",
       "      <th>2</th>\n",
       "      <td>포스코인터내셔널</td>\n",
       "      <td>[어떠한 일을 시작하기 전에 두려운 마음이 들 때마다 이러한 마음가짐을 갖추고 도전...</td>\n",
       "      <td>[성장과정 및 생활신조 등 자기소개를 기술하여 주시기 바랍니다. , 성격, 능력 관...</td>\n",
       "    </tr>\n",
       "    <tr>\n",
       "      <th>3</th>\n",
       "      <td>하나은행</td>\n",
       "      <td>[벤처기업, 제조 공장 자동화, 금융 시스템 개발 경력저는 어려서 배운 컴퓨터 강의...</td>\n",
       "      <td>[자기소개서]</td>\n",
       "    </tr>\n",
       "  </tbody>\n",
       "</table>\n",
       "</div>"
      ],
      "text/plain": [
       "  company_name                                            content  \\\n",
       "0        경동나비엔  [새로운 도전을 위해 대학 시절 OO 유학을 떠나게 되었습니다. 조금 늦은 나이의 ...   \n",
       "2     포스코인터내셔널  [어떠한 일을 시작하기 전에 두려운 마음이 들 때마다 이러한 마음가짐을 갖추고 도전...   \n",
       "3         하나은행  [벤처기업, 제조 공장 자동화, 금융 시스템 개발 경력저는 어려서 배운 컴퓨터 강의...   \n",
       "\n",
       "                                            Question  \n",
       "0  [자신의 가장 자랑스러운 성취 경험 또는 자신을 가장 힘들게 했던 실패 경험은 무엇...  \n",
       "2  [성장과정 및 생활신조 등 자기소개를 기술하여 주시기 바랍니다. , 성격, 능력 관...  \n",
       "3                                            [자기소개서]  "
      ]
     },
     "execution_count": 17,
     "metadata": {},
     "output_type": "execute_result"
    }
   ],
   "source": [
    "jobkorea.head(3)"
   ]
  },
  {
   "cell_type": "code",
   "execution_count": 18,
   "id": "b1570818-b56c-460d-abc5-3e40145c4f2b",
   "metadata": {},
   "outputs": [
    {
     "data": {
      "text/plain": [
       "6631"
      ]
     },
     "execution_count": 18,
     "metadata": {},
     "output_type": "execute_result"
    }
   ],
   "source": [
    "len(jobkorea)"
   ]
  },
  {
   "cell_type": "code",
   "execution_count": 19,
   "id": "0d89f6be-914a-404b-8c67-3f7c89f02b07",
   "metadata": {},
   "outputs": [
    {
     "data": {
      "text/plain": [
       "1513"
      ]
     },
     "execution_count": 19,
     "metadata": {},
     "output_type": "execute_result"
    }
   ],
   "source": [
    "company_names = set(jobkorea['company_name'].tolist())\n",
    "len(company_names)"
   ]
  },
  {
   "cell_type": "code",
   "execution_count": 20,
   "id": "f12c9016-99b1-42ee-abce-c5136e4582b8",
   "metadata": {},
   "outputs": [],
   "source": [
    "groupby = jobkorea[['content', 'Question']].groupby(jobkorea['company_name'])"
   ]
  },
  {
   "cell_type": "code",
   "execution_count": 21,
   "id": "f7139b01-aa84-4497-b710-c49db3b43e1c",
   "metadata": {},
   "outputs": [],
   "source": [
    "company_contents = dict()"
   ]
  },
  {
   "cell_type": "code",
   "execution_count": 22,
   "id": "333abd93-c6c3-4599-8c42-0f3d3c3741af",
   "metadata": {},
   "outputs": [],
   "source": [
    "for name, group in groupby:\n",
    "    company_contents[name] = group "
   ]
  },
  {
   "cell_type": "code",
   "execution_count": 23,
   "id": "00775ce3-0d32-4eb4-a749-91a2079241ec",
   "metadata": {},
   "outputs": [
    {
     "data": {
      "text/plain": [
       "1513"
      ]
     },
     "execution_count": 23,
     "metadata": {},
     "output_type": "execute_result"
    }
   ],
   "source": [
    "len(company_contents)"
   ]
  },
  {
   "cell_type": "code",
   "execution_count": 24,
   "id": "a1cf38fd-0bf5-4ca8-9db2-ab62e88eb740",
   "metadata": {},
   "outputs": [
    {
     "name": "stdout",
     "output_type": "stream",
     "text": [
      "한국일보사\n"
     ]
    }
   ],
   "source": [
    "print(list(company_contents.keys())[1300])"
   ]
  },
  {
   "cell_type": "code",
   "execution_count": 25,
   "id": "33bf50ff-46a6-4716-8280-e1b9dda29adb",
   "metadata": {
    "scrolled": true,
    "tags": []
   },
   "outputs": [
    {
     "data": {
      "text/plain": [
       "['경영기획이란 주어진 자원을 효율적으로 활용하는 분야라고 생각합니다. 이러한 경영기획에서 필요한 역량은 탁월한 숫자감각과 원활한 소통이라고 생각합니다. 저는 세 가지 측면에서 이러한 역량을 갖춘 인재입니다.첫째, 통계지식을 바탕으로 숫자감각을 키웠습니다. 사회조사분석사 공부를 통해 조사방법론, 분석 도구의 특징, 분석 자료의 해석 등 통계에 대한 기초를 쌓았습니다. 또한, 학교에서 통계수업을 통해 분석 자료를 어떻게 해석할 것인가, 경영 의사결정에 어떻게 반영할 것인가 등을 훈련하였습니다. 이러한 공부를 통해 통계는 어떤 일에 대한 통찰력과 프레임을 제공해준다고 느꼈습니다. 또한, 객관적인 근거자료로써 활용할 수 있다는 것을 느꼈습니다. 하지만 다양한 분석 모델을 활용하여 프레임 자체에 갇혀서는 안 된다는 것을 느꼈고, 수치를 이해하고 데이터의 트렌드를 읽는 역량이 중요하다는 것을 배웠습니다.둘째, 조직에서 소통을 가장 중요하게 생각합니다. 팀 과제를 하면서 소통을 통해 조직 내 어려움을 극복하고 최고의 성과를 낸 경험이 있습니다. 한 팀원이 처음에는 자발적인 참여를 하다가 중간부터 의욕을 잃어 보이고 참여율이 저조했습니다. 그래서 팀 과제 진행을 중단하고 모든 팀원과 한강에서 치킨과 맥주를 먹는 자리를 마련하였습니다. 휴식하며 대화를 나누어 보니 모두가 다른 수업의 과제나 아르바이트 등으로 지쳐있는 상태라는 것을 알게 되었습니다. 이 자리를 통해 서로 공감하고 소통하면서 의지가 될 수 있었고, 모든 팀원이 다시 자발적인 협력을 통해 팀 과제의 추진력을 높일 수 있었습니다. 그 결과 팀 과제 1등의 성적 또한 거둘 수 있었습니다. 이러한 경험을 통해 조직에서 가장 중요한 것은 소통이라고 느꼈습니다. 소통은 자발적이고 유기적인 협력을 끌어낼 수 있다고 느꼈습니다.셋째, 다양한 분야를 연결하는 융합적 사고를 키우고 있습니다. OOOO 신문을 구독하며 사회 및 경제의 흐름을 읽고 있습니다. 또한, 각종 포럼, 콜로키엄, 콘퍼런스 등에 참가하면서 시대의 흐름을 읽고 있습니다. 이러한 경험을 통해 시대를 이끌어가는 사람들의 열정을 배울 수 있었고 동기를 부여받을 수 있었습니다. 또한, 사회적 흐름에 따라 미래를 어떻게 대비할 것인지, 어떤 방향으로 나아갈 것인지 등을 고민하는 계기가 되기도 하였습니다. ',\n",
       " '공영 방송인으로서의 사회적 역할과 책임은 서로 간의 다양성을 존중하는 사회적 분위기를 조성하는 것이라고 생각합니다. 그런 측면에서 수전 케인의 더 콰이어트라는 책이 이와 관련 있다고 생각합니다.이 책은 내향적인 성격을 가진 사람도 세상을 바꿀 수 있다는 메시지를 전달하는 책으로서 기존의 외향적인 사람이 세상을 이끌고 바꿀 것이라는 저의 생각을 뒤집어 놓았습니다. 이 책을 읽으면서 내향적인 사람은 혼자만의 시간을 통해, 외향적인 사람은 다른 사람과의 시간을 통해 에너지를 얻는다는 것을 이해할 수 있었습니다. 더 나아가 각자의 타고난 성격에 따라 서로를 인정하고 이해하며 존중하는 것이 중요하다는 것을 느꼈습니다.우리 사회에는 다양한 사람들이 살아가고 있습니다. 사회에서 돋보이는 사람을 천편일률적으로 유형화하기보다 더불어 사는 사회에서 서로를 이해하고 존중하는 분위기를 가진 사회가 더욱 살기 좋은 사회라고 생각합니다. ',\n",
       " '어려움이란 목표에 도달하기 위한 과정이 복잡한 것을 의미한다고 생각합니다.어려움의 순기능 중 하나는 목표에 상관없이 복잡한 과정 자체를 통해 배울 점이 많다는 것입니다. 사회인 음악 밴드를 하면서 자작곡으로 공연을 한 경험이 있습니다. 처음 자작곡을 편곡하느라 팀원들 간의 의견 차이도 많았고 시간도 오래 걸렸습니다. 하지만 끊임없는 대화와 소통을 통해 서로 간의 접점을 찾아 나갔고, 공연을 마무리할 수 있었습니다. 이 경험을 통해 조직 내에서의 어려움을 극복하는 것은 조직을 더욱 단단하게 뭉쳐준다는 것을 느꼈고, 자발적인 도전은 아무리 힘들어도 즐겁다는 것을 느꼈습니다.어려움의 역기능 중 하나는 목표에 도달할 수 있을지 알 수 없다는 것입니다. 목표에 도달하는 과정이 복잡하기 때문에 방향이 맞는지 알기 어렵기 때문입니다. 하지만 복잡한 과정 끝의 목표 달성은 성취감이 가장 높고 다음 목표를 위한 동기를 부여하기도 합니다. ',\n",
       " '저의 좌우명은 일상의 소중함을 느끼고 감사하자 입니다. 항상 카메라(DSLR)를 가지고 다니며 주변의 일상을 사진으로 남기고 있습니다.가장 열정을 쏟았던 경험은 함께했던 사람과 관련된 사진을 엽서로 출력하여 연말에 손편지를 전한 경험입니다. 감사의 마음을 전하고 새해 인사를 함께 전하며 주변 사람들에 대한 소중함을 느끼고 감사하는 기회가 되었습니다. 이러한 경험을 통해 오히려 제가 감사하다는 말을 더 많이 들을 수 있었습니다. 또한, 사소한 표현이라도 마음을 전한다면 주변 사람들과 더 좋은 관계를 유지하고 더 많은 소통을 할 수 있다는 것을 느꼈습니다.기회가 된다면 직접 찍은 사진들로 사진전을 열고 싶습니다. 주변 사람들과 일상을 주제로 사진전을 통해 감사의 마음을 전하고 다양한 사람들이 모여 소통할 수 있는 자리를 마련하고 싶습니다. ',\n",
       " '4차 산업혁명에 따라 전기에너지의 수요가 더욱 증대될 것으로 기대되고 있습니다. 또한, 각종 무인전자기기, 블록체인 기술의 발달 등으로 인간의 개입 없이도 사물과 사물 간의 통신을 통해 에너지를 주고받는 미래가 올 것으로 예상하고 있습니다. 이러한 상황에서 현재의 전기에너지 거래 방식에 변화가 필요하다고 생각합니다.따라서 전력중개사업이 필요하다고 생각합니다. 기저발전의 비중이 줄어들고 신재생에너지의 비중이 증대되면 발전소의 수도 증가할 것입니다. 현재의 방식으로는 증가하는 모든 발전소에 대한 지시가 어렵고, 이에 따라 전력중개사업자가 필요하다고 생각합니다. 또한, 사물과 사물이 실시간으로 전력을 수급하는 사회에서 전력을 효율적으로 사용하기 위해서는 전력중개사업이 필요하다고 생각합니다. 더 나아가 민간이 전력데이터에 대한 접근성을 높여 다양한 분야에서 데이터를 활용하여 더 높은 부가가치를 창출할 필요가 있다고 생각합니다. ',\n",
       " '한국의 방송은 1920년대 라디오 방송에서 시작하였습니다. 과거 방송경영은 국가의 사상, 정치적 메시지 등을 대중에 전달하는 수단으로서 역할을 했다고 생각합니다. 더욱 효율적으로 더 많은 사람에게 사상을 전파할 필요가 있었고, 방송경영 또한 이러한 목표를 기반으로 이루어졌다고 생각합니다.오늘날 방송은 언론사와 매체의 다양화로 이용자의 수요에 따라 흥망성쇠가 결정되고 있습니다. 따라서 방송의 콘텐츠, 출연자, PD, 작가 등이 수요에 따라 힘을 얻게 되었고, 방송경영 또한 이용자의 수요와 예산, 정책 등에 따라 기획하고 있습니다. 또한, 인터넷의 발전에 따라 방송의 범위가 넓어졌고, 누구나 방송을 기획하고 제작할 수 있는 시대가 열렸습니다.최근 4차 산업혁명에 따라 데이터의 가치가 더욱 중요해지고 있습니다. 미래에 가정의 전력 사용패턴 데이터가 더욱 활발히 공유된다면 방송산업에서도 중요한 데이터로 활용할 수 있을 것이라 생각합니다. 전력 사용패턴은 곧 생활패턴을 의미하고, 생활패턴을 분석하여 가장 효과적인 편성표 구성, 콘텐츠 제작 등에 활용할 수 있다고 생각합니다.급변하는 사회에서 체질개선을 먼저하고 다가올 미래를 예측하고 대응하는 회사가 산업을 선도할 수 있다고 생각합니다. 다양한 분야를 이해하고 융합하는 사고를 필요로 하는 방송경영은 그 역할이 더욱 중요해질 것이라 생각하고, 방송산업을 이끌어갈 핵심 분야라고 생각합니다. ']"
      ]
     },
     "execution_count": 25,
     "metadata": {},
     "output_type": "execute_result"
    }
   ],
   "source": [
    "company_contents['한국방송공사']['content'].tolist()[0]"
   ]
  },
  {
   "cell_type": "code",
   "execution_count": 26,
   "id": "9bbd9818-35e3-462b-be39-44e37deb86e0",
   "metadata": {},
   "outputs": [],
   "source": [
    "for name, infos in company_contents.items():\n",
    "    questions = list(itertools.chain(*infos.Question.tolist()))\n",
    "    contents = list(itertools.chain(*infos.content.tolist()))\n",
    "    if len(questions) != len(contents): break\n",
    "    company_contents[name] = {'question' : questions, 'answer' : contents}"
   ]
  },
  {
   "cell_type": "code",
   "execution_count": 27,
   "id": "222c5a5e-d91d-48e6-b737-db0647d57519",
   "metadata": {},
   "outputs": [],
   "source": [
    "with open(data_path+'JobKorea/CompanyContents.json', 'w', encoding='utf-8') as f: # 회사-[질문:답변] => dict 형식\n",
    "    json.dump(company_contents, f, indent=\"\\t\")"
   ]
  },
  {
   "cell_type": "markdown",
   "id": "6a81944c-31ab-4eef-a662-db9345fede04",
   "metadata": {},
   "source": [
    "### 첫 문장 추출"
   ]
  },
  {
   "cell_type": "code",
   "execution_count": 24,
   "id": "457d2184-0183-4d1f-8283-20aae23cc75b",
   "metadata": {},
   "outputs": [],
   "source": [
    "first_contents = dict()"
   ]
  },
  {
   "cell_type": "code",
   "execution_count": 33,
   "id": "d140a687-ef65-4a99-a286-d22a1a7ad3b2",
   "metadata": {},
   "outputs": [],
   "source": [
    "for name, infos in company_contents.items():\n",
    "    answers = infos['answer']\n",
    "    checks = []\n",
    "    for a in answers:\n",
    "        temp = a.split(\".\")\n",
    "        check = []\n",
    "        for t in temp:\n",
    "            result = re.findall('^[^가-힣a-zA-Z0-9. ]', t)\n",
    "            if result:\n",
    "                check.append(t)\n",
    "        checks.append(check)\n",
    "    first_contents[name] = {\n",
    "        'question' : infos['question'], \n",
    "        'answer' : infos['answer'],\n",
    "        'first_answer' : checks\n",
    "    }"
   ]
  },
  {
   "cell_type": "code",
   "execution_count": 35,
   "id": "8f570619-013d-40c2-8dc4-9fb1427003a1",
   "metadata": {},
   "outputs": [
    {
     "data": {
      "text/plain": [
       "{'question': ['지원분야에 관심을 가지게 된 계기는 무엇이며, 전문성 향상을 위해 어떤 노력을 했는지 서술해 주십시오.',\n",
       "  '본인이 사회경험, 학교생활, 취미활동 등에서 주인의식을 가지고 문제를 해결하고자  최선을 다한 경험을 서술해 주십시오.',\n",
       "  '대화를 통해 동료를 이해하고 구성원과의 화합을 이끌어낸 경험을 서술해 주십시오.',\n",
       "  '매사에 능동적이며 맡은 바 업무를 끝까지 해결한 경험을 서술해 주십시오.',\n",
       "  '지원분야에 관심을 가지게 된 계기는 무엇, 전문성향상을 위해 어떤노력을 했는지 서술',\n",
       "  '사회경험/학교생활/취미에서 주인의식을 갖고 문제해결하고자 최선다한 경험[',\n",
       "  '매사에 능동적이며 맡은 바 업무를 끝까지 해결한 경험을 서술'],\n",
       " 'answer': ['사무직은 사람과 사람을 이어주는 코레일네트웍스의 프로세스를 총괄하는 업무를 수행합니다. 따라서 다른 직무에 비해 다양한 데이터를 활용하고, 종합적으로 파악하고 발빠르게 판단을 내리는 것이 중요합니다. 소비자, 그리고 통계에 관심을 두었던 저의 경험을 적극 활용할 수 있다고 판단하여 지원하였습니다.데이터베이스 마케팅 관련 수업을 다수 수강하며 기업의 입장에서 유용한 데이터를 파악하고, 이를 마케팅 전략으로 구현하는 과정을 연습하였습니다. 이후 2달간 빅데이터 전문가 양성 교육을 수료하였습니다. R 프로그래밍을 활용하여 수십만 건의 도서관 데이터 전처리 과정을 실습했습니다. 나아가, 실제 데이터를 활용하여 200만 원의 매출을 창출한 경험이 있습니다. 특정 기업의 고객 후기를 분석하여 관련 정보성 컨텐츠를 제작하였고, 이는 매출 창출로 이어졌습니다. 데이터로부터 시사점을 도출하고, 행동전략으로 구체화한 경험을 바탕으로, 최적의 마케팅 전략을 도출해내는 사원이 되겠습니다. ',\n",
       "  '대학교 시절, 이벤트 사업을 진행하였습니다. 10명의 팀원은 꽃 수급, 꽃배달, 고객 관리 부서로 나누어 업무를 맡았습니다. 그러던 중, 꽃배달 팀원과 고객 관리 팀원 간의 실시간 연락이 이뤄지지 않아 약속된 시간에 꽃배달을 진행하지 못하는 일이 발생했습니다. 저는 1시간 단위의 업무 일정표에 문제가 있다고 생각했습니다. 1시간 동안 팀원 간의 실시간 연락을 확보하는 것은 현실적으로 어려움이 따랐기 때문입니다. 같은 실수를 방지하기 위해, 30분 단위의 새로운 업무 일정표를 제안했습니다. 실질적으로 배달이 이루어지는 30분 동안, 비상연락에 집중할 수 있는 팀원들을 구성하여 실시간 연락을 확보하였습니다. 고객 관리 팀원은 30분간 변동사항을 전달하거나 비상연락을 기다려주었고, 꽃배달 팀원은 상황을 틈틈이 보고하며 문제 상황을 예방하기 위해 함께 노력한 덕분에 동일한 배달 사고는 발생하지 않았습니다. ',\n",
       "  '대학교 시절, 스타트업의 보드게임 제품 펀딩을 목표로 다른 성향을 가진 팀원과 마케팅 프로젝트를 진행했습니다. 충분한 후원자를 확보하여 제품을 출시하기 위해 소셜미디어 채널별 맞춤형 마케팅 전략을 수립하였습니다.그러나 특정 팀원은 프로젝트의 보상이 적다는 이유로 최소한의 역할을 수행하려는 모습을 보였습니다. 자본이 충분하지 않은 스타트업의 마케팅을 돕는다는 사명감을 내세우며 설득했지만 프로젝트 보상에 대한 입장 차이를 좁히기 어려웠습니다.모두의 적극적인 참여가 필요한 상황이었기 때문에 다시 설득을 시도했습니다. 팀원 스스로 심리적인 만족감을 느낀다면 프로젝트에 깊이 몰입할 것으로 판단했습니다. 해당 팀원에게 특화된 소셜미디어 채널을 우선하여 배분하였고, 주력 채널에서 만족할만한 성과를 얻자, 점차 프로젝트에 적극적으로 참여하였습니다. 그 결과, 모든 팀원이 힘을 합쳐 목표 펀딩률을 초과 달성하여 펀딩률 106%를 달성했습니다. ',\n",
       "  \"대학교 시절, 자본금 10만 원으로 사업을 운영한 경험이 있습니다. 약 10명의 팀원과 함께 사업을 꾸려나가다 보니, 의사소통이 원활히 이루어지지 않거나 의견충돌이 발생하기도 하였습니다. 저는 사업을 운영하는 동안에 팀원들과 모든 단계에서 의견충돌을 줄이고자 최대한 서로 소통할 수 있도록 주 3회 모임을 진행했습니다. 또한, 수익보다는 가치 있는 사업을 원했던 팀원들에게 '수익금 50% 기부'를 제안했습니다. 모든 구성원이 공감하는 또렷한 목표가 생긴다면, 함께 도전할 수 있는 원동력이 되어준다고 생각했습니다. 기부 관련 캠페인, 마케팅 전략을 활용하자 취지에 공감해주신 고객분들 덕분에 판매량이 증가하였고, 이를 기반으로 새로운 제품 도입에도 도전할 수 있었습니다. 코레일네트웍스 내에서도 동료와 끈끈하게 소통하고 함께 나아간다면, 저와 코레일네트웍스 모두 한 단계 높은 가치를 실현할 수 있다고 생각합니다. \",\n",
       "  '미디어를 전공하며 사회에 이로운 영향력을 알게되고 저또한 사회에 이로운 영향력을 미치는 사람이 되고자 했습니다. 그리곤 매일 이용하는 많은 시민의 발이 되어주는 도시철도에서 그 목표를 이루고자 합니다. 코레일네트웍스 조직원으로써 고객을 위한 서비스를 강구하고 최고의 서비스를 제공해 그쁨주는 출근길을 만들고자 합니다.이를 위해 조직 내외의 많은 협업이 있는데, 원활한 업무를 위해 소통은 매우 중요합니다. 갈등도 발생하는데, 상대의 환경을 고려하고 배려한다면 긍정적 관계를 지속할 수 있을 것입니다.이처럼 소통의 중요성을 인식하여 관련 수업을 수강했습니다. 개인·조직 등 소통 주체별 탐구수업으로 이론기초를 다졌고, 졸업 후 마케터&PD로서 많은 광고주와 출연자, 실무진과 만나고 협업하며 현실감각으로 체득했습니다. 더불어 경영·총무·인적자원관리 등 직업교육 이수로 실무지식을 학습했습니다. 이는 추후 빠른 직무이해와 원활한 업무수행에 큰 바탕이 될 것입니다. ',\n",
       "  '연출팀 막내로서 전 스태프를 관리하는 입장이었습니다. 시간에 쫓기는 환경에 스태프들의 불만은 쌓여 저를 향해 불평을 쏟았습그래서 변화를 만들자 다짐했습니다. 이후 지시가 아닌 밝은 표정으로 요청과 양해를 구했고 상냥하게 응했습니다. 또한, 스태프들에게 먼저 다가가 유대감을 쌓고 이후 애로사항을 묻었고, 입장을 바꿔보며 능력 안에서 가능한 부분은 대안을 마련했습니다. 이처럼 경청과 공감으로 촬영장 분위기는 긍정적으로 발전할 수 있었습니다. 사소한 배려였지만 무섭기만 하던 카메라 감독님들도 미소를 띠어주었습니다. 이러한 화목한 환경에 저 또한 긍정적 힘을 받으며 성공적인 촬영을 할 수 있었습니다. ',\n",
       "  '인력부족으로 신입인 저 혼자 광고주를 담당하던 어느 날, 광고주가 다음 달 운영안을 요청하여 논의를 위해 미팅에 갔습니다. 하지만 광고메인 선정에서 전 새 학기와 취업시즌을 공략한 구두를, 광고주는 인기 있던 부츠로 하자고 이견이 있었습니다. 먼저, 해당 사업 전문가인 광고주의 의견에 감사를 표했고 요구반영을 위해 분석에 들어갔습니다. 신입이라는 광고주의 불안감을 해소하고 성공적 프로젝트를 위한 책임감이 타올랐습니다. 그렇게 저녁과 주말을 잊은 채 검색량과 방문자 등 데이터를 수집하고 분석&활용하여 주장에 힘을 실을 근거를 마련하고, 부츠는 할인율을 적용하는 방법으로 모두의 의견이 녹아든 운영안을 완성하였습니다. '],\n",
       " 'first_answer': [[], [], [], [], [], [], []]}"
      ]
     },
     "execution_count": 35,
     "metadata": {},
     "output_type": "execute_result"
    }
   ],
   "source": [
    "first_contents['코레일네트웍스(주)']"
   ]
  },
  {
   "cell_type": "code",
   "execution_count": 36,
   "id": "d6a11f7f-44bf-496a-ba93-422e354979b3",
   "metadata": {},
   "outputs": [],
   "source": [
    "with open(data_path+'JobKorea/CompanyFirstContents.json', 'w', encoding='utf-8') as f: # 회사-[질문:답변] => dict 형식\n",
    "    json.dump(first_contents, f, indent=\"\\t\")"
   ]
  },
  {
   "cell_type": "code",
   "execution_count": null,
   "id": "ca703b6d-b5ec-4427-a5d5-b1781c6c0f7c",
   "metadata": {},
   "outputs": [],
   "source": []
  }
 ],
 "metadata": {
  "kernelspec": {
   "display_name": "Python 3",
   "language": "python",
   "name": "python3"
  },
  "language_info": {
   "codemirror_mode": {
    "name": "ipython",
    "version": 3
   },
   "file_extension": ".py",
   "mimetype": "text/x-python",
   "name": "python",
   "nbconvert_exporter": "python",
   "pygments_lexer": "ipython3",
   "version": "3.7.10"
  }
 },
 "nbformat": 4,
 "nbformat_minor": 5
}
