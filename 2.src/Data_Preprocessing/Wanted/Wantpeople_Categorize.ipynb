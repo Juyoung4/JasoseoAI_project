{
 "cells": [
  {
   "cell_type": "markdown",
   "id": "a06bcc1c-4431-47be-b31a-5b13e3200a1b",
   "metadata": {
    "tags": []
   },
   "source": [
    "# 카테고리 분류 역할분담"
   ]
  },
  {
   "cell_type": "code",
   "execution_count": 65,
   "id": "42bcf2a0-e00d-4d95-ab32-9a057e5d0431",
   "metadata": {},
   "outputs": [],
   "source": [
    "import numpy as np\n",
    "import pandas as pd\n",
    "import pickle"
   ]
  },
  {
   "cell_type": "markdown",
   "id": "508d132a-1f83-457a-bdab-068d46791f4a",
   "metadata": {
    "tags": []
   },
   "source": [
    "## 데이터 불러오기"
   ]
  },
  {
   "cell_type": "code",
   "execution_count": 66,
   "id": "fedf68e8-7ab1-46f3-b60f-27ce61fd8bff",
   "metadata": {},
   "outputs": [],
   "source": [
    "f = open(\"../Data_Crawling/data/wantPeopleList.pickle\", \"rb\")\n",
    "wantPeopleList = pickle.load(f)\n",
    "f.close()\n",
    "\n",
    "f = open(\"../Data_Crawling/data/wantPeople_dic.pickle\", \"rb\")\n",
    "wantPeople_dic = pickle.load(f)\n",
    "f.close()"
   ]
  },
  {
   "cell_type": "markdown",
   "id": "8cd73608-299b-455c-b61f-4b8a5e97c8de",
   "metadata": {},
   "source": [
    "**변수 설명**\n",
    "* **wantPeopleList**: 인재상이 적혀있는 리스트\\\n",
    "    형태: [(\"keyword\", \"설명\"), ... , (\"keyword\", \"설명\")]\n",
    "    \n",
    "* **wantPeople_dic**: 기업별 인재상 사전\\\n",
    "    형태: {key:기업이름, value: 인재상 정보}"
   ]
  },
  {
   "cell_type": "code",
   "execution_count": 18,
   "id": "7d7afe2c-bd81-4dad-9e28-e055bbda9013",
   "metadata": {
    "tags": []
   },
   "outputs": [],
   "source": [
    "(len(wantPeopleList) - 200) // 4\n",
    "x = np.array([0, 100, 100, 231, 231, 231, 231])\n",
    "cumX = x.cumsum()\n",
    "allocList = [wantPeopleList[cumX[i]:cumX[i+1]] for i in range(len(cumX)-1)]"
   ]
  },
  {
   "cell_type": "markdown",
   "id": "35af55da-2980-42d4-9d5c-3af2905112a5",
   "metadata": {},
   "source": [
    "* 성민 : allocList[0]\n",
    "* 주영 : allocList[1]\n",
    "* 혁준 : allocList[2]\n",
    "* 민영 : allocList[3]\n",
    "* 가연 : allocList[4]\n",
    "* 세진 : allocList[5]"
   ]
  },
  {
   "cell_type": "markdown",
   "id": "3cab9ead-09ef-4467-ae54-8c5f4fa27f8b",
   "metadata": {
    "tags": []
   },
   "source": [
    "## 수작업 진행"
   ]
  },
  {
   "cell_type": "markdown",
   "id": "85ee7d8a-51c7-4876-9f39-8719f685e19a",
   "metadata": {},
   "source": [
    "**진행 절차**\n",
    "1. 키워드와 설명에 맞는 최종 키워드를 입력한다.\n",
    "    * 오타 발생시 바로 아래 cell에 적어두기(마크다운이라 다른셀 실행 중이어도 수정 가능)\n",
    "2. 오타난 부분 수정하기\n",
    "3. 최종 저장"
   ]
  },
  {
   "cell_type": "code",
   "execution_count": 4,
   "id": "17294c21-c1d1-4125-817c-c3dde84c83eb",
   "metadata": {
    "scrolled": true,
    "tags": []
   },
   "outputs": [
    {
     "name": "stdout",
     "output_type": "stream",
     "text": [
      "0번째: ('저비용', '경쟁에서 이기는 최상의 수단이며, 최적의 투자로 최고의 효율성을 달성하는 것이다')\n"
     ]
    },
    {
     "name": "stdin",
     "output_type": "stream",
     "text": [
      "키워드 입력 :  효율\n"
     ]
    },
    {
     "name": "stdout",
     "output_type": "stream",
     "text": [
      "1번째: ('도전', '개인과 회사가 발전하는 원동력이며, 더 큰 목표를 위해 과감하게 시도하는 것이다')\n"
     ]
    },
    {
     "name": "stdin",
     "output_type": "stream",
     "text": [
      "키워드 입력 :  도전, 진취\n"
     ]
    },
    {
     "name": "stdout",
     "output_type": "stream",
     "text": [
      "2번째: ('팀워크', '사랑하고 존경하는 하나의 팀이 되는 것이며, 더 큰 성공을 위해 협력하는 것이다')\n"
     ]
    },
    {
     "name": "stdin",
     "output_type": "stream",
     "text": [
      "키워드 입력 :  팀워크\n"
     ]
    },
    {
     "name": "stdout",
     "output_type": "stream",
     "text": [
      "3번째: ('실패를두려워 하지 않는젊은이', '실패에 두려워하지 않고, 성공을 위해 도전하는 패기와 투지를 가진 인재')\n"
     ]
    },
    {
     "name": "stdin",
     "output_type": "stream",
     "text": [
      "키워드 입력 :  도전\n"
     ]
    },
    {
     "name": "stdout",
     "output_type": "stream",
     "text": [
      "4번째: ('실력을 키우기 위해끊임없이 노력하는젊은이', '젊음의 무모함이 아닌 진정한 실력으로 성공을 쟁취하기 위해 지식과 능력을 단련시키는 인재')\n"
     ]
    },
    {
     "name": "stdin",
     "output_type": "stream",
     "text": [
      "키워드 입력 :  끈기, 학습, 성장\n"
     ]
    },
    {
     "name": "stdout",
     "output_type": "stream",
     "text": [
      "5번째: ('협력과 상생을 아는젊은이', '협력과 양보를 기본으로 사회를 따뜻하게 만들 수 있는 인재')\n"
     ]
    },
    {
     "name": "stdin",
     "output_type": "stream",
     "text": [
      "키워드 입력 :  팀워크, 상생\n"
     ]
    },
    {
     "name": "stdout",
     "output_type": "stream",
     "text": [
      "6번째: ('Passion', '책임감을 갖고 목표를 반드시 이뤄내겠다는 치열한 마음가짐')\n"
     ]
    },
    {
     "name": "stdin",
     "output_type": "stream",
     "text": [
      "키워드 입력 :  열정, 책임감\n"
     ]
    },
    {
     "name": "stdout",
     "output_type": "stream",
     "text": [
      "7번째: ('Challenge', '자신감을 갖고 끊임없이 새로운 것을 탐구하는 자세')\n"
     ]
    },
    {
     "name": "stdin",
     "output_type": "stream",
     "text": [
      "키워드 입력 :  도전, 자신감\n"
     ]
    },
    {
     "name": "stdout",
     "output_type": "stream",
     "text": [
      "8번째: ('Innovation', '관행 및 관습을 뛰어넘어 새롭게 변화를 주도하는 태도')\n"
     ]
    },
    {
     "name": "stdin",
     "output_type": "stream",
     "text": [
      "키워드 입력 :  혁신, 변화\n"
     ]
    },
    {
     "name": "stdout",
     "output_type": "stream",
     "text": [
      "9번째: ('No.1', '큰 꿈과 자부심을 갖고 최고를 추구하는 미래지향적 사고방식')\n"
     ]
    },
    {
     "name": "stdin",
     "output_type": "stream",
     "text": [
      "키워드 입력 :  자부심, 미래\n"
     ]
    },
    {
     "name": "stdout",
     "output_type": "stream",
     "text": [
      "10번째: ('성실', '公과 私를 명확히 구분하고,회사와 일에 스스로 몰입하는 성실한 人材')\n"
     ]
    },
    {
     "name": "stdin",
     "output_type": "stream",
     "text": [
      "키워드 입력 :  성실\n"
     ]
    },
    {
     "name": "stdout",
     "output_type": "stream",
     "text": [
      "11번째: ('유연', '열린 마음으로 소통하고 변화를 긍정적으로 받아들이는 유연한 人材')\n"
     ]
    },
    {
     "name": "stdin",
     "output_type": "stream",
     "text": [
      "키워드 입력 :  유연성, 소통, 개방\n"
     ]
    },
    {
     "name": "stdout",
     "output_type": "stream",
     "text": [
      "12번째: ('성장', '현재에 머무르지 않고,배우는 것을 즐기며 스스로 성장하는 人材')\n"
     ]
    },
    {
     "name": "stdin",
     "output_type": "stream",
     "text": [
      "키워드 입력 :  성장, 자기계발\n"
     ]
    },
    {
     "name": "stdout",
     "output_type": "stream",
     "text": [
      "13번째: ('정직', '우리는 기본에 충실하며 올바르게 행동한다')\n"
     ]
    },
    {
     "name": "stdin",
     "output_type": "stream",
     "text": [
      "키워드 입력 :  정직, 기본기\n"
     ]
    },
    {
     "name": "stdout",
     "output_type": "stream",
     "text": [
      "14번째: ('혁신', '우리는 변화를 추구하며 열정적으로 도전한다')\n"
     ]
    },
    {
     "name": "stdin",
     "output_type": "stream",
     "text": [
      "키워드 입력 :  혁신, 변화, 열정\n"
     ]
    },
    {
     "name": "stdout",
     "output_type": "stream",
     "text": [
      "15번째: ('협업', '우리는 다양성을 존중하며 유기적으로 협력한다')\n"
     ]
    },
    {
     "name": "stdin",
     "output_type": "stream",
     "text": [
      "키워드 입력 :  팀워크\n"
     ]
    },
    {
     "name": "stdout",
     "output_type": "stream",
     "text": [
      "16번째: ('삼립의가치', '삼립의 가치(고객,도전,창의,정직,상생)에 부합되는 인재')\n"
     ]
    },
    {
     "name": "stdin",
     "output_type": "stream",
     "text": [
      "키워드 입력 :  고객, 도전, 창의성, 정직, 상생\n"
     ]
    },
    {
     "name": "stdout",
     "output_type": "stream",
     "text": [
      "17번째: ('전문가', '가시적 성과를 창출하는 열정적인 전문가')\n"
     ]
    },
    {
     "name": "stdin",
     "output_type": "stream",
     "text": [
      "키워드 입력 :  전문성\n"
     ]
    },
    {
     "name": "stdout",
     "output_type": "stream",
     "text": [
      "18번째: ('열정', '주인의식과 프로정신을 바탕으로 조직성과 창출에 몰입하는 인재')\n"
     ]
    },
    {
     "name": "stdin",
     "output_type": "stream",
     "text": [
      "키워드 입력 :  열정\n"
     ]
    },
    {
     "name": "stdout",
     "output_type": "stream",
     "text": [
      "19번째: ('도전', '명확하게 문제를 인식하고 창의적 발상과 극한의 도전으로 목표를 달성하는 인재')\n"
     ]
    },
    {
     "name": "stdin",
     "output_type": "stream",
     "text": [
      "키워드 입력 :  도전, 창의성, 진취\n"
     ]
    },
    {
     "name": "stdout",
     "output_type": "stream",
     "text": [
      "20번째: ('소통', '건설적 논쟁과 경쟁을 통해 시너지를 창출하는 인재')\n"
     ]
    },
    {
     "name": "stdin",
     "output_type": "stream",
     "text": [
      "키워드 입력 :  소통\n"
     ]
    },
    {
     "name": "stdout",
     "output_type": "stream",
     "text": [
      "21번째: ('실패를 두려워하지 않는 도전적인 젊은이', '실패를 두려워하지 않고, 성공을 위해 도전하는 패기와 투지를 가진 젊은이를 초대합니다. 창조적 실패는 젊음의 특권입니다. 실패가 두려워 도전하지 않는 안정적 성향보다는 실패에서도 성공의 가능성을 찾을 수 있는 능동적이고 적극적인 도전정신을 보다 가치있게 여기고 있습니다.')\n"
     ]
    },
    {
     "name": "stdin",
     "output_type": "stream",
     "text": [
      "키워드 입력 :  도전\n"
     ]
    },
    {
     "name": "stdout",
     "output_type": "stream",
     "text": [
      "22번째: ('실력을 키우기 위해 끊임없이 노력하는 젊은이', '젊음의 무모함이 아닌 진정한 실력으로 성공을 쟁취하기 위해 지식과 능력을 단련시키는 젊은이를 초대합니다. 끊임없이 노력하고 준비하는 사람에게 이길 수 있는 이는 없습니다. 롯데카드는 언제나 자신의 발전과 조직의 발전을 위해 끊임없이 노력하는 젊은이를 기다립니다.')\n"
     ]
    },
    {
     "name": "stdin",
     "output_type": "stream",
     "text": [
      "키워드 입력 :  끈기, 자기계발, 상생\n"
     ]
    },
    {
     "name": "stdout",
     "output_type": "stream",
     "text": [
      "23번째: ('협력과 상생을 아는 젊은이', '진정한 실력자는 협력하고 양보할 줄 아는 미덕을 가져야 합니다. 함께 사는 사람들과 사회에 대한 감사한 마음이 모여 이 사회를 따뜻하게 만들 수 있다고 생각합니다. 각자의 능력과 실력을 키우는 일도 개인과 기업이 해야 할 일이지만 사회적 존재로서 자신의 역할을 이해하는 젊은이를 롯데는 기다립니다. 젊고 원대한 여러분의 꿈을 롯데에 투자하십시오. 끊임없이 전진하고 성장하는 롯데가 당신의 아름다운 미래를 만들어가겠습니다.')\n"
     ]
    },
    {
     "name": "stdin",
     "output_type": "stream",
     "text": [
      "키워드 입력 :  팀워크, 상생\n"
     ]
    },
    {
     "name": "stdout",
     "output_type": "stream",
     "text": [
      "24번째: ('Customer', '기업의 존재 이유이며 모든 생각의 출발점')\n"
     ]
    },
    {
     "name": "stdin",
     "output_type": "stream",
     "text": [
      "키워드 입력 :  고객\n"
     ]
    },
    {
     "name": "stdout",
     "output_type": "stream",
     "text": [
      "25번째: ('Fashion', '새롭고 세련된 사고와 태도')\n"
     ]
    },
    {
     "name": "stdin",
     "output_type": "stream",
     "text": [
      "키워드 입력 :  열정\n"
     ]
    },
    {
     "name": "stdout",
     "output_type": "stream",
     "text": [
      "26번째: ('Pride', '고객의 pride와 임직원의 pride')\n"
     ]
    },
    {
     "name": "stdin",
     "output_type": "stream",
     "text": [
      "키워드 입력 :  자부심\n"
     ]
    },
    {
     "name": "stdout",
     "output_type": "stream",
     "text": [
      "27번째: ('Customer', '고객을 존중하고 고객행복을 위해 헌신하는 인재')\n"
     ]
    },
    {
     "name": "stdin",
     "output_type": "stream",
     "text": [
      "키워드 입력 :  고객, 헌신\n"
     ]
    },
    {
     "name": "stdout",
     "output_type": "stream",
     "text": [
      "28번째: ('Fashion', '앞선 감각으로 창의적인 변화를 주도하는 인재')\n"
     ]
    },
    {
     "name": "stdin",
     "output_type": "stream",
     "text": [
      "키워드 입력 :  열정, 창의성, 변화\n"
     ]
    },
    {
     "name": "stdout",
     "output_type": "stream",
     "text": [
      "29번째: ('Pride', '자신의 일에 긍지를 느끼고 열정적으로 일하는 인재')\n"
     ]
    },
    {
     "name": "stdin",
     "output_type": "stream",
     "text": [
      "키워드 입력 :  자부심, 열정\n"
     ]
    },
    {
     "name": "stdout",
     "output_type": "stream",
     "text": [
      "30번째: ('Respect', '사랑을 존중하고 지역과 고객을 위해 봉사할 줄 아는 인간미 넘치는 인재')\n"
     ]
    },
    {
     "name": "stdin",
     "output_type": "stream",
     "text": [
      "키워드 입력 :  존중, 고객, 인간미\n"
     ]
    },
    {
     "name": "stdout",
     "output_type": "stream",
     "text": [
      "31번째: ('Passion', '창의적으로 생각하고 주체적으로 행동하며 도전하는 인재')\n"
     ]
    },
    {
     "name": "stdin",
     "output_type": "stream",
     "text": [
      "키워드 입력 :  열정, 창의성, 자기주도, 도전\n"
     ]
    },
    {
     "name": "stdout",
     "output_type": "stream",
     "text": [
      "32번째: ('Integrity', '책임감이 강하고 신뢰감을 주는 정직한 인재')\n"
     ]
    },
    {
     "name": "stdin",
     "output_type": "stream",
     "text": [
      "키워드 입력 :  \n"
     ]
    },
    {
     "name": "stdout",
     "output_type": "stream",
     "text": [
      "33번째: ('CHANCE', 'Seize Emerging Opportunities잠재적인 기회를 찾아내기 위해 관심을 보이고, 새로운 기회를 포착하면 신속히 결단하여 경쟁력 확보에 힘쓴다.Faster Than Market Change빠르게 변화하는 시장에 대한 정보를 신속히 파악 하여 시의 적절히 대응한다.')\n"
     ]
    },
    {
     "name": "stdin",
     "output_type": "stream",
     "text": [
      "키워드 입력 :  도전, 문제해결, 변화\n"
     ]
    },
    {
     "name": "stdout",
     "output_type": "stream",
     "text": [
      "34번째: ('CHALLENGE', 'Innovative Solution도전과 실패를 두려워하지 않으며, 문제 처리에 있어 관행적인 방식보다는 새로운 방식을 선호 하고 능동적으로 행동한다.Entrepreneurial Thinking지속가능한 가치를 추구하고, 고객의 니즈 충족과 회사 이익에 부합되는 대안을 효과적으로 제시한다.')\n"
     ]
    },
    {
     "name": "stdin",
     "output_type": "stream",
     "text": [
      "키워드 입력 :  도전, 혁신, 고객\n"
     ]
    },
    {
     "name": "stdout",
     "output_type": "stream",
     "text": [
      "35번째: ('CHANGE', 'Global Outlook국제동향에 주의를 기울이며, 외부시장 변화에 주도적으로 대처한다.Flexible Open Mind다양한 문화와 사고방식에 대해 이해하고 공감 하는 자세를 가진다.')\n"
     ]
    },
    {
     "name": "stdin",
     "output_type": "stream",
     "text": [
      "키워드 입력 :  변화, 글로벌, 자기주도, 다양성\n"
     ]
    },
    {
     "name": "stdout",
     "output_type": "stream",
     "text": [
      "36번째: ('열정몰입', '일에 대한 열정과 조직에 대한 일체감 및 자부심을 갖고 미래에 도전하는 인재를 말합니다. 업무열정, 공동체의식, 올바른 가치관을 지니며, 업무에 대한 책임감과 프로의식을 가지고 끊임없이 도전하고 성장하는 사람입니다.')\n"
     ]
    },
    {
     "name": "stdin",
     "output_type": "stream",
     "text": [
      "키워드 입력 :  열정, 자부심, 도전, 책임감, 성장\n"
     ]
    },
    {
     "name": "stdout",
     "output_type": "stream",
     "text": [
      "37번째: ('학습창의', '자기 주도적으로 학습하고 창의적 감성과 상상력을 발휘하여 변화를 선도하는 인재를 말합니다. 폭넓은 경험과 학습을 통해 전문성을 키우고, 다양하고 독창적인 발상, 영감, 상상력을 발휘해 더 나은 세상을 선도하는 사람입니다.')\n"
     ]
    },
    {
     "name": "stdin",
     "output_type": "stream",
     "text": [
      "키워드 입력 :  자기주도, 학습, 창의성, 변화, 전문성\n"
     ]
    },
    {
     "name": "stdout",
     "output_type": "stream",
     "text": [
      "38번째: ('소통협업', '세대, 계층, 지역간 벽을 넘어 공감적 소통과 개방적 협업으로 새로운 가치를 창출하는 인재를 말합니다. 열린 생각과 마음으로 다양성을 수용하여 세계와 소통하고 동료, 이웃, 사회와 협력하여 신뢰를 쌓음으로써 인류에 공헌하는 새로운 가치를 만들어 내는 사람입니다.')\n"
     ]
    },
    {
     "name": "stdin",
     "output_type": "stream",
     "text": [
      "키워드 입력 :  소통, 팀워크, 개방, 다양성, 신뢰\n"
     ]
    },
    {
     "name": "stdout",
     "output_type": "stream",
     "text": [
      "39번째: ('도전(Challenge)하는 사람', '기존의 틀에 안주하지 않고 변화와 혁신을 통해 최고를 추구한다.')\n"
     ]
    },
    {
     "name": "stdin",
     "output_type": "stream",
     "text": [
      "키워드 입력 :  도전, 변화, 혁신\n"
     ]
    },
    {
     "name": "stdout",
     "output_type": "stream",
     "text": [
      "40번째: ('헌신(Dedication)하는 사람', '회사, 고객, 동료와의 인연을 소중히 여기며 보다 큰 목표를 위해 혼신의 힘을 다한다.')\n"
     ]
    },
    {
     "name": "stdin",
     "output_type": "stream",
     "text": [
      "키워드 입력 :  헌신, 고객, 진취\n"
     ]
    },
    {
     "name": "stdout",
     "output_type": "stream",
     "text": [
      "41번째: ('정도(Integrity)를 지키는 사람', '자긍심을 바탕으로 원칙에 따라 바르고 공정하게 행동한다.')\n"
     ]
    },
    {
     "name": "stdin",
     "output_type": "stream",
     "text": [
      "키워드 입력 :  자부심, 정직\n"
     ]
    },
    {
     "name": "stdout",
     "output_type": "stream",
     "text": [
      "42번째: ('CreativeChallenger', '혁신적 사고와 열정으로새로운 가치창출에 도전하는 인재')\n"
     ]
    },
    {
     "name": "stdin",
     "output_type": "stream",
     "text": [
      "키워드 입력 :  혁신, 열정, 도전\n"
     ]
    },
    {
     "name": "stdout",
     "output_type": "stream",
     "text": [
      "43번째: ('PerformanceLeader', '강한 자부심과 책임감으로자기업무에 주도적인 인재')\n"
     ]
    },
    {
     "name": "stdin",
     "output_type": "stream",
     "text": [
      "키워드 입력 :  자부심, 책임감, 자기주도\n"
     ]
    },
    {
     "name": "stdout",
     "output_type": "stream",
     "text": [
      "44번째: ('GlobalCommunicator', '상호 존중과 배려로세계와 소통하는 인재')\n"
     ]
    },
    {
     "name": "stdin",
     "output_type": "stream",
     "text": [
      "키워드 입력 :  글로벌, 존중, 소통\n"
     ]
    },
    {
     "name": "stdout",
     "output_type": "stream",
     "text": [
      "45번째: ('안전', '')\n"
     ]
    },
    {
     "name": "stdin",
     "output_type": "stream",
     "text": [
      "키워드 입력 :  안전\n"
     ]
    },
    {
     "name": "stdout",
     "output_type": "stream",
     "text": [
      "46번째: ('상생', '')\n"
     ]
    },
    {
     "name": "stdin",
     "output_type": "stream",
     "text": [
      "키워드 입력 :  상생\n"
     ]
    },
    {
     "name": "stdout",
     "output_type": "stream",
     "text": [
      "47번째: ('신뢰', '')\n"
     ]
    },
    {
     "name": "stdin",
     "output_type": "stream",
     "text": [
      "키워드 입력 :  신뢰\n"
     ]
    },
    {
     "name": "stdout",
     "output_type": "stream",
     "text": [
      "48번째: ('혁신', '')\n"
     ]
    },
    {
     "name": "stdin",
     "output_type": "stream",
     "text": [
      "키워드 입력 :  력신\n"
     ]
    },
    {
     "name": "stdout",
     "output_type": "stream",
     "text": [
      "49번째: ('최고지향', '각 분야의 최고 전문가로서 일에 대한 진정한 사랑과 끊임없는 자기계발 노력으로 자신의 일에 최고가 된다.')\n"
     ]
    },
    {
     "name": "stdin",
     "output_type": "stream",
     "text": [
      "키워드 입력 :  전문성, 자기계발, 끈기\n"
     ]
    },
    {
     "name": "stdout",
     "output_type": "stream",
     "text": [
      "50번째: ('팀워크 중시', '각자의 영역을 책임지며 서로를 보안하는 주인공인 됨과 동시에 상호 존중과 협력을 통해 목표를 달성한다.')\n"
     ]
    },
    {
     "name": "stdin",
     "output_type": "stream",
     "text": [
      "키워드 입력 :  팀워크, 책임감, 존중, 진취\n"
     ]
    },
    {
     "name": "stdout",
     "output_type": "stream",
     "text": [
      "51번째: ('주인의식', '지역 발전이라는 회사 창립이념을 이해하고 자부심과 애착을 가지고 고객과 사회에 봉사한다.')\n"
     ]
    },
    {
     "name": "stdin",
     "output_type": "stream",
     "text": [
      "키워드 입력 :  자부심, 고객\n"
     ]
    },
    {
     "name": "stdout",
     "output_type": "stream",
     "text": [
      "52번째: ('Enable Innovation', 'for Customers')\n"
     ]
    },
    {
     "name": "stdin",
     "output_type": "stream",
     "text": [
      "키워드 입력 :  혁신, 고객\n"
     ]
    },
    {
     "name": "stdout",
     "output_type": "stream",
     "text": [
      "53번째: ('Unleash Potentil', 'for Employess')\n"
     ]
    },
    {
     "name": "stdin",
     "output_type": "stream",
     "text": [
      "키워드 입력 :  창의성\n"
     ]
    },
    {
     "name": "stdout",
     "output_type": "stream",
     "text": [
      "54번째: ('Create Synergy', 'for Partners')\n"
     ]
    },
    {
     "name": "stdin",
     "output_type": "stream",
     "text": [
      "키워드 입력 :  팀워크\n"
     ]
    },
    {
     "name": "stdout",
     "output_type": "stream",
     "text": [
      "55번째: ('열정', '끊임없는 열정으로 미래에 도전하는 인재')\n"
     ]
    },
    {
     "name": "stdin",
     "output_type": "stream",
     "text": [
      "키워드 입력 :  열정, 도전\n"
     ]
    },
    {
     "name": "stdout",
     "output_type": "stream",
     "text": [
      "56번째: ('창의혁신', '창의와 혁신으로 세상을 변화시키는 인재')\n"
     ]
    },
    {
     "name": "stdin",
     "output_type": "stream",
     "text": [
      "키워드 입력 :  창의성, 혁신, 변화\n"
     ]
    },
    {
     "name": "stdout",
     "output_type": "stream",
     "text": [
      "57번째: ('인간미/도덕성', '정직과 바른 행동으로 역할과 책임을 다하는 인재')\n"
     ]
    },
    {
     "name": "stdin",
     "output_type": "stream",
     "text": [
      "키워드 입력 :  인간미, 정직\n"
     ]
    },
    {
     "name": "stdout",
     "output_type": "stream",
     "text": [
      "58번째: ('창의적', '새로움을 찾아내고 다른 이에게 즐거움을 전달해줄 줄 아는 인재')\n"
     ]
    },
    {
     "name": "stdin",
     "output_type": "stream",
     "text": [
      "키워드 입력 :  창의성\n"
     ]
    },
    {
     "name": "stdout",
     "output_type": "stream",
     "text": [
      "59번째: ('도전', '실패를 두려워하지 않고 넘어설 줄 아는 용기를 가진 인재')\n"
     ]
    },
    {
     "name": "stdin",
     "output_type": "stream",
     "text": [
      "키워드 입력 :  도전\n"
     ]
    },
    {
     "name": "stdout",
     "output_type": "stream",
     "text": [
      "60번째: ('다양한 문화', '다양한 문화를 경험하고 그것을 내 것으로 만들 수 있는 인재')\n"
     ]
    },
    {
     "name": "stdin",
     "output_type": "stream",
     "text": [
      "키워드 입력 :  다양성\n"
     ]
    },
    {
     "name": "stdout",
     "output_type": "stream",
     "text": [
      "61번째: ('열정', '스스로 일을 찾아서 할 줄 아는 능력')\n"
     ]
    },
    {
     "name": "stdin",
     "output_type": "stream",
     "text": [
      "키워드 입력 :  열정, 자기주도\n"
     ]
    },
    {
     "name": "stdout",
     "output_type": "stream",
     "text": [
      "62번째: ('똑똑함', '문제를 예방하고, 발견하며, 해결하는 능력')\n"
     ]
    },
    {
     "name": "stdin",
     "output_type": "stream",
     "text": [
      "키워드 입력 :  문제해결\n"
     ]
    },
    {
     "name": "stdout",
     "output_type": "stream",
     "text": [
      "63번째: ('팀워크', '함께 일하고 싶은 사람이 되는 것')\n"
     ]
    },
    {
     "name": "stdin",
     "output_type": "stream",
     "text": [
      "키워드 입력 :  팀워크\n"
     ]
    },
    {
     "name": "stdout",
     "output_type": "stream",
     "text": [
      "64번째: ('서비스지향형', 'Service-oriented Mind최고의 서비스로 고객을 감동시킬 수 있는 서비스 마인드를 갖춘 인재')\n"
     ]
    },
    {
     "name": "stdin",
     "output_type": "stream",
     "text": [
      "키워드 입력 :  고객\n"
     ]
    },
    {
     "name": "stdout",
     "output_type": "stream",
     "text": [
      "65번째: ('변화지향형', 'Change-oriented Mind끊임없는 자기 혁신을 통하여 개인 및 조직의 부가가치를 창출할 수 있는 인재')\n"
     ]
    },
    {
     "name": "stdin",
     "output_type": "stream",
     "text": [
      "키워드 입력 :  변화, 혁신, 진취\n"
     ]
    },
    {
     "name": "stdout",
     "output_type": "stream",
     "text": [
      "66번째: ('미래지향형', 'Future-oriented Mind현실에 안주하기 보다는 미래를 준비, 도약할 수 있는 진취적 기상을 가진 인재')\n"
     ]
    },
    {
     "name": "stdin",
     "output_type": "stream",
     "text": [
      "키워드 입력 :  미래, 진취\n"
     ]
    },
    {
     "name": "stdout",
     "output_type": "stream",
     "text": [
      "67번째: ('비전공유', '회사와 개인의 발전을 함께 추구하는 사람')\n"
     ]
    },
    {
     "name": "stdin",
     "output_type": "stream",
     "text": [
      "키워드 입력 :  상생, 진취\n"
     ]
    },
    {
     "name": "stdout",
     "output_type": "stream",
     "text": [
      "68번째: ('가치창조와 도전정신', '새로운 가치창조를 위해 끊임없이 도전하는 사람')\n"
     ]
    },
    {
     "name": "stdin",
     "output_type": "stream",
     "text": [
      "키워드 입력 :  도전, 끈기\n"
     ]
    },
    {
     "name": "stdout",
     "output_type": "stream",
     "text": [
      "69번째: ('기본원칙', '기본에 충실하고 원칙을 준수하는 사람')\n"
     ]
    },
    {
     "name": "stdin",
     "output_type": "stream",
     "text": [
      "키워드 입력 :  정직\n"
     ]
    },
    {
     "name": "stdout",
     "output_type": "stream",
     "text": [
      "70번째: ('고객 중심', '')\n"
     ]
    },
    {
     "name": "stdin",
     "output_type": "stream",
     "text": [
      "키워드 입력 :  고객\n"
     ]
    },
    {
     "name": "stdout",
     "output_type": "stream",
     "text": [
      "71번째: ('개선/혁신', '')\n"
     ]
    },
    {
     "name": "stdin",
     "output_type": "stream",
     "text": [
      "키워드 입력 :  혁신\n"
     ]
    },
    {
     "name": "stdout",
     "output_type": "stream",
     "text": [
      "72번째: ('소통/존중', '')\n"
     ]
    },
    {
     "name": "stdin",
     "output_type": "stream",
     "text": [
      "키워드 입력 :  소통, 존중\n"
     ]
    },
    {
     "name": "stdout",
     "output_type": "stream",
     "text": [
      "73번째: ('배려/협력', '')\n"
     ]
    },
    {
     "name": "stdin",
     "output_type": "stream",
     "text": [
      "키워드 입력 :  배려, 팀워크\n"
     ]
    },
    {
     "name": "stdout",
     "output_type": "stream",
     "text": [
      "74번째: ('상생', '')\n"
     ]
    },
    {
     "name": "stdin",
     "output_type": "stream",
     "text": [
      "키워드 입력 :  상생\n"
     ]
    },
    {
     "name": "stdout",
     "output_type": "stream",
     "text": [
      "75번째: ('도전', '실패를 두려워하지 않는 인재')\n"
     ]
    },
    {
     "name": "stdin",
     "output_type": "stream",
     "text": [
      "키워드 입력 :  도전\n"
     ]
    },
    {
     "name": "stdout",
     "output_type": "stream",
     "text": [
      "76번째: ('노력', '실력을 키우기 위해 끊임없이 노력하는 인재')\n"
     ]
    },
    {
     "name": "stdin",
     "output_type": "stream",
     "text": [
      "키워드 입력 :  끈기, 자기계발\n"
     ]
    },
    {
     "name": "stdout",
     "output_type": "stream",
     "text": [
      "77번째: ('협력', '협력과 상생을 아는 인재')\n"
     ]
    },
    {
     "name": "stdin",
     "output_type": "stream",
     "text": [
      "키워드 입력 :  팀워크, 상생\n"
     ]
    },
    {
     "name": "stdout",
     "output_type": "stream",
     "text": [
      "78번째: ('전문성', '전문성을 향한 열정')\n"
     ]
    },
    {
     "name": "stdin",
     "output_type": "stream",
     "text": [
      "키워드 입력 :  전문성\n"
     ]
    },
    {
     "name": "stdout",
     "output_type": "stream",
     "text": [
      "79번째: ('고객', '고객의 성공에 집중')\n"
     ]
    },
    {
     "name": "stdin",
     "output_type": "stream",
     "text": [
      "키워드 입력 :  고객\n"
     ]
    },
    {
     "name": "stdout",
     "output_type": "stream",
     "text": [
      "80번째: ('주인의식', '주인의식을 가지고 행동')\n"
     ]
    },
    {
     "name": "stdin",
     "output_type": "stream",
     "text": [
      "키워드 입력 :  상생, 책임감\n"
     ]
    },
    {
     "name": "stdout",
     "output_type": "stream",
     "text": [
      "81번째: ('변화', '변화를 향한 혁신적 사고')\n"
     ]
    },
    {
     "name": "stdin",
     "output_type": "stream",
     "text": [
      "키워드 입력 :  변화, 혁신\n"
     ]
    },
    {
     "name": "stdout",
     "output_type": "stream",
     "text": [
      "82번째: ('최고를 지향하는 사람', '끊임없는 학습과 실천을 통해 자신의 분야에서 최고의 전문성을 추구하는, 최고를 지향하는 사람입니다.')\n"
     ]
    },
    {
     "name": "stdin",
     "output_type": "stream",
     "text": [
      "키워드 입력 :  진취, 학습, 실행\n"
     ]
    },
    {
     "name": "stdout",
     "output_type": "stream",
     "text": [
      "83번째: ('혁신을 실천하는 사람', '실패를 두려워하지않고, 긍정적인 마인드로 변화를 선도하는 혁신을 실천하는 사람입니다.')\n"
     ]
    },
    {
     "name": "stdin",
     "output_type": "stream",
     "text": [
      "키워드 입력 :  혁신, 긍정, 변화\n"
     ]
    },
    {
     "name": "stdout",
     "output_type": "stream",
     "text": [
      "84번째: ('책임을 다하는 사람', \"주인의식과 열정을 가지고 악착같이 해내는, 책임을 다하는 사람입니다.'\")\n"
     ]
    },
    {
     "name": "stdin",
     "output_type": "stream",
     "text": [
      "키워드 입력 :  책임감, 열정\n"
     ]
    },
    {
     "name": "stdout",
     "output_type": "stream",
     "text": [
      "85번째: ('신뢰를 쌓아가는 사람', '사실과 원칙에 입각하여 투명하고 공정하게 일하는 신뢰를 쌓아가는 사람입니다.')\n"
     ]
    },
    {
     "name": "stdin",
     "output_type": "stream",
     "text": [
      "키워드 입력 :  신뢰, 정직, 공정\n"
     ]
    },
    {
     "name": "stdout",
     "output_type": "stream",
     "text": [
      "86번째: ('합리적이고 올바른가치관을 가진 사람', '이성에 의해 객관적인 판단을 하고, 모든 사람들이 수긍할 수 있는 의사 결정을 내리는 사람을 말합니다.')\n"
     ]
    },
    {
     "name": "stdin",
     "output_type": "stream",
     "text": [
      "키워드 입력 :  문제해결\n"
     ]
    },
    {
     "name": "stdout",
     "output_type": "stream",
     "text": [
      "87번째: ('창의적이고 진취적인 사람', '의미 있는 것들을 독창적인 방법이나 기술로 의해 능동적으로 새로운 형태의 사물을 만들거나 가치를 창출하고, 이를 실현하기 위해 노력하는 사람을 일컫습니다')\n"
     ]
    },
    {
     "name": "stdin",
     "output_type": "stream",
     "text": [
      "키워드 입력 :  창의성, 진취, 끈기\n"
     ]
    },
    {
     "name": "stdout",
     "output_type": "stream",
     "text": [
      "88번째: ('적응력과 융화력을갖춘 사람', '어떤 업무가 주어지더라도 부족함이 없이 맡은 바 업무를 훌륭하게 수행해낼 수 있는 사람, 원만한 인간관계를 유지 할 수 있는 사람을 의미합니다.')\n"
     ]
    },
    {
     "name": "stdin",
     "output_type": "stream",
     "text": [
      "키워드 입력 :  유연성, 책임감\n"
     ]
    },
    {
     "name": "stdout",
     "output_type": "stream",
     "text": [
      "89번째: ('창조인', '창의적으로 사고하고 능동적으로 행동하는 사람유연한 사고를 바탕으로 혁신을 선도하는 사람끊임없는 도전으로 미래를 개척하는 사람')\n"
     ]
    },
    {
     "name": "stdin",
     "output_type": "stream",
     "text": [
      "키워드 입력 :  창의성, 유연성, 혁신, 미래\n"
     ]
    },
    {
     "name": "stdout",
     "output_type": "stream",
     "text": [
      "90번째: ('전문인', '적극적인 자기개발을 통해 최고를 추구하는 사람국제사회에서 통용될 수 있는 경쟁력을 갖춘 사람자기분야의 전문성을 갖추기 위해 꾸준히 노력하는 사람호기심과 도전의식을 가지고 끊임없이 학습하는 사람')\n"
     ]
    },
    {
     "name": "stdin",
     "output_type": "stream",
     "text": [
      "키워드 입력 :  전문성, 자기개발, 끈기, 도전, 학습\n"
     ]
    },
    {
     "name": "stdout",
     "output_type": "stream",
     "text": [
      "91번째: ('화합인', '건전한 가치관과 도덕을 가지고 인류, 국가, 사회, 고객의 발전을 위해 봉사할 수 있는 사람집단 및 개인 이기주의를 버리고 진정한 동료애를 발휘할 줄 아는 사람')\n"
     ]
    },
    {
     "name": "stdin",
     "output_type": "stream",
     "text": [
      "키워드 입력 :  윤리성, 고객, 사회적 가치, 팀워크\n"
     ]
    },
    {
     "name": "stdout",
     "output_type": "stream",
     "text": [
      "92번째: ('전문성', '새롭고 더 나은 방식을 모색하여 지속적으로 개선시키고,분야 최고 전문가가 되기 위한 자기개발 활동을지속적으로 수행한다.')\n"
     ]
    },
    {
     "name": "stdin",
     "output_type": "stream",
     "text": [
      "키워드 입력 :  전문성, 자기개발\n"
     ]
    },
    {
     "name": "stdout",
     "output_type": "stream",
     "text": [
      "93번째: ('도전', '항상 자신감과 책임감을 갖고열정적으로 업무를 추진하고,요청이나 지시를 뛰어 넘어스스로 업무를 찾아 수행한다.')\n"
     ]
    },
    {
     "name": "stdin",
     "output_type": "stream",
     "text": [
      "키워드 입력 :  도전, 자신감, 책임감, 자기주도\n"
     ]
    },
    {
     "name": "stdout",
     "output_type": "stream",
     "text": [
      "94번째: ('소통', '상호존중과 배려의 자세로구성원의 다양한 의견을 적극 청취하고,적극적인 커뮤니케이션을 통해내·외부 이해관계자를 설득한다.')\n"
     ]
    },
    {
     "name": "stdin",
     "output_type": "stream",
     "text": [
      "키워드 입력 :  소통, 존중, 배려\n"
     ]
    },
    {
     "name": "stdout",
     "output_type": "stream",
     "text": [
      "95번째: ('PASSION', '최고의 역량과 전문성을 갖추고자 끊임없이 도전하는 인재')\n"
     ]
    },
    {
     "name": "stdin",
     "output_type": "stream",
     "text": [
      "키워드 입력 :  열정, 전문성, 도전, 끈기\n"
     ]
    },
    {
     "name": "stdout",
     "output_type": "stream",
     "text": [
      "96번째: ('CREATIVITY', '유연한 사고와 긍정적인 마인드로 변화를 선도하는 인재')\n"
     ]
    },
    {
     "name": "stdin",
     "output_type": "stream",
     "text": [
      "키워드 입력 :  창의성, 유연성, 긍정, 변화\n"
     ]
    },
    {
     "name": "stdout",
     "output_type": "stream",
     "text": [
      "97번째: ('COMMUNICATE', '열린 마음으로 다양성을 인정하고 소통·화합하는 인재')\n"
     ]
    },
    {
     "name": "stdin",
     "output_type": "stream",
     "text": [
      "키워드 입력 :  개방, 다양성, 소통\n"
     ]
    },
    {
     "name": "stdout",
     "output_type": "stream",
     "text": [
      "98번째: ('높은 도덕성 잣대 적용', '인기에 구애받지 않고 옳은 일을 위해 당당히 맞선다. 말과 행동을 통해 높은 윤리적 기준과 강직성을 흔들림 없이 실천한다. 주주, 고객, 회사의 최선을 위해 행동한다. 개인적 책임을 완수하고 타인에게도 같은 책임완수를 기대한다.')\n"
     ]
    },
    {
     "name": "stdin",
     "output_type": "stream",
     "text": [
      "키워드 입력 :  윤리성, 고객, 책임감\n"
     ]
    },
    {
     "name": "stdout",
     "output_type": "stream",
     "text": [
      "99번째: ('명확한 비전·전략', '회사를 위한 지속 가능하고 장기적인 가치를 창출한다. 확실한 미래의 비전을 개발하고 해당 비전의 명확한 이해와 실천이 가능하도록 커뮤니케이션 한다. 모든 직원들이 조직의 목표와 조직의 중/단기적 성공에 기여하는 법을 이해할 수 있도록 한다.')\n"
     ]
    },
    {
     "name": "stdin",
     "output_type": "stream",
     "text": [
      "키워드 입력 :  진취, 상생, 미래\n"
     ]
    },
    {
     "name": "stdout",
     "output_type": "stream",
     "text": [
      "100번째: ('인재 중심의 마인드', '인재를 전략적 차별화의 열쇠로 대하고, 조직의 다양한 인재 풀(Talent Pool)관리를 위해 주인의식을 기반으로 인재의 유치, 개발, 정착 및 관리를 위해 노력한다. 직원들의 커리어 성공을 위해 개인적인 노력을 아끼지 않는다. 비즈니스 전략을 통해 인재 활용이 가능토록 한다. 인재를 회사의 공유 재산으로 여긴다. 더 나은 리더가 되기 위해 끊임없이 노력한다.')\n"
     ]
    },
    {
     "name": "stdin",
     "output_type": "stream",
     "text": [
      "키워드 입력 :  책임감, 상생, 끈기\n"
     ]
    },
    {
     "name": "stdout",
     "output_type": "stream",
     "text": [
      "101번째: ('외부환경 주시', '고객, 경쟁사, 시장에 영향을 줄 수 있는 트렌드를 이해한다. 고객의 니즈와 감성을 이해하기 위해 개인적이고 감성적인 측면의 노력을 기울인다. 기회포착을 위해 환경에 대한 포괄적인 시각을 견지한다.')\n"
     ]
    },
    {
     "name": "stdin",
     "output_type": "stream",
     "text": [
      "키워드 입력 :  고객, 끈기\n"
     ]
    },
    {
     "name": "stdout",
     "output_type": "stream",
     "text": [
      "102번째: ('새로운 도전 감행', '뛰어난 업무지식과 분석력에 더해 상상력을 발휘하여 새롭고 가치 있는 아이디어와 사업에 필요한 해결책을 제시한다. 신중하게 리스크를 평가하고 관리한다. 현명한 판단을 기반으로 적절한 결정을 내리고 계획을 실천한다.')\n"
     ]
    },
    {
     "name": "stdin",
     "output_type": "stream",
     "text": [
      "키워드 입력 :  도전, 창의성, 실행\n"
     ]
    },
    {
     "name": "stdout",
     "output_type": "stream",
     "text": [
      "103번째: ('Pride', '일과 회사에 자부심을 갖고')\n"
     ]
    },
    {
     "name": "stdin",
     "output_type": "stream",
     "text": [
      "키워드 입력 :  자부심\n"
     ]
    },
    {
     "name": "stdout",
     "output_type": "stream",
     "text": [
      "104번째: ('Technology', '기술에 대한 이해')\n"
     ]
    },
    {
     "name": "stdin",
     "output_type": "stream",
     "text": [
      "키워드 입력 :  전문성\n"
     ]
    },
    {
     "name": "stdout",
     "output_type": "stream",
     "text": [
      "105번째: ('Global', '글로벌 역량으로')\n"
     ]
    },
    {
     "name": "stdin",
     "output_type": "stream",
     "text": [
      "키워드 입력 :  글로벌\n"
     ]
    },
    {
     "name": "stdout",
     "output_type": "stream",
     "text": [
      "106번째: ('Dream', '스마트 에너지의 미래를 꿈꾸며')\n"
     ]
    },
    {
     "name": "stdin",
     "output_type": "stream",
     "text": [
      "키워드 입력 :  미래\n"
     ]
    },
    {
     "name": "stdout",
     "output_type": "stream",
     "text": [
      "107번째: ('Partnership', '함께 더 큰 성과를 내는IMAGINEER(Imagine+Engineer)')\n"
     ]
    },
    {
     "name": "stdin",
     "output_type": "stream",
     "text": [
      "키워드 입력 :  팀워크, 진취, 상생\n"
     ]
    },
    {
     "name": "stdout",
     "output_type": "stream",
     "text": [
      "108번째: ('도전정신', '스스로 높은 수준의 목표를 설정하고 달성해내는 능력 있는 보령인')\n"
     ]
    },
    {
     "name": "stdin",
     "output_type": "stream",
     "text": [
      "키워드 입력 :  도전, 진취\n"
     ]
    },
    {
     "name": "stdout",
     "output_type": "stream",
     "text": [
      "109번째: ('변화주도', '변화의 흐름을 사전에 예측하고 그 해결책을 찾아 제시하고 시행하는 보령인')\n"
     ]
    },
    {
     "name": "stdin",
     "output_type": "stream",
     "text": [
      "키워드 입력 :  변화, 문제해결\n"
     ]
    },
    {
     "name": "stdout",
     "output_type": "stream",
     "text": [
      "110번째: ('조화정신', '배려와 양보를 통해 고객과 상생하고, 상호 신뢰를 형성할 수 있는 보령인')\n"
     ]
    },
    {
     "name": "stdin",
     "output_type": "stream",
     "text": [
      "키워드 입력 :  배려, 고객, 상생, 신뢰\n"
     ]
    },
    {
     "name": "stdout",
     "output_type": "stream",
     "text": [
      "111번째: ('열정', '지속적인 자기 계발을 통해 직무역량을 배양하고 자신의 직무에서 최고 전문가가 될 수 있는 능력을 지닌 보령인')\n"
     ]
    },
    {
     "name": "stdin",
     "output_type": "stream",
     "text": [
      "키워드 입력 :  열정, 자기개발, 전문성\n"
     ]
    },
    {
     "name": "stdout",
     "output_type": "stream",
     "text": [
      "112번째: ('창의정신', '업무에 활용할 수 있는 독창적인 아이디어를 지속적으로 만들어내는 보령인')\n"
     ]
    },
    {
     "name": "stdin",
     "output_type": "stream",
     "text": [
      "키워드 입력 :  창의성\n"
     ]
    },
    {
     "name": "stdout",
     "output_type": "stream",
     "text": [
      "113번째: ('고객중심', '고객성공/가치향상을 위해 최선을 다하고 신뢰관계를 구축한다.')\n"
     ]
    },
    {
     "name": "stdin",
     "output_type": "stream",
     "text": [
      "키워드 입력 :  고객, 신뢰\n"
     ]
    },
    {
     "name": "stdout",
     "output_type": "stream",
     "text": [
      "114번째: ('사회적 가치 증대', '우리를 둘러싼 이해관계자와의 동반성장과 사회적 책임을 다하기 위해 노력한다.')\n"
     ]
    },
    {
     "name": "stdin",
     "output_type": "stream",
     "text": [
      "키워드 입력 :  사회적 가치\n"
     ]
    },
    {
     "name": "stdout",
     "output_type": "stream",
     "text": [
      "115번째: ('전문성 강화', 'ONLYONE 제품/서비스를 위해 최고의 기술과 역량을 확보한다.')\n"
     ]
    },
    {
     "name": "stdin",
     "output_type": "stream",
     "text": [
      "키워드 입력 :  전문성\n"
     ]
    },
    {
     "name": "stdout",
     "output_type": "stream",
     "text": [
      "116번째: ('혁신', '지속적인 혁신, 끊임없는 도전과 다양성 추구로 새로운 가치를 창출한다.')\n"
     ]
    },
    {
     "name": "stdin",
     "output_type": "stream",
     "text": [
      "키워드 입력 :  혁신, 도전, 다양성\n"
     ]
    },
    {
     "name": "stdout",
     "output_type": "stream",
     "text": [
      "117번째: ('고객중심', '고객을 위해 최선을 다하는 에어부산인')\n"
     ]
    },
    {
     "name": "stdin",
     "output_type": "stream",
     "text": [
      "키워드 입력 :  고객\n"
     ]
    },
    {
     "name": "stdout",
     "output_type": "stream",
     "text": [
      "118번째: ('열정', '열과 성의를 다하는 에어부산인')\n"
     ]
    },
    {
     "name": "stdin",
     "output_type": "stream",
     "text": [
      "키워드 입력 :  열정\n"
     ]
    },
    {
     "name": "stdout",
     "output_type": "stream",
     "text": [
      "119번째: ('협동', '배려하며 솔선수범하는 에어부산인')\n"
     ]
    },
    {
     "name": "stdin",
     "output_type": "stream",
     "text": [
      "키워드 입력 :  팀워크, 배려\n"
     ]
    },
    {
     "name": "stdout",
     "output_type": "stream",
     "text": [
      "120번째: ('도전과 창의', '끊임없이 연구하고 도전하는 에어부산인')\n"
     ]
    },
    {
     "name": "stdin",
     "output_type": "stream",
     "text": [
      "키워드 입력 :  도전, 창의성\n"
     ]
    },
    {
     "name": "stdout",
     "output_type": "stream",
     "text": [
      "121번째: ('사랑을 품은 열저인', '삼천리인은 현실에 안주하지 않고 끊임없이 더 높은 목표를 향해 스스로 도전하며 실패를 두려워하지 않는 열정인이 되어야 한다.')\n"
     ]
    },
    {
     "name": "stdin",
     "output_type": "stream",
     "text": [
      "키워드 입력 :  도전, 열정\n"
     ]
    },
    {
     "name": "stdout",
     "output_type": "stream",
     "text": [
      "122번째: ('사랑을 품은 열정인', '삼천리인은 사람에 대한 사랑, 기업에 대한 사랑, 이해관계자들에 대한 사랑을 품고 있어야 한다.')\n"
     ]
    },
    {
     "name": "stdin",
     "output_type": "stream",
     "text": [
      "키워드 입력 :  상생, 존중\n"
     ]
    },
    {
     "name": "stdout",
     "output_type": "stream",
     "text": [
      "123번째: ('사랑을 품은 열저인', '삼천리인은 회사의 미션을 이해하고 비전을 실천해야 한다.')\n"
     ]
    },
    {
     "name": "stdin",
     "output_type": "stream",
     "text": [
      "키워드 입력 :  실행\n"
     ]
    },
    {
     "name": "stdout",
     "output_type": "stream",
     "text": [
      "124번째: ('FAITH', '함께 일하고 원칙을 준수하며 신뢰를 쌓는 사람')\n"
     ]
    },
    {
     "name": "stdin",
     "output_type": "stream",
     "text": [
      "키워드 입력 :  정직, 신뢰\n"
     ]
    },
    {
     "name": "stdout",
     "output_type": "stream",
     "text": [
      "125번째: ('CHANGE', '늘 새롭게 변화하고 성장하는 사람')\n"
     ]
    },
    {
     "name": "stdin",
     "output_type": "stream",
     "text": [
      "키워드 입력 :  도전, 변화, 성장\n"
     ]
    },
    {
     "name": "stdout",
     "output_type": "stream",
     "text": [
      "126번째: ('EXECUTION', '현장에서 답을 찾고 앞장서 실천하는 사람')\n"
     ]
    },
    {
     "name": "stdin",
     "output_type": "stream",
     "text": [
      "키워드 입력 :  문제해결\n"
     ]
    },
    {
     "name": "stdout",
     "output_type": "stream",
     "text": [
      "127번째: ('Ethic', '정직하고 성실한 사람')\n"
     ]
    },
    {
     "name": "stdin",
     "output_type": "stream",
     "text": [
      "키워드 입력 :  정직, 성실\n"
     ]
    },
    {
     "name": "stdout",
     "output_type": "stream",
     "text": [
      "128번째: ('Execution', '도전적이며 적극적인 사람')\n"
     ]
    },
    {
     "name": "stdin",
     "output_type": "stream",
     "text": [
      "키워드 입력 :  도전, 열정\n"
     ]
    },
    {
     "name": "stdout",
     "output_type": "stream",
     "text": [
      "129번째: ('Customer Focus', '고객지향적인 사람')\n"
     ]
    },
    {
     "name": "stdin",
     "output_type": "stream",
     "text": [
      "키워드 입력 :  고객\n"
     ]
    },
    {
     "name": "stdout",
     "output_type": "stream",
     "text": [
      "130번째: ('Engagement', '참여와 협조의 조직인')\n"
     ]
    },
    {
     "name": "stdin",
     "output_type": "stream",
     "text": [
      "키워드 입력 :  열정\n"
     ]
    },
    {
     "name": "stdout",
     "output_type": "stream",
     "text": [
      "131번째: ('Leading-edge expertise', '국제적 수준의 전문가')\n"
     ]
    },
    {
     "name": "stdin",
     "output_type": "stream",
     "text": [
      "키워드 입력 :  글로벌, 전문성\n"
     ]
    },
    {
     "name": "stdout",
     "output_type": "stream",
     "text": [
      "132번째: ('스피드', '높은 품질을 유지하면서 빠른 속도로 고객에게 서비스를 제공합니다. ')\n"
     ]
    },
    {
     "name": "stdin",
     "output_type": "stream",
     "text": [
      "키워드 입력 :  고객\n"
     ]
    },
    {
     "name": "stdout",
     "output_type": "stream",
     "text": [
      "133번째: ('Right First Time', '처음부터 정확하게 고객 중심으로 생각함으로써 고객을 위한 지속적인 개선을 추구합니다. ')\n"
     ]
    },
    {
     "name": "stdin",
     "output_type": "stream",
     "text": [
      "키워드 입력 :  고객\n"
     ]
    },
    {
     "name": "stdout",
     "output_type": "stream",
     "text": [
      "134번째: ('Can Do', '할 수 있다는 정신으로 고객의 요구를 충족할 수 있는 해결책을 찾아냅니다. ')\n"
     ]
    },
    {
     "name": "stdin",
     "output_type": "stream",
     "text": [
      "키워드 입력 :  문제해결\n"
     ]
    },
    {
     "name": "stdout",
     "output_type": "stream",
     "text": [
      "135번째: ('열정', '직원 개개인의 역할과 책임에 따라 높은 수준의 몰입을 하며 열정을 가지고 일합니다.')\n"
     ]
    },
    {
     "name": "stdin",
     "output_type": "stream",
     "text": [
      "키워드 입력 :  열정, 책임감\n"
     ]
    },
    {
     "name": "stdout",
     "output_type": "stream",
     "text": [
      "136번째: ('끊임없이 도전하는인재', '· 모든 일에 최고가 되고자 최선을 다하는 마음· 강한 신념으로 최고의 목표에 도전하는 마음· 용기와 미래지향적인 자세· 새로운 가치를 만들어내는 개척정신· 패기')\n"
     ]
    },
    {
     "name": "stdin",
     "output_type": "stream",
     "text": [
      "키워드 입력 :  도전, 진취, 미래, 혁신\n"
     ]
    },
    {
     "name": "stdout",
     "output_type": "stream",
     "text": [
      "137번째: ('글로벌 인재', '· 자기분야에서의 최고의 전문성· 외국어와 국제감각· 탄력성, 유연성· 매너와 에티켓')\n"
     ]
    },
    {
     "name": "stdin",
     "output_type": "stream",
     "text": [
      "키워드 입력 :  글로벌, 전문성, 유연성\n"
     ]
    },
    {
     "name": "stdout",
     "output_type": "stream",
     "text": [
      "138번째: ('책임을 다하는 인재', '· 도덕성과 시민의식· 인간존중, 양보하는 마음· 고객에게 감동을 주려는 마음가짐· 인간미와 윤리성· 정직과 공정· 공동체 의식· 사회적 약자에 대한 배려')\n"
     ]
    },
    {
     "name": "stdin",
     "output_type": "stream",
     "text": [
      "키워드 입력 :  책임감, 윤리성, 존중, 인간미, 정직, 공정\n"
     ]
    },
    {
     "name": "stdout",
     "output_type": "stream",
     "text": [
      "139번째: ('창의적 사고인', '고정관념에서 벗어나 독창적 발상을 통해 새로운 미래가치를 창조할 수 있는 사람')\n"
     ]
    },
    {
     "name": "stdin",
     "output_type": "stream",
     "text": [
      "키워드 입력 :  창의성, 미래\n"
     ]
    },
    {
     "name": "stdout",
     "output_type": "stream",
     "text": [
      "140번째: ('진취적 실천인', '실패를 두려워 하지 않고 장기목표를 실천할 수 있는 적극적 자세와 강인한 추진력을 가진 사람')\n"
     ]
    },
    {
     "name": "stdin",
     "output_type": "stream",
     "text": [
      "키워드 입력 :  진취, 실행, 도전\n"
     ]
    },
    {
     "name": "stdout",
     "output_type": "stream",
     "text": [
      "141번째: ('열린 소통인', '다양한 사고와 가치를 존중하고 배려함으로써 고객과 동료에게 열린 마음으로 소통할 수 있는 사람')\n"
     ]
    },
    {
     "name": "stdin",
     "output_type": "stream",
     "text": [
      "키워드 입력 :  소통, 개방, 다양성, 존중, 배려\n"
     ]
    },
    {
     "name": "stdout",
     "output_type": "stream",
     "text": [
      "142번째: ('최고 전문인', '자기분야의 전문성을 기반으로 프로의식을 발휘하여 고객과 동료에게 최고의 가치를 제공할 수 있는 사람')\n"
     ]
    },
    {
     "name": "stdin",
     "output_type": "stream",
     "text": [
      "키워드 입력 :  전문성\n"
     ]
    },
    {
     "name": "stdout",
     "output_type": "stream",
     "text": [
      "143번째: ('교양과 상식', '상급자를 존중하고 동료를 배려하는 기본적인 인성과 교양, 상식을 갖춘 사람')\n"
     ]
    },
    {
     "name": "stdin",
     "output_type": "stream",
     "text": [
      "키워드 입력 :  존중, 윤리성\n"
     ]
    },
    {
     "name": "stdout",
     "output_type": "stream",
     "text": [
      "144번째: ('성실성', '맡은 직무와 분야에 대해서는 시작부터 끝까지 일관된 자세로 책임지는 성실한 사람')\n"
     ]
    },
    {
     "name": "stdin",
     "output_type": "stream",
     "text": [
      "키워드 입력 :  성실, 책임감\n"
     ]
    },
    {
     "name": "stdout",
     "output_type": "stream",
     "text": [
      "145번째: ('보통사람', '교양과 상식적인 사고를 가진 보통사람들과 함께 하기를 추구합니다. ')\n"
     ]
    },
    {
     "name": "stdin",
     "output_type": "stream",
     "text": [
      "키워드 입력 :  인간미, 윤리성\n"
     ]
    },
    {
     "name": "stdout",
     "output_type": "stream",
     "text": [
      "146번째: ('감사나눔 소통인', '변화와 다양성을 수용 할 수 있는 열린 마음을 가진 인재')\n"
     ]
    },
    {
     "name": "stdin",
     "output_type": "stream",
     "text": [
      "키워드 입력 :  소통, 변화, 다양성, 개방\n"
     ]
    },
    {
     "name": "stdout",
     "output_type": "stream",
     "text": [
      "147번째: ('신뢰존중 책임인', '상호 신뢰하고 존중하는 가운데서 역할과 책임을 다하는 인재')\n"
     ]
    },
    {
     "name": "stdin",
     "output_type": "stream",
     "text": [
      "키워드 입력 :  신뢰, 존중, 책임감\n"
     ]
    },
    {
     "name": "stdout",
     "output_type": "stream",
     "text": [
      "148번째: ('최고지향 전문인', '창의적 사고를 통한 전문역량을 갖춘 미래지향적 인재')\n"
     ]
    },
    {
     "name": "stdin",
     "output_type": "stream",
     "text": [
      "키워드 입력 :  전문성, 창의성, 미래\n"
     ]
    },
    {
     "name": "stdout",
     "output_type": "stream",
     "text": [
      "149번째: ('고객사랑 실천인', '고객감동 우정금융서비스를 실천하는 인재')\n"
     ]
    },
    {
     "name": "stdin",
     "output_type": "stream",
     "text": [
      "키워드 입력 :  고객\n"
     ]
    },
    {
     "name": "stdout",
     "output_type": "stream",
     "text": [
      "150번째: ('책임있는 모두인', '직원으로서 자신의 역할과 책임을 충분히 인식하고 최선을 다해 업무를 수행하며 책임 회피와 전가를 하지 않고 끝까지 목표를 완수하는 여행전문가의 자질을 함양합니다')\n"
     ]
    },
    {
     "name": "stdin",
     "output_type": "stream",
     "text": [
      "키워드 입력 :  책임감, 진취\n"
     ]
    },
    {
     "name": "stdout",
     "output_type": "stream",
     "text": [
      "151번째: ('친화적인 모두인', '상호존중을 바탕으로 동료 및 고객과의 협력기반을 형성하고 협조 및 정보공유를 통하여 조직의 업무를 원활히 수행합니다.')\n"
     ]
    },
    {
     "name": "stdin",
     "output_type": "stream",
     "text": [
      "키워드 입력 :  존중, 소통\n"
     ]
    },
    {
     "name": "stdout",
     "output_type": "stream",
     "text": [
      "152번째: ('회사를 사랑하는 모두인', '회사의 소속감에 대한 자부심과 충성도가 높아 업무에 몰입하며 주인의식을 갖고 행동합니다')\n"
     ]
    },
    {
     "name": "stdin",
     "output_type": "stream",
     "text": [
      "키워드 입력 :  상생, 책임감, 자부심\n"
     ]
    },
    {
     "name": "stdout",
     "output_type": "stream",
     "text": [
      "153번째: ('유연한 사고의 모두인', '과거의 생각과 방식을 고수하지 않고 새로운 의견과 접근방법에 대한 개방적인 태도를 견지하고 도전과 변화에 유연하게 대처합니다.')\n"
     ]
    },
    {
     "name": "stdin",
     "output_type": "stream",
     "text": [
      "키워드 입력 :  유연성, 개방\n"
     ]
    },
    {
     "name": "stdout",
     "output_type": "stream",
     "text": [
      "154번째: ('프로금융인', '최고수준의 전문지식과 업무능력')\n"
     ]
    },
    {
     "name": "stdin",
     "output_type": "stream",
     "text": [
      "키워드 입력 :  전문성\n"
     ]
    },
    {
     "name": "stdout",
     "output_type": "stream",
     "text": [
      "155번째: ('가치창조인', '성과지향적 사고와 능동적 행동')\n"
     ]
    },
    {
     "name": "stdin",
     "output_type": "stream",
     "text": [
      "키워드 입력 :  진취\n"
     ]
    },
    {
     "name": "stdout",
     "output_type": "stream",
     "text": [
      "156번째: ('도전혁신인', '주인의식을 가지괴 미래개척')\n"
     ]
    },
    {
     "name": "stdin",
     "output_type": "stream",
     "text": [
      "키워드 입력 :  도전, 책임감, 미래\n"
     ]
    },
    {
     "name": "stdout",
     "output_type": "stream",
     "text": [
      "157번째: ('혁신인', '변화를 회피하지 않고 적극적으로 혁신을 추구하는 도전정신이 강한 사람')\n"
     ]
    },
    {
     "name": "stdin",
     "output_type": "stream",
     "text": [
      "키워드 입력 :  혁신, 도전, 변화\n"
     ]
    },
    {
     "name": "stdout",
     "output_type": "stream",
     "text": [
      "158번째: ('전문인', '각자 맡은 분야에서 새로운 지식과 정보를 끊임없이 습득하고 발전시켜 해당분야 전문가로 인정받을 수 있는 사람')\n"
     ]
    },
    {
     "name": "stdin",
     "output_type": "stream",
     "text": [
      "키워드 입력 :  전문성, 학습, 자기개발\n"
     ]
    },
    {
     "name": "stdout",
     "output_type": "stream",
     "text": [
      "159번째: ('협력인', '인간미와 도덕성을 갖추고 더불어 사는 사회의 건전한 구성원으로서 역할과 책임을 성실히 수행하는 사람')\n"
     ]
    },
    {
     "name": "stdin",
     "output_type": "stream",
     "text": [
      "키워드 입력 :  팀워크, 인간미, 윤리성, 책임감, 성실\n"
     ]
    },
    {
     "name": "stdout",
     "output_type": "stream",
     "text": [
      "160번째: ('세계인', '국제적인 소양과 외국어 능력을 겸비하고 서로 다른 인종과 문화를 적극 수용하는 사람')\n"
     ]
    },
    {
     "name": "stdin",
     "output_type": "stream",
     "text": [
      "키워드 입력 :  글로벌, 존중, 다양성\n"
     ]
    },
    {
     "name": "stdout",
     "output_type": "stream",
     "text": [
      "161번째: ('공감', '아름다워지고자 하는 고객의 마음을 함께 절실히 느끼며 성장하고자 하는 동료의 마음을 지지하며 더 나은 사람이 되고자 하는 스스로의 의지를 굳건히 합니다.')\n"
     ]
    },
    {
     "name": "stdin",
     "output_type": "stream",
     "text": [
      "키워드 입력 :  공감, 성장\n"
     ]
    },
    {
     "name": "stdout",
     "output_type": "stream",
     "text": [
      "162번째: ('몰입', '공감이 있기에 자신의 일을 사랑하게 되며 또한 깊게 집중하게 되므로 일 자체로 기쁨을 느낍니다.')\n"
     ]
    },
    {
     "name": "stdin",
     "output_type": "stream",
     "text": [
      "키워드 입력 :  열정, 끈기\n"
     ]
    },
    {
     "name": "stdout",
     "output_type": "stream",
     "text": [
      "163번째: ('전문성', '고객의 바람과 요구를 구체적으로 이해하고 이를 충족시키기 위한 방법들을 찾고 만들어가는데 최고가 됩니다.')\n"
     ]
    },
    {
     "name": "stdin",
     "output_type": "stream",
     "text": [
      "키워드 입력 :  전문성\n"
     ]
    },
    {
     "name": "stdout",
     "output_type": "stream",
     "text": [
      "164번째: ('창의', '어느 날 불현듯 찾아오는 순간의 영감이 아닙니다. 이미 아는 것에 새로운 것을 더하고 생각과 질문을 반복하여 깊어지는 가운데 창의의 기운은 솟아 오르게 됩니다.')\n"
     ]
    },
    {
     "name": "stdin",
     "output_type": "stream",
     "text": [
      "키워드 입력 :  창의성\n"
     ]
    },
    {
     "name": "stdout",
     "output_type": "stream",
     "text": [
      "165번째: ('Challenge', '기존의 틀에 안주하지 않고 변화와 혁신을 통해 최고를 추구한다.')\n"
     ]
    },
    {
     "name": "stdin",
     "output_type": "stream",
     "text": [
      "키워드 입력 :  도전, 변화, 혁신\n"
     ]
    },
    {
     "name": "stdout",
     "output_type": "stream",
     "text": [
      "166번째: ('Dedication', '회사, 고객, 동료와의 인연을 소중히 여기며 보다 큰 목표를 위해 혼신의 힘을 다한다.')\n"
     ]
    },
    {
     "name": "stdin",
     "output_type": "stream",
     "text": [
      "키워드 입력 :  헌신, 진취\n"
     ]
    },
    {
     "name": "stdout",
     "output_type": "stream",
     "text": [
      "167번째: ('Integrity', '자긍심을 바탕으로 원칙에 따라 바르고 공정하게 행동한다.')\n"
     ]
    },
    {
     "name": "stdin",
     "output_type": "stream",
     "text": [
      "키워드 입력 :  자부심, 공정, 정직\n"
     ]
    },
    {
     "name": "stdout",
     "output_type": "stream",
     "text": [
      "168번째: ('세계인', 'Glocal Perspective')\n"
     ]
    },
    {
     "name": "stdin",
     "output_type": "stream",
     "text": [
      "키워드 입력 :  글로벌\n"
     ]
    },
    {
     "name": "stdout",
     "output_type": "stream",
     "text": [
      "169번째: ('책임인', 'Responsible Attitude')\n"
     ]
    },
    {
     "name": "stdin",
     "output_type": "stream",
     "text": [
      "키워드 입력 :  책임감\n"
     ]
    },
    {
     "name": "stdout",
     "output_type": "stream",
     "text": [
      "170번째: ('창조인', 'Top Performance')\n"
     ]
    },
    {
     "name": "stdin",
     "output_type": "stream",
     "text": [
      "키워드 입력 :  창의성\n"
     ]
    },
    {
     "name": "stdout",
     "output_type": "stream",
     "text": [
      "171번째: ('도전인', 'Achieving Challenge')\n"
     ]
    },
    {
     "name": "stdin",
     "output_type": "stream",
     "text": [
      "키워드 입력 :  도전\n"
     ]
    },
    {
     "name": "stdout",
     "output_type": "stream",
     "text": [
      "172번째: ('세계인', '가진 인재를 말합니다.(글로벌 역량,개방성)')\n"
     ]
    },
    {
     "name": "stdin",
     "output_type": "stream",
     "text": [
      "키워드 입력 :  글로벌, 개방\n"
     ]
    },
    {
     "name": "stdout",
     "output_type": "stream",
     "text": [
      "173번째: ('창조인', '창조인은 최고 수준의 목표를 달성하기 위해 불굴의 의지와 열정으로 끊임없이 도전하고,독특한 시각과 접근으로 새로운 가치를 창출하는 인재를 말합니다.')\n"
     ]
    },
    {
     "name": "stdin",
     "output_type": "stream",
     "text": [
      "키워드 입력 :  창의성, 진취, 열정, 도전\n"
     ]
    },
    {
     "name": "stdout",
     "output_type": "stream",
     "text": [
      "174번째: ('실행인', '실행인은 자기 분야에 대한 전문적인 기술 및 식견과 건전한 직업의식을 가지고 맡겨진 임무를 끝까지 완수하는 인재를 말합니다. (전문역량,직업의식)')\n"
     ]
    },
    {
     "name": "stdin",
     "output_type": "stream",
     "text": [
      "키워드 입력 :  실행, 전문성, 책임감\n"
     ]
    },
    {
     "name": "stdout",
     "output_type": "stream",
     "text": [
      "175번째: ('Courteous to all guest', '모든 고객을 공손히 모실 줄 아는 친화적인 Chosunier.')\n"
     ]
    },
    {
     "name": "stdin",
     "output_type": "stream",
     "text": [
      "키워드 입력 :  고객\n"
     ]
    },
    {
     "name": "stdout",
     "output_type": "stream",
     "text": [
      "176번째: ('Helpful to all needs', '고객의 니즈에 맞는 도움을 드릴 수 있는 조율적인 Chosunier.')\n"
     ]
    },
    {
     "name": "stdin",
     "output_type": "stream",
     "text": [
      "키워드 입력 :  고객\n"
     ]
    },
    {
     "name": "stdout",
     "output_type": "stream",
     "text": [
      "177번째: ('Opportunities', '단·장기 도약의 기회를 준비하는 전략적인 Chosunier.')\n"
     ]
    },
    {
     "name": "stdin",
     "output_type": "stream",
     "text": [
      "키워드 입력 :  자기개발\n"
     ]
    },
    {
     "name": "stdout",
     "output_type": "stream",
     "text": [
      "178번째: ('Supporting local community', '지역사회와 동반 성장을 이룰 수 있는 협력적인 Chosunier.')\n"
     ]
    },
    {
     "name": "stdin",
     "output_type": "stream",
     "text": [
      "키워드 입력 :  성장\n"
     ]
    },
    {
     "name": "stdout",
     "output_type": "stream",
     "text": [
      "179번째: ('New growth to leader', '초일류 기업으로의 새로운 성장동력을 추구하는 혁신적인 Chosunier.')\n"
     ]
    },
    {
     "name": "stdin",
     "output_type": "stream",
     "text": [
      "키워드 입력 :  리더쉽, 성장\n"
     ]
    },
    {
     "name": "stdout",
     "output_type": "stream",
     "text": [
      "180번째: ('세계 최고', '꿈과 열정을 가지고 세계 최고에 도전하는 사람')\n"
     ]
    },
    {
     "name": "stdin",
     "output_type": "stream",
     "text": [
      "키워드 입력 :  글로벌, 도전, 열정\n"
     ]
    },
    {
     "name": "stdout",
     "output_type": "stream",
     "text": [
      "181번째: ('창의적', '팀웍을 이루며 자율적이고 창의적으로 일하는 사람')\n"
     ]
    },
    {
     "name": "stdin",
     "output_type": "stream",
     "text": [
      "키워드 입력 :  창의성, 팀워크, 자율성\n"
     ]
    },
    {
     "name": "stdout",
     "output_type": "stream",
     "text": [
      "182번째: ('혁신', '고객을 최우선으로 생각하고 끊임없이 혁신하는 사람')\n"
     ]
    },
    {
     "name": "stdin",
     "output_type": "stream",
     "text": [
      "키워드 입력 :  혁신, 고객\n"
     ]
    },
    {
     "name": "stdout",
     "output_type": "stream",
     "text": [
      "183번째: ('정정당당', '꾸준히 실력을 배양하여 정정당당하게 경쟁하는 사람')\n"
     ]
    },
    {
     "name": "stdin",
     "output_type": "stream",
     "text": [
      "키워드 입력 :  공정, 자기개발\n"
     ]
    },
    {
     "name": "stdout",
     "output_type": "stream",
     "text": [
      "184번째: ('도전과 열정', '처음 같은 열정으로 도전하는 사람')\n"
     ]
    },
    {
     "name": "stdin",
     "output_type": "stream",
     "text": [
      "키워드 입력 :  도전, 열정\n"
     ]
    },
    {
     "name": "stdout",
     "output_type": "stream",
     "text": [
      "185번째: ('존중과 배려', '우리는 톡 까놓고 이야기하는 사이다')\n"
     ]
    },
    {
     "name": "stdin",
     "output_type": "stream",
     "text": [
      "키워드 입력 :  존중, 배려\n"
     ]
    },
    {
     "name": "stdout",
     "output_type": "stream",
     "text": [
      "186번째: ('창의, 혁신적 결과', 'Let’s be a good creator')\n"
     ]
    },
    {
     "name": "stdin",
     "output_type": "stream",
     "text": [
      "키워드 입력 :  창의성, 혁신\n"
     ]
    },
    {
     "name": "stdout",
     "output_type": "stream",
     "text": [
      "187번째: ('Hi-Focuser', '생명존중과 개척정신을 계승한 Hi-Focuser는 환자 중심의 사고를 바탕으로 변화, 성장, 도전에 Focus하여 우리의 독보적 가치와 존재의 이유를 높이는 JW그룹의 인재상입니다.')\n"
     ]
    },
    {
     "name": "stdin",
     "output_type": "stream",
     "text": [
      "키워드 입력 :  존중,고객, 변화, 성정, 도전\n"
     ]
    },
    {
     "name": "stdout",
     "output_type": "stream",
     "text": [
      "188번째: ('', '포장하지 말고, 본질가치에 집중')\n"
     ]
    },
    {
     "name": "stdin",
     "output_type": "stream",
     "text": [
      "키워드 입력 :  기본기, 윤리성\n"
     ]
    },
    {
     "name": "stdout",
     "output_type": "stream",
     "text": [
      "189번째: ('', '현장에서 답을 찾고 실행')\n"
     ]
    },
    {
     "name": "stdin",
     "output_type": "stream",
     "text": [
      "키워드 입력 :  문제해결\n"
     ]
    },
    {
     "name": "stdout",
     "output_type": "stream",
     "text": [
      "190번째: ('', '주인의식으로 업무에 임한다')\n"
     ]
    },
    {
     "name": "stdin",
     "output_type": "stream",
     "text": [
      "키워드 입력 :  책임감\n"
     ]
    },
    {
     "name": "stdout",
     "output_type": "stream",
     "text": [
      "191번째: ('', '고객보다 앞서 생각하고 제안한다')\n"
     ]
    },
    {
     "name": "stdin",
     "output_type": "stream",
     "text": [
      "키워드 입력 :  고객\n"
     ]
    },
    {
     "name": "stdout",
     "output_type": "stream",
     "text": [
      "192번째: ('', '기탄없이 비판하고 토론한다')\n"
     ]
    },
    {
     "name": "stdin",
     "output_type": "stream",
     "text": [
      "키워드 입력 :  소통, 개방\n"
     ]
    },
    {
     "name": "stdout",
     "output_type": "stream",
     "text": [
      "193번째: ('바이오 인재상', '회사 비전과 목표를 공유하며, 강한 열정과 책임감으로 해당분야 최고의 전문성과 실행력을 통해 성과창출을 극대화하고, 협업으로 집단지성을 추구하는 T자형 글로벌 인재')\n"
     ]
    },
    {
     "name": "stdin",
     "output_type": "stream",
     "text": [
      "키워드 입력 :  열정, 책임감, 전문성, 진취, 팀워크, 글로벌\n"
     ]
    },
    {
     "name": "stdout",
     "output_type": "stream",
     "text": [
      "194번째: ('', '창의적인 사고와 발상의 전환을 통해 새로운 아이디어를 도출하고 문제를 해결하는 인재')\n"
     ]
    },
    {
     "name": "stdin",
     "output_type": "stream",
     "text": [
      "키워드 입력 :  창의성, 문제해결\n"
     ]
    },
    {
     "name": "stdout",
     "output_type": "stream",
     "text": [
      "195번째: ('', '생명을 중시하며 엄정한 책임의식을 바탕으로 원칙을 준수하는 인재')\n"
     ]
    },
    {
     "name": "stdin",
     "output_type": "stream",
     "text": [
      "키워드 입력 :  정직\n"
     ]
    },
    {
     "name": "stdout",
     "output_type": "stream",
     "text": [
      "196번째: ('', '불굴의 도전정신을 가지고 업무에 임하며, 변화와 실패에 대한 두려움이 없는 인재')\n"
     ]
    },
    {
     "name": "stdin",
     "output_type": "stream",
     "text": [
      "키워드 입력 :  도전, 변화, 도전\n"
     ]
    },
    {
     "name": "stdout",
     "output_type": "stream",
     "text": [
      "197번째: ('', '세계 시장을 무대로 경쟁하고, 셀트리온의 Vision을 실현할 수 있는 열정이 있는 인재')\n"
     ]
    },
    {
     "name": "stdin",
     "output_type": "stream",
     "text": [
      "키워드 입력 :  글로벌, 열정\n"
     ]
    },
    {
     "name": "stdout",
     "output_type": "stream",
     "text": [
      "198번째: ('', '세계 속의 자랑스러운 두산두산 Credo의 아홉 가지 핵심 가치')\n"
     ]
    },
    {
     "name": "stdin",
     "output_type": "stream",
     "text": [
      "키워드 입력 :  글로벌, 고객, 안전, 정직, 혁신, 사회적 가치\n"
     ]
    },
    {
     "name": "stdout",
     "output_type": "stream",
     "text": [
      "199번째: ('', '자랑스러운 두산이란, 임직원을 포함한 모든 이해관계자들이 두산을 통해 자부심과 자랑스러움을 느낀다는 의미입니다.')\n"
     ]
    },
    {
     "name": "stdin",
     "output_type": "stream",
     "text": [
      "키워드 입력 :  자부심\n"
     ]
    },
    {
     "name": "stdout",
     "output_type": "stream",
     "text": [
      "200번째: ('', '우리는 형식보다 내용을 더 중요하게 생각합니다')\n"
     ]
    },
    {
     "name": "stdin",
     "output_type": "stream",
     "text": [
      "키워드 입력 :  \n"
     ]
    },
    {
     "name": "stdout",
     "output_type": "stream",
     "text": [
      "201번째: ('', '우리는 작은 것부터 변화를 시도합니다')\n"
     ]
    },
    {
     "name": "stdin",
     "output_type": "stream",
     "text": [
      "키워드 입력 :  변화\n"
     ]
    },
    {
     "name": "stdout",
     "output_type": "stream",
     "text": [
      "202번째: ('', '우리는 스스로 질문하며 더 나음을 고민합니다')\n"
     ]
    },
    {
     "name": "stdin",
     "output_type": "stream",
     "text": [
      "키워드 입력 :  자기개발, 성장\n"
     ]
    },
    {
     "name": "stdout",
     "output_type": "stream",
     "text": [
      "203번째: ('', '우리는 무엇이든 제대로 하기 위해 노력합니다')\n"
     ]
    },
    {
     "name": "stdin",
     "output_type": "stream",
     "text": [
      "키워드 입력 :  끈기\n"
     ]
    },
    {
     "name": "stdout",
     "output_type": "stream",
     "text": [
      "204번째: ('', '우리는 권위의식 없이 소통하며 서로를 배려합니다')\n"
     ]
    },
    {
     "name": "stdin",
     "output_type": "stream",
     "text": [
      "키워드 입력 :  소통, 개방, 배려\n"
     ]
    },
    {
     "name": "stdout",
     "output_type": "stream",
     "text": [
      "205번째: ('', '우리는 안되는 이유 대신 되는 방법을 함께 찾습니다')\n"
     ]
    },
    {
     "name": "stdin",
     "output_type": "stream",
     "text": [
      "키워드 입력 :  문제해결\n"
     ]
    },
    {
     "name": "stdout",
     "output_type": "stream",
     "text": [
      "206번째: ('', '우리는 가족에게 부끄러운 일은 하지 않습니다')\n"
     ]
    },
    {
     "name": "stdin",
     "output_type": "stream",
     "text": [
      "키워드 입력 :  정직\n"
     ]
    },
    {
     "name": "stdout",
     "output_type": "stream",
     "text": [
      "207번째: ('충직', '충성스럽고 정직하게 자신의 업무를 수행하는 사람')\n"
     ]
    },
    {
     "name": "stdin",
     "output_type": "stream",
     "text": [
      "키워드 입력 :  정직, 상생, 책임감\n"
     ]
    },
    {
     "name": "stdout",
     "output_type": "stream",
     "text": [
      "208번째: ('도전', '실패를 두려워하지 않고 스스로를 극복하여 해내는 사람')\n"
     ]
    },
    {
     "name": "stdin",
     "output_type": "stream",
     "text": [
      "키워드 입력 :  도전\n"
     ]
    },
    {
     "name": "stdout",
     "output_type": "stream",
     "text": [
      "209번째: ('창조', '유연한 사고를 숙고하여 근본부터 뒤집어 볼 수 있는 사람')\n"
     ]
    },
    {
     "name": "stdin",
     "output_type": "stream",
     "text": [
      "키워드 입력 :  창의성, 윤연성\n"
     ]
    },
    {
     "name": "stdout",
     "output_type": "stream",
     "text": [
      "210번째: ('업무 전문가', '맡은 분야의 업무지식과 핵심역량을 갖추어 최고를 지향하는 사람')\n"
     ]
    },
    {
     "name": "stdin",
     "output_type": "stream",
     "text": [
      "키워드 입력 :  전문성\n"
     ]
    },
    {
     "name": "stdout",
     "output_type": "stream",
     "text": [
      "211번째: ('사업 전문가', '시장 통찰력과 올바른 전략으로 사업을 성공적으로 추진하는 사람')\n"
     ]
    },
    {
     "name": "stdin",
     "output_type": "stream",
     "text": [
      "키워드 입력 :  전문성, 실행\n"
     ]
    },
    {
     "name": "stdout",
     "output_type": "stream",
     "text": [
      "212번째: ('Global 전문가', '글로벌 업무 경쟁력을 바탕으로 글로벌 시장을 개척해내는 사람')\n"
     ]
    },
    {
     "name": "stdin",
     "output_type": "stream",
     "text": [
      "키워드 입력 :  글로벌, 전문성\n"
     ]
    },
    {
     "name": "stdout",
     "output_type": "stream",
     "text": [
      "213번째: ('', '기본적인 생활과 업무수행에 있어서 조직의 핵심가치가 제시하는 원칙을 바탕으로 행동하는 이수인')\n"
     ]
    },
    {
     "name": "stdin",
     "output_type": "stream",
     "text": [
      "키워드 입력 :  정직, 기본기, 상생\n"
     ]
    },
    {
     "name": "stdout",
     "output_type": "stream",
     "text": [
      "214번째: ('', '창의적이고 능동적인 이수인')\n"
     ]
    },
    {
     "name": "stdin",
     "output_type": "stream",
     "text": [
      "키워드 입력 :  창의성, 자기주도\n"
     ]
    },
    {
     "name": "stdout",
     "output_type": "stream",
     "text": [
      "215번째: ('', '현재에 안주하지 않고, 늘 새로운 것에 대한 고민으로 창의적 열정이 가득한 이수인')\n"
     ]
    },
    {
     "name": "stdin",
     "output_type": "stream",
     "text": [
      "키워드 입력 :  도전, 열정, 창의성\n"
     ]
    },
    {
     "name": "stdout",
     "output_type": "stream",
     "text": [
      "216번째: ('', '새로운 것을 적극적으로 제안하고 실행할 수 있는 추진력을 보유한 이수인')\n"
     ]
    },
    {
     "name": "stdin",
     "output_type": "stream",
     "text": [
      "키워드 입력 :  실행, 도전\n"
     ]
    },
    {
     "name": "stdout",
     "output_type": "stream",
     "text": [
      "217번째: ('', '언제나 성장하고 변화하는 이수인')\n"
     ]
    },
    {
     "name": "stdin",
     "output_type": "stream",
     "text": [
      "키워드 입력 :  성장, 변화\n"
     ]
    },
    {
     "name": "stdout",
     "output_type": "stream",
     "text": [
      "218번째: ('', '스스로의 성장하고자 하는 노력을 통해 개인과 조직의 발전에 기여하는 이수인')\n"
     ]
    },
    {
     "name": "stdin",
     "output_type": "stream",
     "text": [
      "키워드 입력 :  상생, 자기개발, 성장\n"
     ]
    },
    {
     "name": "stdout",
     "output_type": "stream",
     "text": [
      "219번째: ('', '개인의 혁신과 변화를 통해 조직의 변화를 주도하는 이수인')\n"
     ]
    },
    {
     "name": "stdin",
     "output_type": "stream",
     "text": [
      "키워드 입력 :  혁신, 변화\n"
     ]
    },
    {
     "name": "stdout",
     "output_type": "stream",
     "text": [
      "220번째: ('', '새로운 것을 찾는다')\n"
     ]
    },
    {
     "name": "stdin",
     "output_type": "stream",
     "text": [
      "키워드 입력 :  변화, 혁신\n"
     ]
    },
    {
     "name": "stdout",
     "output_type": "stream",
     "text": [
      "221번째: ('', '자기 일에 으뜸이 된다')\n"
     ]
    },
    {
     "name": "stdin",
     "output_type": "stream",
     "text": [
      "키워드 입력 :  진취\n"
     ]
    },
    {
     "name": "stdout",
     "output_type": "stream",
     "text": [
      "222번째: ('', '팀웍을 이룬다')\n"
     ]
    },
    {
     "name": "stdin",
     "output_type": "stream",
     "text": [
      "키워드 입력 :  팀워크\n"
     ]
    },
    {
     "name": "stdout",
     "output_type": "stream",
     "text": [
      "223번째: ('', '멀리 내려다본다')\n"
     ]
    },
    {
     "name": "stdin",
     "output_type": "stream",
     "text": [
      "키워드 입력 :  미래\n"
     ]
    },
    {
     "name": "stdout",
     "output_type": "stream",
     "text": [
      "224번째: ('', '고객을 잘안다')\n"
     ]
    },
    {
     "name": "stdin",
     "output_type": "stream",
     "text": [
      "키워드 입력 :  고객\n"
     ]
    },
    {
     "name": "stdout",
     "output_type": "stream",
     "text": [
      "225번째: ('', '약속을 지킨다')\n"
     ]
    },
    {
     "name": "stdin",
     "output_type": "stream",
     "text": [
      "키워드 입력 :  정직\n"
     ]
    },
    {
     "name": "stdout",
     "output_type": "stream",
     "text": [
      "226번째: ('', '근검절약을 한다')\n"
     ]
    },
    {
     "name": "stdin",
     "output_type": "stream",
     "text": [
      "키워드 입력 :  자연친화\n"
     ]
    },
    {
     "name": "stdout",
     "output_type": "stream",
     "text": [
      "227번째: ('', '올바른 품성을 가진, 도전적이고 창의적인 최고의 금융전문가')\n"
     ]
    },
    {
     "name": "stdin",
     "output_type": "stream",
     "text": [
      "키워드 입력 :  도전, 창의성, 전문성, 윤리성\n"
     ]
    },
    {
     "name": "stdout",
     "output_type": "stream",
     "text": [
      "228번째: ('OUR VALUES', '도전정신을 가지고 철저한 준비를 통해 기회를 포착하여 더 나은 미래를 위해 끊임없이 변화')\n"
     ]
    },
    {
     "name": "stdin",
     "output_type": "stream",
     "text": [
      "키워드 입력 :  도전, 미래, 변화\n"
     ]
    },
    {
     "name": "stdout",
     "output_type": "stream",
     "text": [
      "229번째: ('Great Company', '고객에게 사랑받는 최고의 회사가 되어')\n"
     ]
    },
    {
     "name": "stdin",
     "output_type": "stream",
     "text": [
      "키워드 입력 :  고객\n"
     ]
    },
    {
     "name": "stdout",
     "output_type": "stream",
     "text": [
      "230번째: ('', '꿈과 열정을 가지고 세계 최고에 도전하는 사람')\n"
     ]
    },
    {
     "name": "stdin",
     "output_type": "stream",
     "text": [
      "키워드 입력 :  열정, 도전\n"
     ]
    }
   ],
   "source": [
    "subList = allocList[5]\n",
    "keywords = []\n",
    "converted_dic = {}\n",
    "\n",
    "for i, v in enumerate(subList):\n",
    "    print(\"{}번째: {}\".format(i, v))\n",
    "    \n",
    "    k = input(\"키워드 입력 : \")\n",
    "    k = k.strip().split(',')\n",
    "    k = [i.strip() for i in k]\n",
    "    \n",
    "    converted_dic[v] = k"
   ]
  },
  {
   "cell_type": "markdown",
   "id": "633a8a97-cf6c-4c29-b3ce-cf9f15731a28",
   "metadata": {},
   "source": [
    "**<최종 키워드>**\n",
    "\n",
    "[기본기], [창의성], [소통], [전문성], [책임감], [성실], [유연성], [긍정], [성장], [리더쉽], [자율성], [공감], [집중], [공정], [친절], [인간미], [안전], [문제해결], [자연친화], [학습], [효율], [사회적 가치], [상생], [신중], [신뢰],[자기주도], [자기개발], [팀워크], [혁신], [도전], [변화], [미래], [고객], [윤리성], [정직], [존중], [배려], [봉사], [헌신], [다양성], [개방], [글로벌], [자부심], [자신감], [열정], [끈기], [실행], [진취]\n",
    "\n",
    "**<키워드 정리>** \\\n",
    "[기본기], [창의성], [소통], [전문성], [책임감], [성실], [유연성], [성장], [리더쉽], [자율성], [공감], [집중], [공정], [친절], [인간미], [안전], [자연친화], [학습], [효율], [신뢰]\\\n",
    "[문제해결] =>  (ex) 극복\\\n",
    "[긍정] => 재치, 위트\\\n",
    "[사회적 가치] => (ex) 공익\\\n",
    "[상생] => (ex)  회사(조직, 사회)과 함께 ~ \\\n",
    "[신중] => (ex)  꼼꼼함, 섬세함, 진중\\\n",
    "[자기주도], [자기개발]\\\n",
    "[팀워크] => (ex)  협업, 협력, 화합\\\n",
    "[혁신], [도전], [변화], [미래],\\\n",
    "[고객-서비스] (ex)  => [고객]\\\n",
    "[도덕성] => [윤리성]\\\n",
    "[정직] =>  (ex)  (솔직함, 원칙 등등)\\\n",
    "[존중], [봉사], [헌신]\\\n",
    "[배려] => (ex) 나눔\\\n",
    "[다양성], [개방], [글로벌]\\\n",
    "[자부심], [자신감]\\\n",
    "[열정], [끈기] =>  (ex) (열정-적극성), (끈기-노력)\\\n",
    "[실행] => (ex)  실행, 실천 \\\n",
    "[진취] =>  (ex) 목표 달성, 가치 향상-달성, 회사 달성, 성과 달성\n",
    "\n",
    "~~**키워드 version 1**\\\n",
    "키워드: 효율, 재치, 글로벌, 학습, 도전, 기본기, 서비스, 자연친화, 팀워크, 창의성, 고객, 소통, 협업, 개방, 전문성, 실행, 열정, 변화, 책임감, 성실, 미래, 혁신, 다양성, 유연성, 긍정, 배려, 봉사, 헌신, 예절, 성장, 신뢰, 정직, 리더쉽, 자기주도, 신중, 성과, 안목, 자율성, 공감, 사회적 가치, 진취, 집중, 공정, 자부심, 도덕성, 추진력, 상도전생, 친절, 인간미, 존중, 안전, 문제 해결, 합리성, 겸손~~\n",
    "\n",
    "**오타를 적었을 경우 여기에 몇번째 인지 적어두세요**\\\n",
    "오타 번호 : [32, 33, 34, 35, 86, 100, 122, 130, 132, 145, 156, 177, 188, 200, 205, 209, 226] (156 혁신추가, 209 유연성)\n",
    "\n",
    "(예시 - [1, 2, 3, 4, 5, 6])\n",
    "\n",
    "~~**생각해 볼것**\n",
    "배려, 예절, 존중\\\n",
    "봉사, 헌신\\\n",
    "리더쉽(아직), 원칙\\\n",
    "친절, 인간미\\\n",
    "자부심 - 자신감 추가?\\\n",
    "진취 - 성과 - 목표달성~~"
   ]
  },
  {
   "cell_type": "markdown",
   "id": "c25359ae-6908-47e4-895f-2ae0895567ed",
   "metadata": {},
   "source": [
    "### 1차 저장"
   ]
  },
  {
   "cell_type": "code",
   "execution_count": 5,
   "id": "4dfd2972-5270-44e8-babe-2e1510afcf28",
   "metadata": {},
   "outputs": [],
   "source": [
    "f = open(\"converted_backup_5_v2.pickle\", \"wb\")\n",
    "pickle.dump(converted_dic, f)\n",
    "f.close()"
   ]
  },
  {
   "cell_type": "markdown",
   "id": "f4b0405c-db16-4ca8-9e68-03685b080a36",
   "metadata": {
    "tags": []
   },
   "source": [
    "## 오타 수정 작업"
   ]
  },
  {
   "cell_type": "code",
   "execution_count": 23,
   "id": "8dec289b-8392-4a5b-aebc-39bfc1eba4ff",
   "metadata": {
    "scrolled": true,
    "tags": []
   },
   "outputs": [
    {
     "name": "stdout",
     "output_type": "stream",
     "text": [
      "('Integrity', '책임감이 강하고 신뢰감을 주는 정직한 인재') ['책임감', ' 신뢰', ' 정직']\n"
     ]
    },
    {
     "name": "stdin",
     "output_type": "stream",
     "text": [
      "키워드 입력 :  책임감, 신뢰, 정직\n"
     ]
    },
    {
     "name": "stdout",
     "output_type": "stream",
     "text": [
      "('CHANCE', 'Seize Emerging Opportunities잠재적인 기회를 찾아내기 위해 관심을 보이고, 새로운 기회를 포착하면 신속히 결단하여 경쟁력 확보에 힘쓴다.Faster Than Market Change빠르게 변화하는 시장에 대한 정보를 신속히 파악 하여 시의 적절히 대응한다.') ['도전', ' 문제해결', ' 변화']\n"
     ]
    },
    {
     "name": "stdin",
     "output_type": "stream",
     "text": [
      "키워드 입력 :  도전, 문제해결, 변화\n"
     ]
    },
    {
     "name": "stdout",
     "output_type": "stream",
     "text": [
      "('CHALLENGE', 'Innovative Solution도전과 실패를 두려워하지 않으며, 문제 처리에 있어 관행적인 방식보다는 새로운 방식을 선호 하고 능동적으로 행동한다.Entrepreneurial Thinking지속가능한 가치를 추구하고, 고객의 니즈 충족과 회사 이익에 부합되는 대안을 효과적으로 제시한다.') ['도전', ' 혁신', ' 고객']\n"
     ]
    },
    {
     "name": "stdin",
     "output_type": "stream",
     "text": [
      "키워드 입력 :  도전, 혁신, 고객\n"
     ]
    },
    {
     "name": "stdout",
     "output_type": "stream",
     "text": [
      "('CHANGE', 'Global Outlook국제동향에 주의를 기울이며, 외부시장 변화에 주도적으로 대처한다.Flexible Open Mind다양한 문화와 사고방식에 대해 이해하고 공감 하는 자세를 가진다.') ['변화', ' 글로벌', ' 자기주도', ' 다양성']\n"
     ]
    },
    {
     "name": "stdin",
     "output_type": "stream",
     "text": [
      "키워드 입력 :  변화, 글로벌, 자기주도, 다양성\n"
     ]
    },
    {
     "name": "stdout",
     "output_type": "stream",
     "text": [
      "('합리적이고 올바른가치관을 가진 사람', '이성에 의해 객관적인 판단을 하고, 모든 사람들이 수긍할 수 있는 의사 결정을 내리는 사람을 말합니다.') ['문제해결']\n"
     ]
    },
    {
     "name": "stdin",
     "output_type": "stream",
     "text": [
      "키워드 입력 :  문제해결\n"
     ]
    },
    {
     "name": "stdout",
     "output_type": "stream",
     "text": [
      "('인재 중심의 마인드', '인재를 전략적 차별화의 열쇠로 대하고, 조직의 다양한 인재 풀(Talent Pool)관리를 위해 주인의식을 기반으로 인재의 유치, 개발, 정착 및 관리를 위해 노력한다. 직원들의 커리어 성공을 위해 개인적인 노력을 아끼지 않는다. 비즈니스 전략을 통해 인재 활용이 가능토록 한다. 인재를 회사의 공유 재산으로 여긴다. 더 나은 리더가 되기 위해 끊임없이 노력한다.') ['책임감', '끈기', ' 상생']\n"
     ]
    },
    {
     "name": "stdin",
     "output_type": "stream",
     "text": [
      "키워드 입력 :  책임감, 끈기, 상생\n"
     ]
    },
    {
     "name": "stdout",
     "output_type": "stream",
     "text": [
      "('사랑을 품은 열정인', '삼천리인은 사람에 대한 사랑, 기업에 대한 사랑, 이해관계자들에 대한 사랑을 품고 있어야 한다.') ['상생', ' 존중']\n"
     ]
    },
    {
     "name": "stdin",
     "output_type": "stream",
     "text": [
      "키워드 입력 :  상생, 존중\n"
     ]
    },
    {
     "name": "stdout",
     "output_type": "stream",
     "text": [
      "('Engagement', '참여와 협조의 조직인') ['열정']\n"
     ]
    },
    {
     "name": "stdin",
     "output_type": "stream",
     "text": [
      "키워드 입력 :  열정\n"
     ]
    },
    {
     "name": "stdout",
     "output_type": "stream",
     "text": [
      "('스피드', '높은 품질을 유지하면서 빠른 속도로 고객에게 서비스를 제공합니다. ') ['고객']\n"
     ]
    },
    {
     "name": "stdin",
     "output_type": "stream",
     "text": [
      "키워드 입력 :  고객\n"
     ]
    },
    {
     "name": "stdout",
     "output_type": "stream",
     "text": [
      "('보통사람', '교양과 상식적인 사고를 가진 보통사람들과 함께 하기를 추구합니다. ') ['인간미', ' 윤리성']\n"
     ]
    },
    {
     "name": "stdin",
     "output_type": "stream",
     "text": [
      "키워드 입력 :  인간미, 윤리성\n"
     ]
    },
    {
     "name": "stdout",
     "output_type": "stream",
     "text": [
      "('도전혁신인', '주인의식을 가지괴 미래개척') ['도전', ' 책임감', ' 미래', ' 혁신']\n"
     ]
    },
    {
     "name": "stdin",
     "output_type": "stream",
     "text": [
      "키워드 입력 :  도전, 책임감, 미래, 혁신\n"
     ]
    },
    {
     "name": "stdout",
     "output_type": "stream",
     "text": [
      "('Opportunities', '단·장기 도약의 기회를 준비하는 전략적인 Chosunier.') ['자기개발']\n"
     ]
    },
    {
     "name": "stdin",
     "output_type": "stream",
     "text": [
      "키워드 입력 :  자기개발\n"
     ]
    },
    {
     "name": "stdout",
     "output_type": "stream",
     "text": [
      "('', '포장하지 말고, 본질가치에 집중') ['기본기', ' 윤리성']\n"
     ]
    },
    {
     "name": "stdin",
     "output_type": "stream",
     "text": [
      "키워드 입력 :  기본기,윤리성\n"
     ]
    },
    {
     "name": "stdout",
     "output_type": "stream",
     "text": [
      "('', '우리는 형식보다 내용을 더 중요하게 생각합니다') ['']\n"
     ]
    },
    {
     "name": "stdin",
     "output_type": "stream",
     "text": [
      "키워드 입력 :  \n"
     ]
    },
    {
     "name": "stdout",
     "output_type": "stream",
     "text": [
      "('', '우리는 안되는 이유 대신 되는 방법을 함께 찾습니다') ['문제해결']\n"
     ]
    },
    {
     "name": "stdin",
     "output_type": "stream",
     "text": [
      "키워드 입력 :  문제해결\n"
     ]
    },
    {
     "name": "stdout",
     "output_type": "stream",
     "text": [
      "('창조', '유연한 사고를 숙고하여 근본부터 뒤집어 볼 수 있는 사람') ['창의성', ' 유연성']\n"
     ]
    },
    {
     "name": "stdin",
     "output_type": "stream",
     "text": [
      "키워드 입력 :  창의성,유연성\n"
     ]
    },
    {
     "name": "stdout",
     "output_type": "stream",
     "text": [
      "('', '근검절약을 한다') ['자연친화']\n"
     ]
    },
    {
     "name": "stdin",
     "output_type": "stream",
     "text": [
      "키워드 입력 :  자연친화\n"
     ]
    }
   ],
   "source": [
    "# 위 마크다운에서 번호 복붙\n",
    "typos = [32, 33, 34, 35, 86, 100, 122, 130, 132, 145, 156, 177, 188, 200, 205, 209, 226]\n",
    "\n",
    "for typo_idx in typos:\n",
    "    key = subList[typo_idx]\n",
    "    print(key, converted_dic[key])\n",
    "    k = input(\"키워드 입력 : \").split(',')\n",
    "    k = [i.strip() for i in k]\n",
    "    \n",
    "    converted_dic[key] = k"
   ]
  },
  {
   "cell_type": "markdown",
   "id": "0c938fa5-a644-4d02-86a7-b01fd44913c1",
   "metadata": {},
   "source": [
    "## 최종 저장"
   ]
  },
  {
   "cell_type": "code",
   "execution_count": 50,
   "id": "4bcaee1b-20d0-4976-82fd-2a23a5ed2243",
   "metadata": {},
   "outputs": [],
   "source": [
    "import pickle\n",
    "\n",
    "f = open(\"converted_5_v2.pickle\", \"wb\")\n",
    "pickle.dump(converted_dic, f)\n",
    "f.close()"
   ]
  },
  {
   "cell_type": "markdown",
   "id": "a3ac9b8c-132a-4675-8209-0d641dd84f5c",
   "metadata": {},
   "source": [
    "# 확인 작업"
   ]
  },
  {
   "cell_type": "code",
   "execution_count": 1,
   "id": "a717104f-75e7-46cf-aa1c-4df86c86de2c",
   "metadata": {},
   "outputs": [],
   "source": [
    "checkQ = []\n",
    "final_dic = {}\n",
    "final_category_dic = {}"
   ]
  },
  {
   "cell_type": "markdown",
   "id": "5219d2cc-2e7b-4669-ae20-d02308ab3e35",
   "metadata": {},
   "source": [
    "## 데이터 Load(확인할 데이터, 변수)"
   ]
  },
  {
   "cell_type": "code",
   "execution_count": 2,
   "id": "de3e369e-43f4-49ab-8bdd-7ac1ced76d00",
   "metadata": {},
   "outputs": [],
   "source": [
    "import pickle\n",
    "# 데이터 불러오기\n",
    "## 성민\n",
    "f = open(\"data/category_v2/converted_backup_0_v2.pickle\", \"rb\")\n",
    "converted_backup_0 = pickle.load(f)\n",
    "f.close()\n",
    "\n",
    "## 주영\n",
    "f = open(\"data/category_v2/converted_backup_1_v2.pickle\", \"rb\")\n",
    "converted_backup_1 = pickle.load(f)\n",
    "f.close()\n",
    "\n",
    "## 혁준\n",
    "f = open(\"data/category_v2/converted_backup_2_v2.pickle\", \"rb\")\n",
    "converted_backup_2 = pickle.load(f)\n",
    "f.close()\n",
    "\n",
    "## 민영\n",
    "f = open(\"data/category_v2/converted_backup_3_v2.pickle\", \"rb\")\n",
    "converted_backup_3 = pickle.load(f)\n",
    "f.close()\n",
    "\n",
    "## 가연\n",
    "f = open(\"data/category_v2/converted_backup_4_v2.pickle\", \"rb\")\n",
    "converted_backup_4 = pickle.load(f)\n",
    "f.close()\n",
    "\n",
    "## 세진\n",
    "f = open(\"data/category_v2/converted_backup_5_v2.pickle\", \"rb\")\n",
    "converted_backup_5 = pickle.load(f)\n",
    "f.close()"
   ]
  },
  {
   "cell_type": "markdown",
   "id": "03441c14-ca7e-407c-bd20-312d9365905d",
   "metadata": {},
   "source": [
    "## 오타, 빈칸 확인"
   ]
  },
  {
   "cell_type": "code",
   "execution_count": 3,
   "id": "8df61d54-8ec6-420b-8235-95b1fd9df8a6",
   "metadata": {
    "scrolled": true,
    "tags": []
   },
   "outputs": [],
   "source": [
    "# 사용하는 카테고리 종류\n",
    "projectCategories = \"[기본기], [창의성], [소통], [전문성], [책임감], [성실], [유연성], [긍정], [성장], [리더쉽], [자율성], [공감], [집중], [공정], [친절], [인간미], [안전], [문제해결], [자연친화], [학습], [효율], [사회적 가치], [상생], [신중], [신뢰], [자기주도], [자기개발], [팀워크], [혁신], [도전], [변화], [미래], [고객], [윤리성], [정직], [존중], [배려], [봉사], [헌신], [다양성], [개방], [글로벌], [자부심], [자신감], [열정], [끈기], [실행], [진취]\".split(',')\n",
    "projectCategories = [i.strip()[1:-1] for i in projectCategories]"
   ]
  },
  {
   "cell_type": "code",
   "execution_count": 54,
   "id": "02bc506a-c257-4d5b-b6d7-4ab2ac7eacaf",
   "metadata": {},
   "outputs": [],
   "source": [
    "# 확인할 데이터\n",
    "checkData = converted_backup_5"
   ]
  },
  {
   "cell_type": "code",
   "execution_count": 57,
   "id": "6627f2f1-08a8-4157-a2ea-97723d164f94",
   "metadata": {
    "tags": []
   },
   "outputs": [
    {
     "name": "stdout",
     "output_type": "stream",
     "text": [
      "('Integrity', '책임감이 강하고 신뢰감을 주는 정직한 인재') \n",
      "('Hi-Focuser', '생명존중과 개척정신을 계승한 Hi-Focuser는 환자 중심의 사고를 바탕으로 변화, 성장, 도전에 Focus하여 우리의 독보적 가치와 존재의 이유를 높이는 JW그룹의 인재상입니다.') \n",
      "('', '우리는 형식보다 내용을 더 중요하게 생각합니다') \n"
     ]
    }
   ],
   "source": [
    "# key - value : 카테고리 - ('keyword', '설명')\n",
    "category_dic = dict.fromkeys(projectCategories, [])\n",
    "# 오타 수정하기 위한 리스트\n",
    "reWrite = []\n",
    "\n",
    "for key, values in checkData.items():\n",
    "    for value in values:\n",
    "#         if value in ['', '실현']: # 성민\n",
    "#         if value in ['']: # 주영\n",
    "#         if value in ['', '창의']: # 혁준\n",
    "#         if value in ['', '적극성']: # 민영\n",
    "#         if value in ['', '장의성', '노력', '전문가']: # 가연\n",
    "        if value in ['', '자기계발', '력신', '성정', '윤연성']: # 세진\n",
    "            reWrite.append(key)\n",
    "            print(key, value)\n",
    "        else:\n",
    "            temp = category_dic[value].copy()\n",
    "            temp.append(key)\n",
    "            category_dic[value] = temp"
   ]
  },
  {
   "cell_type": "markdown",
   "id": "147eee56-ebfb-43f0-af05-8a5ca1c5fafe",
   "metadata": {
    "tags": []
   },
   "source": [
    "## 오타 수정"
   ]
  },
  {
   "cell_type": "code",
   "execution_count": 56,
   "id": "754793ba-ed28-437a-af4c-7305f518e0fe",
   "metadata": {
    "tags": []
   },
   "outputs": [
    {
     "name": "stdout",
     "output_type": "stream",
     "text": [
      "('성장', '현재에 머무르지 않고,배우는 것을 즐기며 스스로 성장하는 人材') ['성장', '자기계발']\n"
     ]
    },
    {
     "name": "stdin",
     "output_type": "stream",
     "text": [
      "키워드 입력 :  성장, 자기개발\n"
     ]
    },
    {
     "name": "stdout",
     "output_type": "stream",
     "text": [
      "('실력을 키우기 위해 끊임없이 노력하는 젊은이', '젊음의 무모함이 아닌 진정한 실력으로 성공을 쟁취하기 위해 지식과 능력을 단련시키는 젊은이를 초대합니다. 끊임없이 노력하고 준비하는 사람에게 이길 수 있는 이는 없습니다. 롯데카드는 언제나 자신의 발전과 조직의 발전을 위해 끊임없이 노력하는 젊은이를 기다립니다.') ['끈기', '자기계발', '상생']\n"
     ]
    },
    {
     "name": "stdin",
     "output_type": "stream",
     "text": [
      "키워드 입력 :  끈기, 자기개발, 상생\n"
     ]
    },
    {
     "name": "stdout",
     "output_type": "stream",
     "text": [
      "('Integrity', '책임감이 강하고 신뢰감을 주는 정직한 인재') ['']\n"
     ]
    },
    {
     "name": "stdin",
     "output_type": "stream",
     "text": [
      "키워드 입력 :  \n"
     ]
    },
    {
     "name": "stdout",
     "output_type": "stream",
     "text": [
      "('혁신', '') ['력신']\n"
     ]
    },
    {
     "name": "stdin",
     "output_type": "stream",
     "text": [
      "키워드 입력 :  혁신\n"
     ]
    },
    {
     "name": "stdout",
     "output_type": "stream",
     "text": [
      "('최고지향', '각 분야의 최고 전문가로서 일에 대한 진정한 사랑과 끊임없는 자기계발 노력으로 자신의 일에 최고가 된다.') ['전문성', '자기계발', '끈기']\n"
     ]
    },
    {
     "name": "stdin",
     "output_type": "stream",
     "text": [
      "키워드 입력 :  전문성, 자기개발, 끈기\n"
     ]
    },
    {
     "name": "stdout",
     "output_type": "stream",
     "text": [
      "('노력', '실력을 키우기 위해 끊임없이 노력하는 인재') ['끈기', '자기계발']\n"
     ]
    },
    {
     "name": "stdin",
     "output_type": "stream",
     "text": [
      "키워드 입력 :  끈기, 자기개발\n"
     ]
    },
    {
     "name": "stdout",
     "output_type": "stream",
     "text": [
      "('Hi-Focuser', '생명존중과 개척정신을 계승한 Hi-Focuser는 환자 중심의 사고를 바탕으로 변화, 성장, 도전에 Focus하여 우리의 독보적 가치와 존재의 이유를 높이는 JW그룹의 인재상입니다.') ['존중', '고객', '변화', '성정', '도전']\n"
     ]
    },
    {
     "name": "stdin",
     "output_type": "stream",
     "text": [
      "키워드 입력 :  \n"
     ]
    },
    {
     "name": "stdout",
     "output_type": "stream",
     "text": [
      "('', '우리는 형식보다 내용을 더 중요하게 생각합니다') ['']\n"
     ]
    },
    {
     "name": "stdin",
     "output_type": "stream",
     "text": [
      "키워드 입력 :  \n"
     ]
    },
    {
     "name": "stdout",
     "output_type": "stream",
     "text": [
      "('창조', '유연한 사고를 숙고하여 근본부터 뒤집어 볼 수 있는 사람') ['창의성', '윤연성']\n"
     ]
    },
    {
     "name": "stdin",
     "output_type": "stream",
     "text": [
      "키워드 입력 :  창의성, 유연성\n"
     ]
    }
   ],
   "source": [
    "for rW in reWrite:\n",
    "    print(rW, checkData[rW])\n",
    "    k = input(\"키워드 입력 : \").split(',')\n",
    "    k = [i.strip() for i in k]\n",
    "    \n",
    "    checkData[rW] = k"
   ]
  },
  {
   "cell_type": "markdown",
   "id": "cb002a9b-c51c-4650-9708-333864dea715",
   "metadata": {
    "tags": []
   },
   "source": [
    "## 데이터 병합"
   ]
  },
  {
   "cell_type": "markdown",
   "id": "21694dc7-d555-4ea7-9b98-12a8c83f45c8",
   "metadata": {
    "tags": []
   },
   "source": [
    "### 같이 확인해볼 데이터"
   ]
  },
  {
   "cell_type": "code",
   "execution_count": 58,
   "id": "930c2b4a-05e7-472f-bf32-105f64f9d637",
   "metadata": {
    "tags": []
   },
   "outputs": [
    {
     "name": "stdout",
     "output_type": "stream",
     "text": [
      "('Integrity', '책임감이 강하고 신뢰감을 주는 정직한 인재') ['']\n",
      "Insert\n",
      "('Hi-Focuser', '생명존중과 개척정신을 계승한 Hi-Focuser는 환자 중심의 사고를 바탕으로 변화, 성장, 도전에 Focus하여 우리의 독보적 가치와 존재의 이유를 높이는 JW그룹의 인재상입니다.') ['']\n",
      "Insert\n",
      "('', '우리는 형식보다 내용을 더 중요하게 생각합니다') ['']\n",
      "Insert\n"
     ]
    }
   ],
   "source": [
    "for rW in reWrite:\n",
    "    print(rW, checkData[rW])\n",
    "    if checkData[rW] == ['']:\n",
    "        print(\"Insert\")\n",
    "        checkQ.append(rW)"
   ]
  },
  {
   "cell_type": "markdown",
   "id": "7f442f2e-1027-4c94-a70e-0e63226e168d",
   "metadata": {
    "tags": []
   },
   "source": [
    "### 최종 딕셔너리로 병합"
   ]
  },
  {
   "cell_type": "markdown",
   "id": "82fe8414-bce8-4e0a-8e76-960d08796237",
   "metadata": {
    "tags": []
   },
   "source": [
    "#### 중복된 key 확인"
   ]
  },
  {
   "cell_type": "code",
   "execution_count": 62,
   "id": "11121075-2442-4598-80d8-849e62872917",
   "metadata": {
    "scrolled": true,
    "tags": []
   },
   "outputs": [
    {
     "name": "stdout",
     "output_type": "stream",
     "text": [
      "('정직', '우리는 기본에 충실하며 올바르게 행동한다')\n",
      "기존:  ['정직']\n",
      "현재:  ['정직', '기본기']\n",
      "('혁신', '우리는 변화를 추구하며 열정적으로 도전한다')\n",
      "기존:  ['혁신', '열정', '도전', '변화']\n",
      "현재:  ['혁신', '열정', '도전', '변화']\n",
      "('협업', '우리는 다양성을 존중하며 유기적으로 협력한다')\n",
      "기존:  ['다양성', '팀워크']\n",
      "현재:  ['다양성', '팀워크']\n",
      "('삼립의가치', '삼립의 가치(고객,도전,창의,정직,상생)에 부합되는 인재')\n",
      "기존:  ['상생', '고객', '도전', '창의성', '정직']\n",
      "현재:  ['고객', '도전', '창의성', '정직', '상생']\n",
      "('전문가', '가시적 성과를 창출하는 열정적인 전문가')\n",
      "기존:  ['전문성']\n",
      "현재:  ['전문성']\n",
      "('안전', '')\n",
      "기존:  ['안전']\n",
      "현재:  ['안전']\n",
      "('상생', '')\n",
      "기존:  ['상생']\n",
      "현재:  ['상생']\n",
      "('신뢰', '')\n",
      "기존:  ['신뢰']\n",
      "현재:  ['신뢰']\n",
      "('혁신', '')\n",
      "기존:  ['혁신']\n",
      "현재:  ['혁신']\n",
      "('열정', '끊임없는 열정으로 미래에 도전하는 인재')\n",
      "기존:  ['열정']\n",
      "현재:  ['열정', '도전']\n",
      "('창의혁신', '창의와 혁신으로 세상을 변화시키는 인재')\n",
      "기존:  ['창의성', '혁신', '변화']\n",
      "현재:  ['창의성', '혁신', '변화']\n",
      "('창의적이고 진취적인 사람', '의미 있는 것들을 독창적인 방법이나 기술로 의해 능동적으로 새로운 형태의 사물을 만들거나 가치를 창출하고, 이를 실현하기 위해 노력하는 사람을 일컫습니다')\n",
      "기존:  ['창의성', '끈기']\n",
      "현재:  ['창의성', '진취', '끈기']\n",
      "('공감', '아름다워지고자 하는 고객의 마음을 함께 절실히 느끼며 성장하고자 하는 동료의 마음을 지지하며 더 나은 사람이 되고자 하는 스스로의 의지를 굳건히 합니다.')\n",
      "기존:  ['공감', '고객']\n",
      "현재:  ['공감', '고객', '성장']\n",
      "('몰입', '공감이 있기에 자신의 일을 사랑하게 되며 또한 깊게 집중하게 되므로 일 자체로 기쁨을 느낍니다.')\n",
      "기존:  ['집중', '공감', '긍정']\n",
      "현재:  ['집중', '공감', '긍정']\n",
      "('전문성', '고객의 바람과 요구를 구체적으로 이해하고 이를 충족시키기 위한 방법들을 찾고 만들어가는데 최고가 됩니다.')\n",
      "기존:  ['고객', '전문성']\n",
      "현재:  ['고객', '전문성']\n",
      "('창의', '어느 날 불현듯 찾아오는 순간의 영감이 아닙니다. 이미 아는 것에 새로운 것을 더하고 생각과 질문을 반복하여 깊어지는 가운데 창의의 기운은 솟아 오르게 됩니다.')\n",
      "기존:  ['창의성', '끈기']\n",
      "현재:  ['창의성']\n",
      "('세계 최고', '꿈과 열정을 가지고 세계 최고에 도전하는 사람')\n",
      "기존:  ['도전']\n",
      "현재:  ['글로벌', '도전', '열정']\n"
     ]
    }
   ],
   "source": [
    "finalKeys = final_dic.keys()\n",
    "for k in checkData.keys():\n",
    "    if k in finalKeys:\n",
    "        print(k)\n",
    "        print(\"기존: \", final_dic[k])\n",
    "        print(\"현재: \", checkData[k])"
   ]
  },
  {
   "cell_type": "markdown",
   "id": "25475f85-2d82-41ef-980e-baba91b9c253",
   "metadata": {
    "tags": []
   },
   "source": [
    "#### 중복된 key 처리"
   ]
  },
  {
   "cell_type": "code",
   "execution_count": 61,
   "id": "ca2c659f-1243-44ca-a75b-2dd2b34a4964",
   "metadata": {},
   "outputs": [],
   "source": [
    "checkData[('혁신', '우리는 변화를 추구하며 열정적으로 도전한다')] = ['혁신', '열정', '도전', '변화']\n",
    "checkData[('협업', '우리는 다양성을 존중하며 유기적으로 협력한다')] = ['다양성', '팀워크']\n",
    "checkData[('공감', '아름다워지고자 하는 고객의 마음을 함께 절실히 느끼며 성장하고자 하는 동료의 마음을 지지하며 더 나은 사람이 되고자 하는 스스로의 의지를 굳건히 합니다.')] = ['공감', '고객', '성장']\n",
    "checkData[('몰입', '공감이 있기에 자신의 일을 사랑하게 되며 또한 깊게 집중하게 되므로 일 자체로 기쁨을 느낍니다.')] = ['집중', '공감', '긍정']\n",
    "checkData[('전문성', '고객의 바람과 요구를 구체적으로 이해하고 이를 충족시키기 위한 방법들을 찾고 만들어가는데 최고가 됩니다.')] = ['고객', '전문성']"
   ]
  },
  {
   "cell_type": "markdown",
   "id": "9200a19d-4935-4a8d-86e3-f9c7a83dc7b0",
   "metadata": {
    "tags": []
   },
   "source": [
    "#### 두 딕셔너리 병합"
   ]
  },
  {
   "cell_type": "code",
   "execution_count": 63,
   "id": "f2984ddf-bc58-4edd-b537-309ad9bfd5f8",
   "metadata": {
    "tags": []
   },
   "outputs": [
    {
     "name": "stdout",
     "output_type": "stream",
     "text": [
      "기존:  883\n",
      "병합 후:  1096\n"
     ]
    }
   ],
   "source": [
    "print(\"기존: \", len(final_dic))\n",
    "final_dic.update(checkData)\n",
    "print(\"병합 후: \", len(final_dic))"
   ]
  },
  {
   "cell_type": "markdown",
   "id": "83a3936d-b90f-455f-a2da-a80f1a0fc7de",
   "metadata": {},
   "source": [
    "### 최종 category 딕셔너리로 병합"
   ]
  },
  {
   "cell_type": "code",
   "execution_count": 64,
   "id": "60bfa334-09e1-435d-939a-9a7f3eabae07",
   "metadata": {
    "scrolled": true,
    "tags": []
   },
   "outputs": [],
   "source": [
    "final_categories = final_category_dic.keys()\n",
    "\n",
    "for k in category_dic.keys():\n",
    "    if k in final_category_dic.keys():\n",
    "        temp = final_category_dic[k].copy()\n",
    "        temp.extend(category_dic[k])\n",
    "        final_category_dic[k] = list(set(temp))\n",
    "    else:\n",
    "        final_category_dic[k] = category_dic[k]"
   ]
  },
  {
   "cell_type": "markdown",
   "id": "a3b3756e-b206-4716-aa66-39fa0646c45e",
   "metadata": {},
   "source": [
    "### 병합 데이터 저장"
   ]
  },
  {
   "cell_type": "code",
   "execution_count": 75,
   "id": "f3a26266-d7e3-44a8-83d3-d9e5a7fcee58",
   "metadata": {},
   "outputs": [],
   "source": [
    "f = open(\"converted_dic.pickle\", \"wb\")\n",
    "pickle.dump(final_dic, f)\n",
    "f.close()\n",
    "\n",
    "f = open(\"category_dic.pickle\", \"wb\")\n",
    "pickle.dump(final_category_dic, f)\n",
    "f.close()\n",
    "\n",
    "f = open(\"need_check_data.pickle\", \"wb\")\n",
    "pickle.dump(checkQ, f)\n",
    "f.close()"
   ]
  }
 ],
 "metadata": {
  "kernelspec": {
   "display_name": "NLP_Project",
   "language": "python",
   "name": "nlp_project"
  },
  "language_info": {
   "codemirror_mode": {
    "name": "ipython",
    "version": 3
   },
   "file_extension": ".py",
   "mimetype": "text/x-python",
   "name": "python",
   "nbconvert_exporter": "python",
   "pygments_lexer": "ipython3",
   "version": "3.8.10"
  }
 },
 "nbformat": 4,
 "nbformat_minor": 5
}
