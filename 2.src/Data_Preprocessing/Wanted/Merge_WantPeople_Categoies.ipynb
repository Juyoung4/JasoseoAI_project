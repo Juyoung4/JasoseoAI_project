{
 "cells": [
  {
   "cell_type": "code",
   "execution_count": 1,
   "id": "5c256ef7-a562-499e-aadb-24d2f11d8ff6",
   "metadata": {},
   "outputs": [],
   "source": [
    "import numpy as np\n",
    "import pandas as pd\n",
    "import pickle"
   ]
  },
  {
   "cell_type": "markdown",
   "id": "e10eceef-eadb-4782-8bfa-7d29e88c9764",
   "metadata": {
    "tags": []
   },
   "source": [
    "# 데이터 불러오기"
   ]
  },
  {
   "cell_type": "code",
   "execution_count": 30,
   "id": "c19a4de5-db5f-456d-ac90-5ef111828913",
   "metadata": {},
   "outputs": [],
   "source": [
    "f = open(\"../Data_Crawling/data/wantPeopleList.pickle\", \"rb\")\n",
    "wantPeopleList = pickle.load(f)\n",
    "f.close()\n",
    "\n",
    "f = open(\"../Data_Crawling/data/wantPeople_dic.pickle\", \"rb\")\n",
    "wantPeople_dic = pickle.load(f)\n",
    "f.close()\n",
    "\n",
    "f = open(\"data/converted_dic.pickle\", \"rb\")\n",
    "converted_dic = pickle.load(f)\n",
    "f.close()\n",
    "\n",
    "f = open(\"data/category_dic.pickle\", \"rb\")\n",
    "category_dic = pickle.load(f)\n",
    "f.close()\n",
    "\n",
    "f = open(\"data/need_check_data.pickle\", \"rb\")\n",
    "check_data = pickle.load(f)\n",
    "f.close()"
   ]
  },
  {
   "cell_type": "markdown",
   "id": "bb0e1db7-2319-4dc0-bbdb-fe8aeb93ad3f",
   "metadata": {},
   "source": [
    "# 확인해볼 데이터"
   ]
  },
  {
   "cell_type": "code",
   "execution_count": 13,
   "id": "43d04b5a-68f9-4c0a-b701-860e0457a27b",
   "metadata": {
    "tags": []
   },
   "outputs": [
    {
     "name": "stdout",
     "output_type": "stream",
     "text": [
      "('리스크관리 시스템', '신용 금리 리스크, Compliance 사전 사후 리스크 관리 체계 구축')\n"
     ]
    },
    {
     "name": "stdin",
     "output_type": "stream",
     "text": [
      "키워드 입력 :  전문성\n"
     ]
    },
    {
     "name": "stdout",
     "output_type": "stream",
     "text": [
      "('전자금융 시스템', '신규투자를 통한 전자금융 플랫폼 구축')\n"
     ]
    },
    {
     "name": "stdin",
     "output_type": "stream",
     "text": [
      "키워드 입력 :  전문성\n"
     ]
    },
    {
     "name": "stdout",
     "output_type": "stream",
     "text": [
      "('Goal', \"항상 '왜'라는 질문을 던지며 목적과 취지를 고민합니다.\")\n"
     ]
    },
    {
     "name": "stdin",
     "output_type": "stream",
     "text": [
      "키워드 입력 :  진취\n"
     ]
    },
    {
     "name": "stdout",
     "output_type": "stream",
     "text": [
      "('근검절약', '근검, 절약하는 마음가짐과 태도를 습관으로 가진 인재')\n"
     ]
    },
    {
     "name": "stdin",
     "output_type": "stream",
     "text": [
      "키워드 입력 :  성실, 끈기\n"
     ]
    },
    {
     "name": "stdout",
     "output_type": "stream",
     "text": [
      "('셋.', '삼천리인은 회사의 미션을 이해하고 비전을 실천해야 한다.')\n"
     ]
    },
    {
     "name": "stdin",
     "output_type": "stream",
     "text": [
      "키워드 입력 :  진취\n"
     ]
    },
    {
     "name": "stdout",
     "output_type": "stream",
     "text": [
      "('Fun.즐거운', '즐겁게 일하고 서로에게 기쁨을 줍니다.')\n"
     ]
    },
    {
     "name": "stdin",
     "output_type": "stream",
     "text": [
      "키워드 입력 :  긍정\n"
     ]
    },
    {
     "name": "stdout",
     "output_type": "stream",
     "text": [
      "('해외 명품 브랜드의 한국 진출 1호점트렌드 세터들의 광장', '세계 명품 브랜드 및 갤러리아에서만 선보이는 단독 브랜드까지, 트렌드 세터를 위한 스타일 Destination을 지향합니다.')\n"
     ]
    },
    {
     "name": "stdin",
     "output_type": "stream",
     "text": [
      "키워드 입력 :  버려\n"
     ]
    },
    {
     "name": "stdout",
     "output_type": "stream",
     "text": [
      "('지역을 대표하는 백화점지역 1번점 갤러리아', '국내 최초 그로서란트 백화점, 경기권 최상위 명품 라인업, 충청지역 1위 명품 백화점, 서부 경남 1번점 등 각 지점별 대표적인 특성을 가지고 지역의 랜드마크로 자리잡고 있습니다.')\n"
     ]
    },
    {
     "name": "stdin",
     "output_type": "stream",
     "text": [
      "키워드 입력 :  버려\n"
     ]
    },
    {
     "name": "stdout",
     "output_type": "stream",
     "text": [
      "('TOP 브랜드', '시험인증교정TOP 브랜드 구축국내 TOP 기술분야 단위사업 육성특화산업기반 전국 기술서비스망 구축')\n"
     ]
    },
    {
     "name": "stdin",
     "output_type": "stream",
     "text": [
      "키워드 입력 :  버려\n"
     ]
    },
    {
     "name": "stdout",
     "output_type": "stream",
     "text": [
      "('인프라 구축미래 사업 강화', '전사적 품질경영 추진고객만족도 최우수기관 도약')\n"
     ]
    },
    {
     "name": "stdin",
     "output_type": "stream",
     "text": [
      "키워드 입력 :  고객, 미래, 전문성\n"
     ]
    },
    {
     "name": "stdout",
     "output_type": "stream",
     "text": [
      "('시스템 고도화혁신·상생 조직 구현', '경영시스템 고도화 및 혁신·상생의 조직 구현업무프로세스 혁신 및 내재화재정자립 및 재무 건전성 제고')\n"
     ]
    },
    {
     "name": "stdin",
     "output_type": "stream",
     "text": [
      "키워드 입력 :  상생, 혁신\n"
     ]
    },
    {
     "name": "stdout",
     "output_type": "stream",
     "text": [
      "('안전 기반 구축미래 신성장', '국민안전 기반구축 및 미래신성장 사업 강화최고전문가 육성 프로그램 운영실력중심 체계적 인사제도 운영')\n"
     ]
    },
    {
     "name": "stdin",
     "output_type": "stream",
     "text": [
      "키워드 입력 :  안전, 미래, 사회적 가치, 전문성\n"
     ]
    },
    {
     "name": "stdout",
     "output_type": "stream",
     "text": [
      "('내재화', 'KRC를내재화, 생활화하는 인재')\n"
     ]
    },
    {
     "name": "stdin",
     "output_type": "stream",
     "text": [
      "키워드 입력 :  상생, 사회적 가치, 자연친화\n"
     ]
    },
    {
     "name": "stdout",
     "output_type": "stream",
     "text": [
      "('건강', '내 아이에게 만들어 주는 정성과 특별함')\n"
     ]
    },
    {
     "name": "stdin",
     "output_type": "stream",
     "text": [
      "키워드 입력 :  버려\n"
     ]
    },
    {
     "name": "stdout",
     "output_type": "stream",
     "text": [
      "('맛', '신선한 식재료와 정갈하고 맛깔스런 음식')\n"
     ]
    },
    {
     "name": "stdin",
     "output_type": "stream",
     "text": [
      "키워드 입력 :  버려\n"
     ]
    },
    {
     "name": "stdout",
     "output_type": "stream",
     "text": [
      "('사회人', '인간답고')\n"
     ]
    },
    {
     "name": "stdin",
     "output_type": "stream",
     "text": [
      "키워드 입력 :  인간미\n"
     ]
    },
    {
     "name": "stdout",
     "output_type": "stream",
     "text": [
      "('WinWin', '우리가 함께 일하는 낙농가, 파트너사 모두의 발전을 위해 일한다.')\n"
     ]
    },
    {
     "name": "stdin",
     "output_type": "stream",
     "text": [
      "키워드 입력 :  상생\n"
     ]
    },
    {
     "name": "stdout",
     "output_type": "stream",
     "text": [
      "('임직원', '')\n"
     ]
    },
    {
     "name": "stdin",
     "output_type": "stream",
     "text": [
      "키워드 입력 :  버려\n"
     ]
    },
    {
     "name": "stdout",
     "output_type": "stream",
     "text": [
      "('성과', '')\n"
     ]
    },
    {
     "name": "stdin",
     "output_type": "stream",
     "text": [
      "키워드 입력 :  버려\n"
     ]
    },
    {
     "name": "stdout",
     "output_type": "stream",
     "text": [
      "('브랜드', '')\n"
     ]
    },
    {
     "name": "stdin",
     "output_type": "stream",
     "text": [
      "키워드 입력 :  버려\n"
     ]
    },
    {
     "name": "stdout",
     "output_type": "stream",
     "text": [
      "('맛의 선도', '')\n"
     ]
    },
    {
     "name": "stdin",
     "output_type": "stream",
     "text": [
      "키워드 입력 :  버려\n"
     ]
    },
    {
     "name": "stdout",
     "output_type": "stream",
     "text": [
      "('인재육성', '')\n"
     ]
    },
    {
     "name": "stdin",
     "output_type": "stream",
     "text": [
      "키워드 입력 :  버려\n"
     ]
    },
    {
     "name": "stdout",
     "output_type": "stream",
     "text": [
      "('품질우선', '')\n"
     ]
    },
    {
     "name": "stdin",
     "output_type": "stream",
     "text": [
      "키워드 입력 :  버려\n"
     ]
    },
    {
     "name": "stdout",
     "output_type": "stream",
     "text": [
      "('포용', '')\n"
     ]
    },
    {
     "name": "stdin",
     "output_type": "stream",
     "text": [
      "키워드 입력 :  버려\n"
     ]
    },
    {
     "name": "stdout",
     "output_type": "stream",
     "text": [
      "('건강', '건강한 생활인이 됩니다')\n"
     ]
    },
    {
     "name": "stdin",
     "output_type": "stream",
     "text": [
      "키워드 입력 :  버려\n"
     ]
    },
    {
     "name": "stdout",
     "output_type": "stream",
     "text": [
      "('Meaning Creator', '의미 부여자')\n"
     ]
    },
    {
     "name": "stdin",
     "output_type": "stream",
     "text": [
      "키워드 입력 :  버려\n"
     ]
    },
    {
     "name": "stdout",
     "output_type": "stream",
     "text": [
      "('Integrity', '책임감이 강하고 신뢰감을 주는 정직한 인재')\n"
     ]
    },
    {
     "name": "stdin",
     "output_type": "stream",
     "text": [
      "키워드 입력 :  책임감, 신뢰, 정직\n"
     ]
    },
    {
     "name": "stdout",
     "output_type": "stream",
     "text": [
      "('Hi-Focuser', '생명존중과 개척정신을 계승한 Hi-Focuser는 환자 중심의 사고를 바탕으로 변화, 성장, 도전에 Focus하여 우리의 독보적 가치와 존재의 이유를 높이는 JW그룹의 인재상입니다.')\n"
     ]
    },
    {
     "name": "stdin",
     "output_type": "stream",
     "text": [
      "키워드 입력 :  안전, 고객, 변화, 성장, 도전\n"
     ]
    },
    {
     "name": "stdout",
     "output_type": "stream",
     "text": [
      "('', '우리는 형식보다 내용을 더 중요하게 생각합니다')\n"
     ]
    },
    {
     "name": "stdin",
     "output_type": "stream",
     "text": [
      "키워드 입력 :  버려\n"
     ]
    }
   ],
   "source": [
    "check_dic = {}\n",
    "\n",
    "for check in check_data:\n",
    "    print(check)\n",
    "    k = input(\"키워드 입력 : \")\n",
    "    k = k.strip().split(',')\n",
    "    k = [i.strip() for i in k]\n",
    "    \n",
    "    check_dic[check] = k"
   ]
  },
  {
   "cell_type": "markdown",
   "id": "e44a17ba-c629-43f8-97a5-f15a89a04098",
   "metadata": {},
   "source": [
    "**<최종 키워드>**\n",
    "\n",
    "[기본기], [창의성], [소통], [전문성], [책임감], [성실], [유연성], [긍정], [성장], [리더쉽], [자율성], [공감], [집중], [공정], [친절], [인간미], [안전], [문제해결], [자연친화], [학습], [효율], [사회적 가치], [상생], [신중], [신뢰],[자기주도], [자기개발], [팀워크], [혁신], [도전], [변화], [미래], [고객], [윤리성], [정직], [존중], [배려], [봉사], [헌신], [다양성], [개방], [글로벌], [자부심], [자신감], [열정], [끈기], [실행], [진취]"
   ]
  },
  {
   "cell_type": "code",
   "execution_count": 31,
   "id": "80104a18-5f36-45cc-bdf5-d06568716cda",
   "metadata": {
    "scrolled": true,
    "tags": []
   },
   "outputs": [
    {
     "name": "stdout",
     "output_type": "stream",
     "text": [
      "('리스크관리 시스템', '신용 금리 리스크, Compliance 사전 사후 리스크 관리 체계 구축')\n",
      "기존:  ['']\n",
      "현재:  ['전문성']\n",
      "('전자금융 시스템', '신규투자를 통한 전자금융 플랫폼 구축')\n",
      "기존:  ['']\n",
      "현재:  ['전문성']\n",
      "('Goal', \"항상 '왜'라는 질문을 던지며 목적과 취지를 고민합니다.\")\n",
      "기존:  ['']\n",
      "현재:  ['진취']\n",
      "('근검절약', '근검, 절약하는 마음가짐과 태도를 습관으로 가진 인재')\n",
      "기존:  ['']\n",
      "현재:  ['성실', '끈기']\n",
      "('셋.', '삼천리인은 회사의 미션을 이해하고 비전을 실천해야 한다.')\n",
      "기존:  ['']\n",
      "현재:  ['진취']\n",
      "('Fun.즐거운', '즐겁게 일하고 서로에게 기쁨을 줍니다.')\n",
      "기존:  ['']\n",
      "현재:  ['긍정']\n",
      "('해외 명품 브랜드의 한국 진출 1호점트렌드 세터들의 광장', '세계 명품 브랜드 및 갤러리아에서만 선보이는 단독 브랜드까지, 트렌드 세터를 위한 스타일 Destination을 지향합니다.')\n",
      "기존:  ['']\n",
      "현재:  ['버려']\n",
      "('지역을 대표하는 백화점지역 1번점 갤러리아', '국내 최초 그로서란트 백화점, 경기권 최상위 명품 라인업, 충청지역 1위 명품 백화점, 서부 경남 1번점 등 각 지점별 대표적인 특성을 가지고 지역의 랜드마크로 자리잡고 있습니다.')\n",
      "기존:  ['']\n",
      "현재:  ['버려']\n",
      "('TOP 브랜드', '시험인증교정TOP 브랜드 구축국내 TOP 기술분야 단위사업 육성특화산업기반 전국 기술서비스망 구축')\n",
      "기존:  ['']\n",
      "현재:  ['버려']\n",
      "('인프라 구축미래 사업 강화', '전사적 품질경영 추진고객만족도 최우수기관 도약')\n",
      "기존:  ['']\n",
      "현재:  ['고객', '미래', '전문성']\n",
      "('시스템 고도화혁신·상생 조직 구현', '경영시스템 고도화 및 혁신·상생의 조직 구현업무프로세스 혁신 및 내재화재정자립 및 재무 건전성 제고')\n",
      "기존:  ['']\n",
      "현재:  ['상생', '혁신']\n",
      "('안전 기반 구축미래 신성장', '국민안전 기반구축 및 미래신성장 사업 강화최고전문가 육성 프로그램 운영실력중심 체계적 인사제도 운영')\n",
      "기존:  ['']\n",
      "현재:  ['안전', '미래', '사회적 가치', '전문성']\n",
      "('내재화', 'KRC를내재화, 생활화하는 인재')\n",
      "기존:  ['']\n",
      "현재:  ['상생', '사회적 가치', '자연친화']\n",
      "('건강', '내 아이에게 만들어 주는 정성과 특별함')\n",
      "기존:  ['']\n",
      "현재:  ['버려']\n",
      "('맛', '신선한 식재료와 정갈하고 맛깔스런 음식')\n",
      "기존:  ['']\n",
      "현재:  ['버려']\n",
      "('사회人', '인간답고')\n",
      "기존:  ['']\n",
      "현재:  ['인간미']\n",
      "('WinWin', '우리가 함께 일하는 낙농가, 파트너사 모두의 발전을 위해 일한다.')\n",
      "기존:  ['']\n",
      "현재:  ['상생']\n",
      "('임직원', '')\n",
      "기존:  ['']\n",
      "현재:  ['버려']\n",
      "('성과', '')\n",
      "기존:  ['']\n",
      "현재:  ['버려']\n",
      "('브랜드', '')\n",
      "기존:  ['']\n",
      "현재:  ['버려']\n",
      "('맛의 선도', '')\n",
      "기존:  ['']\n",
      "현재:  ['버려']\n",
      "('인재육성', '')\n",
      "기존:  ['']\n",
      "현재:  ['버려']\n",
      "('품질우선', '')\n",
      "기존:  ['']\n",
      "현재:  ['버려']\n",
      "('포용', '')\n",
      "기존:  ['']\n",
      "현재:  ['버려']\n",
      "('건강', '건강한 생활인이 됩니다')\n",
      "기존:  ['']\n",
      "현재:  ['버려']\n",
      "('Meaning Creator', '의미 부여자')\n",
      "기존:  ['']\n",
      "현재:  ['버려']\n",
      "('Integrity', '책임감이 강하고 신뢰감을 주는 정직한 인재')\n",
      "기존:  ['']\n",
      "현재:  ['책임감', '신뢰', '정직']\n",
      "('Hi-Focuser', '생명존중과 개척정신을 계승한 Hi-Focuser는 환자 중심의 사고를 바탕으로 변화, 성장, 도전에 Focus하여 우리의 독보적 가치와 존재의 이유를 높이는 JW그룹의 인재상입니다.')\n",
      "기존:  ['']\n",
      "현재:  ['안전', '고객', '변화', '성장', '도전']\n",
      "('', '우리는 형식보다 내용을 더 중요하게 생각합니다')\n",
      "기존:  ['']\n",
      "현재:  ['버려']\n"
     ]
    }
   ],
   "source": [
    "Keys = converted_dic.keys()\n",
    "\n",
    "for k in check_dic.keys():\n",
    "    if k in Keys:\n",
    "        print(k)\n",
    "        print(\"기존: \", converted_dic[k])\n",
    "        print(\"현재: \", check_dic[k])"
   ]
  },
  {
   "cell_type": "code",
   "execution_count": 32,
   "id": "a6b8232a-ae86-42fc-a2ff-7e4a3d62b0e4",
   "metadata": {},
   "outputs": [
    {
     "data": {
      "text/plain": [
       "1099"
      ]
     },
     "execution_count": 32,
     "metadata": {},
     "output_type": "execute_result"
    }
   ],
   "source": [
    "# 새로 입력된 정보로 업데이트\n",
    "converted_dic.update(check_dic)\n",
    "len(converted_dic)"
   ]
  },
  {
   "cell_type": "code",
   "execution_count": 33,
   "id": "ede69302-3dff-41df-ae82-b7a32df3119e",
   "metadata": {},
   "outputs": [
    {
     "data": {
      "text/plain": [
       "1084"
      ]
     },
     "execution_count": 33,
     "metadata": {},
     "output_type": "execute_result"
    }
   ],
   "source": [
    "removedKey = []\n",
    "for k,v in converted_dic.items():\n",
    "    if v == ['버려']:\n",
    "        removedKey.append(k)\n",
    "        \n",
    "for i in removedKey:\n",
    "    converted_dic.pop(i)\n",
    "len(converted_dic)"
   ]
  },
  {
   "cell_type": "markdown",
   "id": "44434001-9864-463c-9fbe-874d9dc87924",
   "metadata": {},
   "source": [
    "# 키워드 딕셔너리"
   ]
  },
  {
   "cell_type": "code",
   "execution_count": 35,
   "id": "de4ede99-f16c-4c24-a48e-cdaa0d720093",
   "metadata": {},
   "outputs": [],
   "source": [
    "# 각 키워드에 인재상 추가\n",
    "categories = category_dic.keys()\n",
    "\n",
    "for key, values in check_dic.items():\n",
    "    if values != ['버려']:\n",
    "        for value in values:\n",
    "            if value in categories:\n",
    "                temp = category_dic[value].copy()\n",
    "                temp.append(key)\n",
    "                category_dic[value] = list(set(temp))\n",
    "            else:\n",
    "                category_dic[value] = [key]"
   ]
  },
  {
   "cell_type": "code",
   "execution_count": 36,
   "id": "8bb9ee61-10ef-455b-a49c-65ecc1a65328",
   "metadata": {
    "scrolled": true,
    "tags": []
   },
   "outputs": [
    {
     "name": "stdout",
     "output_type": "stream",
     "text": [
      "기본기 : 13\n",
      "창의성 : 134\n",
      "소통 : 83\n",
      "전문성 : 163\n",
      "책임감 : 90\n",
      "성실 : 16\n",
      "유연성 : 27\n",
      "긍정 : 29\n",
      "성장 : 30\n",
      "리더쉽 : 13\n",
      "자율성 : 11\n",
      "공감 : 10\n",
      "집중 : 7\n",
      "공정 : 22\n",
      "친절 : 3\n",
      "인간미 : 29\n",
      "안전 : 19\n",
      "문제해결 : 23\n",
      "자연친화 : 6\n",
      "학습 : 28\n",
      "효율 : 2\n",
      "사회적 가치 : 44\n",
      "상생 : 51\n",
      "신중 : 10\n",
      "신뢰 : 66\n",
      "자기주도 : 24\n",
      "자기개발 : 62\n",
      "팀워크 : 93\n",
      "혁신 : 107\n",
      "도전 : 163\n",
      "변화 : 91\n",
      "미래 : 44\n",
      "고객 : 130\n",
      "윤리성 : 43\n",
      "정직 : 75\n",
      "존중 : 55\n",
      "배려 : 44\n",
      "봉사 : 8\n",
      "헌신 : 21\n",
      "다양성 : 37\n",
      "개방 : 62\n",
      "글로벌 : 72\n",
      "자부심 : 24\n",
      "자신감 : 11\n",
      "열정 : 155\n",
      "끈기 : 66\n",
      "실행 : 40\n",
      "진취 : 109\n"
     ]
    }
   ],
   "source": [
    "# 키워드별 인재상 개수 확인\n",
    "for key in category_dic.keys():\n",
    "    print(\"{} : {}\".format(key,len(category_dic[key])))"
   ]
  },
  {
   "cell_type": "markdown",
   "id": "8b7bcb07-c6ae-43c4-a4da-c63645d824bc",
   "metadata": {},
   "source": [
    "# 기업별 키워드로 변환"
   ]
  },
  {
   "cell_type": "code",
   "execution_count": 38,
   "id": "8b27499c-2e91-40f2-971f-3f1460027323",
   "metadata": {
    "scrolled": true,
    "tags": []
   },
   "outputs": [],
   "source": [
    "corpWantKeyword = {}\n",
    "\n",
    "for key, values in wantPeople_dic.items():\n",
    "    temp = []\n",
    "    for value in values:\n",
    "        try:\n",
    "            temp.extend(converted_dic[value])\n",
    "        except:\n",
    "            print(value)\n",
    "        \n",
    "    temp = list(set(temp))\n",
    "    corpWantKeyword[key] = temp"
   ]
  },
  {
   "cell_type": "markdown",
   "id": "dd3a3316-94b6-451e-ae0e-427c5223fdca",
   "metadata": {},
   "source": [
    "**최종 데이터의 종류**\n",
    "1. 기업 인재상에대한 키워드 딕셔너리 : converted_dic\\\n",
    "    key: 기업 인재상, value: (인재상에대한)키워드\n",
    "2. 키워드 카테고리별 기업 인재상 딕셔너리 - category_dic\\\n",
    "    key: (인재상에대한)키워드, value: 인재상\n",
    "3. 기업별 인재상에대한 키워드 딕셔너리 : corpWantKeyword_dic\\\n",
    "    key: 기업, value: (인재상에대한)키워드"
   ]
  },
  {
   "cell_type": "markdown",
   "id": "302a464e-c67c-48b1-b253-4792a289b622",
   "metadata": {},
   "source": [
    "# 최종 데이터 저장"
   ]
  },
  {
   "cell_type": "code",
   "execution_count": 40,
   "id": "b37266f1-f100-4f2c-b13f-584dd34bbaf4",
   "metadata": {},
   "outputs": [],
   "source": [
    "f = open(\"data/finalConverted_dic.pickle\", \"wb\")\n",
    "pickle.dump(converted_dic, f)\n",
    "f.close()\n",
    "\n",
    "f = open(\"data/finalCategory_dic.pickle\", \"wb\")\n",
    "pickle.dump(category_dic, f)\n",
    "f.close()\n",
    "\n",
    "f = open(\"data/finalCorpWantKeyword_dic.pickle\", \"wb\")\n",
    "pickle.dump(corpWantKeyword, f)\n",
    "f.close()"
   ]
  },
  {
   "cell_type": "markdown",
   "id": "911f9023-c001-436a-8ac3-f3cff9e070d6",
   "metadata": {},
   "source": [
    "# 새로운 데이터 입력"
   ]
  },
  {
   "cell_type": "code",
   "execution_count": 55,
   "id": "7fab7b6b-8926-4ade-b404-5ea60d362b71",
   "metadata": {},
   "outputs": [
    {
     "name": "stdin",
     "output_type": "stream",
     "text": [
      "기업을 입력하시오\n",
      " 김세진\n",
      "기업의 인재상을 작성하시오(ex. (키워드, 설명))\n",
      " 배려, 배려 깊은 인재\n",
      "기업의 인재상을 작성하시오(ex. (키워드, 설명))\n",
      " 사랑, 사랑 많은 인재\n",
      "기업의 인재상을 작성하시오(ex. (키워드, 설명))\n",
      " 0\n"
     ]
    }
   ],
   "source": [
    "new_corpWant = {}\n",
    "corp = input(\"기업을 입력하시오\\n\")\n",
    "\n",
    "while True:\n",
    "    new_data = input(\"기업의 인재상을 작성하시오(ex. (키워드, 설명))\\n\")\n",
    "    if new_data == '0':\n",
    "        break\n",
    "        \n",
    "    new_data = [i.strip() for i in new_data.split(',')]\n",
    "    new_data = (new_data[0], new_data[1])"
   ]
  }
 ],
 "metadata": {
  "kernelspec": {
   "display_name": "NLP_Project",
   "language": "python",
   "name": "nlp_project"
  },
  "language_info": {
   "codemirror_mode": {
    "name": "ipython",
    "version": 3
   },
   "file_extension": ".py",
   "mimetype": "text/x-python",
   "name": "python",
   "nbconvert_exporter": "python",
   "pygments_lexer": "ipython3",
   "version": "3.8.10"
  }
 },
 "nbformat": 4,
 "nbformat_minor": 5
}
