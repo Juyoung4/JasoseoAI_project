{
 "cells": [
  {
   "cell_type": "markdown",
   "id": "dc1925aa-ffbb-4cda-9abc-2a54e12841ee",
   "metadata": {},
   "source": [
    "# Setting"
   ]
  },
  {
   "cell_type": "code",
   "execution_count": 1,
   "id": "1c05abd9-b889-4537-a34d-c50abe7f999e",
   "metadata": {},
   "outputs": [],
   "source": [
    "import os\n",
    "import re\n",
    "import json\n",
    "import copy\n",
    "import numpy as np\n",
    "import pandas as pd\n",
    "import matplotlib.pyplot as plt\n",
    "plt.style.use('seaborn-white')\n",
    "\n",
    "from tqdm import tqdm\n",
    "import tensorflow as tf\n",
    "from transformers import ElectraTokenizer, TFElectraModel, BertTokenizer, TFBertModel\n",
    "from tensorflow.keras.preprocessing.sequence import pad_sequences\n",
    "from tensorflow.keras.callbacks import EarlyStopping, ModelCheckpoint"
   ]
  },
  {
   "cell_type": "code",
   "execution_count": 2,
   "id": "a66e8d02-69e2-49a3-958c-ece4933e115c",
   "metadata": {},
   "outputs": [],
   "source": [
    "tf.random.set_seed(111)\n",
    "np.random.seed(111)\n",
    "\n",
    "BATCH_SIZE = 8\n",
    "NUM_EPOCHS = 3\n",
    "VALID_SPLIT = 0.2\n",
    "MAX_SEQUENCE_LEN = 512"
   ]
  },
  {
   "cell_type": "markdown",
   "id": "741b1f9a-95f1-4486-b1be-ad1c1f28aa7e",
   "metadata": {},
   "source": [
    "# BERT Fine Tuning (어색한 문장 학습)"
   ]
  },
  {
   "cell_type": "markdown",
   "id": "837b7804-ffcd-47ae-a72e-f7fc2a4abe18",
   "metadata": {},
   "source": [
    "## Data Load"
   ]
  },
  {
   "cell_type": "code",
   "execution_count": 3,
   "id": "8a6764b0-4f61-4659-a726-ef247910fdfd",
   "metadata": {},
   "outputs": [],
   "source": [
    "DATA_PATH = '../../3.data/BERT/'\n",
    "PAIRDATA_PATH = 'sentencePairData.csv'"
   ]
  },
  {
   "cell_type": "code",
   "execution_count": 4,
   "id": "d19ce0e7-985f-41ad-8f34-bf8e1d249192",
   "metadata": {},
   "outputs": [
    {
     "data": {
      "text/html": [
       "<div>\n",
       "<style scoped>\n",
       "    .dataframe tbody tr th:only-of-type {\n",
       "        vertical-align: middle;\n",
       "    }\n",
       "\n",
       "    .dataframe tbody tr th {\n",
       "        vertical-align: top;\n",
       "    }\n",
       "\n",
       "    .dataframe thead th {\n",
       "        text-align: right;\n",
       "    }\n",
       "</style>\n",
       "<table border=\"1\" class=\"dataframe\">\n",
       "  <thead>\n",
       "    <tr style=\"text-align: right;\">\n",
       "      <th></th>\n",
       "      <th>first_sentence</th>\n",
       "      <th>second_sentence</th>\n",
       "      <th>label</th>\n",
       "    </tr>\n",
       "  </thead>\n",
       "  <tbody>\n",
       "    <tr>\n",
       "      <th>0</th>\n",
       "      <td>둘째, ICT 산학협력 SW 교에서는 오답 노트 시스템을 개발했습니다.</td>\n",
       "      <td>네 좋아해요</td>\n",
       "      <td>0</td>\n",
       "    </tr>\n",
       "    <tr>\n",
       "      <th>1</th>\n",
       "      <td>금융업계에서의 올해 최고 이슈는 ‘핀테크’입니다.</td>\n",
       "      <td>은행을 비롯해 모든 금융업계는 IT인프라를 늘리고, 관련 부서를 신설하는 등 핀테크...</td>\n",
       "      <td>1</td>\n",
       "    </tr>\n",
       "    <tr>\n",
       "      <th>2</th>\n",
       "      <td>이러한 열정과 도전정신은 저의 인생 모토가 되었고 어떠한 위기와 역경에도 일단 부딪...</td>\n",
       "      <td>학생회를 통해 리더십과 책임감을 발휘할 수 있었으며 혼자가 아닌 팀으로 하여 더 효...</td>\n",
       "      <td>0</td>\n",
       "    </tr>\n",
       "    <tr>\n",
       "      <th>3</th>\n",
       "      <td>업무일지 작성으로 사내 인력과 상황에의 대처능력과 조직적응력을 빠르게 나타내겠습니다.</td>\n",
       "      <td>선수들이 거세게 항의를 하면 판정을 번복하기도 하고, 스로인 반칙을 보고도 그냥 넘...</td>\n",
       "      <td>0</td>\n",
       "    </tr>\n",
       "    <tr>\n",
       "      <th>4</th>\n",
       "      <td>카드는 여행 구성에 상관없이 반드시 쓰는 혜택을 구성하고 O2O 서비스를 통해 고객...</td>\n",
       "      <td>신한 판클럽은 야 놀자 하고 제휴는 맺었지만 여행지나 렌터카 등 부가적인 서비스는 ...</td>\n",
       "      <td>1</td>\n",
       "    </tr>\n",
       "  </tbody>\n",
       "</table>\n",
       "</div>"
      ],
      "text/plain": [
       "                                      first_sentence  \\\n",
       "0            둘째, ICT 산학협력 SW 교에서는 오답 노트 시스템을 개발했습니다.   \n",
       "1                        금융업계에서의 올해 최고 이슈는 ‘핀테크’입니다.   \n",
       "2  이러한 열정과 도전정신은 저의 인생 모토가 되었고 어떠한 위기와 역경에도 일단 부딪...   \n",
       "3    업무일지 작성으로 사내 인력과 상황에의 대처능력과 조직적응력을 빠르게 나타내겠습니다.   \n",
       "4  카드는 여행 구성에 상관없이 반드시 쓰는 혜택을 구성하고 O2O 서비스를 통해 고객...   \n",
       "\n",
       "                                     second_sentence  label  \n",
       "0                                             네 좋아해요      0  \n",
       "1  은행을 비롯해 모든 금융업계는 IT인프라를 늘리고, 관련 부서를 신설하는 등 핀테크...      1  \n",
       "2  학생회를 통해 리더십과 책임감을 발휘할 수 있었으며 혼자가 아닌 팀으로 하여 더 효...      0  \n",
       "3  선수들이 거세게 항의를 하면 판정을 번복하기도 하고, 스로인 반칙을 보고도 그냥 넘...      0  \n",
       "4  신한 판클럽은 야 놀자 하고 제휴는 맺었지만 여행지나 렌터카 등 부가적인 서비스는 ...      1  "
      ]
     },
     "execution_count": 4,
     "metadata": {},
     "output_type": "execute_result"
    }
   ],
   "source": [
    "data_df = pd.read_csv(DATA_PATH + PAIRDATA_PATH, index_col=0)\n",
    "data_df.columns = ['first_sentence', 'second_sentence', 'label']\n",
    "# data_df = data_df.astype({'first_sentence':'str', 'second_sentence':'str'}) # 숫자로된 데이터를 문자열로 변경\n",
    "data_df.head()"
   ]
  },
  {
   "cell_type": "code",
   "execution_count": 5,
   "id": "6d430790-2a00-408b-9baf-24529746ec35",
   "metadata": {},
   "outputs": [
    {
     "name": "stdout",
     "output_type": "stream",
     "text": [
      "train_set: 260530개\n",
      "test_set: 65132개\n"
     ]
    }
   ],
   "source": [
    "test_set_ratio = 0.2\n",
    "test_set_df = data_df[data_df.label == 0].sample(frac=test_set_ratio)\n",
    "test_set_df = pd.concat([test_set_df, data_df[data_df.label == 1].sample(frac=test_set_ratio)])\n",
    "\n",
    "train_set_df = data_df.drop(test_set_df.index)\n",
    "train_set_df.reset_index(inplace=True)\n",
    "test_set_df.reset_index(inplace=True)\n",
    "\n",
    "print(\"train_set: {}개\".format(len(train_set_df)))\n",
    "print(\"test_set: {}개\".format(len(test_set_df)))"
   ]
  },
  {
   "cell_type": "code",
   "execution_count": 6,
   "id": "a1087a8d-10db-437f-a9d7-f18f10d96394",
   "metadata": {},
   "outputs": [
    {
     "data": {
      "text/plain": [
       "(260530, 65132)"
      ]
     },
     "execution_count": 6,
     "metadata": {},
     "output_type": "execute_result"
    }
   ],
   "source": [
    "train_sentencePair = []\n",
    "test_sentencePair = []\n",
    "\n",
    "train_labels = np.asarray(train_set_df['label'].tolist(), dtype=np.int32)\n",
    "test_labels = np.asarray(test_set_df['label'].tolist(), dtype=np.int32)\n",
    "\n",
    "for i in range(len(train_set_df)):\n",
    "    temp_df = train_set_df.iloc[i]\n",
    "    train_sentencePair.append([temp_df['first_sentence'], temp_df['second_sentence']])\n",
    "    \n",
    "for i in range(len(test_set_df)):\n",
    "    temp_df = test_set_df.iloc[i]\n",
    "    test_sentencePair.append([temp_df['first_sentence'], temp_df['second_sentence']])\n",
    "    \n",
    "len(train_sentencePair), len(test_sentencePair)"
   ]
  },
  {
   "cell_type": "markdown",
   "id": "9ecfbbdb-6b93-455c-913c-0074a6cb12c6",
   "metadata": {},
   "source": [
    "## BertTokenizer"
   ]
  },
  {
   "cell_type": "code",
   "execution_count": 7,
   "id": "0735546a-af69-4acc-86e9-71e321bdd755",
   "metadata": {
    "tags": []
   },
   "outputs": [],
   "source": [
    "tokenizer = ElectraTokenizer.from_pretrained(\"monologg/koelectra-base-v3-discriminator\")\n",
    "\n",
    "# train set 토크나이징\n",
    "train_encoded_dict = tokenizer(train_sentencePair,\n",
    "                         padding=True,\n",
    "                         truncation=True,\n",
    "                         max_length=MAX_SEQUENCE_LEN,\n",
    "                         return_tensors='tf')\n",
    "# test set 토크나이징\n",
    "test_encoded_dict = tokenizer(test_sentencePair,\n",
    "                         padding=True,\n",
    "                         truncation=True,\n",
    "                         max_length=MAX_SEQUENCE_LEN,\n",
    "                         return_tensors='tf')"
   ]
  },
  {
   "cell_type": "code",
   "execution_count": 8,
   "id": "7c038639-d695-400f-941b-975d6873d65a",
   "metadata": {},
   "outputs": [],
   "source": [
    "train_inputs = (train_encoded_dict['input_ids'], train_encoded_dict['attention_mask'], train_encoded_dict['token_type_ids'])\n",
    "test_inputs = (test_encoded_dict['input_ids'], test_encoded_dict['attention_mask'], test_encoded_dict['token_type_ids'])"
   ]
  },
  {
   "cell_type": "markdown",
   "id": "eb4b0738-29b0-4625-8e5f-c6cce3b30b9c",
   "metadata": {},
   "source": [
    "## Create Model"
   ]
  },
  {
   "cell_type": "code",
   "execution_count": 9,
   "id": "66bf839f-51f9-47bd-be61-d40899bec63e",
   "metadata": {},
   "outputs": [
    {
     "name": "stderr",
     "output_type": "stream",
     "text": [
      "Some layers from the model checkpoint at monologg/koelectra-base-v3-discriminator were not used when initializing TFElectraModel: ['discriminator_predictions']\n",
      "- This IS expected if you are initializing TFElectraModel from the checkpoint of a model trained on another task or with another architecture (e.g. initializing a BertForSequenceClassification model from a BertForPreTraining model).\n",
      "- This IS NOT expected if you are initializing TFElectraModel from the checkpoint of a model that you expect to be exactly identical (initializing a BertForSequenceClassification model from a BertForSequenceClassification model).\n",
      "All the layers of TFElectraModel were initialized from the model checkpoint at monologg/koelectra-base-v3-discriminator.\n",
      "If your task is similar to the task the model of the checkpoint was trained on, you can already use TFElectraModel for predictions without further training.\n"
     ]
    }
   ],
   "source": [
    "class TFBertClassifier(tf.keras.Model):\n",
    "    def __init__(self, model_name, dir_path, num_class):\n",
    "        super(TFBertClassifier, self).__init__()\n",
    "        \n",
    "        self.bert = TFElectraModel.from_pretrained(model_name, cache_dir=dir_path)\n",
    "        self.dropout = tf.keras.layers.Dropout(self.bert.config.hidden_dropout_prob)\n",
    "        self.classifier = tf.keras.layers.Dense(num_class,\n",
    "                                               kernel_initializer=tf.keras.initializers.TruncatedNormal(self.bert.config.initializer_range),\n",
    "                                               name='classifier')\n",
    "    \n",
    "    def call(self, inputs, attention_mask=None, token_type_ids=None, training=False):\n",
    "        # BERT모델 적용\n",
    "        outputs = self.bert(inputs)\n",
    "        \n",
    "        # BERT결과 값으로 Fine tuning하기 위한 벡터로 변환\n",
    "        pooled_output = outputs.last_hidden_state # [batch_size, sequence_length, hidden]\n",
    "        pooled_output = pooled_output[:, 0, :]    # take <s> token (equiv. to [CLS]) [batch_size, hidden]\n",
    "        \n",
    "        # Fine tuning\n",
    "        pooled_output = self.dropout(pooled_output, training=training)\n",
    "        logits = self.classifier(pooled_output)\n",
    "        \n",
    "        return logits\n",
    "\n",
    "cls_model = TFBertClassifier(model_name='monologg/koelectra-base-v3-discriminator',\n",
    "                            dir_path='bert_ckpt',\n",
    "                            num_class=2)"
   ]
  },
  {
   "cell_type": "code",
   "execution_count": 11,
   "id": "52d550d5-cf26-407c-978a-a77e5e3a4c94",
   "metadata": {},
   "outputs": [],
   "source": [
    "optimizer = tf.keras.optimizers.Adam(3e-5)\n",
    "loss = tf.keras.losses.SparseCategoricalCrossentropy(from_logits=True)\n",
    "metric = tf.keras.metrics.SparseCategoricalAccuracy('accuracy')\n",
    "cls_model.compile(optimizer=optimizer, loss=loss, metrics=[metric])"
   ]
  },
  {
   "cell_type": "code",
   "execution_count": 13,
   "id": "1370afc8-3f6c-4e58-b35d-e7ef427d779d",
   "metadata": {
    "tags": []
   },
   "outputs": [
    {
     "name": "stdout",
     "output_type": "stream",
     "text": [
      "{} Directory already exists\n",
      " ./tf2_awkward_sentence\n",
      "Epoch 1/3\n",
      "    2/26053 [..............................] - ETA: 1:02:05 - loss: 0.5512 - accuracy: 0.7500WARNING:tensorflow:Callbacks method `on_train_batch_end` is slow compared to the batch time (batch time: 0.0220s vs `on_train_batch_end` time: 0.2650s). Check your callbacks.\n",
      "26053/26053 [==============================] - ETA: 0s - loss: 0.1769 - accuracy: 0.9261WARNING:tensorflow:The parameters `output_attentions`, `output_hidden_states` and `use_cache` cannot be updated when calling a model.They have to be set to True/False in the config object (i.e.: `config=XConfig.from_pretrained('name', output_attentions=True)`).\n",
      "WARNING:tensorflow:The parameter `return_dict` cannot be set in graph mode and will always be set to `True`.\n",
      "\n",
      "Epoch 00001: val_accuracy improved from -inf to 0.93504, saving model to ./tf2_awkward_sentence\\weights-01.h5\n",
      "26053/26053 [==============================] - 8336s 320ms/step - loss: 0.1769 - accuracy: 0.9261 - val_loss: 0.1537 - val_accuracy: 0.9350\n",
      "Epoch 2/3\n",
      "26053/26053 [==============================] - ETA: 0s - loss: 0.1084 - accuracy: 0.9575\n",
      "Epoch 00002: val_accuracy improved from 0.93504 to 0.94452, saving model to ./tf2_awkward_sentence\\weights-02.h5\n",
      "26053/26053 [==============================] - 8458s 325ms/step - loss: 0.1084 - accuracy: 0.9575 - val_loss: 0.1443 - val_accuracy: 0.9445\n",
      "Epoch 3/3\n",
      "26053/26053 [==============================] - ETA: 0s - loss: 0.0724 - accuracy: 0.9728\n",
      "Epoch 00003: val_accuracy did not improve from 0.94452\n",
      "26053/26053 [==============================] - 8526s 327ms/step - loss: 0.0724 - accuracy: 0.9728 - val_loss: 0.1919 - val_accuracy: 0.9423\n"
     ]
    }
   ],
   "source": [
    "model_name = 'tf2_awkward_sentence'\n",
    "\n",
    "es_callback = EarlyStopping(monitor='val_accuracy', min_delta=0.0001, patience=2)\n",
    "\n",
    "checkpoint_path = os.path.join('./', model_name, 'weights-{epoch:02d}.h5')\n",
    "checkpoint_dir = os.path.dirname(checkpoint_path)\n",
    "\n",
    "if os.path.exists(checkpoint_dir):\n",
    "    print(\"{} Directory already exists\\n\",format(checkpoint_dir))\n",
    "else:\n",
    "    os.makedirs(checkpoint_dir, exist_ok=True)\n",
    "    print(\"{} Directory create complete\\n\",format(checkpoint_dir))\n",
    "    \n",
    "cp_callback = ModelCheckpoint(checkpoint_path, monitor='val_accuracy',\n",
    "                             verbose=1, save_best_only=True, save_weights_only=True)\n",
    "\n",
    "history = cls_model.fit(train_inputs, train_labels,\n",
    "                       epochs=NUM_EPOCHS, batch_size=BATCH_SIZE, validation_split=VALID_SPLIT,\n",
    "                       callbacks=[es_callback, cp_callback])"
   ]
  },
  {
   "cell_type": "code",
   "execution_count": 16,
   "id": "7ec668b2-9b91-4861-9331-2e4913ba2f0d",
   "metadata": {},
   "outputs": [
    {
     "data": {
      "image/png": "[encoded data removed]",
      "text/plain": [
       "<Figure size 640x480 with 1 Axes>"
      ]
     },
     "metadata": {},
     "output_type": "display_data"
    }
   ],
   "source": [
    "plt.plot(history.history['loss'])\n",
    "plt.plot(history.history['val_loss'], '')\n",
    "plt.xlabel('Epochs')\n",
    "plt.ylabel('Loss')\n",
    "plt.legend(['loss', 'val_loss'])\n",
    "plt.show()"
   ]
  },
  {
   "cell_type": "markdown",
   "id": "24c90d04-5ca9-43d9-94b3-baf63d31444c",
   "metadata": {},
   "source": [
    "# Preference"
   ]
  },
  {
   "cell_type": "code",
   "execution_count": 14,
   "id": "ec43fd88-8d22-40cd-90a7-5b20dbe9dcc7",
   "metadata": {},
   "outputs": [
    {
     "name": "stderr",
     "output_type": "stream",
     "text": [
      "49997it [00:10, 4676.67it/s]\n"
     ]
    }
   ],
   "source": [
    "cls_model.evaluate(test_inputs, test_labels, batch_size=BATCH_SIZE)"
   ]
  },
  {
   "cell_type": "markdown",
   "id": "631b0f06-e3dd-4d41-9614-16466179e2f7",
   "metadata": {},
   "source": [
    "# Prediction"
   ]
  },
  {
   "cell_type": "markdown",
   "id": "95d2a5cf-a3e2-4b05-997f-475e21c94aa5",
   "metadata": {},
   "source": [
    "## 입력 텍스트"
   ]
  },
  {
   "cell_type": "code",
   "execution_count": 14,
   "id": "ade775db-f41b-4103-9ae3-5363f9ce0256",
   "metadata": {},
   "outputs": [],
   "source": [
    "text = \\\n",
    "'''\"항상 기록하고, 새로운 것을 두려워 하지 않는 개발자\"\n",
    "\n",
    "나날이 발전하는 개발 skill들 속에서 개발자에게 새로운 학습은 필수적입니다. 하지만 유튜브 영상, 논문과 같은 양질의 자료들을 단순히 기억 속에 남기거나, 실습을 한두번 하는 것만으로는 온전히 자기 것으로 만들지 못하고 시간이 지나면 잊혀질 것입니다. 따라서 저는 저의 성장을 기록해 이를 토대로 저의 부족한 점을 피드백 하는 등, 항상 성장하는 개발자를 목표로 하고 있습니다.\n",
    "\n",
    "대학생때 프로그래밍에 입문하고서부터 초보적인 부분이라도 제가 짠 코드를 기록하곤 하였습니다. 개발자는 글보다는 코드로 얘기한다고 생각해, 블로그보다는 github를 애용하였습니다. 다양한 알고리즘을 익히기 위해 백준 문제들을 풀고 이를 알고리즘 분류별로 github에 정리해 두곤 했습니다. Spring과 같은 웹 백엔드 skill들을 익히고 난 뒤 해커톤 등 팀 프로젝트 결과물 또한 github에 항상 기록하였습니다. 가끔 이를 되돌아보며 저의 행적에 대한 피드백과 앞으로 어떤 skill을 익혀야 하는지 계획을 수립해 새로운 성장을 도모하고 있습니다.\n",
    "\n",
    "지금까지도 여러 코드들을 기록해왔지만, 앞으로는 이론적인 부분 역시 기록할 생각입니다. velog와 같은 블로그에 업무와 관련된 이론적 사항, 개인적인 공부 등 다양한 글을 올려 후배 개발자들에게 도움이 되고, 선배 개발자들에게 피드백을 받아 모난 부분을 조금씩 개선시켜 나갈 생각입니다.\n",
    "만일 Naver 영화 서비스 개발 팀에 합류한다면 여러 선배 개발자 분들하고 다양한 영화 서비스 개발을 할 것 같습니다. 개발을 수행하면서 배워야 하는 skill, 코드 리뷰를 통해 배운 Clean Code 등 여러 사항을 기록해 나가면서 선배 개발자 분들처럼 끊임없이 성장하는 개발자가 되고 싶습니다.'''"
   ]
  },
  {
   "cell_type": "markdown",
   "id": "2d6d92b7-7a78-4304-944d-78747865c12f",
   "metadata": {},
   "source": [
    "## 입력 텍스트 전처리"
   ]
  },
  {
   "cell_type": "code",
   "execution_count": 15,
   "id": "d551e483-c5bd-4a2d-bfc5-e09d3d7a11a5",
   "metadata": {},
   "outputs": [],
   "source": [
    "from ReAIPreprocessor import Preprocessor"
   ]
  },
  {
   "cell_type": "code",
   "execution_count": null,
   "id": "02a4e9d8-fad8-4716-9341-a0d9fd8fa3a0",
   "metadata": {},
   "outputs": [],
   "source": [
    "predictions = model.predict(x_test[:3])"
   ]
  },
  {
   "cell_type": "code",
   "execution_count": null,
   "id": "3141f2fe-9fa4-4899-b57d-6c616977b07a",
   "metadata": {},
   "outputs": [],
   "source": [
    "for predict in predictions:\n",
    "    print(np.array(prediction).argmax())\n",
    "\n",
    "label = predictions[0].argmax()\n",
    "label\n",
    "confidence = predictions[0][predictions[0].argmax()]\n",
    "confidence\n",
    "# print(label, confidence) #"
   ]
  }
 ],
 "metadata": {
  "kernelspec": {
   "display_name": "NLP_Project",
   "language": "python",
   "name": "nlp_project"
  },
  "language_info": {
   "codemirror_mode": {
    "name": "ipython",
    "version": 3
   },
   "file_extension": ".py",
   "mimetype": "text/x-python",
   "name": "python",
   "nbconvert_exporter": "python",
   "pygments_lexer": "ipython3",
   "version": "3.8.10"
  }
 },
 "nbformat": 4,
 "nbformat_minor": 5
}
